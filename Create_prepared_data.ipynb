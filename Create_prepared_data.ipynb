{
 "cells": [
  {
   "cell_type": "code",
   "execution_count": 28,
   "metadata": {},
   "outputs": [],
   "source": [
    "from __future__ import division, print_function\n",
    "# отключим всякие предупреждения Anaconda\n",
    "import warnings\n",
    "warnings.filterwarnings(\"ignore\")\n",
    "import sklearn\n",
    "import pandas as pd\n",
    "import numpy as np\n",
    "\n",
    "\n",
    "pd.options.display.max_columns = 100\n",
    "pd.options.display.max_rows = 1000"
   ]
  },
  {
   "cell_type": "code",
   "execution_count": 29,
   "metadata": {},
   "outputs": [
    {
     "name": "stdout",
     "output_type": "stream",
     "text": [
      "(31091, 36)\n",
      "(628, 24)\n"
     ]
    }
   ],
   "source": [
    "dr = 'exp/prepared/'\n",
    "file_names = os.listdir(dr)\n",
    "\n",
    "def lowerstr(f):\n",
    "    for col in f:\n",
    "        if '№ партии' in col:\n",
    "            f['№ партии'] = f['№ партии'].apply(lambda x: str(x))            \n",
    "            f['№ партии'] = f['№ партии'].str.lower()\n",
    "        if '№ плавки' in col:\n",
    "            f['№ плавки'] = f['№ плавки'].str.lower()\n",
    "    return f\n",
    "\n",
    "\n",
    "df_modes = pd.read_excel('merge_table_mean_chem.xlsx')\n",
    "df_valid = pd.read_excel('valid_table_mean_chem.xlsx')\n",
    "table_stretching = pd.read_excel(dr+file_names[-2])\n",
    "table_stretching_valid = pd.read_excel(dr+file_names[-1])\n",
    "print(table_stretching.shape)\n",
    "print(table_stretching_valid.shape)\n",
    "table_stretching = lowerstr(table_stretching)\n",
    "table_stretching_valid = lowerstr(table_stretching_valid)\n",
    "df_valid['№ партии'] = df_valid['№ партии'].apply(lambda x: str(x).replace('.0', ''))"
   ]
  },
  {
   "cell_type": "code",
   "execution_count": 30,
   "metadata": {
    "collapsed": true
   },
   "outputs": [],
   "source": [
    "ls_all = [\n",
    "    'Поставщик',\n",
    "    'НД (гост, ту)',\n",
    "    'ГОСТ, ТУ',\n",
    "    'Дата форм. цехом',\n",
    "    'марка стали',\n",
    "    '№ плавки',\n",
    "    'кол-во, шт.',\n",
    "    '№ партии',\n",
    "    '1 зона по ВТР закалка', \n",
    "    '1 зона уставка закалка',\n",
    "    '1 зона фактическая температура закалка', \n",
    "    '2 зона по ВТР закалка',\n",
    "    '3 зона по ВТР закалка', \n",
    "    '3 зона уставка закалка',\n",
    "    '3 зона фактическая температура закалка',\n",
    "    'Температура трубы на выгрузке из печи закалки',\n",
    "    'Скорость прохождения трубы через спрейер, м/с',\n",
    "    't˚ C трубы после спреера', \n",
    "    'Расход воды на закалочный спрейер, м3',\n",
    "    'время выдержки в закалочной ванне, сек.',\n",
    "    't˚ C воды в закалочной ванне', \n",
    "    't˚ C трубы после ванны',\n",
    "    '1 зона ВТР и уставка отпуск', \n",
    "    '1 зона фактическая температура отпуск',\n",
    "    '2 зона ВТР и уставка отпуск', \n",
    "    '3 зона ВТР и уставка отпуск',\n",
    "    '3 зона фактическая температура отпуск', \n",
    "    '4 зона ВТР и уставка отпуск',\n",
    "    '5 зона ВТР и уставка отпуск', \n",
    "    '5 зона фактическая температура отпуск',\n",
    "    'Температура трубы на выгрузке из печи отпуска',\n",
    "    'шаг балок закалочная печь, сек', \n",
    "    'шаг балок отпускная печь, сек',\n",
    "    'диаметр', \n",
    "    'толщина стенки', \n",
    "    'C', \n",
    "    'Mn', \n",
    "    'Si', \n",
    "    'P', \n",
    "    'S',\n",
    "    'Cr', \n",
    "    'Ni', \n",
    "    'Cu', \n",
    "    'Al', \n",
    "    'V', \n",
    "    'Ti', \n",
    "    'Nb', \n",
    "    'Mo', \n",
    "    'N', \n",
    "    'Параметр',\n",
    "    'Тип предела текучести 0.2',\n",
    "    'Тип предела текучести 0.5',\n",
    "    'Тип предела текучести 0.6',\n",
    "    'C-coef',\n",
    "    'ICD'\n",
    "]"
   ]
  },
  {
   "cell_type": "code",
   "execution_count": 31,
   "metadata": {},
   "outputs": [
    {
     "data": {
      "text/plain": [
       "((30939, 81), (550, 58))"
      ]
     },
     "execution_count": 31,
     "metadata": {},
     "output_type": "execute_result"
    }
   ],
   "source": [
    "df_merge = pd.merge(df_modes, table_stretching, how ='left', on = ['№ плавки','№ партии'])\n",
    "df_merge_valid = pd.merge(df_valid, table_stretching_valid, how ='left', on = ['№ плавки','№ партии'])\n",
    "chem = {#'Mn': 0, 'Si': 0, \n",
    "#         'P': 0, \n",
    "#         'Cr': 0, 'Ni': 0, 'Cu': 0, 'Al': 0, 'V': 0, 'Mo': 0, \n",
    "        'Ti': 0, 'Nb': 0, 'N': 0.004, 'S': 0}\n",
    "\n",
    "df_merge = df_merge.fillna(value = chem)\n",
    "df_merge_valid = df_merge_valid.fillna(value = chem)\n",
    "df_merge.shape, df_merge_valid.shape"
   ]
  },
  {
   "cell_type": "code",
   "execution_count": 32,
   "metadata": {
    "collapsed": true
   },
   "outputs": [],
   "source": [
    "df_merge['Параметр закалка'] = 1/(1/(df_merge[['2 зона по ВТР закалка','3 зона по ВТР закалка']].mean(axis=1) \n",
    "                            + 273) - (2.303*1.986*np.log10(61*df_merge['шаг балок закалочная печь, сек']/3600)/110000))-273\n",
    "\n",
    "df_merge_valid['Параметр закалка'] = 1/(1/(df_merge_valid[['2 зона по ВТР закалка','3 зона по ВТР закалка']].mean(axis=1) \n",
    "                            + 273) - (2.303*1.986*np.log10(61*df_merge_valid['шаг балок закалочная печь, сек']/3600)/110000))-273"
   ]
  },
  {
   "cell_type": "code",
   "execution_count": 33,
   "metadata": {
    "collapsed": true
   },
   "outputs": [],
   "source": [
    "df_merge['Параметр отпуск'] = (df_merge[['2 зона ВТР и уставка отпуск','4 зона ВТР и уставка отпуск','5 зона ВТР и уставка отпуск']].mean(axis=1)\n",
    "                        + 273)*(20+np.log(94*df_merge['шаг балок отпускная печь, сек']/3600))*1e-3\n",
    "\n",
    "df_merge_valid['Параметр отпуск'] = (df_merge_valid[['2 зона ВТР и уставка отпуск','4 зона ВТР и уставка отпуск','5 зона ВТР и уставка отпуск']].mean(axis=1)\n",
    "                        + 273)*(20+np.log(94*df_merge_valid['шаг балок отпускная печь, сек']/3600))*1e-3"
   ]
  },
  {
   "cell_type": "code",
   "execution_count": 34,
   "metadata": {
    "collapsed": true
   },
   "outputs": [],
   "source": [
    "df_merge['Тип предела текучести (1186)'] = df_merge['Тип предела текучести (1186)'].apply(lambda x: str(x))\n",
    "df_merge_valid['Тип предела текучести (1186)'] = df_merge_valid['Тип предела текучести (1186)'].apply(lambda x: str(x))"
   ]
  },
  {
   "cell_type": "code",
   "execution_count": 35,
   "metadata": {
    "collapsed": true
   },
   "outputs": [],
   "source": [
    "df_merge['Врем. сопротивление'] = df_merge['Врем. сопротивление'].apply(lambda x: str(x))\n",
    "df_merge['Предел текучести'] = df_merge['Предел текучести'].apply(lambda x: str(x))\n",
    "df_merge['t˚ C трубы после спреера'] = df_merge['t˚ C трубы после спреера'].apply(lambda x: str(x))\n",
    "df_merge_valid['Врем. сопротивление'] = df_merge_valid['Врем. сопротивление'].apply(lambda x: str(x))\n",
    "df_merge_valid['Предел текучести'] = df_merge_valid['Предел текучести'].apply(lambda x: str(x))\n",
    "df_merge_valid['t˚ C трубы после спреера'] = df_merge_valid['t˚ C трубы после спреера'].apply(lambda x: str(x))"
   ]
  },
  {
   "cell_type": "code",
   "execution_count": 36,
   "metadata": {
    "collapsed": true
   },
   "outputs": [],
   "source": [
    "ls_type_4 = [\n",
    "    'Тип предела текучести 0.2',\n",
    "    'Тип предела текучести 0.5',\n",
    "    'Тип предела текучести 0.6',\n",
    "    'del'\n",
    "]\n",
    "\n",
    "ls_type_3 = [\n",
    "    'Тип предела текучести 0.2',\n",
    "    'Тип предела текучести 0.5',\n",
    "    'del'\n",
    "]\n",
    "df_merge[ls_type_4] = pd.get_dummies(df_merge['Тип предела текучести (1186)'])\n",
    "df_merge_valid[ls_type_3] = pd.get_dummies(df_merge_valid['Тип предела текучести (1186)'])"
   ]
  },
  {
   "cell_type": "code",
   "execution_count": 37,
   "metadata": {
    "collapsed": true
   },
   "outputs": [],
   "source": [
    "df_merge = df_merge.reset_index(drop=True)\n",
    "df_merge_valid = df_merge_valid.reset_index(drop=True)"
   ]
  },
  {
   "cell_type": "code",
   "execution_count": 38,
   "metadata": {
    "collapsed": true
   },
   "outputs": [],
   "source": [
    "df_merge = df_merge[df_merge['Cr'] < 10]\n",
    "df_merge_valid = df_merge_valid[df_merge_valid['Cr'] < 10]"
   ]
  },
  {
   "cell_type": "code",
   "execution_count": 39,
   "metadata": {
    "collapsed": true
   },
   "outputs": [],
   "source": [
    "df_merge['C-coef'] = ((df_merge['C'] + df_merge['Mn'])/6.0 + (df_merge['Cr'] + df_merge['Mo'] + df_merge['V'])/5.0 +\n",
    "                        (df_merge['Ni'] + df_merge['Cu'])/15.0)\n",
    "df_merge_valid['C-coef'] = ((df_merge_valid['C'] + df_merge_valid['Mn'])/6.0 + (df_merge_valid['Cr'] + df_merge_valid['Mo'] + df_merge_valid['V'])/5.0 +\n",
    "                        (df_merge_valid['Ni'] + df_merge_valid['Cu'])/15.0)"
   ]
  },
  {
   "cell_type": "code",
   "execution_count": 40,
   "metadata": {
    "collapsed": true
   },
   "outputs": [],
   "source": [
    "def ideal_critical_d(df):\n",
    "    for x in df['C']:\n",
    "        if x <= 0.39:\n",
    "            coef1 = 0.54*x\n",
    "        else:\n",
    "            coef1 = 0.171+0.001*x+0.265*x*x\n",
    "    for x in df['Mn']:\n",
    "        if x <= 1.2:\n",
    "            coef2 = 3.3333*x+1\n",
    "        else:\n",
    "            coef2 = 5.1*x-1.12\n",
    "    result = coef1*coef2*(1+0.7*df['Si'])*(1+0.363*df['Ni'])*(1+2.16*df['Cr'])*(\n",
    "            1+3.0*df['Mo'])*(1+0.365*df['Cu'])*(1+1.73*df['V'])\n",
    "    df['ICD'] = result\n",
    "    return df['ICD']"
   ]
  },
  {
   "cell_type": "code",
   "execution_count": 41,
   "metadata": {
    "collapsed": true
   },
   "outputs": [],
   "source": [
    "df_merge['ICD'] = ideal_critical_d(df_merge)\n",
    "df_merge_valid['ICD'] = ideal_critical_d(df_merge_valid)"
   ]
  },
  {
   "cell_type": "code",
   "execution_count": 42,
   "metadata": {
    "scrolled": true
   },
   "outputs": [
    {
     "data": {
      "text/plain": [
       "((30824, 89), (549, 65))"
      ]
     },
     "execution_count": 42,
     "metadata": {},
     "output_type": "execute_result"
    }
   ],
   "source": [
    "df_merge.shape, df_merge_valid.shape"
   ]
  },
  {
   "cell_type": "code",
   "execution_count": 43,
   "metadata": {},
   "outputs": [],
   "source": [
    "df_merge = df_merge[df_merge['Тип предела текучести 0.2'] == 1]\n",
    "\n",
    "df_merge_valid = df_merge_valid[df_merge_valid['Тип предела текучести 0.2'] == 1]"
   ]
  },
  {
   "cell_type": "code",
   "execution_count": 44,
   "metadata": {},
   "outputs": [
    {
     "data": {
      "text/plain": [
       "((14266, 89), (305, 65))"
      ]
     },
     "execution_count": 44,
     "metadata": {},
     "output_type": "execute_result"
    }
   ],
   "source": [
    "df_merge.shape, df_merge_valid.shape"
   ]
  },
  {
   "cell_type": "code",
   "execution_count": 45,
   "metadata": {},
   "outputs": [
    {
     "data": {
      "text/plain": [
       "(14124, 89)"
      ]
     },
     "execution_count": 45,
     "metadata": {},
     "output_type": "execute_result"
    }
   ],
   "source": [
    "def th2f(x):\n",
    "    if x=='73.02*5.51':\n",
    "        return 5.51\n",
    "    if (x==' ') | (x==''):\n",
    "        return None\n",
    "    return float(x)\n",
    "# tmp_modes[tmp_modes[['№ плавки', '№ партии']].duplicated(keep = False)].sort_values('№ партии')\n",
    "df_merge['толщина стенки'] = df_merge['толщина стенки'].apply(th2f)\n",
    "df_merge = df_merge.groupby(['№ плавки', '№ партии']).first()\n",
    "df_merge = df_merge.reset_index()\n",
    "df_merge.shape"
   ]
  },
  {
   "cell_type": "code",
   "execution_count": 46,
   "metadata": {
    "collapsed": true
   },
   "outputs": [],
   "source": [
    "df_merge.to_excel('prepared_hard.xlsx')\n",
    "df_merge_valid.to_excel('prepared_hard_valid.xlsx')"
   ]
  }
 ],
 "metadata": {
  "kernelspec": {
   "display_name": "Python 3",
   "language": "python",
   "name": "python3"
  },
  "language_info": {
   "codemirror_mode": {
    "name": "ipython",
    "version": 3
   },
   "file_extension": ".py",
   "mimetype": "text/x-python",
   "name": "python",
   "nbconvert_exporter": "python",
   "pygments_lexer": "ipython3",
   "version": "3.6.3"
  }
 },
 "nbformat": 4,
 "nbformat_minor": 2
}
