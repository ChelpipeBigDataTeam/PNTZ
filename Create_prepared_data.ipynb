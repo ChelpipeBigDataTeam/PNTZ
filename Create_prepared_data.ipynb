{
 "cells": [
  {
   "cell_type": "code",
   "execution_count": 21,
   "metadata": {
    "collapsed": true
   },
   "outputs": [],
   "source": [
    "def ideal_critical_d(df):\n",
    "    \"\"\"Считает идеальный критический диаметр, возвращает датафрейм с добавленным признаком\"\"\"\n",
    "    for x in df['C']:\n",
    "        if x <= 0.39:\n",
    "            coef1 = 0.54*x\n",
    "        else:\n",
    "            coef1 = 0.171+0.001*x+0.265*x*x\n",
    "    for x in df['Mn']:\n",
    "        if x <= 1.2:\n",
    "            coef2 = 3.3333*x+1\n",
    "        else:\n",
    "            coef2 = 5.1*x-1.12\n",
    "    result = coef1*coef2*(1+0.7*df['Si'])*(1+0.363*df['Ni'])*(1+2.16*df['Cr'])*(\n",
    "            1+3.0*df['Mo'])*(1+0.365*df['Cu'])*(1+1.73*df['V'])\n",
    "    df['ICD'] = result\n",
    "    return df"
   ]
  },
  {
   "cell_type": "code",
   "execution_count": 22,
   "metadata": {
    "collapsed": true
   },
   "outputs": [],
   "source": [
    "def calc_C_coef(df):\n",
    "    \"\"\"Считает углеродный коэффициент, возвращает датафрейм с добавленным признаком\"\"\"\n",
    "    df['C-coef'] = ((df['C'] + df['Mn'])/6.0 + (df['Cr'] + df['Mo'] + df['V'])/5.0 +\n",
    "                        (df['Ni'] + df['Cu'])/15.0)\n",
    "    return df"
   ]
  },
  {
   "cell_type": "code",
   "execution_count": 23,
   "metadata": {
    "collapsed": true
   },
   "outputs": [],
   "source": [
    "def calc_quenching_param(df):\n",
    "    \"\"\"Считает параметр закалки, возвращает датафрейм с добавленным признаком\"\"\"\n",
    "    df['Параметр закалка'] = 1/(1/(df[['2 зона по ВТР закалка','3 зона по ВТР закалка']].mean(axis=1) \n",
    "                            + 273) - (2.303*1.986*np.log10(61*df['шаг балок закалочная печь, сек']/3600)/110000))-273\n",
    "    return df"
   ]
  },
  {
   "cell_type": "code",
   "execution_count": 24,
   "metadata": {},
   "outputs": [],
   "source": [
    "def calc_tempering_param(df):\n",
    "    \"\"\"Считает параметр отпуска, возвращает датафрейм с добавленным признаком\"\"\"\n",
    "    df['Параметр отпуск'] = (df[['2 зона ВТР и уставка отпуск','4 зона ВТР и уставка отпуск','5 зона ВТР и уставка отпуск']].mean(axis=1)\n",
    "                        + 273)*(20+np.log(94*df['шаг балок отпускная печь, сек']/3600))*1e-3\n",
    "    return df"
   ]
  },
  {
   "cell_type": "code",
   "execution_count": 25,
   "metadata": {
    "collapsed": true
   },
   "outputs": [],
   "source": [
    "def calc_all_features(df):\n",
    "    \"\"\"Считает и добавляет все необходимые признаки в датафрейм\"\"\"\n",
    "    df = ideal_critical_d(df)\n",
    "    df = calc_C_coef(df)\n",
    "    df = calc_quenching_param(df)\n",
    "    df = calc_tempering_param(df)\n",
    "    return df"
   ]
  },
  {
   "cell_type": "code",
   "execution_count": 26,
   "metadata": {
    "collapsed": true
   },
   "outputs": [],
   "source": [
    "def lowerstr(f):\n",
    "    \"\"\"Приводим все символы в номерах партий к нижнему регистру\"\"\"\n",
    "    for col in f:\n",
    "        if '№ партии' in col:\n",
    "            f['№ партии'] = f['№ партии'].apply(lambda x: str(x))            \n",
    "            f['№ партии'] = f['№ партии'].str.lower()\n",
    "        if '№ плавки' in col:\n",
    "            f['№ плавки'] = f['№ плавки'].str.lower()\n",
    "    return f"
   ]
  },
  {
   "cell_type": "code",
   "execution_count": 27,
   "metadata": {
    "collapsed": true
   },
   "outputs": [],
   "source": [
    "def make_prepared(df, exp_df, chem):\n",
    "    \"\"\"Подготавливает датафрейм\"\"\"\n",
    "#     обединяем испытания с режимами и химией\n",
    "    df_merge = pd.merge(exp_df, df, how ='left', on = ['№ плавки','№ партии'])\n",
    "#     заполняем пустую химию средней (или нулями)\n",
    "    df_merge = df_merge.fillna(value = chem)\n",
    "#     удаляем строки без режимов\n",
    "    df_merge = df_merge[~pd.isnull(df_merge['C'])]\n",
    "#     добавляем рассчитаные признаки\n",
    "    df_merge = calc_all_features(df_merge)\n",
    "    df_merge = df_merge[df_merge['Cr'] < 10]\n",
    "    df_merge.reset_index(drop=True, inplace=True)\n",
    "    print(df_merge.shape)\n",
    "    return df_merge"
   ]
  },
  {
   "cell_type": "code",
   "execution_count": 28,
   "metadata": {
    "collapsed": true
   },
   "outputs": [],
   "source": [
    "from __future__ import division, print_function\n",
    "# отключим всякие предупреждения Anaconda\n",
    "import warnings\n",
    "# warnings.filterwarnings(\"ignore\")\n",
    "import sklearn\n",
    "import pandas as pd\n",
    "import numpy as np\n",
    "import os\n",
    "\n",
    "pd.options.display.max_columns = 100\n",
    "pd.options.display.max_rows = 1000"
   ]
  },
  {
   "cell_type": "code",
   "execution_count": 29,
   "metadata": {},
   "outputs": [
    {
     "name": "stdout",
     "output_type": "stream",
     "text": [
      "(16185, 5)\n"
     ]
    }
   ],
   "source": [
    "df_modes = pd.read_excel('merge_table_mean_chem.xlsx')\n",
    "df_valid = pd.read_excel('valid_table_mean_chem.xlsx')\n",
    "table_stretching = pd.read_excel('table_stretching_13april.xlsx')\n",
    "table_stretching = lowerstr(table_stretching)\n",
    "df_valid['№ партии'] = df_valid['№ партии'].apply(lambda x: str(x).replace('.0', ''))\n",
    "print(table_stretching.shape)"
   ]
  },
  {
   "cell_type": "code",
   "execution_count": 30,
   "metadata": {
    "collapsed": true
   },
   "outputs": [],
   "source": [
    "ls_all = [\n",
    "    'Поставщик',\n",
    "    'НД (гост, ту)',\n",
    "    'ГОСТ, ТУ',\n",
    "    'Дата форм. цехом',\n",
    "    'марка стали',\n",
    "    '№ плавки',\n",
    "    'кол-во, шт.',\n",
    "    '№ партии',\n",
    "    '1 зона по ВТР закалка', \n",
    "    '1 зона уставка закалка',\n",
    "    '1 зона фактическая температура закалка', \n",
    "    '2 зона по ВТР закалка',\n",
    "    '3 зона по ВТР закалка', \n",
    "    '3 зона уставка закалка',\n",
    "    '3 зона фактическая температура закалка',\n",
    "    'Температура трубы на выгрузке из печи закалки',\n",
    "    'Скорость прохождения трубы через спрейер, м/с',\n",
    "    't˚ C трубы после спреера', \n",
    "    'Расход воды на закалочный спрейер, м3',\n",
    "    'время выдержки в закалочной ванне, сек.',\n",
    "    't˚ C воды в закалочной ванне', \n",
    "    't˚ C трубы после ванны',\n",
    "    '1 зона ВТР и уставка отпуск', \n",
    "    '1 зона фактическая температура отпуск',\n",
    "    '2 зона ВТР и уставка отпуск', \n",
    "    '3 зона ВТР и уставка отпуск',\n",
    "    '3 зона фактическая температура отпуск', \n",
    "    '4 зона ВТР и уставка отпуск',\n",
    "    '5 зона ВТР и уставка отпуск', \n",
    "    '5 зона фактическая температура отпуск',\n",
    "    'Температура трубы на выгрузке из печи отпуска',\n",
    "    'шаг балок закалочная печь, сек', \n",
    "    'шаг балок отпускная печь, сек',\n",
    "    'диаметр', \n",
    "    'толщина стенки', \n",
    "    'C', \n",
    "    'Mn', \n",
    "    'Si', \n",
    "    'P', \n",
    "    'S',\n",
    "    'Cr', \n",
    "    'Ni', \n",
    "    'Cu', \n",
    "    'Al', \n",
    "    'V', \n",
    "    'Ti', \n",
    "    'Nb', \n",
    "    'Mo', \n",
    "    'N', \n",
    "    'Параметр',\n",
    "    'C-coef',\n",
    "    'ICD'\n",
    "]\n",
    "\n",
    "chem = {#'Mn': 0, 'Si': 0, \n",
    "#         'P': 0, \n",
    "#         'Cr': 0, 'Ni': 0, 'Cu': 0, 'Al': 0, \n",
    "    'V': 0, \n",
    "    'Mo': 0, \n",
    "        'Ti': 0, 'Nb': 0, 'N': 0.004, 'S': 0}\n"
   ]
  },
  {
   "cell_type": "code",
   "execution_count": 31,
   "metadata": {},
   "outputs": [
    {
     "name": "stdout",
     "output_type": "stream",
     "text": [
      "(6517, 54)\n",
      "(228, 43)\n"
     ]
    }
   ],
   "source": [
    "df_merge = make_prepared(df_modes, table_stretching, chem)\n",
    "df_merge_valid = make_prepared(df_valid, table_stretching, chem)"
   ]
  },
  {
   "cell_type": "code",
   "execution_count": 32,
   "metadata": {
    "collapsed": true
   },
   "outputs": [],
   "source": [
    "df_merge.to_excel('prepared_hard.xlsx')\n",
    "df_merge_valid.to_excel('prepared_hard_valid.xlsx')"
   ]
  }
 ],
 "metadata": {
  "kernelspec": {
   "display_name": "Python 3",
   "language": "python",
   "name": "python3"
  },
  "language_info": {
   "codemirror_mode": {
    "name": "ipython",
    "version": 3
   },
   "file_extension": ".py",
   "mimetype": "text/x-python",
   "name": "python",
   "nbconvert_exporter": "python",
   "pygments_lexer": "ipython3",
   "version": "3.6.4"
  }
 },
 "nbformat": 4,
 "nbformat_minor": 2
}
