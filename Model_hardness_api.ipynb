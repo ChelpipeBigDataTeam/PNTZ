{
 "cells": [
  {
   "cell_type": "markdown",
   "metadata": {},
   "source": [
    "# Загрузка"
   ]
  },
  {
   "cell_type": "code",
   "execution_count": 19,
   "metadata": {},
   "outputs": [],
   "source": [
    "target = df_hardness.columns[-3:]"
   ]
  },
  {
   "cell_type": "code",
   "execution_count": 228,
   "metadata": {
    "collapsed": true
   },
   "outputs": [],
   "source": [
    "ls_columns_output = [\n",
    "#     '№ партии',\n",
    "#     '№ плавки',\n",
    "    'марка стали',\n",
    "    'диаметр',\n",
    "    'толщина стенки',\n",
    "    'Гр. прочн.',\n",
    "    '1 зона по ВТР закалка',\n",
    "    '2 зона по ВТР закалка',\n",
    "    '3 зона по ВТР закалка',\n",
    "    'шаг балок закалочная печь, сек',\n",
    "    'Скорость прохождения трубы через спрейер, м/с', \n",
    "    't˚ C трубы после спреера',\n",
    "    '1 зона ВТР и уставка отпуск', \n",
    "    '2 зона ВТР и уставка отпуск', \n",
    "    '3 зона ВТР и уставка отпуск',\n",
    "    '4 зона ВТР и уставка отпуск',\n",
    "    '5 зона ВТР и уставка отпуск',\n",
    "    'шаг балок отпускная печь, сек',\n",
    "    'C',\n",
    "    'Mn',\n",
    "    'Si',\n",
    "    'P',\n",
    "    'S',\n",
    "    'Cr',\n",
    "    'Ni',\n",
    "    'Cu',\n",
    "    'Al',\n",
    "    'V',\n",
    "    'Ti',\n",
    "    'Nb',\n",
    "    'Mo',\n",
    "    'N',\n",
    "    'B',\n",
    "    'C-coef',\n",
    "    'Параметр закалка',\n",
    "    'Параметр отпуск',\n",
    "    'Параметр отпуск новый V',\n",
    "    'Величина зерна',\n",
    "    'Тип предела текучести (1186)',\n",
    "#     'Дата термообработки',\n",
    "    'ICD',\n",
    "#     'Примечание',\n",
    "    'длина трубы',\n",
    "    'Предел текучести',\n",
    "    'Врем. сопротивление'\n",
    "    ]"
   ]
  },
  {
   "cell_type": "code",
   "execution_count": 229,
   "metadata": {},
   "outputs": [],
   "source": [
    "import pandas as pd\n",
    "import numpy as np\n",
    "import import_ipynb\n",
    "from my_libs.calc_features import *\n",
    "import random\n",
    "from datetime import datetime"
   ]
  },
  {
   "cell_type": "code",
   "execution_count": 230,
   "metadata": {
    "collapsed": true
   },
   "outputs": [],
   "source": [
    "pd.options.display.max_columns = 500\n",
    "pd.options.display.max_rows = 1000"
   ]
  },
  {
   "cell_type": "code",
   "execution_count": 231,
   "metadata": {
    "collapsed": true
   },
   "outputs": [],
   "source": [
    "import seaborn as sns\n",
    "import matplotlib.pyplot as plt\n",
    "%matplotlib inline"
   ]
  },
  {
   "cell_type": "code",
   "execution_count": 232,
   "metadata": {
    "scrolled": true
   },
   "outputs": [],
   "source": [
    "from sklearn.metrics import mean_absolute_error, mean_squared_error, r2_score, matthews_corrcoef, median_absolute_error\n",
    "from sklearn.linear_model import LinearRegression\n",
    "from sklearn.svm import LinearSVR\n",
    "from sklearn.tree import DecisionTreeRegressor\n",
    "from sklearn.ensemble import RandomForestRegressor, BaggingRegressor, ExtraTreesRegressor\n",
    "from sklearn.model_selection import cross_val_score, StratifiedKFold, cross_val_predict, cross_validate, train_test_split, GridSearchCV\n",
    "from sklearn import model_selection\n",
    "import matplotlib.pyplot as plt\n",
    "import os\n",
    "from time import time\n",
    "from datetime import datetime\n",
    "from my_libs.save_lib import save_RF_model\n",
    "from scipy.stats.stats import pearsonr"
   ]
  },
  {
   "cell_type": "code",
   "execution_count": 317,
   "metadata": {
    "collapsed": true,
    "scrolled": true
   },
   "outputs": [],
   "source": [
    "df = pd.read_csv('DATA/prepared/prepared_to_saw_gp.csv', low_memory=False)"
   ]
  },
  {
   "cell_type": "code",
   "execution_count": 318,
   "metadata": {
    "collapsed": true
   },
   "outputs": [],
   "source": [
    "df_hardness = pd.read_excel('DATA/source/exp/prepared/table_hardness_api.xlsx')"
   ]
  },
  {
   "cell_type": "code",
   "execution_count": 319,
   "metadata": {},
   "outputs": [
    {
     "data": {
      "text/plain": [
       "Index(['Число твердости на середине поверхности (1148)',\n",
       "       'Число твердости на внутренней поверхности (1149)',\n",
       "       'Число твердости у наружной поверхности (1147)'],\n",
       "      dtype='object')"
      ]
     },
     "execution_count": 319,
     "metadata": {},
     "output_type": "execute_result"
    }
   ],
   "source": [
    "df_hardness.columns[-3:]"
   ]
  },
  {
   "cell_type": "code",
   "execution_count": 320,
   "metadata": {},
   "outputs": [
    {
     "data": {
      "text/plain": [
       "['№ плавки',\n",
       " '№ партии',\n",
       " 'Число твердости на середине поверхности (1148)',\n",
       " 'Число твердости на внутренней поверхности (1149)',\n",
       " 'Число твердости у наружной поверхности (1147)']"
      ]
     },
     "execution_count": 320,
     "metadata": {},
     "output_type": "execute_result"
    }
   ],
   "source": [
    "['№ плавки', '№ партии'] + list(df_hardness.columns[-3:])"
   ]
  },
  {
   "cell_type": "code",
   "execution_count": 321,
   "metadata": {
    "collapsed": true
   },
   "outputs": [],
   "source": [
    "df_hardness = df_hardness[['№ плавки', '№ партии'] + list(df_hardness.columns[-3:])]"
   ]
  },
  {
   "cell_type": "code",
   "execution_count": 322,
   "metadata": {},
   "outputs": [
    {
     "data": {
      "text/plain": [
       "(3090, 5)"
      ]
     },
     "execution_count": 322,
     "metadata": {},
     "output_type": "execute_result"
    }
   ],
   "source": [
    "df_hardness.shape"
   ]
  },
  {
   "cell_type": "code",
   "execution_count": 323,
   "metadata": {
    "collapsed": true
   },
   "outputs": [],
   "source": [
    "df_hardness = df_hardness.groupby(['№ плавки', '№ партии'])[list(df_hardness.columns[-3:])].mean()"
   ]
  },
  {
   "cell_type": "code",
   "execution_count": 324,
   "metadata": {
    "collapsed": true
   },
   "outputs": [],
   "source": [
    "df_hardness = pd.DataFrame(df_hardness)"
   ]
  },
  {
   "cell_type": "code",
   "execution_count": 325,
   "metadata": {
    "collapsed": true
   },
   "outputs": [],
   "source": [
    "df_hardness.reset_index(inplace=True)"
   ]
  },
  {
   "cell_type": "code",
   "execution_count": 326,
   "metadata": {},
   "outputs": [
    {
     "data": {
      "text/plain": [
       "(3089, 5)"
      ]
     },
     "execution_count": 326,
     "metadata": {},
     "output_type": "execute_result"
    }
   ],
   "source": [
    "df_hardness.shape"
   ]
  },
  {
   "cell_type": "code",
   "execution_count": 327,
   "metadata": {
    "collapsed": true
   },
   "outputs": [],
   "source": [
    "df_hardness['№ плавки'] = df_hardness['№ плавки'].astype(str)\n",
    "df_hardness['№ плавки'] = df_hardness['№ плавки'].apply(lambda x: x.lower())\n",
    "df_hardness['№ партии'] = df_hardness['№ партии'].astype(str)\n",
    "df['№ плавки'] = df['№ плавки'].astype(str)\n",
    "df['№ плавки'] = df['№ плавки'].apply(lambda x: x.lower())\n",
    "df['№ партии'] = df['№ партии'].astype(str)"
   ]
  },
  {
   "cell_type": "code",
   "execution_count": 328,
   "metadata": {},
   "outputs": [
    {
     "data": {
      "text/plain": [
       "(24503, 204)"
      ]
     },
     "execution_count": 328,
     "metadata": {},
     "output_type": "execute_result"
    }
   ],
   "source": [
    "df_ = pd.merge(df, df_hardness, on=['№ плавки', '№ партии'], how='left')\n",
    "df_.shape"
   ]
  },
  {
   "cell_type": "code",
   "execution_count": 329,
   "metadata": {
    "collapsed": true
   },
   "outputs": [],
   "source": [
    "def bath2spr(df):\n",
    "    L = 8.4\n",
    "    df['Скорость прохождения трубы через спрейер, м/с'] = L/df['время выдержки в закалочной ванне, сек.']\n",
    "    df['t˚ C трубы после спреера'] = df['t˚ C трубы после ванны']\n",
    "    return df"
   ]
  },
  {
   "cell_type": "code",
   "execution_count": 330,
   "metadata": {
    "collapsed": true
   },
   "outputs": [],
   "source": [
    "bath = df_[~df_['время выдержки в закалочной ванне, сек.'].isnull()].copy()\n",
    "df_ = df_[df_['время выдержки в закалочной ванне, сек.'].isnull()].copy()\n",
    "\n",
    "\n",
    "bath = bath2spr(bath)\n",
    "\n",
    "df = pd.concat([df_, bath])\n",
    "df.reset_index(inplace=True, drop=True)"
   ]
  },
  {
   "cell_type": "code",
   "execution_count": 331,
   "metadata": {},
   "outputs": [
    {
     "data": {
      "text/plain": [
       "(24503, 204)"
      ]
     },
     "execution_count": 331,
     "metadata": {},
     "output_type": "execute_result"
    }
   ],
   "source": [
    "df.shape"
   ]
  },
  {
   "cell_type": "code",
   "execution_count": 332,
   "metadata": {},
   "outputs": [],
   "source": [
    "df = len_pipe(df)\n",
    "\n",
    "df = mean_chem(df)\n",
    "\n",
    "df = calc_all_features(df)"
   ]
  },
  {
   "cell_type": "code",
   "execution_count": 333,
   "metadata": {
    "collapsed": true
   },
   "outputs": [],
   "source": [
    "df = df[df['шаг балок закалочная печь, сек'] < 100]\n",
    "df = df[df['шаг балок закалочная печь, сек'] >= 24]\n",
    "df = df[df['шаг балок отпускная печь, сек'] >= 24]\n",
    "df = df[df['Скорость прохождения трубы через спрейер, м/с'] <= 1]\n",
    "df = df[df['t˚ C трубы после спреера'] > 1]\n",
    "df = df[df['t˚ C трубы после спреера'] <= 250]\n",
    "df = df[df['2 зона ВТР и уставка отпуск'] > 400]\n",
    "df = df[df['4 зона ВТР и уставка отпуск'] > 400]"
   ]
  },
  {
   "cell_type": "code",
   "execution_count": 334,
   "metadata": {
    "scrolled": false
   },
   "outputs": [
    {
     "data": {
      "text/plain": [
       "(23716, 205)"
      ]
     },
     "execution_count": 334,
     "metadata": {},
     "output_type": "execute_result"
    }
   ],
   "source": [
    "df.shape"
   ]
  },
  {
   "cell_type": "code",
   "execution_count": 335,
   "metadata": {
    "collapsed": true
   },
   "outputs": [],
   "source": [
    "df['Дата термообработки'] = df['Дата термообработки'].apply(lambda x: str(x).replace(' 00:00:00', ''))\n",
    "df['Дата термообработки'] = df['Дата термообработки'].apply(lambda x: str(x).replace('-', '.'))"
   ]
  },
  {
   "cell_type": "code",
   "execution_count": 336,
   "metadata": {},
   "outputs": [
    {
     "data": {
      "text/plain": [
       "array([[<matplotlib.axes._subplots.AxesSubplot object at 0x000000000D0C4A58>,\n",
       "        <matplotlib.axes._subplots.AxesSubplot object at 0x000000000CFCF5C0>],\n",
       "       [<matplotlib.axes._subplots.AxesSubplot object at 0x00000000134F66A0>,\n",
       "        <matplotlib.axes._subplots.AxesSubplot object at 0x0000000013B6AF98>]],\n",
       "      dtype=object)"
      ]
     },
     "execution_count": 336,
     "metadata": {},
     "output_type": "execute_result"
    },
    {
     "data": {
      "image/png": "[encoded data removed]",
      "text/plain": [
       "<Figure size 432x288 with 4 Axes>"
      ]
     },
     "metadata": {},
     "output_type": "display_data"
    }
   ],
   "source": [
    "df[target].hist()"
   ]
  },
  {
   "cell_type": "code",
   "execution_count": 337,
   "metadata": {
    "scrolled": false
   },
   "outputs": [
    {
     "data": {
      "text/html": [
       "<div>\n",
       "<style scoped>\n",
       "    .dataframe tbody tr th:only-of-type {\n",
       "        vertical-align: middle;\n",
       "    }\n",
       "\n",
       "    .dataframe tbody tr th {\n",
       "        vertical-align: top;\n",
       "    }\n",
       "\n",
       "    .dataframe thead th {\n",
       "        text-align: right;\n",
       "    }\n",
       "</style>\n",
       "<table border=\"1\" class=\"dataframe\">\n",
       "  <thead>\n",
       "    <tr style=\"text-align: right;\">\n",
       "      <th></th>\n",
       "      <th>Число твердости на середине поверхности (1148)</th>\n",
       "      <th>Число твердости на внутренней поверхности (1149)</th>\n",
       "      <th>Число твердости у наружной поверхности (1147)</th>\n",
       "    </tr>\n",
       "  </thead>\n",
       "  <tbody>\n",
       "    <tr>\n",
       "      <th>count</th>\n",
       "      <td>1231.000000</td>\n",
       "      <td>390.000000</td>\n",
       "      <td>396.000000</td>\n",
       "    </tr>\n",
       "    <tr>\n",
       "      <th>mean</th>\n",
       "      <td>15.410317</td>\n",
       "      <td>17.558462</td>\n",
       "      <td>1140.664899</td>\n",
       "    </tr>\n",
       "    <tr>\n",
       "      <th>std</th>\n",
       "      <td>5.701051</td>\n",
       "      <td>7.825607</td>\n",
       "      <td>22159.867019</td>\n",
       "    </tr>\n",
       "    <tr>\n",
       "      <th>min</th>\n",
       "      <td>2.500000</td>\n",
       "      <td>7.000000</td>\n",
       "      <td>6.000000</td>\n",
       "    </tr>\n",
       "    <tr>\n",
       "      <th>25%</th>\n",
       "      <td>13.500000</td>\n",
       "      <td>16.000000</td>\n",
       "      <td>15.500000</td>\n",
       "    </tr>\n",
       "    <tr>\n",
       "      <th>50%</th>\n",
       "      <td>16.000000</td>\n",
       "      <td>17.750000</td>\n",
       "      <td>18.000000</td>\n",
       "    </tr>\n",
       "    <tr>\n",
       "      <th>75%</th>\n",
       "      <td>18.000000</td>\n",
       "      <td>19.000000</td>\n",
       "      <td>19.925000</td>\n",
       "    </tr>\n",
       "    <tr>\n",
       "      <th>max</th>\n",
       "      <td>158.700000</td>\n",
       "      <td>160.100000</td>\n",
       "      <td>440995.000000</td>\n",
       "    </tr>\n",
       "  </tbody>\n",
       "</table>\n",
       "</div>"
      ],
      "text/plain": [
       "       Число твердости на середине поверхности (1148)  \\\n",
       "count                                     1231.000000   \n",
       "mean                                        15.410317   \n",
       "std                                          5.701051   \n",
       "min                                          2.500000   \n",
       "25%                                         13.500000   \n",
       "50%                                         16.000000   \n",
       "75%                                         18.000000   \n",
       "max                                        158.700000   \n",
       "\n",
       "       Число твердости на внутренней поверхности (1149)  \\\n",
       "count                                        390.000000   \n",
       "mean                                          17.558462   \n",
       "std                                            7.825607   \n",
       "min                                            7.000000   \n",
       "25%                                           16.000000   \n",
       "50%                                           17.750000   \n",
       "75%                                           19.000000   \n",
       "max                                          160.100000   \n",
       "\n",
       "       Число твердости у наружной поверхности (1147)  \n",
       "count                                     396.000000  \n",
       "mean                                     1140.664899  \n",
       "std                                     22159.867019  \n",
       "min                                         6.000000  \n",
       "25%                                        15.500000  \n",
       "50%                                        18.000000  \n",
       "75%                                        19.925000  \n",
       "max                                    440995.000000  "
      ]
     },
     "execution_count": 337,
     "metadata": {},
     "output_type": "execute_result"
    }
   ],
   "source": [
    "df[target].describe()"
   ]
  },
  {
   "cell_type": "code",
   "execution_count": 673,
   "metadata": {},
   "outputs": [
    {
     "data": {
      "text/plain": [
       "Index(['Число твердости на середине поверхности (1148)',\n",
       "       'Число твердости на внутренней поверхности (1149)',\n",
       "       'Число твердости у наружной поверхности (1147)'],\n",
       "      dtype='object')"
      ]
     },
     "execution_count": 673,
     "metadata": {},
     "output_type": "execute_result"
    }
   ],
   "source": [
    "target"
   ]
  },
  {
   "cell_type": "code",
   "execution_count": 723,
   "metadata": {},
   "outputs": [
    {
     "data": {
      "text/plain": [
       "{'Число твердости у наружной поверхности (1147)'}"
      ]
     },
     "execution_count": 723,
     "metadata": {},
     "output_type": "execute_result"
    }
   ],
   "source": [
    "set(target) - set(target[:-1])"
   ]
  },
  {
   "cell_type": "code",
   "execution_count": 724,
   "metadata": {},
   "outputs": [],
   "source": [
    "tar = list(set(target) - set(target[:-1]))"
   ]
  },
  {
   "cell_type": "code",
   "execution_count": 725,
   "metadata": {},
   "outputs": [
    {
     "data": {
      "text/plain": [
       "['Число твердости у наружной поверхности (1147)']"
      ]
     },
     "execution_count": 725,
     "metadata": {},
     "output_type": "execute_result"
    }
   ],
   "source": [
    "tar"
   ]
  },
  {
   "cell_type": "code",
   "execution_count": 726,
   "metadata": {
    "scrolled": false
   },
   "outputs": [],
   "source": [
    "tmp = []\n",
    "for x in df['Дата термообработки']:\n",
    "    try:\n",
    "        tmp.append(datetime.strptime(x, \"%d.%m.%Y\"))\n",
    "    except ValueError:\n",
    "        tmp.append(datetime.strptime(x, \"%Y.%m.%d\"))\n",
    "    except TypeError:\n",
    "        pass\n",
    "    \n",
    "# df['Дата термообработки'] = tmp"
   ]
  },
  {
   "cell_type": "code",
   "execution_count": 727,
   "metadata": {
    "collapsed": true
   },
   "outputs": [],
   "source": [
    "df_prepared = df.copy()\n",
    "df_train = df_prepared.copy()"
   ]
  },
  {
   "cell_type": "code",
   "execution_count": 728,
   "metadata": {
    "collapsed": true
   },
   "outputs": [],
   "source": [
    "ls_train = ls_columns_output.copy()\n",
    "# ls_train.remove('Дата термообработки')\n",
    "ls_train.remove('марка стали')\n",
    "ls_train.remove('Гр. прочн.')\n",
    "\n",
    "ls_to_del = []"
   ]
  },
  {
   "cell_type": "code",
   "execution_count": 729,
   "metadata": {
    "collapsed": true
   },
   "outputs": [],
   "source": [
    "ls_train = list(set(ls_train) - set(ls_to_del))"
   ]
  },
  {
   "cell_type": "code",
   "execution_count": 730,
   "metadata": {
    "scrolled": true
   },
   "outputs": [
    {
     "data": {
      "text/plain": [
       "(396, 40)"
      ]
     },
     "execution_count": 730,
     "metadata": {},
     "output_type": "execute_result"
    }
   ],
   "source": [
    "df_train[ls_train+tar].dropna().shape"
   ]
  },
  {
   "cell_type": "code",
   "execution_count": 731,
   "metadata": {},
   "outputs": [
    {
     "data": {
      "text/plain": [
       "(396, 40)"
      ]
     },
     "execution_count": 731,
     "metadata": {},
     "output_type": "execute_result"
    }
   ],
   "source": [
    "df_train[ls_train+tar].dropna().drop_duplicates().shape"
   ]
  },
  {
   "cell_type": "code",
   "execution_count": 732,
   "metadata": {},
   "outputs": [],
   "source": [
    "df_train = df_train[ls_train+tar].dropna()\n",
    "\n",
    "df_train.drop_duplicates(inplace=True)\n",
    "\n",
    "X, X_valid, y, y_valid = train_test_split(df_train[ls_train], df_train[tar], test_size=0.2, shuffle=True)"
   ]
  },
  {
   "cell_type": "code",
   "execution_count": 733,
   "metadata": {
    "scrolled": true
   },
   "outputs": [
    {
     "data": {
      "text/plain": [
       "((316, 39), (80, 39))"
      ]
     },
     "execution_count": 733,
     "metadata": {},
     "output_type": "execute_result"
    }
   ],
   "source": [
    "X.shape, X_valid.shape"
   ]
  },
  {
   "cell_type": "code",
   "execution_count": 734,
   "metadata": {},
   "outputs": [
    {
     "data": {
      "text/plain": [
       "Index(['2 зона по ВТР закалка', 'Параметр отпуск', 'V', 'N',\n",
       "       '1 зона ВТР и уставка отпуск', 'Si', 'Параметр отпуск новый V', 'Nb',\n",
       "       'Тип предела текучести (1186)', '5 зона ВТР и уставка отпуск',\n",
       "       't˚ C трубы после спреера', 'Mo', 'шаг балок отпускная печь, сек',\n",
       "       'Предел текучести', 'Ti', 'S', 'Cu', 'толщина стенки', 'C-coef',\n",
       "       '3 зона по ВТР закалка', 'C',\n",
       "       'Скорость прохождения трубы через спрейер, м/с', 'Mn', 'диаметр', 'P',\n",
       "       'Ni', 'Параметр закалка', '4 зона ВТР и уставка отпуск', 'Cr',\n",
       "       '1 зона по ВТР закалка', 'Al', 'шаг балок закалочная печь, сек',\n",
       "       '3 зона ВТР и уставка отпуск', 'B', '2 зона ВТР и уставка отпуск',\n",
       "       'Врем. сопротивление', 'длина трубы', 'ICD', 'Величина зерна'],\n",
       "      dtype='object')"
      ]
     },
     "execution_count": 734,
     "metadata": {},
     "output_type": "execute_result"
    }
   ],
   "source": [
    "X.columns"
   ]
  },
  {
   "cell_type": "code",
   "execution_count": 735,
   "metadata": {
    "collapsed": true
   },
   "outputs": [],
   "source": [
    "def print_and_return_score(x, y, est, verb=1):\n",
    "    y_pred = est.predict(x)\n",
    "    mae = mean_absolute_error(y, y_pred)\n",
    "    mse = mean_squared_error(y, y_pred)\n",
    "    r2 = r2_score(y, y_pred)\n",
    "#     corr = np.corrcoef(y.T,y_pred)\n",
    "    \n",
    "    if verb==1:        \n",
    "        print('R^2: ', round(r2, 2))\n",
    "        print('MAE: ', round(mae, 2))\n",
    "        print('MSE: ', round(mse, 2))\n",
    "#         print('Correlation1: ', round(corr[0][1], 2))\n",
    "    return [mae, mse]"
   ]
  },
  {
   "cell_type": "code",
   "execution_count": 736,
   "metadata": {
    "collapsed": true
   },
   "outputs": [],
   "source": [
    "X_train, X_test,  y_train, y_test = train_test_split(X, y, test_size=0.2, shuffle=True)"
   ]
  },
  {
   "cell_type": "code",
   "execution_count": 737,
   "metadata": {},
   "outputs": [
    {
     "data": {
      "text/plain": [
       "39"
      ]
     },
     "execution_count": 737,
     "metadata": {},
     "output_type": "execute_result"
    }
   ],
   "source": [
    "len(ls_train)"
   ]
  },
  {
   "cell_type": "code",
   "execution_count": 743,
   "metadata": {
    "scrolled": false
   },
   "outputs": [
    {
     "name": "stdout",
     "output_type": "stream",
     "text": [
      "R^2:  -2050.79\n",
      "MAE:  2531.13\n",
      "MSE:  206738517.02\n"
     ]
    },
    {
     "name": "stderr",
     "output_type": "stream",
     "text": [
      "D:\\Repo\\Anaconda2\\envs\\myenv\\lib\\site-packages\\ipykernel_launcher.py:2: DataConversionWarning: A column-vector y was passed when a 1d array was expected. Please change the shape of y to (n_samples,), for example using ravel().\n",
      "  \n"
     ]
    }
   ],
   "source": [
    "rfc = RandomForestRegressor(max_features = 12, max_depth = 18, min_samples_leaf = 1, n_estimators=50, criterion='mse')\n",
    "rfc.fit(X_train, y_train)\n",
    "\n",
    "mae, mse = print_and_return_score(X_test, y_test, rfc)"
   ]
  },
  {
   "cell_type": "code",
   "execution_count": 700,
   "metadata": {
    "scrolled": true
   },
   "outputs": [
    {
     "name": "stdout",
     "output_type": "stream",
     "text": [
      "2 зона по ВТР закалка    0.0\n",
      "Параметр отпуск    0.02\n",
      "V    0.02\n",
      "N    0.02\n",
      "1 зона ВТР и уставка отпуск    0.02\n",
      "Si    0.03\n",
      "Параметр отпуск новый V    0.08\n",
      "Nb    0.01\n",
      "Тип предела текучести (1186)    0.0\n",
      "5 зона ВТР и уставка отпуск    0.02\n",
      "t˚ C трубы после спреера    0.03\n",
      "Mo    0.01\n",
      "шаг балок отпускная печь, сек    0.0\n",
      "Предел текучести    0.08\n",
      "Ti    0.02\n",
      "S    0.02\n",
      "Cu    0.02\n",
      "толщина стенки    0.0\n",
      "C-coef    0.04\n",
      "3 зона по ВТР закалка    0.0\n",
      "C    0.02\n",
      "Скорость прохождения трубы через спрейер, м/с    0.03\n",
      "Mn    0.03\n",
      "диаметр    0.0\n",
      "P    0.02\n",
      "Ni    0.02\n",
      "Параметр закалка    0.01\n",
      "4 зона ВТР и уставка отпуск    0.01\n",
      "Cr    0.03\n",
      "1 зона по ВТР закалка    0.0\n",
      "Al    0.02\n",
      "шаг балок закалочная печь, сек    0.02\n",
      "3 зона ВТР и уставка отпуск    0.02\n",
      "B    0.0\n",
      "2 зона ВТР и уставка отпуск    0.01\n",
      "Врем. сопротивление    0.14\n",
      "длина трубы    0.04\n",
      "ICD    0.08\n",
      "Величина зерна    0.06\n"
     ]
    }
   ],
   "source": [
    "val = rfc.feature_importances_\n",
    "lab = ls_train\n",
    "dict_feat_import = dict(zip(lab, val))\n",
    "ls_to_del = []\n",
    "for feat, imp in zip(lab, val):\n",
    "    print(feat, '  ', imp.round(2))\n",
    "    if imp.round(2) < 0.01:\n",
    "        ls_to_del.append(feat)"
   ]
  },
  {
   "cell_type": "code",
   "execution_count": 701,
   "metadata": {
    "scrolled": true
   },
   "outputs": [
    {
     "data": {
      "text/plain": [
       "['2 зона по ВТР закалка',\n",
       " 'Тип предела текучести (1186)',\n",
       " 'шаг балок отпускная печь, сек',\n",
       " 'толщина стенки',\n",
       " '3 зона по ВТР закалка',\n",
       " 'диаметр',\n",
       " '1 зона по ВТР закалка',\n",
       " 'B']"
      ]
     },
     "execution_count": 701,
     "metadata": {},
     "output_type": "execute_result"
    }
   ],
   "source": [
    "ls_to_del"
   ]
  },
  {
   "cell_type": "code",
   "execution_count": 702,
   "metadata": {
    "scrolled": true
   },
   "outputs": [
    {
     "ename": "ValueError",
     "evalue": "bad input shape (249, 2)",
     "output_type": "error",
     "traceback": [
      "\u001b[1;31m---------------------------------------------------------------------------\u001b[0m",
      "\u001b[1;31mValueError\u001b[0m                                Traceback (most recent call last)",
      "\u001b[1;32m<ipython-input-702-044673bacb40>\u001b[0m in \u001b[0;36m<module>\u001b[1;34m()\u001b[0m\n\u001b[0;32m      2\u001b[0m \u001b[1;33m\u001b[0m\u001b[0m\n\u001b[0;32m      3\u001b[0m \u001b[0mg\u001b[0m \u001b[1;33m=\u001b[0m \u001b[0mGradientBoostingRegressor\u001b[0m\u001b[1;33m(\u001b[0m\u001b[1;33m)\u001b[0m\u001b[1;33m\u001b[0m\u001b[0m\n\u001b[1;32m----> 4\u001b[1;33m \u001b[0mg\u001b[0m\u001b[1;33m.\u001b[0m\u001b[0mfit\u001b[0m\u001b[1;33m(\u001b[0m\u001b[0mX_train\u001b[0m\u001b[1;33m,\u001b[0m \u001b[0my_train\u001b[0m\u001b[1;33m)\u001b[0m\u001b[1;33m\u001b[0m\u001b[0m\n\u001b[0m\u001b[0;32m      5\u001b[0m \u001b[1;33m\u001b[0m\u001b[0m\n\u001b[0;32m      6\u001b[0m \u001b[0mmae\u001b[0m\u001b[1;33m,\u001b[0m \u001b[0mmse\u001b[0m \u001b[1;33m=\u001b[0m \u001b[0mprint_and_return_score\u001b[0m\u001b[1;33m(\u001b[0m\u001b[0mX_test\u001b[0m\u001b[1;33m,\u001b[0m \u001b[0my_test\u001b[0m\u001b[1;33m,\u001b[0m \u001b[0mg\u001b[0m\u001b[1;33m)\u001b[0m\u001b[1;33m\u001b[0m\u001b[0m\n",
      "\u001b[1;32mD:\\Repo\\Anaconda2\\envs\\myenv\\lib\\site-packages\\sklearn\\ensemble\\gradient_boosting.py\u001b[0m in \u001b[0;36mfit\u001b[1;34m(self, X, y, sample_weight, monitor)\u001b[0m\n\u001b[0;32m    977\u001b[0m \u001b[1;33m\u001b[0m\u001b[0m\n\u001b[0;32m    978\u001b[0m         \u001b[1;31m# Check input\u001b[0m\u001b[1;33m\u001b[0m\u001b[1;33m\u001b[0m\u001b[0m\n\u001b[1;32m--> 979\u001b[1;33m         \u001b[0mX\u001b[0m\u001b[1;33m,\u001b[0m \u001b[0my\u001b[0m \u001b[1;33m=\u001b[0m \u001b[0mcheck_X_y\u001b[0m\u001b[1;33m(\u001b[0m\u001b[0mX\u001b[0m\u001b[1;33m,\u001b[0m \u001b[0my\u001b[0m\u001b[1;33m,\u001b[0m \u001b[0maccept_sparse\u001b[0m\u001b[1;33m=\u001b[0m\u001b[1;33m[\u001b[0m\u001b[1;34m'csr'\u001b[0m\u001b[1;33m,\u001b[0m \u001b[1;34m'csc'\u001b[0m\u001b[1;33m,\u001b[0m \u001b[1;34m'coo'\u001b[0m\u001b[1;33m]\u001b[0m\u001b[1;33m,\u001b[0m \u001b[0mdtype\u001b[0m\u001b[1;33m=\u001b[0m\u001b[0mDTYPE\u001b[0m\u001b[1;33m)\u001b[0m\u001b[1;33m\u001b[0m\u001b[0m\n\u001b[0m\u001b[0;32m    980\u001b[0m         \u001b[0mn_samples\u001b[0m\u001b[1;33m,\u001b[0m \u001b[0mself\u001b[0m\u001b[1;33m.\u001b[0m\u001b[0mn_features_\u001b[0m \u001b[1;33m=\u001b[0m \u001b[0mX\u001b[0m\u001b[1;33m.\u001b[0m\u001b[0mshape\u001b[0m\u001b[1;33m\u001b[0m\u001b[0m\n\u001b[0;32m    981\u001b[0m         \u001b[1;32mif\u001b[0m \u001b[0msample_weight\u001b[0m \u001b[1;32mis\u001b[0m \u001b[1;32mNone\u001b[0m\u001b[1;33m:\u001b[0m\u001b[1;33m\u001b[0m\u001b[0m\n",
      "\u001b[1;32mD:\\Repo\\Anaconda2\\envs\\myenv\\lib\\site-packages\\sklearn\\utils\\validation.py\u001b[0m in \u001b[0;36mcheck_X_y\u001b[1;34m(X, y, accept_sparse, dtype, order, copy, force_all_finite, ensure_2d, allow_nd, multi_output, ensure_min_samples, ensure_min_features, y_numeric, warn_on_dtype, estimator)\u001b[0m\n\u001b[0;32m    576\u001b[0m                         dtype=None)\n\u001b[0;32m    577\u001b[0m     \u001b[1;32melse\u001b[0m\u001b[1;33m:\u001b[0m\u001b[1;33m\u001b[0m\u001b[0m\n\u001b[1;32m--> 578\u001b[1;33m         \u001b[0my\u001b[0m \u001b[1;33m=\u001b[0m \u001b[0mcolumn_or_1d\u001b[0m\u001b[1;33m(\u001b[0m\u001b[0my\u001b[0m\u001b[1;33m,\u001b[0m \u001b[0mwarn\u001b[0m\u001b[1;33m=\u001b[0m\u001b[1;32mTrue\u001b[0m\u001b[1;33m)\u001b[0m\u001b[1;33m\u001b[0m\u001b[0m\n\u001b[0m\u001b[0;32m    579\u001b[0m         \u001b[0m_assert_all_finite\u001b[0m\u001b[1;33m(\u001b[0m\u001b[0my\u001b[0m\u001b[1;33m)\u001b[0m\u001b[1;33m\u001b[0m\u001b[0m\n\u001b[0;32m    580\u001b[0m     \u001b[1;32mif\u001b[0m \u001b[0my_numeric\u001b[0m \u001b[1;32mand\u001b[0m \u001b[0my\u001b[0m\u001b[1;33m.\u001b[0m\u001b[0mdtype\u001b[0m\u001b[1;33m.\u001b[0m\u001b[0mkind\u001b[0m \u001b[1;33m==\u001b[0m \u001b[1;34m'O'\u001b[0m\u001b[1;33m:\u001b[0m\u001b[1;33m\u001b[0m\u001b[0m\n",
      "\u001b[1;32mD:\\Repo\\Anaconda2\\envs\\myenv\\lib\\site-packages\\sklearn\\utils\\validation.py\u001b[0m in \u001b[0;36mcolumn_or_1d\u001b[1;34m(y, warn)\u001b[0m\n\u001b[0;32m    612\u001b[0m         \u001b[1;32mreturn\u001b[0m \u001b[0mnp\u001b[0m\u001b[1;33m.\u001b[0m\u001b[0mravel\u001b[0m\u001b[1;33m(\u001b[0m\u001b[0my\u001b[0m\u001b[1;33m)\u001b[0m\u001b[1;33m\u001b[0m\u001b[0m\n\u001b[0;32m    613\u001b[0m \u001b[1;33m\u001b[0m\u001b[0m\n\u001b[1;32m--> 614\u001b[1;33m     \u001b[1;32mraise\u001b[0m \u001b[0mValueError\u001b[0m\u001b[1;33m(\u001b[0m\u001b[1;34m\"bad input shape {0}\"\u001b[0m\u001b[1;33m.\u001b[0m\u001b[0mformat\u001b[0m\u001b[1;33m(\u001b[0m\u001b[0mshape\u001b[0m\u001b[1;33m)\u001b[0m\u001b[1;33m)\u001b[0m\u001b[1;33m\u001b[0m\u001b[0m\n\u001b[0m\u001b[0;32m    615\u001b[0m \u001b[1;33m\u001b[0m\u001b[0m\n\u001b[0;32m    616\u001b[0m \u001b[1;33m\u001b[0m\u001b[0m\n",
      "\u001b[1;31mValueError\u001b[0m: bad input shape (249, 2)"
     ]
    }
   ],
   "source": [
    "from sklearn.ensemble import GradientBoostingRegressor\n",
    "\n",
    "g = GradientBoostingRegressor()\n",
    "g.fit(X_train, y_train)\n",
    "\n",
    "mae, mse = print_and_return_score(X_test, y_test, g)"
   ]
  },
  {
   "cell_type": "code",
   "execution_count": 630,
   "metadata": {},
   "outputs": [],
   "source": [
    "# import tensorflow as tf\n",
    "import theano\n",
    "import keras\n",
    "from keras.models import Sequential\n",
    "from keras.layers import Dense, Activation, Dropout\n",
    "from keras.layers.normalization import BatchNormalization"
   ]
  },
  {
   "cell_type": "code",
   "execution_count": 631,
   "metadata": {
    "scrolled": true
   },
   "outputs": [
    {
     "name": "stdout",
     "output_type": "stream",
     "text": [
      "Epoch 1/10\n",
      "249/249 [==============================] - 0s 24us/step - loss: 826.8831 - mean_absolute_error: 18.3018\n",
      "Epoch 2/10\n",
      "249/249 [==============================] - 0s 173us/step - loss: 826.3948 - mean_absolute_error: 18.2881\n",
      "Epoch 3/10\n",
      "249/249 [==============================] - 0s 24us/step - loss: 826.6991 - mean_absolute_error: 18.2866\n",
      "Epoch 4/10\n",
      "249/249 [==============================] - 0s 32us/step - loss: 826.5725 - mean_absolute_error: 18.2835\n",
      "Epoch 5/10\n",
      "249/249 [==============================] - 0s 28us/step - loss: 826.0366 - mean_absolute_error: 18.2784\n",
      "Epoch 6/10\n",
      "249/249 [==============================] - 0s 24us/step - loss: 826.3450 - mean_absolute_error: 18.2763\n",
      "Epoch 7/10\n",
      "249/249 [==============================] - 0s 96us/step - loss: 825.7180 - mean_absolute_error: 18.2697\n",
      "Epoch 8/10\n",
      "249/249 [==============================] - 0s 36us/step - loss: 826.1477 - mean_absolute_error: 18.2707\n",
      "Epoch 9/10\n",
      "249/249 [==============================] - 0s 24us/step - loss: 825.7901 - mean_absolute_error: 18.2609\n",
      "Epoch 10/10\n",
      "249/249 [==============================] - 0s 48us/step - loss: 825.7130 - mean_absolute_error: 18.2581\n",
      "mae = 17.546365294672512\n",
      "mse =  317.6054008128787\n",
      "r2 =  -33.809741296152794\n"
     ]
    }
   ],
   "source": [
    "model = Sequential()\n",
    "model.add(Dense(units=128,input_dim=X_train.shape[1]))\n",
    "model.add(Activation('softmax'))\n",
    "model.add(Dropout(0.5))\n",
    "model.add(Dense(units=3))\n",
    "model.compile(\n",
    "        loss=keras.losses.mean_squared_error,\n",
    "        metrics=[keras.metrics.mean_absolute_error],\n",
    "#             optimizer=keras.optimizers.SGD(lr=0.05, momentum=0.6, decay=1e-7, nesterov=True)\n",
    "#             optimizer=keras.optimizers.Adam(lr=0.001, beta_1=0.85, beta_2=0.98, epsilon=1e-7, decay=1e-7, amsgrad=True)\n",
    "#         optimizer=keras.optimizers.RMSprop(lr=0.01, rho=0.8, epsilon=None, decay=0.0)\n",
    "#     optimizer=keras.optimizers.SGD(lr=0.001, momentum = 0.8, decay=1e-6)\n",
    "    optimizer = keras.optimizers.Nadam(lr=0.003, beta_1=0.99, beta_2=0.999, epsilon=None, schedule_decay=0.005)\n",
    "        )\n",
    "\n",
    "model.fit(X_train, y_train, batch_size = 512, epochs=10, shuffle=True)\n",
    "\n",
    "y_pred = model.predict(X_test)\n",
    "print('mae =', mean_absolute_error(y_test, y_pred))\n",
    "print('mse = ', mean_squared_error(y_test, y_pred))\n",
    "print('r2 = ', r2_score(y_test, y_pred))"
   ]
  },
  {
   "cell_type": "code",
   "execution_count": 659,
   "metadata": {
    "scrolled": true
   },
   "outputs": [
    {
     "ename": "ValueError",
     "evalue": "y_true and y_pred have different number of output (1!=3)",
     "output_type": "error",
     "traceback": [
      "\u001b[1;31m---------------------------------------------------------------------------\u001b[0m",
      "\u001b[1;31mValueError\u001b[0m                                Traceback (most recent call last)",
      "\u001b[1;32m<ipython-input-659-bd8cb44911c3>\u001b[0m in \u001b[0;36m<module>\u001b[1;34m()\u001b[0m\n\u001b[0;32m      1\u001b[0m \u001b[0my_pred\u001b[0m \u001b[1;33m=\u001b[0m \u001b[0mmodel\u001b[0m\u001b[1;33m.\u001b[0m\u001b[0mpredict\u001b[0m\u001b[1;33m(\u001b[0m\u001b[0mX_test\u001b[0m\u001b[1;33m)\u001b[0m\u001b[1;33m\u001b[0m\u001b[0m\n\u001b[1;32m----> 2\u001b[1;33m \u001b[0mprint\u001b[0m\u001b[1;33m(\u001b[0m\u001b[1;34m'mae ='\u001b[0m\u001b[1;33m,\u001b[0m \u001b[0mmean_absolute_error\u001b[0m\u001b[1;33m(\u001b[0m\u001b[0my_test\u001b[0m\u001b[1;33m,\u001b[0m \u001b[0my_pred\u001b[0m\u001b[1;33m)\u001b[0m\u001b[1;33m)\u001b[0m\u001b[1;33m\u001b[0m\u001b[0m\n\u001b[0m\u001b[0;32m      3\u001b[0m \u001b[0mprint\u001b[0m\u001b[1;33m(\u001b[0m\u001b[1;34m'mse = '\u001b[0m\u001b[1;33m,\u001b[0m \u001b[0mmean_squared_error\u001b[0m\u001b[1;33m(\u001b[0m\u001b[0my_test\u001b[0m\u001b[1;33m,\u001b[0m \u001b[0my_pred\u001b[0m\u001b[1;33m)\u001b[0m\u001b[1;33m)\u001b[0m\u001b[1;33m\u001b[0m\u001b[0m\n\u001b[0;32m      4\u001b[0m \u001b[0mprint\u001b[0m\u001b[1;33m(\u001b[0m\u001b[1;34m'r2 = '\u001b[0m\u001b[1;33m,\u001b[0m \u001b[0mr2_score\u001b[0m\u001b[1;33m(\u001b[0m\u001b[0my_test\u001b[0m\u001b[1;33m,\u001b[0m \u001b[0my_pred\u001b[0m\u001b[1;33m)\u001b[0m\u001b[1;33m)\u001b[0m\u001b[1;33m\u001b[0m\u001b[0m\n",
      "\u001b[1;32mD:\\Repo\\Anaconda2\\envs\\myenv\\lib\\site-packages\\sklearn\\metrics\\regression.py\u001b[0m in \u001b[0;36mmean_absolute_error\u001b[1;34m(y_true, y_pred, sample_weight, multioutput)\u001b[0m\n\u001b[0;32m    168\u001b[0m     \"\"\"\n\u001b[0;32m    169\u001b[0m     y_type, y_true, y_pred, multioutput = _check_reg_targets(\n\u001b[1;32m--> 170\u001b[1;33m         y_true, y_pred, multioutput)\n\u001b[0m\u001b[0;32m    171\u001b[0m     output_errors = np.average(np.abs(y_pred - y_true),\n\u001b[0;32m    172\u001b[0m                                weights=sample_weight, axis=0)\n",
      "\u001b[1;32mD:\\Repo\\Anaconda2\\envs\\myenv\\lib\\site-packages\\sklearn\\metrics\\regression.py\u001b[0m in \u001b[0;36m_check_reg_targets\u001b[1;34m(y_true, y_pred, multioutput)\u001b[0m\n\u001b[0;32m     85\u001b[0m     \u001b[1;32mif\u001b[0m \u001b[0my_true\u001b[0m\u001b[1;33m.\u001b[0m\u001b[0mshape\u001b[0m\u001b[1;33m[\u001b[0m\u001b[1;36m1\u001b[0m\u001b[1;33m]\u001b[0m \u001b[1;33m!=\u001b[0m \u001b[0my_pred\u001b[0m\u001b[1;33m.\u001b[0m\u001b[0mshape\u001b[0m\u001b[1;33m[\u001b[0m\u001b[1;36m1\u001b[0m\u001b[1;33m]\u001b[0m\u001b[1;33m:\u001b[0m\u001b[1;33m\u001b[0m\u001b[0m\n\u001b[0;32m     86\u001b[0m         raise ValueError(\"y_true and y_pred have different number of output \"\n\u001b[1;32m---> 87\u001b[1;33m                          \"({0}!={1})\".format(y_true.shape[1], y_pred.shape[1]))\n\u001b[0m\u001b[0;32m     88\u001b[0m \u001b[1;33m\u001b[0m\u001b[0m\n\u001b[0;32m     89\u001b[0m     \u001b[0mn_outputs\u001b[0m \u001b[1;33m=\u001b[0m \u001b[0my_true\u001b[0m\u001b[1;33m.\u001b[0m\u001b[0mshape\u001b[0m\u001b[1;33m[\u001b[0m\u001b[1;36m1\u001b[0m\u001b[1;33m]\u001b[0m\u001b[1;33m\u001b[0m\u001b[0m\n",
      "\u001b[1;31mValueError\u001b[0m: y_true and y_pred have different number of output (1!=3)"
     ]
    }
   ],
   "source": [
    "y_pred = model.predict(X_test)\n",
    "print('mae =', mean_absolute_error(y_test, y_pred))\n",
    "print('mse = ', mean_squared_error(y_test, y_pred))\n",
    "print('r2 = ', r2_score(y_test, y_pred))"
   ]
  },
  {
   "cell_type": "code",
   "execution_count": 440,
   "metadata": {
    "scrolled": true
   },
   "outputs": [
    {
     "data": {
      "text/plain": [
       "Скорость прохождения трубы через спрейер, м/с   -0.387310\n",
       "Величина зерна                                  -0.226242\n",
       "C-coef                                           0.047758\n",
       "t˚ C трубы после спреера                         0.145830\n",
       "3 зона ВТР и уставка отпуск                      0.179295\n",
       "Параметр отпуск новый V                          0.186491\n",
       "длина трубы                                      0.223164\n",
       "Предел текучести                                 0.271351\n",
       "Параметр отпуск                                  0.299864\n",
       "ICD                                              0.320091\n",
       "Врем. сопротивление                              0.324790\n",
       "шаг балок закалочная печь, сек                   0.338561\n",
       "Cr                                               0.368641\n",
       "dtype: float64"
      ]
     },
     "execution_count": 440,
     "metadata": {},
     "output_type": "execute_result"
    }
   ],
   "source": [
    "X_train.corrwith(y_train).sort_values()"
   ]
  },
  {
   "cell_type": "code",
   "execution_count": 633,
   "metadata": {
    "scrolled": false
   },
   "outputs": [
    {
     "data": {
      "image/png": "[encoded data removed]",
      "text/plain": [
       "<Figure size 720x720 with 1 Axes>"
      ]
     },
     "metadata": {},
     "output_type": "display_data"
    }
   ],
   "source": [
    "y_pred = model.predict(X_test)\n",
    "plt.subplots(figsize=(10,10))\n",
    "plt.scatter(y_test, y_pred, marker='o', c=y_test, edgecolors='black', cmap='viridis')\n",
    "# plt.colorbar()\n",
    "plt.show()"
   ]
  },
  {
   "cell_type": "markdown",
   "metadata": {},
   "source": [
    "## GridSearchCV"
   ]
  },
  {
   "cell_type": "code",
   "execution_count": 242,
   "metadata": {
    "collapsed": true
   },
   "outputs": [],
   "source": [
    "param_grid = {\n",
    "    'max_depth': range(6, 18, 2),\n",
    "    'max_features': range(6, 18, 2),\n",
    "    'min_samples_leaf': range(1, 5),\n",
    "    'n_estimators': range(50, 300, 50)\n",
    "}\n",
    "\n",
    "rf = RandomForestRegressor()\n",
    "\n",
    "grid_search = GridSearchCV(estimator = rf, param_grid = param_grid, \n",
    "                          cv = 3, n_jobs = -1, verbose = 2, scoring='neg_mean_absolute_error')"
   ]
  },
  {
   "cell_type": "code",
   "execution_count": 243,
   "metadata": {
    "collapsed": true
   },
   "outputs": [],
   "source": [
    "X_train, X_test, y_train, y_test = train_test_split(X, y, test_size=0.3)"
   ]
  },
  {
   "cell_type": "code",
   "execution_count": 244,
   "metadata": {
    "scrolled": true
   },
   "outputs": [
    {
     "name": "stdout",
     "output_type": "stream",
     "text": [
      "Fitting 3 folds for each of 720 candidates, totalling 2160 fits\n"
     ]
    },
    {
     "name": "stderr",
     "output_type": "stream",
     "text": [
      "[Parallel(n_jobs=-1)]: Done  25 tasks      | elapsed:   51.5s\n",
      "[Parallel(n_jobs=-1)]: Done 146 tasks      | elapsed:  1.4min\n",
      "[Parallel(n_jobs=-1)]: Done 349 tasks      | elapsed:  2.8min\n",
      "[Parallel(n_jobs=-1)]: Done 632 tasks      | elapsed:  4.7min\n",
      "[Parallel(n_jobs=-1)]: Done 997 tasks      | elapsed:  7.6min\n",
      "[Parallel(n_jobs=-1)]: Done 1442 tasks      | elapsed: 12.3min\n",
      "[Parallel(n_jobs=-1)]: Done 1969 tasks      | elapsed: 18.9min\n",
      "[Parallel(n_jobs=-1)]: Done 2160 out of 2160 | elapsed: 23.7min finished\n"
     ]
    },
    {
     "data": {
      "text/plain": [
       "GridSearchCV(cv=3, error_score='raise',\n",
       "       estimator=RandomForestRegressor(bootstrap=True, criterion='mse', max_depth=None,\n",
       "           max_features='auto', max_leaf_nodes=None,\n",
       "           min_impurity_decrease=0.0, min_impurity_split=None,\n",
       "           min_samples_leaf=1, min_samples_split=2,\n",
       "           min_weight_fraction_leaf=0.0, n_estimators=10, n_jobs=1,\n",
       "           oob_score=False, random_state=None, verbose=0, warm_start=False),\n",
       "       fit_params=None, iid=True, n_jobs=-1,\n",
       "       param_grid={'max_depth': range(6, 18, 2), 'max_features': range(6, 18, 2), 'min_samples_leaf': range(1, 5), 'n_estimators': range(50, 300, 50)},\n",
       "       pre_dispatch='2*n_jobs', refit=True, return_train_score='warn',\n",
       "       scoring='neg_mean_absolute_error', verbose=2)"
      ]
     },
     "execution_count": 244,
     "metadata": {},
     "output_type": "execute_result"
    }
   ],
   "source": [
    "grid_search.fit(X_train, y_train)"
   ]
  },
  {
   "cell_type": "code",
   "execution_count": 245,
   "metadata": {},
   "outputs": [
    {
     "data": {
      "text/plain": [
       "{'max_depth': 16,\n",
       " 'max_features': 16,\n",
       " 'min_samples_leaf': 2,\n",
       " 'n_estimators': 250}"
      ]
     },
     "execution_count": 245,
     "metadata": {},
     "output_type": "execute_result"
    }
   ],
   "source": [
    "grid_search.best_params_"
   ]
  },
  {
   "cell_type": "code",
   "execution_count": 658,
   "metadata": {
    "scrolled": true
   },
   "outputs": [
    {
     "ename": "NameError",
     "evalue": "name 'grid_search' is not defined",
     "output_type": "error",
     "traceback": [
      "\u001b[1;31m---------------------------------------------------------------------------\u001b[0m",
      "\u001b[1;31mNameError\u001b[0m                                 Traceback (most recent call last)",
      "\u001b[1;32m<ipython-input-658-b5b63b51d650>\u001b[0m in \u001b[0;36m<module>\u001b[1;34m()\u001b[0m\n\u001b[1;32m----> 1\u001b[1;33m \u001b[0mscr\u001b[0m\u001b[1;33m,\u001b[0m \u001b[0mmae\u001b[0m\u001b[1;33m,\u001b[0m \u001b[0mmse\u001b[0m\u001b[1;33m,\u001b[0m \u001b[0mcorr\u001b[0m\u001b[1;33m,\u001b[0m \u001b[0my_pred\u001b[0m \u001b[1;33m=\u001b[0m \u001b[0mprint_and_return_score\u001b[0m\u001b[1;33m(\u001b[0m\u001b[0mX_test\u001b[0m\u001b[1;33m,\u001b[0m \u001b[0my_test\u001b[0m\u001b[1;33m,\u001b[0m \u001b[0mgrid_search\u001b[0m\u001b[1;33m)\u001b[0m\u001b[1;33m\u001b[0m\u001b[0m\n\u001b[0m",
      "\u001b[1;31mNameError\u001b[0m: name 'grid_search' is not defined"
     ]
    }
   ],
   "source": [
    "scr, mae, mse, corr, y_pred = print_and_return_score(X_test, y_test, grid_search)"
   ]
  },
  {
   "cell_type": "code",
   "execution_count": 247,
   "metadata": {
    "collapsed": true
   },
   "outputs": [],
   "source": [
    "y_predict = grid_search.predict(X_test)"
   ]
  },
  {
   "cell_type": "markdown",
   "metadata": {},
   "source": [
    "## Cross-validation with KFold"
   ]
  },
  {
   "cell_type": "code",
   "execution_count": 448,
   "metadata": {
    "scrolled": false
   },
   "outputs": [
    {
     "name": "stdout",
     "output_type": "stream",
     "text": [
      "R^2:  0.03\n",
      "MAE:  3.02\n",
      "MSE:  97.38\n",
      "Correlation1:  0.2\n",
      "R^2:  0.02\n",
      "MAE:  3.12\n",
      "MSE:  98.52\n",
      "Correlation1:  0.18\n",
      "R^2:  0.03\n",
      "MAE:  3.22\n",
      "MSE:  98.23\n",
      "Correlation1:  0.19\n",
      "R^2:  0.03\n",
      "MAE:  3.09\n",
      "MSE:  98.04\n",
      "Correlation1:  0.19\n",
      "R^2:  0.01\n",
      "MAE:  3.25\n",
      "MSE:  99.48\n",
      "Correlation1:  0.16\n"
     ]
    }
   ],
   "source": [
    "kfold = model_selection.KFold(n_splits=5, shuffle=True)\n",
    "scores = []\n",
    "for train, test in kfold.split(X, y):\n",
    "    x_train, y_train = X.iloc[train], y.iloc[train]\n",
    "    x_test, y_test = X.iloc[test], y.iloc[test]\n",
    "    grf = rfc\n",
    "#     grf = grid_search.best_estimator_\n",
    "    grf.fit(x_train, y_train)\n",
    "\n",
    "    scores.append(print_and_return_score(X_valid, y_valid, grf))"
   ]
  },
  {
   "cell_type": "code",
   "execution_count": 451,
   "metadata": {
    "scrolled": true
   },
   "outputs": [
    {
     "name": "stdout",
     "output_type": "stream",
     "text": [
      "3.12\n",
      "98.04\n",
      "0.19\n"
     ]
    }
   ],
   "source": [
    "for i in range(3):\n",
    "    tmp = []\n",
    "    for j in range(3):\n",
    "        tmp.append(scores[j][i])\n",
    "    print(round(np.mean(tmp), 2))"
   ]
  },
  {
   "cell_type": "code",
   "execution_count": 252,
   "metadata": {},
   "outputs": [
    {
     "name": "stdout",
     "output_type": "stream",
     "text": [
      "Score:  0.89\n",
      "R^2:  0.89\n",
      "MAE:  2.01\n",
      "MSE:  8.75\n",
      "Correlation Врем. сопротивление:  0.95\n",
      "Correlation Предел текучести:  0.94\n"
     ]
    }
   ],
   "source": [
    "X_train, X_test, y_train, y_test = train_test_split(X, y, test_size=0.3)\n",
    "grf = grid_search.best_estimator_\n",
    "grf.fit(X_train, y_train)\n",
    "scr, mae, mse, corr1, corr2 = print_and_return_score(X_test, y_test, grf)"
   ]
  },
  {
   "cell_type": "code",
   "execution_count": 306,
   "metadata": {},
   "outputs": [
    {
     "name": "stdout",
     "output_type": "stream",
     "text": [
      "Score:  0.9\n",
      "R^2:  0.9\n",
      "MAE:  2.85\n",
      "MSE:  15.05\n",
      "Correlation Врем. сопротивление:  0.96\n",
      "Correlation Предел текучести:  0.95\n"
     ]
    }
   ],
   "source": [
    "y_pred = pd.DataFrame(rfc.predict(X_valid), columns=['прогноз Врем. сопротивление', 'прогноз Предел текучести'])\n",
    "y_pred.reset_index(inplace=True, drop=True)\n",
    "y_valid.reset_index(inplace=True, drop=True)\n",
    "\n",
    "scr, mae, mse, corr1, corr2 = print_and_return_score(X_valid, y_valid, rfc)\n",
    "\n",
    "score_df = pd.concat([pd.DataFrame({'Score':[scr], 'MAE':[mae], 'MSE':[mse], 'Correlation Врем. сопротивление':[corr1],\n",
    "                                                     'Correlation Предел текучести':[corr2]}),\n",
    "                      y_pred,\n",
    "                      y_valid],\n",
    "                    axis=1)\n",
    "\n",
    "score_df['MAE Предел текучести'] = np.abs(score_df['Предел текучести'] - score_df['прогноз Предел текучести'])\n",
    "score_df['MAE Врем. сопротивление'] = np.abs(score_df['Врем. сопротивление'] - score_df['прогноз Врем. сопротивление'])"
   ]
  },
  {
   "cell_type": "code",
   "execution_count": 270,
   "metadata": {},
   "outputs": [
    {
     "name": "stdout",
     "output_type": "stream",
     "text": [
      "Score:  0.9\n",
      "R^2:  0.9\n",
      "MAE:  2.81\n",
      "MSE:  14.52\n",
      "Correlation Врем. сопротивление:  0.96\n",
      "Correlation Предел текучести:  0.95\n"
     ]
    }
   ],
   "source": [
    "y_pred = pd.DataFrame(grf.predict(X_valid), columns=['прогноз Врем. сопротивление', 'прогноз Предел текучести'])\n",
    "y_pred.reset_index(inplace=True, drop=True)\n",
    "y_valid.reset_index(inplace=True, drop=True)\n",
    "\n",
    "scr, mae, mse, corr1, corr2 = print_and_return_score(X_valid, y_valid, grf)\n",
    "\n",
    "score_df = pd.concat([pd.DataFrame({'Score':[scr], 'MAE':[mae], 'MSE':[mse], 'Correlation Врем. сопротивление':[corr1],\n",
    "                                                     'Correlation Предел текучести':[corr2]}),\n",
    "                      y_pred,\n",
    "                      y_valid],\n",
    "                    axis=1)\n",
    "\n",
    "score_df['MAE Предел текучести'] = np.abs(score_df['Предел текучести'] - score_df['прогноз Предел текучести'])\n",
    "score_df['MAE Врем. сопротивление'] = np.abs(score_df['Врем. сопротивление'] - score_df['прогноз Врем. сопротивление'])"
   ]
  },
  {
   "cell_type": "code",
   "execution_count": 275,
   "metadata": {},
   "outputs": [
    {
     "name": "stdout",
     "output_type": "stream",
     "text": [
      "Модель сохранена\n"
     ]
    }
   ],
   "source": [
    "save_RF_model(grf, ls_train_col, 'H+YS with Bath', score_df)"
   ]
  },
  {
   "cell_type": "code",
   "execution_count": null,
   "metadata": {
    "collapsed": true
   },
   "outputs": [],
   "source": []
  }
 ],
 "metadata": {
  "kernelspec": {
   "display_name": "Python 3",
   "language": "python",
   "name": "python3"
  },
  "language_info": {
   "codemirror_mode": {
    "name": "ipython",
    "version": 3
   },
   "file_extension": ".py",
   "mimetype": "text/x-python",
   "name": "python",
   "nbconvert_exporter": "python",
   "pygments_lexer": "ipython3",
   "version": "3.6.4"
  }
 },
 "nbformat": 4,
 "nbformat_minor": 2
}
