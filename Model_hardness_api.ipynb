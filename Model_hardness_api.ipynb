{
 "cells": [
  {
   "cell_type": "markdown",
   "metadata": {},
   "source": [
    "# Загрузка"
   ]
  },
  {
   "cell_type": "code",
   "execution_count": 10,
   "metadata": {},
   "outputs": [],
   "source": [
    "target = df_hardness.columns[-3:]"
   ]
  },
  {
   "cell_type": "code",
   "execution_count": 1,
   "metadata": {},
   "outputs": [],
   "source": [
    "ls_columns_output = [\n",
    "#     '№ партии',\n",
    "#     '№ плавки',\n",
    "    'марка стали',\n",
    "    'диаметр',\n",
    "    'толщина стенки',\n",
    "    'Гр. прочн.',\n",
    "    '1 зона по ВТР закалка',\n",
    "    '2 зона по ВТР закалка',\n",
    "    '3 зона по ВТР закалка',\n",
    "    'шаг балок закалочная печь, сек',\n",
    "    'Скорость прохождения трубы через спрейер, м/с', \n",
    "    't˚ C трубы после спреера',\n",
    "    '1 зона ВТР и уставка отпуск', \n",
    "    '2 зона ВТР и уставка отпуск', \n",
    "    '3 зона ВТР и уставка отпуск',\n",
    "    '4 зона ВТР и уставка отпуск',\n",
    "    '5 зона ВТР и уставка отпуск',\n",
    "    'шаг балок отпускная печь, сек',\n",
    "    'C',\n",
    "    'Mn',\n",
    "    'Si',\n",
    "    'P',\n",
    "    'S',\n",
    "    'Cr',\n",
    "    'Ni',\n",
    "    'Cu',\n",
    "    'Al',\n",
    "    'V',\n",
    "    'Ti',\n",
    "    'Nb',\n",
    "    'Mo',\n",
    "    'N',\n",
    "    'B',\n",
    "    'C-coef',\n",
    "    'Параметр закалка',\n",
    "    'Параметр отпуск',\n",
    "    'Параметр отпуск новый V',\n",
    "    'Величина зерна',\n",
    "    'Тип предела текучести (1186)',\n",
    "#     'Дата термообработки',\n",
    "    'ICD',\n",
    "#     'Примечание',\n",
    "    'длина трубы'\n",
    "    ]"
   ]
  },
  {
   "cell_type": "code",
   "execution_count": 2,
   "metadata": {},
   "outputs": [
    {
     "name": "stdout",
     "output_type": "stream",
     "text": [
      "importing Jupyter notebook from C:\\Users\\kseniya.yuldasheva\\Desktop\\gitPNTZtoyuk_1\\gitPNTZ\\PNTZ\\my_libs\\calc_features.ipynb\n"
     ]
    }
   ],
   "source": [
    "import pandas as pd\n",
    "import numpy as np\n",
    "import import_ipynb\n",
    "from my_libs.calc_features import *\n",
    "import random\n",
    "from datetime import datetime"
   ]
  },
  {
   "cell_type": "code",
   "execution_count": 3,
   "metadata": {},
   "outputs": [],
   "source": [
    "pd.options.display.max_columns = 500\n",
    "pd.options.display.max_rows = 1000"
   ]
  },
  {
   "cell_type": "code",
   "execution_count": 4,
   "metadata": {},
   "outputs": [],
   "source": [
    "import seaborn as sns\n",
    "import matplotlib.pyplot as plt\n",
    "%matplotlib inline"
   ]
  },
  {
   "cell_type": "code",
   "execution_count": 5,
   "metadata": {
    "scrolled": true
   },
   "outputs": [
    {
     "name": "stdout",
     "output_type": "stream",
     "text": [
      "importing Jupyter notebook from C:\\Users\\kseniya.yuldasheva\\Desktop\\gitPNTZtoyuk_1\\gitPNTZ\\PNTZ\\my_libs\\save_lib.ipynb\n"
     ]
    },
    {
     "name": "stderr",
     "output_type": "stream",
     "text": [
      "C:\\ProgramData\\Anaconda3\\lib\\site-packages\\h5py\\__init__.py:36: FutureWarning: Conversion of the second argument of issubdtype from `float` to `np.floating` is deprecated. In future, it will be treated as `np.float64 == np.dtype(float).type`.\n",
      "  from ._conv import register_converters as _register_converters\n",
      "Using TensorFlow backend.\n"
     ]
    }
   ],
   "source": [
    "from sklearn.metrics import mean_absolute_error, mean_squared_error, r2_score, matthews_corrcoef, median_absolute_error\n",
    "from sklearn.linear_model import LinearRegression\n",
    "from sklearn.svm import LinearSVR\n",
    "from sklearn.tree import DecisionTreeRegressor\n",
    "from sklearn.ensemble import RandomForestRegressor, BaggingRegressor, ExtraTreesRegressor\n",
    "from sklearn.model_selection import cross_val_score, StratifiedKFold, cross_val_predict, cross_validate, train_test_split, GridSearchCV\n",
    "from sklearn import model_selection\n",
    "import matplotlib.pyplot as plt\n",
    "import os\n",
    "from time import time\n",
    "from datetime import datetime\n",
    "from my_libs.save_lib import save_RF_model\n",
    "from scipy.stats.stats import pearsonr"
   ]
  },
  {
   "cell_type": "code",
   "execution_count": 21,
   "metadata": {
    "scrolled": true
   },
   "outputs": [],
   "source": [
    "df = pd.read_csv('DATA/prepared/prepared_to_saw_gp.csv', low_memory=False)"
   ]
  },
  {
   "cell_type": "code",
   "execution_count": 23,
   "metadata": {},
   "outputs": [],
   "source": [
    "df_hardness = pd.read_excel('DATA/source/exp/prepared/table_hardness_api.xlsx')"
   ]
  },
  {
   "cell_type": "code",
   "execution_count": 24,
   "metadata": {},
   "outputs": [
    {
     "data": {
      "text/plain": [
       "Index(['Число твердости на середине поверхности (1148)',\n",
       "       'Число твердости на внутренней поверхности (1149)',\n",
       "       'Число твердости у наружной поверхности (1147)'],\n",
       "      dtype='object')"
      ]
     },
     "execution_count": 24,
     "metadata": {},
     "output_type": "execute_result"
    }
   ],
   "source": [
    "df_hardness.columns[-3:]"
   ]
  },
  {
   "cell_type": "code",
   "execution_count": 25,
   "metadata": {},
   "outputs": [
    {
     "data": {
      "text/plain": [
       "['№ плавки',\n",
       " '№ партии',\n",
       " 'Число твердости на середине поверхности (1148)',\n",
       " 'Число твердости на внутренней поверхности (1149)',\n",
       " 'Число твердости у наружной поверхности (1147)']"
      ]
     },
     "execution_count": 25,
     "metadata": {},
     "output_type": "execute_result"
    }
   ],
   "source": [
    "['№ плавки', '№ партии'] + list(df_hardness.columns[-3:])"
   ]
  },
  {
   "cell_type": "code",
   "execution_count": 26,
   "metadata": {},
   "outputs": [],
   "source": [
    "df_hardness = df_hardness[['№ плавки', '№ партии'] + list(df_hardness.columns[-3:])]"
   ]
  },
  {
   "cell_type": "code",
   "execution_count": 27,
   "metadata": {},
   "outputs": [
    {
     "data": {
      "text/plain": [
       "(6802, 5)"
      ]
     },
     "execution_count": 27,
     "metadata": {},
     "output_type": "execute_result"
    }
   ],
   "source": [
    "df_hardness.shape"
   ]
  },
  {
   "cell_type": "code",
   "execution_count": 28,
   "metadata": {},
   "outputs": [],
   "source": [
    "df_hardness = df_hardness.groupby(['№ плавки', '№ партии'])[list(df_hardness.columns[-3:])].mean()"
   ]
  },
  {
   "cell_type": "code",
   "execution_count": 29,
   "metadata": {},
   "outputs": [],
   "source": [
    "df_hardness = pd.DataFrame(df_hardness)"
   ]
  },
  {
   "cell_type": "code",
   "execution_count": 30,
   "metadata": {},
   "outputs": [],
   "source": [
    "df_hardness.reset_index(inplace=True)"
   ]
  },
  {
   "cell_type": "code",
   "execution_count": 31,
   "metadata": {},
   "outputs": [
    {
     "data": {
      "text/plain": [
       "(3156, 5)"
      ]
     },
     "execution_count": 31,
     "metadata": {},
     "output_type": "execute_result"
    }
   ],
   "source": [
    "df_hardness.shape"
   ]
  },
  {
   "cell_type": "code",
   "execution_count": 32,
   "metadata": {},
   "outputs": [],
   "source": [
    "df_hardness['№ плавки'] = df_hardness['№ плавки'].astype(str)\n",
    "df_hardness['№ плавки'] = df_hardness['№ плавки'].apply(lambda x: x.lower())\n",
    "df_hardness['№ партии'] = df_hardness['№ партии'].astype(str)\n",
    "df['№ плавки'] = df['№ плавки'].astype(str)\n",
    "df['№ плавки'] = df['№ плавки'].apply(lambda x: x.lower())\n",
    "df['№ партии'] = df['№ партии'].astype(str)"
   ]
  },
  {
   "cell_type": "code",
   "execution_count": 36,
   "metadata": {},
   "outputs": [
    {
     "data": {
      "text/plain": [
       "(24503, 204)"
      ]
     },
     "execution_count": 36,
     "metadata": {},
     "output_type": "execute_result"
    }
   ],
   "source": [
    "df_ = pd.merge(df, df_hardness, on=['№ плавки', '№ партии'], how='left')\n",
    "df_.shape"
   ]
  },
  {
   "cell_type": "code",
   "execution_count": 37,
   "metadata": {},
   "outputs": [],
   "source": [
    "def bath2spr(df):\n",
    "    L = 8.4\n",
    "    df['Скорость прохождения трубы через спрейер, м/с'] = L/df['время выдержки в закалочной ванне, сек.']\n",
    "    df['t˚ C трубы после спреера'] = df['t˚ C трубы после ванны']\n",
    "    return df"
   ]
  },
  {
   "cell_type": "code",
   "execution_count": 38,
   "metadata": {},
   "outputs": [],
   "source": [
    "bath = df_[~df_['время выдержки в закалочной ванне, сек.'].isnull()].copy()\n",
    "df_ = df_[df_['время выдержки в закалочной ванне, сек.'].isnull()].copy()\n",
    "\n",
    "\n",
    "bath = bath2spr(bath)\n",
    "\n",
    "df = pd.concat([df_, bath])\n",
    "df.reset_index(inplace=True, drop=True)"
   ]
  },
  {
   "cell_type": "code",
   "execution_count": 39,
   "metadata": {},
   "outputs": [
    {
     "data": {
      "text/plain": [
       "(24503, 204)"
      ]
     },
     "execution_count": 39,
     "metadata": {},
     "output_type": "execute_result"
    }
   ],
   "source": [
    "df.shape"
   ]
  },
  {
   "cell_type": "code",
   "execution_count": 40,
   "metadata": {},
   "outputs": [
    {
     "name": "stderr",
     "output_type": "stream",
     "text": [
      "C:\\Users\\kseniya.yuldasheva\\Desktop\\gitPNTZtoyuk_1\\gitPNTZ\\PNTZ\\my_libs\\calc_features.ipynb:127: RuntimeWarning: divide by zero encountered in log10\n",
      "  \"\\n\",\n"
     ]
    }
   ],
   "source": [
    "df = len_pipe(df)\n",
    "\n",
    "df = mean_chem(df)\n",
    "\n",
    "df = calc_all_features(df)"
   ]
  },
  {
   "cell_type": "code",
   "execution_count": 41,
   "metadata": {},
   "outputs": [],
   "source": [
    "df = df[df['шаг балок закалочная печь, сек'] < 100]\n",
    "df = df[df['шаг балок закалочная печь, сек'] >= 24]\n",
    "df = df[df['шаг балок отпускная печь, сек'] >= 24]\n",
    "df = df[df['Скорость прохождения трубы через спрейер, м/с'] <= 1]\n",
    "df = df[df['t˚ C трубы после спреера'] > 1]\n",
    "df = df[df['t˚ C трубы после спреера'] <= 250]\n",
    "df = df[df['2 зона ВТР и уставка отпуск'] > 400]\n",
    "df = df[df['4 зона ВТР и уставка отпуск'] > 400]"
   ]
  },
  {
   "cell_type": "code",
   "execution_count": 42,
   "metadata": {
    "scrolled": true
   },
   "outputs": [
    {
     "data": {
      "text/plain": [
       "(23403, 204)"
      ]
     },
     "execution_count": 42,
     "metadata": {},
     "output_type": "execute_result"
    }
   ],
   "source": [
    "df_.shape"
   ]
  },
  {
   "cell_type": "code",
   "execution_count": 43,
   "metadata": {},
   "outputs": [],
   "source": [
    "df_['Дата термообработки'] = df_['Дата термообработки'].apply(lambda x: str(x).replace(' 00:00:00', ''))\n",
    "df_['Дата термообработки'] = df_['Дата термообработки'].apply(lambda x: str(x).replace('-', '.'))"
   ]
  },
  {
   "cell_type": "code",
   "execution_count": 44,
   "metadata": {},
   "outputs": [
    {
     "data": {
      "text/plain": [
       "array([[<matplotlib.axes._subplots.AxesSubplot object at 0x0000029480EC56D8>,\n",
       "        <matplotlib.axes._subplots.AxesSubplot object at 0x0000029480FBEE10>],\n",
       "       [<matplotlib.axes._subplots.AxesSubplot object at 0x0000029480EE3CF8>,\n",
       "        <matplotlib.axes._subplots.AxesSubplot object at 0x0000029481254048>]],\n",
       "      dtype=object)"
      ]
     },
     "execution_count": 44,
     "metadata": {},
     "output_type": "execute_result"
    },
    {
     "data": {
      "image/png": "[encoded data removed]",
      "text/plain": [
       "<Figure size 432x288 with 4 Axes>"
      ]
     },
     "metadata": {},
     "output_type": "display_data"
    }
   ],
   "source": [
    "df_[target].hist()"
   ]
  },
  {
   "cell_type": "code",
   "execution_count": 106,
   "metadata": {},
   "outputs": [
    {
     "data": {
      "text/html": [
       "<div>\n",
       "<style scoped>\n",
       "    .dataframe tbody tr th:only-of-type {\n",
       "        vertical-align: middle;\n",
       "    }\n",
       "\n",
       "    .dataframe tbody tr th {\n",
       "        vertical-align: top;\n",
       "    }\n",
       "\n",
       "    .dataframe thead th {\n",
       "        text-align: right;\n",
       "    }\n",
       "</style>\n",
       "<table border=\"1\" class=\"dataframe\">\n",
       "  <thead>\n",
       "    <tr style=\"text-align: right;\">\n",
       "      <th></th>\n",
       "      <th>Число твердости на середине поверхности (1148)</th>\n",
       "      <th>Число твердости на внутренней поверхности (1149)</th>\n",
       "      <th>Число твердости у наружной поверхности (1147)</th>\n",
       "    </tr>\n",
       "  </thead>\n",
       "  <tbody>\n",
       "    <tr>\n",
       "      <th>count</th>\n",
       "      <td>401.000000</td>\n",
       "      <td>401.000000</td>\n",
       "      <td>401.000000</td>\n",
       "    </tr>\n",
       "    <tr>\n",
       "      <th>mean</th>\n",
       "      <td>18.136232</td>\n",
       "      <td>17.558687</td>\n",
       "      <td>22.403076</td>\n",
       "    </tr>\n",
       "    <tr>\n",
       "      <th>std</th>\n",
       "      <td>7.471136</td>\n",
       "      <td>7.605900</td>\n",
       "      <td>66.116551</td>\n",
       "    </tr>\n",
       "    <tr>\n",
       "      <th>min</th>\n",
       "      <td>8.000000</td>\n",
       "      <td>7.500000</td>\n",
       "      <td>6.500000</td>\n",
       "    </tr>\n",
       "    <tr>\n",
       "      <th>25%</th>\n",
       "      <td>16.150000</td>\n",
       "      <td>16.000000</td>\n",
       "      <td>15.500000</td>\n",
       "    </tr>\n",
       "    <tr>\n",
       "      <th>50%</th>\n",
       "      <td>18.000000</td>\n",
       "      <td>17.500000</td>\n",
       "      <td>17.500000</td>\n",
       "    </tr>\n",
       "    <tr>\n",
       "      <th>75%</th>\n",
       "      <td>19.500000</td>\n",
       "      <td>18.800000</td>\n",
       "      <td>19.500000</td>\n",
       "    </tr>\n",
       "    <tr>\n",
       "      <th>max</th>\n",
       "      <td>158.700000</td>\n",
       "      <td>160.100000</td>\n",
       "      <td>1265.000000</td>\n",
       "    </tr>\n",
       "  </tbody>\n",
       "</table>\n",
       "</div>"
      ],
      "text/plain": [
       "       Число твердости на середине поверхности (1148)  \\\n",
       "count                                      401.000000   \n",
       "mean                                        18.136232   \n",
       "std                                          7.471136   \n",
       "min                                          8.000000   \n",
       "25%                                         16.150000   \n",
       "50%                                         18.000000   \n",
       "75%                                         19.500000   \n",
       "max                                        158.700000   \n",
       "\n",
       "       Число твердости на внутренней поверхности (1149)  \\\n",
       "count                                        401.000000   \n",
       "mean                                          17.558687   \n",
       "std                                            7.605900   \n",
       "min                                            7.500000   \n",
       "25%                                           16.000000   \n",
       "50%                                           17.500000   \n",
       "75%                                           18.800000   \n",
       "max                                          160.100000   \n",
       "\n",
       "       Число твердости у наружной поверхности (1147)  \n",
       "count                                     401.000000  \n",
       "mean                                       22.403076  \n",
       "std                                        66.116551  \n",
       "min                                         6.500000  \n",
       "25%                                        15.500000  \n",
       "50%                                        17.500000  \n",
       "75%                                        19.500000  \n",
       "max                                      1265.000000  "
      ]
     },
     "execution_count": 106,
     "metadata": {},
     "output_type": "execute_result"
    }
   ],
   "source": [
    "df_[target].describe()"
   ]
  },
  {
   "cell_type": "code",
   "execution_count": 45,
   "metadata": {
    "scrolled": true
   },
   "outputs": [],
   "source": [
    "tmp = []\n",
    "for x in df_['Дата термообработки']:\n",
    "    try:\n",
    "        tmp.append(datetime.strptime(x, \"%d.%m.%Y\"))\n",
    "    except ValueError:\n",
    "        tmp.append(datetime.strptime(x, \"%Y.%m.%d\"))\n",
    "df_['Дата термообработки'] = tmp"
   ]
  },
  {
   "cell_type": "code",
   "execution_count": 48,
   "metadata": {},
   "outputs": [
    {
     "data": {
      "text/plain": [
       "(400, 42)"
      ]
     },
     "execution_count": 48,
     "metadata": {},
     "output_type": "execute_result"
    }
   ],
   "source": [
    "df[ls_columns_output+list(target)].dropna().shape"
   ]
  },
  {
   "cell_type": "code",
   "execution_count": 73,
   "metadata": {},
   "outputs": [],
   "source": [
    "ls_train = ls_columns_output.copy()\n",
    "# ls_train.remove('Дата термообработки')\n",
    "ls_train.remove('марка стали')\n",
    "ls_train.remove('Гр. прочн.')\n",
    "\n",
    "# for s in ls_to_del:\n",
    "#     ls_train.remove(s)"
   ]
  },
  {
   "cell_type": "code",
   "execution_count": 74,
   "metadata": {},
   "outputs": [],
   "source": [
    "df_ = df[ls_train+list(target)].dropna()\n",
    "\n",
    "X, X_valid, y, y_valid = train_test_split(df_[ls_train], df_[target], test_size=0.2)"
   ]
  },
  {
   "cell_type": "code",
   "execution_count": 75,
   "metadata": {},
   "outputs": [
    {
     "data": {
      "text/plain": [
       "((320, 37), (81, 37))"
      ]
     },
     "execution_count": 75,
     "metadata": {},
     "output_type": "execute_result"
    }
   ],
   "source": [
    "X.shape, X_valid.shape"
   ]
  },
  {
   "cell_type": "code",
   "execution_count": 76,
   "metadata": {},
   "outputs": [
    {
     "data": {
      "text/plain": [
       "Index(['диаметр', 'толщина стенки', '1 зона по ВТР закалка',\n",
       "       '2 зона по ВТР закалка', '3 зона по ВТР закалка',\n",
       "       'шаг балок закалочная печь, сек',\n",
       "       'Скорость прохождения трубы через спрейер, м/с',\n",
       "       't˚ C трубы после спреера', '1 зона ВТР и уставка отпуск',\n",
       "       '2 зона ВТР и уставка отпуск', '3 зона ВТР и уставка отпуск',\n",
       "       '4 зона ВТР и уставка отпуск', '5 зона ВТР и уставка отпуск',\n",
       "       'шаг балок отпускная печь, сек', 'C', 'Mn', 'Si', 'P', 'S', 'Cr', 'Ni',\n",
       "       'Cu', 'Al', 'V', 'Ti', 'Nb', 'Mo', 'N', 'B', 'C-coef',\n",
       "       'Параметр закалка', 'Параметр отпуск', 'Параметр отпуск новый V',\n",
       "       'Величина зерна', 'Тип предела текучести (1186)', 'ICD', 'длина трубы'],\n",
       "      dtype='object')"
      ]
     },
     "execution_count": 76,
     "metadata": {},
     "output_type": "execute_result"
    }
   ],
   "source": [
    "X.columns"
   ]
  },
  {
   "cell_type": "code",
   "execution_count": 102,
   "metadata": {},
   "outputs": [],
   "source": [
    "def print_and_return_score(x, y, est, verb=1):\n",
    "    y_pred = est.predict(x)\n",
    "#     scr = est.score(x, y)\n",
    "    mae = mean_absolute_error(y, y_pred)\n",
    "    mse = mean_squared_error(y, y_pred)\n",
    "    r2 = r2_score(y, y_pred)\n",
    "    corr = []\n",
    "    for i in range(y.columns.size):\n",
    "        corr.append(np.corrcoef(y.iloc[:, i].T, \n",
    "                                y_pred[:, i]))\n",
    "    \n",
    "    if verb==1:        \n",
    "        print('Score: ', round(scr, 2))\n",
    "        print('R^2: ', round(r2, 2))\n",
    "        print('MAE: ', round(mae, 2))\n",
    "        print('MSE: ', round(mse, 2))\n",
    "        print('Correlation1: ', round(corr[0][0][1], 2))\n",
    "        print('Correlation2: ', round(corr[1][0][1], 2))\n",
    "        print('Correlation3: ', round(corr[2][0][1], 2))\n",
    "    return [scr, mae, mse, corr[0][0][1], corr[1][0][1], corr[2][0][1]]"
   ]
  },
  {
   "cell_type": "code",
   "execution_count": 103,
   "metadata": {},
   "outputs": [],
   "source": [
    "X_train, X_test,  y_train, y_test = train_test_split(X, y, test_size=0.2)"
   ]
  },
  {
   "cell_type": "code",
   "execution_count": 104,
   "metadata": {},
   "outputs": [
    {
     "data": {
      "text/plain": [
       "37"
      ]
     },
     "execution_count": 104,
     "metadata": {},
     "output_type": "execute_result"
    }
   ],
   "source": [
    "len(ls_train)"
   ]
  },
  {
   "cell_type": "code",
   "execution_count": 105,
   "metadata": {},
   "outputs": [
    {
     "name": "stdout",
     "output_type": "stream",
     "text": [
      "Score:  -0.02\n",
      "R^2:  -11.55\n",
      "MAE:  9.25\n",
      "MSE:  4348.47\n",
      "Correlation1:  -0.08\n",
      "Correlation2:  -0.0\n",
      "Correlation3:  -0.01\n"
     ]
    }
   ],
   "source": [
    "rfc = RandomForestRegressor(max_features = 13, max_depth = 18, min_samples_leaf = 1, n_estimators=50, criterion='mse')\n",
    "rfc.fit(X_train, y_train)\n",
    "\n",
    "scr, mae, mse, corr1, corr2, corr3 = print_and_return_score(X_test, y_test, rfc)"
   ]
  },
  {
   "cell_type": "code",
   "execution_count": 80,
   "metadata": {
    "scrolled": true
   },
   "outputs": [
    {
     "name": "stdout",
     "output_type": "stream",
     "text": [
      "диаметр    0.01\n",
      "толщина стенки    0.0\n",
      "1 зона по ВТР закалка    0.0\n",
      "2 зона по ВТР закалка    0.0\n",
      "3 зона по ВТР закалка    0.0\n",
      "шаг балок закалочная печь, сек    0.0\n",
      "Скорость прохождения трубы через спрейер, м/с    0.0\n",
      "t˚ C трубы после спреера    0.02\n",
      "1 зона ВТР и уставка отпуск    0.03\n",
      "2 зона ВТР и уставка отпуск    0.0\n",
      "3 зона ВТР и уставка отпуск    0.05\n",
      "4 зона ВТР и уставка отпуск    0.01\n",
      "5 зона ВТР и уставка отпуск    0.02\n",
      "шаг балок отпускная печь, сек    0.01\n",
      "C    0.01\n",
      "Mn    0.05\n",
      "Si    0.02\n",
      "P    0.01\n",
      "S    0.03\n",
      "Cr    0.04\n",
      "Ni    0.2\n",
      "Cu    0.03\n",
      "Al    0.0\n",
      "V    0.13\n",
      "Ti    0.02\n",
      "Nb    0.0\n",
      "Mo    0.03\n",
      "N    0.0\n",
      "B    0.0\n",
      "C-coef    0.02\n",
      "Параметр закалка    0.01\n",
      "Параметр отпуск    0.05\n",
      "Параметр отпуск новый V    0.07\n",
      "Величина зерна    0.02\n",
      "Тип предела текучести (1186)    0.0\n",
      "ICD    0.08\n",
      "длина трубы    0.02\n"
     ]
    }
   ],
   "source": [
    "val = rfc.feature_importances_\n",
    "lab = ls_train\n",
    "dict_feat_import = dict(zip(lab, val))\n",
    "ls_to_del = []\n",
    "for feat, imp in zip(lab, val):\n",
    "    print(feat, '  ', imp.round(2))\n",
    "    if imp.round(2) < 0.01:\n",
    "        ls_to_del.append(feat)"
   ]
  },
  {
   "cell_type": "code",
   "execution_count": 81,
   "metadata": {},
   "outputs": [
    {
     "data": {
      "text/plain": [
       "['толщина стенки',\n",
       " '1 зона по ВТР закалка',\n",
       " '2 зона по ВТР закалка',\n",
       " '3 зона по ВТР закалка',\n",
       " 'шаг балок закалочная печь, сек',\n",
       " 'Скорость прохождения трубы через спрейер, м/с',\n",
       " '2 зона ВТР и уставка отпуск',\n",
       " 'Al',\n",
       " 'Nb',\n",
       " 'N',\n",
       " 'B',\n",
       " 'Тип предела текучести (1186)']"
      ]
     },
     "execution_count": 81,
     "metadata": {},
     "output_type": "execute_result"
    }
   ],
   "source": [
    "ls_to_del"
   ]
  },
  {
   "cell_type": "code",
   "execution_count": 83,
   "metadata": {},
   "outputs": [
    {
     "name": "stdout",
     "output_type": "stream",
     "text": [
      "R^2:  -651.55\n",
      "MAE:  16.42\n",
      "MSE:  3711.45\n"
     ]
    }
   ],
   "source": [
    "lr = LinearRegression()\n",
    "lr.fit(X_train, y_train)\n",
    "\n",
    "scr, mae, mse = print_and_return_score(X_test, y_test, lr)"
   ]
  },
  {
   "cell_type": "code",
   "execution_count": 85,
   "metadata": {
    "scrolled": true
   },
   "outputs": [
    {
     "ename": "ValueError",
     "evalue": "bad input shape (256, 3)",
     "output_type": "error",
     "traceback": [
      "\u001b[1;31m---------------------------------------------------------------------------\u001b[0m",
      "\u001b[1;31mValueError\u001b[0m                                Traceback (most recent call last)",
      "\u001b[1;32m<ipython-input-85-917ab93cf049>\u001b[0m in \u001b[0;36m<module>\u001b[1;34m()\u001b[0m\n\u001b[0;32m      3\u001b[0m \u001b[1;33m\u001b[0m\u001b[0m\n\u001b[0;32m      4\u001b[0m \u001b[0ml\u001b[0m \u001b[1;33m=\u001b[0m \u001b[0mHuberRegressor\u001b[0m\u001b[1;33m(\u001b[0m\u001b[1;33m)\u001b[0m\u001b[1;33m\u001b[0m\u001b[0m\n\u001b[1;32m----> 5\u001b[1;33m \u001b[0ml\u001b[0m\u001b[1;33m.\u001b[0m\u001b[0mfit\u001b[0m\u001b[1;33m(\u001b[0m\u001b[0mX_train\u001b[0m\u001b[1;33m,\u001b[0m \u001b[0my_train\u001b[0m\u001b[1;33m)\u001b[0m\u001b[1;33m\u001b[0m\u001b[0m\n\u001b[0m\u001b[0;32m      6\u001b[0m \u001b[1;33m\u001b[0m\u001b[0m\n\u001b[0;32m      7\u001b[0m \u001b[0mscr\u001b[0m\u001b[1;33m,\u001b[0m \u001b[0mmae\u001b[0m\u001b[1;33m,\u001b[0m \u001b[0mmse\u001b[0m \u001b[1;33m=\u001b[0m \u001b[0mprint_and_return_score\u001b[0m\u001b[1;33m(\u001b[0m\u001b[0mX_test\u001b[0m\u001b[1;33m,\u001b[0m \u001b[0my_test\u001b[0m\u001b[1;33m,\u001b[0m \u001b[0ml\u001b[0m\u001b[1;33m)\u001b[0m\u001b[1;33m\u001b[0m\u001b[0m\n",
      "\u001b[1;32mC:\\ProgramData\\Anaconda3\\lib\\site-packages\\sklearn\\linear_model\\huber.py\u001b[0m in \u001b[0;36mfit\u001b[1;34m(self, X, y, sample_weight)\u001b[0m\n\u001b[0;32m    226\u001b[0m         \"\"\"\n\u001b[0;32m    227\u001b[0m         X, y = check_X_y(\n\u001b[1;32m--> 228\u001b[1;33m             X, y, copy=False, accept_sparse=['csr'], y_numeric=True)\n\u001b[0m\u001b[0;32m    229\u001b[0m         \u001b[1;32mif\u001b[0m \u001b[0msample_weight\u001b[0m \u001b[1;32mis\u001b[0m \u001b[1;32mnot\u001b[0m \u001b[1;32mNone\u001b[0m\u001b[1;33m:\u001b[0m\u001b[1;33m\u001b[0m\u001b[0m\n\u001b[0;32m    230\u001b[0m             \u001b[0msample_weight\u001b[0m \u001b[1;33m=\u001b[0m \u001b[0mnp\u001b[0m\u001b[1;33m.\u001b[0m\u001b[0marray\u001b[0m\u001b[1;33m(\u001b[0m\u001b[0msample_weight\u001b[0m\u001b[1;33m)\u001b[0m\u001b[1;33m\u001b[0m\u001b[0m\n",
      "\u001b[1;32mC:\\ProgramData\\Anaconda3\\lib\\site-packages\\sklearn\\utils\\validation.py\u001b[0m in \u001b[0;36mcheck_X_y\u001b[1;34m(X, y, accept_sparse, dtype, order, copy, force_all_finite, ensure_2d, allow_nd, multi_output, ensure_min_samples, ensure_min_features, y_numeric, warn_on_dtype, estimator)\u001b[0m\n\u001b[0;32m    576\u001b[0m                         dtype=None)\n\u001b[0;32m    577\u001b[0m     \u001b[1;32melse\u001b[0m\u001b[1;33m:\u001b[0m\u001b[1;33m\u001b[0m\u001b[0m\n\u001b[1;32m--> 578\u001b[1;33m         \u001b[0my\u001b[0m \u001b[1;33m=\u001b[0m \u001b[0mcolumn_or_1d\u001b[0m\u001b[1;33m(\u001b[0m\u001b[0my\u001b[0m\u001b[1;33m,\u001b[0m \u001b[0mwarn\u001b[0m\u001b[1;33m=\u001b[0m\u001b[1;32mTrue\u001b[0m\u001b[1;33m)\u001b[0m\u001b[1;33m\u001b[0m\u001b[0m\n\u001b[0m\u001b[0;32m    579\u001b[0m         \u001b[0m_assert_all_finite\u001b[0m\u001b[1;33m(\u001b[0m\u001b[0my\u001b[0m\u001b[1;33m)\u001b[0m\u001b[1;33m\u001b[0m\u001b[0m\n\u001b[0;32m    580\u001b[0m     \u001b[1;32mif\u001b[0m \u001b[0my_numeric\u001b[0m \u001b[1;32mand\u001b[0m \u001b[0my\u001b[0m\u001b[1;33m.\u001b[0m\u001b[0mdtype\u001b[0m\u001b[1;33m.\u001b[0m\u001b[0mkind\u001b[0m \u001b[1;33m==\u001b[0m \u001b[1;34m'O'\u001b[0m\u001b[1;33m:\u001b[0m\u001b[1;33m\u001b[0m\u001b[0m\n",
      "\u001b[1;32mC:\\ProgramData\\Anaconda3\\lib\\site-packages\\sklearn\\utils\\validation.py\u001b[0m in \u001b[0;36mcolumn_or_1d\u001b[1;34m(y, warn)\u001b[0m\n\u001b[0;32m    612\u001b[0m         \u001b[1;32mreturn\u001b[0m \u001b[0mnp\u001b[0m\u001b[1;33m.\u001b[0m\u001b[0mravel\u001b[0m\u001b[1;33m(\u001b[0m\u001b[0my\u001b[0m\u001b[1;33m)\u001b[0m\u001b[1;33m\u001b[0m\u001b[0m\n\u001b[0;32m    613\u001b[0m \u001b[1;33m\u001b[0m\u001b[0m\n\u001b[1;32m--> 614\u001b[1;33m     \u001b[1;32mraise\u001b[0m \u001b[0mValueError\u001b[0m\u001b[1;33m(\u001b[0m\u001b[1;34m\"bad input shape {0}\"\u001b[0m\u001b[1;33m.\u001b[0m\u001b[0mformat\u001b[0m\u001b[1;33m(\u001b[0m\u001b[0mshape\u001b[0m\u001b[1;33m)\u001b[0m\u001b[1;33m)\u001b[0m\u001b[1;33m\u001b[0m\u001b[0m\n\u001b[0m\u001b[0;32m    615\u001b[0m \u001b[1;33m\u001b[0m\u001b[0m\n\u001b[0;32m    616\u001b[0m \u001b[1;33m\u001b[0m\u001b[0m\n",
      "\u001b[1;31mValueError\u001b[0m: bad input shape (256, 3)"
     ]
    }
   ],
   "source": [
    "\n",
    "from sklearn.linear_model import RidgeCV, Lasso, LassoLars, BayesianRidge,SGDRegressor, Perceptron, HuberRegressor\n",
    "\n",
    "l = HuberRegressor()\n",
    "l.fit(X_train, y_train)\n",
    "\n",
    "scr, mae, mse = print_and_return_score(X_test, y_test, l)"
   ]
  },
  {
   "cell_type": "code",
   "execution_count": 87,
   "metadata": {},
   "outputs": [
    {
     "name": "stdout",
     "output_type": "stream",
     "text": [
      "R^2:  -651.55\n",
      "MAE:  16.42\n",
      "MSE:  3711.45\n"
     ]
    },
    {
     "data": {
      "text/plain": [
       "10.0"
      ]
     },
     "execution_count": 87,
     "metadata": {},
     "output_type": "execute_result"
    }
   ],
   "source": [
    "c = 1\n",
    "r = RidgeCV(alphas=[0.1, 1.0, 10.0])\n",
    "r.fit(X_train, y_train)\n",
    "\n",
    "scr, mae, mse= print_and_return_score(X_test, y_test, lr)\n",
    "r.alpha_"
   ]
  },
  {
   "cell_type": "code",
   "execution_count": 89,
   "metadata": {
    "scrolled": true
   },
   "outputs": [
    {
     "ename": "ValueError",
     "evalue": "bad input shape (256, 3)",
     "output_type": "error",
     "traceback": [
      "\u001b[1;31m---------------------------------------------------------------------------\u001b[0m",
      "\u001b[1;31mValueError\u001b[0m                                Traceback (most recent call last)",
      "\u001b[1;32m<ipython-input-89-3667e486c220>\u001b[0m in \u001b[0;36m<module>\u001b[1;34m()\u001b[0m\n\u001b[0;32m      2\u001b[0m \u001b[1;33m\u001b[0m\u001b[0m\n\u001b[0;32m      3\u001b[0m \u001b[0mg\u001b[0m \u001b[1;33m=\u001b[0m \u001b[0mGradientBoostingRegressor\u001b[0m\u001b[1;33m(\u001b[0m\u001b[1;33m)\u001b[0m\u001b[1;33m\u001b[0m\u001b[0m\n\u001b[1;32m----> 4\u001b[1;33m \u001b[0mg\u001b[0m\u001b[1;33m.\u001b[0m\u001b[0mfit\u001b[0m\u001b[1;33m(\u001b[0m\u001b[0mX_train\u001b[0m\u001b[1;33m,\u001b[0m \u001b[0my_train\u001b[0m\u001b[1;33m)\u001b[0m\u001b[1;33m\u001b[0m\u001b[0m\n\u001b[0m\u001b[0;32m      5\u001b[0m \u001b[1;33m\u001b[0m\u001b[0m\n\u001b[0;32m      6\u001b[0m \u001b[0mscr\u001b[0m\u001b[1;33m,\u001b[0m \u001b[0mmae\u001b[0m\u001b[1;33m,\u001b[0m \u001b[0mmse\u001b[0m \u001b[1;33m=\u001b[0m \u001b[0mprint_and_return_score\u001b[0m\u001b[1;33m(\u001b[0m\u001b[0mX_test\u001b[0m\u001b[1;33m,\u001b[0m \u001b[0my_test\u001b[0m\u001b[1;33m,\u001b[0m \u001b[0mg\u001b[0m\u001b[1;33m)\u001b[0m\u001b[1;33m\u001b[0m\u001b[0m\n",
      "\u001b[1;32mC:\\ProgramData\\Anaconda3\\lib\\site-packages\\sklearn\\ensemble\\gradient_boosting.py\u001b[0m in \u001b[0;36mfit\u001b[1;34m(self, X, y, sample_weight, monitor)\u001b[0m\n\u001b[0;32m    977\u001b[0m \u001b[1;33m\u001b[0m\u001b[0m\n\u001b[0;32m    978\u001b[0m         \u001b[1;31m# Check input\u001b[0m\u001b[1;33m\u001b[0m\u001b[1;33m\u001b[0m\u001b[0m\n\u001b[1;32m--> 979\u001b[1;33m         \u001b[0mX\u001b[0m\u001b[1;33m,\u001b[0m \u001b[0my\u001b[0m \u001b[1;33m=\u001b[0m \u001b[0mcheck_X_y\u001b[0m\u001b[1;33m(\u001b[0m\u001b[0mX\u001b[0m\u001b[1;33m,\u001b[0m \u001b[0my\u001b[0m\u001b[1;33m,\u001b[0m \u001b[0maccept_sparse\u001b[0m\u001b[1;33m=\u001b[0m\u001b[1;33m[\u001b[0m\u001b[1;34m'csr'\u001b[0m\u001b[1;33m,\u001b[0m \u001b[1;34m'csc'\u001b[0m\u001b[1;33m,\u001b[0m \u001b[1;34m'coo'\u001b[0m\u001b[1;33m]\u001b[0m\u001b[1;33m,\u001b[0m \u001b[0mdtype\u001b[0m\u001b[1;33m=\u001b[0m\u001b[0mDTYPE\u001b[0m\u001b[1;33m)\u001b[0m\u001b[1;33m\u001b[0m\u001b[0m\n\u001b[0m\u001b[0;32m    980\u001b[0m         \u001b[0mn_samples\u001b[0m\u001b[1;33m,\u001b[0m \u001b[0mself\u001b[0m\u001b[1;33m.\u001b[0m\u001b[0mn_features_\u001b[0m \u001b[1;33m=\u001b[0m \u001b[0mX\u001b[0m\u001b[1;33m.\u001b[0m\u001b[0mshape\u001b[0m\u001b[1;33m\u001b[0m\u001b[0m\n\u001b[0;32m    981\u001b[0m         \u001b[1;32mif\u001b[0m \u001b[0msample_weight\u001b[0m \u001b[1;32mis\u001b[0m \u001b[1;32mNone\u001b[0m\u001b[1;33m:\u001b[0m\u001b[1;33m\u001b[0m\u001b[0m\n",
      "\u001b[1;32mC:\\ProgramData\\Anaconda3\\lib\\site-packages\\sklearn\\utils\\validation.py\u001b[0m in \u001b[0;36mcheck_X_y\u001b[1;34m(X, y, accept_sparse, dtype, order, copy, force_all_finite, ensure_2d, allow_nd, multi_output, ensure_min_samples, ensure_min_features, y_numeric, warn_on_dtype, estimator)\u001b[0m\n\u001b[0;32m    576\u001b[0m                         dtype=None)\n\u001b[0;32m    577\u001b[0m     \u001b[1;32melse\u001b[0m\u001b[1;33m:\u001b[0m\u001b[1;33m\u001b[0m\u001b[0m\n\u001b[1;32m--> 578\u001b[1;33m         \u001b[0my\u001b[0m \u001b[1;33m=\u001b[0m \u001b[0mcolumn_or_1d\u001b[0m\u001b[1;33m(\u001b[0m\u001b[0my\u001b[0m\u001b[1;33m,\u001b[0m \u001b[0mwarn\u001b[0m\u001b[1;33m=\u001b[0m\u001b[1;32mTrue\u001b[0m\u001b[1;33m)\u001b[0m\u001b[1;33m\u001b[0m\u001b[0m\n\u001b[0m\u001b[0;32m    579\u001b[0m         \u001b[0m_assert_all_finite\u001b[0m\u001b[1;33m(\u001b[0m\u001b[0my\u001b[0m\u001b[1;33m)\u001b[0m\u001b[1;33m\u001b[0m\u001b[0m\n\u001b[0;32m    580\u001b[0m     \u001b[1;32mif\u001b[0m \u001b[0my_numeric\u001b[0m \u001b[1;32mand\u001b[0m \u001b[0my\u001b[0m\u001b[1;33m.\u001b[0m\u001b[0mdtype\u001b[0m\u001b[1;33m.\u001b[0m\u001b[0mkind\u001b[0m \u001b[1;33m==\u001b[0m \u001b[1;34m'O'\u001b[0m\u001b[1;33m:\u001b[0m\u001b[1;33m\u001b[0m\u001b[0m\n",
      "\u001b[1;32mC:\\ProgramData\\Anaconda3\\lib\\site-packages\\sklearn\\utils\\validation.py\u001b[0m in \u001b[0;36mcolumn_or_1d\u001b[1;34m(y, warn)\u001b[0m\n\u001b[0;32m    612\u001b[0m         \u001b[1;32mreturn\u001b[0m \u001b[0mnp\u001b[0m\u001b[1;33m.\u001b[0m\u001b[0mravel\u001b[0m\u001b[1;33m(\u001b[0m\u001b[0my\u001b[0m\u001b[1;33m)\u001b[0m\u001b[1;33m\u001b[0m\u001b[0m\n\u001b[0;32m    613\u001b[0m \u001b[1;33m\u001b[0m\u001b[0m\n\u001b[1;32m--> 614\u001b[1;33m     \u001b[1;32mraise\u001b[0m \u001b[0mValueError\u001b[0m\u001b[1;33m(\u001b[0m\u001b[1;34m\"bad input shape {0}\"\u001b[0m\u001b[1;33m.\u001b[0m\u001b[0mformat\u001b[0m\u001b[1;33m(\u001b[0m\u001b[0mshape\u001b[0m\u001b[1;33m)\u001b[0m\u001b[1;33m)\u001b[0m\u001b[1;33m\u001b[0m\u001b[0m\n\u001b[0m\u001b[0;32m    615\u001b[0m \u001b[1;33m\u001b[0m\u001b[0m\n\u001b[0;32m    616\u001b[0m \u001b[1;33m\u001b[0m\u001b[0m\n",
      "\u001b[1;31mValueError\u001b[0m: bad input shape (256, 3)"
     ]
    }
   ],
   "source": [
    "from sklearn.ensemble import GradientBoostingRegressor\n",
    "\n",
    "g = GradientBoostingRegressor()\n",
    "g.fit(X_train, y_train)\n",
    "\n",
    "scr, mae, mse = print_and_return_score(X_test, y_test, g)"
   ]
  },
  {
   "cell_type": "code",
   "execution_count": 90,
   "metadata": {},
   "outputs": [
    {
     "name": "stderr",
     "output_type": "stream",
     "text": [
      "Can not use cuDNN on context None: cannot compile with cuDNN. We got this error:\n",
      "b'c:\\\\Temp\\\\try_flags_lsco4z49.c:4:19: fatal error: cudnn.h: No such file or directory\\r\\ncompilation terminated.\\r\\n'\n",
      "Mapped name None to device cuda: GeForce GTX 1060 6GB (0000:01:00.0)\n"
     ]
    }
   ],
   "source": [
    "# import tensorflow as tf\n",
    "import theano\n",
    "import keras\n",
    "from keras.models import Sequential\n",
    "from keras.layers import Dense, Activation, Dropout\n",
    "from keras.layers.normalization import BatchNormalization"
   ]
  },
  {
   "cell_type": "code",
   "execution_count": 91,
   "metadata": {},
   "outputs": [
    {
     "name": "stdout",
     "output_type": "stream",
     "text": [
      "Epoch 1/100\n",
      "256/256 [==============================] - 2s 8ms/step - loss: 18.8462 - mean_absolute_error: 19.5393\n",
      "Epoch 2/100\n",
      "256/256 [==============================] - 0s 200us/step - loss: 18.0415 - mean_absolute_error: 18.7346\n",
      "Epoch 3/100\n",
      "256/256 [==============================] - 0s 196us/step - loss: 17.2333 - mean_absolute_error: 17.9265\n",
      "Epoch 4/100\n",
      "256/256 [==============================] - 0s 196us/step - loss: 16.4284 - mean_absolute_error: 17.1215\n",
      "Epoch 5/100\n",
      "256/256 [==============================] - 0s 188us/step - loss: 15.6253 - mean_absolute_error: 16.3185\n",
      "Epoch 6/100\n",
      "256/256 [==============================] - 0s 188us/step - loss: 14.8234 - mean_absolute_error: 15.5165\n",
      "Epoch 7/100\n",
      "256/256 [==============================] - 0s 192us/step - loss: 14.0225 - mean_absolute_error: 14.7152\n",
      "Epoch 8/100\n",
      "256/256 [==============================] - 0s 192us/step - loss: 13.2232 - mean_absolute_error: 13.9150\n",
      "Epoch 9/100\n",
      "256/256 [==============================] - 0s 192us/step - loss: 12.4280 - mean_absolute_error: 13.1181\n",
      "Epoch 10/100\n",
      "256/256 [==============================] - 0s 192us/step - loss: 11.6368 - mean_absolute_error: 12.3267\n",
      "Epoch 11/100\n",
      "256/256 [==============================] - 0s 188us/step - loss: 10.8551 - mean_absolute_error: 11.5438\n",
      "Epoch 12/100\n",
      "256/256 [==============================] - 0s 211us/step - loss: 10.0819 - mean_absolute_error: 10.7688\n",
      "Epoch 13/100\n",
      "256/256 [==============================] - 0s 196us/step - loss: 9.3246 - mean_absolute_error: 10.0114\n",
      "Epoch 14/100\n",
      "256/256 [==============================] - 0s 196us/step - loss: 8.5831 - mean_absolute_error: 9.2669\n",
      "Epoch 15/100\n",
      "256/256 [==============================] - 0s 192us/step - loss: 7.8708 - mean_absolute_error: 8.5506\n",
      "Epoch 16/100\n",
      "256/256 [==============================] - 0s 192us/step - loss: 7.1883 - mean_absolute_error: 7.8610\n",
      "Epoch 17/100\n",
      "256/256 [==============================] - 0s 168us/step - loss: 6.5637 - mean_absolute_error: 7.2244\n",
      "Epoch 18/100\n",
      "256/256 [==============================] - 0s 184us/step - loss: 6.0058 - mean_absolute_error: 6.6505\n",
      "Epoch 19/100\n",
      "256/256 [==============================] - 0s 180us/step - loss: 5.5428 - mean_absolute_error: 6.1733\n",
      "Epoch 20/100\n",
      "256/256 [==============================] - 0s 184us/step - loss: 5.1743 - mean_absolute_error: 5.7856\n",
      "Epoch 21/100\n",
      "256/256 [==============================] - 0s 184us/step - loss: 4.9048 - mean_absolute_error: 5.5081\n",
      "Epoch 22/100\n",
      "256/256 [==============================] - 0s 180us/step - loss: 4.7202 - mean_absolute_error: 5.3131\n",
      "Epoch 23/100\n",
      "256/256 [==============================] - 0s 184us/step - loss: 4.5884 - mean_absolute_error: 5.1791\n",
      "Epoch 24/100\n",
      "256/256 [==============================] - 0s 184us/step - loss: 4.5077 - mean_absolute_error: 5.0922\n",
      "Epoch 25/100\n",
      "256/256 [==============================] - 0s 180us/step - loss: 4.4596 - mean_absolute_error: 5.0373\n",
      "Epoch 26/100\n",
      "256/256 [==============================] - 0s 176us/step - loss: 4.4279 - mean_absolute_error: 4.9990\n",
      "Epoch 27/100\n",
      "256/256 [==============================] - 0s 172us/step - loss: 4.4104 - mean_absolute_error: 4.9789\n",
      "Epoch 28/100\n",
      "256/256 [==============================] - 0s 172us/step - loss: 4.3989 - mean_absolute_error: 4.9657\n",
      "Epoch 29/100\n",
      "256/256 [==============================] - 0s 168us/step - loss: 4.3931 - mean_absolute_error: 4.9573\n",
      "Epoch 30/100\n",
      "256/256 [==============================] - 0s 157us/step - loss: 4.3894 - mean_absolute_error: 4.9516\n",
      "Epoch 31/100\n",
      "256/256 [==============================] - 0s 168us/step - loss: 4.3872 - mean_absolute_error: 4.9468\n",
      "Epoch 32/100\n",
      "256/256 [==============================] - 0s 153us/step - loss: 4.3868 - mean_absolute_error: 4.9459\n",
      "Epoch 33/100\n",
      "256/256 [==============================] - 0s 153us/step - loss: 4.3853 - mean_absolute_error: 4.9443\n",
      "Epoch 34/100\n",
      "256/256 [==============================] - 0s 161us/step - loss: 4.3851 - mean_absolute_error: 4.9439\n",
      "Epoch 35/100\n",
      "256/256 [==============================] - 0s 168us/step - loss: 4.3848 - mean_absolute_error: 4.9442\n",
      "Epoch 36/100\n",
      "256/256 [==============================] - 0s 168us/step - loss: 4.3851 - mean_absolute_error: 4.9447\n",
      "Epoch 37/100\n",
      "256/256 [==============================] - 0s 200us/step - loss: 4.3847 - mean_absolute_error: 4.9445\n",
      "Epoch 38/100\n",
      "256/256 [==============================] - 0s 208us/step - loss: 4.3847 - mean_absolute_error: 4.9449\n",
      "Epoch 39/100\n",
      "256/256 [==============================] - 0s 149us/step - loss: 4.3849 - mean_absolute_error: 4.9455\n",
      "Epoch 40/100\n",
      "256/256 [==============================] - 0s 161us/step - loss: 4.3846 - mean_absolute_error: 4.9452\n",
      "Epoch 41/100\n",
      "256/256 [==============================] - 0s 164us/step - loss: 4.3847 - mean_absolute_error: 4.9453\n",
      "Epoch 42/100\n",
      "256/256 [==============================] - 0s 168us/step - loss: 4.3846 - mean_absolute_error: 4.9452\n",
      "Epoch 43/100\n",
      "256/256 [==============================] - 0s 157us/step - loss: 4.3849 - mean_absolute_error: 4.9458\n",
      "Epoch 44/100\n",
      "256/256 [==============================] - 0s 164us/step - loss: 4.3851 - mean_absolute_error: 4.9459\n",
      "Epoch 45/100\n",
      "256/256 [==============================] - 0s 157us/step - loss: 4.3848 - mean_absolute_error: 4.9455\n",
      "Epoch 46/100\n",
      "256/256 [==============================] - 0s 153us/step - loss: 4.3848 - mean_absolute_error: 4.9460\n",
      "Epoch 47/100\n",
      "256/256 [==============================] - 0s 157us/step - loss: 4.3847 - mean_absolute_error: 4.9452\n",
      "Epoch 48/100\n",
      "256/256 [==============================] - 0s 157us/step - loss: 4.3848 - mean_absolute_error: 4.9453\n",
      "Epoch 49/100\n",
      "256/256 [==============================] - 0s 149us/step - loss: 4.3846 - mean_absolute_error: 4.9452\n",
      "Epoch 50/100\n",
      "256/256 [==============================] - 0s 145us/step - loss: 4.3845 - mean_absolute_error: 4.9449\n",
      "Epoch 51/100\n",
      "256/256 [==============================] - 0s 149us/step - loss: 4.3848 - mean_absolute_error: 4.9455\n",
      "Epoch 52/100\n",
      "256/256 [==============================] - 0s 153us/step - loss: 4.3848 - mean_absolute_error: 4.9455\n",
      "Epoch 53/100\n",
      "256/256 [==============================] - 0s 145us/step - loss: 4.3846 - mean_absolute_error: 4.9450\n",
      "Epoch 54/100\n",
      "256/256 [==============================] - 0s 161us/step - loss: 4.3846 - mean_absolute_error: 4.9449\n",
      "Epoch 55/100\n",
      "256/256 [==============================] - 0s 153us/step - loss: 4.3846 - mean_absolute_error: 4.9452\n",
      "Epoch 56/100\n",
      "256/256 [==============================] - 0s 145us/step - loss: 4.3846 - mean_absolute_error: 4.9454\n",
      "Epoch 57/100\n",
      "256/256 [==============================] - 0s 149us/step - loss: 4.3844 - mean_absolute_error: 4.9451\n",
      "Epoch 58/100\n",
      "256/256 [==============================] - 0s 149us/step - loss: 4.3853 - mean_absolute_error: 4.9458\n",
      "Epoch 59/100\n",
      "256/256 [==============================] - 0s 164us/step - loss: 4.3845 - mean_absolute_error: 4.9452\n",
      "Epoch 60/100\n",
      "256/256 [==============================] - 0s 157us/step - loss: 4.3854 - mean_absolute_error: 4.9465\n",
      "Epoch 61/100\n",
      "256/256 [==============================] - 0s 141us/step - loss: 4.3845 - mean_absolute_error: 4.9453\n",
      "Epoch 62/100\n",
      "256/256 [==============================] - 0s 149us/step - loss: 4.3848 - mean_absolute_error: 4.9455\n",
      "Epoch 63/100\n",
      "256/256 [==============================] - 0s 149us/step - loss: 4.3848 - mean_absolute_error: 4.9460\n",
      "Epoch 64/100\n",
      "256/256 [==============================] - 0s 129us/step - loss: 4.3847 - mean_absolute_error: 4.9458\n",
      "Epoch 65/100\n",
      "256/256 [==============================] - 0s 133us/step - loss: 4.3844 - mean_absolute_error: 4.9452\n",
      "Epoch 66/100\n",
      "256/256 [==============================] - 0s 133us/step - loss: 4.3847 - mean_absolute_error: 4.9453\n",
      "Epoch 67/100\n",
      "256/256 [==============================] - 0s 137us/step - loss: 4.3847 - mean_absolute_error: 4.9451\n",
      "Epoch 68/100\n",
      "256/256 [==============================] - 0s 129us/step - loss: 4.3846 - mean_absolute_error: 4.9450\n",
      "Epoch 69/100\n",
      "256/256 [==============================] - 0s 168us/step - loss: 4.3847 - mean_absolute_error: 4.9453\n",
      "Epoch 70/100\n",
      "256/256 [==============================] - 0s 164us/step - loss: 4.3846 - mean_absolute_error: 4.9452\n",
      "Epoch 71/100\n",
      "256/256 [==============================] - 0s 149us/step - loss: 4.3844 - mean_absolute_error: 4.9451\n",
      "Epoch 72/100\n"
     ]
    },
    {
     "name": "stdout",
     "output_type": "stream",
     "text": [
      "256/256 [==============================] - 0s 172us/step - loss: 4.3846 - mean_absolute_error: 4.9452\n",
      "Epoch 73/100\n",
      "256/256 [==============================] - 0s 161us/step - loss: 4.3845 - mean_absolute_error: 4.9451\n",
      "Epoch 74/100\n",
      "256/256 [==============================] - 0s 137us/step - loss: 4.3852 - mean_absolute_error: 4.9453\n",
      "Epoch 75/100\n",
      "256/256 [==============================] - 0s 141us/step - loss: 4.3846 - mean_absolute_error: 4.9450\n",
      "Epoch 76/100\n",
      "256/256 [==============================] - 0s 137us/step - loss: 4.3847 - mean_absolute_error: 4.9451\n",
      "Epoch 77/100\n",
      "256/256 [==============================] - 0s 133us/step - loss: 4.3849 - mean_absolute_error: 4.9458\n",
      "Epoch 78/100\n",
      "256/256 [==============================] - 0s 133us/step - loss: 4.3845 - mean_absolute_error: 4.9454\n",
      "Epoch 79/100\n",
      "256/256 [==============================] - 0s 137us/step - loss: 4.3848 - mean_absolute_error: 4.9455\n",
      "Epoch 80/100\n",
      "256/256 [==============================] - 0s 145us/step - loss: 4.3849 - mean_absolute_error: 4.9457\n",
      "Epoch 81/100\n",
      "256/256 [==============================] - 0s 180us/step - loss: 4.3849 - mean_absolute_error: 4.9460\n",
      "Epoch 82/100\n",
      "256/256 [==============================] - 0s 204us/step - loss: 4.3857 - mean_absolute_error: 4.9465\n",
      "Epoch 83/100\n",
      "256/256 [==============================] - 0s 137us/step - loss: 4.3850 - mean_absolute_error: 4.9454\n",
      "Epoch 84/100\n",
      "256/256 [==============================] - 0s 137us/step - loss: 4.3846 - mean_absolute_error: 4.9452\n",
      "Epoch 85/100\n",
      "256/256 [==============================] - 0s 133us/step - loss: 4.3850 - mean_absolute_error: 4.9455\n",
      "Epoch 86/100\n",
      "256/256 [==============================] - 0s 145us/step - loss: 4.3852 - mean_absolute_error: 4.9461\n",
      "Epoch 87/100\n",
      "256/256 [==============================] - 0s 129us/step - loss: 4.3845 - mean_absolute_error: 4.9451\n",
      "Epoch 88/100\n",
      "256/256 [==============================] - 0s 145us/step - loss: 4.3846 - mean_absolute_error: 4.9450\n",
      "Epoch 89/100\n",
      "256/256 [==============================] - 0s 145us/step - loss: 4.3846 - mean_absolute_error: 4.9452\n",
      "Epoch 90/100\n",
      "256/256 [==============================] - 0s 149us/step - loss: 4.3846 - mean_absolute_error: 4.9452\n",
      "Epoch 91/100\n",
      "256/256 [==============================] - 0s 145us/step - loss: 4.3847 - mean_absolute_error: 4.9451\n",
      "Epoch 92/100\n",
      "256/256 [==============================] - 0s 133us/step - loss: 4.3851 - mean_absolute_error: 4.9456\n",
      "Epoch 93/100\n",
      "256/256 [==============================] - 0s 153us/step - loss: 4.3847 - mean_absolute_error: 4.9451\n",
      "Epoch 94/100\n",
      "256/256 [==============================] - 0s 157us/step - loss: 4.3851 - mean_absolute_error: 4.9461\n",
      "Epoch 95/100\n",
      "256/256 [==============================] - 0s 141us/step - loss: 4.3847 - mean_absolute_error: 4.9456\n",
      "Epoch 96/100\n",
      "256/256 [==============================] - 0s 157us/step - loss: 4.3846 - mean_absolute_error: 4.9453\n",
      "Epoch 97/100\n",
      "256/256 [==============================] - 0s 141us/step - loss: 4.3847 - mean_absolute_error: 4.9453\n",
      "Epoch 98/100\n",
      "256/256 [==============================] - 0s 149us/step - loss: 4.3858 - mean_absolute_error: 4.9470\n",
      "Epoch 99/100\n",
      "256/256 [==============================] - 0s 157us/step - loss: 4.3845 - mean_absolute_error: 4.9453\n",
      "Epoch 100/100\n",
      "256/256 [==============================] - 0s 165us/step - loss: 4.3849 - mean_absolute_error: 4.9450\n"
     ]
    },
    {
     "data": {
      "text/plain": [
       "<keras.callbacks.History at 0x29486e574a8>"
      ]
     },
     "execution_count": 91,
     "metadata": {},
     "output_type": "execute_result"
    }
   ],
   "source": [
    "model = Sequential()\n",
    "model.add(Dense(units=4,input_dim=X_train.shape[1]))\n",
    "model.add(Activation('tanh'))\n",
    "model.add(Dense(units=3))\n",
    "model.compile(\n",
    "        loss=keras.losses.logcosh,\n",
    "        # loss=keras.losses.mean_absolute_error,\n",
    "        metrics=[keras.metrics.mean_absolute_error],\n",
    "#             optimizer=keras.optimizers.SGD(lr=0.05, momentum=0.6, decay=1e-7, nesterov=True)\n",
    "            optimizer=keras.optimizers.Adam(lr=0.01, beta_1=0.85, beta_2=0.98, epsilon=1e-7, decay=1e-7, amsgrad=True)\n",
    "#         optimizer=keras.optimizers.RMSprop(lr=0.01, rho=0.8, epsilon=None, decay=0.0)\n",
    "#     optimizer=keras.optimizers.SGD(lr=0.001, momentum = 0.8, decay=1e-6)\n",
    "#     optimizer = keras.optimizers.Nadam(lr=0.003, beta_1=0.99, beta_2=0.999, epsilon=None, schedule_decay=0.005)\n",
    "        )\n",
    "\n",
    "model.fit(X_train, y_train, batch_size = 16, epochs=100, shuffle=True)"
   ]
  },
  {
   "cell_type": "code",
   "execution_count": 92,
   "metadata": {
    "scrolled": true
   },
   "outputs": [
    {
     "name": "stdout",
     "output_type": "stream",
     "text": [
      "R^2:  -0.02\n",
      "MAE:  1.9\n",
      "MSE:  5.86\n"
     ]
    }
   ],
   "source": [
    "scr, mae, mse = print_and_return_score(X_test, y_test, model)"
   ]
  }
 ],
 "metadata": {
  "kernelspec": {
   "display_name": "Python 3",
   "language": "python",
   "name": "python3"
  },
  "language_info": {
   "codemirror_mode": {
    "name": "ipython",
    "version": 3
   },
   "file_extension": ".py",
   "mimetype": "text/x-python",
   "name": "python",
   "nbconvert_exporter": "python",
   "pygments_lexer": "ipython3",
   "version": "3.6.5"
  }
 },
 "nbformat": 4,
 "nbformat_minor": 2
}
