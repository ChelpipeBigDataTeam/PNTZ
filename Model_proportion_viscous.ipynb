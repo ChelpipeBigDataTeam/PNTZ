{
 "cells": [
  {
   "cell_type": "markdown",
   "metadata": {},
   "source": [
    "# Загрузка"
   ]
  },
  {
   "cell_type": "code",
   "execution_count": 1,
   "metadata": {},
   "outputs": [],
   "source": [
    "target = '% площади сдвига (вязк.сост.) (1138)'"
   ]
  },
  {
   "cell_type": "code",
   "execution_count": 2,
   "metadata": {},
   "outputs": [],
   "source": [
    "ls_columns_output = [\n",
    "#     '№ партии',\n",
    "#     '№ плавки',\n",
    "    'марка стали',\n",
    "    'диаметр',\n",
    "    'толщина стенки',\n",
    "    'Гр. прочн.',\n",
    "    '1 зона по ВТР закалка',\n",
    "    '2 зона по ВТР закалка',\n",
    "    '3 зона по ВТР закалка',\n",
    "    'шаг балок закалочная печь, сек',\n",
    "    'Скорость прохождения трубы через спрейер, м/с', \n",
    "    't˚ C трубы после спреера',\n",
    "    '1 зона ВТР и уставка отпуск', \n",
    "    '2 зона ВТР и уставка отпуск', \n",
    "    '3 зона ВТР и уставка отпуск',\n",
    "    '4 зона ВТР и уставка отпуск',\n",
    "    '5 зона ВТР и уставка отпуск',\n",
    "    'шаг балок отпускная печь, сек',\n",
    "    'C',\n",
    "    'Mn',\n",
    "    'Si',\n",
    "    'P',\n",
    "    'S',\n",
    "    'Cr',\n",
    "    'Ni',\n",
    "    'Cu',\n",
    "    'Al',\n",
    "    'V',\n",
    "    'Ti',\n",
    "    'Nb',\n",
    "    'Mo',\n",
    "    'N',\n",
    "    'B',\n",
    "    'C-coef',\n",
    "    'Параметр закалка',\n",
    "    'Параметр отпуск',\n",
    "    'Параметр отпуск новый V',\n",
    "    'Величина зерна',\n",
    "    'Тип предела текучести (1186)',\n",
    "#     'Дата термообработки',\n",
    "    'ICD',\n",
    "#     'Примечание',\n",
    "    'длина трубы'\n",
    "    ]"
   ]
  },
  {
   "cell_type": "code",
   "execution_count": 3,
   "metadata": {},
   "outputs": [
    {
     "name": "stdout",
     "output_type": "stream",
     "text": [
      "importing Jupyter notebook from C:\\Users\\kseniya.yuldasheva\\Desktop\\gitPNTZtoyuk_1\\gitPNTZ\\PNTZ\\my_libs\\calc_features.ipynb\n"
     ]
    }
   ],
   "source": [
    "import pandas as pd\n",
    "import numpy as np\n",
    "import import_ipynb\n",
    "from my_libs.calc_features import *\n",
    "import random\n",
    "from datetime import datetime"
   ]
  },
  {
   "cell_type": "code",
   "execution_count": 4,
   "metadata": {},
   "outputs": [],
   "source": [
    "pd.options.display.max_columns = 500\n",
    "pd.options.display.max_rows = 1000"
   ]
  },
  {
   "cell_type": "code",
   "execution_count": 5,
   "metadata": {},
   "outputs": [],
   "source": [
    "import seaborn as sns\n",
    "import matplotlib.pyplot as plt\n",
    "%matplotlib inline"
   ]
  },
  {
   "cell_type": "code",
   "execution_count": 6,
   "metadata": {},
   "outputs": [
    {
     "name": "stdout",
     "output_type": "stream",
     "text": [
      "importing Jupyter notebook from C:\\Users\\kseniya.yuldasheva\\Desktop\\gitPNTZtoyuk_1\\gitPNTZ\\PNTZ\\my_libs\\save_lib.ipynb\n"
     ]
    },
    {
     "name": "stderr",
     "output_type": "stream",
     "text": [
      "C:\\ProgramData\\Anaconda3\\lib\\site-packages\\h5py\\__init__.py:36: FutureWarning: Conversion of the second argument of issubdtype from `float` to `np.floating` is deprecated. In future, it will be treated as `np.float64 == np.dtype(float).type`.\n",
      "  from ._conv import register_converters as _register_converters\n",
      "Using TensorFlow backend.\n"
     ]
    }
   ],
   "source": [
    "from sklearn.metrics import mean_absolute_error, mean_squared_error, r2_score, matthews_corrcoef, median_absolute_error\n",
    "from sklearn.linear_model import LinearRegression\n",
    "from sklearn.svm import LinearSVR\n",
    "from sklearn.tree import DecisionTreeRegressor\n",
    "from sklearn.ensemble import RandomForestRegressor, BaggingRegressor, ExtraTreesRegressor\n",
    "from sklearn.model_selection import cross_val_score, StratifiedKFold, cross_val_predict, cross_validate, train_test_split, GridSearchCV\n",
    "from sklearn import model_selection\n",
    "import matplotlib.pyplot as plt\n",
    "import os\n",
    "from time import time\n",
    "from datetime import datetime\n",
    "from my_libs.save_lib import save_RF_model\n",
    "from scipy.stats.stats import pearsonr"
   ]
  },
  {
   "cell_type": "code",
   "execution_count": 7,
   "metadata": {
    "scrolled": true
   },
   "outputs": [],
   "source": [
    "df = pd.read_csv('DATA/prepared/prepared_to_saw_gp.csv', low_memory=False)"
   ]
  },
  {
   "cell_type": "code",
   "execution_count": 8,
   "metadata": {},
   "outputs": [],
   "source": [
    "df_proportion_viscous = pd.read_excel('DATA/source/exp/prepared/table_proportion_viscous_50.xlsx')"
   ]
  },
  {
   "cell_type": "code",
   "execution_count": 9,
   "metadata": {},
   "outputs": [],
   "source": [
    "df_proportion_viscous = df_proportion_viscous[['№ плавки', '№ партии','% площади сдвига (вязк.сост.) (1138)']]"
   ]
  },
  {
   "cell_type": "code",
   "execution_count": 10,
   "metadata": {},
   "outputs": [
    {
     "data": {
      "text/plain": [
       "(29553, 3)"
      ]
     },
     "execution_count": 10,
     "metadata": {},
     "output_type": "execute_result"
    }
   ],
   "source": [
    "df_proportion_viscous.shape"
   ]
  },
  {
   "cell_type": "code",
   "execution_count": 11,
   "metadata": {},
   "outputs": [],
   "source": [
    "df_proportion_viscous = df_proportion_viscous.groupby(['№ плавки', '№ партии'])['% площади сдвига (вязк.сост.) (1138)'].mean()"
   ]
  },
  {
   "cell_type": "code",
   "execution_count": 12,
   "metadata": {},
   "outputs": [],
   "source": [
    "df_proportion_viscous = pd.DataFrame(df_proportion_viscous)"
   ]
  },
  {
   "cell_type": "code",
   "execution_count": 13,
   "metadata": {},
   "outputs": [],
   "source": [
    "df_proportion_viscous.reset_index(inplace=True)"
   ]
  },
  {
   "cell_type": "code",
   "execution_count": 14,
   "metadata": {},
   "outputs": [
    {
     "data": {
      "text/plain": [
       "(4824, 3)"
      ]
     },
     "execution_count": 14,
     "metadata": {},
     "output_type": "execute_result"
    }
   ],
   "source": [
    "df_proportion_viscous.shape"
   ]
  },
  {
   "cell_type": "code",
   "execution_count": 15,
   "metadata": {},
   "outputs": [],
   "source": [
    "df_proportion_viscous['№ плавки'] = df_proportion_viscous['№ плавки'].astype(str)\n",
    "df_proportion_viscous['№ плавки'] = df_proportion_viscous['№ плавки'].apply(lambda x: x.lower())\n",
    "df_proportion_viscous['№ партии'] = df_proportion_viscous['№ партии'].astype(str)\n",
    "df['№ плавки'] = df['№ плавки'].astype(str)\n",
    "df['№ плавки'] = df['№ плавки'].apply(lambda x: x.lower())\n",
    "df['№ партии'] = df['№ партии'].astype(str)"
   ]
  },
  {
   "cell_type": "code",
   "execution_count": 16,
   "metadata": {},
   "outputs": [],
   "source": [
    "df = pd.merge(df, df_proportion_viscous, on=['№ плавки', '№ партии'], how='outer')"
   ]
  },
  {
   "cell_type": "code",
   "execution_count": 17,
   "metadata": {},
   "outputs": [],
   "source": [
    "def bath2spr(df):\n",
    "    L = 8.4\n",
    "    df['Скорость прохождения трубы через спрейер, м/с'] = L/df['время выдержки в закалочной ванне, сек.']\n",
    "    df['t˚ C трубы после спреера'] = df['t˚ C трубы после ванны']\n",
    "    return df"
   ]
  },
  {
   "cell_type": "code",
   "execution_count": 18,
   "metadata": {},
   "outputs": [],
   "source": [
    "bath = df[~df['время выдержки в закалочной ванне, сек.'].isnull()].copy()\n",
    "df_ = df[df['время выдержки в закалочной ванне, сек.'].isnull()].copy()\n",
    "\n",
    "\n",
    "bath = bath2spr(bath)\n",
    "\n",
    "df = pd.concat([df_, bath])\n",
    "df.reset_index(inplace=True, drop=True)"
   ]
  },
  {
   "cell_type": "code",
   "execution_count": 19,
   "metadata": {},
   "outputs": [
    {
     "data": {
      "text/plain": [
       "(27781, 202)"
      ]
     },
     "execution_count": 19,
     "metadata": {},
     "output_type": "execute_result"
    }
   ],
   "source": [
    "df.shape"
   ]
  },
  {
   "cell_type": "code",
   "execution_count": 20,
   "metadata": {},
   "outputs": [
    {
     "name": "stderr",
     "output_type": "stream",
     "text": [
      "C:\\Users\\kseniya.yuldasheva\\Desktop\\gitPNTZtoyuk_1\\gitPNTZ\\PNTZ\\my_libs\\calc_features.ipynb:127: RuntimeWarning: divide by zero encountered in log10\n",
      "  \"\\n\",\n"
     ]
    }
   ],
   "source": [
    "df = len_pipe(df)\n",
    "\n",
    "df = mean_chem(df)\n",
    "\n",
    "df = calc_all_features(df)"
   ]
  },
  {
   "cell_type": "code",
   "execution_count": 21,
   "metadata": {},
   "outputs": [],
   "source": [
    "df = df[df['шаг балок закалочная печь, сек'] < 100]\n",
    "df = df[df['шаг балок закалочная печь, сек'] >= 24]\n",
    "df = df[df['шаг балок отпускная печь, сек'] >= 24]\n",
    "df = df[df['Скорость прохождения трубы через спрейер, м/с'] <= 1]\n",
    "df = df[df['t˚ C трубы после спреера'] > 1]\n",
    "df = df[df['t˚ C трубы после спреера'] <= 250]\n",
    "df = df[df['2 зона ВТР и уставка отпуск'] > 400]\n",
    "df = df[df['4 зона ВТР и уставка отпуск'] > 400]"
   ]
  },
  {
   "cell_type": "code",
   "execution_count": 22,
   "metadata": {
    "scrolled": true
   },
   "outputs": [
    {
     "data": {
      "text/plain": [
       "(26681, 202)"
      ]
     },
     "execution_count": 22,
     "metadata": {},
     "output_type": "execute_result"
    }
   ],
   "source": [
    "df_.shape"
   ]
  },
  {
   "cell_type": "code",
   "execution_count": 23,
   "metadata": {},
   "outputs": [],
   "source": [
    "df_['Дата термообработки'] = df_['Дата термообработки'].apply(lambda x: str(x).replace(' 00:00:00', ''))\n",
    "df_['Дата термообработки'] = df_['Дата термообработки'].apply(lambda x: str(x).replace('-', '.'))"
   ]
  },
  {
   "cell_type": "code",
   "execution_count": 76,
   "metadata": {},
   "outputs": [
    {
     "data": {
      "text/plain": [
       "<matplotlib.axes._subplots.AxesSubplot at 0x2afa3368e80>"
      ]
     },
     "execution_count": 76,
     "metadata": {},
     "output_type": "execute_result"
    },
    {
     "data": {
      "image/png": "[encoded data removed]",
      "text/plain": [
       "<Figure size 432x288 with 1 Axes>"
      ]
     },
     "metadata": {},
     "output_type": "display_data"
    }
   ],
   "source": [
    "df_[target].hist()"
   ]
  },
  {
   "cell_type": "code",
   "execution_count": 25,
   "metadata": {
    "scrolled": true
   },
   "outputs": [
    {
     "ename": "ValueError",
     "evalue": "time data 'nan' does not match format '%Y.%m.%d'",
     "output_type": "error",
     "traceback": [
      "\u001b[1;31m---------------------------------------------------------------------------\u001b[0m",
      "\u001b[1;31mValueError\u001b[0m                                Traceback (most recent call last)",
      "\u001b[1;32m<ipython-input-25-fd7d6f75ceb4>\u001b[0m in \u001b[0;36m<module>\u001b[1;34m()\u001b[0m\n\u001b[0;32m      3\u001b[0m     \u001b[1;32mtry\u001b[0m\u001b[1;33m:\u001b[0m\u001b[1;33m\u001b[0m\u001b[0m\n\u001b[1;32m----> 4\u001b[1;33m         \u001b[0mtmp\u001b[0m\u001b[1;33m.\u001b[0m\u001b[0mappend\u001b[0m\u001b[1;33m(\u001b[0m\u001b[0mdatetime\u001b[0m\u001b[1;33m.\u001b[0m\u001b[0mstrptime\u001b[0m\u001b[1;33m(\u001b[0m\u001b[0mx\u001b[0m\u001b[1;33m,\u001b[0m \u001b[1;34m\"%d.%m.%Y\"\u001b[0m\u001b[1;33m)\u001b[0m\u001b[1;33m)\u001b[0m\u001b[1;33m\u001b[0m\u001b[0m\n\u001b[0m\u001b[0;32m      5\u001b[0m     \u001b[1;32mexcept\u001b[0m \u001b[0mValueError\u001b[0m\u001b[1;33m:\u001b[0m\u001b[1;33m\u001b[0m\u001b[0m\n",
      "\u001b[1;32mC:\\ProgramData\\Anaconda3\\lib\\_strptime.py\u001b[0m in \u001b[0;36m_strptime_datetime\u001b[1;34m(cls, data_string, format)\u001b[0m\n\u001b[0;32m    564\u001b[0m     format string.\"\"\"\n\u001b[1;32m--> 565\u001b[1;33m     \u001b[0mtt\u001b[0m\u001b[1;33m,\u001b[0m \u001b[0mfraction\u001b[0m \u001b[1;33m=\u001b[0m \u001b[0m_strptime\u001b[0m\u001b[1;33m(\u001b[0m\u001b[0mdata_string\u001b[0m\u001b[1;33m,\u001b[0m \u001b[0mformat\u001b[0m\u001b[1;33m)\u001b[0m\u001b[1;33m\u001b[0m\u001b[0m\n\u001b[0m\u001b[0;32m    566\u001b[0m     \u001b[0mtzname\u001b[0m\u001b[1;33m,\u001b[0m \u001b[0mgmtoff\u001b[0m \u001b[1;33m=\u001b[0m \u001b[0mtt\u001b[0m\u001b[1;33m[\u001b[0m\u001b[1;33m-\u001b[0m\u001b[1;36m2\u001b[0m\u001b[1;33m:\u001b[0m\u001b[1;33m]\u001b[0m\u001b[1;33m\u001b[0m\u001b[0m\n",
      "\u001b[1;32mC:\\ProgramData\\Anaconda3\\lib\\_strptime.py\u001b[0m in \u001b[0;36m_strptime\u001b[1;34m(data_string, format)\u001b[0m\n\u001b[0;32m    361\u001b[0m         raise ValueError(\"time data %r does not match format %r\" %\n\u001b[1;32m--> 362\u001b[1;33m                          (data_string, format))\n\u001b[0m\u001b[0;32m    363\u001b[0m     \u001b[1;32mif\u001b[0m \u001b[0mlen\u001b[0m\u001b[1;33m(\u001b[0m\u001b[0mdata_string\u001b[0m\u001b[1;33m)\u001b[0m \u001b[1;33m!=\u001b[0m \u001b[0mfound\u001b[0m\u001b[1;33m.\u001b[0m\u001b[0mend\u001b[0m\u001b[1;33m(\u001b[0m\u001b[1;33m)\u001b[0m\u001b[1;33m:\u001b[0m\u001b[1;33m\u001b[0m\u001b[0m\n",
      "\u001b[1;31mValueError\u001b[0m: time data 'nan' does not match format '%d.%m.%Y'",
      "\nDuring handling of the above exception, another exception occurred:\n",
      "\u001b[1;31mValueError\u001b[0m                                Traceback (most recent call last)",
      "\u001b[1;32m<ipython-input-25-fd7d6f75ceb4>\u001b[0m in \u001b[0;36m<module>\u001b[1;34m()\u001b[0m\n\u001b[0;32m      4\u001b[0m         \u001b[0mtmp\u001b[0m\u001b[1;33m.\u001b[0m\u001b[0mappend\u001b[0m\u001b[1;33m(\u001b[0m\u001b[0mdatetime\u001b[0m\u001b[1;33m.\u001b[0m\u001b[0mstrptime\u001b[0m\u001b[1;33m(\u001b[0m\u001b[0mx\u001b[0m\u001b[1;33m,\u001b[0m \u001b[1;34m\"%d.%m.%Y\"\u001b[0m\u001b[1;33m)\u001b[0m\u001b[1;33m)\u001b[0m\u001b[1;33m\u001b[0m\u001b[0m\n\u001b[0;32m      5\u001b[0m     \u001b[1;32mexcept\u001b[0m \u001b[0mValueError\u001b[0m\u001b[1;33m:\u001b[0m\u001b[1;33m\u001b[0m\u001b[0m\n\u001b[1;32m----> 6\u001b[1;33m         \u001b[0mtmp\u001b[0m\u001b[1;33m.\u001b[0m\u001b[0mappend\u001b[0m\u001b[1;33m(\u001b[0m\u001b[0mdatetime\u001b[0m\u001b[1;33m.\u001b[0m\u001b[0mstrptime\u001b[0m\u001b[1;33m(\u001b[0m\u001b[0mx\u001b[0m\u001b[1;33m,\u001b[0m \u001b[1;34m\"%Y.%m.%d\"\u001b[0m\u001b[1;33m)\u001b[0m\u001b[1;33m)\u001b[0m\u001b[1;33m\u001b[0m\u001b[0m\n\u001b[0m\u001b[0;32m      7\u001b[0m \u001b[0mdf_\u001b[0m\u001b[1;33m[\u001b[0m\u001b[1;34m'Дата термообработки'\u001b[0m\u001b[1;33m]\u001b[0m \u001b[1;33m=\u001b[0m \u001b[0mtmp\u001b[0m\u001b[1;33m\u001b[0m\u001b[0m\n",
      "\u001b[1;32mC:\\ProgramData\\Anaconda3\\lib\\_strptime.py\u001b[0m in \u001b[0;36m_strptime_datetime\u001b[1;34m(cls, data_string, format)\u001b[0m\n\u001b[0;32m    563\u001b[0m     \"\"\"Return a class cls instance based on the input string and the\n\u001b[0;32m    564\u001b[0m     format string.\"\"\"\n\u001b[1;32m--> 565\u001b[1;33m     \u001b[0mtt\u001b[0m\u001b[1;33m,\u001b[0m \u001b[0mfraction\u001b[0m \u001b[1;33m=\u001b[0m \u001b[0m_strptime\u001b[0m\u001b[1;33m(\u001b[0m\u001b[0mdata_string\u001b[0m\u001b[1;33m,\u001b[0m \u001b[0mformat\u001b[0m\u001b[1;33m)\u001b[0m\u001b[1;33m\u001b[0m\u001b[0m\n\u001b[0m\u001b[0;32m    566\u001b[0m     \u001b[0mtzname\u001b[0m\u001b[1;33m,\u001b[0m \u001b[0mgmtoff\u001b[0m \u001b[1;33m=\u001b[0m \u001b[0mtt\u001b[0m\u001b[1;33m[\u001b[0m\u001b[1;33m-\u001b[0m\u001b[1;36m2\u001b[0m\u001b[1;33m:\u001b[0m\u001b[1;33m]\u001b[0m\u001b[1;33m\u001b[0m\u001b[0m\n\u001b[0;32m    567\u001b[0m     \u001b[0margs\u001b[0m \u001b[1;33m=\u001b[0m \u001b[0mtt\u001b[0m\u001b[1;33m[\u001b[0m\u001b[1;33m:\u001b[0m\u001b[1;36m6\u001b[0m\u001b[1;33m]\u001b[0m \u001b[1;33m+\u001b[0m \u001b[1;33m(\u001b[0m\u001b[0mfraction\u001b[0m\u001b[1;33m,\u001b[0m\u001b[1;33m)\u001b[0m\u001b[1;33m\u001b[0m\u001b[0m\n",
      "\u001b[1;32mC:\\ProgramData\\Anaconda3\\lib\\_strptime.py\u001b[0m in \u001b[0;36m_strptime\u001b[1;34m(data_string, format)\u001b[0m\n\u001b[0;32m    360\u001b[0m     \u001b[1;32mif\u001b[0m \u001b[1;32mnot\u001b[0m \u001b[0mfound\u001b[0m\u001b[1;33m:\u001b[0m\u001b[1;33m\u001b[0m\u001b[0m\n\u001b[0;32m    361\u001b[0m         raise ValueError(\"time data %r does not match format %r\" %\n\u001b[1;32m--> 362\u001b[1;33m                          (data_string, format))\n\u001b[0m\u001b[0;32m    363\u001b[0m     \u001b[1;32mif\u001b[0m \u001b[0mlen\u001b[0m\u001b[1;33m(\u001b[0m\u001b[0mdata_string\u001b[0m\u001b[1;33m)\u001b[0m \u001b[1;33m!=\u001b[0m \u001b[0mfound\u001b[0m\u001b[1;33m.\u001b[0m\u001b[0mend\u001b[0m\u001b[1;33m(\u001b[0m\u001b[1;33m)\u001b[0m\u001b[1;33m:\u001b[0m\u001b[1;33m\u001b[0m\u001b[0m\n\u001b[0;32m    364\u001b[0m         raise ValueError(\"unconverted data remains: %s\" %\n",
      "\u001b[1;31mValueError\u001b[0m: time data 'nan' does not match format '%Y.%m.%d'"
     ]
    }
   ],
   "source": [
    "tmp = []\n",
    "for x in df_['Дата термообработки']:\n",
    "    try:\n",
    "        tmp.append(datetime.strptime(x, \"%d.%m.%Y\"))\n",
    "    except ValueError:\n",
    "        tmp.append(datetime.strptime(x, \"%Y.%m.%d\"))\n",
    "df_['Дата термообработки'] = tmp"
   ]
  },
  {
   "cell_type": "code",
   "execution_count": 26,
   "metadata": {},
   "outputs": [
    {
     "data": {
      "text/plain": [
       "(1471, 40)"
      ]
     },
     "execution_count": 26,
     "metadata": {},
     "output_type": "execute_result"
    }
   ],
   "source": [
    "df[ls_columns_output+[target]].dropna().shape"
   ]
  },
  {
   "cell_type": "code",
   "execution_count": 28,
   "metadata": {},
   "outputs": [],
   "source": [
    "ls_train = ls_columns_output.copy()\n",
    "# ls_train.remove('Дата термообработки')\n",
    "ls_train.remove('марка стали')\n",
    "ls_train.remove('Гр. прочн.')\n",
    "\n",
    "# for s in ls_to_del:\n",
    "#     ls_train.remove(s)"
   ]
  },
  {
   "cell_type": "code",
   "execution_count": 29,
   "metadata": {},
   "outputs": [],
   "source": [
    "df_ = df[ls_train+[target]].dropna()\n",
    "\n",
    "X, X_valid, y, y_valid = train_test_split(df_[ls_train], df_[target], test_size=0.3)"
   ]
  },
  {
   "cell_type": "code",
   "execution_count": 30,
   "metadata": {},
   "outputs": [
    {
     "data": {
      "text/plain": [
       "((1094, 37), (469, 37))"
      ]
     },
     "execution_count": 30,
     "metadata": {},
     "output_type": "execute_result"
    }
   ],
   "source": [
    "X.shape, X_valid.shape"
   ]
  },
  {
   "cell_type": "code",
   "execution_count": 69,
   "metadata": {},
   "outputs": [],
   "source": [
    "def print_and_return_score(x, y, est, verb=1):\n",
    "    y_pred = est.predict(x)\n",
    "#     scr = est.score(x, y)\n",
    "    mae = mean_absolute_error(y, y_pred)\n",
    "    mse = mean_squared_error(y, y_pred)\n",
    "    r2 = r2_score(y, y_pred)\n",
    "#     corr = pearsonr(y, y_pred)\n",
    "    \n",
    "    if verb==1:\n",
    "#         print('Score: ', round(scr, 2))\n",
    "        print('R^2: ', round(r2, 2))\n",
    "        print('MAE: ', round(mae, 2))\n",
    "        print('MSE: ', round(mse, 2))\n",
    "#         print('Correlation: ', round(corr[0][1], 2))\n",
    "    return [r2, mae, mse]"
   ]
  },
  {
   "cell_type": "code",
   "execution_count": 32,
   "metadata": {},
   "outputs": [],
   "source": [
    "X_train, X_test,  y_train, y_test = train_test_split(X, y, test_size=0.2)"
   ]
  },
  {
   "cell_type": "code",
   "execution_count": 33,
   "metadata": {},
   "outputs": [
    {
     "data": {
      "text/plain": [
       "37"
      ]
     },
     "execution_count": 33,
     "metadata": {},
     "output_type": "execute_result"
    }
   ],
   "source": [
    "len(ls_train)"
   ]
  },
  {
   "cell_type": "code",
   "execution_count": 37,
   "metadata": {},
   "outputs": [
    {
     "name": "stdout",
     "output_type": "stream",
     "text": [
      "Score:  0.13\n",
      "R^2:  0.13\n",
      "MAE:  2.82\n",
      "MSE:  70.63\n",
      "Correlation:  0.57\n"
     ]
    }
   ],
   "source": [
    "rfc = RandomForestRegressor(max_features = 13, max_depth = 18, min_samples_leaf = 1, n_estimators=50, criterion='mse')\n",
    "rfc.fit(X_train, y_train)\n",
    "\n",
    "scr, mae, mse, corr = print_and_return_score(X_test, y_test, rfc)"
   ]
  },
  {
   "cell_type": "code",
   "execution_count": 35,
   "metadata": {
    "scrolled": true
   },
   "outputs": [
    {
     "name": "stdout",
     "output_type": "stream",
     "text": [
      "диаметр    0.01\n",
      "толщина стенки    0.05\n",
      "1 зона по ВТР закалка    0.01\n",
      "2 зона по ВТР закалка    0.0\n",
      "3 зона по ВТР закалка    0.02\n",
      "шаг балок закалочная печь, сек    0.04\n",
      "Скорость прохождения трубы через спрейер, м/с    0.02\n",
      "t˚ C трубы после спреера    0.03\n",
      "1 зона ВТР и уставка отпуск    0.03\n",
      "2 зона ВТР и уставка отпуск    0.02\n",
      "3 зона ВТР и уставка отпуск    0.03\n",
      "4 зона ВТР и уставка отпуск    0.02\n",
      "5 зона ВТР и уставка отпуск    0.02\n",
      "шаг балок отпускная печь, сек    0.09\n",
      "C    0.02\n",
      "Mn    0.01\n",
      "Si    0.01\n",
      "P    0.02\n",
      "S    0.01\n",
      "Cr    0.01\n",
      "Ni    0.04\n",
      "Cu    0.04\n",
      "Al    0.01\n",
      "V    0.04\n",
      "Ti    0.01\n",
      "Nb    0.08\n",
      "Mo    0.02\n",
      "N    0.01\n",
      "B    0.0\n",
      "C-coef    0.02\n",
      "Параметр закалка    0.02\n",
      "Параметр отпуск    0.03\n",
      "Параметр отпуск новый V    0.04\n",
      "Величина зерна    0.04\n",
      "Тип предела текучести (1186)    0.01\n",
      "ICD    0.02\n",
      "длина трубы    0.11\n"
     ]
    }
   ],
   "source": [
    "val = rfc.feature_importances_\n",
    "lab = ls_train\n",
    "dict_feat_import = dict(zip(lab, val))\n",
    "ls_to_del = []\n",
    "for feat, imp in zip(lab, val):\n",
    "    print(feat, '  ', imp.round(2))\n",
    "    if imp.round(2) < 0.01:\n",
    "        ls_to_del.append(feat)"
   ]
  },
  {
   "cell_type": "code",
   "execution_count": 38,
   "metadata": {},
   "outputs": [
    {
     "data": {
      "text/plain": [
       "['2 зона по ВТР закалка', 'B']"
      ]
     },
     "execution_count": 38,
     "metadata": {},
     "output_type": "execute_result"
    }
   ],
   "source": [
    "ls_to_del"
   ]
  },
  {
   "cell_type": "code",
   "execution_count": 39,
   "metadata": {},
   "outputs": [
    {
     "name": "stdout",
     "output_type": "stream",
     "text": [
      "Score:  0.11\n",
      "R^2:  0.11\n",
      "MAE:  4.77\n",
      "MSE:  72.07\n",
      "Correlation:  0.42\n"
     ]
    }
   ],
   "source": [
    "lr = LinearRegression()\n",
    "lr.fit(X_train, y_train)\n",
    "\n",
    "scr, mae, mse, corr = print_and_return_score(X_test, y_test, lr)"
   ]
  },
  {
   "cell_type": "code",
   "execution_count": 41,
   "metadata": {},
   "outputs": [
    {
     "name": "stdout",
     "output_type": "stream",
     "text": [
      "Score:  -0.02\n",
      "R^2:  -0.02\n",
      "MAE:  2.94\n",
      "MSE:  82.99\n",
      "Correlation:  0.18\n"
     ]
    }
   ],
   "source": [
    "\n",
    "from sklearn.linear_model import RidgeCV, Lasso, LassoLars, BayesianRidge,SGDRegressor, Perceptron, HuberRegressor\n",
    "\n",
    "l = HuberRegressor()\n",
    "l.fit(X_train, y_train)\n",
    "\n",
    "scr, mae, mse, corr = print_and_return_score(X_test, y_test, l)"
   ]
  },
  {
   "cell_type": "code",
   "execution_count": 42,
   "metadata": {},
   "outputs": [
    {
     "name": "stdout",
     "output_type": "stream",
     "text": [
      "Score:  0.11\n",
      "R^2:  0.11\n",
      "MAE:  4.77\n",
      "MSE:  72.07\n",
      "Correlation:  0.42\n"
     ]
    },
    {
     "data": {
      "text/plain": [
       "0.1"
      ]
     },
     "execution_count": 42,
     "metadata": {},
     "output_type": "execute_result"
    }
   ],
   "source": [
    "c = 1\n",
    "r = RidgeCV(alphas=[0.1, 1.0, 10.0])\n",
    "r.fit(X_train, y_train)\n",
    "\n",
    "scr, mae, mse, corr = print_and_return_score(X_test, y_test, lr)\n",
    "r.alpha_"
   ]
  },
  {
   "cell_type": "code",
   "execution_count": 43,
   "metadata": {},
   "outputs": [
    {
     "name": "stdout",
     "output_type": "stream",
     "text": [
      "Score:  0.03\n",
      "R^2:  0.03\n",
      "MAE:  2.93\n",
      "MSE:  78.8\n",
      "Correlation:  0.49\n"
     ]
    }
   ],
   "source": [
    "from sklearn.ensemble import GradientBoostingRegressor\n",
    "\n",
    "g = GradientBoostingRegressor()\n",
    "g.fit(X_train, y_train)\n",
    "\n",
    "scr, mae, mse, corr = print_and_return_score(X_test, y_test, g)"
   ]
  },
  {
   "cell_type": "code",
   "execution_count": 44,
   "metadata": {},
   "outputs": [
    {
     "name": "stderr",
     "output_type": "stream",
     "text": [
      "Can not use cuDNN on context None: cannot compile with cuDNN. We got this error:\n",
      "b'c:\\\\Temp\\\\try_flags_lwrs4941.c:4:19: fatal error: cudnn.h: No such file or directory\\r\\ncompilation terminated.\\r\\n'\n",
      "Mapped name None to device cuda: GeForce GTX 1060 6GB (0000:01:00.0)\n"
     ]
    }
   ],
   "source": [
    "# import tensorflow as tf\n",
    "import theano\n",
    "import keras\n",
    "from keras.models import Sequential\n",
    "from keras.layers import Dense, Activation, Dropout\n",
    "from keras.layers.normalization import BatchNormalization"
   ]
  },
  {
   "cell_type": "code",
   "execution_count": 73,
   "metadata": {},
   "outputs": [
    {
     "name": "stdout",
     "output_type": "stream",
     "text": [
      "Epoch 1/100\n",
      "875/875 [==============================] - 2s 2ms/step - loss: 94.8253 - mean_absolute_error: 95.5183\n",
      "Epoch 2/100\n",
      "875/875 [==============================] - 1s 582us/step - loss: 92.0764 - mean_absolute_error: 92.7696\n",
      "Epoch 3/100\n",
      "875/875 [==============================] - 1s 599us/step - loss: 89.3369 - mean_absolute_error: 90.0300\n",
      "Epoch 4/100\n",
      "875/875 [==============================] - 1s 582us/step - loss: 86.5979 - mean_absolute_error: 87.2910\n",
      "Epoch 5/100\n",
      "875/875 [==============================] - 1s 579us/step - loss: 83.8624 - mean_absolute_error: 84.5555\n",
      "Epoch 6/100\n",
      "875/875 [==============================] - 1s 604us/step - loss: 81.1309 - mean_absolute_error: 81.8232\n",
      "Epoch 7/100\n",
      "875/875 [==============================] - 1s 594us/step - loss: 78.4107 - mean_absolute_error: 79.1038\n",
      "Epoch 8/100\n",
      "875/875 [==============================] - 1s 596us/step - loss: 75.6995 - mean_absolute_error: 76.3927\n",
      "Epoch 9/100\n",
      "875/875 [==============================] - 1s 598us/step - loss: 72.9873 - mean_absolute_error: 73.6805\n",
      "Epoch 10/100\n",
      "875/875 [==============================] - 1s 610us/step - loss: 70.2776 - mean_absolute_error: 70.9702\n",
      "Epoch 11/100\n",
      "875/875 [==============================] - 1s 608us/step - loss: 67.5766 - mean_absolute_error: 68.2697\n",
      "Epoch 12/100\n",
      "875/875 [==============================] - 1s 598us/step - loss: 64.8757 - mean_absolute_error: 65.5688\n",
      "Epoch 13/100\n",
      "875/875 [==============================] - 1s 583us/step - loss: 62.1850 - mean_absolute_error: 62.8776\n",
      "Epoch 14/100\n",
      "875/875 [==============================] - 1s 595us/step - loss: 59.5087 - mean_absolute_error: 60.2018\n",
      "Epoch 15/100\n",
      "875/875 [==============================] - 1s 583us/step - loss: 56.8352 - mean_absolute_error: 57.5284\n",
      "Epoch 16/100\n",
      "875/875 [==============================] - 1s 603us/step - loss: 54.1624 - mean_absolute_error: 54.8555\n",
      "Epoch 17/100\n",
      "875/875 [==============================] - 1s 583us/step - loss: 51.4958 - mean_absolute_error: 52.1883\n",
      "Epoch 18/100\n",
      "875/875 [==============================] - 1s 622us/step - loss: 48.8441 - mean_absolute_error: 49.5372\n",
      "Epoch 19/100\n",
      "875/875 [==============================] - 1s 612us/step - loss: 46.1965 - mean_absolute_error: 46.8896\n",
      "Epoch 20/100\n",
      "875/875 [==============================] - 1s 619us/step - loss: 43.5509 - mean_absolute_error: 44.2438\n",
      "Epoch 21/100\n",
      "875/875 [==============================] - 1s 592us/step - loss: 40.9212 - mean_absolute_error: 41.6138\n",
      "Epoch 22/100\n",
      "875/875 [==============================] - 1s 592us/step - loss: 38.3164 - mean_absolute_error: 39.0092\n",
      "Epoch 23/100\n",
      "875/875 [==============================] - 1s 582us/step - loss: 35.7290 - mean_absolute_error: 36.4219\n",
      "Epoch 24/100\n",
      "875/875 [==============================] - 1s 584us/step - loss: 33.1547 - mean_absolute_error: 33.8470\n",
      "Epoch 25/100\n",
      "875/875 [==============================] - 1s 572us/step - loss: 30.6064 - mean_absolute_error: 31.2981\n",
      "Epoch 26/100\n",
      "875/875 [==============================] - 1s 582us/step - loss: 28.0992 - mean_absolute_error: 28.7922\n",
      "Epoch 27/100\n",
      "875/875 [==============================] - 1s 594us/step - loss: 25.6260 - mean_absolute_error: 26.3174\n",
      "Epoch 28/100\n",
      "875/875 [==============================] - 1s 580us/step - loss: 23.1977 - mean_absolute_error: 23.8894\n",
      "Epoch 29/100\n",
      "875/875 [==============================] - 1s 579us/step - loss: 20.8137 - mean_absolute_error: 21.5047\n",
      "Epoch 30/100\n",
      "875/875 [==============================] - 1s 581us/step - loss: 18.4915 - mean_absolute_error: 19.1832\n",
      "Epoch 31/100\n",
      "875/875 [==============================] - 1s 582us/step - loss: 16.2199 - mean_absolute_error: 16.9102\n",
      "Epoch 32/100\n",
      "875/875 [==============================] - 1s 574us/step - loss: 14.0096 - mean_absolute_error: 14.7006\n",
      "Epoch 33/100\n",
      "875/875 [==============================] - 1s 574us/step - loss: 11.8685 - mean_absolute_error: 12.5589\n",
      "Epoch 34/100\n",
      "875/875 [==============================] - 1s 574us/step - loss: 9.7933 - mean_absolute_error: 10.4852\n",
      "Epoch 35/100\n",
      "875/875 [==============================] - 1s 576us/step - loss: 7.7639 - mean_absolute_error: 8.4549\n",
      "Epoch 36/100\n",
      "875/875 [==============================] - 1s 574us/step - loss: 5.7993 - mean_absolute_error: 6.4893\n",
      "Epoch 37/100\n",
      "875/875 [==============================] - 1s 584us/step - loss: 3.9021 - mean_absolute_error: 4.5873\n",
      "Epoch 38/100\n",
      "875/875 [==============================] - 1s 588us/step - loss: 2.4603 - mean_absolute_error: 2.9493\n",
      "Epoch 39/100\n",
      "875/875 [==============================] - 1s 581us/step - loss: 2.2112 - mean_absolute_error: 2.3850\n",
      "Epoch 40/100\n",
      "875/875 [==============================] - 1s 581us/step - loss: 2.2103 - mean_absolute_error: 2.3660\n",
      "Epoch 41/100\n",
      "875/875 [==============================] - 1s 583us/step - loss: 2.2103 - mean_absolute_error: 2.3521\n",
      "Epoch 42/100\n",
      "875/875 [==============================] - 1s 572us/step - loss: 2.2103 - mean_absolute_error: 2.3731\n",
      "Epoch 43/100\n",
      "875/875 [==============================] - 1s 584us/step - loss: 2.2104 - mean_absolute_error: 2.3618\n",
      "Epoch 44/100\n",
      "875/875 [==============================] - 1s 580us/step - loss: 2.2103 - mean_absolute_error: 2.3531\n",
      "Epoch 45/100\n",
      "875/875 [==============================] - 1s 581us/step - loss: 2.2103 - mean_absolute_error: 2.3691\n",
      "Epoch 46/100\n",
      "875/875 [==============================] - 0s 565us/step - loss: 2.2104 - mean_absolute_error: 2.3599\n",
      "Epoch 47/100\n",
      "875/875 [==============================] - 1s 579us/step - loss: 2.2104 - mean_absolute_error: 2.3650\n",
      "Epoch 48/100\n",
      "875/875 [==============================] - 1s 579us/step - loss: 2.2103 - mean_absolute_error: 2.3620\n",
      "Epoch 49/100\n",
      "875/875 [==============================] - 1s 586us/step - loss: 2.2103 - mean_absolute_error: 2.3587\n",
      "Epoch 50/100\n",
      "875/875 [==============================] - 1s 576us/step - loss: 2.2103 - mean_absolute_error: 2.3712\n",
      "Epoch 51/100\n",
      "875/875 [==============================] - 1s 576us/step - loss: 2.2103 - mean_absolute_error: 2.3515\n",
      "Epoch 52/100\n",
      "875/875 [==============================] - 0s 571us/step - loss: 2.2103 - mean_absolute_error: 2.3662\n",
      "Epoch 53/100\n",
      "875/875 [==============================] - 0s 569us/step - loss: 2.2103 - mean_absolute_error: 2.3587\n",
      "Epoch 54/100\n",
      "875/875 [==============================] - 1s 577us/step - loss: 2.2103 - mean_absolute_error: 2.3652\n",
      "Epoch 55/100\n",
      "875/875 [==============================] - 1s 587us/step - loss: 2.2103 - mean_absolute_error: 2.3535\n",
      "Epoch 56/100\n",
      "875/875 [==============================] - 1s 604us/step - loss: 2.2103 - mean_absolute_error: 2.3703\n",
      "Epoch 57/100\n",
      "875/875 [==============================] - 1s 597us/step - loss: 2.2103 - mean_absolute_error: 2.3610\n",
      "Epoch 58/100\n",
      "875/875 [==============================] - 1s 602us/step - loss: 2.2103 - mean_absolute_error: 2.3651\n",
      "Epoch 59/100\n",
      "875/875 [==============================] - 1s 586us/step - loss: 2.2103 - mean_absolute_error: 2.3608\n",
      "Epoch 60/100\n",
      "875/875 [==============================] - 0s 566us/step - loss: 2.2103 - mean_absolute_error: 2.3605\n",
      "Epoch 61/100\n",
      "875/875 [==============================] - 1s 581us/step - loss: 2.2103 - mean_absolute_error: 2.3642\n",
      "Epoch 62/100\n",
      "875/875 [==============================] - 1s 576us/step - loss: 2.2103 - mean_absolute_error: 2.3592\n",
      "Epoch 63/100\n",
      "875/875 [==============================] - 1s 577us/step - loss: 2.2103 - mean_absolute_error: 2.3662\n",
      "Epoch 64/100\n",
      "875/875 [==============================] - 1s 574us/step - loss: 2.2103 - mean_absolute_error: 2.3636\n",
      "Epoch 65/100\n",
      "875/875 [==============================] - 1s 573us/step - loss: 2.2102 - mean_absolute_error: 2.3585\n",
      "Epoch 66/100\n",
      "875/875 [==============================] - 1s 572us/step - loss: 2.2103 - mean_absolute_error: 2.3711\n",
      "Epoch 67/100\n",
      "875/875 [==============================] - 1s 572us/step - loss: 2.2103 - mean_absolute_error: 2.3535\n",
      "Epoch 68/100\n",
      "875/875 [==============================] - 0s 571us/step - loss: 2.2103 - mean_absolute_error: 2.3607\n",
      "Epoch 69/100\n",
      "875/875 [==============================] - 1s 579us/step - loss: 2.2103 - mean_absolute_error: 2.3660\n",
      "Epoch 70/100\n",
      "875/875 [==============================] - 1s 574us/step - loss: 2.2103 - mean_absolute_error: 2.3570\n",
      "Epoch 71/100\n"
     ]
    },
    {
     "name": "stdout",
     "output_type": "stream",
     "text": [
      "875/875 [==============================] - 1s 580us/step - loss: 2.2103 - mean_absolute_error: 2.3645\n",
      "Epoch 72/100\n",
      "875/875 [==============================] - 1s 579us/step - loss: 2.2103 - mean_absolute_error: 2.3602\n",
      "Epoch 73/100\n",
      "875/875 [==============================] - 1s 572us/step - loss: 2.2104 - mean_absolute_error: 2.3671\n",
      "Epoch 74/100\n",
      "875/875 [==============================] - 1s 590us/step - loss: 2.2103 - mean_absolute_error: 2.3624\n",
      "Epoch 75/100\n",
      "875/875 [==============================] - 1s 588us/step - loss: 2.2103 - mean_absolute_error: 2.3645\n",
      "Epoch 76/100\n",
      "875/875 [==============================] - 1s 579us/step - loss: 2.2104 - mean_absolute_error: 2.3591\n",
      "Epoch 77/100\n",
      "875/875 [==============================] - 1s 586us/step - loss: 2.2103 - mean_absolute_error: 2.3675\n",
      "Epoch 78/100\n",
      "875/875 [==============================] - 1s 573us/step - loss: 2.2104 - mean_absolute_error: 2.3589\n",
      "Epoch 79/100\n",
      "875/875 [==============================] - 1s 591us/step - loss: 2.2103 - mean_absolute_error: 2.3673\n",
      "Epoch 80/100\n",
      "875/875 [==============================] - 1s 578us/step - loss: 2.2103 - mean_absolute_error: 2.3554\n",
      "Epoch 81/100\n",
      "875/875 [==============================] - 1s 575us/step - loss: 2.2105 - mean_absolute_error: 2.3686\n",
      "Epoch 82/100\n",
      "875/875 [==============================] - 0s 571us/step - loss: 2.2104 - mean_absolute_error: 2.3635\n",
      "Epoch 83/100\n",
      "875/875 [==============================] - 0s 567us/step - loss: 2.2103 - mean_absolute_error: 2.3606\n",
      "Epoch 84/100\n",
      "875/875 [==============================] - 1s 580us/step - loss: 2.2104 - mean_absolute_error: 2.3579\n",
      "Epoch 85/100\n",
      "875/875 [==============================] - 0s 568us/step - loss: 2.2104 - mean_absolute_error: 2.3571\n",
      "Epoch 86/100\n",
      "875/875 [==============================] - 1s 582us/step - loss: 2.2103 - mean_absolute_error: 2.3636\n",
      "Epoch 87/100\n",
      "875/875 [==============================] - 1s 572us/step - loss: 2.2103 - mean_absolute_error: 2.3625\n",
      "Epoch 88/100\n",
      "875/875 [==============================] - 1s 590us/step - loss: 2.2103 - mean_absolute_error: 2.3719\n",
      "Epoch 89/100\n",
      "875/875 [==============================] - 1s 586us/step - loss: 2.2104 - mean_absolute_error: 2.3591\n",
      "Epoch 90/100\n",
      "875/875 [==============================] - 1s 572us/step - loss: 2.2103 - mean_absolute_error: 2.3598\n",
      "Epoch 91/100\n",
      "875/875 [==============================] - 1s 576us/step - loss: 2.2104 - mean_absolute_error: 2.3611\n",
      "Epoch 92/100\n",
      "875/875 [==============================] - 1s 587us/step - loss: 2.2103 - mean_absolute_error: 2.3628\n",
      "Epoch 93/100\n",
      "875/875 [==============================] - 1s 582us/step - loss: 2.2103 - mean_absolute_error: 2.3554\n",
      "Epoch 94/100\n",
      "875/875 [==============================] - 1s 592us/step - loss: 2.2103 - mean_absolute_error: 2.3712\n",
      "Epoch 95/100\n",
      "875/875 [==============================] - 1s 578us/step - loss: 2.2104 - mean_absolute_error: 2.3582\n",
      "Epoch 96/100\n",
      "875/875 [==============================] - 1s 577us/step - loss: 2.2103 - mean_absolute_error: 2.3695\n",
      "Epoch 97/100\n",
      "875/875 [==============================] - 1s 578us/step - loss: 2.2104 - mean_absolute_error: 2.3536\n",
      "Epoch 98/100\n",
      "875/875 [==============================] - 1s 584us/step - loss: 2.2103 - mean_absolute_error: 2.3618\n",
      "Epoch 99/100\n",
      "875/875 [==============================] - 1s 578us/step - loss: 2.2103 - mean_absolute_error: 2.3645\n",
      "Epoch 100/100\n",
      "875/875 [==============================] - 1s 588us/step - loss: 2.2103 - mean_absolute_error: 2.3567\n"
     ]
    },
    {
     "data": {
      "text/plain": [
       "<keras.callbacks.History at 0x2afa3209ef0>"
      ]
     },
     "execution_count": 73,
     "metadata": {},
     "output_type": "execute_result"
    }
   ],
   "source": [
    "model = Sequential()\n",
    "model.add(Dense(units=4,input_dim=X_train.shape[1]))\n",
    "model.add(Activation('tanh'))\n",
    "model.add(Dense(units=1))\n",
    "model.compile(\n",
    "        loss=keras.losses.logcosh,\n",
    "        # loss=keras.losses.mean_absolute_error,\n",
    "        metrics=[keras.metrics.mean_absolute_error],\n",
    "#             optimizer=keras.optimizers.SGD(lr=0.05, momentum=0.6, decay=1e-7, nesterov=True)\n",
    "            optimizer=keras.optimizers.Adam(lr=0.01, beta_1=0.85, beta_2=0.98, epsilon=1e-7, decay=1e-7, amsgrad=True)\n",
    "#         optimizer=keras.optimizers.RMSprop(lr=0.01, rho=0.8, epsilon=None, decay=0.0)\n",
    "#     optimizer=keras.optimizers.SGD(lr=0.001, momentum = 0.8, decay=1e-6)\n",
    "#     optimizer = keras.optimizers.Nadam(lr=0.003, beta_1=0.99, beta_2=0.999, epsilon=None, schedule_decay=0.005)\n",
    "        )\n",
    "\n",
    "model.fit(X_train, y_train, batch_size = 16, epochs=100, shuffle=True)"
   ]
  },
  {
   "cell_type": "code",
   "execution_count": 74,
   "metadata": {
    "scrolled": true
   },
   "outputs": [
    {
     "name": "stdout",
     "output_type": "stream",
     "text": [
      "R^2:  -0.07\n",
      "MAE:  2.5\n",
      "MSE:  86.41\n"
     ]
    }
   ],
   "source": [
    "scr, mae, mse = print_and_return_score(X_test, y_test, model)"
   ]
  }
 ],
 "metadata": {
  "kernelspec": {
   "display_name": "Python 3",
   "language": "python",
   "name": "python3"
  },
  "language_info": {
   "codemirror_mode": {
    "name": "ipython",
    "version": 3
   },
   "file_extension": ".py",
   "mimetype": "text/x-python",
   "name": "python",
   "nbconvert_exporter": "python",
   "pygments_lexer": "ipython3",
   "version": "3.6.5"
  }
 },
 "nbformat": 4,
 "nbformat_minor": 2
}
