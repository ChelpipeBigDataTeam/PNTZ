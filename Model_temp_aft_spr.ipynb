{
 "cells": [
  {
   "cell_type": "markdown",
   "metadata": {},
   "source": [
    "# Загрузка"
   ]
  },
  {
   "cell_type": "code",
   "execution_count": 1,
   "metadata": {
    "collapsed": true
   },
   "outputs": [],
   "source": [
    "target = ['t˚ C трубы после спреера']"
   ]
  },
  {
   "cell_type": "code",
   "execution_count": 125,
   "metadata": {
    "collapsed": true
   },
   "outputs": [],
   "source": [
    "ls_columns_output = [\n",
    "#     '№ партии',\n",
    "#     '№ плавки',\n",
    "    'марка стали',\n",
    "    'диаметр',\n",
    "    'толщина стенки',\n",
    "    'Гр. прочн.',\n",
    "    '1 зона по ВТР закалка',\n",
    "    '2 зона по ВТР закалка',\n",
    "    '3 зона по ВТР закалка',\n",
    "    'шаг балок закалочная печь, сек',\n",
    "    'Скорость прохождения трубы через спрейер, м/с', \n",
    "    '1 зона ВТР и уставка отпуск', \n",
    "    '2 зона ВТР и уставка отпуск', \n",
    "    '3 зона ВТР и уставка отпуск',\n",
    "    '4 зона ВТР и уставка отпуск',\n",
    "    '5 зона ВТР и уставка отпуск',\n",
    "    'шаг балок отпускная печь, сек',\n",
    "    'C',\n",
    "    'Mn',\n",
    "    'Si',\n",
    "    'P',\n",
    "    'S',\n",
    "    'Cr',\n",
    "    'Ni',\n",
    "    'Cu',\n",
    "    'Al',\n",
    "    'V',\n",
    "    'Ti',\n",
    "    'Nb',\n",
    "    'Mo',\n",
    "    'N',\n",
    "    'B',\n",
    "    'C-coef',\n",
    "    'Параметр закалка',\n",
    "    'Параметр отпуск',\n",
    "    'Параметр отпуск новый V',\n",
    "    'Величина зерна',\n",
    "    'Тип предела текучести (1186)',\n",
    "#     'Дата термообработки',\n",
    "    'ICD',\n",
    "#     'Примечание',\n",
    "    'длина трубы'\n",
    "    ]"
   ]
  },
  {
   "cell_type": "code",
   "execution_count": 37,
   "metadata": {},
   "outputs": [],
   "source": [
    "import pandas as pd\n",
    "import numpy as np\n",
    "import import_ipynb\n",
    "from my_libs.calc_features import *\n",
    "import random\n",
    "from datetime import datetime"
   ]
  },
  {
   "cell_type": "code",
   "execution_count": 38,
   "metadata": {
    "collapsed": true
   },
   "outputs": [],
   "source": [
    "pd.options.display.max_columns = 500\n",
    "pd.options.display.max_rows = 1000"
   ]
  },
  {
   "cell_type": "code",
   "execution_count": 39,
   "metadata": {
    "collapsed": true
   },
   "outputs": [],
   "source": [
    "import seaborn as sns\n",
    "import matplotlib.pyplot as plt\n",
    "%matplotlib inline"
   ]
  },
  {
   "cell_type": "code",
   "execution_count": 40,
   "metadata": {
    "scrolled": true
   },
   "outputs": [],
   "source": [
    "from sklearn.metrics import mean_absolute_error, mean_squared_error, r2_score, matthews_corrcoef, median_absolute_error\n",
    "from sklearn.linear_model import LinearRegression\n",
    "from sklearn.svm import LinearSVR\n",
    "from sklearn.tree import DecisionTreeRegressor\n",
    "from sklearn.ensemble import RandomForestRegressor, BaggingRegressor, ExtraTreesRegressor\n",
    "from sklearn.model_selection import cross_val_score, StratifiedKFold, cross_val_predict, cross_validate, train_test_split, GridSearchCV\n",
    "from sklearn import model_selection\n",
    "import matplotlib.pyplot as plt\n",
    "import os\n",
    "from time import time\n",
    "from datetime import datetime\n",
    "from my_libs.save_lib import save_RF_model\n",
    "from scipy.stats.stats import pearsonr"
   ]
  },
  {
   "cell_type": "code",
   "execution_count": 201,
   "metadata": {
    "collapsed": true,
    "scrolled": true
   },
   "outputs": [],
   "source": [
    "df = pd.read_csv('DATA/prepared/prepared_to_saw_gp.csv', low_memory=False)"
   ]
  },
  {
   "cell_type": "code",
   "execution_count": 202,
   "metadata": {
    "collapsed": true
   },
   "outputs": [],
   "source": [
    "df['№ плавки'] = df['№ плавки'].astype(str)\n",
    "df['№ плавки'] = df['№ плавки'].apply(lambda x: x.lower())\n",
    "df['№ партии'] = df['№ партии'].astype(str)"
   ]
  },
  {
   "cell_type": "code",
   "execution_count": 203,
   "metadata": {},
   "outputs": [
    {
     "data": {
      "text/plain": [
       "(24503, 201)"
      ]
     },
     "execution_count": 203,
     "metadata": {},
     "output_type": "execute_result"
    }
   ],
   "source": [
    "df_ = df.copy()\n",
    "df_.shape"
   ]
  },
  {
   "cell_type": "code",
   "execution_count": 204,
   "metadata": {
    "collapsed": true
   },
   "outputs": [],
   "source": [
    "def bath2spr(df):\n",
    "    L = 8.4\n",
    "    df['Скорость прохождения трубы через спрейер, м/с'] = L/df['время выдержки в закалочной ванне, сек.']\n",
    "    df['t˚ C трубы после спреера'] = df['t˚ C трубы после ванны']\n",
    "    return df"
   ]
  },
  {
   "cell_type": "code",
   "execution_count": 205,
   "metadata": {
    "collapsed": true
   },
   "outputs": [],
   "source": [
    "bath = df_[~df_['время выдержки в закалочной ванне, сек.'].isnull()].copy()\n",
    "df_ = df_[df_['время выдержки в закалочной ванне, сек.'].isnull()].copy()\n",
    "\n",
    "\n",
    "bath = bath2spr(bath)\n",
    "\n",
    "df = pd.concat([df_, bath])\n",
    "df.reset_index(inplace=True, drop=True)"
   ]
  },
  {
   "cell_type": "code",
   "execution_count": 206,
   "metadata": {},
   "outputs": [
    {
     "data": {
      "text/plain": [
       "(24503, 201)"
      ]
     },
     "execution_count": 206,
     "metadata": {},
     "output_type": "execute_result"
    }
   ],
   "source": [
    "df.shape"
   ]
  },
  {
   "cell_type": "code",
   "execution_count": 207,
   "metadata": {},
   "outputs": [],
   "source": [
    "df = len_pipe(df)\n",
    "\n",
    "df = mean_chem(df)\n",
    "\n",
    "df = calc_all_features(df)"
   ]
  },
  {
   "cell_type": "code",
   "execution_count": 208,
   "metadata": {
    "collapsed": true
   },
   "outputs": [],
   "source": [
    "df = df[df['шаг балок закалочная печь, сек'] < 100]\n",
    "df = df[df['шаг балок закалочная печь, сек'] >= 24]\n",
    "df = df[df['шаг балок отпускная печь, сек'] >= 24]\n",
    "df = df[df['Скорость прохождения трубы через спрейер, м/с'] <= 1]\n",
    "df = df[df['t˚ C трубы после спреера'] > 1]\n",
    "df = df[df['t˚ C трубы после спреера'] <= 250]\n",
    "df = df[df['2 зона ВТР и уставка отпуск'] > 400]\n",
    "df = df[df['4 зона ВТР и уставка отпуск'] > 400]"
   ]
  },
  {
   "cell_type": "code",
   "execution_count": 209,
   "metadata": {
    "scrolled": true
   },
   "outputs": [
    {
     "data": {
      "text/plain": [
       "(23716, 202)"
      ]
     },
     "execution_count": 209,
     "metadata": {},
     "output_type": "execute_result"
    }
   ],
   "source": [
    "df.shape"
   ]
  },
  {
   "cell_type": "code",
   "execution_count": 210,
   "metadata": {
    "collapsed": true
   },
   "outputs": [],
   "source": [
    "df['Дата термообработки'] = df['Дата термообработки'].apply(lambda x: str(x).replace(' 00:00:00', ''))\n",
    "df['Дата термообработки'] = df['Дата термообработки'].apply(lambda x: str(x).replace('-', '.'))"
   ]
  },
  {
   "cell_type": "code",
   "execution_count": 211,
   "metadata": {
    "scrolled": true
   },
   "outputs": [
    {
     "data": {
      "text/plain": [
       "array([[<matplotlib.axes._subplots.AxesSubplot object at 0x0000000005C97550>]],\n",
       "      dtype=object)"
      ]
     },
     "execution_count": 211,
     "metadata": {},
     "output_type": "execute_result"
    },
    {
     "data": {
      "image/png": "[encoded data removed]",
      "text/plain": [
       "<Figure size 432x288 with 1 Axes>"
      ]
     },
     "metadata": {},
     "output_type": "display_data"
    }
   ],
   "source": [
    "df[target].hist()"
   ]
  },
  {
   "cell_type": "code",
   "execution_count": 212,
   "metadata": {
    "scrolled": true
   },
   "outputs": [
    {
     "data": {
      "text/html": [
       "<div>\n",
       "<style scoped>\n",
       "    .dataframe tbody tr th:only-of-type {\n",
       "        vertical-align: middle;\n",
       "    }\n",
       "\n",
       "    .dataframe tbody tr th {\n",
       "        vertical-align: top;\n",
       "    }\n",
       "\n",
       "    .dataframe thead th {\n",
       "        text-align: right;\n",
       "    }\n",
       "</style>\n",
       "<table border=\"1\" class=\"dataframe\">\n",
       "  <thead>\n",
       "    <tr style=\"text-align: right;\">\n",
       "      <th></th>\n",
       "      <th>t˚ C трубы после спреера</th>\n",
       "    </tr>\n",
       "  </thead>\n",
       "  <tbody>\n",
       "    <tr>\n",
       "      <th>count</th>\n",
       "      <td>23716.000000</td>\n",
       "    </tr>\n",
       "    <tr>\n",
       "      <th>mean</th>\n",
       "      <td>56.295364</td>\n",
       "    </tr>\n",
       "    <tr>\n",
       "      <th>std</th>\n",
       "      <td>17.523852</td>\n",
       "    </tr>\n",
       "    <tr>\n",
       "      <th>min</th>\n",
       "      <td>24.600000</td>\n",
       "    </tr>\n",
       "    <tr>\n",
       "      <th>25%</th>\n",
       "      <td>41.333333</td>\n",
       "    </tr>\n",
       "    <tr>\n",
       "      <th>50%</th>\n",
       "      <td>52.500000</td>\n",
       "    </tr>\n",
       "    <tr>\n",
       "      <th>75%</th>\n",
       "      <td>70.000000</td>\n",
       "    </tr>\n",
       "    <tr>\n",
       "      <th>max</th>\n",
       "      <td>250.000000</td>\n",
       "    </tr>\n",
       "  </tbody>\n",
       "</table>\n",
       "</div>"
      ],
      "text/plain": [
       "       t˚ C трубы после спреера\n",
       "count              23716.000000\n",
       "mean                  56.295364\n",
       "std                   17.523852\n",
       "min                   24.600000\n",
       "25%                   41.333333\n",
       "50%                   52.500000\n",
       "75%                   70.000000\n",
       "max                  250.000000"
      ]
     },
     "execution_count": 212,
     "metadata": {},
     "output_type": "execute_result"
    }
   ],
   "source": [
    "df[target].describe()"
   ]
  },
  {
   "cell_type": "code",
   "execution_count": 213,
   "metadata": {
    "collapsed": true,
    "scrolled": true
   },
   "outputs": [],
   "source": [
    "tmp = []\n",
    "for x in df['Дата термообработки']:\n",
    "    try:\n",
    "        tmp.append(datetime.strptime(x, \"%d.%m.%Y\"))\n",
    "    except ValueError:\n",
    "        tmp.append(datetime.strptime(x, \"%Y.%m.%d\"))\n",
    "df['Дата термообработки'] = tmp"
   ]
  },
  {
   "cell_type": "code",
   "execution_count": 214,
   "metadata": {},
   "outputs": [
    {
     "data": {
      "text/plain": [
       "(23314, 39)"
      ]
     },
     "execution_count": 214,
     "metadata": {},
     "output_type": "execute_result"
    }
   ],
   "source": [
    "df[ls_columns_output+list(target)].dropna().shape"
   ]
  },
  {
   "cell_type": "code",
   "execution_count": 230,
   "metadata": {
    "collapsed": true
   },
   "outputs": [],
   "source": [
    "ls_train = ls_columns_output.copy()\n",
    "# ls_train.remove('Дата термообработки')\n",
    "ls_train.remove('марка стали')\n",
    "ls_train.remove('Гр. прочн.')\n",
    "\n",
    "for s in ls_to_del:\n",
    "    ls_train.remove(s)"
   ]
  },
  {
   "cell_type": "code",
   "execution_count": 231,
   "metadata": {
    "collapsed": true
   },
   "outputs": [],
   "source": [
    "df = df[ls_train+list(target)].dropna()\n",
    "df.drop_duplicates(inplace=True)\n",
    "\n",
    "X, X_valid, y, y_valid = train_test_split(df[ls_train], df[target], test_size=0.2, shuffle=True)"
   ]
  },
  {
   "cell_type": "code",
   "execution_count": 243,
   "metadata": {
    "scrolled": true
   },
   "outputs": [
    {
     "data": {
      "text/plain": [
       "((13556, 30), (3390, 30))"
      ]
     },
     "execution_count": 243,
     "metadata": {},
     "output_type": "execute_result"
    }
   ],
   "source": [
    "X.shape, X_valid.shape"
   ]
  },
  {
   "cell_type": "code",
   "execution_count": 244,
   "metadata": {},
   "outputs": [
    {
     "data": {
      "text/plain": [
       "Index(['диаметр', 'толщина стенки', '1 зона по ВТР закалка',\n",
       "       '2 зона по ВТР закалка', '3 зона по ВТР закалка',\n",
       "       'шаг балок закалочная печь, сек',\n",
       "       'Скорость прохождения трубы через спрейер, м/с',\n",
       "       '1 зона ВТР и уставка отпуск', '2 зона ВТР и уставка отпуск',\n",
       "       '3 зона ВТР и уставка отпуск', '4 зона ВТР и уставка отпуск',\n",
       "       '5 зона ВТР и уставка отпуск', 'шаг балок отпускная печь, сек', 'C',\n",
       "       'Mn', 'Si', 'Cr', 'Ni', 'Cu', 'V', 'Ti', 'Nb', 'Mo', 'N',\n",
       "       'Параметр закалка', 'Параметр отпуск', 'Параметр отпуск новый V',\n",
       "       'Величина зерна', 'ICD', 'длина трубы'],\n",
       "      dtype='object')"
      ]
     },
     "execution_count": 244,
     "metadata": {},
     "output_type": "execute_result"
    }
   ],
   "source": [
    "X.columns"
   ]
  },
  {
   "cell_type": "code",
   "execution_count": 245,
   "metadata": {
    "collapsed": true
   },
   "outputs": [],
   "source": [
    "def print_and_return_score(x, y, est, verb=1):\n",
    "    y_pred = est.predict(x)\n",
    "#     scr = est.score(x, y)\n",
    "    mae = mean_absolute_error(y, y_pred)\n",
    "    mse = mean_squared_error(y, y_pred)\n",
    "    r2 = r2_score(y, y_pred)\n",
    "    corr = np.corrcoef(y.T, y_pred)\n",
    "    \n",
    "    if verb==1:        \n",
    "        print('R^2: ', round(r2, 2))\n",
    "        print('MAE: ', round(mae, 2))\n",
    "        print('MSE: ', round(mse, 2))\n",
    "        print('Correlation1: ', round(corr[0][1], 2))\n",
    "    return [mae, mse, corr[0][1]]"
   ]
  },
  {
   "cell_type": "code",
   "execution_count": 246,
   "metadata": {
    "collapsed": true
   },
   "outputs": [],
   "source": [
    "X_train, X_test,  y_train, y_test = train_test_split(X, y, test_size=0.2, shuffle=True)"
   ]
  },
  {
   "cell_type": "code",
   "execution_count": 247,
   "metadata": {},
   "outputs": [
    {
     "data": {
      "text/plain": [
       "30"
      ]
     },
     "execution_count": 247,
     "metadata": {},
     "output_type": "execute_result"
    }
   ],
   "source": [
    "len(ls_train)"
   ]
  },
  {
   "cell_type": "code",
   "execution_count": 248,
   "metadata": {},
   "outputs": [
    {
     "name": "stderr",
     "output_type": "stream",
     "text": [
      "D:\\Repo\\Anaconda2\\envs\\myenv\\lib\\site-packages\\ipykernel_launcher.py:3: DataConversionWarning: A column-vector y was passed when a 1d array was expected. Please change the shape of y to (n_samples,), for example using ravel().\n",
      "  This is separate from the ipykernel package so we can avoid doing imports until\n"
     ]
    },
    {
     "name": "stdout",
     "output_type": "stream",
     "text": [
      "R^2:  0.95\n",
      "MAE:  2.0\n",
      "MSE:  15.7\n",
      "Correlation1:  0.97\n"
     ]
    }
   ],
   "source": [
    "# с удаленными незначимыми столбцами\n",
    "rfc = RandomForestRegressor(max_features = 13, max_depth = 18, min_samples_leaf = 1, n_estimators=50, criterion='mse')\n",
    "rfc.fit(X_train, y_train)\n",
    "\n",
    "mae, mse, corr1 = print_and_return_score(X_test, y_test, rfc)"
   ]
  },
  {
   "cell_type": "code",
   "execution_count": 249,
   "metadata": {
    "scrolled": true
   },
   "outputs": [
    {
     "data": {
      "text/plain": [
       "((3390, 30), (2712, 30))"
      ]
     },
     "execution_count": 249,
     "metadata": {},
     "output_type": "execute_result"
    }
   ],
   "source": [
    "X_valid.shape, X_test.shape"
   ]
  },
  {
   "cell_type": "code",
   "execution_count": 250,
   "metadata": {},
   "outputs": [
    {
     "data": {
      "text/plain": [
       "(217, 30)"
      ]
     },
     "execution_count": 250,
     "metadata": {},
     "output_type": "execute_result"
    }
   ],
   "source": [
    "pd.merge(X_test, X_valid, how='inner').shape"
   ]
  },
  {
   "cell_type": "code",
   "execution_count": 251,
   "metadata": {},
   "outputs": [
    {
     "name": "stdout",
     "output_type": "stream",
     "text": [
      "R^2:  0.95\n",
      "MAE:  2.06\n",
      "MSE:  16.68\n",
      "Correlation1:  0.97\n"
     ]
    }
   ],
   "source": [
    "mae, mse, corr1 = print_and_return_score(X_valid, y_valid, rfc)"
   ]
  },
  {
   "cell_type": "code",
   "execution_count": 252,
   "metadata": {
    "scrolled": true
   },
   "outputs": [
    {
     "name": "stdout",
     "output_type": "stream",
     "text": [
      "диаметр    0.05\n",
      "толщина стенки    0.08\n",
      "1 зона по ВТР закалка    0.02\n",
      "2 зона по ВТР закалка    0.02\n",
      "3 зона по ВТР закалка    0.04\n",
      "шаг балок закалочная печь, сек    0.07\n",
      "Скорость прохождения трубы через спрейер, м/с    0.1\n",
      "1 зона ВТР и уставка отпуск    0.01\n",
      "2 зона ВТР и уставка отпуск    0.02\n",
      "3 зона ВТР и уставка отпуск    0.0\n",
      "4 зона ВТР и уставка отпуск    0.03\n",
      "5 зона ВТР и уставка отпуск    0.0\n",
      "шаг балок отпускная печь, сек    0.17\n",
      "C    0.01\n",
      "Mn    0.01\n",
      "Si    0.01\n",
      "Cr    0.01\n",
      "Ni    0.01\n",
      "Cu    0.01\n",
      "V    0.01\n",
      "Ti    0.01\n",
      "Nb    0.05\n",
      "Mo    0.02\n",
      "N    0.01\n",
      "Параметр закалка    0.11\n",
      "Параметр отпуск    0.01\n",
      "Параметр отпуск новый V    0.01\n",
      "Величина зерна    0.01\n",
      "ICD    0.01\n",
      "длина трубы    0.11\n"
     ]
    }
   ],
   "source": [
    "val = rfc.feature_importances_\n",
    "lab = ls_train\n",
    "dict_feat_import = dict(zip(lab, val))\n",
    "ls_to_del = []\n",
    "for feat, imp in zip(lab, val):\n",
    "    print(feat, '  ', imp.round(2))\n",
    "    if imp.round(2) < 0.01:\n",
    "        ls_to_del.append(feat)"
   ]
  },
  {
   "cell_type": "code",
   "execution_count": 253,
   "metadata": {},
   "outputs": [
    {
     "data": {
      "text/plain": [
       "['3 зона ВТР и уставка отпуск', '5 зона ВТР и уставка отпуск']"
      ]
     },
     "execution_count": 253,
     "metadata": {},
     "output_type": "execute_result"
    }
   ],
   "source": [
    "ls_to_del"
   ]
  },
  {
   "cell_type": "markdown",
   "metadata": {},
   "source": [
    "## GridSearchCV"
   ]
  },
  {
   "cell_type": "code",
   "execution_count": 254,
   "metadata": {
    "collapsed": true
   },
   "outputs": [],
   "source": [
    "param_grid = {\n",
    "    'max_depth': range(10, 18, 2),\n",
    "    'max_features': range(10, 18, 2),\n",
    "    'min_samples_leaf': range(1, 4),\n",
    "    'n_estimators': range(50, 300, 50)\n",
    "}\n",
    "\n",
    "rf = RandomForestRegressor()\n",
    "\n",
    "grid_search = GridSearchCV(estimator = rf, param_grid = param_grid, \n",
    "                          cv = 3, n_jobs = -1, verbose = 2, scoring='neg_mean_absolute_error')"
   ]
  },
  {
   "cell_type": "code",
   "execution_count": 255,
   "metadata": {
    "collapsed": true
   },
   "outputs": [],
   "source": [
    "X_train, X_test, y_train, y_test = train_test_split(X, y, test_size=0.3, shuffle=True)"
   ]
  },
  {
   "cell_type": "code",
   "execution_count": 256,
   "metadata": {
    "scrolled": false
   },
   "outputs": [
    {
     "name": "stdout",
     "output_type": "stream",
     "text": [
      "Fitting 3 folds for each of 240 candidates, totalling 720 fits\n"
     ]
    },
    {
     "name": "stderr",
     "output_type": "stream",
     "text": [
      "[Parallel(n_jobs=-1)]: Done  33 tasks      | elapsed:   35.8s\n",
      "[Parallel(n_jobs=-1)]: Done 154 tasks      | elapsed:  2.9min\n",
      "[Parallel(n_jobs=-1)]: Done 357 tasks      | elapsed:  7.7min\n",
      "[Parallel(n_jobs=-1)]: Done 640 tasks      | elapsed: 14.6min\n",
      "[Parallel(n_jobs=-1)]: Done 720 out of 720 | elapsed: 17.0min finished\n",
      "D:\\Repo\\Anaconda2\\envs\\myenv\\lib\\site-packages\\sklearn\\model_selection\\_search.py:739: DataConversionWarning: A column-vector y was passed when a 1d array was expected. Please change the shape of y to (n_samples,), for example using ravel().\n",
      "  self.best_estimator_.fit(X, y, **fit_params)\n"
     ]
    },
    {
     "data": {
      "text/plain": [
       "GridSearchCV(cv=3, error_score='raise',\n",
       "       estimator=RandomForestRegressor(bootstrap=True, criterion='mse', max_depth=None,\n",
       "           max_features='auto', max_leaf_nodes=None,\n",
       "           min_impurity_decrease=0.0, min_impurity_split=None,\n",
       "           min_samples_leaf=1, min_samples_split=2,\n",
       "           min_weight_fraction_leaf=0.0, n_estimators=10, n_jobs=1,\n",
       "           oob_score=False, random_state=None, verbose=0, warm_start=False),\n",
       "       fit_params=None, iid=True, n_jobs=-1,\n",
       "       param_grid={'max_depth': range(10, 18, 2), 'max_features': range(10, 18, 2), 'min_samples_leaf': range(1, 4), 'n_estimators': range(50, 300, 50)},\n",
       "       pre_dispatch='2*n_jobs', refit=True, return_train_score='warn',\n",
       "       scoring='neg_mean_absolute_error', verbose=2)"
      ]
     },
     "execution_count": 256,
     "metadata": {},
     "output_type": "execute_result"
    }
   ],
   "source": [
    "grid_search.fit(X_train, y_train)"
   ]
  },
  {
   "cell_type": "code",
   "execution_count": 257,
   "metadata": {},
   "outputs": [
    {
     "data": {
      "text/plain": [
       "{'max_depth': 16,\n",
       " 'max_features': 14,\n",
       " 'min_samples_leaf': 1,\n",
       " 'n_estimators': 200}"
      ]
     },
     "execution_count": 257,
     "metadata": {},
     "output_type": "execute_result"
    }
   ],
   "source": [
    "grid_search.best_params_"
   ]
  },
  {
   "cell_type": "code",
   "execution_count": 261,
   "metadata": {
    "scrolled": true
   },
   "outputs": [
    {
     "name": "stdout",
     "output_type": "stream",
     "text": [
      "R^2:  0.95\n",
      "MAE:  2.13\n",
      "MSE:  16.58\n",
      "Correlation1:  0.97\n"
     ]
    }
   ],
   "source": [
    "mae, mse, corr = print_and_return_score(X_test, y_test, grid_search)"
   ]
  },
  {
   "cell_type": "code",
   "execution_count": 262,
   "metadata": {
    "collapsed": true
   },
   "outputs": [],
   "source": [
    "y_predict = grid_search.predict(X_test)"
   ]
  },
  {
   "cell_type": "code",
   "execution_count": 263,
   "metadata": {
    "scrolled": false
   },
   "outputs": [
    {
     "data": {
      "image/png": "[encoded data removed]",
      "text/plain": [
       "<Figure size 720x720 with 1 Axes>"
      ]
     },
     "metadata": {},
     "output_type": "display_data"
    }
   ],
   "source": [
    "plt.subplots(figsize=(10,10))\n",
    "plt.scatter(y_test, y_predict, marker='o', c=y_test, edgecolors='black', cmap='viridis')\n",
    "# plt.colorbar()\n",
    "plt.show()"
   ]
  },
  {
   "cell_type": "markdown",
   "metadata": {},
   "source": [
    "## Cross-validation with KFold"
   ]
  },
  {
   "cell_type": "code",
   "execution_count": 264,
   "metadata": {
    "scrolled": false
   },
   "outputs": [
    {
     "name": "stderr",
     "output_type": "stream",
     "text": [
      "D:\\Repo\\Anaconda2\\envs\\myenv\\lib\\site-packages\\ipykernel_launcher.py:7: DataConversionWarning: A column-vector y was passed when a 1d array was expected. Please change the shape of y to (n_samples,), for example using ravel().\n",
      "  import sys\n"
     ]
    },
    {
     "name": "stdout",
     "output_type": "stream",
     "text": [
      "R^2:  0.95\n",
      "MAE:  2.04\n",
      "MSE:  16.53\n",
      "Correlation1:  0.97\n"
     ]
    },
    {
     "name": "stderr",
     "output_type": "stream",
     "text": [
      "D:\\Repo\\Anaconda2\\envs\\myenv\\lib\\site-packages\\ipykernel_launcher.py:7: DataConversionWarning: A column-vector y was passed when a 1d array was expected. Please change the shape of y to (n_samples,), for example using ravel().\n",
      "  import sys\n"
     ]
    },
    {
     "name": "stdout",
     "output_type": "stream",
     "text": [
      "R^2:  0.94\n",
      "MAE:  2.06\n",
      "MSE:  17.92\n",
      "Correlation1:  0.97\n"
     ]
    },
    {
     "name": "stderr",
     "output_type": "stream",
     "text": [
      "D:\\Repo\\Anaconda2\\envs\\myenv\\lib\\site-packages\\ipykernel_launcher.py:7: DataConversionWarning: A column-vector y was passed when a 1d array was expected. Please change the shape of y to (n_samples,), for example using ravel().\n",
      "  import sys\n"
     ]
    },
    {
     "name": "stdout",
     "output_type": "stream",
     "text": [
      "R^2:  0.95\n",
      "MAE:  2.06\n",
      "MSE:  17.25\n",
      "Correlation1:  0.97\n"
     ]
    },
    {
     "name": "stderr",
     "output_type": "stream",
     "text": [
      "D:\\Repo\\Anaconda2\\envs\\myenv\\lib\\site-packages\\ipykernel_launcher.py:7: DataConversionWarning: A column-vector y was passed when a 1d array was expected. Please change the shape of y to (n_samples,), for example using ravel().\n",
      "  import sys\n"
     ]
    },
    {
     "name": "stdout",
     "output_type": "stream",
     "text": [
      "R^2:  0.96\n",
      "MAE:  2.01\n",
      "MSE:  13.21\n",
      "Correlation1:  0.98\n"
     ]
    },
    {
     "name": "stderr",
     "output_type": "stream",
     "text": [
      "D:\\Repo\\Anaconda2\\envs\\myenv\\lib\\site-packages\\ipykernel_launcher.py:7: DataConversionWarning: A column-vector y was passed when a 1d array was expected. Please change the shape of y to (n_samples,), for example using ravel().\n",
      "  import sys\n"
     ]
    },
    {
     "name": "stdout",
     "output_type": "stream",
     "text": [
      "R^2:  0.95\n",
      "MAE:  2.06\n",
      "MSE:  17.05\n",
      "Correlation1:  0.97\n"
     ]
    }
   ],
   "source": [
    "kfold = model_selection.KFold(n_splits=5, shuffle=True)\n",
    "scores = []\n",
    "for train, test in kfold.split(X, y):\n",
    "    x_train, y_train = X.iloc[train], y.iloc[train]\n",
    "    x_test, y_test = X.iloc[test], y.iloc[test]\n",
    "    grf = grid_search.best_estimator_\n",
    "    grf.fit(x_train, y_train)\n",
    "\n",
    "    scores.append(print_and_return_score(X_valid, y_valid, grf))"
   ]
  },
  {
   "cell_type": "code",
   "execution_count": 270,
   "metadata": {
    "scrolled": true
   },
   "outputs": [
    {
     "name": "stdout",
     "output_type": "stream",
     "text": [
      "2.05\n",
      "17.24\n",
      "0.97\n"
     ]
    }
   ],
   "source": [
    "for i in range(3):\n",
    "    tmp = []\n",
    "    for j in range(3):\n",
    "        tmp.append(scores[j][i])\n",
    "    print(round(np.mean(tmp), 2))"
   ]
  },
  {
   "cell_type": "code",
   "execution_count": 272,
   "metadata": {},
   "outputs": [
    {
     "name": "stderr",
     "output_type": "stream",
     "text": [
      "D:\\Repo\\Anaconda2\\envs\\myenv\\lib\\site-packages\\ipykernel_launcher.py:3: DataConversionWarning: A column-vector y was passed when a 1d array was expected. Please change the shape of y to (n_samples,), for example using ravel().\n",
      "  This is separate from the ipykernel package so we can avoid doing imports until\n"
     ]
    },
    {
     "name": "stdout",
     "output_type": "stream",
     "text": [
      "R^2:  0.95\n",
      "MAE:  2.13\n",
      "MSE:  15.38\n",
      "Correlation1:  0.97\n"
     ]
    }
   ],
   "source": [
    "X_train, X_test, y_train, y_test = train_test_split(X, y, test_size=0.3)\n",
    "grf = grid_search.best_estimator_\n",
    "grf.fit(X_train, y_train)\n",
    "mae, mse, corr1 = print_and_return_score(X_test, y_test, grf)"
   ]
  },
  {
   "cell_type": "code",
   "execution_count": 290,
   "metadata": {
    "collapsed": true
   },
   "outputs": [],
   "source": [
    "''' Проверка на 147 строчках ванны '''\n",
    "# bath_valid_ = bath_valid.dropna() \n",
    "# X_valid = bath_valid_[ls_train_col]\n",
    "# y_valid = bath_valid_[targets]"
   ]
  },
  {
   "cell_type": "code",
   "execution_count": 305,
   "metadata": {
    "scrolled": true
   },
   "outputs": [
    {
     "data": {
      "text/plain": [
       "(1466, 37)"
      ]
     },
     "execution_count": 305,
     "metadata": {},
     "output_type": "execute_result"
    }
   ],
   "source": [
    "X_valid.shape"
   ]
  },
  {
   "cell_type": "code",
   "execution_count": 279,
   "metadata": {},
   "outputs": [
    {
     "name": "stdout",
     "output_type": "stream",
     "text": [
      "R^2:  0.95\n",
      "MAE:  2.06\n",
      "MSE:  16.68\n",
      "Correlation1:  0.97\n"
     ]
    }
   ],
   "source": [
    "y_pred = pd.DataFrame(rfc.predict(X_valid), columns=['прогноз t˚ C трубы после спреера'])\n",
    "y_pred.reset_index(inplace=True, drop=True)\n",
    "y_valid.reset_index(inplace=True, drop=True)\n",
    "\n",
    "mae, mse, corr1 = print_and_return_score(X_valid, y_valid, rfc)\n",
    "scr = r2_score(y_valid, y_pred)\n",
    "\n",
    "score_df = pd.concat([pd.DataFrame({'Score':[scr], 'MAE':[mae], 'MSE':[mse], 'Correlation':[corr1],}),\n",
    "                      y_pred,\n",
    "                      y_valid],\n",
    "                    axis=1)\n",
    "\n",
    "score_df['MAE'] = np.abs(score_df['t˚ C трубы после спреера'] - score_df['прогноз t˚ C трубы после спреера'])"
   ]
  },
  {
   "cell_type": "code",
   "execution_count": 278,
   "metadata": {},
   "outputs": [
    {
     "name": "stdout",
     "output_type": "stream",
     "text": [
      "R^2:  0.94\n",
      "MAE:  2.11\n",
      "MSE:  18.12\n",
      "Correlation1:  0.97\n"
     ]
    }
   ],
   "source": [
    "y_pred = pd.DataFrame(grf.predict(X_valid), columns=['прогноз t˚ C трубы после спреера'])\n",
    "y_pred.reset_index(inplace=True, drop=True)\n",
    "y_valid.reset_index(inplace=True, drop=True)\n",
    "\n",
    "mae, mse, corr1 = print_and_return_score(X_valid, y_valid, grf)\n",
    "scr = r2_score(y_valid, y_pred)\n",
    "\n",
    "score_df = pd.concat([pd.DataFrame({'Score':[scr], 'MAE':[mae], 'MSE':[mse], 'Correlation':[corr1],\n",
    "                                                     }),\n",
    "                      y_pred,\n",
    "                      y_valid],\n",
    "                    axis=1)\n",
    "\n",
    "score_df['MAE'] = np.abs(score_df['t˚ C трубы после спреера'] - score_df['прогноз t˚ C трубы после спреера'])"
   ]
  },
  {
   "cell_type": "code",
   "execution_count": 281,
   "metadata": {},
   "outputs": [
    {
     "name": "stdout",
     "output_type": "stream",
     "text": [
      "Модель сохранена\n"
     ]
    }
   ],
   "source": [
    "save_RF_model(rfc, ls_train, 'temp pipe after spr', score_df)"
   ]
  }
 ],
 "metadata": {
  "kernelspec": {
   "display_name": "Python 3",
   "language": "python",
   "name": "python3"
  },
  "language_info": {
   "codemirror_mode": {
    "name": "ipython",
    "version": 3
   },
   "file_extension": ".py",
   "mimetype": "text/x-python",
   "name": "python",
   "nbconvert_exporter": "python",
   "pygments_lexer": "ipython3",
   "version": "3.6.4"
  }
 },
 "nbformat": 4,
 "nbformat_minor": 2
}
