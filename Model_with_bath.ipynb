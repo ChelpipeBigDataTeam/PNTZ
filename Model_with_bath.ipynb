{
 "cells": [
  {
   "cell_type": "markdown",
   "metadata": {},
   "source": [
    "# Загрузка"
   ]
  },
  {
   "cell_type": "code",
   "execution_count": 1,
   "metadata": {},
   "outputs": [],
   "source": [
    "targets = ['Врем. сопротивление', 'Предел текучести']"
   ]
  },
  {
   "cell_type": "code",
   "execution_count": 2,
   "metadata": {},
   "outputs": [],
   "source": [
    "ls_bath_col = [\n",
    "    't˚ C воды в закалочной ванне', \n",
    "    't˚ C трубы после ванны',\n",
    "    'время выдержки в закалочной ванне, сек.'\n",
    "]"
   ]
  },
  {
   "cell_type": "code",
   "execution_count": 85,
   "metadata": {},
   "outputs": [],
   "source": [
    "ls_need_col = ['Врем. сопротивление', 'Предел текучести',\n",
    "       'Тип предела текучести (1186)',\n",
    "       '1 зона по ВТР закалка',\n",
    "       '2 зона по ВТР закалка',\n",
    "       '3 зона по ВТР закалка',\n",
    "       'Скорость прохождения трубы через спрейер, м/с',\n",
    "       't˚ C трубы после спреера',\n",
    "#        't˚ C воды в закалочной ванне', \n",
    "       't˚ C трубы после ванны',\n",
    "       'время выдержки в закалочной ванне, сек.',\n",
    "       '1 зона ВТР и уставка отпуск', \n",
    "       '2 зона ВТР и уставка отпуск',\n",
    "       '3 зона ВТР и уставка отпуск',\n",
    "       '4 зона ВТР и уставка отпуск',\n",
    "       '5 зона ВТР и уставка отпуск',\n",
    "       'диаметр', \n",
    "       'марка стали',\n",
    "       'толщина стенки', \n",
    "       'шаг балок закалочная печь, сек',\n",
    "       'шаг балок отпускная печь, сек',\n",
    "       'C', 'Mn', 'Si', 'P', 'S',\n",
    "       'Cr', 'Ni', 'Cu', 'Al', 'V', 'Ti', 'Nb', 'Mo', 'N',\n",
    "       'ICD',\n",
    "       'C-coef', 'Параметр закалка', 'Параметр отпуск',\n",
    "       'Параметр отпуск новый', 'Параметр отпуск новый 2',\n",
    "       'Параметр отпуск новый V',\n",
    "       'Величина зерна']"
   ]
  },
  {
   "cell_type": "code",
   "execution_count": 16,
   "metadata": {},
   "outputs": [],
   "source": [
    "import pandas as pd\n",
    "import numpy as np\n",
    "import import_ipynb\n",
    "from my_libs.calc_features import *\n",
    "import random\n",
    "from datetime import datetime"
   ]
  },
  {
   "cell_type": "code",
   "execution_count": 27,
   "metadata": {},
   "outputs": [],
   "source": [
    "pd.options.display.max_columns = 500\n",
    "pd.options.display.max_rows = 1000"
   ]
  },
  {
   "cell_type": "code",
   "execution_count": 6,
   "metadata": {},
   "outputs": [],
   "source": [
    "import seaborn as sns\n",
    "import matplotlib.pyplot as plt\n",
    "%matplotlib inline"
   ]
  },
  {
   "cell_type": "code",
   "execution_count": 7,
   "metadata": {},
   "outputs": [
    {
     "name": "stdout",
     "output_type": "stream",
     "text": [
      "importing Jupyter notebook from C:\\Users\\kseniya.yuldasheva\\Desktop\\gitPNTZtoyuk_1\\gitPNTZ\\PNTZ\\my_libs\\save_lib.ipynb\n"
     ]
    },
    {
     "name": "stderr",
     "output_type": "stream",
     "text": [
      "C:\\ProgramData\\Anaconda3\\lib\\site-packages\\h5py\\__init__.py:36: FutureWarning: Conversion of the second argument of issubdtype from `float` to `np.floating` is deprecated. In future, it will be treated as `np.float64 == np.dtype(float).type`.\n",
      "  from ._conv import register_converters as _register_converters\n",
      "Using TensorFlow backend.\n"
     ]
    }
   ],
   "source": [
    "from sklearn.metrics import mean_absolute_error, mean_squared_error, r2_score, matthews_corrcoef, median_absolute_error\n",
    "from sklearn.linear_model import LogisticRegression\n",
    "from sklearn.svm import LinearSVR\n",
    "from sklearn.tree import DecisionTreeRegressor\n",
    "from sklearn.ensemble import RandomForestRegressor, BaggingRegressor, ExtraTreesRegressor\n",
    "from sklearn.model_selection import cross_val_score, StratifiedKFold, cross_val_predict, cross_validate, train_test_split, GridSearchCV\n",
    "import matplotlib.pyplot as plt\n",
    "from sklearn import model_selection\n",
    "import time\n",
    "from sklearn.neural_network import MLPRegressor\n",
    "import os\n",
    "os.environ[\"MKL_THREADING_LAYER\"] = \"GNU\"\n",
    "from sklearn.preprocessing import LabelEncoder\n",
    "from time import time\n",
    "from datetime import datetime\n",
    "import json\n",
    "from my_libs.save_lib import save_RF_model\n",
    "from scipy.stats.stats import pearsonr"
   ]
  },
  {
   "cell_type": "code",
   "execution_count": 44,
   "metadata": {},
   "outputs": [],
   "source": [
    "df = pd.read_excel('DATA/prepared/prepared_hard.xlsx')"
   ]
  },
  {
   "cell_type": "code",
   "execution_count": 45,
   "metadata": {},
   "outputs": [],
   "source": [
    "df_valid = pd.read_excel('DATA/prepared/prepared_hard_valid.xlsx')"
   ]
  },
  {
   "cell_type": "markdown",
   "metadata": {},
   "source": [
    "# Отделение таблицы с ванной и ее преобразование"
   ]
  },
  {
   "cell_type": "code",
   "execution_count": 58,
   "metadata": {},
   "outputs": [],
   "source": [
    "bath = df[~df['время выдержки в закалочной ванне, сек.'].isnull()].copy()\n",
    "bath_valid = df_valid[~df_valid['время выдержки в закалочной ванне, сек.'].isnull()].copy()\n",
    "df_ = df[df['время выдержки в закалочной ванне, сек.'].isnull()].copy()\n",
    "df_valid_ = df_valid[df_valid['время выдержки в закалочной ванне, сек.'].isnull()].copy()"
   ]
  },
  {
   "cell_type": "code",
   "execution_count": 59,
   "metadata": {
    "scrolled": false
   },
   "outputs": [
    {
     "data": {
      "text/plain": [
       "((952, 211), (148, 200))"
      ]
     },
     "execution_count": 59,
     "metadata": {},
     "output_type": "execute_result"
    }
   ],
   "source": [
    "bath.shape, bath_valid.shape"
   ]
  },
  {
   "cell_type": "code",
   "execution_count": 60,
   "metadata": {},
   "outputs": [
    {
     "data": {
      "text/plain": [
       "((930, 42), (148, 42))"
      ]
     },
     "execution_count": 60,
     "metadata": {},
     "output_type": "execute_result"
    }
   ],
   "source": [
    "bath = bath[bath['время выдержки в закалочной ванне, сек.'] > 10]\n",
    "\n",
    "bath_valid = bath_valid[ls_need_col]\n",
    "bath = bath[ls_need_col]\n",
    "\n",
    "bath.shape, bath_valid.shape"
   ]
  },
  {
   "cell_type": "code",
   "execution_count": 61,
   "metadata": {},
   "outputs": [],
   "source": [
    "def bath2spr(df):\n",
    "    L = 8.4\n",
    "    df['Скорость прохождения трубы через спрейер, м/с'] = L/df['время выдержки в закалочной ванне, сек.']\n",
    "    df['t˚ C трубы после спреера'] = df['t˚ C трубы после ванны']\n",
    "    return df"
   ]
  },
  {
   "cell_type": "code",
   "execution_count": 62,
   "metadata": {
    "scrolled": true
   },
   "outputs": [],
   "source": [
    "bath = bath2spr(bath)\n",
    "bath_valid = bath2spr(bath_valid)"
   ]
  },
  {
   "cell_type": "code",
   "execution_count": 63,
   "metadata": {},
   "outputs": [
    {
     "data": {
      "text/plain": [
       "((21823, 211), (1580, 200), (930, 42), (148, 42))"
      ]
     },
     "execution_count": 63,
     "metadata": {},
     "output_type": "execute_result"
    }
   ],
   "source": [
    "df_.shape, df_valid_.shape, bath.shape, bath_valid.shape"
   ]
  },
  {
   "cell_type": "code",
   "execution_count": 68,
   "metadata": {
    "scrolled": false
   },
   "outputs": [
    {
     "name": "stderr",
     "output_type": "stream",
     "text": [
      "C:\\ProgramData\\Anaconda3\\lib\\site-packages\\ipykernel_launcher.py:1: FutureWarning: Sorting because non-concatenation axis is not aligned. A future version\n",
      "of pandas will change to not sort by default.\n",
      "\n",
      "To accept the future behavior, pass 'sort=True'.\n",
      "\n",
      "To retain the current behavior and silence the warning, pass sort=False\n",
      "\n",
      "  \"\"\"Entry point for launching an IPython kernel.\n",
      "C:\\ProgramData\\Anaconda3\\lib\\site-packages\\ipykernel_launcher.py:3: FutureWarning: Sorting because non-concatenation axis is not aligned. A future version\n",
      "of pandas will change to not sort by default.\n",
      "\n",
      "To accept the future behavior, pass 'sort=True'.\n",
      "\n",
      "To retain the current behavior and silence the warning, pass sort=False\n",
      "\n",
      "  This is separate from the ipykernel package so we can avoid doing imports until\n"
     ]
    }
   ],
   "source": [
    "df = pd.concat([df_, bath])\n",
    "df.reset_index(inplace=True, drop=True)\n",
    "df_valid = pd.concat([df_valid_, bath_valid])\n",
    "df_valid.reset_index(inplace=True, drop=True)"
   ]
  },
  {
   "cell_type": "code",
   "execution_count": 69,
   "metadata": {},
   "outputs": [
    {
     "data": {
      "text/plain": [
       "((22753, 211), (1728, 200))"
      ]
     },
     "execution_count": 69,
     "metadata": {},
     "output_type": "execute_result"
    }
   ],
   "source": [
    "df.shape, df_valid.shape"
   ]
  },
  {
   "cell_type": "markdown",
   "metadata": {},
   "source": [
    "# Обучение"
   ]
  },
  {
   "cell_type": "code",
   "execution_count": 93,
   "metadata": {
    "scrolled": true
   },
   "outputs": [],
   "source": [
    "ls_train_col = ls_need_col.copy()\n",
    "for s in targets+['t˚ C трубы после ванны',\n",
    "       'время выдержки в закалочной ванне, сек.', 'марка стали']:\n",
    "    ls_train_col.remove(s) "
   ]
  },
  {
   "cell_type": "code",
   "execution_count": 143,
   "metadata": {},
   "outputs": [],
   "source": [
    "df_clean = df[ls_train_col+targets].dropna()\n",
    "df_valid_clean = df_valid[ls_train_col+targets].dropna()"
   ]
  },
  {
   "cell_type": "code",
   "execution_count": 144,
   "metadata": {
    "scrolled": true
   },
   "outputs": [
    {
     "data": {
      "text/plain": [
       "((21797, 39), (1613, 39))"
      ]
     },
     "execution_count": 144,
     "metadata": {},
     "output_type": "execute_result"
    }
   ],
   "source": [
    "df_clean.shape, df_valid_clean.shape"
   ]
  },
  {
   "cell_type": "code",
   "execution_count": 145,
   "metadata": {
    "scrolled": true
   },
   "outputs": [],
   "source": [
    "X = df_clean[ls_train_col]\n",
    "y = df_clean[targets]\n",
    "X_valid = df_valid_clean[ls_train_col]\n",
    "y_valid = df_valid_clean[targets]"
   ]
  },
  {
   "cell_type": "code",
   "execution_count": 146,
   "metadata": {},
   "outputs": [],
   "source": [
    "def print_and_return_score(x, y, est):\n",
    "    y_pred = est.predict(x)\n",
    "    scr = est.score(x, y)\n",
    "    mae = mean_absolute_error(y, y_pred)\n",
    "    mse = mean_squared_error(y, y_pred)\n",
    "    r2 = r2_score(y, y_pred)\n",
    "    corr = []\n",
    "    for i in range(y.columns.size):\n",
    "        corr.append(np.corrcoef(y.iloc[:, i].T, \n",
    "                                y_pred[:, i]))\n",
    "        \n",
    "    print('Score: ', round(scr, 2))\n",
    "    print('R^2: ', round(r2, 2))\n",
    "    print('MAE: ', round(mae, 2))\n",
    "    print('MSE: ', round(mse, 2))\n",
    "    print('Correlation Врем. сопротивление: ', round(corr[0][0][1], 2))\n",
    "    print('Correlation Предел текучести: ', round(corr[1][0][1], 2))\n",
    "    return [scr, mae, mse, corr[0][0][1], corr[1][0][1]]"
   ]
  },
  {
   "cell_type": "code",
   "execution_count": 148,
   "metadata": {},
   "outputs": [
    {
     "name": "stdout",
     "output_type": "stream",
     "text": [
      "Score:  0.9\n",
      "R^2:  0.9\n",
      "MAE:  1.97\n",
      "MSE:  7.99\n",
      "Correlation Врем. сопротивление:  0.96\n",
      "Correlation Предел текучести:  0.94\n"
     ]
    }
   ],
   "source": [
    "X_train, X_test,  y_train, y_test = train_test_split(X, y, test_size=0.3)\n",
    "\n",
    "rfc = RandomForestRegressor(max_features = 10, max_depth = 15, min_samples_leaf = 2, n_estimators=100, criterion='mse')\n",
    "rfc.fit(X_train, y_train)\n",
    "\n",
    "scr, mae, mse, corr1, corr2 = print_and_return_score(X_test, y_test, rfc)"
   ]
  },
  {
   "cell_type": "code",
   "execution_count": 180,
   "metadata": {
    "scrolled": true
   },
   "outputs": [],
   "source": [
    "score_df = pd.concat([pd.DataFrame({'Score':[scr], 'MAE':[mae], 'MSE':[mse], 'Correlation Врем. сопротивление':[corr1],\n",
    "                                                     'Correlation Предел текучести':[corr2]}),\n",
    "                      pd.DataFrame(rfc.predict(X_valid), columns=['прогноз Врем. сопротивление', 'прогноз Предел текучести']),\n",
    "                      y_valid],\n",
    "                    axis=1)"
   ]
  },
  {
   "cell_type": "code",
   "execution_count": 183,
   "metadata": {},
   "outputs": [
    {
     "name": "stdout",
     "output_type": "stream",
     "text": [
      "Модель сохранена\n"
     ]
    }
   ],
   "source": [
    "save_RF_model(rfc, ls_train_col, 'H+YS', score_df)"
   ]
  },
  {
   "cell_type": "markdown",
   "metadata": {},
   "source": [
    "## GridSearchCV"
   ]
  },
  {
   "cell_type": "code",
   "execution_count": 184,
   "metadata": {},
   "outputs": [],
   "source": [
    "param_grid = {\n",
    "    'max_depth': range(6, 18, 2),\n",
    "    'max_features': range(6, 18, 2),\n",
    "    'min_samples_leaf': range(1, 5),\n",
    "    'n_estimators': range(50, 300, 50)\n",
    "}\n",
    "\n",
    "rf = RandomForestRegressor()\n",
    "\n",
    "grid_search = GridSearchCV(estimator = rf, param_grid = param_grid, \n",
    "                          cv = 3, n_jobs = -1, verbose = 2, scoring='neg_mean_absolute_error')"
   ]
  },
  {
   "cell_type": "code",
   "execution_count": 185,
   "metadata": {},
   "outputs": [],
   "source": [
    "X_train, X_test, y_train, y_test = train_test_split(X, y, test_size=0.3)"
   ]
  },
  {
   "cell_type": "code",
   "execution_count": null,
   "metadata": {
    "scrolled": true
   },
   "outputs": [
    {
     "name": "stdout",
     "output_type": "stream",
     "text": [
      "Fitting 3 folds for each of 720 candidates, totalling 2160 fits\n"
     ]
    },
    {
     "name": "stderr",
     "output_type": "stream",
     "text": [
      "[Parallel(n_jobs=-1)]: Done  25 tasks      | elapsed:   49.9s\n"
     ]
    }
   ],
   "source": [
    "grid_search.fit(X_train, y_train)"
   ]
  },
  {
   "cell_type": "code",
   "execution_count": 110,
   "metadata": {},
   "outputs": [
    {
     "data": {
      "text/plain": [
       "{'max_depth': 16,\n",
       " 'max_features': 16,\n",
       " 'min_samples_leaf': 3,\n",
       " 'n_estimators': 150}"
      ]
     },
     "execution_count": 110,
     "metadata": {},
     "output_type": "execute_result"
    }
   ],
   "source": [
    "grid_search.best_params_"
   ]
  },
  {
   "cell_type": "code",
   "execution_count": 111,
   "metadata": {
    "scrolled": true
   },
   "outputs": [
    {
     "name": "stdout",
     "output_type": "stream",
     "text": [
      "Score:  -1.96\n",
      "R^2:  0.9\n",
      "MAE:  1.96\n",
      "MSE:  7.81\n",
      "Correlation Врем. сопротивление:  0.96\n",
      "Correlation Предел текучести:  0.94\n"
     ]
    }
   ],
   "source": [
    "scr, mae, mse, corr, y_pred = print_and_return_score(X_test, y_test, grid_search)"
   ]
  },
  {
   "cell_type": "code",
   "execution_count": 140,
   "metadata": {},
   "outputs": [],
   "source": [
    "y_predict = grid_search.predict(X_test)"
   ]
  },
  {
   "cell_type": "code",
   "execution_count": 141,
   "metadata": {
    "scrolled": true
   },
   "outputs": [
    {
     "data": {
      "image/png": "[encoded data removed]",
      "text/plain": [
       "<Figure size 720x720 with 1 Axes>"
      ]
     },
     "metadata": {},
     "output_type": "display_data"
    }
   ],
   "source": [
    "plt.subplots(figsize=(10,10))\n",
    "plt.scatter(y_test, y_predict, marker='o', c=y_test, edgecolors='black', cmap='viridis')\n",
    "# plt.colorbar()\n",
    "plt.show()"
   ]
  },
  {
   "cell_type": "markdown",
   "metadata": {},
   "source": [
    "## Cross-validation with KFold"
   ]
  },
  {
   "cell_type": "code",
   "execution_count": 141,
   "metadata": {},
   "outputs": [
    {
     "name": "stdout",
     "output_type": "stream",
     "text": [
      "Score:  0.89\n",
      "R^2:  0.89\n",
      "MAE:  2.91\n",
      "MSE:  15.7\n",
      "Correlation Врем. сопротивление:  0.96\n",
      "Correlation Предел текучести:  0.94\n",
      "Score:  0.9\n",
      "R^2:  0.9\n",
      "MAE:  2.84\n",
      "MSE:  14.81\n",
      "Correlation Врем. сопротивление:  0.96\n",
      "Correlation Предел текучести:  0.95\n",
      "Score:  0.89\n",
      "R^2:  0.89\n",
      "MAE:  2.89\n",
      "MSE:  15.73\n",
      "Correlation Врем. сопротивление:  0.96\n",
      "Correlation Предел текучести:  0.94\n",
      "Score:  0.9\n",
      "R^2:  0.9\n",
      "MAE:  2.84\n",
      "MSE:  14.82\n",
      "Correlation Врем. сопротивление:  0.96\n",
      "Correlation Предел текучести:  0.94\n",
      "Score:  0.9\n",
      "R^2:  0.9\n",
      "MAE:  2.83\n",
      "MSE:  14.58\n",
      "Correlation Врем. сопротивление:  0.96\n",
      "Correlation Предел текучести:  0.94\n"
     ]
    }
   ],
   "source": [
    "kfold = model_selection.KFold(n_splits=5, shuffle=True)\n",
    "scores = []\n",
    "for train, test in kfold.split(X, y):\n",
    "    x_train, y_train = X.iloc[train], y.iloc[train]\n",
    "    x_test, y_test = X.iloc[test], y.iloc[test]\n",
    "#     grf = grid_search.best_estimator_\n",
    "    rfc.fit(x_train, y_train)\n",
    "\n",
    "    scores.append(print_and_return_score(X_valid, y_valid, rfc))"
   ]
  },
  {
   "cell_type": "code",
   "execution_count": 142,
   "metadata": {},
   "outputs": [
    {
     "name": "stdout",
     "output_type": "stream",
     "text": [
      "0.89\n",
      "2.86\n",
      "15.13\n",
      "0.96\n",
      "0.94\n"
     ]
    }
   ],
   "source": [
    "for i in range(5):\n",
    "    tmp = []\n",
    "    for j in range(5):\n",
    "        tmp.append(scores[j][i])\n",
    "    print(round(np.mean(tmp), 2))"
   ]
  }
 ],
 "metadata": {
  "kernelspec": {
   "display_name": "Python 3",
   "language": "python",
   "name": "python3"
  },
  "language_info": {
   "codemirror_mode": {
    "name": "ipython",
    "version": 3
   },
   "file_extension": ".py",
   "mimetype": "text/x-python",
   "name": "python",
   "nbconvert_exporter": "python",
   "pygments_lexer": "ipython3",
   "version": "3.6.5"
  }
 },
 "nbformat": 4,
 "nbformat_minor": 2
}
