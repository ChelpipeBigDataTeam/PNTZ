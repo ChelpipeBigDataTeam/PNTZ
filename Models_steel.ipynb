{
 "cells": [
  {
   "cell_type": "code",
   "execution_count": 1,
   "metadata": {
    "collapsed": true
   },
   "outputs": [],
   "source": [
    "from __future__ import division, print_function\n",
    "# отключим всякие предупреждения Anaconda\n",
    "import warnings\n",
    "warnings.filterwarnings(\"ignore\")\n",
    "import sklearn\n",
    "import pandas as pd\n",
    "import numpy as np\n",
    "from sklearn.model_selection import train_test_split\n",
    "from sklearn.preprocessing import StandardScaler\n",
    "from sklearn.metrics import mean_absolute_error, mean_squared_error, r2_score, matthews_corrcoef, median_absolute_error\n",
    "from sklearn.linear_model import LogisticRegression\n",
    "from sklearn.svm import LinearSVR\n",
    "from sklearn.tree import DecisionTreeRegressor\n",
    "from sklearn.ensemble import RandomForestRegressor, BaggingRegressor, ExtraTreesRegressor\n",
    "from sklearn.model_selection import cross_val_score, StratifiedKFold, cross_val_predict\n",
    "import matplotlib.pyplot as plt\n",
    "from sklearn import model_selection\n",
    "import time\n",
    "from sklearn.neural_network import MLPRegressor\n",
    "import os\n",
    "from sklearn.preprocessing import LabelEncoder\n",
    "\n",
    "\n",
    "pd.options.display.max_columns = 100\n",
    "pd.options.display.max_rows = 1000"
   ]
  },
  {
   "cell_type": "code",
   "execution_count": 2,
   "metadata": {
    "collapsed": true
   },
   "outputs": [],
   "source": [
    "df_merge = pd.read_excel('prepared_hard.xlsx')"
   ]
  },
  {
   "cell_type": "code",
   "execution_count": 3,
   "metadata": {
    "collapsed": true
   },
   "outputs": [],
   "source": [
    "ls_steel = pd.get_dummies(df_merge['марка стали']).columns\n",
    "ls_steel = list(ls_steel)"
   ]
  },
  {
   "cell_type": "code",
   "execution_count": 9,
   "metadata": {},
   "outputs": [],
   "source": [
    "ls_need_col = [\n",
    "#     'Поставщик',\n",
    "#     'НД (гост, ту)',\n",
    "#     'ГОСТ, ТУ',\n",
    "#     'Дата форм. цехом',\n",
    "#      'марка стали',\n",
    "#     '№ плавки',\n",
    "#     'кол-во, шт.',\n",
    "#     '№ партии',\n",
    "#     '1 зона по ВТР закалка', \n",
    "#     '1 зона уставка закалка',\n",
    "    '1 зона фактическая температура закалка', \n",
    "    '2 зона по ВТР закалка',\n",
    "#     '3 зона по ВТР закалка', \n",
    "    '3 зона уставка закалка',\n",
    "#     '3 зона фактическая температура закалка',\n",
    "    'Температура трубы на выгрузке из печи закалки',\n",
    "    'Скорость прохождения трубы через спрейер, м/с',\n",
    "    't˚ C трубы после спреера', \n",
    "#     'Расход воды на закалочный спрейер, м3',\n",
    "#     'время выдержки в закалочной ванне, сек.',\n",
    "#     't˚ C воды в закалочной ванне', \n",
    "#     't˚ C трубы после ванны',\n",
    "#     '1 зона ВТР и уставка отпуск', \n",
    "    '1 зона фактическая температура отпуск',\n",
    "    '2 зона ВТР и уставка отпуск', \n",
    "#     '3 зона ВТР и уставка отпуск',\n",
    "    '3 зона фактическая температура отпуск', \n",
    "    '4 зона ВТР и уставка отпуск',\n",
    "#     '5 зона ВТР и уставка отпуск', \n",
    "    '5 зона фактическая температура отпуск',\n",
    "    'Температура трубы на выгрузке из печи отпуска',\n",
    "    'шаг балок закалочная печь, сек', \n",
    "    'шаг балок отпускная печь, сек',\n",
    "    'диаметр', \n",
    "    'толщина стенки', \n",
    "    'C', \n",
    "    'Mn', \n",
    "    'Si', \n",
    "    'P', \n",
    "    'S',\n",
    "    'Cr', \n",
    "    'Ni', \n",
    "    'Cu', \n",
    "    'Al', \n",
    "    'V', \n",
    "    'Ti', \n",
    "    'Nb', \n",
    "    'Mo', \n",
    "    'N', \n",
    "    'B',\n",
    "    'Параметр отпуск',\n",
    "    'Параметр закалка',\n",
    "    'Тип предела текучести 0.2',\n",
    "    'Тип предела текучести 0.5',\n",
    "    'Тип предела текучести 0.6',\n",
    "    'C-coef'\n",
    "]\n",
    "\n",
    "df_prepared_merge = pd.DataFrame()\n",
    "\n",
    "for col in ls_need_col+ls_steel+['Предел текучести', 'Врем. сопротивление']:\n",
    "    df_prepared_merge[col] = df_merge[col]"
   ]
  },
  {
   "cell_type": "code",
   "execution_count": 7,
   "metadata": {},
   "outputs": [
    {
     "data": {
      "text/plain": [
       "64"
      ]
     },
     "execution_count": 7,
     "metadata": {},
     "output_type": "execute_result"
    }
   ],
   "source": [
    "arr_df_steel = []\n",
    "for steel in ls_steel:\n",
    "    arr_df_steel.append(df_prepared_merge[df_prepared_merge['марка стали'] == steel])\n",
    "\n",
    "len(arr_df_steel)"
   ]
  },
  {
   "cell_type": "code",
   "execution_count": 10,
   "metadata": {},
   "outputs": [],
   "source": [
    "df_prepared_merge = df_prepared_merge.dropna()\n",
    "df_prepared_merge.shape\n",
    "df_prepared_merge = df_prepared_merge.reset_index(drop=True)\n",
    "\n",
    "y = pd.DataFrame()\n",
    "X = pd.DataFrame()\n",
    "\n",
    "# y['Врем. сопротивление'] = df_merge['Врем. сопротивление']\n",
    "y['Предел текучести'] = df_prepared_merge['Предел текучести']\n",
    "\n",
    "\n",
    "for i in ls_need_col+ls_steel:\n",
    "    X[i] = df_prepared_merge[i]\n",
    "    \n",
    "scalerx = StandardScaler()  \n",
    "X = scalerx.fit_transform(X, y)\n",
    "\n",
    "X_train, X_test, y_train, y_test = train_test_split(X, y, test_size=0.15, random_state=42)"
   ]
  }
 ],
 "metadata": {
  "kernelspec": {
   "display_name": "Python 3",
   "language": "python",
   "name": "python3"
  },
  "language_info": {
   "codemirror_mode": {
    "name": "ipython",
    "version": 3
   },
   "file_extension": ".py",
   "mimetype": "text/x-python",
   "name": "python",
   "nbconvert_exporter": "python",
   "pygments_lexer": "ipython3",
   "version": "3.6.3"
  }
 },
 "nbformat": 4,
 "nbformat_minor": 2
}
