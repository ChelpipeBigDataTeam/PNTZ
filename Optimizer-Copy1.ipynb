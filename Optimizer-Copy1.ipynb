{
 "cells": [
  {
   "cell_type": "markdown",
   "metadata": {},
   "source": [
    "# Оптимизатор"
   ]
  },
  {
   "cell_type": "code",
   "execution_count": 870,
   "metadata": {},
   "outputs": [],
   "source": [
    "import pandas as pd\n",
    "import numpy as np\n",
    "import pickle\n",
    "import json\n",
    "import import_ipynb\n",
    "import scipy\n",
    "from scipy.optimize import minimize\n",
    "import warnings\n",
    "from my_libs.calc_features import *\n",
    "from sklearn.preprocessing import StandardScaler\n",
    "pd.options.display.max_columns = 1000\n",
    "pd.options.display.max_rows = 100"
   ]
  },
  {
   "cell_type": "code",
   "execution_count": 871,
   "metadata": {},
   "outputs": [],
   "source": [
    "path = \"DATA/Optimizer/input.xlsx\""
   ]
  },
  {
   "cell_type": "code",
   "execution_count": 916,
   "metadata": {},
   "outputs": [],
   "source": [
    "ls_columns_output = [\n",
    "    '№ партии',\n",
    "    '№ плавки',\n",
    "    'марка стали',\n",
    "    'диаметр',\n",
    "    'толщина стенки',\n",
    "    'Гр. прочн.',\n",
    "    '1 зона по ВТР закалка',\n",
    "    '2 зона по ВТР закалка',\n",
    "    '3 зона по ВТР закалка',\n",
    "    'шаг балок закалочная печь, сек',\n",
    "    'Скорость прохождения трубы через спрейер, м/с', \n",
    "    't˚ C трубы после спреера',\n",
    "    '1 зона ВТР и уставка отпуск', \n",
    "    '2 зона ВТР и уставка отпуск', \n",
    "    '3 зона ВТР и уставка отпуск',\n",
    "    '4 зона ВТР и уставка отпуск',\n",
    "    '5 зона ВТР и уставка отпуск',\n",
    "    'шаг балок отпускная печь, сек',\n",
    "    'C',\n",
    "    'Mn',\n",
    "    'Si',\n",
    "    'P',\n",
    "    'S',\n",
    "    'Cr',\n",
    "    'Ni',\n",
    "    'Cu',\n",
    "    'Al',\n",
    "    'V',\n",
    "    'Ti',\n",
    "    'Nb',\n",
    "    'Mo',\n",
    "    'N',\n",
    "    'B',\n",
    "    'C-coef',\n",
    "    'Параметр закалка',\n",
    "    'Параметр отпуск',\n",
    "    'Параметр отпуск новый V',\n",
    "    'Величина зерна',\n",
    "    'Тип предела текучести (1186)',\n",
    "    'Дата термообработки',\n",
    "    'ICD',\n",
    "    'Примечание'\n",
    "    ]"
   ]
  },
  {
   "cell_type": "code",
   "execution_count": 917,
   "metadata": {
    "scrolled": true
   },
   "outputs": [],
   "source": [
    "table_for_optimize = pd.read_excel(path, skiprows=1)"
   ]
  },
  {
   "attachments": {},
   "cell_type": "markdown",
   "metadata": {},
   "source": [
    "## Подготовка полученных от пользователя данных\n",
    "\n",
    "#### Что будет вводить пользователь?  \n",
    "\n",
    "Обязательно:\n",
    "* группа прочности\n",
    "* марка стали\n",
    "* диаметр\n",
    "* толщина стенки\n",
    "* нижняя и верхняя границы допуска для предела текучести\n",
    "* нижняя и верхняя границы допуска для предела прочности\n",
    "\n",
    "Возможно:   \n",
    "Режим термообработки, который нужно улучшить (он будет начальным приближением для алгоритма оптимизации):\n",
    "\n",
    "* 1 зона по ВТР закалка\n",
    "* 2 зона по ВТР закалка\n",
    "* 3 зона по ВТР закалка\n",
    "* Скорость прохождения трубы через спрейер, м/с\n",
    "* 1 зона ВТР и уставка отпуск\n",
    "* 2 зона ВТР и уставка отпуск\n",
    "* 3 зона ВТР и уставка отпуск\n",
    "* 4 зона ВТР и уставка отпуск\n",
    "* 5 зона ВТР и уставка отпуск\n",
    "* шаг балок закалочная печь, сек\n",
    "* шаг балок отпускная печь, сек\n",
    "\n",
    "\n",
    "Если режим термообработки не вводится, то будет подтягиваться исторический режим с минимальным шагом, в случае если шаг уже 24, режим оптимизироваться не будет (как в случае подтянутого исторического, так и в случае ручного ввода)\n",
    "\n",
    "Сформируем списки обязательных и необязательных входных данных"
   ]
  },
  {
   "cell_type": "code",
   "execution_count": 918,
   "metadata": {},
   "outputs": [],
   "source": [
    "ls_opt_need = [\n",
    "    'Гр. прочн.',\n",
    "    'марка стали',\n",
    "    'толщина стенки',\n",
    "    'диаметр'\n",
    "]\n",
    "\n",
    "bounds = [\n",
    "    'Предел текучести нижняя граница',\n",
    "    'Предел текучести верхняя граница',\n",
    "    'Предел прочности нижняя граница',\n",
    "    'Предел прочности верхняя граница'\n",
    "]\n",
    "\n",
    "ls_additional = [\n",
    "    '1 зона по ВТР закалка',\n",
    "    '2 зона по ВТР закалка',\n",
    "    '3 зона по ВТР закалка',\n",
    "    'Скорость прохождения трубы через спрейер, м/с',\n",
    "    '1 зона ВТР и уставка отпуск',\n",
    "    '2 зона ВТР и уставка отпуск',\n",
    "    '3 зона ВТР и уставка отпуск',\n",
    "    '4 зона ВТР и уставка отпуск',\n",
    "    '5 зона ВТР и уставка отпуск',\n",
    "    'шаг балок закалочная печь, сек',\n",
    "    'шаг балок отпускная печь, сек'\n",
    "]"
   ]
  },
  {
   "cell_type": "code",
   "execution_count": 919,
   "metadata": {},
   "outputs": [],
   "source": [
    "table_for_optimize['Прочность середина'] = (table_for_optimize[\n",
    "    'Предел прочности нижняя граница']+table_for_optimize['Предел прочности верхняя граница'])/2.0\n",
    "table_for_optimize['Текучесть середина'] = (table_for_optimize[\n",
    "    'Предел текучести нижняя граница']+table_for_optimize['Предел текучести верхняя граница'])/2.0"
   ]
  },
  {
   "cell_type": "code",
   "execution_count": 920,
   "metadata": {},
   "outputs": [
    {
     "data": {
      "text/html": [
       "<div>\n",
       "<style scoped>\n",
       "    .dataframe tbody tr th:only-of-type {\n",
       "        vertical-align: middle;\n",
       "    }\n",
       "\n",
       "    .dataframe tbody tr th {\n",
       "        vertical-align: top;\n",
       "    }\n",
       "\n",
       "    .dataframe thead th {\n",
       "        text-align: right;\n",
       "    }\n",
       "</style>\n",
       "<table border=\"1\" class=\"dataframe\">\n",
       "  <thead>\n",
       "    <tr style=\"text-align: right;\">\n",
       "      <th></th>\n",
       "      <th>Гр. прочн.</th>\n",
       "      <th>марка стали</th>\n",
       "      <th>диаметр</th>\n",
       "      <th>толщина стенки</th>\n",
       "      <th>Предел текучести нижняя граница</th>\n",
       "      <th>Предел текучести верхняя граница</th>\n",
       "      <th>Предел прочности нижняя граница</th>\n",
       "      <th>Предел прочности верхняя граница</th>\n",
       "      <th>1 зона по ВТР закалка</th>\n",
       "      <th>2 зона по ВТР закалка</th>\n",
       "      <th>3 зона по ВТР закалка</th>\n",
       "      <th>Скорость прохождения трубы через спрейер, м/с</th>\n",
       "      <th>1 зона ВТР и уставка отпуск</th>\n",
       "      <th>2 зона ВТР и уставка отпуск</th>\n",
       "      <th>3 зона ВТР и уставка отпуск</th>\n",
       "      <th>4 зона ВТР и уставка отпуск</th>\n",
       "      <th>5 зона ВТР и уставка отпуск</th>\n",
       "      <th>шаг балок закалочная печь, сек</th>\n",
       "      <th>шаг балок отпускная печь, сек</th>\n",
       "      <th>Прочность середина</th>\n",
       "      <th>Текучесть середина</th>\n",
       "    </tr>\n",
       "  </thead>\n",
       "  <tbody>\n",
       "    <tr>\n",
       "      <th>0</th>\n",
       "      <td>К</td>\n",
       "      <td>13ХФА</td>\n",
       "      <td>72</td>\n",
       "      <td>5.5</td>\n",
       "      <td>40</td>\n",
       "      <td>50</td>\n",
       "      <td>50</td>\n",
       "      <td>65</td>\n",
       "      <td>NaN</td>\n",
       "      <td>NaN</td>\n",
       "      <td>NaN</td>\n",
       "      <td>NaN</td>\n",
       "      <td>NaN</td>\n",
       "      <td>NaN</td>\n",
       "      <td>NaN</td>\n",
       "      <td>NaN</td>\n",
       "      <td>NaN</td>\n",
       "      <td>NaN</td>\n",
       "      <td>NaN</td>\n",
       "      <td>57.5</td>\n",
       "      <td>45.0</td>\n",
       "    </tr>\n",
       "    <tr>\n",
       "      <th>1</th>\n",
       "      <td>К</td>\n",
       "      <td>30Г2</td>\n",
       "      <td>118</td>\n",
       "      <td>12.0</td>\n",
       "      <td>50</td>\n",
       "      <td>60</td>\n",
       "      <td>60</td>\n",
       "      <td>80</td>\n",
       "      <td>NaN</td>\n",
       "      <td>NaN</td>\n",
       "      <td>NaN</td>\n",
       "      <td>NaN</td>\n",
       "      <td>NaN</td>\n",
       "      <td>NaN</td>\n",
       "      <td>NaN</td>\n",
       "      <td>NaN</td>\n",
       "      <td>NaN</td>\n",
       "      <td>NaN</td>\n",
       "      <td>NaN</td>\n",
       "      <td>70.0</td>\n",
       "      <td>55.0</td>\n",
       "    </tr>\n",
       "    <tr>\n",
       "      <th>2</th>\n",
       "      <td>R95</td>\n",
       "      <td>18ХМФБ</td>\n",
       "      <td>89</td>\n",
       "      <td>9.0</td>\n",
       "      <td>60</td>\n",
       "      <td>70</td>\n",
       "      <td>70</td>\n",
       "      <td>90</td>\n",
       "      <td>840.0</td>\n",
       "      <td>840.0</td>\n",
       "      <td>840.0</td>\n",
       "      <td>0.2</td>\n",
       "      <td>670.0</td>\n",
       "      <td>670.0</td>\n",
       "      <td>657.0</td>\n",
       "      <td>657.0</td>\n",
       "      <td>637.0</td>\n",
       "      <td>28.0</td>\n",
       "      <td>28.0</td>\n",
       "      <td>80.0</td>\n",
       "      <td>65.0</td>\n",
       "    </tr>\n",
       "    <tr>\n",
       "      <th>3</th>\n",
       "      <td>R95</td>\n",
       "      <td>Цу12</td>\n",
       "      <td>89</td>\n",
       "      <td>9.0</td>\n",
       "      <td>60</td>\n",
       "      <td>70</td>\n",
       "      <td>70</td>\n",
       "      <td>90</td>\n",
       "      <td>840.0</td>\n",
       "      <td>840.0</td>\n",
       "      <td>840.0</td>\n",
       "      <td>0.2</td>\n",
       "      <td>670.0</td>\n",
       "      <td>670.0</td>\n",
       "      <td>657.0</td>\n",
       "      <td>657.0</td>\n",
       "      <td>637.0</td>\n",
       "      <td>28.0</td>\n",
       "      <td>28.0</td>\n",
       "      <td>80.0</td>\n",
       "      <td>65.0</td>\n",
       "    </tr>\n",
       "  </tbody>\n",
       "</table>\n",
       "</div>"
      ],
      "text/plain": [
       "  Гр. прочн. марка стали  диаметр  толщина стенки  \\\n",
       "0          К       13ХФА       72             5.5   \n",
       "1          К        30Г2      118            12.0   \n",
       "2        R95      18ХМФБ       89             9.0   \n",
       "3        R95        Цу12       89             9.0   \n",
       "\n",
       "   Предел текучести нижняя граница  Предел текучести верхняя граница  \\\n",
       "0                               40                                50   \n",
       "1                               50                                60   \n",
       "2                               60                                70   \n",
       "3                               60                                70   \n",
       "\n",
       "   Предел прочности нижняя граница  Предел прочности верхняя граница  \\\n",
       "0                               50                                65   \n",
       "1                               60                                80   \n",
       "2                               70                                90   \n",
       "3                               70                                90   \n",
       "\n",
       "   1 зона по ВТР закалка  2 зона по ВТР закалка  3 зона по ВТР закалка  \\\n",
       "0                    NaN                    NaN                    NaN   \n",
       "1                    NaN                    NaN                    NaN   \n",
       "2                  840.0                  840.0                  840.0   \n",
       "3                  840.0                  840.0                  840.0   \n",
       "\n",
       "   Скорость прохождения трубы через спрейер, м/с  1 зона ВТР и уставка отпуск  \\\n",
       "0                                            NaN                          NaN   \n",
       "1                                            NaN                          NaN   \n",
       "2                                            0.2                        670.0   \n",
       "3                                            0.2                        670.0   \n",
       "\n",
       "   2 зона ВТР и уставка отпуск  3 зона ВТР и уставка отпуск  \\\n",
       "0                          NaN                          NaN   \n",
       "1                          NaN                          NaN   \n",
       "2                        670.0                        657.0   \n",
       "3                        670.0                        657.0   \n",
       "\n",
       "   4 зона ВТР и уставка отпуск  5 зона ВТР и уставка отпуск  \\\n",
       "0                          NaN                          NaN   \n",
       "1                          NaN                          NaN   \n",
       "2                        657.0                        637.0   \n",
       "3                        657.0                        637.0   \n",
       "\n",
       "   шаг балок закалочная печь, сек  шаг балок отпускная печь, сек  \\\n",
       "0                             NaN                            NaN   \n",
       "1                             NaN                            NaN   \n",
       "2                            28.0                           28.0   \n",
       "3                            28.0                           28.0   \n",
       "\n",
       "   Прочность середина  Текучесть середина  \n",
       "0                57.5                45.0  \n",
       "1                70.0                55.0  \n",
       "2                80.0                65.0  \n",
       "3                80.0                65.0  "
      ]
     },
     "execution_count": 920,
     "metadata": {},
     "output_type": "execute_result"
    }
   ],
   "source": [
    "table_for_optimize"
   ]
  },
  {
   "cell_type": "markdown",
   "metadata": {},
   "source": [
    "### Подтягиваем режим, если он не введен"
   ]
  },
  {
   "cell_type": "code",
   "execution_count": 921,
   "metadata": {},
   "outputs": [],
   "source": [
    "database = pd.read_csv('prepared_to_saw_gp_del_bath.csv', index_col=0)"
   ]
  },
  {
   "cell_type": "code",
   "execution_count": 922,
   "metadata": {},
   "outputs": [],
   "source": [
    "database = database[~(database['Скорость прохождения трубы через спрейер, м/с']==1)]\n",
    "database = database[~(pd.isnull(database['Скорость прохождения трубы через спрейер, м/с']))]"
   ]
  },
  {
   "cell_type": "markdown",
   "metadata": {},
   "source": [
    "#### Очищаем группу прочности, файл пересохранила, теперь это нужно для самого оптимизатора только"
   ]
  },
  {
   "cell_type": "code",
   "execution_count": 923,
   "metadata": {},
   "outputs": [],
   "source": [
    "replace_dict_gr = {\n",
    "    ' ':'',\n",
    "    '/':'-',\n",
    "    'ТИП':'тип',\n",
    "    'К':'K', #русский на английский, везде\n",
    "    'С':'C',\n",
    "    'Р':'P',\n",
    "    'Х':'X',\n",
    "    'Е':'E',\n",
    "    'Т':'T',\n",
    "    'М':'M',\n",
    "    'У':'Y',\n",
    "    'Н':'H',\n",
    "    'В':'B',\n",
    "    'А':'A',\n",
    "    'П':'n',\n",
    "    'О':'O',\n",
    "    'Т':'T'\n",
    "}\n",
    "\n",
    "def fix_h_group(st):\n",
    "    st = str(st)\n",
    "    st = st.upper()\n",
    "    for it in replace_dict_gr:\n",
    "        st = st.replace(it, replace_dict_gr[it])\n",
    "    return st"
   ]
  },
  {
   "cell_type": "code",
   "execution_count": 924,
   "metadata": {},
   "outputs": [],
   "source": [
    "# database.to_csv('prepared_to_saw_gp_del_bath.csv')"
   ]
  },
  {
   "cell_type": "code",
   "execution_count": 925,
   "metadata": {},
   "outputs": [],
   "source": [
    "# database['Гр. прочн.'] = database['Гр. прочн.'].apply(fix_h_group)\n",
    "# database['Примечание'] = database['Гр. прочн.'].apply(lambda x: None)\n",
    "# database.to_csv('prepared_to_saw_gp_del_bath.csv')"
   ]
  },
  {
   "cell_type": "code",
   "execution_count": 926,
   "metadata": {},
   "outputs": [],
   "source": [
    "# database[ls_columns_output].to_csv('prepared_to_saw_gp_del_bath.csv')"
   ]
  },
  {
   "cell_type": "markdown",
   "metadata": {},
   "source": [
    "#### Ищем ближайший режим"
   ]
  },
  {
   "cell_type": "code",
   "execution_count": 975,
   "metadata": {},
   "outputs": [],
   "source": [
    "def close_value(database, col, value):\n",
    "    database['diff'] = np.abs(database[col]-value)\n",
    "    return database.loc[(database['diff']).argmin(),:][col]"
   ]
  },
  {
   "cell_type": "code",
   "execution_count": 976,
   "metadata": {},
   "outputs": [],
   "source": [
    "def find_row_close_sort(database, row):\n",
    "    for col in ls_opt_need:\n",
    "        tmp = database[database[col]==row[col]]\n",
    "        if tmp.shape[0]>0:\n",
    "            database = tmp\n",
    "        else:\n",
    "            try:\n",
    "                value = close_value(database, col, row[col])\n",
    "                database = database[database[col]==value]\n",
    "            except TypeError:\n",
    "                database = database[database[col]==row[col].split('-')[0]]\n",
    "                if database.shape[0]==0:\n",
    "                    tmp = row\n",
    "                    tmp[[col for col in row.index if col not in ls_opt_need]] = None\n",
    "                    tmp['№ партии'] = 'Error!!! (причина:'+ col+')'\n",
    "                    return tmp               \n",
    "    return pd.Series(database[database['Дата термообработки'] == database['Дата термообработки'].max()].iloc[0, :])"
   ]
  },
  {
   "cell_type": "code",
   "execution_count": 977,
   "metadata": {},
   "outputs": [],
   "source": [
    "# database['Гр. прочн.'] = database['Гр. прочн.'].apply(fix_h_group)"
   ]
  },
  {
   "cell_type": "code",
   "execution_count": 978,
   "metadata": {},
   "outputs": [],
   "source": [
    "# database['Гр. прочн.'].value_counts().index"
   ]
  },
  {
   "cell_type": "code",
   "execution_count": 979,
   "metadata": {},
   "outputs": [],
   "source": [
    "def find_close_sort(database, df):\n",
    "    df['Гр. прочн.'] = df['Гр. прочн.'].apply(fix_h_group)\n",
    "    df = df.apply(lambda x: find_row_close_sort(database, x), axis=1)\n",
    "    return df[ls_columns_output]"
   ]
  },
  {
   "cell_type": "code",
   "execution_count": 980,
   "metadata": {},
   "outputs": [],
   "source": [
    "answ = find_close_sort(database, table_for_optimize)"
   ]
  },
  {
   "cell_type": "code",
   "execution_count": 981,
   "metadata": {},
   "outputs": [],
   "source": [
    "answ = pd.concat([answ,table_for_optimize[['Прочность середина', 'Текучесть середина']]], axis=1)"
   ]
  },
  {
   "cell_type": "markdown",
   "metadata": {},
   "source": [
    "### Загрузка моделей для предсказания свойств"
   ]
  },
  {
   "cell_type": "code",
   "execution_count": 982,
   "metadata": {},
   "outputs": [],
   "source": [
    "def load_model(dir_name, target):\n",
    "    model = pickle.load(open(dir_name+'/RF_model_'+target+'.sav', 'rb'))\n",
    "    ls_need_col = json.load(open(dir_name+'/ls_need_col', \"r\"))\n",
    "    try:\n",
    "        scaler = StandardScaler()\n",
    "        scale_data = json.load(open(dir_name+'/scaler', \"r\"))\n",
    "        scaler.mean_ = scale_data[0]\n",
    "        scaler.scale_ = scale_data[1]\n",
    "    except:\n",
    "        scaler=None\n",
    "    return model, ls_need_col, scaler"
   ]
  },
  {
   "cell_type": "code",
   "execution_count": 983,
   "metadata": {},
   "outputs": [],
   "source": [
    "targets = ['Предел текучести',\n",
    "           'Врем. сопротивление']\n",
    "\n",
    "dir_names = ['DATA/MODELS_RF/YS RF valid', \n",
    "             'DATA/MODELS_RF/H RF valid']\n",
    "\n",
    "func_dict = [model_pr_YS, \n",
    "             model_pr_H]\n",
    "\n",
    "models_bonds = [\n",
    "    'Текучесть середина',\n",
    "    'Прочность середина'\n",
    "]"
   ]
  },
  {
   "cell_type": "code",
   "execution_count": 984,
   "metadata": {},
   "outputs": [],
   "source": [
    "models, ls_need_cols, scalers = [], [], []\n",
    "for target, dir_name in zip(targets, dir_names):\n",
    "    model, ls_need_col, scaler = load_model(dir_name, target)\n",
    "    models.append(model)\n",
    "    ls_need_cols.append(ls_need_col)\n",
    "    scalers.append(scaler)"
   ]
  },
  {
   "cell_type": "markdown",
   "metadata": {},
   "source": [
    "### Подготовка шагов для оптимизатора"
   ]
  },
  {
   "cell_type": "markdown",
   "metadata": {},
   "source": [
    "Возникла проблема, оптимизатор не работает с двумя моделями, потому что они обучены на разном подмножестве признаков, сейчас пробую обойти это, если не получится, то нужно будет переобучить модельки.\n",
    "\n",
    "Придумала костыль, живем дальше"
   ]
  },
  {
   "cell_type": "code",
   "execution_count": 1018,
   "metadata": {},
   "outputs": [],
   "source": [
    "ls_temp_z = [\n",
    "    '1 зона по ВТР закалка', '2 зона по ВТР закалка',\n",
    "    '3 зона по ВТР закалка'\n",
    "]\n",
    "\n",
    "# ls_temp_o = [\n",
    "#     '1 зона ВТР и уставка отпуск',\n",
    "#     '2 зона ВТР и уставка отпуск', '3 зона ВТР и уставка отпуск',\n",
    "#     '4 зона ВТР и уставка отпуск', '5 зона ВТР и уставка отпуск'\n",
    "# ]\n",
    "\n",
    "ls_s_spr = ['Скорость прохождения трубы через спрейер, м/с']\n",
    "\n",
    "ls_shag = [\n",
    "    'шаг балок закалочная печь, сек', 'шаг балок отпускная печь, сек'\n",
    "]"
   ]
  },
  {
   "cell_type": "code",
   "execution_count": 1019,
   "metadata": {},
   "outputs": [],
   "source": [
    "X_c = answ.copy()\n",
    "X_c[ls_temp_z] = X_c[ls_temp_z] + 20\n",
    "X_c[ls_s_spr] = X_c[ls_s_spr] + 0.5\n",
    "X_c_new = answ.copy()\n",
    "# X_c[ls_temp_o] = X[ls_temp_o] - 20\n",
    "X_c_new[ls_shag] = 24"
   ]
  },
  {
   "cell_type": "code",
   "execution_count": 1020,
   "metadata": {},
   "outputs": [],
   "source": [
    "def uniq(alist):    # Fastest order preserving\n",
    "    set = {}\n",
    "    return [set.setdefault(e,e) for e in alist if e not in set]"
   ]
  },
  {
   "cell_type": "code",
   "execution_count": 1038,
   "metadata": {},
   "outputs": [],
   "source": [
    "ls_need_union = uniq(list(sum(ls_need_cols, [])))"
   ]
  },
  {
   "cell_type": "code",
   "execution_count": 1034,
   "metadata": {},
   "outputs": [
    {
     "data": {
      "text/plain": [
       "{'3 зона по ВТР закалка', 'Величина зерна', 'Параметр отпуск'}"
      ]
     },
     "execution_count": 1034,
     "metadata": {},
     "output_type": "execute_result"
    }
   ],
   "source": [
    "set(ls_need_cols[0]).symmetric_difference(set(ls_need_cols[1]))"
   ]
  },
  {
   "cell_type": "code",
   "execution_count": 1022,
   "metadata": {},
   "outputs": [],
   "source": [
    "X_c_new = X_c_new[ls_need_union+models_bonds].dropna()"
   ]
  },
  {
   "cell_type": "code",
   "execution_count": 1040,
   "metadata": {},
   "outputs": [
    {
     "data": {
      "text/html": [
       "<div>\n",
       "<style scoped>\n",
       "    .dataframe tbody tr th:only-of-type {\n",
       "        vertical-align: middle;\n",
       "    }\n",
       "\n",
       "    .dataframe tbody tr th {\n",
       "        vertical-align: top;\n",
       "    }\n",
       "\n",
       "    .dataframe thead th {\n",
       "        text-align: right;\n",
       "    }\n",
       "</style>\n",
       "<table border=\"1\" class=\"dataframe\">\n",
       "  <thead>\n",
       "    <tr style=\"text-align: right;\">\n",
       "      <th></th>\n",
       "      <th>1 зона по ВТР закалка</th>\n",
       "      <th>2 зона по ВТР закалка</th>\n",
       "      <th>3 зона по ВТР закалка</th>\n",
       "      <th>Скорость прохождения трубы через спрейер, м/с</th>\n",
       "      <th>t˚ C трубы после спреера</th>\n",
       "      <th>1 зона ВТР и уставка отпуск</th>\n",
       "      <th>2 зона ВТР и уставка отпуск</th>\n",
       "      <th>3 зона ВТР и уставка отпуск</th>\n",
       "      <th>4 зона ВТР и уставка отпуск</th>\n",
       "      <th>5 зона ВТР и уставка отпуск</th>\n",
       "      <th>шаг балок закалочная печь, сек</th>\n",
       "      <th>шаг балок отпускная печь, сек</th>\n",
       "      <th>диаметр</th>\n",
       "      <th>толщина стенки</th>\n",
       "      <th>C</th>\n",
       "      <th>Mn</th>\n",
       "      <th>Si</th>\n",
       "      <th>P</th>\n",
       "      <th>S</th>\n",
       "      <th>Cr</th>\n",
       "      <th>Ni</th>\n",
       "      <th>Cu</th>\n",
       "      <th>Al</th>\n",
       "      <th>V</th>\n",
       "      <th>Ti</th>\n",
       "      <th>Nb</th>\n",
       "      <th>Mo</th>\n",
       "      <th>N</th>\n",
       "      <th>Параметр закалка</th>\n",
       "      <th>Параметр отпуск новый V</th>\n",
       "      <th>C-coef</th>\n",
       "      <th>Величина зерна</th>\n",
       "      <th>Параметр отпуск</th>\n",
       "      <th>Текучесть середина</th>\n",
       "      <th>Прочность середина</th>\n",
       "    </tr>\n",
       "  </thead>\n",
       "  <tbody>\n",
       "    <tr>\n",
       "      <th>0</th>\n",
       "      <td>860.0</td>\n",
       "      <td>860.0</td>\n",
       "      <td>870.0</td>\n",
       "      <td>0.68</td>\n",
       "      <td>37.5</td>\n",
       "      <td>525.0</td>\n",
       "      <td>525.0</td>\n",
       "      <td>522.0</td>\n",
       "      <td>522.0</td>\n",
       "      <td>521.0</td>\n",
       "      <td>36.0</td>\n",
       "      <td>36.0</td>\n",
       "      <td>88.90</td>\n",
       "      <td>12.20</td>\n",
       "      <td>0.14</td>\n",
       "      <td>0.48</td>\n",
       "      <td>0.24</td>\n",
       "      <td>0.007</td>\n",
       "      <td>0.003</td>\n",
       "      <td>0.53</td>\n",
       "      <td>0.05</td>\n",
       "      <td>0.10</td>\n",
       "      <td>0.033</td>\n",
       "      <td>0.053</td>\n",
       "      <td>0.0017</td>\n",
       "      <td>0.00355</td>\n",
       "      <td>0.007</td>\n",
       "      <td>0.00800</td>\n",
       "      <td>838.854999</td>\n",
       "      <td>11.137841</td>\n",
       "      <td>0.348000</td>\n",
       "      <td>12.986261</td>\n",
       "      <td>15.844163</td>\n",
       "      <td>45.0</td>\n",
       "      <td>57.5</td>\n",
       "    </tr>\n",
       "    <tr>\n",
       "      <th>1</th>\n",
       "      <td>870.0</td>\n",
       "      <td>870.0</td>\n",
       "      <td>880.0</td>\n",
       "      <td>0.73</td>\n",
       "      <td>42.5</td>\n",
       "      <td>525.0</td>\n",
       "      <td>580.0</td>\n",
       "      <td>522.0</td>\n",
       "      <td>574.0</td>\n",
       "      <td>521.0</td>\n",
       "      <td>34.0</td>\n",
       "      <td>34.0</td>\n",
       "      <td>73.02</td>\n",
       "      <td>10.50</td>\n",
       "      <td>0.29</td>\n",
       "      <td>1.29</td>\n",
       "      <td>0.23</td>\n",
       "      <td>0.012</td>\n",
       "      <td>0.008</td>\n",
       "      <td>0.06</td>\n",
       "      <td>0.05</td>\n",
       "      <td>0.08</td>\n",
       "      <td>0.030</td>\n",
       "      <td>0.003</td>\n",
       "      <td>0.0040</td>\n",
       "      <td>0.00553</td>\n",
       "      <td>0.005</td>\n",
       "      <td>0.00892</td>\n",
       "      <td>847.359565</td>\n",
       "      <td>10.032797</td>\n",
       "      <td>0.527267</td>\n",
       "      <td>17.473343</td>\n",
       "      <td>16.143345</td>\n",
       "      <td>55.0</td>\n",
       "      <td>70.0</td>\n",
       "    </tr>\n",
       "    <tr>\n",
       "      <th>2</th>\n",
       "      <td>890.0</td>\n",
       "      <td>890.0</td>\n",
       "      <td>900.0</td>\n",
       "      <td>1.20</td>\n",
       "      <td>70.0</td>\n",
       "      <td>670.0</td>\n",
       "      <td>670.0</td>\n",
       "      <td>659.0</td>\n",
       "      <td>659.0</td>\n",
       "      <td>642.0</td>\n",
       "      <td>27.0</td>\n",
       "      <td>27.0</td>\n",
       "      <td>73.02</td>\n",
       "      <td>5.51</td>\n",
       "      <td>0.16</td>\n",
       "      <td>0.56</td>\n",
       "      <td>0.23</td>\n",
       "      <td>0.010</td>\n",
       "      <td>0.007</td>\n",
       "      <td>1.02</td>\n",
       "      <td>0.14</td>\n",
       "      <td>0.19</td>\n",
       "      <td>0.031</td>\n",
       "      <td>0.070</td>\n",
       "      <td>0.0070</td>\n",
       "      <td>0.04000</td>\n",
       "      <td>0.150</td>\n",
       "      <td>0.01000</td>\n",
       "      <td>861.528411</td>\n",
       "      <td>11.362842</td>\n",
       "      <td>0.523333</td>\n",
       "      <td>3.706300</td>\n",
       "      <td>18.202860</td>\n",
       "      <td>65.0</td>\n",
       "      <td>80.0</td>\n",
       "    </tr>\n",
       "  </tbody>\n",
       "</table>\n",
       "</div>"
      ],
      "text/plain": [
       "   1 зона по ВТР закалка  2 зона по ВТР закалка  3 зона по ВТР закалка  \\\n",
       "0                  860.0                  860.0                  870.0   \n",
       "1                  870.0                  870.0                  880.0   \n",
       "2                  890.0                  890.0                  900.0   \n",
       "\n",
       "   Скорость прохождения трубы через спрейер, м/с  t˚ C трубы после спреера  \\\n",
       "0                                           0.68                      37.5   \n",
       "1                                           0.73                      42.5   \n",
       "2                                           1.20                      70.0   \n",
       "\n",
       "   1 зона ВТР и уставка отпуск  2 зона ВТР и уставка отпуск  \\\n",
       "0                        525.0                        525.0   \n",
       "1                        525.0                        580.0   \n",
       "2                        670.0                        670.0   \n",
       "\n",
       "   3 зона ВТР и уставка отпуск  4 зона ВТР и уставка отпуск  \\\n",
       "0                        522.0                        522.0   \n",
       "1                        522.0                        574.0   \n",
       "2                        659.0                        659.0   \n",
       "\n",
       "   5 зона ВТР и уставка отпуск  шаг балок закалочная печь, сек  \\\n",
       "0                        521.0                            36.0   \n",
       "1                        521.0                            34.0   \n",
       "2                        642.0                            27.0   \n",
       "\n",
       "   шаг балок отпускная печь, сек  диаметр  толщина стенки     C    Mn    Si  \\\n",
       "0                           36.0    88.90           12.20  0.14  0.48  0.24   \n",
       "1                           34.0    73.02           10.50  0.29  1.29  0.23   \n",
       "2                           27.0    73.02            5.51  0.16  0.56  0.23   \n",
       "\n",
       "       P      S    Cr    Ni    Cu     Al      V      Ti       Nb     Mo  \\\n",
       "0  0.007  0.003  0.53  0.05  0.10  0.033  0.053  0.0017  0.00355  0.007   \n",
       "1  0.012  0.008  0.06  0.05  0.08  0.030  0.003  0.0040  0.00553  0.005   \n",
       "2  0.010  0.007  1.02  0.14  0.19  0.031  0.070  0.0070  0.04000  0.150   \n",
       "\n",
       "         N  Параметр закалка  Параметр отпуск новый V    C-coef  \\\n",
       "0  0.00800        838.854999                11.137841  0.348000   \n",
       "1  0.00892        847.359565                10.032797  0.527267   \n",
       "2  0.01000        861.528411                11.362842  0.523333   \n",
       "\n",
       "   Величина зерна  Параметр отпуск  Текучесть середина  Прочность середина  \n",
       "0       12.986261        15.844163                45.0                57.5  \n",
       "1       17.473343        16.143345                55.0                70.0  \n",
       "2        3.706300        18.202860                65.0                80.0  "
      ]
     },
     "execution_count": 1040,
     "metadata": {},
     "output_type": "execute_result"
    }
   ],
   "source": [
    "X_c = X_c[ls_need_union+models_bonds].dropna()\n",
    "X_c"
   ]
  },
  {
   "cell_type": "code",
   "execution_count": 1068,
   "metadata": {},
   "outputs": [
    {
     "data": {
      "text/plain": [
       "array([2, 3, 2, 3])"
      ]
     },
     "execution_count": 1068,
     "metadata": {},
     "output_type": "execute_result"
    }
   ],
   "source": [
    "a = np.array([2,3,4,6,9])\n",
    "\n",
    "np.concatenate((a[:2],a[:-3]))"
   ]
  },
  {
   "cell_type": "code",
   "execution_count": 1073,
   "metadata": {},
   "outputs": [],
   "source": [
    "def model_pr(df):\n",
    "    score = 0\n",
    "    df_ys = np.concatenate((df[:-3],df[-2:]))\n",
    "    df_h = np.concatenate((df[:2],df[3:-4],df[-3:]))\n",
    "    for model, ls_need_col, scaler in zip(models, ls_need_cols, scalers):\n",
    "        if len(ls_need_col)==31:\n",
    "            centr = df[-1]\n",
    "            df = df_h\n",
    "        else:\n",
    "            centr = df[-2]\n",
    "            df= df_ys\n",
    "        tmp_score = np.abs(model.predict(df.reshape(1, -1)) - centr)\n",
    "        if tmp_score<2:\n",
    "            tmp_score=0\n",
    "        score += tmp_score\n",
    "    return score"
   ]
  },
  {
   "cell_type": "code",
   "execution_count": 1079,
   "metadata": {},
   "outputs": [
    {
     "data": {
      "text/plain": [
       "(32, 31)"
      ]
     },
     "execution_count": 1079,
     "metadata": {},
     "output_type": "execute_result"
    }
   ],
   "source": [
    "len(ls_need_cols[0]), len(ls_need_cols[1])"
   ]
  },
  {
   "cell_type": "code",
   "execution_count": 1081,
   "metadata": {
    "scrolled": true
   },
   "outputs": [
    {
     "name": "stdout",
     "output_type": "stream",
     "text": [
      "ВАПРОС a 0 [66.77379796]\n",
      "ВАПРОС b 0 [66.27776105]\n",
      "     fun: 123.76043085060267\n",
      " message: 'Optimization terminated successfully.'\n",
      "    nfev: 1024\n",
      "     nit: 1\n",
      " success: True\n",
      "       x: array([8.46098313e+02, 8.49097672e+02, 8.58590404e+02, 5.39926476e-01,\n",
      "       3.75000000e+01, 5.25000000e+02, 5.25000000e+02, 5.22000000e+02,\n",
      "       5.22000000e+02, 5.21000000e+02, 3.16317841e+01, 2.42610041e+01,\n",
      "       8.89000000e+01, 1.22000000e+01, 1.40000000e-01, 4.80000000e-01,\n",
      "       2.40000000e-01, 7.00000000e-03, 3.00000000e-03, 5.30000000e-01,\n",
      "       5.00000000e-02, 1.00000000e-01, 3.30000000e-02, 5.30000000e-02,\n",
      "       1.70000000e-03, 3.55000000e-03, 7.00000000e-03, 8.00000000e-03,\n",
      "       8.38854999e+02, 1.11378411e+01, 3.48000000e-01, 1.29862614e+01,\n",
      "       1.58441630e+01])\n",
      "АТВЕТ  0 [75.0197466]\n",
      "ВАПРОС a 1 [84.73481068]\n",
      "ВАПРОС b 1 [86.14216493]\n",
      "     fun: 130.6362368238379\n",
      " message: 'Optimization terminated successfully.'\n",
      "    nfev: 1519\n",
      "     nit: 2\n",
      " success: True\n",
      "       x: array([8.52371424e+02, 8.54231123e+02, 8.76604441e+02, 3.44463389e-01,\n",
      "       4.25000000e+01, 5.25000000e+02, 5.80000000e+02, 5.22000000e+02,\n",
      "       5.74000000e+02, 5.21000000e+02, 2.71188701e+01, 3.37873782e+01,\n",
      "       7.30200000e+01, 1.05000000e+01, 2.90000000e-01, 1.29000000e+00,\n",
      "       2.30000000e-01, 1.20000000e-02, 8.00000000e-03, 6.00000000e-02,\n",
      "       5.00000000e-02, 8.00000000e-02, 3.00000000e-02, 3.00000000e-03,\n",
      "       4.00000000e-03, 5.53000000e-03, 5.00000000e-03, 8.92000000e-03,\n",
      "       8.47359565e+02, 1.00327969e+01, 5.27266667e-01, 1.74733429e+01,\n",
      "       1.61433445e+01])\n",
      "АТВЕТ  1 [83.51267655]\n",
      "ВАПРОС a 2 [83.02185891]\n",
      "ВАПРОС b 2 [82.54935423]\n",
      "     fun: 133.24472555678437\n",
      " message: 'Optimization terminated successfully.'\n",
      "    nfev: 1024\n",
      "     nit: 1\n",
      " success: True\n",
      "       x: array([8.71631836e+02, 8.81842594e+02, 8.90986075e+02, 9.65514813e-01,\n",
      "       7.00000000e+01, 6.70000000e+02, 6.70000000e+02, 6.59000000e+02,\n",
      "       6.59000000e+02, 6.42000000e+02, 2.66730778e+01, 2.45256752e+01,\n",
      "       7.30200000e+01, 5.51000000e+00, 1.60000000e-01, 5.60000000e-01,\n",
      "       2.30000000e-01, 1.00000000e-02, 7.00000000e-03, 1.02000000e+00,\n",
      "       1.40000000e-01, 1.90000000e-01, 3.10000000e-02, 7.00000000e-02,\n",
      "       7.00000000e-03, 4.00000000e-02, 1.50000000e-01, 1.00000000e-02,\n",
      "       8.61528411e+02, 1.13628424e+01, 5.23333333e-01, 3.70629957e+00,\n",
      "       1.82028599e+01])\n",
      "АТВЕТ  2 [80.89453739]\n"
     ]
    }
   ],
   "source": [
    "# X_a = X_c[ls_need_union].copy()\n",
    "# X_b = X_c_new[ls_need_union].copy()\n",
    "for it in range(X_a.shape[0]):\n",
    "    bounds = [(i, j) for i, j in zip(X_a.iloc[it,:], X_b.iloc[it,:])]\n",
    "    a = scipy.optimize.differential_evolution(model_pr, bounds)\n",
    "    print('ВАПРОС a', it, models[1].predict(X_a.loc[it,ls_need_cols[1]].values.reshape(1, -1)))\n",
    "    print('ВАПРОС b', it, models[1].predict(X_b.loc[it,ls_need_cols[1]].values.reshape(1, -1)))\n",
    "    print(a)\n",
    "    tmp_a_x = a['x']\n",
    "    df_h = np.concatenate((tmp_a_x[:2],tmp_a_x[3:-4],tmp_a_x[-3:]))\n",
    "    print('АТВЕТ ', it, models[1].predict(df_h.reshape(1, -1)))"
   ]
  },
  {
   "cell_type": "code",
   "execution_count": null,
   "metadata": {},
   "outputs": [],
   "source": []
  }
 ],
 "metadata": {
  "kernelspec": {
   "display_name": "Python 3",
   "language": "python",
   "name": "python3"
  },
  "language_info": {
   "codemirror_mode": {
    "name": "ipython",
    "version": 3
   },
   "file_extension": ".py",
   "mimetype": "text/x-python",
   "name": "python",
   "nbconvert_exporter": "python",
   "pygments_lexer": "ipython3",
   "version": "3.6.5"
  }
 },
 "nbformat": 4,
 "nbformat_minor": 2
}
