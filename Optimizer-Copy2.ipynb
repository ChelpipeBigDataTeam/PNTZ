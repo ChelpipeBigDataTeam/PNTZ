{
 "cells": [
  {
   "cell_type": "code",
   "execution_count": 1,
   "metadata": {},
   "outputs": [
    {
     "name": "stdout",
     "output_type": "stream",
     "text": [
      "importing Jupyter notebook from D:\\Repo\\PycharmProjects\\gitPNTZ\\PNTZ\\my_libs\\calc_features.ipynb\n"
     ]
    }
   ],
   "source": [
    "import pandas as pd\n",
    "import numpy as np\n",
    "import pickle\n",
    "import json\n",
    "import import_ipynb\n",
    "import scipy\n",
    "from scipy.optimize import minimize\n",
    "\n",
    "from my_libs.calc_features import *\n",
    "from sklearn.preprocessing import StandardScaler"
   ]
  },
  {
   "cell_type": "code",
   "execution_count": 2,
   "metadata": {
    "collapsed": true
   },
   "outputs": [],
   "source": [
    "pd.options.display.max_columns = 1000"
   ]
  },
  {
   "cell_type": "code",
   "execution_count": 3,
   "metadata": {
    "collapsed": true
   },
   "outputs": [],
   "source": [
    "targets = ['Предел текучести','Врем. сопротивление']\n",
    "dir_names = ['DATA/MODELS_RF/YS RF valid', 'DATA/MODELS_RF/H RF valid']"
   ]
  },
  {
   "cell_type": "code",
   "execution_count": 4,
   "metadata": {
    "collapsed": true
   },
   "outputs": [],
   "source": [
    "def load_model(dir_name, target):\n",
    "    model = pickle.load(open(dir_name+'/RF_model_'+target+'.sav', 'rb'))\n",
    "    ls_need_col = json.load(open(dir_name+'/ls_need_col', \"r\"))\n",
    "#     try:\n",
    "    scaler = StandardScaler()\n",
    "    scale_data = json.load(open(dir_name+'/scaler', \"r\"))\n",
    "    scaler.mean_ = scale_data[0]\n",
    "    scaler.scale_ = scale_data[1]\n",
    "#     except:\n",
    "#         scaler=None\n",
    "    return model, ls_need_col, scaler"
   ]
  },
  {
   "cell_type": "code",
   "execution_count": 5,
   "metadata": {
    "collapsed": true
   },
   "outputs": [],
   "source": [
    "X = pd.read_excel('DATA/modes_before_model/try.xlsx')"
   ]
  },
  {
   "cell_type": "code",
   "execution_count": 6,
   "metadata": {},
   "outputs": [
    {
     "data": {
      "text/plain": [
       "array([ 1,  2,  3,  4, 12,  9,  7])"
      ]
     },
     "execution_count": 6,
     "metadata": {},
     "output_type": "execute_result"
    }
   ],
   "source": [
    "a = np.array([1,2,3,4,-12,9,-7])\n",
    "a = np.abs(a)\n",
    "a"
   ]
  },
  {
   "cell_type": "code",
   "execution_count": 7,
   "metadata": {
    "collapsed": true
   },
   "outputs": [],
   "source": [
    "def model_pr(df):\n",
    "    df = np.array(df).reshape(1, -1)\n",
    "    return np.abs(model.predict(df) - 70)"
   ]
  },
  {
   "cell_type": "code",
   "execution_count": 11,
   "metadata": {
    "collapsed": true
   },
   "outputs": [],
   "source": [
    "ls_temp_z = [\n",
    "    '1 зона по ВТР закалка', '2 зона по ВТР закалка',\n",
    "    '3 зона по ВТР закалка'\n",
    "]\n",
    "\n",
    "# ls_temp_o = [\n",
    "#     '1 зона ВТР и уставка отпуск',\n",
    "#     '2 зона ВТР и уставка отпуск', '3 зона ВТР и уставка отпуск',\n",
    "#     '4 зона ВТР и уставка отпуск', '5 зона ВТР и уставка отпуск'\n",
    "# ]\n",
    "\n",
    "ls_s_spr = ['Скорость прохождения трубы через спрейер, м/с']\n",
    "\n",
    "ls_shag = [\n",
    "    'шаг балок закалочная печь, сек', 'шаг балок отпускная печь, сек'\n",
    "]"
   ]
  },
  {
   "cell_type": "code",
   "execution_count": 12,
   "metadata": {
    "collapsed": true
   },
   "outputs": [],
   "source": [
    "X_c_new = X.copy()\n",
    "X_c_new[ls_temp_z] = X_c_new[ls_temp_z] + 20\n",
    "X_c_new[ls_s_spr] = X_c_new[ls_s_spr] + 0.5\n",
    "X_c = X.copy()\n",
    "# X_c[ls_temp_o] = X[ls_temp_o] - 20\n",
    "X_c[ls_shag] = X[ls_shag] - 6"
   ]
  },
  {
   "cell_type": "code",
   "execution_count": 13,
   "metadata": {},
   "outputs": [
    {
     "data": {
      "text/html": [
       "<div>\n",
       "<style scoped>\n",
       "    .dataframe tbody tr th:only-of-type {\n",
       "        vertical-align: middle;\n",
       "    }\n",
       "\n",
       "    .dataframe tbody tr th {\n",
       "        vertical-align: top;\n",
       "    }\n",
       "\n",
       "    .dataframe thead th {\n",
       "        text-align: right;\n",
       "    }\n",
       "</style>\n",
       "<table border=\"1\" class=\"dataframe\">\n",
       "  <thead>\n",
       "    <tr style=\"text-align: right;\">\n",
       "      <th></th>\n",
       "      <th>Врем. сопротивление</th>\n",
       "      <th>прогноз Врем. сопротивление</th>\n",
       "      <th>MAE Врем. сопротивление</th>\n",
       "      <th>MSE Врем. сопротивление</th>\n",
       "      <th>Предел текучести</th>\n",
       "      <th>прогноз Предел текучести</th>\n",
       "      <th>MAE Предел текучести</th>\n",
       "      <th>MSE Предел текучести</th>\n",
       "      <th>№ партии</th>\n",
       "      <th>марка стали</th>\n",
       "      <th>диаметр</th>\n",
       "      <th>толщина стенки</th>\n",
       "      <th>1 зона по ВТР закалка</th>\n",
       "      <th>2 зона по ВТР закалка</th>\n",
       "      <th>3 зона по ВТР закалка</th>\n",
       "      <th>шаг балок закалочная печь, сек</th>\n",
       "      <th>Скорость прохождения трубы через спрейер, м/с</th>\n",
       "      <th>t˚ C трубы после спреера</th>\n",
       "      <th>1 зона ВТР и уставка отпуск</th>\n",
       "      <th>2 зона ВТР и уставка отпуск</th>\n",
       "      <th>3 зона ВТР и уставка отпуск</th>\n",
       "      <th>4 зона ВТР и уставка отпуск</th>\n",
       "      <th>5 зона ВТР и уставка отпуск</th>\n",
       "      <th>шаг балок отпускная печь, сек</th>\n",
       "      <th>C</th>\n",
       "      <th>Mn</th>\n",
       "      <th>Si</th>\n",
       "      <th>P</th>\n",
       "      <th>S</th>\n",
       "      <th>Cr</th>\n",
       "      <th>Ni</th>\n",
       "      <th>Cu</th>\n",
       "      <th>Al</th>\n",
       "      <th>V</th>\n",
       "      <th>Ti</th>\n",
       "      <th>Nb</th>\n",
       "      <th>Mo</th>\n",
       "      <th>N</th>\n",
       "      <th>C-coef</th>\n",
       "      <th>Параметр закалка</th>\n",
       "      <th>Параметр отпуск</th>\n",
       "      <th>Параметр отпуск новый V</th>\n",
       "      <th>Величина зерна</th>\n",
       "    </tr>\n",
       "  </thead>\n",
       "  <tbody>\n",
       "    <tr>\n",
       "      <th>0</th>\n",
       "      <td>77.5</td>\n",
       "      <td>105.275544</td>\n",
       "      <td>27.775544</td>\n",
       "      <td>771.480857</td>\n",
       "      <td>66</td>\n",
       "      <td>100.784531</td>\n",
       "      <td>34.784531</td>\n",
       "      <td>1209.963562</td>\n",
       "      <td>709046</td>\n",
       "      <td>37Г2Ф</td>\n",
       "      <td>127</td>\n",
       "      <td>12.5</td>\n",
       "      <td>850</td>\n",
       "      <td>850</td>\n",
       "      <td>860</td>\n",
       "      <td>36</td>\n",
       "      <td>0.72</td>\n",
       "      <td>95</td>\n",
       "      <td>685</td>\n",
       "      <td>685</td>\n",
       "      <td>673</td>\n",
       "      <td>673</td>\n",
       "      <td>656</td>\n",
       "      <td>36</td>\n",
       "      <td>0.36549</td>\n",
       "      <td>1.51234</td>\n",
       "      <td>0.28287</td>\n",
       "      <td>0.01129</td>\n",
       "      <td>0.00785</td>\n",
       "      <td>0.0951</td>\n",
       "      <td>0.10289</td>\n",
       "      <td>0.1397</td>\n",
       "      <td>0.0288</td>\n",
       "      <td>0.08827</td>\n",
       "      <td>0.00007</td>\n",
       "      <td>0.00011</td>\n",
       "      <td>0.00006</td>\n",
       "      <td>0.0077</td>\n",
       "      <td>0.670405</td>\n",
       "      <td>829.051634</td>\n",
       "      <td>18.748483</td>\n",
       "      <td>10.457088</td>\n",
       "      <td>12.520138</td>\n",
       "    </tr>\n",
       "  </tbody>\n",
       "</table>\n",
       "</div>"
      ],
      "text/plain": [
       "   Врем. сопротивление  прогноз Врем. сопротивление  MAE Врем. сопротивление  \\\n",
       "0                 77.5                   105.275544                27.775544   \n",
       "\n",
       "   MSE Врем. сопротивление  Предел текучести  прогноз Предел текучести  \\\n",
       "0               771.480857                66                100.784531   \n",
       "\n",
       "   MAE Предел текучести  MSE Предел текучести  № партии марка стали  диаметр  \\\n",
       "0             34.784531           1209.963562    709046       37Г2Ф      127   \n",
       "\n",
       "   толщина стенки  1 зона по ВТР закалка  2 зона по ВТР закалка  \\\n",
       "0            12.5                    850                    850   \n",
       "\n",
       "   3 зона по ВТР закалка  шаг балок закалочная печь, сек  \\\n",
       "0                    860                              36   \n",
       "\n",
       "   Скорость прохождения трубы через спрейер, м/с  t˚ C трубы после спреера  \\\n",
       "0                                           0.72                        95   \n",
       "\n",
       "   1 зона ВТР и уставка отпуск  2 зона ВТР и уставка отпуск  \\\n",
       "0                          685                          685   \n",
       "\n",
       "   3 зона ВТР и уставка отпуск  4 зона ВТР и уставка отпуск  \\\n",
       "0                          673                          673   \n",
       "\n",
       "   5 зона ВТР и уставка отпуск  шаг балок отпускная печь, сек        C  \\\n",
       "0                          656                             36  0.36549   \n",
       "\n",
       "        Mn       Si        P        S      Cr       Ni      Cu      Al  \\\n",
       "0  1.51234  0.28287  0.01129  0.00785  0.0951  0.10289  0.1397  0.0288   \n",
       "\n",
       "         V       Ti       Nb       Mo       N    C-coef  Параметр закалка  \\\n",
       "0  0.08827  0.00007  0.00011  0.00006  0.0077  0.670405        829.051634   \n",
       "\n",
       "   Параметр отпуск  Параметр отпуск новый V  Величина зерна  \n",
       "0        18.748483                10.457088       12.520138  "
      ]
     },
     "execution_count": 13,
     "metadata": {},
     "output_type": "execute_result"
    }
   ],
   "source": [
    "X_c_new"
   ]
  },
  {
   "cell_type": "code",
   "execution_count": 14,
   "metadata": {},
   "outputs": [
    {
     "data": {
      "text/html": [
       "<div>\n",
       "<style scoped>\n",
       "    .dataframe tbody tr th:only-of-type {\n",
       "        vertical-align: middle;\n",
       "    }\n",
       "\n",
       "    .dataframe tbody tr th {\n",
       "        vertical-align: top;\n",
       "    }\n",
       "\n",
       "    .dataframe thead th {\n",
       "        text-align: right;\n",
       "    }\n",
       "</style>\n",
       "<table border=\"1\" class=\"dataframe\">\n",
       "  <thead>\n",
       "    <tr style=\"text-align: right;\">\n",
       "      <th></th>\n",
       "      <th>Врем. сопротивление</th>\n",
       "      <th>прогноз Врем. сопротивление</th>\n",
       "      <th>MAE Врем. сопротивление</th>\n",
       "      <th>MSE Врем. сопротивление</th>\n",
       "      <th>Предел текучести</th>\n",
       "      <th>прогноз Предел текучести</th>\n",
       "      <th>MAE Предел текучести</th>\n",
       "      <th>MSE Предел текучести</th>\n",
       "      <th>№ партии</th>\n",
       "      <th>марка стали</th>\n",
       "      <th>диаметр</th>\n",
       "      <th>толщина стенки</th>\n",
       "      <th>1 зона по ВТР закалка</th>\n",
       "      <th>2 зона по ВТР закалка</th>\n",
       "      <th>3 зона по ВТР закалка</th>\n",
       "      <th>шаг балок закалочная печь, сек</th>\n",
       "      <th>Скорость прохождения трубы через спрейер, м/с</th>\n",
       "      <th>t˚ C трубы после спреера</th>\n",
       "      <th>1 зона ВТР и уставка отпуск</th>\n",
       "      <th>2 зона ВТР и уставка отпуск</th>\n",
       "      <th>3 зона ВТР и уставка отпуск</th>\n",
       "      <th>4 зона ВТР и уставка отпуск</th>\n",
       "      <th>5 зона ВТР и уставка отпуск</th>\n",
       "      <th>шаг балок отпускная печь, сек</th>\n",
       "      <th>C</th>\n",
       "      <th>Mn</th>\n",
       "      <th>Si</th>\n",
       "      <th>P</th>\n",
       "      <th>S</th>\n",
       "      <th>Cr</th>\n",
       "      <th>Ni</th>\n",
       "      <th>Cu</th>\n",
       "      <th>Al</th>\n",
       "      <th>V</th>\n",
       "      <th>Ti</th>\n",
       "      <th>Nb</th>\n",
       "      <th>Mo</th>\n",
       "      <th>N</th>\n",
       "      <th>C-coef</th>\n",
       "      <th>Параметр закалка</th>\n",
       "      <th>Параметр отпуск</th>\n",
       "      <th>Параметр отпуск новый V</th>\n",
       "      <th>Величина зерна</th>\n",
       "    </tr>\n",
       "  </thead>\n",
       "  <tbody>\n",
       "    <tr>\n",
       "      <th>0</th>\n",
       "      <td>77.5</td>\n",
       "      <td>105.275544</td>\n",
       "      <td>27.775544</td>\n",
       "      <td>771.480857</td>\n",
       "      <td>66</td>\n",
       "      <td>100.784531</td>\n",
       "      <td>34.784531</td>\n",
       "      <td>1209.963562</td>\n",
       "      <td>709046</td>\n",
       "      <td>37Г2Ф</td>\n",
       "      <td>127</td>\n",
       "      <td>12.5</td>\n",
       "      <td>830</td>\n",
       "      <td>830</td>\n",
       "      <td>840</td>\n",
       "      <td>30</td>\n",
       "      <td>0.22</td>\n",
       "      <td>95</td>\n",
       "      <td>685</td>\n",
       "      <td>685</td>\n",
       "      <td>673</td>\n",
       "      <td>673</td>\n",
       "      <td>656</td>\n",
       "      <td>30</td>\n",
       "      <td>0.36549</td>\n",
       "      <td>1.51234</td>\n",
       "      <td>0.28287</td>\n",
       "      <td>0.01129</td>\n",
       "      <td>0.00785</td>\n",
       "      <td>0.0951</td>\n",
       "      <td>0.10289</td>\n",
       "      <td>0.1397</td>\n",
       "      <td>0.0288</td>\n",
       "      <td>0.08827</td>\n",
       "      <td>0.00007</td>\n",
       "      <td>0.00011</td>\n",
       "      <td>0.00006</td>\n",
       "      <td>0.0077</td>\n",
       "      <td>0.670405</td>\n",
       "      <td>829.051634</td>\n",
       "      <td>18.748483</td>\n",
       "      <td>10.457088</td>\n",
       "      <td>12.520138</td>\n",
       "    </tr>\n",
       "  </tbody>\n",
       "</table>\n",
       "</div>"
      ],
      "text/plain": [
       "   Врем. сопротивление  прогноз Врем. сопротивление  MAE Врем. сопротивление  \\\n",
       "0                 77.5                   105.275544                27.775544   \n",
       "\n",
       "   MSE Врем. сопротивление  Предел текучести  прогноз Предел текучести  \\\n",
       "0               771.480857                66                100.784531   \n",
       "\n",
       "   MAE Предел текучести  MSE Предел текучести  № партии марка стали  диаметр  \\\n",
       "0             34.784531           1209.963562    709046       37Г2Ф      127   \n",
       "\n",
       "   толщина стенки  1 зона по ВТР закалка  2 зона по ВТР закалка  \\\n",
       "0            12.5                    830                    830   \n",
       "\n",
       "   3 зона по ВТР закалка  шаг балок закалочная печь, сек  \\\n",
       "0                    840                              30   \n",
       "\n",
       "   Скорость прохождения трубы через спрейер, м/с  t˚ C трубы после спреера  \\\n",
       "0                                           0.22                        95   \n",
       "\n",
       "   1 зона ВТР и уставка отпуск  2 зона ВТР и уставка отпуск  \\\n",
       "0                          685                          685   \n",
       "\n",
       "   3 зона ВТР и уставка отпуск  4 зона ВТР и уставка отпуск  \\\n",
       "0                          673                          673   \n",
       "\n",
       "   5 зона ВТР и уставка отпуск  шаг балок отпускная печь, сек        C  \\\n",
       "0                          656                             30  0.36549   \n",
       "\n",
       "        Mn       Si        P        S      Cr       Ni      Cu      Al  \\\n",
       "0  1.51234  0.28287  0.01129  0.00785  0.0951  0.10289  0.1397  0.0288   \n",
       "\n",
       "         V       Ti       Nb       Mo       N    C-coef  Параметр закалка  \\\n",
       "0  0.08827  0.00007  0.00011  0.00006  0.0077  0.670405        829.051634   \n",
       "\n",
       "   Параметр отпуск  Параметр отпуск новый V  Величина зерна  \n",
       "0        18.748483                10.457088       12.520138  "
      ]
     },
     "execution_count": 14,
     "metadata": {},
     "output_type": "execute_result"
    }
   ],
   "source": [
    "X_c"
   ]
  },
  {
   "cell_type": "code",
   "execution_count": null,
   "metadata": {
    "collapsed": true
   },
   "outputs": [],
   "source": [
    "for target, dir_name in zip(targets,dir_names):\n",
    "        model, ls_need_col, scaler = load_model(dir_name, target)\n",
    "        X_a = X_c[ls_need_col].copy()\n",
    "        X_b = X_c_new[ls_need_col].copy()\n",
    "        bounds = [(i, j) for i, j in zip(X_a.iloc[0,:], X_b.iloc[0,:])]\n",
    "        a = scipy.optimize.differential_evolution(model_pr, bounds)\n",
    "        print('ВАПРОС a',model.predict(X_a))\n",
    "        print('ВАПРОС b',model.predict(X_b))\n",
    "        print(a)\n",
    "        print('АТВЕТ ',model.predict(a['x'].reshape(1, -1)))"
   ]
  },
  {
   "cell_type": "code",
   "execution_count": null,
   "metadata": {
    "collapsed": true
   },
   "outputs": [],
   "source": []
  }
 ],
 "metadata": {
  "kernelspec": {
   "display_name": "Python 3",
   "language": "python",
   "name": "python3"
  },
  "language_info": {
   "codemirror_mode": {
    "name": "ipython",
    "version": 3
   },
   "file_extension": ".py",
   "mimetype": "text/x-python",
   "name": "python",
   "nbconvert_exporter": "python",
   "pygments_lexer": "ipython3",
   "version": "3.6.4"
  }
 },
 "nbformat": 4,
 "nbformat_minor": 2
}
