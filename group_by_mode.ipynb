{
 "cells": [
  {
   "cell_type": "code",
   "execution_count": 1,
   "metadata": {},
   "outputs": [
    {
     "name": "stdout",
     "output_type": "stream",
     "text": [
      "importing Jupyter notebook from calc_features.ipynb\n"
     ]
    }
   ],
   "source": [
    "import pandas as pd\n",
    "import numpy as np\n",
    "import import_ipynb\n",
    "from calc_features import calc_all_features\n",
    "from calc_features import clean_data\n",
    "from calc_features import ls_need_col as ls"
   ]
  },
  {
   "cell_type": "code",
   "execution_count": 8,
   "metadata": {},
   "outputs": [],
   "source": [
    "ls_need_col = ls.copy()\n",
    "# df_prepared_merge = clean_data('prepared_hard.xlsx', ls_need_col)\n",
    "# df_prepared_valid = clean_data('prepared_hard_valid.xlsx', ls_need_col)\n",
    "# ls_need_col.remove('t˚ C трубы после ванны')\n",
    "# ls_need_col.remove('время выдержки в закалочной ванне, сек.')\n",
    "df_prepared_merge = pd.read_excel('prepared_hard.xlsx')\n",
    "df_prepared_valid = pd.read_excel('prepared_hard_valid.xlsx')\n",
    "\n",
    "df_prepared_merge = df_prepared_merge.reset_index(drop=True)\n",
    "df_prepared_valid = df_prepared_valid.reset_index(drop=True)"
   ]
  },
  {
   "cell_type": "code",
   "execution_count": 9,
   "metadata": {
    "collapsed": true
   },
   "outputs": [],
   "source": [
    "df_valid = df_prepared_valid.copy()\n",
    "df_merge = df_prepared_merge.copy()"
   ]
  },
  {
   "cell_type": "code",
   "execution_count": 4,
   "metadata": {},
   "outputs": [
    {
     "data": {
      "text/plain": [
       "Index(['1 зона по ВТР закалка', '2 зона по ВТР закалка',\n",
       "       '3 зона по ВТР закалка',\n",
       "       'Скорость прохождения трубы через спрейер, м/с',\n",
       "       't˚ C трубы после спреера', '1 зона ВТР и уставка отпуск',\n",
       "       '2 зона ВТР и уставка отпуск', '3 зона ВТР и уставка отпуск',\n",
       "       '4 зона ВТР и уставка отпуск', '5 зона ВТР и уставка отпуск',\n",
       "       'шаг балок закалочная печь, сек', 'шаг балок отпускная печь, сек',\n",
       "       'диаметр', 'толщина стенки', 'C', 'Mn', 'Si', 'P', 'S', 'Cr', 'Ni',\n",
       "       'Cu', 'Al', 'V', 'Ti', 'Nb', 'Mo', 'N', 'Параметр закалка',\n",
       "       'Параметр отпуск новый', 'C-coef', 'ICD', 'Предел текучести',\n",
       "       'Врем. сопротивление', '№ партии'],\n",
       "      dtype='object')"
      ]
     },
     "execution_count": 4,
     "metadata": {},
     "output_type": "execute_result"
    }
   ],
   "source": [
    "df_prepared_valid.columns"
   ]
  },
  {
   "cell_type": "code",
   "execution_count": 5,
   "metadata": {
    "collapsed": true
   },
   "outputs": [],
   "source": [
    "ls_modes = [\n",
    " '1 зона по ВТР закалка',\n",
    " '2 зона по ВТР закалка',\n",
    " '3 зона по ВТР закалка',\n",
    " 'Скорость прохождения трубы через спрейер, м/с',\n",
    " 't˚ C трубы после спреера',\n",
    " '1 зона ВТР и уставка отпуск',\n",
    " '2 зона ВТР и уставка отпуск',\n",
    " '3 зона ВТР и уставка отпуск',\n",
    " '4 зона ВТР и уставка отпуск',\n",
    " '5 зона ВТР и уставка отпуск',\n",
    " 'шаг балок закалочная печь, сек',\n",
    " 'шаг балок отпускная печь, сек',\n",
    " 'диаметр',\n",
    " 'толщина стенки'\n",
    "]"
   ]
  },
  {
   "cell_type": "code",
   "execution_count": 6,
   "metadata": {
    "collapsed": true
   },
   "outputs": [],
   "source": [
    "df_prepared_merge.reset_index(drop=True, inplace=True)\n",
    "df_prepared_valid.reset_index(drop=True, inplace=True)"
   ]
  },
  {
   "cell_type": "code",
   "execution_count": 7,
   "metadata": {},
   "outputs": [
    {
     "ename": "KeyError",
     "evalue": "\"['время выдержки в закалочной ванне, сек.' 't˚ C трубы после ванны'] not in index\"",
     "output_type": "error",
     "traceback": [
      "\u001b[1;31m---------------------------------------------------------------------------\u001b[0m",
      "\u001b[1;31mKeyError\u001b[0m                                  Traceback (most recent call last)",
      "\u001b[1;32m<ipython-input-7-6ea1abe9f7d6>\u001b[0m in \u001b[0;36m<module>\u001b[1;34m()\u001b[0m\n\u001b[1;32m----> 1\u001b[1;33m \u001b[0mdf_prepared_valid\u001b[0m\u001b[1;33m=\u001b[0m\u001b[0mdf_prepared_valid\u001b[0m\u001b[1;33m[\u001b[0m\u001b[0mls_need_col\u001b[0m\u001b[1;33m+\u001b[0m\u001b[1;33m[\u001b[0m\u001b[1;34m'Предел текучести'\u001b[0m\u001b[1;33m,\u001b[0m \u001b[1;34m'Врем. сопротивление'\u001b[0m\u001b[1;33m,\u001b[0m \u001b[1;34m'№ партии'\u001b[0m\u001b[1;33m]\u001b[0m\u001b[1;33m]\u001b[0m\u001b[1;33m\u001b[0m\u001b[0m\n\u001b[0m\u001b[0;32m      2\u001b[0m \u001b[0mdf_prepared_merge\u001b[0m\u001b[1;33m=\u001b[0m\u001b[0mdf_prepared_merge\u001b[0m\u001b[1;33m[\u001b[0m\u001b[0mls_need_col\u001b[0m\u001b[1;33m+\u001b[0m\u001b[1;33m[\u001b[0m\u001b[1;34m'Предел текучести'\u001b[0m\u001b[1;33m,\u001b[0m \u001b[1;34m'Врем. сопротивление'\u001b[0m\u001b[1;33m,\u001b[0m \u001b[1;34m'№ партии'\u001b[0m\u001b[1;33m]\u001b[0m\u001b[1;33m]\u001b[0m\u001b[1;33m\u001b[0m\u001b[0m\n",
      "\u001b[1;32mD:\\Repo\\Anaconda2\\envs\\myenv\\lib\\site-packages\\pandas\\core\\frame.py\u001b[0m in \u001b[0;36m__getitem__\u001b[1;34m(self, key)\u001b[0m\n\u001b[0;32m   2131\u001b[0m         \u001b[1;32mif\u001b[0m \u001b[0misinstance\u001b[0m\u001b[1;33m(\u001b[0m\u001b[0mkey\u001b[0m\u001b[1;33m,\u001b[0m \u001b[1;33m(\u001b[0m\u001b[0mSeries\u001b[0m\u001b[1;33m,\u001b[0m \u001b[0mnp\u001b[0m\u001b[1;33m.\u001b[0m\u001b[0mndarray\u001b[0m\u001b[1;33m,\u001b[0m \u001b[0mIndex\u001b[0m\u001b[1;33m,\u001b[0m \u001b[0mlist\u001b[0m\u001b[1;33m)\u001b[0m\u001b[1;33m)\u001b[0m\u001b[1;33m:\u001b[0m\u001b[1;33m\u001b[0m\u001b[0m\n\u001b[0;32m   2132\u001b[0m             \u001b[1;31m# either boolean or fancy integer index\u001b[0m\u001b[1;33m\u001b[0m\u001b[1;33m\u001b[0m\u001b[0m\n\u001b[1;32m-> 2133\u001b[1;33m             \u001b[1;32mreturn\u001b[0m \u001b[0mself\u001b[0m\u001b[1;33m.\u001b[0m\u001b[0m_getitem_array\u001b[0m\u001b[1;33m(\u001b[0m\u001b[0mkey\u001b[0m\u001b[1;33m)\u001b[0m\u001b[1;33m\u001b[0m\u001b[0m\n\u001b[0m\u001b[0;32m   2134\u001b[0m         \u001b[1;32melif\u001b[0m \u001b[0misinstance\u001b[0m\u001b[1;33m(\u001b[0m\u001b[0mkey\u001b[0m\u001b[1;33m,\u001b[0m \u001b[0mDataFrame\u001b[0m\u001b[1;33m)\u001b[0m\u001b[1;33m:\u001b[0m\u001b[1;33m\u001b[0m\u001b[0m\n\u001b[0;32m   2135\u001b[0m             \u001b[1;32mreturn\u001b[0m \u001b[0mself\u001b[0m\u001b[1;33m.\u001b[0m\u001b[0m_getitem_frame\u001b[0m\u001b[1;33m(\u001b[0m\u001b[0mkey\u001b[0m\u001b[1;33m)\u001b[0m\u001b[1;33m\u001b[0m\u001b[0m\n",
      "\u001b[1;32mD:\\Repo\\Anaconda2\\envs\\myenv\\lib\\site-packages\\pandas\\core\\frame.py\u001b[0m in \u001b[0;36m_getitem_array\u001b[1;34m(self, key)\u001b[0m\n\u001b[0;32m   2175\u001b[0m             \u001b[1;32mreturn\u001b[0m \u001b[0mself\u001b[0m\u001b[1;33m.\u001b[0m\u001b[0m_take\u001b[0m\u001b[1;33m(\u001b[0m\u001b[0mindexer\u001b[0m\u001b[1;33m,\u001b[0m \u001b[0maxis\u001b[0m\u001b[1;33m=\u001b[0m\u001b[1;36m0\u001b[0m\u001b[1;33m,\u001b[0m \u001b[0mconvert\u001b[0m\u001b[1;33m=\u001b[0m\u001b[1;32mFalse\u001b[0m\u001b[1;33m)\u001b[0m\u001b[1;33m\u001b[0m\u001b[0m\n\u001b[0;32m   2176\u001b[0m         \u001b[1;32melse\u001b[0m\u001b[1;33m:\u001b[0m\u001b[1;33m\u001b[0m\u001b[0m\n\u001b[1;32m-> 2177\u001b[1;33m             \u001b[0mindexer\u001b[0m \u001b[1;33m=\u001b[0m \u001b[0mself\u001b[0m\u001b[1;33m.\u001b[0m\u001b[0mloc\u001b[0m\u001b[1;33m.\u001b[0m\u001b[0m_convert_to_indexer\u001b[0m\u001b[1;33m(\u001b[0m\u001b[0mkey\u001b[0m\u001b[1;33m,\u001b[0m \u001b[0maxis\u001b[0m\u001b[1;33m=\u001b[0m\u001b[1;36m1\u001b[0m\u001b[1;33m)\u001b[0m\u001b[1;33m\u001b[0m\u001b[0m\n\u001b[0m\u001b[0;32m   2178\u001b[0m             \u001b[1;32mreturn\u001b[0m \u001b[0mself\u001b[0m\u001b[1;33m.\u001b[0m\u001b[0m_take\u001b[0m\u001b[1;33m(\u001b[0m\u001b[0mindexer\u001b[0m\u001b[1;33m,\u001b[0m \u001b[0maxis\u001b[0m\u001b[1;33m=\u001b[0m\u001b[1;36m1\u001b[0m\u001b[1;33m,\u001b[0m \u001b[0mconvert\u001b[0m\u001b[1;33m=\u001b[0m\u001b[1;32mTrue\u001b[0m\u001b[1;33m)\u001b[0m\u001b[1;33m\u001b[0m\u001b[0m\n\u001b[0;32m   2179\u001b[0m \u001b[1;33m\u001b[0m\u001b[0m\n",
      "\u001b[1;32mD:\\Repo\\Anaconda2\\envs\\myenv\\lib\\site-packages\\pandas\\core\\indexing.py\u001b[0m in \u001b[0;36m_convert_to_indexer\u001b[1;34m(self, obj, axis, is_setter)\u001b[0m\n\u001b[0;32m   1267\u001b[0m                 \u001b[1;32mif\u001b[0m \u001b[0mmask\u001b[0m\u001b[1;33m.\u001b[0m\u001b[0many\u001b[0m\u001b[1;33m(\u001b[0m\u001b[1;33m)\u001b[0m\u001b[1;33m:\u001b[0m\u001b[1;33m\u001b[0m\u001b[0m\n\u001b[0;32m   1268\u001b[0m                     raise KeyError('{mask} not in index'\n\u001b[1;32m-> 1269\u001b[1;33m                                    .format(mask=objarr[mask]))\n\u001b[0m\u001b[0;32m   1270\u001b[0m \u001b[1;33m\u001b[0m\u001b[0m\n\u001b[0;32m   1271\u001b[0m                 \u001b[1;32mreturn\u001b[0m \u001b[0m_values_from_object\u001b[0m\u001b[1;33m(\u001b[0m\u001b[0mindexer\u001b[0m\u001b[1;33m)\u001b[0m\u001b[1;33m\u001b[0m\u001b[0m\n",
      "\u001b[1;31mKeyError\u001b[0m: \"['время выдержки в закалочной ванне, сек.' 't˚ C трубы после ванны'] not in index\""
     ]
    }
   ],
   "source": [
    "df_prepared_valid=df_prepared_valid[ls_need_col+['Предел текучести', 'Врем. сопротивление', '№ партии']]\n",
    "df_prepared_merge=df_prepared_merge[ls_need_col+['Предел текучести', 'Врем. сопротивление', '№ партии']]"
   ]
  },
  {
   "cell_type": "code",
   "execution_count": null,
   "metadata": {
    "collapsed": true
   },
   "outputs": [],
   "source": [
    "from sklearn.cluster import KMeans"
   ]
  },
  {
   "cell_type": "code",
   "execution_count": null,
   "metadata": {
    "collapsed": true
   },
   "outputs": [],
   "source": [
    "df = pd.concat([df_prepared_valid, df_prepared_merge])\n",
    "df.reset_index(drop=True, inplace=True)"
   ]
  },
  {
   "cell_type": "code",
   "execution_count": 40,
   "metadata": {},
   "outputs": [],
   "source": [
    "kmeans = KMeans(n_clusters=6000, init='k-means++', verbose=0).fit(df[ls_modes])"
   ]
  },
  {
   "cell_type": "code",
   "execution_count": 41,
   "metadata": {
    "collapsed": true
   },
   "outputs": [],
   "source": [
    "df['kmeans_label'] = kmeans.labels_"
   ]
  },
  {
   "cell_type": "code",
   "execution_count": 43,
   "metadata": {},
   "outputs": [],
   "source": [
    "def mean_if_norm(x):\n",
    "    for col in ['Предел текучести', 'Врем. сопротивление']:\n",
    "        if max(x[col]) - min(x[col]) >= 9.0:\n",
    "            x[col] = None\n",
    "        else:\n",
    "            x[col] = x[col].mean()\n",
    "    return x.mean()\n",
    "df_try = df.groupby('kmeans_label')[ls_need_col+['Предел текучести', 'Врем. сопротивление']].apply(np.mean).dropna()"
   ]
  },
  {
   "cell_type": "code",
   "execution_count": 44,
   "metadata": {
    "collapsed": true
   },
   "outputs": [],
   "source": [
    "df_try.to_excel('try_kmeans.xlsx')"
   ]
  },
  {
   "cell_type": "code",
   "execution_count": 6,
   "metadata": {
    "collapsed": true
   },
   "outputs": [],
   "source": [
    "# df_prepared_valid.index =pd.MultiIndex.from_arrays([\n",
    "#     df_prepared_valid['1 зона по ВТР закалка'],\n",
    "#     df_prepared_valid['2 зона по ВТР закалка'],\n",
    "#     df_prepared_valid['3 зона по ВТР закалка'],\n",
    "#     df_prepared_valid['Скорость прохождения трубы через спрейер, м/с'],\n",
    "#     df_prepared_valid['t˚ C трубы после спреера'],\n",
    "#     df_prepared_valid['1 зона ВТР и уставка отпуск'],\n",
    "#     df_prepared_valid['2 зона ВТР и уставка отпуск'],\n",
    "#     df_prepared_valid['3 зона ВТР и уставка отпуск'],\n",
    "#     df_prepared_valid['4 зона ВТР и уставка отпуск'],\n",
    "#     df_prepared_valid['5 зона ВТР и уставка отпуск'],\n",
    "#     df_prepared_valid['шаг балок закалочная печь, сек'],\n",
    "#     df_prepared_valid[ 'шаг балок отпускная печь, сек'],\n",
    "#     df_prepared_valid['диаметр'],\n",
    "#     df_prepared_valid['толщина стенки']\n",
    "# ])"
   ]
  },
  {
   "cell_type": "code",
   "execution_count": 19,
   "metadata": {
    "collapsed": true
   },
   "outputs": [],
   "source": [
    "# df_prepared_merge.groupby(ls_modes)[['Предел текучести', 'Врем. сопротивление', 'C-coef']].describe().to_excel('describe_train_modes_easy.xlsx')"
   ]
  }
 ],
 "metadata": {
  "kernelspec": {
   "display_name": "Python 3",
   "language": "python",
   "name": "python3"
  },
  "language_info": {
   "codemirror_mode": {
    "name": "ipython",
    "version": 3
   },
   "file_extension": ".py",
   "mimetype": "text/x-python",
   "name": "python",
   "nbconvert_exporter": "python",
   "pygments_lexer": "ipython3",
   "version": "3.6.4"
  }
 },
 "nbformat": 4,
 "nbformat_minor": 2
}
