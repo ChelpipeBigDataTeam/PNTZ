{
 "cells": [
  {
   "cell_type": "code",
   "execution_count": 1,
   "metadata": {
    "collapsed": true
   },
   "outputs": [],
   "source": [
    "# Разделяем диаметр и толщину стенки и чистим их\n",
    "def split_d(x):\n",
    "    x = str(x)\n",
    "    x = x.replace(',', '.')\n",
    "    return re.split('х|Х|x|X', x)[0]\n",
    "\n",
    "def split_s(x):\n",
    "    x = str(x)\n",
    "    x = x.replace(',', '.')\n",
    "    try:\n",
    "        return re.split('х|Х|x|X', x)[1]\n",
    "    except:\n",
    "        return x\n",
    "    \n",
    "def clean_d_s(x):\n",
    "    x = str(x)\n",
    "    x = x.replace('п', '')\n",
    "    x = x.replace('П', '')\n",
    "    x = x.replace('nan', '')\n",
    "    x = x.replace(',', '.')\n",
    "    return x"
   ]
  },
  {
   "cell_type": "code",
   "execution_count": 2,
   "metadata": {
    "collapsed": true
   },
   "outputs": [],
   "source": [
    "def clean_steps(x):\n",
    "    x = str(x)\n",
    "    x = x.replace(u'X', '/')\n",
    "    x = x.replace(u'x', '/')\n",
    "    x = x.replace(u'Х', '/')\n",
    "    x = x.replace(u'х', '/')\n",
    "    x = x.replace(',', '.')\n",
    "    x = x.replace('\\\\', '/')\n",
    "    x = x.replace('/-', '/0')\n",
    "    x = x.replace('-/', '0/')\n",
    "    x = x.replace('***', '0')\n",
    "    x = x.replace('*', '0')\n",
    "    x = x.replace('-', '/')\n",
    "    x = x.replace('nan', '')\n",
    "    return x\n",
    "\n",
    "def convert_step0(x):\n",
    "    return clean_steps(x).split('/')[0]\n",
    "   \n",
    "def convert_step1(x):\n",
    "    try:\n",
    "        return clean_steps(x).split('/')[1]\n",
    "    except:\n",
    "        return x"
   ]
  },
  {
   "cell_type": "code",
   "execution_count": 3,
   "metadata": {
    "collapsed": true
   },
   "outputs": [],
   "source": [
    "import pandas as pd\n",
    "import numpy as np\n",
    "import re"
   ]
  },
  {
   "cell_type": "code",
   "execution_count": 4,
   "metadata": {
    "collapsed": true
   },
   "outputs": [],
   "source": [
    "df = pd.read_excel('20-30.xlsx')"
   ]
  },
  {
   "cell_type": "code",
   "execution_count": 5,
   "metadata": {},
   "outputs": [
    {
     "data": {
      "text/plain": [
       "Index(['Номер пакета', 'Дата', 'цикл', 'тз', 'то', 'Номер партии',\n",
       "       'Номер\\nплавки', 'Обозна-чение\\nНД', 'марка стали', 'кол-во, шт.',\n",
       "       'масса\\nтн.', 'Размер труб, мм', 'время начала т/о', 'шаг балок, сек',\n",
       "       '1 зона закалка', '2 зона закалка', '3 зона закалка',\n",
       "       'скорость спрейера, м/с', 't˚ C трубы\\nпосле спреера',\n",
       "       'закалочная ванна', 't˚ C трубы\\nпосле ванны', '1 зона отпуск',\n",
       "       '2 зона отпуск', '3 зона отпуск', '4 зона отпуск', '5 зона отпуск',\n",
       "       '№ пакета', '№ партии', 'кол-во, шт', 'масса\\nтн',\n",
       "       'Обозначение НД, гр. проч-ности'],\n",
       "      dtype='object')"
      ]
     },
     "execution_count": 5,
     "metadata": {},
     "output_type": "execute_result"
    }
   ],
   "source": [
    "df.columns"
   ]
  },
  {
   "cell_type": "code",
   "execution_count": 6,
   "metadata": {
    "collapsed": true
   },
   "outputs": [],
   "source": [
    "df = df.groupby(['№ партии','Номер\\nплавки', 'марка стали', 'Размер труб, мм','шаг балок, сек'])['масса\\nтн'].sum()"
   ]
  },
  {
   "cell_type": "code",
   "execution_count": 7,
   "metadata": {
    "collapsed": true
   },
   "outputs": [],
   "source": [
    "df = df.reset_index()"
   ]
  },
  {
   "cell_type": "code",
   "execution_count": 8,
   "metadata": {
    "collapsed": true
   },
   "outputs": [],
   "source": [
    "df[u'шаг балок закалочная печь, сек'] = df['шаг балок, сек'].apply(convert_step0)\n",
    "df[u'шаг балок отпускная печь, сек'] = df['шаг балок, сек'].apply(convert_step1)\n",
    "df['диаметр'] = df['Размер труб, мм'].apply(split_d)\n",
    "df['толщина стенки'] = df['Размер труб, мм'].apply(split_s)\n",
    "df['толщина стенки'] = df['толщина стенки'].apply(clean_d_s)\n",
    "df['толщина стенки'] = df['толщина стенки'].apply(lambda x: x.replace('107.95', ''))\n",
    "df['диаметр'] = df['диаметр'].apply(clean_d_s)"
   ]
  },
  {
   "cell_type": "code",
   "execution_count": 9,
   "metadata": {
    "collapsed": true,
    "scrolled": true
   },
   "outputs": [],
   "source": [
    "del df['шаг балок, сек']\n",
    "del df['Размер труб, мм']"
   ]
  },
  {
   "cell_type": "code",
   "execution_count": 10,
   "metadata": {
    "collapsed": true
   },
   "outputs": [],
   "source": [
    "df.to_excel('june_econom_10.xlsx')"
   ]
  },
  {
   "cell_type": "code",
   "execution_count": 11,
   "metadata": {
    "collapsed": true
   },
   "outputs": [],
   "source": [
    "df = df.groupby(['марка стали','толщина стенки','диаметр', 'шаг балок закалочная печь, сек', 'шаг балок отпускная печь, сек'])['масса\\nтн'].sum()\n",
    "df = df.reset_index()\n",
    "df.to_excel('june_groups_10.xlsx')"
   ]
  }
 ],
 "metadata": {
  "kernelspec": {
   "display_name": "Python 3",
   "language": "python",
   "name": "python3"
  },
  "language_info": {
   "codemirror_mode": {
    "name": "ipython",
    "version": 3
   },
   "file_extension": ".py",
   "mimetype": "text/x-python",
   "name": "python",
   "nbconvert_exporter": "python",
   "pygments_lexer": "ipython3",
   "version": "3.6.4"
  }
 },
 "nbformat": 4,
 "nbformat_minor": 2
}
