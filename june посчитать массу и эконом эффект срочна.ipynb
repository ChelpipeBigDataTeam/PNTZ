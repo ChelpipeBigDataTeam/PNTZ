{
 "cells": [
  {
   "cell_type": "code",
   "execution_count": 21,
   "metadata": {
    "collapsed": true
   },
   "outputs": [],
   "source": [
    "# Разделяем диаметр и толщину стенки и чистим их\n",
    "def split_d(x):\n",
    "    x = str(x)\n",
    "    x = x.replace(',', '.')\n",
    "    return re.split('х|Х|x|X', x)[0]\n",
    "\n",
    "def split_s(x):\n",
    "    x = str(x)\n",
    "    x = x.replace(',', '.')\n",
    "    try:\n",
    "        return re.split('х|Х|x|X', x)[1]\n",
    "    except:\n",
    "        return x\n",
    "    \n",
    "def clean_d_s(x):\n",
    "    x = str(x)\n",
    "    x = x.replace('п', '')\n",
    "    x = x.replace('П', '')\n",
    "    x = x.replace('nan', '')\n",
    "    x = x.replace(',', '.')\n",
    "    return x"
   ]
  },
  {
   "cell_type": "code",
   "execution_count": 22,
   "metadata": {
    "collapsed": true
   },
   "outputs": [],
   "source": [
    "def clean_steps(x):\n",
    "    x = str(x)\n",
    "    x = x.replace(u'X', '/')\n",
    "    x = x.replace(u'x', '/')\n",
    "    x = x.replace(u'Х', '/')\n",
    "    x = x.replace(u'х', '/')\n",
    "    x = x.replace(',', '.')\n",
    "    x = x.replace('\\\\', '/')\n",
    "    x = x.replace('/-', '/0')\n",
    "    x = x.replace('-/', '0/')\n",
    "    x = x.replace('***', '0')\n",
    "    x = x.replace('*', '0')\n",
    "    x = x.replace('-', '/')\n",
    "    x = x.replace('nan', '')\n",
    "    return x\n",
    "\n",
    "def convert_step0(x):\n",
    "    return clean_steps(x).split('/')[0]\n",
    "   \n",
    "def convert_step1(x):\n",
    "    try:\n",
    "        return clean_steps(x).split('/')[1]\n",
    "    except:\n",
    "        return x"
   ]
  },
  {
   "cell_type": "code",
   "execution_count": 23,
   "metadata": {
    "collapsed": true
   },
   "outputs": [],
   "source": [
    "import pandas as pd\n",
    "import numpy as np\n",
    "import re"
   ]
  },
  {
   "cell_type": "code",
   "execution_count": 24,
   "metadata": {
    "scrolled": true
   },
   "outputs": [],
   "source": [
    "df = pd.read_excel('DATA/1-8/1-8.xlsx')"
   ]
  },
  {
   "cell_type": "code",
   "execution_count": 25,
   "metadata": {},
   "outputs": [
    {
     "data": {
      "text/plain": [
       "Index(['№ пакета', '№ партии', 'плавка', 'НД (гост, ту)', 'марка стали',\n",
       "       'кол-во, шт.', 'масса\\nтн', 'D/S', 'время начала т/о',\n",
       "       'шаг балок закалочная/отпускная печи, сек', '1 зона по ВТР закалка',\n",
       "       '2 зона по ВТР закалка', '3 зона по ВТР закалка',\n",
       "       'Скорость прохождения трубы через спрейер, м/с',\n",
       "       't˚ C трубы после спреера', 'время выдержки в закалочной ванне, сек.',\n",
       "       't˚ C трубы после ванны', '1 зона ВТР и уставка отпуск',\n",
       "       '2 зона ВТР и уставка отпуск', '3 зона ВТР и уставка отпуск',\n",
       "       '4 зона ВТР и уставка отпуск', '5 зона ВТР и уставка отпуск',\n",
       "       '№ пакета.1', '№ партии.1', 'кол-во, шт..1', 'масса\\nтн.1',\n",
       "       'Unnamed: 26'],\n",
       "      dtype='object')"
      ]
     },
     "execution_count": 25,
     "metadata": {},
     "output_type": "execute_result"
    }
   ],
   "source": [
    "df.columns"
   ]
  },
  {
   "cell_type": "code",
   "execution_count": 29,
   "metadata": {},
   "outputs": [],
   "source": [
    "df = df.groupby(['№ партии.1','плавка', 'марка стали', 'D/S','шаг балок закалочная/отпускная печи, сек'])['масса\\nтн.1'].sum()"
   ]
  },
  {
   "cell_type": "code",
   "execution_count": 30,
   "metadata": {
    "collapsed": true
   },
   "outputs": [],
   "source": [
    "df = df.reset_index()"
   ]
  },
  {
   "cell_type": "code",
   "execution_count": 32,
   "metadata": {},
   "outputs": [
    {
     "data": {
      "text/plain": [
       "(110, 6)"
      ]
     },
     "execution_count": 32,
     "metadata": {},
     "output_type": "execute_result"
    }
   ],
   "source": [
    "df.shape"
   ]
  },
  {
   "cell_type": "code",
   "execution_count": 33,
   "metadata": {
    "collapsed": true
   },
   "outputs": [],
   "source": [
    "df[u'шаг балок закалочная печь, сек'] = df['шаг балок закалочная/отпускная печи, сек'].apply(convert_step0)\n",
    "df[u'шаг балок отпускная печь, сек'] = df['шаг балок закалочная/отпускная печи, сек'].apply(convert_step1)\n",
    "df['диаметр'] = df['D/S'].apply(split_d)\n",
    "df['толщина стенки'] = df['D/S'].apply(split_s)\n",
    "df['толщина стенки'] = df['толщина стенки'].apply(clean_d_s)\n",
    "df['толщина стенки'] = df['толщина стенки'].apply(lambda x: x.replace('107.95', ''))\n",
    "df['диаметр'] = df['диаметр'].apply(clean_d_s)"
   ]
  },
  {
   "cell_type": "code",
   "execution_count": 34,
   "metadata": {
    "collapsed": true,
    "scrolled": true
   },
   "outputs": [],
   "source": [
    "del df['шаг балок закалочная/отпускная печи, сек']\n",
    "del df['D/S']"
   ]
  },
  {
   "cell_type": "code",
   "execution_count": 35,
   "metadata": {
    "collapsed": true
   },
   "outputs": [],
   "source": [
    "df.to_excel('jule_econom_8.xlsx')"
   ]
  },
  {
   "cell_type": "code",
   "execution_count": 37,
   "metadata": {},
   "outputs": [],
   "source": [
    "df = df.groupby(['марка стали','толщина стенки','диаметр', 'шаг балок закалочная печь, сек', 'шаг балок отпускная печь, сек'])['масса\\nтн.1'].sum()\n",
    "df = df.reset_index()\n",
    "df.to_excel('jule_groups_8.xlsx')"
   ]
  }
 ],
 "metadata": {
  "kernelspec": {
   "display_name": "Python 3",
   "language": "python",
   "name": "python3"
  },
  "language_info": {
   "codemirror_mode": {
    "name": "ipython",
    "version": 3
   },
   "file_extension": ".py",
   "mimetype": "text/x-python",
   "name": "python",
   "nbconvert_exporter": "python",
   "pygments_lexer": "ipython3",
   "version": "3.6.4"
  }
 },
 "nbformat": 4,
 "nbformat_minor": 2
}
