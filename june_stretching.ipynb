{
 "cells": [
  {
   "cell_type": "code",
   "execution_count": 103,
   "metadata": {
    "collapsed": true
   },
   "outputs": [],
   "source": [
    "def findfile(sheetname):\n",
    "    row = 0\n",
    "    col = 0\n",
    "    for name, df_l in df_dicts:\n",
    "        try:\n",
    "            col = df_l[sheetname].shape[1]\n",
    "            df_l[sheetname]\n",
    "            print(name)\n",
    "        except:\n",
    "            continue\n",
    "        try:\n",
    "            row += df_l[sheetname].shape[0] \n",
    "            if (abs(col - col)<1):\n",
    "                   continue\n",
    "            else:\n",
    "                col += abs(df_l[sheetname].shape[1] - col)\n",
    "        except:\n",
    "            continue\n",
    "    print('rows = %d, col = %d' %(row, col))"
   ]
  },
  {
   "cell_type": "code",
   "execution_count": 104,
   "metadata": {
    "collapsed": true
   },
   "outputs": [],
   "source": [
    "import pandas as pd\n",
    "import numpy as np\n",
    "import warnings\n",
    "import re\n",
    "from datetime import datetime\n",
    "from collections import OrderedDict\n",
    "warnings.filterwarnings('default')"
   ]
  },
  {
   "cell_type": "code",
   "execution_count": 105,
   "metadata": {
    "collapsed": true
   },
   "outputs": [],
   "source": [
    "# подгрузка всех файлов\n",
    "import os\n",
    "dr = 'DATA/1-8/1_8_exp.xls'\n",
    "df_dicts = pd.read_excel(dr, None)\n",
    "#     print(name)"
   ]
  },
  {
   "cell_type": "code",
   "execution_count": 106,
   "metadata": {
    "collapsed": true
   },
   "outputs": [],
   "source": [
    "# file_names"
   ]
  },
  {
   "cell_type": "code",
   "execution_count": 107,
   "metadata": {},
   "outputs": [
    {
     "data": {
      "text/plain": [
       "25"
      ]
     },
     "execution_count": 107,
     "metadata": {},
     "output_type": "execute_result"
    }
   ],
   "source": [
    "# список всех таблиц из всех файлов\n",
    "sheetname_list = []\n",
    "for sheet in df_dicts:    \n",
    "    tmp = sheet\n",
    "    tmp = list(tmp)\n",
    "    tmp = tmp[2:-3]\n",
    "    sheetname_list.append(tmp)\n",
    "len(sheetname_list)"
   ]
  },
  {
   "cell_type": "code",
   "execution_count": 108,
   "metadata": {},
   "outputs": [
    {
     "name": "stdout",
     "output_type": "stream",
     "text": [
      "47\n"
     ]
    }
   ],
   "source": [
    "dict_sheet_count = {}\n",
    "uniq_sheetname = set()\n",
    "for st in sheetname_list:\n",
    "    for ls in st:\n",
    "        uniq_sheetname.add(ls)\n",
    "\n",
    "\n",
    "uniq_sheetname = list(uniq_sheetname)\n",
    "uniq_sheetname.sort()\n",
    "print(len(uniq_sheetname))\n",
    "\n",
    "# добавление частот в словарь\n",
    "for st in sheetname_list:\n",
    "    for ls in st:\n",
    "        counts = dict_sheet_count.get(ls,0)\n",
    "        dict_sheet_count[ls] = counts + 1\n",
    "        \n",
    "        \n",
    "# df - для вывода словаря в excel            \n",
    "df = pd.DataFrame.from_dict(data = dict_sheet_count, orient='index')\n",
    "# df.to_excel('dict_sheet_count.xlsx')"
   ]
  },
  {
   "cell_type": "code",
   "execution_count": 109,
   "metadata": {
    "collapsed": true
   },
   "outputs": [],
   "source": [
    "ls_mb_convert_ys = [\n",
    "    'Предел текучести (1141)',\n",
    "    'Предел текучести (1027)',\n",
    "    'Предел текучести, Н/мм2 или МПа',\n",
    "    'Предел текучести , кгс/мм2',\n",
    "    'Предел текучести, кгс/мм2',\n",
    "]\n",
    "\n",
    "ls_mb_convert_tr = [\n",
    "    'Врем. сопротивление,  Н/мм2 или МПа',\n",
    "    'Врем. сопротивление (1140)',\n",
    "    'Врем. сопротивление (1042)',\n",
    "    'Врем. сопротивление , кгс/мм2',\n",
    "    'Врем. сопротивление, кгс/мм2'\n",
    "]\n",
    "\n",
    "ls_mb_convert = ls_mb_convert_ys+ls_mb_convert_tr"
   ]
  },
  {
   "cell_type": "code",
   "execution_count": 110,
   "metadata": {
    "collapsed": true
   },
   "outputs": [],
   "source": [
    "def change_col_name(df):\n",
    "    for col in ls_mb_convert_tr:\n",
    "        if col in df:\n",
    "            df['Врем. сопротивление'] = df[col]\n",
    "            del df[col]\n",
    "    for col in ls_mb_convert_ys:\n",
    "        if col in df:\n",
    "            df['Предел текучести'] = df[col]\n",
    "            del df[col]\n",
    "    return df"
   ]
  },
  {
   "cell_type": "code",
   "execution_count": 111,
   "metadata": {
    "collapsed": true
   },
   "outputs": [],
   "source": [
    "ls_sheets = [\n",
    "    u'Растяжение, кгс мм2.',\n",
    "    u'Растяжение, н мм2.',\n",
    "]"
   ]
  },
  {
   "cell_type": "code",
   "execution_count": 112,
   "metadata": {
    "collapsed": true
   },
   "outputs": [],
   "source": [
    "scretching = pd.DataFrame()\n",
    "tmp = df_dicts[u'Растяжение, кгс мм2.']\n",
    "tmp = change_col_name(tmp)\n",
    "scretching= pd.concat([tmp, scretching])"
   ]
  },
  {
   "cell_type": "code",
   "execution_count": 113,
   "metadata": {
    "collapsed": true
   },
   "outputs": [],
   "source": [
    "scretching2  = pd.DataFrame()\n",
    "tmp = df_dicts[u'Растяжение, н мм2.']\n",
    "tmp = change_col_name(tmp)\n",
    "scretching2= pd.concat([tmp, scretching2])"
   ]
  },
  {
   "cell_type": "code",
   "execution_count": 114,
   "metadata": {
    "collapsed": true
   },
   "outputs": [],
   "source": [
    "scr_df = scretching[[\n",
    "    '№ плавки',\n",
    "    '№ партии',\n",
    "    'Дата форм. цехом',\n",
    "    'Марка стали',\n",
    "    'Тип предела текучести (1186)',\n",
    "    'Врем. сопротивление',\n",
    "    'Предел текучести',\n",
    "    'ГОСТ, ТУ']].copy()"
   ]
  },
  {
   "cell_type": "code",
   "execution_count": 115,
   "metadata": {
    "collapsed": true
   },
   "outputs": [],
   "source": [
    "scr_df2 = scretching2[[\n",
    "    '№ плавки',\n",
    "    '№ партии',\n",
    "    'Дата форм. цехом',\n",
    "    'Марка стали',\n",
    "    'Тип предела текучести (1186)',\n",
    "    'Врем. сопротивление',\n",
    "    'Предел текучести',\n",
    "    'ГОСТ, ТУ' ]].copy()"
   ]
  },
  {
   "cell_type": "code",
   "execution_count": 116,
   "metadata": {},
   "outputs": [
    {
     "data": {
      "text/html": [
       "<div>\n",
       "<style scoped>\n",
       "    .dataframe tbody tr th:only-of-type {\n",
       "        vertical-align: middle;\n",
       "    }\n",
       "\n",
       "    .dataframe tbody tr th {\n",
       "        vertical-align: top;\n",
       "    }\n",
       "\n",
       "    .dataframe thead th {\n",
       "        text-align: right;\n",
       "    }\n",
       "</style>\n",
       "<table border=\"1\" class=\"dataframe\">\n",
       "  <thead>\n",
       "    <tr style=\"text-align: right;\">\n",
       "      <th></th>\n",
       "      <th>№ плавки</th>\n",
       "      <th>№ партии</th>\n",
       "      <th>Дата форм. цехом</th>\n",
       "      <th>Марка стали</th>\n",
       "      <th>Тип предела текучести (1186)</th>\n",
       "      <th>Врем. сопротивление</th>\n",
       "      <th>Предел текучести</th>\n",
       "      <th>ГОСТ, ТУ</th>\n",
       "    </tr>\n",
       "  </thead>\n",
       "  <tbody>\n",
       "  </tbody>\n",
       "</table>\n",
       "</div>"
      ],
      "text/plain": [
       "Empty DataFrame\n",
       "Columns: [№ плавки, № партии, Дата форм. цехом, Марка стали, Тип предела текучести (1186), Врем. сопротивление, Предел текучести, ГОСТ, ТУ]\n",
       "Index: []"
      ]
     },
     "execution_count": 116,
     "metadata": {},
     "output_type": "execute_result"
    }
   ],
   "source": [
    "scr_df[scr_df['№ партии']==712261]"
   ]
  },
  {
   "cell_type": "code",
   "execution_count": 117,
   "metadata": {
    "collapsed": true
   },
   "outputs": [],
   "source": [
    "# scr_df= scr_df[scr_df['Тип предела текучести (1186)']==0.2]"
   ]
  },
  {
   "cell_type": "code",
   "execution_count": 118,
   "metadata": {
    "collapsed": true
   },
   "outputs": [],
   "source": [
    "# scr_df2= scr_df2[scr_df2['Тип предела текучести (1186)']==0.2]\n",
    "# .describe()"
   ]
  },
  {
   "cell_type": "code",
   "execution_count": 119,
   "metadata": {
    "collapsed": true
   },
   "outputs": [],
   "source": [
    "# scr_df2.describe()"
   ]
  },
  {
   "cell_type": "code",
   "execution_count": 120,
   "metadata": {
    "collapsed": true
   },
   "outputs": [],
   "source": [
    "# scr_df.describe()"
   ]
  },
  {
   "cell_type": "code",
   "execution_count": 121,
   "metadata": {
    "collapsed": true
   },
   "outputs": [],
   "source": [
    "scr_df.loc[:, 'Врем. сопротивление'] = scr_df['Врем. сопротивление'].apply(lambda x: x/9.8 if x>200 else x)\n",
    "scr_df.loc[:, 'Предел текучести'] = scr_df['Предел текучести'].apply(lambda x: x/9.8 if x>200 else x);"
   ]
  },
  {
   "cell_type": "code",
   "execution_count": 122,
   "metadata": {
    "collapsed": true
   },
   "outputs": [],
   "source": [
    "scr_df2['Врем. сопротивление'] = scr_df2['Врем. сопротивление'].apply(lambda x: x/9.8 if x>200 else x)\n",
    "scr_df2['Предел текучести'] = scr_df2['Предел текучести'].apply(lambda x: x/9.8 if x>200 else x)"
   ]
  },
  {
   "cell_type": "code",
   "execution_count": 123,
   "metadata": {},
   "outputs": [
    {
     "data": {
      "text/html": [
       "<div>\n",
       "<style scoped>\n",
       "    .dataframe tbody tr th:only-of-type {\n",
       "        vertical-align: middle;\n",
       "    }\n",
       "\n",
       "    .dataframe tbody tr th {\n",
       "        vertical-align: top;\n",
       "    }\n",
       "\n",
       "    .dataframe thead th {\n",
       "        text-align: right;\n",
       "    }\n",
       "</style>\n",
       "<table border=\"1\" class=\"dataframe\">\n",
       "  <thead>\n",
       "    <tr style=\"text-align: right;\">\n",
       "      <th></th>\n",
       "      <th>Тип предела текучести (1186)</th>\n",
       "      <th>Врем. сопротивление</th>\n",
       "      <th>Предел текучести</th>\n",
       "    </tr>\n",
       "  </thead>\n",
       "  <tbody>\n",
       "    <tr>\n",
       "      <th>count</th>\n",
       "      <td>5.500000e+01</td>\n",
       "      <td>48.000000</td>\n",
       "      <td>48.000000</td>\n",
       "    </tr>\n",
       "    <tr>\n",
       "      <th>mean</th>\n",
       "      <td>2.000000e-01</td>\n",
       "      <td>73.983333</td>\n",
       "      <td>57.947917</td>\n",
       "    </tr>\n",
       "    <tr>\n",
       "      <th>std</th>\n",
       "      <td>1.120456e-16</td>\n",
       "      <td>15.065408</td>\n",
       "      <td>11.931649</td>\n",
       "    </tr>\n",
       "    <tr>\n",
       "      <th>min</th>\n",
       "      <td>2.000000e-01</td>\n",
       "      <td>53.500000</td>\n",
       "      <td>44.000000</td>\n",
       "    </tr>\n",
       "    <tr>\n",
       "      <th>25%</th>\n",
       "      <td>2.000000e-01</td>\n",
       "      <td>56.750000</td>\n",
       "      <td>46.000000</td>\n",
       "    </tr>\n",
       "    <tr>\n",
       "      <th>50%</th>\n",
       "      <td>2.000000e-01</td>\n",
       "      <td>80.500000</td>\n",
       "      <td>59.250000</td>\n",
       "    </tr>\n",
       "    <tr>\n",
       "      <th>75%</th>\n",
       "      <td>2.000000e-01</td>\n",
       "      <td>86.625000</td>\n",
       "      <td>65.250000</td>\n",
       "    </tr>\n",
       "    <tr>\n",
       "      <th>max</th>\n",
       "      <td>2.000000e-01</td>\n",
       "      <td>99.000000</td>\n",
       "      <td>89.000000</td>\n",
       "    </tr>\n",
       "  </tbody>\n",
       "</table>\n",
       "</div>"
      ],
      "text/plain": [
       "       Тип предела текучести (1186)  Врем. сопротивление  Предел текучести\n",
       "count                  5.500000e+01            48.000000         48.000000\n",
       "mean                   2.000000e-01            73.983333         57.947917\n",
       "std                    1.120456e-16            15.065408         11.931649\n",
       "min                    2.000000e-01            53.500000         44.000000\n",
       "25%                    2.000000e-01            56.750000         46.000000\n",
       "50%                    2.000000e-01            80.500000         59.250000\n",
       "75%                    2.000000e-01            86.625000         65.250000\n",
       "max                    2.000000e-01            99.000000         89.000000"
      ]
     },
     "execution_count": 123,
     "metadata": {},
     "output_type": "execute_result"
    }
   ],
   "source": [
    "scr_df.describe()"
   ]
  },
  {
   "cell_type": "code",
   "execution_count": 124,
   "metadata": {
    "collapsed": true
   },
   "outputs": [],
   "source": [
    "scr_df = pd.concat([scr_df, scr_df2])"
   ]
  },
  {
   "cell_type": "code",
   "execution_count": 125,
   "metadata": {
    "collapsed": true
   },
   "outputs": [],
   "source": [
    "# scr_df[scr_df['№ партии']=='712261']"
   ]
  },
  {
   "cell_type": "code",
   "execution_count": 126,
   "metadata": {
    "collapsed": true
   },
   "outputs": [],
   "source": [
    "scr_df['№ партии']=scr_df['№ партии'].apply(lambda x: str(x))"
   ]
  },
  {
   "cell_type": "code",
   "execution_count": 127,
   "metadata": {},
   "outputs": [
    {
     "data": {
      "text/plain": [
       "(193, 8)"
      ]
     },
     "execution_count": 127,
     "metadata": {},
     "output_type": "execute_result"
    }
   ],
   "source": [
    "scr_df.shape"
   ]
  },
  {
   "cell_type": "code",
   "execution_count": 128,
   "metadata": {},
   "outputs": [
    {
     "data": {
      "text/plain": [
       "(191, 8)"
      ]
     },
     "execution_count": 128,
     "metadata": {},
     "output_type": "execute_result"
    }
   ],
   "source": [
    "scr_df.drop_duplicates(inplace = True)\n",
    "scr_df.shape"
   ]
  },
  {
   "cell_type": "code",
   "execution_count": 129,
   "metadata": {},
   "outputs": [],
   "source": [
    "scr_df['Дата форм. цехом'] = scr_df['Дата форм. цехом'].apply(lambda x: datetime.strptime(x, \"%d.%m.%Y\"))\n",
    "# dt = datetime.strptime(\"01.02.2016\", \"%d.%m.%Y\")\n",
    "# dt"
   ]
  },
  {
   "cell_type": "code",
   "execution_count": 130,
   "metadata": {
    "collapsed": true
   },
   "outputs": [],
   "source": [
    "scr_df.reset_index(inplace=True,drop=True)"
   ]
  },
  {
   "cell_type": "code",
   "execution_count": 131,
   "metadata": {
    "collapsed": true
   },
   "outputs": [],
   "source": [
    "def part_in_df(df):\n",
    "    tmp = df[df['№ партии']=='712261'].copy()\n",
    "    return tmp"
   ]
  },
  {
   "cell_type": "code",
   "execution_count": 132,
   "metadata": {
    "collapsed": true
   },
   "outputs": [],
   "source": [
    "undupl = scr_df[~scr_df[['№ плавки', '№ партии']].duplicated(keep = False)]"
   ]
  },
  {
   "cell_type": "code",
   "execution_count": 133,
   "metadata": {
    "collapsed": true
   },
   "outputs": [],
   "source": [
    "dupl_need_to_mean = scr_df[scr_df[['№ плавки', '№ партии']].duplicated(keep = False)]\n",
    "# sort_values(['№ партии', 'Дата форм. цехом'])"
   ]
  },
  {
   "cell_type": "code",
   "execution_count": 134,
   "metadata": {},
   "outputs": [
    {
     "data": {
      "text/plain": [
       "((109, 8), (82, 8), 191)"
      ]
     },
     "execution_count": 134,
     "metadata": {},
     "output_type": "execute_result"
    }
   ],
   "source": [
    "dupl_need_to_mean.shape, undupl.shape, dupl_need_to_mean.shape[0]+undupl.shape[0]"
   ]
  },
  {
   "cell_type": "code",
   "execution_count": 135,
   "metadata": {
    "collapsed": true
   },
   "outputs": [],
   "source": [
    "def mean_func(x):    \n",
    "    if min(x['Дата форм. цехом'])!=max(x['Дата форм. цехом']):\n",
    "        x = x[x['Дата форм. цехом']==max(x['Дата форм. цехом'])]\n",
    "        if abs(min(x['Врем. сопротивление'])-max(x['Врем. сопротивление']))<=5:\n",
    "            x['Врем. сопротивление'] = x['Врем. сопротивление'].mean()\n",
    "        else:\n",
    "            x['Врем. сопротивление'] = None\n",
    "        if abs(min(x['Предел текучести'])-max(x['Предел текучести']))<=10:\n",
    "            x['Предел текучести'] = x['Предел текучести'].mean()\n",
    "        else:\n",
    "            x['Предел текучести'] = None\n",
    "    else:\n",
    "        x['Врем. сопротивление'] = x['Врем. сопротивление'].mean()\n",
    "        x['Предел текучести'] = x['Предел текучести'].mean()\n",
    "#     print(x)\n",
    "    return x.mean()"
   ]
  },
  {
   "cell_type": "code",
   "execution_count": 136,
   "metadata": {
    "collapsed": true
   },
   "outputs": [],
   "source": [
    "def mean_func(x):\n",
    "    if min(x['Дата форм. цехом'])!=max(x['Дата форм. цехом']):\n",
    "        x = x[x['Дата форм. цехом']==max(x['Дата форм. цехом'])]\n",
    "        x['Врем. сопротивление'] = x['Врем. сопротивление'].mean()\n",
    "        x['Предел текучести'] = x['Предел текучести'].mean()\n",
    "    else:\n",
    "        x['Врем. сопротивление'] = x['Врем. сопротивление'].mean()\n",
    "        x['Предел текучести'] = x['Предел текучести'].mean()\n",
    "    return x.mean()"
   ]
  },
  {
   "cell_type": "code",
   "execution_count": 137,
   "metadata": {
    "collapsed": true
   },
   "outputs": [],
   "source": [
    "def isnull(df):\n",
    "    return df[pd.isnull(df['Тип предела текучести (1186)'])].shape"
   ]
  },
  {
   "cell_type": "code",
   "execution_count": 138,
   "metadata": {
    "collapsed": true
   },
   "outputs": [],
   "source": [
    "# dupl_need_to_mean.shape\n",
    "# part_in_df(dupl_need_to_mean)\n",
    "# isnull(y)"
   ]
  },
  {
   "cell_type": "code",
   "execution_count": 139,
   "metadata": {},
   "outputs": [
    {
     "ename": "KeyError",
     "evalue": "'Гр. прочн.'",
     "output_type": "error",
     "traceback": [
      "\u001b[1;31m---------------------------------------------------------------------------\u001b[0m",
      "\u001b[1;31mKeyError\u001b[0m                                  Traceback (most recent call last)",
      "\u001b[1;32m<ipython-input-139-daee80d8ef85>\u001b[0m in \u001b[0;36m<module>\u001b[1;34m()\u001b[0m\n\u001b[0;32m      3\u001b[0m     \u001b[1;34m'№ партии'\u001b[0m\u001b[1;33m,\u001b[0m\u001b[1;33m\u001b[0m\u001b[0m\n\u001b[0;32m      4\u001b[0m     \u001b[1;34m'Тип предела текучести (1186)'\u001b[0m\u001b[1;33m,\u001b[0m\u001b[1;33m\u001b[0m\u001b[0m\n\u001b[1;32m----> 5\u001b[1;33m     \u001b[1;34m'ГОСТ, ТУ'\u001b[0m\u001b[1;33m,\u001b[0m \u001b[1;34m'Гр. прочн.'\u001b[0m\u001b[1;33m\u001b[0m\u001b[0m\n\u001b[0m\u001b[0;32m      6\u001b[0m ])[\n\u001b[0;32m      7\u001b[0m     \u001b[1;34m'Дата форм. цехом'\u001b[0m\u001b[1;33m,\u001b[0m\u001b[1;33m\u001b[0m\u001b[0m\n",
      "\u001b[1;32mD:\\Repo\\Anaconda2\\envs\\myenv\\lib\\site-packages\\pandas\\core\\generic.py\u001b[0m in \u001b[0;36mgroupby\u001b[1;34m(self, by, axis, level, as_index, sort, group_keys, squeeze, **kwargs)\u001b[0m\n\u001b[0;32m   5160\u001b[0m         return groupby(self, by=by, axis=axis, level=level, as_index=as_index,\n\u001b[0;32m   5161\u001b[0m                        \u001b[0msort\u001b[0m\u001b[1;33m=\u001b[0m\u001b[0msort\u001b[0m\u001b[1;33m,\u001b[0m \u001b[0mgroup_keys\u001b[0m\u001b[1;33m=\u001b[0m\u001b[0mgroup_keys\u001b[0m\u001b[1;33m,\u001b[0m \u001b[0msqueeze\u001b[0m\u001b[1;33m=\u001b[0m\u001b[0msqueeze\u001b[0m\u001b[1;33m,\u001b[0m\u001b[1;33m\u001b[0m\u001b[0m\n\u001b[1;32m-> 5162\u001b[1;33m                        **kwargs)\n\u001b[0m\u001b[0;32m   5163\u001b[0m \u001b[1;33m\u001b[0m\u001b[0m\n\u001b[0;32m   5164\u001b[0m     def asfreq(self, freq, method=None, how=None, normalize=False,\n",
      "\u001b[1;32mD:\\Repo\\Anaconda2\\envs\\myenv\\lib\\site-packages\\pandas\\core\\groupby.py\u001b[0m in \u001b[0;36mgroupby\u001b[1;34m(obj, by, **kwds)\u001b[0m\n\u001b[0;32m   1846\u001b[0m         \u001b[1;32mraise\u001b[0m \u001b[0mTypeError\u001b[0m\u001b[1;33m(\u001b[0m\u001b[1;34m'invalid type: %s'\u001b[0m \u001b[1;33m%\u001b[0m \u001b[0mtype\u001b[0m\u001b[1;33m(\u001b[0m\u001b[0mobj\u001b[0m\u001b[1;33m)\u001b[0m\u001b[1;33m)\u001b[0m\u001b[1;33m\u001b[0m\u001b[0m\n\u001b[0;32m   1847\u001b[0m \u001b[1;33m\u001b[0m\u001b[0m\n\u001b[1;32m-> 1848\u001b[1;33m     \u001b[1;32mreturn\u001b[0m \u001b[0mklass\u001b[0m\u001b[1;33m(\u001b[0m\u001b[0mobj\u001b[0m\u001b[1;33m,\u001b[0m \u001b[0mby\u001b[0m\u001b[1;33m,\u001b[0m \u001b[1;33m**\u001b[0m\u001b[0mkwds\u001b[0m\u001b[1;33m)\u001b[0m\u001b[1;33m\u001b[0m\u001b[0m\n\u001b[0m\u001b[0;32m   1849\u001b[0m \u001b[1;33m\u001b[0m\u001b[0m\n\u001b[0;32m   1850\u001b[0m \u001b[1;33m\u001b[0m\u001b[0m\n",
      "\u001b[1;32mD:\\Repo\\Anaconda2\\envs\\myenv\\lib\\site-packages\\pandas\\core\\groupby.py\u001b[0m in \u001b[0;36m__init__\u001b[1;34m(self, obj, keys, axis, level, grouper, exclusions, selection, as_index, sort, group_keys, squeeze, **kwargs)\u001b[0m\n\u001b[0;32m    514\u001b[0m                                                     \u001b[0mlevel\u001b[0m\u001b[1;33m=\u001b[0m\u001b[0mlevel\u001b[0m\u001b[1;33m,\u001b[0m\u001b[1;33m\u001b[0m\u001b[0m\n\u001b[0;32m    515\u001b[0m                                                     \u001b[0msort\u001b[0m\u001b[1;33m=\u001b[0m\u001b[0msort\u001b[0m\u001b[1;33m,\u001b[0m\u001b[1;33m\u001b[0m\u001b[0m\n\u001b[1;32m--> 516\u001b[1;33m                                                     mutated=self.mutated)\n\u001b[0m\u001b[0;32m    517\u001b[0m \u001b[1;33m\u001b[0m\u001b[0m\n\u001b[0;32m    518\u001b[0m         \u001b[0mself\u001b[0m\u001b[1;33m.\u001b[0m\u001b[0mobj\u001b[0m \u001b[1;33m=\u001b[0m \u001b[0mobj\u001b[0m\u001b[1;33m\u001b[0m\u001b[0m\n",
      "\u001b[1;32mD:\\Repo\\Anaconda2\\envs\\myenv\\lib\\site-packages\\pandas\\core\\groupby.py\u001b[0m in \u001b[0;36m_get_grouper\u001b[1;34m(obj, key, axis, level, sort, mutated, validate)\u001b[0m\n\u001b[0;32m   2932\u001b[0m                 \u001b[0min_axis\u001b[0m\u001b[1;33m,\u001b[0m \u001b[0mname\u001b[0m\u001b[1;33m,\u001b[0m \u001b[0mlevel\u001b[0m\u001b[1;33m,\u001b[0m \u001b[0mgpr\u001b[0m \u001b[1;33m=\u001b[0m \u001b[1;32mFalse\u001b[0m\u001b[1;33m,\u001b[0m \u001b[1;32mNone\u001b[0m\u001b[1;33m,\u001b[0m \u001b[0mgpr\u001b[0m\u001b[1;33m,\u001b[0m \u001b[1;32mNone\u001b[0m\u001b[1;33m\u001b[0m\u001b[0m\n\u001b[0;32m   2933\u001b[0m             \u001b[1;32melse\u001b[0m\u001b[1;33m:\u001b[0m\u001b[1;33m\u001b[0m\u001b[0m\n\u001b[1;32m-> 2934\u001b[1;33m                 \u001b[1;32mraise\u001b[0m \u001b[0mKeyError\u001b[0m\u001b[1;33m(\u001b[0m\u001b[0mgpr\u001b[0m\u001b[1;33m)\u001b[0m\u001b[1;33m\u001b[0m\u001b[0m\n\u001b[0m\u001b[0;32m   2935\u001b[0m         \u001b[1;32melif\u001b[0m \u001b[0misinstance\u001b[0m\u001b[1;33m(\u001b[0m\u001b[0mgpr\u001b[0m\u001b[1;33m,\u001b[0m \u001b[0mGrouper\u001b[0m\u001b[1;33m)\u001b[0m \u001b[1;32mand\u001b[0m \u001b[0mgpr\u001b[0m\u001b[1;33m.\u001b[0m\u001b[0mkey\u001b[0m \u001b[1;32mis\u001b[0m \u001b[1;32mnot\u001b[0m \u001b[1;32mNone\u001b[0m\u001b[1;33m:\u001b[0m\u001b[1;33m\u001b[0m\u001b[0m\n\u001b[0;32m   2936\u001b[0m             \u001b[1;31m# Add key to exclusions\u001b[0m\u001b[1;33m\u001b[0m\u001b[1;33m\u001b[0m\u001b[0m\n",
      "\u001b[1;31mKeyError\u001b[0m: 'Гр. прочн.'"
     ]
    }
   ],
   "source": [
    "y = dupl_need_to_mean.groupby([\n",
    "    '№ плавки', \n",
    "    '№ партии', \n",
    "    'Тип предела текучести (1186)',\n",
    "    'ГОСТ, ТУ', 'Гр. прочн.'\n",
    "])[\n",
    "    'Дата форм. цехом',\n",
    "    'Врем. сопротивление',\n",
    "    'Предел текучести'].apply(mean_func)"
   ]
  },
  {
   "cell_type": "code",
   "execution_count": 84,
   "metadata": {
    "collapsed": true
   },
   "outputs": [],
   "source": [
    "y.reset_index(inplace=True)"
   ]
  },
  {
   "cell_type": "code",
   "execution_count": 85,
   "metadata": {},
   "outputs": [
    {
     "data": {
      "text/plain": [
       "Index(['807030', '807031', '806480', '807067', '807044', '807047', '07Б44',\n",
       "       '807040', '807056', '807062', '807046', '807041', '807045', '807058',\n",
       "       '807042', '807034', '807064', '807063', '807059', '807057', '807048',\n",
       "       '807066', '807060', '807043', '807068', '443', '807061', '807065',\n",
       "       '807055'],\n",
       "      dtype='object')"
      ]
     },
     "execution_count": 85,
     "metadata": {},
     "output_type": "execute_result"
    }
   ],
   "source": [
    "y['№ партии'].value_counts().index"
   ]
  },
  {
   "cell_type": "code",
   "execution_count": 86,
   "metadata": {
    "collapsed": true
   },
   "outputs": [],
   "source": [
    "y = y[~y[['№ плавки', '№ партии', 'Тип предела текучести (1186)']].duplicated(keep = False)]"
   ]
  },
  {
   "cell_type": "code",
   "execution_count": 87,
   "metadata": {},
   "outputs": [
    {
     "data": {
      "text/html": [
       "<div>\n",
       "<style scoped>\n",
       "    .dataframe tbody tr th:only-of-type {\n",
       "        vertical-align: middle;\n",
       "    }\n",
       "\n",
       "    .dataframe tbody tr th {\n",
       "        vertical-align: top;\n",
       "    }\n",
       "\n",
       "    .dataframe thead th {\n",
       "        text-align: right;\n",
       "    }\n",
       "</style>\n",
       "<table border=\"1\" class=\"dataframe\">\n",
       "  <thead>\n",
       "    <tr style=\"text-align: right;\">\n",
       "      <th></th>\n",
       "      <th>№ плавки</th>\n",
       "      <th>№ партии</th>\n",
       "      <th>Тип предела текучести (1186)</th>\n",
       "      <th>ГОСТ, ТУ</th>\n",
       "      <th>Врем. сопротивление</th>\n",
       "      <th>Предел текучести</th>\n",
       "    </tr>\n",
       "  </thead>\n",
       "  <tbody>\n",
       "  </tbody>\n",
       "</table>\n",
       "</div>"
      ],
      "text/plain": [
       "Empty DataFrame\n",
       "Columns: [№ плавки, № партии, Тип предела текучести (1186), ГОСТ, ТУ, Врем. сопротивление, Предел текучести]\n",
       "Index: []"
      ]
     },
     "execution_count": 87,
     "metadata": {},
     "output_type": "execute_result"
    }
   ],
   "source": [
    "y[y[['№ плавки', '№ партии', 'Тип предела текучести (1186)']].duplicated(keep = False)]"
   ]
  },
  {
   "cell_type": "code",
   "execution_count": 88,
   "metadata": {
    "collapsed": true
   },
   "outputs": [],
   "source": [
    "# y.reset_index(inplace=True)\n",
    "# y = y.dropna()\n",
    "# y"
   ]
  },
  {
   "cell_type": "code",
   "execution_count": 89,
   "metadata": {
    "collapsed": true
   },
   "outputs": [],
   "source": [
    "# dupl_need_to_mean.sort_values(['№ партии', 'Дата форм. цехом'])"
   ]
  },
  {
   "cell_type": "code",
   "execution_count": 90,
   "metadata": {},
   "outputs": [
    {
     "data": {
      "text/plain": [
       "(32, 6)"
      ]
     },
     "execution_count": 90,
     "metadata": {},
     "output_type": "execute_result"
    }
   ],
   "source": [
    "y.shape"
   ]
  },
  {
   "cell_type": "code",
   "execution_count": 91,
   "metadata": {
    "collapsed": true
   },
   "outputs": [],
   "source": [
    "tmp = undupl[['№ плавки', '№ партии', 'Тип предела текучести (1186)',\n",
    "    'Врем. сопротивление',\n",
    "    'Предел текучести']]\n",
    "y = pd.concat([y, tmp])"
   ]
  },
  {
   "cell_type": "code",
   "execution_count": 92,
   "metadata": {},
   "outputs": [
    {
     "data": {
      "text/plain": [
       "(114, 6)"
      ]
     },
     "execution_count": 92,
     "metadata": {},
     "output_type": "execute_result"
    }
   ],
   "source": [
    "y.drop_duplicates(inplace = True)\n",
    "y.shape"
   ]
  },
  {
   "cell_type": "code",
   "execution_count": 93,
   "metadata": {
    "collapsed": true
   },
   "outputs": [],
   "source": [
    "y.to_excel('DATA/prepared/table_stretching_jule.xlsx')"
   ]
  }
 ],
 "metadata": {
  "kernelspec": {
   "display_name": "Python 3",
   "language": "python",
   "name": "python3"
  },
  "language_info": {
   "codemirror_mode": {
    "name": "ipython",
    "version": 3
   },
   "file_extension": ".py",
   "mimetype": "text/x-python",
   "name": "python",
   "nbconvert_exporter": "python",
   "pygments_lexer": "ipython3",
   "version": "3.6.4"
  }
 },
 "nbformat": 4,
 "nbformat_minor": 2
}
