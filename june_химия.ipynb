{
 "cells": [
  {
   "cell_type": "code",
   "execution_count": 6,
   "metadata": {},
   "outputs": [],
   "source": [
    "import pandas as pd\n",
    "import numpy as np\n",
    "import warnings\n",
    "import re\n",
    "import math\n",
    "# warnings.filterwarnings(\"ignore\")\n",
    "pd.options.display.max_columns = 100\n",
    "pd.options.display.max_rows = 1000\n",
    "\n",
    "chem_list = [\n",
    "    u'C',\n",
    "    u'Mn',\n",
    "    u'Si',\n",
    "    u'P',\n",
    "    u'S',\n",
    "    u'Cr',\n",
    "    u'Ni',\n",
    "    u'Cu',\n",
    "    u'Al',\n",
    "    u'V',\n",
    "    u'Ti',\n",
    "    u'Nb',\n",
    "    u'Mo',\n",
    "    u'N',\n",
    "    u'B'\n",
    "]\n",
    "\n",
    "def ch2f(x):\n",
    "    if (type(x)==float) | (type(x)==int):\n",
    "        x = str(x)\n",
    "    if u'г' in x:\n",
    "        print(x)\n",
    "        x = x.replace(u'г.п.', '')\n",
    "        x = x.replace(u'гп', '')\n",
    "        x = str(x)\n",
    "    if u'0.012. 0.014. 0.013' in str(x):\n",
    "        x = x.replace(u'0.012. 0.014. 0.013', u'0.013')\n",
    "    if x[-4:-2]=='e-':\n",
    "        return float(x)\n",
    "    elif '-' in str(x): \n",
    "#         print(x)\n",
    "        x = x.replace(' ', '')\n",
    "        x = str(x) + '0'\n",
    "        tmp_map = list(map(float, str(x).replace(',', '.').split('-')))\n",
    "        if (abs(tmp_map[-1]-tmp_map[-2])>0.05) | (tmp_map[-1]==0):\n",
    "            return np.mean(tmp_map[:-1])\n",
    "        else:\n",
    "            return np.mean(tmp_map)\n",
    "    else:\n",
    "        return float(str(x).replace(',', '.'))\n",
    "\n",
    "\n",
    "# подгрузка всех файлов испытаний\n",
    "import os\n",
    "dr = 'DATA/июнь 20-26/июнь испытания 2018 yu.xls'\n",
    "\n",
    "# файлы в словарь доступ по имени файла ({имя файла: словарь датафреймов файла} )\n",
    "exp_files = pd.read_excel(dr, None)\n",
    "#     print(name)"
   ]
  },
  {
   "cell_type": "code",
   "execution_count": 9,
   "metadata": {},
   "outputs": [],
   "source": [
    "\n",
    "# номера плавок приводим к единому регистру (нижнему)\n",
    "for l in exp_files:\n",
    "    if '№ плавки' in exp_files[l]:\n",
    "        exp_files[l]['№ плавки'] = exp_files[l]['№ плавки'].astype(str).str.lower()\n",
    "    if '№ партии' in exp_files[l]:\n",
    "        exp_files[l]['№ партии'] = exp_files[l]['№ партии'].astype(str).str.lower()\n",
    "\n",
    "# создаем единую таблицу с химией\n",
    "chemistry = []\n",
    "chemistry = exp_files['Хим.анализ плавок']"
   ]
  },
  {
   "cell_type": "code",
   "execution_count": 11,
   "metadata": {},
   "outputs": [],
   "source": [
    "chemistry[u'№ плавки'] = chemistry[u'№ плавки'].astype(str)"
   ]
  },
  {
   "cell_type": "code",
   "execution_count": 12,
   "metadata": {},
   "outputs": [
    {
     "data": {
      "text/plain": [
       "(133, 104)"
      ]
     },
     "execution_count": 12,
     "metadata": {},
     "output_type": "execute_result"
    }
   ],
   "source": [
    "for el in chem_list:\n",
    "    chemistry[el]=chemistry[el].apply(ch2f)\n",
    "\n",
    "def get_more_chem(x):\n",
    "    for el in x:\n",
    "        for i in x[el]:\n",
    "            if i!=None:\n",
    "                x[el] = i\n",
    "    return x\n",
    "                \n",
    "chemistry = chemistry.groupby('№ плавки').apply(get_more_chem)\n",
    "\n",
    "chemistry.drop_duplicates(inplace=True)\n",
    "chemistry.shape"
   ]
  },
  {
   "cell_type": "code",
   "execution_count": 13,
   "metadata": {},
   "outputs": [
    {
     "data": {
      "text/plain": [
       "(168, 21)"
      ]
     },
     "execution_count": 13,
     "metadata": {},
     "output_type": "execute_result"
    }
   ],
   "source": [
    "# подгружаем режимы\n",
    "mode = pd.read_excel('DATA/prepared/valid_june.xlsx')\n",
    "mode.shape\n",
    "mode[u'№ плавки'] = mode[u'№ плавки'].astype(str)\n",
    "mode.shape"
   ]
  },
  {
   "cell_type": "code",
   "execution_count": 14,
   "metadata": {},
   "outputs": [
    {
     "name": "stdout",
     "output_type": "stream",
     "text": [
      "(168, 124)\n"
     ]
    }
   ],
   "source": [
    "merge_table = pd.merge(mode, chemistry, how ='left', on=['№ плавки'])\n",
    "print(merge_table.shape)"
   ]
  },
  {
   "cell_type": "code",
   "execution_count": 15,
   "metadata": {},
   "outputs": [
    {
     "name": "stdout",
     "output_type": "stream",
     "text": [
      "(165, 124)\n"
     ]
    }
   ],
   "source": [
    "merge_table = merge_table[merge_table['C'].notnull()]\n",
    "print(merge_table.shape)"
   ]
  },
  {
   "cell_type": "code",
   "execution_count": 17,
   "metadata": {
    "scrolled": true
   },
   "outputs": [
    {
     "data": {
      "text/plain": [
       "(165, 124)"
      ]
     },
     "execution_count": 17,
     "metadata": {},
     "output_type": "execute_result"
    }
   ],
   "source": [
    "copy_merge_table = merge_table.copy()\n",
    "copy_merge_table.shape"
   ]
  },
  {
   "cell_type": "code",
   "execution_count": 18,
   "metadata": {},
   "outputs": [
    {
     "name": "stdout",
     "output_type": "stream",
     "text": [
      "удалено строк: 1 причина Cr 18ХМФБ\n",
      "удалено строк: 2 причина C 37Г2Ф\n"
     ]
    }
   ],
   "source": [
    "def clean_by_chem(df, mark, el, right_b, left_b=None):\n",
    "    tmp = df.shape[0]\n",
    "    if left_b==None:\n",
    "        df = df[((df['марка стали']==mark) & ((df[el]<=right_b)|(pd.isnull(df[el]))))| (df['марка стали']!=mark)]\n",
    "    else:\n",
    "        df = df[((df['марка стали']==mark) & ((df[el]<=right_b)|(pd.isnull(df[el]))) & ((df[el]>=left_b)|(pd.isnull(df[el])))) | (df['марка стали']!=mark)]\n",
    "#     print(df.shape)\n",
    "    if (df.shape[0]-tmp!=0):\n",
    "        print('удалено строк:', np.abs(df.shape[0]-tmp), 'причина', el, mark)\n",
    "    return df\n",
    "\n",
    "def clean_all_mark_chem(merge_table):\n",
    "    # чистим 09Г2C\n",
    "    merge_table = clean_by_chem(merge_table, '09Г2С', 'C', 0.14, 0.03)\n",
    "    merge_table = clean_by_chem(merge_table, '09Г2С', 'Mn', 1.8, 1)\n",
    "    merge_table = clean_by_chem(merge_table, '09Г2С', 'Si', 0.75, 0.45)\n",
    "    merge_table = clean_by_chem(merge_table, '09Г2С', 'S', 0.05)\n",
    "    merge_table = clean_by_chem(merge_table, '09Г2С', 'P', 0.05)\n",
    "    merge_table = clean_by_chem(merge_table, '09Г2С', 'Al', 0.06, 0.015)\n",
    "    merge_table = clean_by_chem(merge_table, '09Г2С', 'Ti', 0.035)\n",
    "    merge_table = clean_by_chem(merge_table, '09Г2С', 'Ni', 0.3)\n",
    "    merge_table = clean_by_chem(merge_table, '09Г2С', 'Cr', 0.3)\n",
    "    merge_table = clean_by_chem(merge_table, '09Г2С', 'Cu', 0.3)\n",
    "    # чистим 13ХФА\n",
    "    merge_table = clean_by_chem(merge_table, '13ХФА', 'C', 0.19, 0.1)\n",
    "    merge_table = clean_by_chem(merge_table, '13ХФА', 'Mn', 0.7, 0.3)\n",
    "    merge_table = clean_by_chem(merge_table, '13ХФА', 'Si', 0.4, 0.13)\n",
    "    merge_table = clean_by_chem(merge_table, '13ХФА', 'Cr', 0.8, 0.4)\n",
    "    merge_table = clean_by_chem(merge_table, '13ХФА', 'V', 0.08, 0.02)\n",
    "    # чистим 30Г2\n",
    "    merge_table = clean_by_chem(merge_table, '30Г2', 'C', 0.35, 0.25)\n",
    "    merge_table = clean_by_chem(merge_table, '30Г2', 'Mn', 1.6, 0.7)\n",
    "    merge_table = clean_by_chem(merge_table, '30Г2', 'Si', 0.5, 0.13)\n",
    "    # чистим 18ХМФБ\n",
    "    merge_table = clean_by_chem(merge_table, '18ХМФБ', 'C', 0.25, 0.12)\n",
    "    merge_table = clean_by_chem(merge_table, '18ХМФБ', 'Mn', 0.7, 0.3)\n",
    "    merge_table = clean_by_chem(merge_table, '18ХМФБ', 'Si', 0.5, 0.13)\n",
    "    merge_table = clean_by_chem(merge_table, '18ХМФБ', 'Cr', 1.2, 0.45)\n",
    "    merge_table = clean_by_chem(merge_table, '18ХМФБ', 'Mo', 0.4, 0.1)\n",
    "    merge_table = clean_by_chem(merge_table, '18ХМФБ', 'V', 0.12, 0.02)\n",
    "    merge_table = clean_by_chem(merge_table, '18ХМФБ', 'Nb', 0.08, 0.015)\n",
    "    # чистим 37Г2Ф\n",
    "    merge_table = clean_by_chem(merge_table, '37Г2Ф', 'C', 0.45, 0.35)\n",
    "    merge_table = clean_by_chem(merge_table, '37Г2Ф', 'Mn', 1.8, 0.7)\n",
    "    merge_table = clean_by_chem(merge_table, '37Г2Ф', 'Si', 0.5, 0.13)\n",
    "    merge_table = clean_by_chem(merge_table, '37Г2Ф', 'V', 0.12, 0.02)\n",
    "    return merge_table\n",
    "\n",
    "# merge_table[merge_table['№ партии']==203010]\n",
    "\n",
    "merge_table = clean_all_mark_chem(merge_table)\n",
    "merge_table.shape\n",
    "\n",
    "\n",
    "merge_table.to_excel('DATA/prepared/june_merge_table_mean_chem.xlsx')"
   ]
  }
 ],
 "metadata": {
  "kernelspec": {
   "display_name": "Python 3",
   "language": "python",
   "name": "python3"
  },
  "language_info": {
   "codemirror_mode": {
    "name": "ipython",
    "version": 3
   },
   "file_extension": ".py",
   "mimetype": "text/x-python",
   "name": "python",
   "nbconvert_exporter": "python",
   "pygments_lexer": "ipython3",
   "version": "3.6.4"
  }
 },
 "nbformat": 4,
 "nbformat_minor": 2
}
