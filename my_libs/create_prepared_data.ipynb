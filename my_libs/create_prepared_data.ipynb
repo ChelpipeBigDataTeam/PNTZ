{
 "cells": [
  {
   "cell_type": "code",
   "execution_count": 2,
   "metadata": {},
   "outputs": [
    {
     "name": "stdout",
     "output_type": "stream",
     "text": [
      "importing Jupyter notebook from df_converter.ipynb\n",
      "importing Jupyter notebook from calc_features.ipynb\n",
      "importing Jupyter notebook from data_paths.ipynb\n"
     ]
    }
   ],
   "source": [
    "from __future__ import division, print_function\n",
    "import sklearn\n",
    "import pandas as pd\n",
    "import numpy as np\n",
    "import os\n",
    "import import_ipynb\n",
    "\n",
    "from my_libs.df_converter import lowerstr\n",
    "from my_libs.calc_features import make_prepared\n",
    "import my_libs.data_paths as dp\n",
    "\n",
    "# from df_converter import lowerstr\n",
    "# from calc_features import make_prepared\n",
    "# import data_paths as dp\n",
    "pd.options.display.max_columns = 100\n",
    "pd.options.display.max_rows = 1000"
   ]
  },
  {
   "cell_type": "code",
   "execution_count": 15,
   "metadata": {
    "collapsed": true
   },
   "outputs": [],
   "source": [
    "chem = {\n",
    "    'Mn': 0,  \n",
    "    'P': 0,\n",
    "    'Cr': 0,\n",
    "    'V': 0, \n",
    "    'Mo': 0, \n",
    "    'Ti': 0, \n",
    "    'Nb': 0, \n",
    "    'N': 0.004, \n",
    "    'S': 0}"
   ]
  },
  {
   "cell_type": "code",
   "execution_count": 16,
   "metadata": {
    "collapsed": true
   },
   "outputs": [],
   "source": [
    "def create_prepared_data(general_modes_chem_filename=dp.general_modes_chem,\n",
    "                         valid_modes_chem_filename=dp.valid_modes_chem,\n",
    "                         exp_filename=dp.scretching,\n",
    "                         prepared_general_filename=dp.general_prepared,\n",
    "                         prepared_valid_filename=dp.valid_prepared,\n",
    "                         ys_type = None\n",
    "                        ):\n",
    "    \"\"\"Из трех файлов (два с режимами основной и валидация, и третий с испытанием) формируем два файла \n",
    "    с данными подготовленными для формирования датасета \n",
    "    \n",
    "    Keyword arguments:\n",
    "    general_modes_chem_filename, valid_modes_chem_filename -  имена файлов с режимами и химией (лежать должны в папке с промежуточными файлами)\n",
    "    \n",
    "    exp_filename - имя файла с испытаниями (лежать должен в папке с промежуточными файлами)\n",
    "     \n",
    "    prepared_general_filename, prepared_valid_filename -  имена файлов для сохранения (создаются в папке с промежуточными файлами)\n",
    "    \n",
    "    ys_type -- тип предела текучести по котрому отделять датафрейм (по умолчанию возвращает со всеми типами) (число, если нужно вернуть все то None) \n",
    "    \n",
    "    \n",
    "    Возвращает: [general_df, valid_df] список из двух датафреймов, которые сохраняются в prepared файлы (сначала общий, потом валид) \n",
    "    \n",
    "    \"\"\"\n",
    "    \n",
    "    general_df = pd.read_excel(dp.between_data_path+general_modes_chem_filename)\n",
    "    valid_df = pd.read_excel(dp.between_data_path+valid_modes_chem_filename)\n",
    "    exp_df = pd.read_excel(dp.between_data_path+exp_filename)\n",
    "    exp_df = lowerstr(exp_df)\n",
    "    valid_df['№ партии'] = valid_df['№ партии'].apply(lambda x: str(x).replace('.0', ''))\n",
    "    general_df = make_prepared(general_df, exp_df, chem)\n",
    "    valid_df = make_prepared(valid_df, exp_df, chem)  \n",
    "    if ys_type!= None:\n",
    "        general_df = general_df[general_df['Тип предела текучести (1186)']==ys_type]\n",
    "        valid_df = valid_df[valid_df['Тип предела текучести (1186)']==ys_type]\n",
    "        print('shapы после отсечения по типу текучести', general_df.shape, valid_df.shape)\n",
    "    general_df.to_excel(dp.between_data_path+prepared_general_filename)\n",
    "    valid_df.to_excel(dp.between_data_path+prepared_valid_filename)\n",
    "    return [general_df, valid_df]"
   ]
  }
 ],
 "metadata": {
  "kernelspec": {
   "display_name": "Python 3",
   "language": "python",
   "name": "python3"
  },
  "language_info": {
   "codemirror_mode": {
    "name": "ipython",
    "version": 3
   },
   "file_extension": ".py",
   "mimetype": "text/x-python",
   "name": "python",
   "nbconvert_exporter": "python",
   "pygments_lexer": "ipython3",
   "version": "3.6.4"
  }
 },
 "nbformat": 4,
 "nbformat_minor": 2
}
