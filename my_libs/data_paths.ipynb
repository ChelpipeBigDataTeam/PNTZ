{
 "cells": [
  {
   "cell_type": "code",
   "execution_count": 1,
   "metadata": {},
   "outputs": [],
   "source": [
    "# корень в котором хранятся все .xlsx и другие сохроняемые файлы\n",
    "main_data_path = 'DATA/'"
   ]
  },
  {
   "cell_type": "code",
   "execution_count": null,
   "metadata": {},
   "outputs": [],
   "source": [
    "# промежуточные файлы\n",
    "between_data_path = main_data_path+'prepared/'"
   ]
  },
  {
   "cell_type": "code",
   "execution_count": 1,
   "metadata": {},
   "outputs": [],
   "source": [
    "general_modes_chem = 'merge_table_mean_chem.xlsx'\n",
    "valid_modes_chem = 'valid_table_mean_chem.xlsx'\n",
    "scretching = 'table_stretching_22may_GOST_TU.xlsx'\n",
    "general_prepared = 'prepared_hard.xlsx'\n",
    "valid_prepared = 'prepared_hard_valid.xlsx'"
   ]
  },
  {
   "cell_type": "code",
   "execution_count": null,
   "metadata": {},
   "outputs": [],
   "source": [
    "# формируемые датасеты"
   ]
  }
 ],
 "metadata": {
  "kernelspec": {
   "display_name": "Python 3",
   "language": "python",
   "name": "python3"
  },
  "language_info": {
   "codemirror_mode": {
    "name": "ipython",
    "version": 3
   },
   "file_extension": ".py",
   "mimetype": "text/x-python",
   "name": "python",
   "nbconvert_exporter": "python",
   "pygments_lexer": "ipython3",
   "version": "3.6.4"
  }
 },
 "nbformat": 4,
 "nbformat_minor": 2
}
