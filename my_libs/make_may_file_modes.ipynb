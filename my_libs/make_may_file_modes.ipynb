{
 "cells": [
  {
   "cell_type": "code",
   "execution_count": 125,
   "metadata": {},
   "outputs": [],
   "source": [
    "import pandas as pd"
   ]
  },
  {
   "cell_type": "code",
   "execution_count": 126,
   "metadata": {},
   "outputs": [],
   "source": [
    "stretching = pd.read_excel('../DATA/prepared/table_stretching_25april_GOST_TU.xlsx')"
   ]
  },
  {
   "cell_type": "code",
   "execution_count": 131,
   "metadata": {},
   "outputs": [],
   "source": [
    "modes_old = pd.read_excel('../DATA/old_modes_to_saw/127x12,5 37g2f.xlsx')"
   ]
  },
  {
   "cell_type": "code",
   "execution_count": 132,
   "metadata": {},
   "outputs": [],
   "source": [
    "# modes_old = pd.read_excel('modes_old.xlsx')"
   ]
  },
  {
   "cell_type": "code",
   "execution_count": 133,
   "metadata": {},
   "outputs": [],
   "source": [
    "modes_old['№ партии'] = modes_old['№ партии'].astype(str)"
   ]
  },
  {
   "cell_type": "code",
   "execution_count": 134,
   "metadata": {},
   "outputs": [],
   "source": [
    "df = pd.DataFrame()"
   ]
  },
  {
   "cell_type": "code",
   "execution_count": 135,
   "metadata": {},
   "outputs": [],
   "source": [
    "for i in modes_old['№ партии'].values:\n",
    "    tmp = stretching[stretching['№ партии']==i]\n",
    "    if tmp.shape[0]>1:\n",
    "        tmp = tmp.head(1)\n",
    "        print(i)\n",
    "    elif tmp.shape[0]==0:\n",
    "        tmp = pd.DataFrame({'№ партии':[i]})\n",
    "    df = pd.concat([df,tmp])"
   ]
  },
  {
   "cell_type": "code",
   "execution_count": 136,
   "metadata": {},
   "outputs": [
    {
     "data": {
      "text/plain": [
       "(84, 6)"
      ]
     },
     "execution_count": 136,
     "metadata": {},
     "output_type": "execute_result"
    }
   ],
   "source": [
    "df.shape"
   ]
  },
  {
   "cell_type": "code",
   "execution_count": 137,
   "metadata": {},
   "outputs": [
    {
     "data": {
      "text/plain": [
       "(41, 6)"
      ]
     },
     "execution_count": 137,
     "metadata": {},
     "output_type": "execute_result"
    }
   ],
   "source": [
    "df.drop_duplicates(inplace=True)\n",
    "df.shape"
   ]
  },
  {
   "cell_type": "code",
   "execution_count": 138,
   "metadata": {},
   "outputs": [
    {
     "data": {
      "text/plain": [
       "(84, 19)"
      ]
     },
     "execution_count": 138,
     "metadata": {},
     "output_type": "execute_result"
    }
   ],
   "source": [
    "modes_old.shape"
   ]
  },
  {
   "cell_type": "code",
   "execution_count": 139,
   "metadata": {},
   "outputs": [
    {
     "data": {
      "text/plain": [
       "(84, 24)"
      ]
     },
     "execution_count": 139,
     "metadata": {},
     "output_type": "execute_result"
    }
   ],
   "source": [
    "modes_exp_old = modes_old.merge(df, on='№ партии')\n",
    "modes_exp_old.shape"
   ]
  },
  {
   "cell_type": "code",
   "execution_count": 140,
   "metadata": {},
   "outputs": [
    {
     "data": {
      "text/plain": [
       "Index(['№ партии', 'марка стали', '1 зона по ВТР закалка',\n",
       "       '2 зона по ВТР закалка', '3 зона по ВТР закалка',\n",
       "       'Скорость прохождения трубы через спрейер, м/с',\n",
       "       't˚ C трубы после спреера', 'время выдержки в закалочной ванне, сек.',\n",
       "       't˚ C трубы после ванны', '1 зона ВТР и уставка отпуск',\n",
       "       '2 зона ВТР и уставка отпуск', '3 зона ВТР и уставка отпуск',\n",
       "       '4 зона ВТР и уставка отпуск', '5 зона ВТР и уставка отпуск',\n",
       "       'шаг балок закалочная печь, сек', 'шаг балок отпускная печь, сек',\n",
       "       'диаметр', 'толщина стенки', 'Дата термообработки',\n",
       "       'Врем. сопротивление', 'ГОСТ, ТУ', 'Предел текучести',\n",
       "       'Тип предела текучести (1186)', '№ плавки'],\n",
       "      dtype='object')"
      ]
     },
     "execution_count": 140,
     "metadata": {},
     "output_type": "execute_result"
    }
   ],
   "source": [
    "modes_exp_old.columns"
   ]
  },
  {
   "cell_type": "code",
   "execution_count": 121,
   "metadata": {},
   "outputs": [],
   "source": [
    "modes_exp_old.to_excel('modes_exp_old.xlsx')"
   ]
  },
  {
   "cell_type": "code",
   "execution_count": 141,
   "metadata": {},
   "outputs": [],
   "source": [
    "chem_mean = pd.read_excel('../DATA/prepared/mean_chem_steel.xlsx')"
   ]
  },
  {
   "cell_type": "code",
   "execution_count": 142,
   "metadata": {},
   "outputs": [],
   "source": [
    "full_old_modes_df = modes_exp_old.merge(chem_mean, on='марка стали')"
   ]
  },
  {
   "cell_type": "code",
   "execution_count": 143,
   "metadata": {},
   "outputs": [],
   "source": [
    "full_old_modes_df.to_excel('old_127x12,5 37g2f.xlsx')"
   ]
  },
  {
   "cell_type": "code",
   "execution_count": null,
   "metadata": {},
   "outputs": [],
   "source": []
  }
 ],
 "metadata": {
  "kernelspec": {
   "display_name": "Python 3",
   "language": "python",
   "name": "python3"
  },
  "language_info": {
   "codemirror_mode": {
    "name": "ipython",
    "version": 3
   },
   "file_extension": ".py",
   "mimetype": "text/x-python",
   "name": "python",
   "nbconvert_exporter": "python",
   "pygments_lexer": "ipython3",
   "version": "3.6.4"
  }
 },
 "nbformat": 4,
 "nbformat_minor": 2
}
