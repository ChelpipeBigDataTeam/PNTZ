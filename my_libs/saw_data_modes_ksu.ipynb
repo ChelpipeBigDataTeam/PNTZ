{
 "cells": [
  {
   "cell_type": "code",
   "execution_count": 1,
   "metadata": {},
   "outputs": [
    {
     "name": "stdout",
     "output_type": "stream",
     "text": [
      "importing Jupyter notebook from modes_prepare_lib.ipynb\n"
     ]
    }
   ],
   "source": [
    "import pandas as pd\n",
    "import numpy as np\n",
    "import re\n",
    "import os\n",
    "import import_ipynb\n",
    "from modes_prepare_lib import get_modes_dataframe\n",
    "from datetime import datetime\n",
    "pd.options.display.max_columns = 50\n",
    "pd.options.display.max_rows = 1000"
   ]
  },
  {
   "cell_type": "code",
   "execution_count": 2,
   "metadata": {},
   "outputs": [
    {
     "name": "stdout",
     "output_type": "stream",
     "text": [
      "129559\n",
      "(129086, 38)\n",
      "4529\n",
      "(4507, 24)\n"
     ]
    }
   ],
   "source": [
    "df_modes, df_valid = get_modes_dataframe()"
   ]
  },
  {
   "cell_type": "code",
   "execution_count": 3,
   "metadata": {
    "collapsed": true
   },
   "outputs": [],
   "source": [
    "def change_to17(x):\n",
    "    if x.year>2018:\n",
    "        try:\n",
    "            tmp=x\n",
    "            tmp.replace(year=2017, month=x.month, day=x.day)\n",
    "            return tmp\n",
    "        except:\n",
    "            tmp.replace(year=2017, month=x.month, day=28)\n",
    "            return tmp\n",
    "    else:\n",
    "        return x\n",
    "\n",
    "def union_modes():\n",
    "    global df_modes\n",
    "    global df_valid\n",
    "    result=list(set(df_modes.columns) & set(df_valid.columns))\n",
    "    df_modes = df_modes[result]\n",
    "    df_modes['Дата термообработки'].describe()\n",
    "    df_valid = df_valid[result]\n",
    "    \n",
    "    df = pd.concat([df_modes, df_valid])\n",
    "    df.reset_index(drop=True, inplace=True)\n",
    "    return df\n",
    "\n",
    "df = union_modes()"
   ]
  },
  {
   "cell_type": "code",
   "execution_count": 4,
   "metadata": {},
   "outputs": [
    {
     "name": "stderr",
     "output_type": "stream",
     "text": [
      "D:\\Repo\\Anaconda2\\envs\\myenv\\lib\\site-packages\\ipykernel_launcher.py:4: SettingWithCopyWarning: \n",
      "A value is trying to be set on a copy of a slice from a DataFrame.\n",
      "Try using .loc[row_indexer,col_indexer] = value instead\n",
      "\n",
      "See the caveats in the documentation: http://pandas.pydata.org/pandas-docs/stable/indexing.html#indexing-view-versus-copy\n",
      "  after removing the cwd from sys.path.\n",
      "D:\\Repo\\Anaconda2\\envs\\myenv\\lib\\site-packages\\ipykernel_launcher.py:6: SettingWithCopyWarning: \n",
      "A value is trying to be set on a copy of a slice from a DataFrame.\n",
      "Try using .loc[row_indexer,col_indexer] = value instead\n",
      "\n",
      "See the caveats in the documentation: http://pandas.pydata.org/pandas-docs/stable/indexing.html#indexing-view-versus-copy\n",
      "  \n",
      "D:\\Repo\\Anaconda2\\envs\\myenv\\lib\\site-packages\\ipykernel_launcher.py:7: SettingWithCopyWarning: \n",
      "A value is trying to be set on a copy of a slice from a DataFrame.\n",
      "Try using .loc[row_indexer,col_indexer] = value instead\n",
      "\n",
      "See the caveats in the documentation: http://pandas.pydata.org/pandas-docs/stable/indexing.html#indexing-view-versus-copy\n",
      "  import sys\n"
     ]
    },
    {
     "name": "stdout",
     "output_type": "stream",
     "text": [
      "(618, 22)\n",
      "(130614, 22)\n"
     ]
    }
   ],
   "source": [
    "timestamp_df = df[df['Дата термообработки'].apply(type)==pd._libs.tslib.Timestamp]\n",
    "last_df = df[df['Дата термообработки'].apply(type)!=pd._libs.tslib.Timestamp]\n",
    "last_df['Дата термообработки'] = last_df['Дата термообработки'].apply(\n",
    "    lambda x:datetime.strptime(x, \"%d.%m.%Y\"))\n",
    "timestamp_df['Дата термообработки'] = timestamp_df['Дата термообработки'].apply(\n",
    "    pd._libs.tslib.Timestamp.to_pydatetime)\n",
    "last_df['Дата термообработки'] = last_df['Дата термообработки'].apply(change_to17)\n",
    "print(last_df[last_df['Дата термообработки'].apply(lambda x:x.year)>2018].shape)\n",
    "# last_df.shape\n",
    "df = pd.concat([last_df, timestamp_df])\n",
    "df.reset_index(drop=True, inplace=True)\n",
    "print(df.shape)"
   ]
  },
  {
   "cell_type": "code",
   "execution_count": 5,
   "metadata": {
    "collapsed": true
   },
   "outputs": [],
   "source": [
    "# pd.DataFrame(df['Дататермообработки'].value_counts().sort_index().index)"
   ]
  },
  {
   "cell_type": "code",
   "execution_count": 6,
   "metadata": {
    "collapsed": true
   },
   "outputs": [],
   "source": [
    "pd.DataFrame(df['Дата термообработки'].value_counts().sort_index().index).to_excel('1.xlsx')"
   ]
  },
  {
   "cell_type": "code",
   "execution_count": 7,
   "metadata": {
    "collapsed": true
   },
   "outputs": [],
   "source": [
    "def find_mark_typesize(mark, d, s):\n",
    "    answ = df[df['марка стали']==mark]\n",
    "    answ = answ[answ['диаметр']==d]\n",
    "    answ = answ[answ['толщина стенки']==s]\n",
    "    return answ"
   ]
  },
  {
   "cell_type": "code",
   "execution_count": 9,
   "metadata": {},
   "outputs": [
    {
     "data": {
      "text/html": [
       "<div>\n",
       "<style scoped>\n",
       "    .dataframe tbody tr th:only-of-type {\n",
       "        vertical-align: middle;\n",
       "    }\n",
       "\n",
       "    .dataframe tbody tr th {\n",
       "        vertical-align: top;\n",
       "    }\n",
       "\n",
       "    .dataframe thead th {\n",
       "        text-align: right;\n",
       "    }\n",
       "</style>\n",
       "<table border=\"1\" class=\"dataframe\">\n",
       "  <thead>\n",
       "    <tr style=\"text-align: right;\">\n",
       "      <th></th>\n",
       "      <th>t˚ C трубы после ванны</th>\n",
       "      <th>5 зона ВТР и уставка отпуск</th>\n",
       "      <th>шаг балок закалочная печь, сек</th>\n",
       "      <th>t˚ C трубы после спреера</th>\n",
       "      <th>№ партии</th>\n",
       "      <th>время выдержки в закалочной ванне, сек.</th>\n",
       "      <th>толщина стенки</th>\n",
       "      <th>марка стали</th>\n",
       "      <th>3 зона по ВТР закалка</th>\n",
       "      <th>№ пакета</th>\n",
       "      <th>1 зона по ВТР закалка</th>\n",
       "      <th>3 зона ВТР и уставка отпуск</th>\n",
       "      <th>диаметр</th>\n",
       "      <th>Дата термообработки</th>\n",
       "      <th>1 зона ВТР и уставка отпуск</th>\n",
       "      <th>шаг балок отпускная печь, сек</th>\n",
       "      <th>№ плавки</th>\n",
       "      <th>2 зона по ВТР закалка</th>\n",
       "      <th>2 зона ВТР и уставка отпуск</th>\n",
       "      <th>Скорость прохождения трубы через спрейер, м/с</th>\n",
       "      <th>4 зона ВТР и уставка отпуск</th>\n",
       "      <th>НД (гост, ту)</th>\n",
       "    </tr>\n",
       "  </thead>\n",
       "  <tbody>\n",
       "    <tr>\n",
       "      <th>120</th>\n",
       "      <td>NaN</td>\n",
       "      <td>610</td>\n",
       "      <td>27</td>\n",
       "      <td>70.0</td>\n",
       "      <td>701030</td>\n",
       "      <td></td>\n",
       "      <td>5.51</td>\n",
       "      <td>18ХМФБ</td>\n",
       "      <td>890</td>\n",
       "      <td>402763669</td>\n",
       "      <td>880</td>\n",
       "      <td>626</td>\n",
       "      <td>73.02</td>\n",
       "      <td>2017-01-02</td>\n",
       "      <td>670</td>\n",
       "      <td>27</td>\n",
       "      <td>6f7517</td>\n",
       "      <td>880</td>\n",
       "      <td>670</td>\n",
       "      <td>0.54</td>\n",
       "      <td>659</td>\n",
       "      <td>ТУ 21</td>\n",
       "    </tr>\n",
       "    <tr>\n",
       "      <th>121</th>\n",
       "      <td>NaN</td>\n",
       "      <td>610</td>\n",
       "      <td>27</td>\n",
       "      <td>70.0</td>\n",
       "      <td>701031</td>\n",
       "      <td></td>\n",
       "      <td>5.51</td>\n",
       "      <td>18ХМФБ</td>\n",
       "      <td>890</td>\n",
       "      <td>402767617</td>\n",
       "      <td>880</td>\n",
       "      <td>626</td>\n",
       "      <td>73.02</td>\n",
       "      <td>2017-01-02</td>\n",
       "      <td>670</td>\n",
       "      <td>27</td>\n",
       "      <td>6f7520</td>\n",
       "      <td>880</td>\n",
       "      <td>670</td>\n",
       "      <td>0.54</td>\n",
       "      <td>659</td>\n",
       "      <td>ТУ 21</td>\n",
       "    </tr>\n",
       "    <tr>\n",
       "      <th>122</th>\n",
       "      <td>NaN</td>\n",
       "      <td>610</td>\n",
       "      <td>27</td>\n",
       "      <td>70.0</td>\n",
       "      <td>701032</td>\n",
       "      <td></td>\n",
       "      <td>5.51</td>\n",
       "      <td>18ХМФБ</td>\n",
       "      <td>890</td>\n",
       "      <td>402792480</td>\n",
       "      <td>880</td>\n",
       "      <td>626</td>\n",
       "      <td>73.02</td>\n",
       "      <td>2017-01-02</td>\n",
       "      <td>670</td>\n",
       "      <td>27</td>\n",
       "      <td>6f7988</td>\n",
       "      <td>880</td>\n",
       "      <td>670</td>\n",
       "      <td>0.54</td>\n",
       "      <td>659</td>\n",
       "      <td>ТУ 21</td>\n",
       "    </tr>\n",
       "    <tr>\n",
       "      <th>123</th>\n",
       "      <td>NaN</td>\n",
       "      <td>642</td>\n",
       "      <td>27</td>\n",
       "      <td>70.0</td>\n",
       "      <td>701033</td>\n",
       "      <td></td>\n",
       "      <td>5.51</td>\n",
       "      <td>18ХМФБ</td>\n",
       "      <td>890</td>\n",
       "      <td>402796669</td>\n",
       "      <td>880</td>\n",
       "      <td>659</td>\n",
       "      <td>73.02</td>\n",
       "      <td>2017-01-02</td>\n",
       "      <td>670</td>\n",
       "      <td>27</td>\n",
       "      <td>6f7515</td>\n",
       "      <td>880</td>\n",
       "      <td>670</td>\n",
       "      <td>0.54</td>\n",
       "      <td>659</td>\n",
       "      <td>ТУ 21</td>\n",
       "    </tr>\n",
       "    <tr>\n",
       "      <th>124</th>\n",
       "      <td>NaN</td>\n",
       "      <td>642</td>\n",
       "      <td>27</td>\n",
       "      <td>70.0</td>\n",
       "      <td>701034</td>\n",
       "      <td></td>\n",
       "      <td>5.51</td>\n",
       "      <td>18ХМФБ</td>\n",
       "      <td>890</td>\n",
       "      <td>402791717</td>\n",
       "      <td>880</td>\n",
       "      <td>659</td>\n",
       "      <td>73.02</td>\n",
       "      <td>2017-01-02</td>\n",
       "      <td>670</td>\n",
       "      <td>27</td>\n",
       "      <td>6f7991</td>\n",
       "      <td>880</td>\n",
       "      <td>670</td>\n",
       "      <td>0.54</td>\n",
       "      <td>659</td>\n",
       "      <td>ТУ 21</td>\n",
       "    </tr>\n",
       "  </tbody>\n",
       "</table>\n",
       "</div>"
      ],
      "text/plain": [
       "     t˚ C трубы после ванны 5 зона ВТР и уставка отпуск  \\\n",
       "120                     NaN                         610   \n",
       "121                     NaN                         610   \n",
       "122                     NaN                         610   \n",
       "123                     NaN                         642   \n",
       "124                     NaN                         642   \n",
       "\n",
       "    шаг балок закалочная печь, сек  t˚ C трубы после спреера № партии  \\\n",
       "120                             27                      70.0   701030   \n",
       "121                             27                      70.0   701031   \n",
       "122                             27                      70.0   701032   \n",
       "123                             27                      70.0   701033   \n",
       "124                             27                      70.0   701034   \n",
       "\n",
       "    время выдержки в закалочной ванне, сек. толщина стенки марка стали  \\\n",
       "120                                                   5.51      18ХМФБ   \n",
       "121                                                   5.51      18ХМФБ   \n",
       "122                                                   5.51      18ХМФБ   \n",
       "123                                                   5.51      18ХМФБ   \n",
       "124                                                   5.51      18ХМФБ   \n",
       "\n",
       "    3 зона по ВТР закалка   № пакета 1 зона по ВТР закалка  \\\n",
       "120                   890  402763669                   880   \n",
       "121                   890  402767617                   880   \n",
       "122                   890  402792480                   880   \n",
       "123                   890  402796669                   880   \n",
       "124                   890  402791717                   880   \n",
       "\n",
       "    3 зона ВТР и уставка отпуск диаметр Дата термообработки  \\\n",
       "120                         626   73.02          2017-01-02   \n",
       "121                         626   73.02          2017-01-02   \n",
       "122                         626   73.02          2017-01-02   \n",
       "123                         659   73.02          2017-01-02   \n",
       "124                         659   73.02          2017-01-02   \n",
       "\n",
       "    1 зона ВТР и уставка отпуск шаг балок отпускная печь, сек № плавки  \\\n",
       "120                         670                            27   6f7517   \n",
       "121                         670                            27   6f7520   \n",
       "122                         670                            27   6f7988   \n",
       "123                         670                            27   6f7515   \n",
       "124                         670                            27   6f7991   \n",
       "\n",
       "    2 зона по ВТР закалка 2 зона ВТР и уставка отпуск  \\\n",
       "120                   880                         670   \n",
       "121                   880                         670   \n",
       "122                   880                         670   \n",
       "123                   880                         670   \n",
       "124                   880                         670   \n",
       "\n",
       "    Скорость прохождения трубы через спрейер, м/с 4 зона ВТР и уставка отпуск  \\\n",
       "120                                          0.54                         659   \n",
       "121                                          0.54                         659   \n",
       "122                                          0.54                         659   \n",
       "123                                          0.54                         659   \n",
       "124                                          0.54                         659   \n",
       "\n",
       "    НД (гост, ту)  \n",
       "120         ТУ 21  \n",
       "121         ТУ 21  \n",
       "122         ТУ 21  \n",
       "123         ТУ 21  \n",
       "124         ТУ 21  "
      ]
     },
     "execution_count": 9,
     "metadata": {},
     "output_type": "execute_result"
    }
   ],
   "source": [
    "answ = find_mark_typesize('18ХМФБ', '73.02', '5.51')\n",
    "answ.head()"
   ]
  },
  {
   "cell_type": "code",
   "execution_count": 2,
   "metadata": {
    "collapsed": true
   },
   "outputs": [],
   "source": [
    "# answ['шаг балок закалочная/отпускная печи, сек'].value_counts()"
   ]
  },
  {
   "cell_type": "code",
   "execution_count": 3,
   "metadata": {
    "collapsed": true
   },
   "outputs": [],
   "source": [
    "# answ.sort_values('Дата термообработки', ascending=False)"
   ]
  },
  {
   "cell_type": "code",
   "execution_count": 4,
   "metadata": {
    "collapsed": true
   },
   "outputs": [],
   "source": [
    "# answ.columns"
   ]
  },
  {
   "cell_type": "code",
   "execution_count": 5,
   "metadata": {},
   "outputs": [
    {
     "ename": "NameError",
     "evalue": "name 'pd' is not defined",
     "output_type": "error",
     "traceback": [
      "\u001b[1;31m---------------------------------------------------------------------------\u001b[0m",
      "\u001b[1;31mNameError\u001b[0m                                 Traceback (most recent call last)",
      "\u001b[1;32m<ipython-input-5-6482675b795f>\u001b[0m in \u001b[0;36m<module>\u001b[1;34m()\u001b[0m\n\u001b[1;32m----> 1\u001b[1;33m \u001b[0mplan_may\u001b[0m \u001b[1;33m=\u001b[0m \u001b[0mpd\u001b[0m\u001b[1;33m.\u001b[0m\u001b[0mread_excel\u001b[0m\u001b[1;33m(\u001b[0m\u001b[1;34m'D:\\Repo\\PycharmProjects\\gitPNTZ\\tmp_files\\план на май/план_на_май_ПНТЗ.xlsx'\u001b[0m\u001b[1;33m)\u001b[0m\u001b[1;33m\u001b[0m\u001b[0m\n\u001b[0m\u001b[0;32m      2\u001b[0m \u001b[1;31m# plan_may.head()\u001b[0m\u001b[1;33m\u001b[0m\u001b[1;33m\u001b[0m\u001b[0m\n",
      "\u001b[1;31mNameError\u001b[0m: name 'pd' is not defined"
     ]
    }
   ],
   "source": [
    "plan_may = pd.read_excel('D:\\Repo\\PycharmProjects\\gitPNTZ\\tmp_files\\план на май/план_на_май_ПНТЗ.xlsx')\n",
    "# plan_may.head()"
   ]
  },
  {
   "cell_type": "code",
   "execution_count": 95,
   "metadata": {},
   "outputs": [
    {
     "data": {
      "text/html": [
       "<div>\n",
       "<style>\n",
       "    .dataframe thead tr:only-child th {\n",
       "        text-align: right;\n",
       "    }\n",
       "\n",
       "    .dataframe thead th {\n",
       "        text-align: left;\n",
       "    }\n",
       "\n",
       "    .dataframe tbody tr th {\n",
       "        vertical-align: top;\n",
       "    }\n",
       "</style>\n",
       "<table border=\"1\" class=\"dataframe\">\n",
       "  <thead>\n",
       "    <tr style=\"text-align: right;\">\n",
       "      <th></th>\n",
       "      <th>Сортамент|Марка стали</th>\n",
       "      <th>Сортамент|Диам1</th>\n",
       "      <th>Сортамент|Стен1</th>\n",
       "    </tr>\n",
       "  </thead>\n",
       "  <tbody>\n",
       "    <tr>\n",
       "      <th>0</th>\n",
       "      <td>37Г2Ф</td>\n",
       "      <td>73.02</td>\n",
       "      <td>5.51</td>\n",
       "    </tr>\n",
       "    <tr>\n",
       "      <th>1</th>\n",
       "      <td>37Г2Ф</td>\n",
       "      <td>146.00</td>\n",
       "      <td>7.70</td>\n",
       "    </tr>\n",
       "    <tr>\n",
       "      <th>2</th>\n",
       "      <td>37Г2Ф</td>\n",
       "      <td>73.02</td>\n",
       "      <td>5.51</td>\n",
       "    </tr>\n",
       "    <tr>\n",
       "      <th>3</th>\n",
       "      <td>30Г2</td>\n",
       "      <td>73.02</td>\n",
       "      <td>5.51</td>\n",
       "    </tr>\n",
       "    <tr>\n",
       "      <th>4</th>\n",
       "      <td>38Г2С</td>\n",
       "      <td>60.32</td>\n",
       "      <td>5.00</td>\n",
       "    </tr>\n",
       "  </tbody>\n",
       "</table>\n",
       "</div>"
      ],
      "text/plain": [
       "  Сортамент|Марка стали  Сортамент|Диам1  Сортамент|Стен1\n",
       "0                 37Г2Ф            73.02             5.51\n",
       "1                 37Г2Ф           146.00             7.70\n",
       "2                 37Г2Ф            73.02             5.51\n",
       "3                  30Г2            73.02             5.51\n",
       "4                 38Г2С            60.32             5.00"
      ]
     },
     "execution_count": 95,
     "metadata": {},
     "output_type": "execute_result"
    }
   ],
   "source": [
    "plan_may = plan_may[['Сортамент|Марка стали','Сортамент|Диам1', 'Сортамент|Стен1']]\n",
    "plan_may.head()"
   ]
  },
  {
   "cell_type": "code",
   "execution_count": null,
   "metadata": {
    "collapsed": true
   },
   "outputs": [],
   "source": []
  },
  {
   "cell_type": "code",
   "execution_count": 109,
   "metadata": {
    "collapsed": true
   },
   "outputs": [],
   "source": [
    "plan_may.columns = [['марка стали', 'диаметр', 'толщина стенки']]\n",
    "plan_may.drop_duplicates(inplace=True)\n",
    "plan_may.reset_index(drop=True, inplace=True)\n",
    "# plan_may.sort_values(['марка стали', 'диаметр', 'толщина стенки'])\n",
    "plan_may.apply(lambda x: str(x))\n",
    "plan_may.to_excel('May.xlsx')"
   ]
  },
  {
   "cell_type": "code",
   "execution_count": 6,
   "metadata": {},
   "outputs": [
    {
     "ename": "NameError",
     "evalue": "name 'pd' is not defined",
     "output_type": "error",
     "traceback": [
      "\u001b[1;31m---------------------------------------------------------------------------\u001b[0m",
      "\u001b[1;31mNameError\u001b[0m                                 Traceback (most recent call last)",
      "\u001b[1;32m<ipython-input-6-5586f59f2029>\u001b[0m in \u001b[0;36m<module>\u001b[1;34m()\u001b[0m\n\u001b[1;32m----> 1\u001b[1;33m \u001b[0mplan_may\u001b[0m \u001b[1;33m=\u001b[0m \u001b[0mpd\u001b[0m\u001b[1;33m.\u001b[0m\u001b[0mread_excel\u001b[0m\u001b[1;33m(\u001b[0m\u001b[1;34m'May.xlsx'\u001b[0m\u001b[1;33m)\u001b[0m\u001b[1;33m\u001b[0m\u001b[0m\n\u001b[0m\u001b[0;32m      2\u001b[0m \u001b[1;31m# plan_may\u001b[0m\u001b[1;33m\u001b[0m\u001b[1;33m\u001b[0m\u001b[0m\n",
      "\u001b[1;31mNameError\u001b[0m: name 'pd' is not defined"
     ]
    }
   ],
   "source": [
    "plan_may = pd.read_excel('May.xlsx')\n",
    "# plan_may"
   ]
  },
  {
   "cell_type": "code",
   "execution_count": 114,
   "metadata": {},
   "outputs": [
    {
     "name": "stdout",
     "output_type": "stream",
     "text": [
      "37Г2Ф 73.02 5.51\n",
      "37Г2Ф 146.0 7.7\n",
      "30Г2 73.02 5.51\n",
      "38Г2С 60.32 5.0\n",
      "30Г2 114.0 8.6\n",
      "30Г2 168.28 7.32\n",
      "30Г2 60.32 5.0\n",
      "30Г2 88.9 7.34\n",
      "37Г2Ф 178.0 8.1\n",
      "30Г2 168.28 8.94\n",
      "38Г2С 73.02 5.51\n",
      "18ХМФБ 73.02 5.51\n",
      "30Г2 178.0 9.2\n",
      "37Г2Ф 146.0 8.5\n",
      "30Г2 88.9 6.45\n",
      "37Г2Ф 73.0 5.5\n",
      "37Г2Ф 114.0 7.4\n",
      "30Г2 89.0 6.5\n",
      "30Г2 178.0 8.1\n",
      "30Г2 168.28 8.0\n",
      "37Г2Ф-2 73.02 5.51\n",
      "30Г2 73.0 5.5\n",
      "18ХМФБ 178.0 9.2\n",
      "37Г2Ф 178.0 9.2\n",
      "30Г2 114.0 7.4\n",
      "18ХМФБ 88.9 6.5\n",
      "30Г2 146.05 7.7\n",
      "30Г2 168.0 10.6\n",
      "38Г2С 73.0 5.5\n",
      "30Г2 146.05 9.5\n",
      "30Г2 146.05 7.0\n",
      "30Г2 114.3 7.37\n",
      "37Г2Ф 60.0 5.0\n"
     ]
    }
   ],
   "source": [
    "for i in plan_may.index:\n",
    "    mark = plan_may.iloc[i,0]\n",
    "    d = plan_may.iloc[i, 1]\n",
    "    s = plan_may.iloc[i, 2]\n",
    "    print(mark, d, s)"
   ]
  },
  {
   "cell_type": "code",
   "execution_count": 58,
   "metadata": {
    "collapsed": true
   },
   "outputs": [],
   "source": [
    "# df[df['Дата термообработки']!=None].sort_values('Дата термообработки', ascii).head()"
   ]
  }
 ],
 "metadata": {
  "kernelspec": {
   "display_name": "Python 3",
   "language": "python",
   "name": "python3"
  },
  "language_info": {
   "codemirror_mode": {
    "name": "ipython",
    "version": 3
   },
   "file_extension": ".py",
   "mimetype": "text/x-python",
   "name": "python",
   "nbconvert_exporter": "python",
   "pygments_lexer": "ipython3",
   "version": "3.6.4"
  }
 },
 "nbformat": 4,
 "nbformat_minor": 2
}
