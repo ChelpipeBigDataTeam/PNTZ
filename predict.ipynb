{
 "cells": [
  {
   "cell_type": "code",
   "execution_count": 28,
   "metadata": {},
   "outputs": [],
   "source": [
    "import json\n",
    "import theano\n",
    "import keras\n",
    "import pandas as pd\n",
    "import numpy as np\n",
    "from sklearn.preprocessing import StandardScaler\n",
    "from keras import models as md\n",
    "from sklearn.metrics import auc\n",
    "import import_ipynb\n",
    "from my_libs.calc_features import clean_data\n",
    "from datetime import datetime as dt\n",
    "pd.options.display.max_columns = 100\n",
    "pd.options.display.max_rows = 1000"
   ]
  },
  {
   "cell_type": "code",
   "execution_count": 40,
   "metadata": {},
   "outputs": [
    {
     "data": {
      "text/plain": [
       "'15_5date 16_53_45_6time'"
      ]
     },
     "execution_count": 40,
     "metadata": {},
     "output_type": "execute_result"
    }
   ],
   "source": [
    "time = \"%d_%ddate %d_%d_%d_%dtime\" % (dt.now().day, dt.now().month, dt.now().hour, dt.now().minute, \n",
    "                                          dt.now().second, dt.now().microsecond/100000)\n",
    "time"
   ]
  },
  {
   "cell_type": "code",
   "execution_count": 43,
   "metadata": {},
   "outputs": [],
   "source": [
    "class Predicter:\n",
    "    \n",
    "    def __init__(self, \n",
    "                 input_file='DATA/prepared/prepared_hard_valid.xlsx', \n",
    "                 model_dir_H='DATA/MODELS_kerasNN/LIM H BEST', \n",
    "                 model_dir_YS='DATA/MODELS_kerasNN/LIM YS BEST MF',\n",
    "                 output_file=\"%d_%ddate %d_%d_%d_%dtime\" % (dt.now().day, dt.now().month, dt.now().hour, dt.now().minute, \n",
    "                                          dt.now().second, dt.now().microsecond/100000)):\n",
    "        self.input_file = input_file\n",
    "        self.model_dir_H = model_dir_H\n",
    "        self.model_dir_YS = model_dir_YS\n",
    "        self.output_file = output_file"
   ]
  },
  {
   "cell_type": "code",
   "execution_count": 44,
   "metadata": {},
   "outputs": [],
   "source": [
    "predicter = Predicter()"
   ]
  },
  {
   "cell_type": "code",
   "execution_count": null,
   "metadata": {},
   "outputs": [],
   "source": []
  },
  {
   "cell_type": "code",
   "execution_count": null,
   "metadata": {},
   "outputs": [],
   "source": []
  }
 ],
 "metadata": {
  "kernelspec": {
   "display_name": "Python 3",
   "language": "python",
   "name": "python3"
  },
  "language_info": {
   "codemirror_mode": {
    "name": "ipython",
    "version": 3
   },
   "file_extension": ".py",
   "mimetype": "text/x-python",
   "name": "python",
   "nbconvert_exporter": "python",
   "pygments_lexer": "ipython3",
   "version": "3.6.4"
  }
 },
 "nbformat": 4,
 "nbformat_minor": 2
}
