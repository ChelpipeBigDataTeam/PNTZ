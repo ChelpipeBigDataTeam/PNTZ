{
 "cells": [
  {
   "cell_type": "code",
   "execution_count": 1,
   "metadata": {},
   "outputs": [
    {
     "name": "stdout",
     "output_type": "stream",
     "text": [
      "importing Jupyter notebook from D:\\Repo\\PycharmProjects\\gitPNTZ\\PNTZ\\my_libs\\calc_features.ipynb\n",
      "importing Jupyter notebook from D:\\Repo\\PycharmProjects\\gitPNTZ\\PNTZ\\my_libs\\critical_temp_after_spryer.ipynb\n",
      "importing Jupyter notebook from D:\\Repo\\PycharmProjects\\gitPNTZ\\PNTZ\\my_libs\\data_paths.ipynb\n"
     ]
    }
   ],
   "source": [
    "import pandas as pd\n",
    "import numpy as np\n",
    "import pickle\n",
    "import json\n",
    "import import_ipynb\n",
    "from my_libs.calc_features import clean_data\n",
    "from my_libs.calc_features import *\n",
    "from sklearn.preprocessing import StandardScaler"
   ]
  },
  {
   "cell_type": "code",
   "execution_count": 2,
   "metadata": {
    "collapsed": true
   },
   "outputs": [],
   "source": [
    "# возвращает модель, список признаков, по которому строилась модель и скейлер\n",
    "def load_model(dir_name, target):\n",
    "    model = pickle.load(open(dir_name+'/RF_model_'+target+'.sav', 'rb'))\n",
    "    ls_need_col = json.load(open(dir_name+'/ls_need_col', \"r\"))\n",
    "#     try:\n",
    "    scaler = StandardScaler()\n",
    "    scale_data = json.load(open(dir_name+'/scaler', \"r\"))\n",
    "    scaler.mean_ = scale_data[0]\n",
    "    scaler.scale_ = scale_data[1]\n",
    "#     except:\n",
    "#         scaler=None\n",
    "    return model, ls_need_col, scaler"
   ]
  },
  {
   "cell_type": "code",
   "execution_count": 3,
   "metadata": {
    "collapsed": true
   },
   "outputs": [],
   "source": [
    "def shift_columns_list(ls):\n",
    "    ls = [ls[-3]]+[ls[-4]]+[ls[-2]]+[ls[-1]]+ls[:-4]\n",
    "    return ls"
   ]
  },
  {
   "cell_type": "code",
   "execution_count": 16,
   "metadata": {
    "collapsed": true
   },
   "outputs": [],
   "source": [
    "def make_result_valid_file(file_name, dir_names, targets, output_filename):\n",
    "    \"\"\"Сохраняет файл с результатами \"\"\"\n",
    "    result = pd.DataFrame()\n",
    "    for target, dir_name in zip(targets,dir_names):\n",
    "        model, ls_need_col, scaler = load_model(dir_name, target)\n",
    "        try:\n",
    "            valid = clean_data(file_name, ls_need_col+[\n",
    "                '№ партии', \n",
    "                'марка стали'])\n",
    "        except KeyError:\n",
    "            valid = clean_data(file_name, ls_need_col)\n",
    "    #     print(valid['C-coef'])\n",
    "    #     valid = valid[valid['C-coef']<0.6]\n",
    "        try:\n",
    "            y_valid = valid[target].copy()\n",
    "        except KeyError:\n",
    "            y_valid = [0 for x in range(0,valid.shape[0])]\n",
    "        try:\n",
    "            X_valid = valid[ls_need_col+['№ партии', 'марка стали']].copy()\n",
    "        except KeyError:\n",
    "            X_valid = valid[ls_need_col].copy()\n",
    "            \n",
    "        X_valid_c = X_valid[ls_need_col].copy()\n",
    "    #     print(valid.shape, X_valid.shape, X_valid_c.shape)\n",
    "        y_pred = model.predict(X_valid_c)\n",
    "        result[target] = y_valid\n",
    "        result['predicted '+target] = y_pred\n",
    "        result['MAE '+target] = np.abs(result[target]- result['predicted '+target])\n",
    "        result['MSE '+target] = result['MAE '+target].apply(lambda x: x*x)\n",
    "#         ls = shift_columns_list(list(X_valid.columns))\n",
    "#     X_valid = X_valid[ls]\n",
    "#     result['отношение'] = result[targets[0]]/result[targets[1]]\n",
    "    result = pd.concat([result, X_valid], axis=1)\n",
    "    result.to_excel(output_filename)\n",
    "    return result, y_valid, y_pred"
   ]
  },
  {
   "cell_type": "code",
   "execution_count": 17,
   "metadata": {
    "collapsed": true
   },
   "outputs": [],
   "source": [
    "def make_result_valid_file_multi(file_name, dir_names, targets, output_filename):\n",
    "    \"\"\"Сохраняет файл с результатами \"\"\"\n",
    "    writer = pd.ExcelWriter(output_filename)\n",
    "    df_dict = pd.read_excel(file_name, sheet_name=None)\n",
    "    for sheet, df in zip(df_dict, df_dict.values()):\n",
    "        result = pd.DataFrame()\n",
    "        k=0\n",
    "        for target, dir_name in zip(targets,dir_names):\n",
    "            model, ls_need_col, scaler = load_model(dir_name, target)\n",
    "            valid = clean_data_sheets(df, ls_need_col+['№ партии', 'марка стали'])\n",
    "            y_valid = valid[target].copy()\n",
    "            X_valid = valid[ls_need_col+['№ партии', 'марка стали']].copy()\n",
    "            X_valid_c = X_valid[ls_need_col].copy()\n",
    "\n",
    "            y_pred = model.predict(X_valid_c)\n",
    "\n",
    "            result[target] = y_valid\n",
    "            result['predicted '+target] = y_pred\n",
    "            result['MAE '+target] = np.abs(result[target]- result['predicted '+target])\n",
    "            result['MSE '+target] = result['MAE '+target].apply(lambda x: x*x)\n",
    "            X_valid = new_spr(X_valid)\n",
    "            k+=1\n",
    "            if k==2:\n",
    "                result = pd.concat([result, X_valid], axis=1)\n",
    "                result.to_excel(writer, sheet)\n",
    "                \n",
    "    writer.save()\n",
    "    return result, y_valid, y_pred"
   ]
  },
  {
   "cell_type": "code",
   "execution_count": 20,
   "metadata": {
    "collapsed": true
   },
   "outputs": [],
   "source": [
    "file_name = 'DATA/modes_before_model/febr march apr may before.xlsx'\n",
    "# target = 'Врем. сопротивление'\n",
    "targets = ['Предел текучести','Врем. сопротивление']\n",
    "dir_names = ['DATA/MODELS_RF/YS RF valid', 'DATA/MODELS_RF/H RF valid']\n",
    "output_filename = 'DATA/modes_after_model/try_prediction.xlsx'"
   ]
  },
  {
   "cell_type": "code",
   "execution_count": 21,
   "metadata": {
    "scrolled": true
   },
   "outputs": [
    {
     "name": "stdout",
     "output_type": "stream",
     "text": [
      "Warning!, Предел текучести, Врем. сопротивление, № партии Not in index\n",
      "(30, 32)\n",
      "(30, 32)\n",
      "Warning!, Предел текучести, Врем. сопротивление, № партии Not in index\n",
      "(30, 31)\n",
      "(30, 31)\n"
     ]
    }
   ],
   "source": [
    "df, y_valid, y_pred = make_result_valid_file(file_name, dir_names, targets, output_filename)"
   ]
  },
  {
   "cell_type": "code",
   "execution_count": null,
   "metadata": {
    "collapsed": true
   },
   "outputs": [],
   "source": []
  },
  {
   "cell_type": "code",
   "execution_count": 20,
   "metadata": {
    "collapsed": true
   },
   "outputs": [],
   "source": [
    "tmp = pd.read_excel('DATA/modes_after_model/validation_good(1).xlsx')"
   ]
  },
  {
   "cell_type": "code",
   "execution_count": 32,
   "metadata": {},
   "outputs": [
    {
     "name": "stdout",
     "output_type": "stream",
     "text": [
      "corr 0.9491442637311868\n",
      "r2 0.8930216852957163\n",
      "explained_variance_score 0.8957239874637852\n",
      "mean_squared_error 19.292150409068473\n",
      "mean_absolute_error 3.2350262905404064\n",
      "median_absolute_error 2.4166564587036916\n"
     ]
    }
   ],
   "source": [
    "y_valid = tmp[targets[0]]\n",
    "y_pred = tmp['predicted '+targets[0]]\n",
    "\n",
    "from sklearn.metrics import r2_score \n",
    "from sklearn.metrics import explained_variance_score \n",
    "from sklearn.metrics import mean_squared_error\n",
    "from sklearn.metrics import median_absolute_error\n",
    "from sklearn.metrics import mean_absolute_error\n",
    "print('corr',np.corrcoef(y_valid, y_pred)[0][1])\n",
    "print('r2', r2_score(y_valid, y_pred))\n",
    "print('explained_variance_score', explained_variance_score(y_valid, y_pred))\n",
    "print('mean_squared_error', mean_squared_error(y_valid, y_pred))\n",
    "print('mean_absolute_error', mean_absolute_error(y_valid, y_pred))\n",
    "print('median_absolute_error', median_absolute_error(y_valid, y_pred))\n",
    "\n",
    "d = {\n",
    "    'corr': [np.corrcoef(y_valid, y_pred)[0][1]],\n",
    "    'r2': [r2_score(y_valid, y_pred)],\n",
    "    'explained_variance_score': [explained_variance_score(y_valid, y_pred)],\n",
    "    'mean_squared_error': [mean_squared_error(y_valid, y_pred)],\n",
    "    'mean_absolute_error': [mean_absolute_error(y_valid, y_pred)],\n",
    "    'median_absolute_error': [median_absolute_error(y_valid, y_pred)]\n",
    "}\n",
    "\n",
    "pd.DataFrame(d).to_excel(output_filename+'_scores.xlsx')"
   ]
  },
  {
   "cell_type": "code",
   "execution_count": 31,
   "metadata": {
    "scrolled": true
   },
   "outputs": [
    {
     "name": "stdout",
     "output_type": "stream",
     "text": [
      "corr 0.9643158026543087\n",
      "r2 0.9213201363358962\n",
      "explained_variance_score 0.9219271770797535\n",
      "mean_squared_error 11.392219003303019\n",
      "mean_absolute_error 2.49501703374625\n",
      "median_absolute_error 1.9771326530612328\n"
     ]
    }
   ],
   "source": [
    "y_valid = tmp[targets[1]]\n",
    "y_pred = tmp['predicted '+targets[1]]\n",
    "\n",
    "from sklearn.metrics import r2_score \n",
    "from sklearn.metrics import explained_variance_score \n",
    "from sklearn.metrics import mean_squared_error\n",
    "from sklearn.metrics import median_absolute_error\n",
    "from sklearn.metrics import mean_absolute_error\n",
    "print('corr',np.corrcoef(y_valid, y_pred)[0][1])\n",
    "print('r2', r2_score(y_valid, y_pred))\n",
    "print('explained_variance_score', explained_variance_score(y_valid, y_pred))\n",
    "print('mean_squared_error', mean_squared_error(y_valid, y_pred))\n",
    "print('mean_absolute_error', mean_absolute_error(y_valid, y_pred))\n",
    "print('median_absolute_error', median_absolute_error(y_valid, y_pred))\n",
    "\n",
    "d = {\n",
    "    'corr': [np.corrcoef(y_valid, y_pred)[0][1]],\n",
    "    'r2': [r2_score(y_valid, y_pred)],\n",
    "    'explained_variance_score': [explained_variance_score(y_valid, y_pred)],\n",
    "    'mean_squared_error': [mean_squared_error(y_valid, y_pred)],\n",
    "    'mean_absolute_error': [mean_absolute_error(y_valid, y_pred)],\n",
    "    'median_absolute_error': [median_absolute_error(y_valid, y_pred)]\n",
    "}\n",
    "\n",
    "pd.DataFrame(d).to_excel(output_filename+'_scores.xlsx')"
   ]
  },
  {
   "cell_type": "code",
   "execution_count": 93,
   "metadata": {},
   "outputs": [
    {
     "name": "stdout",
     "output_type": "stream",
     "text": [
      "0.20423000660938534 0.29610046265697293 0.4137475214805023\n",
      "0.11103767349636484 0.18968935888962327 0.29808327825512226\n"
     ]
    }
   ],
   "source": [
    "for target in targets:\n",
    "    print(\n",
    "        df[df['MAE '+target]>5].shape[0]/df.shape[0],\n",
    "          df[df['MAE '+target]>4].shape[0]/df.shape[0],\n",
    "        df[df['MAE '+target]>3].shape[0]/df.shape[0])"
   ]
  },
  {
   "cell_type": "code",
   "execution_count": 17,
   "metadata": {
    "collapsed": true
   },
   "outputs": [],
   "source": [
    "d ={\n",
    "   '% err >5': [df[df['MAE']>5].shape[0]/df.shape[0]],\n",
    "   '% err >4':  [df[df['MAE']>4].shape[0]/df.shape[0]],\n",
    "   '% err >3':  [df[df['MAE']>3].shape[0]/df.shape[0]]\n",
    "}\n",
    "\n",
    "pd.DataFrame(d).to_excel(dir_name+'/%.xlsx')"
   ]
  },
  {
   "cell_type": "code",
   "execution_count": 18,
   "metadata": {
    "collapsed": true
   },
   "outputs": [
    {
     "data": {
      "text/plain": [
       "{'% err >3': [0.4527112232030265],\n",
       " '% err >4': [0.33921815889029006],\n",
       " '% err >5': [0.25598991172761665]}"
      ]
     },
     "execution_count": 18,
     "metadata": {},
     "output_type": "execute_result"
    }
   ],
   "source": [
    "d"
   ]
  },
  {
   "cell_type": "code",
   "execution_count": null,
   "metadata": {
    "collapsed": true
   },
   "outputs": [],
   "source": []
  },
  {
   "cell_type": "code",
   "execution_count": null,
   "metadata": {
    "collapsed": true
   },
   "outputs": [],
   "source": []
  },
  {
   "cell_type": "code",
   "execution_count": null,
   "metadata": {
    "collapsed": true
   },
   "outputs": [],
   "source": []
  }
 ],
 "metadata": {
  "kernelspec": {
   "display_name": "Python 3",
   "language": "python",
   "name": "python3"
  },
  "language_info": {
   "codemirror_mode": {
    "name": "ipython",
    "version": 3
   },
   "file_extension": ".py",
   "mimetype": "text/x-python",
   "name": "python",
   "nbconvert_exporter": "python",
   "pygments_lexer": "ipython3",
   "version": "3.6.4"
  }
 },
 "nbformat": 4,
 "nbformat_minor": 2
}
