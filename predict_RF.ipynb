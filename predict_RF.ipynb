{
 "cells": [
  {
   "cell_type": "code",
   "execution_count": 23,
   "metadata": {
    "collapsed": true
   },
   "outputs": [],
   "source": [
    "ls_columns_result = [\n",
    "    'Врем. сопротивление',\n",
    "    'прогноз Врем. сопротивление',\n",
    "    'MAE Врем. сопротивление',\n",
    "#     'MSE Врем. сопротивление',\n",
    "    'Предел текучести',\n",
    "    'прогноз Предел текучести', \n",
    "    'MAE Предел текучести',\n",
    "#     'MSE Предел текучести',\n",
    "]\n",
    "ls_columns_output = [\n",
    "    '№ партии',\n",
    "    'марка стали',\n",
    "    'диаметр',\n",
    "    'толщина стенки',\n",
    "    'Гр. прочн.',\n",
    "    '1 зона по ВТР закалка',\n",
    "    '2 зона по ВТР закалка',\n",
    "    '3 зона по ВТР закалка',\n",
    "    'шаг балок закалочная печь, сек',\n",
    "    'Скорость прохождения трубы через спрейер, м/с', \n",
    "    't˚ C трубы после спреера',\n",
    "    '1 зона ВТР и уставка отпуск', \n",
    "    '2 зона ВТР и уставка отпуск', \n",
    "    '3 зона ВТР и уставка отпуск',\n",
    "    '4 зона ВТР и уставка отпуск',\n",
    "    '5 зона ВТР и уставка отпуск',\n",
    "    'шаг балок отпускная печь, сек',\n",
    "    'C',\n",
    "    'Mn',\n",
    "    'Si',\n",
    "    'P',\n",
    "    'S',\n",
    "    'Cr',\n",
    "    'Ni',\n",
    "    'Cu',\n",
    "    'Al',\n",
    "    'V',\n",
    "    'Ti',\n",
    "    'Nb',\n",
    "    'Mo',\n",
    "    'N',\n",
    "    'B',\n",
    "    'C-coef',\n",
    "    'Параметр закалка',\n",
    "    'Параметр отпуск',\n",
    "    'Параметр отпуск новый V',\n",
    "    'Величина зерна',\n",
    "    'Тип предела текучести (1186)',\n",
    "    'ICD'\n",
    "    ]\n",
    "\n",
    "ls_columns_required = [\n",
    "    'марка стали',\n",
    "    'диаметр',\n",
    "    'толщина стенки',\n",
    "    'Гр. прочн.',\n",
    "    '1 зона по ВТР закалка',\n",
    "    '2 зона по ВТР закалка',\n",
    "    '3 зона по ВТР закалка',\n",
    "    'шаг балок закалочная печь, сек',\n",
    "    'Скорость прохождения трубы через спрейер, м/с', \n",
    "    't˚ C трубы после спреера',\n",
    "    '1 зона ВТР и уставка отпуск', \n",
    "    '2 зона ВТР и уставка отпуск', \n",
    "    '3 зона ВТР и уставка отпуск',\n",
    "    '4 зона ВТР и уставка отпуск',\n",
    "    '5 зона ВТР и уставка отпуск',\n",
    "    'шаг балок отпускная печь, сек',\n",
    "    'Тип предела текучести (1186)'\n",
    "]"
   ]
  },
  {
   "cell_type": "code",
   "execution_count": 2,
   "metadata": {},
   "outputs": [
    {
     "name": "stdout",
     "output_type": "stream",
     "text": [
      "importing Jupyter notebook from D:\\Repo\\PycharmProjects\\gitPNTZ\\PNTZ\\my_libs\\calc_features.ipynb\n"
     ]
    }
   ],
   "source": [
    "import pandas as pd\n",
    "import numpy as np\n",
    "import pickle\n",
    "import json\n",
    "import import_ipynb\n",
    "from my_libs.calc_features import *\n",
    "from sklearn.preprocessing import StandardScaler\n",
    "from datetime import datetime\n"
   ]
  },
  {
   "cell_type": "code",
   "execution_count": 26,
   "metadata": {
    "scrolled": true
   },
   "outputs": [
    {
     "name": "stderr",
     "output_type": "stream",
     "text": [
      "D:\\Repo\\Anaconda2\\envs\\myenv\\lib\\site-packages\\IPython\\core\\interactiveshell.py:2728: DtypeWarning: Columns (1,3,4,5,6,7,9,10,11,14,16,17,18,19,20,21,24,25,27,28,30,32,33,34,35,36,38,39,40,41,42,44,45,46,47,49,51,53,55,56,57,58,59,60,61,63,64,65,69,70,71,72,73,76,77,78,80,81,82,83,84,85,86,87,88,90,92,93,94,97,100,101,102,103,106,107,108,109,111,113,114,116,117,119,121,123,128,129,130,133,134,135,138,139,140,141,142,143,144,146,147,150,151,152,153,155,156,160,162,166,167,168,169,170,174,176,177,179,181,182,184,186,187,189,190,191,193,194,195,196,197,200) have mixed types. Specify dtype option on import or set low_memory=False.\n",
      "  interactivity=interactivity, compiler=compiler, result=result)\n"
     ]
    },
    {
     "name": "stdout",
     "output_type": "stream",
     "text": [
      "База исторических режимов загружена за  0:00:00.945054\n",
      "(5, 41)\n",
      "(5, 41)\n",
      "Введенные данные очищены за  0:00:00.239013\n",
      "Предсказания  5  строчек за  0:00:00.005000\n",
      "Предсказания  5  строчек за  0:00:00.003000\n",
      "Базовый режим для строки  4  не найден.\n",
      "Найдены базовые исторические режимы за  0:00:00.697039\n",
      "Время работы скрипта на  5 строчках:  0:00:01.110063\n"
     ]
    },
    {
     "name": "stderr",
     "output_type": "stream",
     "text": [
      "D:\\Repo\\Anaconda2\\envs\\myenv\\lib\\site-packages\\pandas\\core\\indexes\\api.py:87: RuntimeWarning: '<' not supported between instances of 'str' and 'int', sort order is undefined for incomparable objects\n",
      "  result = result.union(other)\n",
      "D:\\Repo\\Anaconda2\\envs\\myenv\\lib\\site-packages\\pandas\\core\\indexes\\api.py:57: RuntimeWarning: '<' not supported between instances of 'int' and 'str', sort order is undefined for incomparable objects\n",
      "  union = _union_indexes(indexes)\n",
      "D:\\Repo\\Anaconda2\\envs\\myenv\\lib\\site-packages\\pandas\\core\\indexes\\api.py:87: RuntimeWarning: '<' not supported between instances of 'int' and 'str', sort order is undefined for incomparable objects\n",
      "  result = result.union(other)\n"
     ]
    }
   ],
   "source": [
    "load = datetime.now()\n",
    "database = pd.read_csv('prepared_to_saw_gp.csv')\n",
    "print('База исторических режимов загружена за ', datetime.now() - load)\n",
    "\n",
    "cleaned_input = pd.DataFrame()\n",
    "\n",
    "                \n",
    "def close_value(df, row, value):\n",
    "    s_close = df[row].value_counts().index[0]\n",
    "    min_delta = np.abs(s_close-value)\n",
    "    for s_ in df[row].value_counts().index:\n",
    "        delta = np.abs(s_-value)\n",
    "        if delta<min_delta:\n",
    "            min_delta = delta\n",
    "            s_close = s_\n",
    "    return s_close\n",
    "\n",
    "def find_close_sort(df):\n",
    "    tmp = pd.DataFrame()\n",
    "    for i in range(len(df.index)):\n",
    "        answ = df.iloc[i, :].copy()\n",
    "        mark = answ['марка стали']\n",
    "        d = answ['диаметр']\n",
    "        s = answ['толщина стенки']\n",
    "        gp = answ['Гр. прочн.']\n",
    "        answ = database[database['Гр. прочн.'] == gp]\n",
    "        if answ[answ['марка стали']==mark].shape[0]==0:\n",
    "            mark = mark.split('-')[0]\n",
    "        answ = answ[answ['марка стали']==mark]\n",
    "        if answ[answ['диаметр']==d].shape[0]!=0:\n",
    "            answ = answ[answ['диаметр']==d]\n",
    "            s_close = close_value(answ, 'толщина стенки',s)\n",
    "            answ = answ[answ['толщина стенки']==s_close]\n",
    "        elif answ[answ['толщина стенки']==s].shape[0]!=0:\n",
    "            answ = answ[answ['толщина стенки']==s]\n",
    "            d_close = close_value(danswatabase, 'диаметр',d)\n",
    "            answ = answ[answ['диаметр']==d_close]\n",
    "        answ = answ[answ['Дата термообработки'] == answ['Дата термообработки'].max()][:1]\n",
    "#         print('Исторические режимы найдены', answ.shape)\n",
    "        tmp = pd.concat([tmp, answ])\n",
    "        if answ.shape[0] == 0:\n",
    "            print('Базовый режим для строки ', i, ' не найден.' )\n",
    "            missing = ['-']\n",
    "            missing = pd.DataFrame(missing)\n",
    "            tmp = pd.concat([tmp, missing])\n",
    "    return tmp \n",
    "\n",
    "# возвращает модель, список признаков, по которому строилась модель и скейлер\n",
    "def load_model(dir_name, target):\n",
    "    model = pickle.load(open(dir_name+'/RF_model_'+target+'.sav', 'rb'))\n",
    "    ls_need_col = json.load(open(dir_name+'/ls_need_col', \"r\"))\n",
    "#     try:\n",
    "    scaler = StandardScaler()\n",
    "    scale_data = json.load(open(dir_name+'/scaler', \"r\"))\n",
    "    scaler.mean_ = scale_data[0]\n",
    "    scaler.scale_ = scale_data[1]\n",
    "#     except:\n",
    "#         scaler=None\n",
    "    return model, ls_need_col, scaler\n",
    "\n",
    "\n",
    "def make_result_valid_file(file_name, dir_names, targets, output_filename):\n",
    "    \"\"\"Сохраняет файл с результатами \"\"\"\n",
    "    result = pd.DataFrame()\n",
    "    base = pd.DataFrame()\n",
    "    k = 0\n",
    "    for target, dir_name in zip(targets,dir_names):\n",
    "        model, ls_need_col, scaler = load_model(dir_name, target)\n",
    "        time = datetime.now()\n",
    "        if k == 0:\n",
    "            try:\n",
    "                valid = clean_data(file_name, ls_columns_output)\n",
    "                valid.reset_index(drop=True, inplace=True)\n",
    "            except KeyError:\n",
    "                valid = clean_data(file_name, ls_columns_output+['№ партии', \"марка стали\"])\n",
    "                valid.reset_index(drop=True, inplace=True)\n",
    "            cleaned_input = valid.copy()\n",
    "            print('Введенные данные очищены за ', datetime.now() - time)\n",
    "        else:\n",
    "            valid = cleaned_input.copy()\n",
    "    #     print(valid['C-coef'])\n",
    "    #     valid = valid[valid['C-coef']<0.6]\n",
    "        time = datetime.now()\n",
    "        try:\n",
    "            y_valid = valid[target].copy()\n",
    "        except KeyError:\n",
    "            y_valid = [0 for x in range(0,valid.shape[0])]\n",
    "        try:\n",
    "            X_valid = valid[ls_columns_output].copy()\n",
    "        except KeyError:\n",
    "            X_valid = valid[ls_need_col].copy()\n",
    "#         print('Магия try-except`ов за ', datetime.now() - time)\n",
    "        X_valid_c = X_valid[ls_need_col].copy()\n",
    "        X_valid_c = scaler.transform(X_valid_c)\n",
    "        time = datetime.now()\n",
    "        y_pred = model.predict(X_valid_c)\n",
    "        print('Предсказания ', y_pred.shape[0], ' строчек за ', datetime.now() - time)\n",
    "        result[target] = y_valid\n",
    "        result['прогноз '+target] = y_pred\n",
    "#         result['MAE '+target] = np.abs(result[target] - result['прогноз '+target])\n",
    "        for x in range(result[target].shape[0]):\n",
    "            if result.loc[x, target] != 0:\n",
    "                result.loc[x, 'MAE '+target] = np.abs(result.loc[x, target] - result.loc[x, 'прогноз '+target])\n",
    "            else:\n",
    "                result.loc[x, 'MAE '+target] = ''\n",
    "#         result['MSE '+target] = result['MAE '+target].apply(lambda x: x*x)\n",
    "        k += 1\n",
    "\n",
    "#     result['отношение'] = result[targets[0]]/result[targets[1]]\n",
    "    time = datetime.now()\n",
    "    base = find_close_sort(X_valid)\n",
    "    print('Найдены базовые исторические режимы за ', datetime.now() - time)\n",
    "    time = datetime.now()\n",
    "    result = pd.concat([result, X_valid], axis=1)\n",
    "#     print('Конкатенация прогноза и введенных режимов за ', datetime.now() - time)\n",
    "    time = datetime.now()\n",
    "    base = base[list(set(base.columns) & set(result.columns))]\n",
    "    base.index = [str(i)+' исторический' for i in range(len(base.index))]\n",
    "#     print('Преобразование базовых режимов за ', datetime.now() - time)\n",
    "    con = pd.DataFrame()\n",
    "    time = datetime.now()\n",
    "    missing = ['-' for i in result.index]\n",
    "    missing = pd.DataFrame(missing)\n",
    "#     result.index = [str(i) for i in range(len(result.index))]\n",
    "#     con = pd.concat([result, base])\n",
    "    for i, j, k in zip(result.index, base.index, missing.index):\n",
    "        con = pd.concat([con, result[result.index == i], base[base.index == j], missing[missing.index == k]])\n",
    "#     print('Конкатенация базовых и введенных режимов за ', datetime.now() - time)\n",
    "    con = con[ls_columns_result + ls_columns_output]\n",
    "    con.to_excel(output_filename)\n",
    "    return con, y_valid, y_pred, base\n",
    "\n",
    "def make_result_valid_file_multi(file_name, dir_names, targets, output_filename):\n",
    "    \"\"\"Сохраняет файл с результатами \"\"\"\n",
    "    writer = pd.ExcelWriter(output_filename)\n",
    "    df_dict = pd.read_excel(file_name, sheetname=None)\n",
    "    for sheet, df in zip(df_dict, df_dict.values()):\n",
    "        result = pd.DataFrame()\n",
    "        base = pd.DataFrame()\n",
    "        k=0\n",
    "        for target, dir_name in zip(targets,dir_names):\n",
    "            model, ls_need_col, scaler = load_model(dir_name, target)\n",
    "            valid = clean_data_sheets(df, ls_need_col+['№ партии', 'марка стали'])\n",
    "            y_valid = valid[target].copy()\n",
    "            X_valid = valid[ls_columns_output].copy()\n",
    "            X_valid_c = X_valid[ls_need_col].copy()\n",
    "\n",
    "            y_pred = model.predict(X_valid_c)\n",
    "\n",
    "            result[target] = y_valid\n",
    "            result['прогноз '+target] = y_pred\n",
    "            result['MAE '+target] = np.abs(result[target]- result['прогноз '+target])\n",
    "            result['MSE '+target] = result['MAE '+target].apply(lambda x: x*x)\n",
    "            X_valid = new_spr(X_valid)\n",
    "            k+=1\n",
    "            if k==2:\n",
    "                result = pd.concat([result, X_valid], axis=1)\n",
    "#                 result = pd.concat([result, base])\n",
    "                result.to_excel(writer, sheet)\n",
    "                \n",
    "    writer.save()\n",
    "    return result, y_valid, y_pred, base\n",
    "\n",
    "# file_name = 'D:\\Repo\\PycharmProjects\\RELEASE\\PNTZ_sol_yuk\\PNTZ_sol_yuk\\input\\input.xlsx'\n",
    "file_name = 'D:\\Repo\\PycharmProjects\\RELEASE\\PNTZ_64\\input\\input.xlsx'\n",
    "# target = 'Врем. сопротивление'\n",
    "targets = ['Предел текучести','Врем. сопротивление']\n",
    "dir_names = ['DATA/MODELS_RF/YS RF valid', 'DATA/MODELS_RF/H RF valid']\n",
    "output_filename = 'DATA/modes_after_model/127x12,5 37g2f _ input - копия test find base modes.xlsx'\n",
    "\n",
    "time = datetime.now()\n",
    "df, y_valid, y_pred, dbasemode = make_result_valid_file(file_name, dir_names, targets, output_filename)\n",
    "print('Время работы скрипта на ', int(df.shape[0]/3), 'строчках: ', datetime.now() - time)"
   ]
  },
  {
   "cell_type": "code",
   "execution_count": 27,
   "metadata": {},
   "outputs": [],
   "source": [
    "df.to_excel('to_del.xlsx')"
   ]
  },
  {
   "cell_type": "code",
   "execution_count": 37,
   "metadata": {
    "collapsed": true
   },
   "outputs": [],
   "source": [
    "input_ = pd.read_excel('D:\\Repo\\PycharmProjects\\RELEASE\\PNTZ_64\\input\\input___________.xlsx')\n",
    "valid = clean_data(file_name, ls_columns_output)"
   ]
  },
  {
   "cell_type": "code",
   "execution_count": null,
   "metadata": {
    "collapsed": true
   },
   "outputs": [],
   "source": [
    "# df_dict = pd.read_excel('DATA/modes_before_model/top_typesize(рекомендации).xlsx', sheetname=None)\n",
    "# for sheet, df in zip(df_dict, df_dict.values()):\n",
    "#     valid = clean_data_sheets(df, ls_need_col+['№ партии', 'марка стали'])\n",
    "#     print(valid)"
   ]
  },
  {
   "cell_type": "code",
   "execution_count": 10,
   "metadata": {
    "collapsed": true
   },
   "outputs": [],
   "source": [
    "def close_value(df, row, value):\n",
    "    s_close = df[row].value_counts().index[0]\n",
    "    min_delta = np.abs(s_close-value)\n",
    "    for s_ in df[row].value_counts().index:\n",
    "        delta = np.abs(s_-value)\n",
    "        if delta<min_delta:\n",
    "            min_delta = delta\n",
    "            s_close = s_\n",
    "    return s_close\n",
    "\n",
    "def find_close_sort(df):\n",
    "    tmp = pd.DataFrame()\n",
    "    for i in range(len(df.index)):\n",
    "        answ = df.iloc[i, :].copy()\n",
    "        mark = answ['марка стали']\n",
    "        d = answ['диаметр']\n",
    "        s = answ['толщина стенки']\n",
    "        gp = answ['Гр. прочн.']\n",
    "        answ = database[database['Гр. прочн.']==gp]\n",
    "        if answ[answ['марка стали']==mark].shape[0]==0:\n",
    "            mark = mark.split('-')[0]\n",
    "        else:\n",
    "            answ = answ[answ['марка стали']==mark]\n",
    "        if answ[answ['диаметр']==d].shape[0]!=0:\n",
    "            answ = answ[answ['диаметр']==d]\n",
    "            s_close = close_value(answ, 'толщина стенки',s)\n",
    "            answ = answ[answ['толщина стенки']==s_close]\n",
    "        elif answ[answ['толщина стенки']==s].shape[0]!=0:\n",
    "            answ = answ[answ['толщина стенки']==s]\n",
    "            d_close = close_value(danswatabase, 'диаметр',d)\n",
    "            answ = answ[answ['диаметр']==d_close]\n",
    "        answ = answ[answ['Дата термообработки'] == answ['Дата термообработки'].max()][:1]\n",
    "#         print('Исторические режимы найдены', answ.shape)\n",
    "        tmp = pd.concat([tmp, answ])\n",
    "    return tmp "
   ]
  },
  {
   "cell_type": "code",
   "execution_count": 10,
   "metadata": {},
   "outputs": [
    {
     "data": {
      "text/html": [
       "<div>\n",
       "<style scoped>\n",
       "    .dataframe tbody tr th:only-of-type {\n",
       "        vertical-align: middle;\n",
       "    }\n",
       "\n",
       "    .dataframe tbody tr th {\n",
       "        vertical-align: top;\n",
       "    }\n",
       "\n",
       "    .dataframe thead th {\n",
       "        text-align: right;\n",
       "    }\n",
       "</style>\n",
       "<table border=\"1\" class=\"dataframe\">\n",
       "  <thead>\n",
       "    <tr style=\"text-align: right;\">\n",
       "      <th></th>\n",
       "      <th>0</th>\n",
       "    </tr>\n",
       "  </thead>\n",
       "  <tbody>\n",
       "    <tr>\n",
       "      <th>0</th>\n",
       "      <td>-</td>\n",
       "    </tr>\n",
       "  </tbody>\n",
       "</table>\n",
       "</div>"
      ],
      "text/plain": [
       "   0\n",
       "0  -"
      ]
     },
     "execution_count": 10,
     "metadata": {},
     "output_type": "execute_result"
    }
   ],
   "source": [
    "\n",
    "missing"
   ]
  },
  {
   "cell_type": "code",
   "execution_count": 12,
   "metadata": {
    "collapsed": true
   },
   "outputs": [],
   "source": [
    "df = pd.read_excel( 'D:\\Repo\\PycharmProjects\\RELEASE\\PNTZ_64\\input\\input___________.xlsx')"
   ]
  },
  {
   "cell_type": "code",
   "execution_count": 5,
   "metadata": {},
   "outputs": [
    {
     "name": "stderr",
     "output_type": "stream",
     "text": [
      "D:\\Repo\\Anaconda2\\envs\\myenv\\lib\\site-packages\\IPython\\core\\interactiveshell.py:2728: DtypeWarning: Columns (1,3,4,5,6,7,9,10,11,14,16,17,18,19,20,21,24,25,27,28,30,32,33,34,35,36,38,39,40,41,42,44,45,46,47,49,51,53,55,56,57,58,59,60,61,63,64,65,69,70,71,72,73,76,77,78,80,81,82,83,84,85,86,87,88,90,92,93,94,97,100,101,102,103,106,107,108,109,111,113,114,116,117,119,121,123,128,129,130,133,134,135,138,139,140,141,142,143,144,146,147,150,151,152,153,155,156,160,162,166,167,168,169,170,174,176,177,179,181,182,184,186,187,189,190,191,193,194,195,196,197,200) have mixed types. Specify dtype option on import or set low_memory=False.\n",
      "  interactivity=interactivity, compiler=compiler, result=result)\n"
     ]
    }
   ],
   "source": [
    "database = pd.read_csv('prepared_to_saw_gp.csv')"
   ]
  },
  {
   "cell_type": "code",
   "execution_count": 31,
   "metadata": {},
   "outputs": [
    {
     "name": "stdout",
     "output_type": "stream",
     "text": [
      "(5667, 201)\n",
      "Исторические режимы найдены (1, 201)\n",
      "(5667, 201)\n",
      "Исторические режимы найдены (1, 201)\n",
      "(719, 201)\n",
      "Исторические режимы найдены (1, 201)\n",
      "(719, 201)\n",
      "Исторические режимы найдены (1, 201)\n",
      "(7704, 201)\n",
      "Исторические режимы найдены (1, 201)\n"
     ]
    }
   ],
   "source": [
    "tmp = pd.DataFrame()\n",
    "for i in range(len(df.index)):\n",
    "    answ = df.iloc[i, :].copy()\n",
    "    mark = answ['марка стали']\n",
    "    d = answ['диаметр']\n",
    "    s = answ['толщина стенки']\n",
    "    gp = answ['Гр. прочн.']\n",
    "    answ = database[database['Гр. прочн.'] == gp]\n",
    "\n",
    "    if answ[answ['марка стали']==mark].shape[0]==0:\n",
    "        mark = mark.split('-')[0]\n",
    "    else:\n",
    "        answ = answ[answ['марка стали']==mark]\n",
    "\n",
    "    if answ[answ['диаметр']==d].shape[0]!=0:\n",
    "        answ = answ[answ['диаметр']==d]\n",
    "        s_close = close_value(answ, 'толщина стенки',s)\n",
    "        answ = answ[answ['толщина стенки']==s_close]\n",
    "    elif answ[answ['толщина стенки']==s].shape[0]!=0:\n",
    "        answ = answ[answ['толщина стенки']==s]\n",
    "        d_close = close_value(danswatabase, 'диаметр',d)\n",
    "        answ = answ[answ['диаметр']==d_close]\n",
    "    print(answ.shape)\n",
    "    answ = answ[answ['Дата термообработки'] == answ['Дата термообработки'].max()][:1]\n",
    "    print('Исторические режимы найдены', answ.shape)\n",
    "    tmp = pd.concat([tmp, answ])\n",
    "base = tmp[ls_columns_output]"
   ]
  },
  {
   "cell_type": "code",
   "execution_count": 32,
   "metadata": {},
   "outputs": [
    {
     "name": "stdout",
     "output_type": "stream",
     "text": [
      "corr 0.9491442637311868\n",
      "r2 0.8930216852957163\n",
      "explained_variance_score 0.8957239874637852\n",
      "mean_squared_error 19.292150409068473\n",
      "mean_absolute_error 3.2350262905404064\n",
      "median_absolute_error 2.4166564587036916\n"
     ]
    }
   ],
   "source": [
    "y_valid = tmp[targets[0]]\n",
    "y_pred = tmp['predicted '+targets[0]]\n",
    "\n",
    "from sklearn.metrics import r2_score \n",
    "from sklearn.metrics import explained_variance_score \n",
    "from sklearn.metrics import mean_squared_error\n",
    "from sklearn.metrics import median_absolute_error\n",
    "from sklearn.metrics import mean_absolute_error\n",
    "print('corr',np.corrcoef(y_valid, y_pred)[0][1])\n",
    "print('r2', r2_score(y_valid, y_pred))\n",
    "print('explained_variance_score', explained_variance_score(y_valid, y_pred))\n",
    "print('mean_squared_error', mean_squared_error(y_valid, y_pred))\n",
    "print('mean_absolute_error', mean_absolute_error(y_valid, y_pred))\n",
    "print('median_absolute_error', median_absolute_error(y_valid, y_pred))\n",
    "\n",
    "d = {\n",
    "    'corr': [np.corrcoef(y_valid, y_pred)[0][1]],\n",
    "    'r2': [r2_score(y_valid, y_pred)],\n",
    "    'explained_variance_score': [explained_variance_score(y_valid, y_pred)],\n",
    "    'mean_squared_error': [mean_squared_error(y_valid, y_pred)],\n",
    "    'mean_absolute_error': [mean_absolute_error(y_valid, y_pred)],\n",
    "    'median_absolute_error': [median_absolute_error(y_valid, y_pred)]\n",
    "}\n",
    "\n",
    "pd.DataFrame(d).to_excel(output_filename+'_scores.xlsx')"
   ]
  },
  {
   "cell_type": "code",
   "execution_count": 31,
   "metadata": {
    "scrolled": true
   },
   "outputs": [
    {
     "name": "stdout",
     "output_type": "stream",
     "text": [
      "corr 0.9643158026543087\n",
      "r2 0.9213201363358962\n",
      "explained_variance_score 0.9219271770797535\n",
      "mean_squared_error 11.392219003303019\n",
      "mean_absolute_error 2.49501703374625\n",
      "median_absolute_error 1.9771326530612328\n"
     ]
    }
   ],
   "source": [
    "y_valid = tmp[targets[1]]\n",
    "y_pred = tmp['predicted '+targets[1]]\n",
    "\n",
    "from sklearn.metrics import r2_score \n",
    "from sklearn.metrics import explained_variance_score \n",
    "from sklearn.metrics import mean_squared_error\n",
    "from sklearn.metrics import median_absolute_error\n",
    "from sklearn.metrics import mean_absolute_error\n",
    "print('corr',np.corrcoef(y_valid, y_pred)[0][1])\n",
    "print('r2', r2_score(y_valid, y_pred))\n",
    "print('explained_variance_score', explained_variance_score(y_valid, y_pred))\n",
    "print('mean_squared_error', mean_squared_error(y_valid, y_pred))\n",
    "print('mean_absolute_error', mean_absolute_error(y_valid, y_pred))\n",
    "print('median_absolute_error', median_absolute_error(y_valid, y_pred))\n",
    "\n",
    "d = {\n",
    "    'corr': [np.corrcoef(y_valid, y_pred)[0][1]],\n",
    "    'r2': [r2_score(y_valid, y_pred)],\n",
    "    'explained_variance_score': [explained_variance_score(y_valid, y_pred)],\n",
    "    'mean_squared_error': [mean_squared_error(y_valid, y_pred)],\n",
    "    'mean_absolute_error': [mean_absolute_error(y_valid, y_pred)],\n",
    "    'median_absolute_error': [median_absolute_error(y_valid, y_pred)]\n",
    "}\n",
    "\n",
    "pd.DataFrame(d).to_excel(output_filename+'_scores.xlsx')"
   ]
  },
  {
   "cell_type": "code",
   "execution_count": 93,
   "metadata": {},
   "outputs": [
    {
     "name": "stdout",
     "output_type": "stream",
     "text": [
      "0.20423000660938534 0.29610046265697293 0.4137475214805023\n",
      "0.11103767349636484 0.18968935888962327 0.29808327825512226\n"
     ]
    }
   ],
   "source": [
    "for target in targets:\n",
    "    print(\n",
    "        df[df['MAE '+target]>5].shape[0]/df.shape[0],\n",
    "          df[df['MAE '+target]>4].shape[0]/df.shape[0],\n",
    "        df[df['MAE '+target]>3].shape[0]/df.shape[0])"
   ]
  },
  {
   "cell_type": "code",
   "execution_count": 17,
   "metadata": {
    "collapsed": true
   },
   "outputs": [],
   "source": [
    "d ={\n",
    "   '% err >5': [df[df['MAE']>5].shape[0]/df.shape[0]],\n",
    "   '% err >4':  [df[df['MAE']>4].shape[0]/df.shape[0]],\n",
    "   '% err >3':  [df[df['MAE']>3].shape[0]/df.shape[0]]\n",
    "}\n",
    "\n",
    "pd.DataFrame(d).to_excel(dir_name+'/%.xlsx')"
   ]
  },
  {
   "cell_type": "code",
   "execution_count": 18,
   "metadata": {},
   "outputs": [
    {
     "data": {
      "text/plain": [
       "{'% err >3': [0.4527112232030265],\n",
       " '% err >4': [0.33921815889029006],\n",
       " '% err >5': [0.25598991172761665]}"
      ]
     },
     "execution_count": 18,
     "metadata": {},
     "output_type": "execute_result"
    }
   ],
   "source": [
    "d"
   ]
  }
 ],
 "metadata": {
  "kernelspec": {
   "display_name": "Python 3",
   "language": "python",
   "name": "python3"
  },
  "language_info": {
   "codemirror_mode": {
    "name": "ipython",
    "version": 3
   },
   "file_extension": ".py",
   "mimetype": "text/x-python",
   "name": "python",
   "nbconvert_exporter": "python",
   "pygments_lexer": "ipython3",
   "version": "3.6.4"
  }
 },
 "nbformat": 4,
 "nbformat_minor": 2
}
