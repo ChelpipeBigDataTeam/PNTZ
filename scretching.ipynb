{
 "cells": [
  {
   "cell_type": "code",
   "execution_count": 68,
   "metadata": {
    "collapsed": true
   },
   "outputs": [],
   "source": [
    "import pandas as pd\n",
    "import numpy as np\n",
    "import warnings\n",
    "import re\n",
    "from datetime import datetime\n",
    "from collections import OrderedDict\n",
    "warnings.filterwarnings('default')"
   ]
  },
  {
   "cell_type": "code",
   "execution_count": 12,
   "metadata": {
    "collapsed": true
   },
   "outputs": [],
   "source": [
    "# подгрузка всех файлов\n",
    "import os\n",
    "dr = 'exp'\n",
    "file_names = os.listdir(dr)\n",
    "file_names.remove('prepared')\n",
    "# файлы в список\n",
    "df_dicts = {}\n",
    "for name in file_names:\n",
    "    df_dicts[name]= pd.read_excel(dr+'\\\\'+name, None)\n",
    "#     print(name)"
   ]
  },
  {
   "cell_type": "code",
   "execution_count": 13,
   "metadata": {},
   "outputs": [
    {
     "data": {
      "text/plain": [
       "27"
      ]
     },
     "execution_count": 13,
     "metadata": {},
     "output_type": "execute_result"
    }
   ],
   "source": [
    "# список всех таблиц из всех файлов\n",
    "sheetname_list = []\n",
    "for name, dict_ in zip(df_dicts, df_dicts.values()):    \n",
    "    tmp = dict_.keys()\n",
    "    tmp = list(tmp)\n",
    "    tmp = tmp[2:-3]\n",
    "    sheetname_list.append(tmp)\n",
    "len(sheetname_list)"
   ]
  },
  {
   "cell_type": "code",
   "execution_count": 14,
   "metadata": {},
   "outputs": [
    {
     "name": "stdout",
     "output_type": "stream",
     "text": [
      "91\n"
     ]
    }
   ],
   "source": [
    "# dict_sheet_count - словарь всех вкладок(листов) из таблиц без дубликатов и их частоты\n",
    "# uniq_sheetname - множество всех вкладок(листов) из таблиц без дубликатов (не используется)\n",
    "\n",
    "dict_sheet_count = {}\n",
    "uniq_sheetname = set()\n",
    "for st in sheetname_list:\n",
    "    for ls in st:\n",
    "        uniq_sheetname.add(ls)\n",
    "\n",
    "\n",
    "uniq_sheetname = list(uniq_sheetname)\n",
    "uniq_sheetname.sort()\n",
    "print(len(uniq_sheetname))\n",
    "\n",
    "# добавление частот в словарь\n",
    "for st in sheetname_list:\n",
    "    for ls in st:\n",
    "        counts = dict_sheet_count.get(ls,0)\n",
    "        dict_sheet_count[ls] = counts + 1\n",
    "        \n",
    "        \n",
    "# df - для вывода словаря в excel            \n",
    "df = pd.DataFrame.from_dict(data = dict_sheet_count, orient='index')\n",
    "# df.to_excel('dict_sheet_count.xlsx')"
   ]
  },
  {
   "cell_type": "code",
   "execution_count": 6,
   "metadata": {
    "collapsed": true
   },
   "outputs": [],
   "source": [
    "# найти файл по вкладке и вывести размер вкладки\n",
    "def findfile(sheetname):\n",
    "    row = 0\n",
    "    col = 0\n",
    "    for name, df_l in df_dicts:\n",
    "        try:\n",
    "            col = df_l[sheetname].shape[1]\n",
    "            df_l[sheetname]\n",
    "            print(name)\n",
    "        except:\n",
    "            continue\n",
    "        try:\n",
    "            row += df_l[sheetname].shape[0] \n",
    "            if (abs(col - col)<1):\n",
    "                   continue\n",
    "            else:\n",
    "                col += abs(df_l[sheetname].shape[1] - col)\n",
    "        except:\n",
    "            continue\n",
    "    print('rows = %d, col = %d' %(row, col))\n"
   ]
  },
  {
   "cell_type": "code",
   "execution_count": 155,
   "metadata": {
    "collapsed": true
   },
   "outputs": [],
   "source": [
    "ls_mb_convert = [\n",
    "    'Предел текучести (1141)',\n",
    "    'Предел текучести (1027)',\n",
    "    'Предел текучести, Н/мм2 или МПа',\n",
    "    'Предел текучести , кгс/мм2',\n",
    "    'Предел текучести, кгс/мм2',\n",
    "    \n",
    "    \n",
    "    'Врем. сопротивление,  Н/мм2 или МПа',\n",
    "    'Врем. сопротивление (1140)',\n",
    "    'Врем. сопротивление (1042)',\n",
    "    'Врем. сопротивление , кгс/мм2',\n",
    "    'Врем. сопротивление, кгс/мм2'\n",
    "    \n",
    "]\n",
    "\n",
    "ls_mb_convert_ys = [\n",
    "    'Предел текучести (1141)',\n",
    "    'Предел текучести (1027)',\n",
    "    'Предел текучести, Н/мм2 или МПа',\n",
    "    'Предел текучести , кгс/мм2',\n",
    "    'Предел текучести, кгс/мм2',\n",
    "]\n",
    "\n",
    "ls_mb_convert_tr = [\n",
    "    'Врем. сопротивление,  Н/мм2 или МПа',\n",
    "    'Врем. сопротивление (1140)',\n",
    "    'Врем. сопротивление (1042)',\n",
    "    'Врем. сопротивление , кгс/мм2',\n",
    "    'Врем. сопротивление, кгс/мм2'\n",
    "]"
   ]
  },
  {
   "cell_type": "code",
   "execution_count": 156,
   "metadata": {
    "collapsed": true
   },
   "outputs": [],
   "source": [
    "def change_col_name(df):\n",
    "    for col in ls_mb_convert_tr:\n",
    "        if col in df:\n",
    "            df['Врем. сопротивление'] = df[col]\n",
    "            del df[col]\n",
    "    for col in ls_mb_convert_ys:\n",
    "        if col in df:\n",
    "            df['Предел текучести'] = df[col]\n",
    "            del df[col]\n",
    "    return df"
   ]
  },
  {
   "cell_type": "code",
   "execution_count": null,
   "metadata": {
    "collapsed": true
   },
   "outputs": [],
   "source": []
  },
  {
   "cell_type": "code",
   "execution_count": 8,
   "metadata": {
    "collapsed": true
   },
   "outputs": [],
   "source": [
    "ls_sheets = [\n",
    "    u'Растяжение, кгс мм2.',\n",
    "    u'Растяжение, н мм2.',\n",
    "]"
   ]
  },
  {
   "cell_type": "code",
   "execution_count": 149,
   "metadata": {},
   "outputs": [],
   "source": [
    "scretching = pd.DataFrame()\n",
    "for filename in file_names:\n",
    "    tmp = df_dicts[filename][u'Растяжение, кгс мм2.']\n",
    "    tmp = change_col_name(tmp)\n",
    "    scretching= pd.concat([tmp, scretching])"
   ]
  },
  {
   "cell_type": "code",
   "execution_count": 157,
   "metadata": {
    "collapsed": true
   },
   "outputs": [],
   "source": [
    "scretching2  = pd.DataFrame()\n",
    "for filename in file_names:\n",
    "    tmp = df_dicts[filename][u'Растяжение, н мм2.']\n",
    "    tmp = change_col_name(tmp)\n",
    "    scretching2= pd.concat([tmp, scretching2])"
   ]
  },
  {
   "cell_type": "code",
   "execution_count": 150,
   "metadata": {},
   "outputs": [],
   "source": [
    "scr_df = scretching[[\n",
    "    '№ плавки',\n",
    "    '№ партии',\n",
    "    'Дата форм. цехом',\n",
    "    'Марка стали',\n",
    "    'Тип предела текучести (1186)',\n",
    "    'Врем. сопротивление',\n",
    "    'Предел текучести' ]]"
   ]
  },
  {
   "cell_type": "code",
   "execution_count": 158,
   "metadata": {},
   "outputs": [],
   "source": [
    "scr_df2 = scretching2[[\n",
    "    '№ плавки',\n",
    "    '№ партии',\n",
    "    'Дата форм. цехом',\n",
    "    'Марка стали',\n",
    "    'Тип предела текучести (1186)',\n",
    "    'Врем. сопротивление',\n",
    "    'Предел текучести' ]]"
   ]
  },
  {
   "cell_type": "code",
   "execution_count": 42,
   "metadata": {},
   "outputs": [],
   "source": [
    "scr_df= scr_df[scr_df['Тип предела текучести (1186)']==0.2]\n",
    "# .describe()"
   ]
  },
  {
   "cell_type": "code",
   "execution_count": 159,
   "metadata": {
    "collapsed": true
   },
   "outputs": [],
   "source": [
    "scr_df2= scr_df2[scr_df2['Тип предела текучести (1186)']==0.2]\n",
    "# .describe()"
   ]
  },
  {
   "cell_type": "code",
   "execution_count": 160,
   "metadata": {},
   "outputs": [
    {
     "data": {
      "text/html": [
       "<div>\n",
       "<style scoped>\n",
       "    .dataframe tbody tr th:only-of-type {\n",
       "        vertical-align: middle;\n",
       "    }\n",
       "\n",
       "    .dataframe tbody tr th {\n",
       "        vertical-align: top;\n",
       "    }\n",
       "\n",
       "    .dataframe thead th {\n",
       "        text-align: right;\n",
       "    }\n",
       "</style>\n",
       "<table border=\"1\" class=\"dataframe\">\n",
       "  <thead>\n",
       "    <tr style=\"text-align: right;\">\n",
       "      <th></th>\n",
       "      <th>Тип предела текучести (1186)</th>\n",
       "      <th>Врем. сопротивление</th>\n",
       "      <th>Предел текучести</th>\n",
       "    </tr>\n",
       "  </thead>\n",
       "  <tbody>\n",
       "    <tr>\n",
       "      <th>count</th>\n",
       "      <td>6045.0</td>\n",
       "      <td>5971.000000</td>\n",
       "      <td>5973.000000</td>\n",
       "    </tr>\n",
       "    <tr>\n",
       "      <th>mean</th>\n",
       "      <td>0.2</td>\n",
       "      <td>769.828303</td>\n",
       "      <td>660.176511</td>\n",
       "    </tr>\n",
       "    <tr>\n",
       "      <th>std</th>\n",
       "      <td>0.0</td>\n",
       "      <td>125.870970</td>\n",
       "      <td>135.497681</td>\n",
       "    </tr>\n",
       "    <tr>\n",
       "      <th>min</th>\n",
       "      <td>0.2</td>\n",
       "      <td>46.500000</td>\n",
       "      <td>26.000000</td>\n",
       "    </tr>\n",
       "    <tr>\n",
       "      <th>25%</th>\n",
       "      <td>0.2</td>\n",
       "      <td>728.500000</td>\n",
       "      <td>621.000000</td>\n",
       "    </tr>\n",
       "    <tr>\n",
       "      <th>50%</th>\n",
       "      <td>0.2</td>\n",
       "      <td>775.000000</td>\n",
       "      <td>670.000000</td>\n",
       "    </tr>\n",
       "    <tr>\n",
       "      <th>75%</th>\n",
       "      <td>0.2</td>\n",
       "      <td>816.000000</td>\n",
       "      <td>721.000000</td>\n",
       "    </tr>\n",
       "    <tr>\n",
       "      <th>max</th>\n",
       "      <td>0.2</td>\n",
       "      <td>1208.000000</td>\n",
       "      <td>1126.000000</td>\n",
       "    </tr>\n",
       "  </tbody>\n",
       "</table>\n",
       "</div>"
      ],
      "text/plain": [
       "       Тип предела текучести (1186)  Врем. сопротивление  Предел текучести\n",
       "count                        6045.0          5971.000000       5973.000000\n",
       "mean                            0.2           769.828303        660.176511\n",
       "std                             0.0           125.870970        135.497681\n",
       "min                             0.2            46.500000         26.000000\n",
       "25%                             0.2           728.500000        621.000000\n",
       "50%                             0.2           775.000000        670.000000\n",
       "75%                             0.2           816.000000        721.000000\n",
       "max                             0.2          1208.000000       1126.000000"
      ]
     },
     "execution_count": 160,
     "metadata": {},
     "output_type": "execute_result"
    }
   ],
   "source": [
    "scr_df2.describe()"
   ]
  },
  {
   "cell_type": "code",
   "execution_count": 143,
   "metadata": {},
   "outputs": [],
   "source": [
    "scr_df.describe()"
   ]
  },
  {
   "cell_type": "code",
   "execution_count": 45,
   "metadata": {
    "collapsed": true
   },
   "outputs": [],
   "source": [
    "scr_df['Врем. сопротивление'] = scr_df['Врем. сопротивление'].apply(lambda x: x/9.8 if x>200 else x)\n",
    "scr_df['Предел текучести'] = scr_df['Предел текучести'].apply(lambda x: x/9.8 if x>200 else x)"
   ]
  },
  {
   "cell_type": "code",
   "execution_count": 162,
   "metadata": {},
   "outputs": [],
   "source": [
    "scr_df2['Врем. сопротивление'] = scr_df2['Врем. сопротивление'].apply(lambda x: x/9.8 if x>200 else x)\n",
    "scr_df2['Предел текучести'] = scr_df2['Предел текучести'].apply(lambda x: x/9.8 if x>200 else x)"
   ]
  },
  {
   "cell_type": "code",
   "execution_count": 163,
   "metadata": {},
   "outputs": [
    {
     "data": {
      "text/html": [
       "<div>\n",
       "<style scoped>\n",
       "    .dataframe tbody tr th:only-of-type {\n",
       "        vertical-align: middle;\n",
       "    }\n",
       "\n",
       "    .dataframe tbody tr th {\n",
       "        vertical-align: top;\n",
       "    }\n",
       "\n",
       "    .dataframe thead th {\n",
       "        text-align: right;\n",
       "    }\n",
       "</style>\n",
       "<table border=\"1\" class=\"dataframe\">\n",
       "  <thead>\n",
       "    <tr style=\"text-align: right;\">\n",
       "      <th></th>\n",
       "      <th>Тип предела текучести (1186)</th>\n",
       "      <th>Врем. сопротивление</th>\n",
       "      <th>Предел текучести</th>\n",
       "    </tr>\n",
       "  </thead>\n",
       "  <tbody>\n",
       "    <tr>\n",
       "      <th>count</th>\n",
       "      <td>6045.0</td>\n",
       "      <td>5971.000000</td>\n",
       "      <td>5973.000000</td>\n",
       "    </tr>\n",
       "    <tr>\n",
       "      <th>mean</th>\n",
       "      <td>0.2</td>\n",
       "      <td>78.660608</td>\n",
       "      <td>67.447861</td>\n",
       "    </tr>\n",
       "    <tr>\n",
       "      <th>std</th>\n",
       "      <td>0.0</td>\n",
       "      <td>12.527520</td>\n",
       "      <td>13.624434</td>\n",
       "    </tr>\n",
       "    <tr>\n",
       "      <th>min</th>\n",
       "      <td>0.2</td>\n",
       "      <td>46.122449</td>\n",
       "      <td>26.000000</td>\n",
       "    </tr>\n",
       "    <tr>\n",
       "      <th>25%</th>\n",
       "      <td>0.2</td>\n",
       "      <td>74.336735</td>\n",
       "      <td>63.418367</td>\n",
       "    </tr>\n",
       "    <tr>\n",
       "      <th>50%</th>\n",
       "      <td>0.2</td>\n",
       "      <td>79.081633</td>\n",
       "      <td>68.367347</td>\n",
       "    </tr>\n",
       "    <tr>\n",
       "      <th>75%</th>\n",
       "      <td>0.2</td>\n",
       "      <td>83.316327</td>\n",
       "      <td>73.571429</td>\n",
       "    </tr>\n",
       "    <tr>\n",
       "      <th>max</th>\n",
       "      <td>0.2</td>\n",
       "      <td>123.265306</td>\n",
       "      <td>114.897959</td>\n",
       "    </tr>\n",
       "  </tbody>\n",
       "</table>\n",
       "</div>"
      ],
      "text/plain": [
       "       Тип предела текучести (1186)  Врем. сопротивление  Предел текучести\n",
       "count                        6045.0          5971.000000       5973.000000\n",
       "mean                            0.2            78.660608         67.447861\n",
       "std                             0.0            12.527520         13.624434\n",
       "min                             0.2            46.122449         26.000000\n",
       "25%                             0.2            74.336735         63.418367\n",
       "50%                             0.2            79.081633         68.367347\n",
       "75%                             0.2            83.316327         73.571429\n",
       "max                             0.2           123.265306        114.897959"
      ]
     },
     "execution_count": 163,
     "metadata": {},
     "output_type": "execute_result"
    }
   ],
   "source": [
    "scr_df2.describe()"
   ]
  },
  {
   "cell_type": "code",
   "execution_count": 164,
   "metadata": {
    "collapsed": true
   },
   "outputs": [],
   "source": [
    "scr_df = pd.concat([scr_df, scr_df2])"
   ]
  },
  {
   "cell_type": "code",
   "execution_count": 50,
   "metadata": {
    "collapsed": true
   },
   "outputs": [],
   "source": [
    "scr_df.to_excel('table_stretching_13april.xlsx')"
   ]
  },
  {
   "cell_type": "code",
   "execution_count": 165,
   "metadata": {
    "collapsed": true
   },
   "outputs": [],
   "source": [
    "scr_df['№ партии']=scr_df['№ партии'].apply(lambda x: str(x))"
   ]
  },
  {
   "cell_type": "code",
   "execution_count": 166,
   "metadata": {},
   "outputs": [
    {
     "data": {
      "text/plain": [
       "(27247, 7)"
      ]
     },
     "execution_count": 166,
     "metadata": {},
     "output_type": "execute_result"
    }
   ],
   "source": [
    "scr_df.shape"
   ]
  },
  {
   "cell_type": "code",
   "execution_count": 167,
   "metadata": {},
   "outputs": [
    {
     "data": {
      "text/plain": [
       "(26675, 7)"
      ]
     },
     "execution_count": 167,
     "metadata": {},
     "output_type": "execute_result"
    }
   ],
   "source": [
    "scr_df.drop_duplicates(inplace = True)\n",
    "scr_df.shape"
   ]
  },
  {
   "cell_type": "code",
   "execution_count": 168,
   "metadata": {},
   "outputs": [],
   "source": [
    "scr_df['Дата форм. цехом'] = scr_df['Дата форм. цехом'].apply(lambda x: datetime.strptime(x, \"%d.%m.%Y\"))\n",
    "# dt = datetime.strptime(\"01.02.2016\", \"%d.%m.%Y\")\n",
    "# dt"
   ]
  },
  {
   "cell_type": "code",
   "execution_count": 169,
   "metadata": {
    "collapsed": true
   },
   "outputs": [],
   "source": [
    "scr_df.reset_index(inplace=True,drop=True)"
   ]
  },
  {
   "cell_type": "code",
   "execution_count": 170,
   "metadata": {},
   "outputs": [],
   "source": [
    "undupl = scr_df[~scr_df[['№ плавки', '№ партии']].duplicated(keep = False)]"
   ]
  },
  {
   "cell_type": "code",
   "execution_count": 171,
   "metadata": {},
   "outputs": [],
   "source": [
    "dupl_need_to_mean = scr_df[scr_df[['№ плавки', '№ партии']].duplicated(keep = False)]\n",
    "# sort_values(['№ партии', 'Дата форм. цехом'])"
   ]
  },
  {
   "cell_type": "code",
   "execution_count": 172,
   "metadata": {},
   "outputs": [
    {
     "data": {
      "text/plain": [
       "((16990, 7), (9685, 7), 26675)"
      ]
     },
     "execution_count": 172,
     "metadata": {},
     "output_type": "execute_result"
    }
   ],
   "source": [
    "dupl_need_to_mean.shape, undupl.shape, dupl_need_to_mean.shape[0]+undupl.shape[0]"
   ]
  },
  {
   "cell_type": "code",
   "execution_count": 128,
   "metadata": {},
   "outputs": [
    {
     "data": {
      "text/plain": [
       "'11'"
      ]
     },
     "execution_count": 128,
     "metadata": {},
     "output_type": "execute_result"
    }
   ],
   "source": [
    "# d = {1:['11', '12'], 2:['21', '22']}\n",
    "# ttt = pd.DataFrame(d)\n",
    "# ttt\n",
    "ttt[1].iloc[0]"
   ]
  },
  {
   "cell_type": "code",
   "execution_count": 173,
   "metadata": {},
   "outputs": [],
   "source": [
    "def mean_func(x):\n",
    "    if min(x['Дата форм. цехом'])!=max(x['Дата форм. цехом']):\n",
    "        x = x[x['Дата форм. цехом']==max(x['Дата форм. цехом'])]\n",
    "        x['Врем. сопротивление'] = x['Врем. сопротивление'].mean()\n",
    "        x['Предел текучести'] = x['Предел текучести'].mean()\n",
    "#         x['Марка стали'] = x['Марка стали'].iloc[0]\n",
    "    else:\n",
    "        x['Врем. сопротивление'] = x['Врем. сопротивление'].mean()\n",
    "        x['Предел текучести'] = x['Предел текучести'].mean()\n",
    "#         x['Марка стали'] = x['Марка стали'].iloc[0]\n",
    "    return x.mean()"
   ]
  },
  {
   "cell_type": "code",
   "execution_count": 174,
   "metadata": {},
   "outputs": [],
   "source": [
    "y = dupl_need_to_mean.groupby(['№ плавки', '№ партии'])['Дата форм. цехом',\n",
    "    'Марка стали',\n",
    "    'Тип предела текучести (1186)',\n",
    "    'Врем. сопротивление',\n",
    "    'Предел текучести'].apply(mean_func)"
   ]
  },
  {
   "cell_type": "code",
   "execution_count": 176,
   "metadata": {},
   "outputs": [],
   "source": [
    "# y.reset_index(inplace=True)\n",
    "# y"
   ]
  },
  {
   "cell_type": "code",
   "execution_count": 105,
   "metadata": {},
   "outputs": [],
   "source": [
    "dupl_need_to_mean.sort_values(['№ партии', 'Дата форм. цехом'])"
   ]
  },
  {
   "cell_type": "code",
   "execution_count": 177,
   "metadata": {},
   "outputs": [
    {
     "data": {
      "text/html": [
       "<div>\n",
       "<style scoped>\n",
       "    .dataframe tbody tr th:only-of-type {\n",
       "        vertical-align: middle;\n",
       "    }\n",
       "\n",
       "    .dataframe tbody tr th {\n",
       "        vertical-align: top;\n",
       "    }\n",
       "\n",
       "    .dataframe thead th {\n",
       "        text-align: right;\n",
       "    }\n",
       "</style>\n",
       "<table border=\"1\" class=\"dataframe\">\n",
       "  <thead>\n",
       "    <tr style=\"text-align: right;\">\n",
       "      <th></th>\n",
       "      <th>№ плавки</th>\n",
       "      <th>№ партии</th>\n",
       "      <th>Тип предела текучести (1186)</th>\n",
       "      <th>Врем. сопротивление</th>\n",
       "      <th>Предел текучести</th>\n",
       "    </tr>\n",
       "  </thead>\n",
       "  <tbody>\n",
       "  </tbody>\n",
       "</table>\n",
       "</div>"
      ],
      "text/plain": [
       "Empty DataFrame\n",
       "Columns: [№ плавки, № партии, Тип предела текучести (1186), Врем. сопротивление, Предел текучести]\n",
       "Index: []"
      ]
     },
     "execution_count": 177,
     "metadata": {},
     "output_type": "execute_result"
    }
   ],
   "source": [
    "# y[y[['№ плавки', '№ партии']].duplicated(keep = False)].sort_values(['№ партии'])"
   ]
  },
  {
   "cell_type": "code",
   "execution_count": 178,
   "metadata": {},
   "outputs": [],
   "source": [
    "tmp = undupl[['№ плавки', '№ партии', 'Тип предела текучести (1186)',\n",
    "    'Врем. сопротивление',\n",
    "    'Предел текучести']]\n",
    "y = pd.concat([y, tmp])"
   ]
  },
  {
   "cell_type": "code",
   "execution_count": 179,
   "metadata": {},
   "outputs": [
    {
     "data": {
      "text/plain": [
       "(16392, 5)"
      ]
     },
     "execution_count": 179,
     "metadata": {},
     "output_type": "execute_result"
    }
   ],
   "source": [
    "y.shape"
   ]
  },
  {
   "cell_type": "code",
   "execution_count": 180,
   "metadata": {},
   "outputs": [],
   "source": [
    "y.to_excel('table_stretching_13april.xlsx')"
   ]
  },
  {
   "cell_type": "code",
   "execution_count": null,
   "metadata": {
    "collapsed": true
   },
   "outputs": [],
   "source": []
  }
 ],
 "metadata": {
  "kernelspec": {
   "display_name": "Python 3",
   "language": "python",
   "name": "python3"
  },
  "language_info": {
   "codemirror_mode": {
    "name": "ipython",
    "version": 3
   },
   "file_extension": ".py",
   "mimetype": "text/x-python",
   "name": "python",
   "nbconvert_exporter": "python",
   "pygments_lexer": "ipython3",
   "version": "3.6.4"
  }
 },
 "nbformat": 4,
 "nbformat_minor": 2
}
