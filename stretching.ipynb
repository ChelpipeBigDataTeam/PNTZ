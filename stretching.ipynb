{
 "cells": [
  {
   "cell_type": "code",
   "execution_count": 1,
   "metadata": {
    "collapsed": true
   },
   "outputs": [],
   "source": [
    "def findfile(sheetname):\n",
    "    row = 0\n",
    "    col = 0\n",
    "    for name, df_l in df_dicts:\n",
    "        try:\n",
    "            col = df_l[sheetname].shape[1]\n",
    "            df_l[sheetname]\n",
    "            print(name)\n",
    "        except:\n",
    "            continue\n",
    "        try:\n",
    "            row += df_l[sheetname].shape[0] \n",
    "            if (abs(col - col)<1):\n",
    "                   continue\n",
    "            else:\n",
    "                col += abs(df_l[sheetname].shape[1] - col)\n",
    "        except:\n",
    "            continue\n",
    "    print('rows = %d, col = %d' %(row, col))"
   ]
  },
  {
   "cell_type": "code",
   "execution_count": 2,
   "metadata": {
    "collapsed": true
   },
   "outputs": [],
   "source": [
    "import pandas as pd\n",
    "import numpy as np\n",
    "import warnings\n",
    "import re\n",
    "from datetime import datetime\n",
    "from collections import OrderedDict\n",
    "warnings.filterwarnings('default')"
   ]
  },
  {
   "cell_type": "code",
   "execution_count": 3,
   "metadata": {
    "collapsed": true
   },
   "outputs": [],
   "source": [
    "# подгрузка всех файлов\n",
    "import os\n",
    "dr = 'DATA/source/exp'\n",
    "file_names = os.listdir(dr)\n",
    "file_names.remove('prepared')\n",
    "# файлы в список\n",
    "df_dicts = {}\n",
    "for name in file_names:\n",
    "    df_dicts[name]= pd.read_excel(dr+'\\\\'+name, None)\n",
    "#     print(name)"
   ]
  },
  {
   "cell_type": "code",
   "execution_count": 4,
   "metadata": {
    "collapsed": true
   },
   "outputs": [],
   "source": [
    "# file_names"
   ]
  },
  {
   "cell_type": "code",
   "execution_count": 5,
   "metadata": {},
   "outputs": [
    {
     "data": {
      "text/plain": [
       "30"
      ]
     },
     "execution_count": 5,
     "metadata": {},
     "output_type": "execute_result"
    }
   ],
   "source": [
    "# список всех таблиц из всех файлов\n",
    "sheetname_list = []\n",
    "for name, dict_ in zip(df_dicts, df_dicts.values()):    \n",
    "    tmp = dict_.keys()\n",
    "    tmp = list(tmp)\n",
    "    tmp = tmp[2:-3]\n",
    "    sheetname_list.append(tmp)\n",
    "len(sheetname_list)"
   ]
  },
  {
   "cell_type": "code",
   "execution_count": 6,
   "metadata": {},
   "outputs": [
    {
     "name": "stdout",
     "output_type": "stream",
     "text": [
      "114\n"
     ]
    }
   ],
   "source": [
    "# dict_sheet_count - словарь всех вкладок(листов) из таблиц без дубликатов и их частоты\n",
    "# uniq_sheetname - множество всех вкладок(листов) из таблиц без дубликатов (не используется)\n",
    "\n",
    "dict_sheet_count = {}\n",
    "uniq_sheetname = set()\n",
    "for st in sheetname_list:\n",
    "    for ls in st:\n",
    "        uniq_sheetname.add(ls)\n",
    "\n",
    "\n",
    "uniq_sheetname = list(uniq_sheetname)\n",
    "uniq_sheetname.sort()\n",
    "print(len(uniq_sheetname))\n",
    "\n",
    "# добавление частот в словарь\n",
    "for st in sheetname_list:\n",
    "    for ls in st:\n",
    "        counts = dict_sheet_count.get(ls,0)\n",
    "        dict_sheet_count[ls] = counts + 1\n",
    "        \n",
    "        \n",
    "# df - для вывода словаря в excel            \n",
    "df = pd.DataFrame.from_dict(data = dict_sheet_count, orient='index')\n",
    "# df.to_excel('dict_sheet_count.xlsx')"
   ]
  },
  {
   "cell_type": "code",
   "execution_count": 7,
   "metadata": {
    "collapsed": true
   },
   "outputs": [],
   "source": [
    "ls_mb_convert_ys = [\n",
    "    'Предел текучести (1141)',\n",
    "    'Предел текучести (1027)',\n",
    "    'Предел текучести, Н/мм2 или МПа',\n",
    "    'Предел текучести , кгс/мм2',\n",
    "    'Предел текучести, кгс/мм2',\n",
    "]\n",
    "\n",
    "ls_mb_convert_tr = [\n",
    "    'Врем. сопротивление,  Н/мм2 или МПа',\n",
    "    'Врем. сопротивление (1140)',\n",
    "    'Врем. сопротивление (1042)',\n",
    "    'Врем. сопротивление , кгс/мм2',\n",
    "    'Врем. сопротивление, кгс/мм2'\n",
    "]\n",
    "\n",
    "ls_mb_convert = ls_mb_convert_ys+ls_mb_convert_tr"
   ]
  },
  {
   "cell_type": "code",
   "execution_count": 8,
   "metadata": {
    "collapsed": true
   },
   "outputs": [],
   "source": [
    "def change_col_name(df):\n",
    "    for col in ls_mb_convert_tr:\n",
    "        if col in df:\n",
    "            df['Врем. сопротивление'] = df[col]\n",
    "            del df[col]\n",
    "    for col in ls_mb_convert_ys:\n",
    "        if col in df:\n",
    "            df['Предел текучести'] = df[col]\n",
    "            del df[col]\n",
    "    return df"
   ]
  },
  {
   "cell_type": "code",
   "execution_count": 9,
   "metadata": {
    "collapsed": true
   },
   "outputs": [],
   "source": [
    "ls_sheets = [\n",
    "    u'Растяжение, кгс мм2.',\n",
    "    u'Растяжение, н мм2.',\n",
    "]"
   ]
  },
  {
   "cell_type": "code",
   "execution_count": 10,
   "metadata": {
    "collapsed": true
   },
   "outputs": [],
   "source": [
    "scretching = pd.DataFrame()\n",
    "for filename in file_names:\n",
    "    tmp = df_dicts[filename][u'Растяжение, кгс мм2.']\n",
    "    tmp = change_col_name(tmp)\n",
    "    scretching= pd.concat([tmp, scretching])"
   ]
  },
  {
   "cell_type": "code",
   "execution_count": 11,
   "metadata": {
    "collapsed": true
   },
   "outputs": [],
   "source": [
    "scretching2  = pd.DataFrame()\n",
    "for filename in file_names:\n",
    "    tmp = df_dicts[filename][u'Растяжение, н мм2.']\n",
    "    tmp = change_col_name(tmp)\n",
    "    scretching2= pd.concat([tmp, scretching2])"
   ]
  },
  {
   "cell_type": "code",
   "execution_count": 12,
   "metadata": {
    "collapsed": true
   },
   "outputs": [],
   "source": [
    "scr_df = scretching[[\n",
    "    '№ плавки',\n",
    "    '№ партии',\n",
    "    'Дата форм. цехом',\n",
    "    'Марка стали',\n",
    "    'Тип предела текучести (1186)',\n",
    "    'Врем. сопротивление',\n",
    "    'Предел текучести',\n",
    "    'ГОСТ, ТУ', 'Гр. прочн.']].copy()"
   ]
  },
  {
   "cell_type": "code",
   "execution_count": 13,
   "metadata": {
    "collapsed": true
   },
   "outputs": [],
   "source": [
    "scr_df2 = scretching2[[\n",
    "    '№ плавки',\n",
    "    '№ партии',\n",
    "    'Дата форм. цехом',\n",
    "    'Марка стали',\n",
    "    'Тип предела текучести (1186)',\n",
    "    'Врем. сопротивление',\n",
    "    'Предел текучести',\n",
    "    'ГОСТ, ТУ', 'Гр. прочн.']].copy()"
   ]
  },
  {
   "cell_type": "code",
   "execution_count": 14,
   "metadata": {},
   "outputs": [
    {
     "data": {
      "text/html": [
       "<div>\n",
       "<style scoped>\n",
       "    .dataframe tbody tr th:only-of-type {\n",
       "        vertical-align: middle;\n",
       "    }\n",
       "\n",
       "    .dataframe tbody tr th {\n",
       "        vertical-align: top;\n",
       "    }\n",
       "\n",
       "    .dataframe thead th {\n",
       "        text-align: right;\n",
       "    }\n",
       "</style>\n",
       "<table border=\"1\" class=\"dataframe\">\n",
       "  <thead>\n",
       "    <tr style=\"text-align: right;\">\n",
       "      <th></th>\n",
       "      <th>№ плавки</th>\n",
       "      <th>№ партии</th>\n",
       "      <th>Дата форм. цехом</th>\n",
       "      <th>Марка стали</th>\n",
       "      <th>Тип предела текучести (1186)</th>\n",
       "      <th>Врем. сопротивление</th>\n",
       "      <th>Предел текучести</th>\n",
       "      <th>ГОСТ, ТУ</th>\n",
       "      <th>Гр. прочн.</th>\n",
       "    </tr>\n",
       "  </thead>\n",
       "  <tbody>\n",
       "  </tbody>\n",
       "</table>\n",
       "</div>"
      ],
      "text/plain": [
       "Empty DataFrame\n",
       "Columns: [№ плавки, № партии, Дата форм. цехом, Марка стали, Тип предела текучести (1186), Врем. сопротивление, Предел текучести, ГОСТ, ТУ, Гр. прочн.]\n",
       "Index: []"
      ]
     },
     "execution_count": 14,
     "metadata": {},
     "output_type": "execute_result"
    }
   ],
   "source": [
    "scr_df[scr_df['№ партии']==712261]"
   ]
  },
  {
   "cell_type": "code",
   "execution_count": 16,
   "metadata": {
    "collapsed": true
   },
   "outputs": [],
   "source": [
    "# scr_df= scr_df[scr_df['Тип предела текучести (1186)']==0.2]"
   ]
  },
  {
   "cell_type": "code",
   "execution_count": 17,
   "metadata": {
    "collapsed": true
   },
   "outputs": [],
   "source": [
    "# scr_df2= scr_df2[scr_df2['Тип предела текучести (1186)']==0.2]\n",
    "# .describe()"
   ]
  },
  {
   "cell_type": "code",
   "execution_count": 18,
   "metadata": {
    "collapsed": true
   },
   "outputs": [],
   "source": [
    "# scr_df2.describe()"
   ]
  },
  {
   "cell_type": "code",
   "execution_count": 19,
   "metadata": {
    "collapsed": true
   },
   "outputs": [],
   "source": [
    "# scr_df.describe()"
   ]
  },
  {
   "cell_type": "code",
   "execution_count": 15,
   "metadata": {
    "collapsed": true
   },
   "outputs": [],
   "source": [
    "scr_df.loc[:, 'Врем. сопротивление'] = scr_df['Врем. сопротивление'].apply(lambda x: x/9.8 if x>200 else x)\n",
    "scr_df.loc[:, 'Предел текучести'] = scr_df['Предел текучести'].apply(lambda x: x/9.8 if x>200 else x);"
   ]
  },
  {
   "cell_type": "code",
   "execution_count": 16,
   "metadata": {
    "collapsed": true
   },
   "outputs": [],
   "source": [
    "scr_df2['Врем. сопротивление'] = scr_df2['Врем. сопротивление'].apply(lambda x: x/9.8 if x>200 else x)\n",
    "scr_df2['Предел текучести'] = scr_df2['Предел текучести'].apply(lambda x: x/9.8 if x>200 else x)"
   ]
  },
  {
   "cell_type": "code",
   "execution_count": 17,
   "metadata": {},
   "outputs": [
    {
     "data": {
      "text/html": [
       "<div>\n",
       "<style scoped>\n",
       "    .dataframe tbody tr th:only-of-type {\n",
       "        vertical-align: middle;\n",
       "    }\n",
       "\n",
       "    .dataframe tbody tr th {\n",
       "        vertical-align: top;\n",
       "    }\n",
       "\n",
       "    .dataframe thead th {\n",
       "        text-align: right;\n",
       "    }\n",
       "</style>\n",
       "<table border=\"1\" class=\"dataframe\">\n",
       "  <thead>\n",
       "    <tr style=\"text-align: right;\">\n",
       "      <th></th>\n",
       "      <th>Тип предела текучести (1186)</th>\n",
       "      <th>Врем. сопротивление</th>\n",
       "      <th>Предел текучести</th>\n",
       "    </tr>\n",
       "  </thead>\n",
       "  <tbody>\n",
       "    <tr>\n",
       "      <th>count</th>\n",
       "      <td>21613.000000</td>\n",
       "      <td>21687.000000</td>\n",
       "      <td>21671.000000</td>\n",
       "    </tr>\n",
       "    <tr>\n",
       "      <th>mean</th>\n",
       "      <td>0.200629</td>\n",
       "      <td>70.435213</td>\n",
       "      <td>58.048872</td>\n",
       "    </tr>\n",
       "    <tr>\n",
       "      <th>std</th>\n",
       "      <td>0.014190</td>\n",
       "      <td>15.501042</td>\n",
       "      <td>16.800998</td>\n",
       "    </tr>\n",
       "    <tr>\n",
       "      <th>min</th>\n",
       "      <td>0.200000</td>\n",
       "      <td>35.500000</td>\n",
       "      <td>19.000000</td>\n",
       "    </tr>\n",
       "    <tr>\n",
       "      <th>25%</th>\n",
       "      <td>0.200000</td>\n",
       "      <td>56.500000</td>\n",
       "      <td>43.500000</td>\n",
       "    </tr>\n",
       "    <tr>\n",
       "      <th>50%</th>\n",
       "      <td>0.200000</td>\n",
       "      <td>70.000000</td>\n",
       "      <td>52.000000</td>\n",
       "    </tr>\n",
       "    <tr>\n",
       "      <th>75%</th>\n",
       "      <td>0.200000</td>\n",
       "      <td>82.500000</td>\n",
       "      <td>71.000000</td>\n",
       "    </tr>\n",
       "    <tr>\n",
       "      <th>max</th>\n",
       "      <td>0.600000</td>\n",
       "      <td>130.000000</td>\n",
       "      <td>122.500000</td>\n",
       "    </tr>\n",
       "  </tbody>\n",
       "</table>\n",
       "</div>"
      ],
      "text/plain": [
       "       Тип предела текучести (1186)  Врем. сопротивление  Предел текучести\n",
       "count                  21613.000000         21687.000000      21671.000000\n",
       "mean                       0.200629            70.435213         58.048872\n",
       "std                        0.014190            15.501042         16.800998\n",
       "min                        0.200000            35.500000         19.000000\n",
       "25%                        0.200000            56.500000         43.500000\n",
       "50%                        0.200000            70.000000         52.000000\n",
       "75%                        0.200000            82.500000         71.000000\n",
       "max                        0.600000           130.000000        122.500000"
      ]
     },
     "execution_count": 17,
     "metadata": {},
     "output_type": "execute_result"
    }
   ],
   "source": [
    "scr_df.describe()"
   ]
  },
  {
   "cell_type": "code",
   "execution_count": 18,
   "metadata": {
    "collapsed": true
   },
   "outputs": [],
   "source": [
    "scr_df = pd.concat([scr_df, scr_df2])"
   ]
  },
  {
   "cell_type": "code",
   "execution_count": 19,
   "metadata": {},
   "outputs": [
    {
     "data": {
      "text/html": [
       "<div>\n",
       "<style scoped>\n",
       "    .dataframe tbody tr th:only-of-type {\n",
       "        vertical-align: middle;\n",
       "    }\n",
       "\n",
       "    .dataframe tbody tr th {\n",
       "        vertical-align: top;\n",
       "    }\n",
       "\n",
       "    .dataframe thead th {\n",
       "        text-align: right;\n",
       "    }\n",
       "</style>\n",
       "<table border=\"1\" class=\"dataframe\">\n",
       "  <thead>\n",
       "    <tr style=\"text-align: right;\">\n",
       "      <th></th>\n",
       "      <th>№ плавки</th>\n",
       "      <th>№ партии</th>\n",
       "      <th>Дата форм. цехом</th>\n",
       "      <th>Марка стали</th>\n",
       "      <th>Тип предела текучести (1186)</th>\n",
       "      <th>Врем. сопротивление</th>\n",
       "      <th>Предел текучести</th>\n",
       "      <th>ГОСТ, ТУ</th>\n",
       "      <th>Гр. прочн.</th>\n",
       "    </tr>\n",
       "  </thead>\n",
       "  <tbody>\n",
       "  </tbody>\n",
       "</table>\n",
       "</div>"
      ],
      "text/plain": [
       "Empty DataFrame\n",
       "Columns: [№ плавки, № партии, Дата форм. цехом, Марка стали, Тип предела текучести (1186), Врем. сопротивление, Предел текучести, ГОСТ, ТУ, Гр. прочн.]\n",
       "Index: []"
      ]
     },
     "execution_count": 19,
     "metadata": {},
     "output_type": "execute_result"
    }
   ],
   "source": [
    "scr_df[scr_df['№ партии']=='712261']"
   ]
  },
  {
   "cell_type": "code",
   "execution_count": 20,
   "metadata": {
    "collapsed": true
   },
   "outputs": [],
   "source": [
    "scr_df['№ партии']=scr_df['№ партии'].apply(lambda x: str(x))"
   ]
  },
  {
   "cell_type": "code",
   "execution_count": 21,
   "metadata": {},
   "outputs": [
    {
     "data": {
      "text/plain": [
       "(59143, 9)"
      ]
     },
     "execution_count": 21,
     "metadata": {},
     "output_type": "execute_result"
    }
   ],
   "source": [
    "scr_df.shape"
   ]
  },
  {
   "cell_type": "code",
   "execution_count": 22,
   "metadata": {},
   "outputs": [
    {
     "data": {
      "text/plain": [
       "(58086, 9)"
      ]
     },
     "execution_count": 22,
     "metadata": {},
     "output_type": "execute_result"
    }
   ],
   "source": [
    "scr_df.drop_duplicates(inplace = True)\n",
    "scr_df.shape"
   ]
  },
  {
   "cell_type": "code",
   "execution_count": 23,
   "metadata": {
    "collapsed": true
   },
   "outputs": [],
   "source": [
    "scr_df['Дата форм. цехом'] = scr_df['Дата форм. цехом'].apply(lambda x: datetime.strptime(x, \"%d.%m.%Y\"))\n",
    "# dt = datetime.strptime(\"01.02.2016\", \"%d.%m.%Y\")\n",
    "# dt"
   ]
  },
  {
   "cell_type": "code",
   "execution_count": 24,
   "metadata": {
    "collapsed": true
   },
   "outputs": [],
   "source": [
    "scr_df.reset_index(inplace=True,drop=True)"
   ]
  },
  {
   "cell_type": "code",
   "execution_count": 25,
   "metadata": {
    "collapsed": true
   },
   "outputs": [],
   "source": [
    "def part_in_df(df):\n",
    "    tmp = df[df['№ партии']=='712261'].copy()\n",
    "    return tmp"
   ]
  },
  {
   "cell_type": "code",
   "execution_count": 26,
   "metadata": {
    "collapsed": true
   },
   "outputs": [],
   "source": [
    "undupl = scr_df[~scr_df[['№ плавки', '№ партии']].duplicated(keep = False)]"
   ]
  },
  {
   "cell_type": "code",
   "execution_count": 27,
   "metadata": {
    "collapsed": true
   },
   "outputs": [],
   "source": [
    "dupl_need_to_mean = scr_df[scr_df[['№ плавки', '№ партии']].duplicated(keep = False)]\n",
    "# sort_values(['№ партии', 'Дата форм. цехом'])"
   ]
  },
  {
   "cell_type": "code",
   "execution_count": null,
   "metadata": {
    "collapsed": true
   },
   "outputs": [],
   "source": []
  },
  {
   "cell_type": "code",
   "execution_count": 28,
   "metadata": {},
   "outputs": [
    {
     "data": {
      "text/plain": [
       "((46112, 9), (11974, 9), 58086)"
      ]
     },
     "execution_count": 28,
     "metadata": {},
     "output_type": "execute_result"
    }
   ],
   "source": [
    "dupl_need_to_mean.shape, undupl.shape, dupl_need_to_mean.shape[0]+undupl.shape[0]"
   ]
  },
  {
   "cell_type": "code",
   "execution_count": 29,
   "metadata": {
    "collapsed": true
   },
   "outputs": [],
   "source": [
    "def mean_func(x):    \n",
    "    if min(x['Дата форм. цехом'])!=max(x['Дата форм. цехом']):\n",
    "        x = x[x['Дата форм. цехом']==max(x['Дата форм. цехом'])]\n",
    "        if abs(min(x['Врем. сопротивление'])-max(x['Врем. сопротивление']))<=5:\n",
    "            x['Врем. сопротивление'] = x['Врем. сопротивление'].mean()\n",
    "        else:\n",
    "            x['Врем. сопротивление'] = None\n",
    "        if abs(min(x['Предел текучести'])-max(x['Предел текучести']))<=10:\n",
    "            x['Предел текучести'] = x['Предел текучести'].mean()\n",
    "        else:\n",
    "            x['Предел текучести'] = None\n",
    "    else:\n",
    "        x['Врем. сопротивление'] = x['Врем. сопротивление'].mean()\n",
    "        x['Предел текучести'] = x['Предел текучести'].mean()\n",
    "#     print(x)\n",
    "    return x.mean()"
   ]
  },
  {
   "cell_type": "code",
   "execution_count": 30,
   "metadata": {
    "collapsed": true
   },
   "outputs": [],
   "source": [
    "def mean_func(x):\n",
    "    if min(x['Дата форм. цехом'])!=max(x['Дата форм. цехом']):\n",
    "        x = x[x['Дата форм. цехом']==max(x['Дата форм. цехом'])]\n",
    "        x['Врем. сопротивление'] = x['Врем. сопротивление'].mean()\n",
    "        x['Предел текучести'] = x['Предел текучести'].mean()\n",
    "    else:\n",
    "        x['Врем. сопротивление'] = x['Врем. сопротивление'].mean()\n",
    "        x['Предел текучести'] = x['Предел текучести'].mean()\n",
    "    return x.mean()"
   ]
  },
  {
   "cell_type": "code",
   "execution_count": 31,
   "metadata": {
    "collapsed": true
   },
   "outputs": [],
   "source": [
    "def isnull(df):\n",
    "    return df[pd.isnull(df['Тип предела текучести (1186)'])].shape"
   ]
  },
  {
   "cell_type": "code",
   "execution_count": 32,
   "metadata": {
    "collapsed": true
   },
   "outputs": [],
   "source": [
    "# dupl_need_to_mean.shape\n",
    "# part_in_df(dupl_need_to_mean)\n",
    "# isnull(y)"
   ]
  },
  {
   "cell_type": "code",
   "execution_count": 34,
   "metadata": {},
   "outputs": [],
   "source": [
    "y = dupl_need_to_mean.groupby([\n",
    "    '№ плавки', \n",
    "    '№ партии', \n",
    "    'Тип предела текучести (1186)',\n",
    "    'ГОСТ, ТУ',\n",
    "    'Гр. прочн.'\n",
    "])[\n",
    "    'Дата форм. цехом',\n",
    "    'Врем. сопротивление',\n",
    "    'Предел текучести'].apply(mean_func)"
   ]
  },
  {
   "cell_type": "code",
   "execution_count": 36,
   "metadata": {
    "collapsed": true
   },
   "outputs": [],
   "source": [
    "y.reset_index(inplace=True)"
   ]
  },
  {
   "cell_type": "code",
   "execution_count": 37,
   "metadata": {
    "scrolled": true
   },
   "outputs": [
    {
     "data": {
      "text/plain": [
       "Index(['602160', '403218', '202270', '606406', '703203', '701396', '704285',\n",
       "       '306298', '610146', '704087',\n",
       "       ...\n",
       "       '405508', '310025', '405340', '508354', '401111', '209368', '311019',\n",
       "       '310354', '406308', '304047'],\n",
       "      dtype='object', length=14966)"
      ]
     },
     "execution_count": 37,
     "metadata": {},
     "output_type": "execute_result"
    }
   ],
   "source": [
    "y['№ партии'].value_counts().index"
   ]
  },
  {
   "cell_type": "code",
   "execution_count": 38,
   "metadata": {
    "collapsed": true
   },
   "outputs": [],
   "source": [
    "y = y[~y[['№ плавки', '№ партии', 'Тип предела текучести (1186)']].duplicated(keep = False)]"
   ]
  },
  {
   "cell_type": "code",
   "execution_count": 39,
   "metadata": {},
   "outputs": [
    {
     "data": {
      "text/html": [
       "<div>\n",
       "<style scoped>\n",
       "    .dataframe tbody tr th:only-of-type {\n",
       "        vertical-align: middle;\n",
       "    }\n",
       "\n",
       "    .dataframe tbody tr th {\n",
       "        vertical-align: top;\n",
       "    }\n",
       "\n",
       "    .dataframe thead th {\n",
       "        text-align: right;\n",
       "    }\n",
       "</style>\n",
       "<table border=\"1\" class=\"dataframe\">\n",
       "  <thead>\n",
       "    <tr style=\"text-align: right;\">\n",
       "      <th></th>\n",
       "      <th>№ плавки</th>\n",
       "      <th>№ партии</th>\n",
       "      <th>Тип предела текучести (1186)</th>\n",
       "      <th>ГОСТ, ТУ</th>\n",
       "      <th>Гр. прочн.</th>\n",
       "      <th>Врем. сопротивление</th>\n",
       "      <th>Предел текучести</th>\n",
       "    </tr>\n",
       "  </thead>\n",
       "  <tbody>\n",
       "  </tbody>\n",
       "</table>\n",
       "</div>"
      ],
      "text/plain": [
       "Empty DataFrame\n",
       "Columns: [№ плавки, № партии, Тип предела текучести (1186), ГОСТ, ТУ, Гр. прочн., Врем. сопротивление, Предел текучести]\n",
       "Index: []"
      ]
     },
     "execution_count": 39,
     "metadata": {},
     "output_type": "execute_result"
    }
   ],
   "source": [
    "y[y[['№ плавки', '№ партии', 'Тип предела текучести (1186)']].duplicated(keep = False)]"
   ]
  },
  {
   "cell_type": "code",
   "execution_count": 99,
   "metadata": {
    "collapsed": true
   },
   "outputs": [],
   "source": [
    "# y.reset_index(inplace=True)\n",
    "# y = y.dropna()\n",
    "# y"
   ]
  },
  {
   "cell_type": "code",
   "execution_count": 100,
   "metadata": {
    "collapsed": true
   },
   "outputs": [],
   "source": [
    "# dupl_need_to_mean.sort_values(['№ партии', 'Дата форм. цехом'])"
   ]
  },
  {
   "cell_type": "code",
   "execution_count": 40,
   "metadata": {},
   "outputs": [
    {
     "data": {
      "text/plain": [
       "(16298, 7)"
      ]
     },
     "execution_count": 40,
     "metadata": {},
     "output_type": "execute_result"
    }
   ],
   "source": [
    "y.shape"
   ]
  },
  {
   "cell_type": "code",
   "execution_count": 41,
   "metadata": {
    "collapsed": true
   },
   "outputs": [],
   "source": [
    "tmp = undupl[['№ плавки', '№ партии', 'Тип предела текучести (1186)',\n",
    "    'Врем. сопротивление',\n",
    "    'Предел текучести', 'Гр. прочн.']]\n",
    "y = pd.concat([y, tmp])"
   ]
  },
  {
   "cell_type": "code",
   "execution_count": 42,
   "metadata": {},
   "outputs": [
    {
     "data": {
      "text/plain": [
       "(28272, 7)"
      ]
     },
     "execution_count": 42,
     "metadata": {},
     "output_type": "execute_result"
    }
   ],
   "source": [
    "y.drop_duplicates(inplace = True)\n",
    "y.shape"
   ]
  },
  {
   "cell_type": "code",
   "execution_count": 43,
   "metadata": {
    "collapsed": true
   },
   "outputs": [],
   "source": [
    "y.to_excel('DATA/prepared/table_stretching_05_jule_gruppa_prochnost.xlsx')"
   ]
  },
  {
   "cell_type": "code",
   "execution_count": 107,
   "metadata": {},
   "outputs": [
    {
     "data": {
      "text/html": [
       "<div>\n",
       "<style scoped>\n",
       "    .dataframe tbody tr th:only-of-type {\n",
       "        vertical-align: middle;\n",
       "    }\n",
       "\n",
       "    .dataframe tbody tr th {\n",
       "        vertical-align: top;\n",
       "    }\n",
       "\n",
       "    .dataframe thead th {\n",
       "        text-align: right;\n",
       "    }\n",
       "</style>\n",
       "<table border=\"1\" class=\"dataframe\">\n",
       "  <thead>\n",
       "    <tr style=\"text-align: right;\">\n",
       "      <th></th>\n",
       "      <th>Врем. сопротивление</th>\n",
       "      <th>ГОСТ, ТУ</th>\n",
       "      <th>Предел текучести</th>\n",
       "      <th>Тип предела текучести (1186)</th>\n",
       "      <th>№ партии</th>\n",
       "      <th>№ плавки</th>\n",
       "    </tr>\n",
       "  </thead>\n",
       "  <tbody>\n",
       "  </tbody>\n",
       "</table>\n",
       "</div>"
      ],
      "text/plain": [
       "Empty DataFrame\n",
       "Columns: [Врем. сопротивление, ГОСТ, ТУ, Предел текучести, Тип предела текучести (1186), № партии, № плавки]\n",
       "Index: []"
      ]
     },
     "execution_count": 107,
     "metadata": {},
     "output_type": "execute_result"
    }
   ],
   "source": [
    "y[y['№ партии']=='712261']"
   ]
  },
  {
   "cell_type": "code",
   "execution_count": null,
   "metadata": {
    "collapsed": true
   },
   "outputs": [],
   "source": []
  }
 ],
 "metadata": {
  "kernelspec": {
   "display_name": "Python 3",
   "language": "python",
   "name": "python3"
  },
  "language_info": {
   "codemirror_mode": {
    "name": "ipython",
    "version": 3
   },
   "file_extension": ".py",
   "mimetype": "text/x-python",
   "name": "python",
   "nbconvert_exporter": "python",
   "pygments_lexer": "ipython3",
   "version": "3.6.4"
  }
 },
 "nbformat": 4,
 "nbformat_minor": 2
}
