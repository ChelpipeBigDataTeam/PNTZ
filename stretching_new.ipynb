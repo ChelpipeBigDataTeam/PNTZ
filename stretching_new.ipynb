{
 "cells": [
  {
   "cell_type": "code",
   "execution_count": 186,
   "metadata": {
    "collapsed": true
   },
   "outputs": [],
   "source": [
    "# найти файл по вкладке и вывести размер вкладки\n",
    "def findfile(sheetname):\n",
    "    row = 0\n",
    "    col = 0\n",
    "    for name, df_l in df_dicts:\n",
    "        try:\n",
    "            col = df_l[sheetname].shape[1]\n",
    "            df_l[sheetname]\n",
    "            print(name)\n",
    "        except:\n",
    "            continue\n",
    "        try:\n",
    "            row += df_l[sheetname].shape[0] \n",
    "            if (abs(col - col)<1):\n",
    "                   continue\n",
    "            else:\n",
    "                col += abs(df_l[sheetname].shape[1] - col)\n",
    "        except:\n",
    "            continue\n",
    "    print('rows = %d, col = %d' %(row, col))"
   ]
  },
  {
   "cell_type": "code",
   "execution_count": 187,
   "metadata": {
    "collapsed": true
   },
   "outputs": [],
   "source": [
    "import pandas as pd\n",
    "import numpy as np\n",
    "import warnings\n",
    "import re\n",
    "from datetime import datetime\n",
    "from collections import OrderedDict\n",
    "warnings.filterwarnings('default')\n",
    "pd.options.display.max_columns = 100\n",
    "pd.options.display.max_rows = 1000"
   ]
  },
  {
   "cell_type": "code",
   "execution_count": 188,
   "metadata": {
    "collapsed": true
   },
   "outputs": [],
   "source": [
    "# подгрузка всех файлов\n",
    "import os\n",
    "dr = 'exp'\n",
    "file_names = os.listdir(dr)\n",
    "file_names.remove('prepared')\n",
    "# файлы в список\n",
    "df_dicts = {}\n",
    "for name in file_names:\n",
    "    df_dicts[name]= pd.read_excel(dr+'\\\\'+name, None)\n",
    "#     print(name)"
   ]
  },
  {
   "cell_type": "code",
   "execution_count": 189,
   "metadata": {},
   "outputs": [
    {
     "data": {
      "text/plain": [
       "28"
      ]
     },
     "execution_count": 189,
     "metadata": {},
     "output_type": "execute_result"
    }
   ],
   "source": [
    "# список всех таблиц из всех файлов\n",
    "sheetname_list = []\n",
    "for name, dict_ in zip(df_dicts, df_dicts.values()):    \n",
    "    tmp = dict_.keys()\n",
    "    tmp = list(tmp)\n",
    "    tmp = tmp[2:-3]\n",
    "    sheetname_list.append(tmp)\n",
    "len(sheetname_list)"
   ]
  },
  {
   "cell_type": "code",
   "execution_count": 190,
   "metadata": {},
   "outputs": [],
   "source": [
    "# sheetname_list['февраль 2018-испытания.xlsx']"
   ]
  },
  {
   "cell_type": "code",
   "execution_count": 191,
   "metadata": {},
   "outputs": [
    {
     "name": "stdout",
     "output_type": "stream",
     "text": [
      "103\n"
     ]
    }
   ],
   "source": [
    "# dict_sheet_count - словарь всех вкладок(листов) из таблиц без дубликатов и их частоты\n",
    "# uniq_sheetname - множество всех вкладок(листов) из таблиц без дубликатов (не используется)\n",
    "\n",
    "dict_sheet_count = {}\n",
    "uniq_sheetname = set()\n",
    "for st in sheetname_list:\n",
    "    for ls in st:\n",
    "        uniq_sheetname.add(ls)\n",
    "\n",
    "\n",
    "uniq_sheetname = list(uniq_sheetname)\n",
    "uniq_sheetname.sort()\n",
    "print(len(uniq_sheetname))\n",
    "\n",
    "# добавление частот в словарь\n",
    "for st in sheetname_list:\n",
    "    for ls in st:\n",
    "        counts = dict_sheet_count.get(ls,0)\n",
    "        dict_sheet_count[ls] = counts + 1\n",
    "        \n",
    "        \n",
    "# df - для вывода словаря в excel            \n",
    "df = pd.DataFrame.from_dict(data = dict_sheet_count, orient='index')\n",
    "# df.to_excel('dict_sheet_count.xlsx')"
   ]
  },
  {
   "cell_type": "code",
   "execution_count": 192,
   "metadata": {
    "collapsed": true
   },
   "outputs": [],
   "source": [
    "ls_mb_convert_ys = [\n",
    "    'Предел текучести (1141)',\n",
    "    'Предел текучести (1027)',\n",
    "    'Предел текучести, Н/мм2 или МПа',\n",
    "    'Предел текучести , кгс/мм2',\n",
    "    'Предел текучести, кгс/мм2',\n",
    "]\n",
    "\n",
    "ls_mb_convert_tr = [\n",
    "    'Врем. сопротивление,  Н/мм2 или МПа',\n",
    "    'Врем. сопротивление (1140)',\n",
    "    'Врем. сопротивление (1042)',\n",
    "    'Врем. сопротивление , кгс/мм2',\n",
    "    'Врем. сопротивление, кгс/мм2'\n",
    "]\n",
    "\n",
    "ls_mb_convert = ls_mb_convert_ys+ls_mb_convert_tr"
   ]
  },
  {
   "cell_type": "code",
   "execution_count": 193,
   "metadata": {
    "collapsed": true
   },
   "outputs": [],
   "source": [
    "def change_col_name(df):\n",
    "    for col in ls_mb_convert_tr:\n",
    "        if col in df:\n",
    "            df['Врем. сопротивление'] = df[col]\n",
    "            del df[col]\n",
    "    for col in ls_mb_convert_ys:\n",
    "        if col in df:\n",
    "            df['Предел текучести'] = df[col]\n",
    "            del df[col]\n",
    "    return df"
   ]
  },
  {
   "cell_type": "code",
   "execution_count": 194,
   "metadata": {
    "collapsed": true
   },
   "outputs": [],
   "source": [
    "ls_sheets = [\n",
    "    u'Растяжение, кгс мм2.',\n",
    "    u'Растяжение, н мм2.',\n",
    "]"
   ]
  },
  {
   "cell_type": "code",
   "execution_count": 195,
   "metadata": {
    "collapsed": true
   },
   "outputs": [],
   "source": [
    "scretching = pd.DataFrame()\n",
    "for filename in file_names:\n",
    "    tmp = df_dicts[filename][u'Растяжение, кгс мм2.']\n",
    "    tmp = change_col_name(tmp)\n",
    "    scretching= pd.concat([tmp, scretching])\n",
    "# scretching[~pd.isnull(scretching['Врем. сопротивление'])].shape, scretching.shape"
   ]
  },
  {
   "cell_type": "code",
   "execution_count": 196,
   "metadata": {
    "collapsed": true
   },
   "outputs": [],
   "source": [
    "scretching2  = pd.DataFrame()\n",
    "for filename in file_names:\n",
    "    tmp = df_dicts[filename][u'Растяжение, н мм2.']\n",
    "    tmp = change_col_name(tmp)\n",
    "    scretching2= pd.concat([tmp, scretching2])"
   ]
  },
  {
   "cell_type": "code",
   "execution_count": 197,
   "metadata": {},
   "outputs": [
    {
     "data": {
      "text/plain": [
       "((21487, 33), (36069, 43))"
      ]
     },
     "execution_count": 197,
     "metadata": {},
     "output_type": "execute_result"
    }
   ],
   "source": [
    "scretching.shape, scretching2.shape"
   ]
  },
  {
   "cell_type": "code",
   "execution_count": 198,
   "metadata": {},
   "outputs": [
    {
     "data": {
      "text/plain": [
       "count    21196.000000\n",
       "mean        72.022825\n",
       "std         38.484628\n",
       "min         35.500000\n",
       "25%         56.500000\n",
       "50%         69.500000\n",
       "75%         82.500000\n",
       "max        995.500000\n",
       "Name: Врем. сопротивление, dtype: float64"
      ]
     },
     "execution_count": 198,
     "metadata": {},
     "output_type": "execute_result"
    }
   ],
   "source": [
    "scretching['Врем. сопротивление'].describe()"
   ]
  },
  {
   "cell_type": "code",
   "execution_count": 199,
   "metadata": {
    "collapsed": true
   },
   "outputs": [],
   "source": [
    "scr_df = scretching[[\n",
    "    '№ плавки',\n",
    "    '№ партии',\n",
    "    'Дата форм. цехом',\n",
    "    'Марка стали',\n",
    "    'Тип предела текучести (1186)',\n",
    "    'Врем. сопротивление',\n",
    "    'Предел текучести' ]]"
   ]
  },
  {
   "cell_type": "code",
   "execution_count": 200,
   "metadata": {
    "collapsed": true
   },
   "outputs": [],
   "source": [
    "scr_df2 = scretching2[[\n",
    "    '№ плавки',\n",
    "    '№ партии',\n",
    "    'Дата форм. цехом',\n",
    "    'Марка стали',\n",
    "    'Тип предела текучести (1186)',\n",
    "    'Врем. сопротивление',\n",
    "    'Предел текучести' ]]\n"
   ]
  },
  {
   "cell_type": "code",
   "execution_count": 201,
   "metadata": {},
   "outputs": [
    {
     "data": {
      "text/plain": [
       "((21487, 7), (36069, 7))"
      ]
     },
     "execution_count": 201,
     "metadata": {},
     "output_type": "execute_result"
    }
   ],
   "source": [
    "scr_df.shape, scr_df2.shape"
   ]
  },
  {
   "cell_type": "code",
   "execution_count": 157,
   "metadata": {},
   "outputs": [],
   "source": [
    "# scr_df2['Тип предела текучести (1186)'].value_counts()\n",
    "# describe()"
   ]
  },
  {
   "cell_type": "code",
   "execution_count": 158,
   "metadata": {
    "collapsed": true
   },
   "outputs": [],
   "source": [
    "# scr_df= scr_df[scr_df['Тип предела текучести (1186)']==0.2]\n",
    "# .describe()"
   ]
  },
  {
   "cell_type": "code",
   "execution_count": 159,
   "metadata": {
    "collapsed": true
   },
   "outputs": [],
   "source": [
    "# scr_df2['Тип предела текучести (1186)'] = scr_df2['Тип предела текучести (1186)'].apply(lambda x: str(x))\n",
    "# scr_df2= scr_df2[scr_df2['Тип предела текучести (1186)']=='0.2']\n",
    "# .describe()"
   ]
  },
  {
   "cell_type": "code",
   "execution_count": 202,
   "metadata": {},
   "outputs": [
    {
     "data": {
      "text/plain": [
       "((21487, 7), (36069, 7))"
      ]
     },
     "execution_count": 202,
     "metadata": {},
     "output_type": "execute_result"
    }
   ],
   "source": [
    "scr_df.shape, scr_df2.shape"
   ]
  },
  {
   "cell_type": "code",
   "execution_count": 203,
   "metadata": {},
   "outputs": [
    {
     "name": "stderr",
     "output_type": "stream",
     "text": [
      "D:\\Repo\\Anaconda2\\envs\\myenv\\lib\\site-packages\\ipykernel_launcher.py:1: SettingWithCopyWarning: \n",
      "A value is trying to be set on a copy of a slice from a DataFrame.\n",
      "Try using .loc[row_indexer,col_indexer] = value instead\n",
      "\n",
      "See the caveats in the documentation: http://pandas.pydata.org/pandas-docs/stable/indexing.html#indexing-view-versus-copy\n",
      "  \"\"\"Entry point for launching an IPython kernel.\n",
      "D:\\Repo\\Anaconda2\\envs\\myenv\\lib\\site-packages\\ipykernel_launcher.py:2: SettingWithCopyWarning: \n",
      "A value is trying to be set on a copy of a slice from a DataFrame.\n",
      "Try using .loc[row_indexer,col_indexer] = value instead\n",
      "\n",
      "See the caveats in the documentation: http://pandas.pydata.org/pandas-docs/stable/indexing.html#indexing-view-versus-copy\n",
      "  \n"
     ]
    }
   ],
   "source": [
    "scr_df['Врем. сопротивление'] = scr_df['Врем. сопротивление'].apply(lambda x: x/9.8 if x>200 else x)\n",
    "scr_df['Предел текучести'] = scr_df['Предел текучести'].apply(lambda x: x/9.8 if x>200 else x)"
   ]
  },
  {
   "cell_type": "code",
   "execution_count": 204,
   "metadata": {},
   "outputs": [
    {
     "name": "stderr",
     "output_type": "stream",
     "text": [
      "D:\\Repo\\Anaconda2\\envs\\myenv\\lib\\site-packages\\ipykernel_launcher.py:1: SettingWithCopyWarning: \n",
      "A value is trying to be set on a copy of a slice from a DataFrame.\n",
      "Try using .loc[row_indexer,col_indexer] = value instead\n",
      "\n",
      "See the caveats in the documentation: http://pandas.pydata.org/pandas-docs/stable/indexing.html#indexing-view-versus-copy\n",
      "  \"\"\"Entry point for launching an IPython kernel.\n",
      "D:\\Repo\\Anaconda2\\envs\\myenv\\lib\\site-packages\\ipykernel_launcher.py:2: SettingWithCopyWarning: \n",
      "A value is trying to be set on a copy of a slice from a DataFrame.\n",
      "Try using .loc[row_indexer,col_indexer] = value instead\n",
      "\n",
      "See the caveats in the documentation: http://pandas.pydata.org/pandas-docs/stable/indexing.html#indexing-view-versus-copy\n",
      "  \n"
     ]
    }
   ],
   "source": [
    "scr_df2['Врем. сопротивление'] = scr_df2['Врем. сопротивление'].apply(lambda x: x/9.8 if x>200 else x)\n",
    "scr_df2['Предел текучести'] = scr_df2['Предел текучести'].apply(lambda x: x/9.8 if x>200 else x)"
   ]
  },
  {
   "cell_type": "code",
   "execution_count": 205,
   "metadata": {},
   "outputs": [
    {
     "name": "stderr",
     "output_type": "stream",
     "text": [
      "D:\\Repo\\Anaconda2\\envs\\myenv\\lib\\site-packages\\ipykernel_launcher.py:1: SettingWithCopyWarning: \n",
      "A value is trying to be set on a copy of a slice from a DataFrame.\n",
      "Try using .loc[row_indexer,col_indexer] = value instead\n",
      "\n",
      "See the caveats in the documentation: http://pandas.pydata.org/pandas-docs/stable/indexing.html#indexing-view-versus-copy\n",
      "  \"\"\"Entry point for launching an IPython kernel.\n",
      "D:\\Repo\\Anaconda2\\envs\\myenv\\lib\\site-packages\\ipykernel_launcher.py:2: SettingWithCopyWarning: \n",
      "A value is trying to be set on a copy of a slice from a DataFrame.\n",
      "Try using .loc[row_indexer,col_indexer] = value instead\n",
      "\n",
      "See the caveats in the documentation: http://pandas.pydata.org/pandas-docs/stable/indexing.html#indexing-view-versus-copy\n",
      "  \n"
     ]
    }
   ],
   "source": [
    "scr_df['№ партии'] = scr_df['№ партии'].astype(str)\n",
    "scr_df2['№ партии'] = scr_df2['№ партии'].astype(str)"
   ]
  },
  {
   "cell_type": "code",
   "execution_count": 206,
   "metadata": {
    "collapsed": true
   },
   "outputs": [],
   "source": [
    "scr_df = pd.concat([scr_df, scr_df2])"
   ]
  },
  {
   "cell_type": "code",
   "execution_count": 207,
   "metadata": {
    "collapsed": true
   },
   "outputs": [],
   "source": [
    "scr_df.drop_duplicates(inplace=True)"
   ]
  },
  {
   "cell_type": "code",
   "execution_count": 208,
   "metadata": {},
   "outputs": [
    {
     "data": {
      "text/plain": [
       "(56127, 7)"
      ]
     },
     "execution_count": 208,
     "metadata": {},
     "output_type": "execute_result"
    }
   ],
   "source": [
    "scr_df.shape"
   ]
  },
  {
   "cell_type": "code",
   "execution_count": null,
   "metadata": {},
   "outputs": [],
   "source": [
    "# scr_df[scr_df.duplicated(['№ плавки', '№ партии'], keep=False)].sort_values('№ партии')"
   ]
  },
  {
   "cell_type": "code",
   "execution_count": 210,
   "metadata": {
    "collapsed": true
   },
   "outputs": [],
   "source": [
    "# scr_df.to_excel('table_stretching_13april.xlsx')"
   ]
  },
  {
   "cell_type": "code",
   "execution_count": 211,
   "metadata": {
    "collapsed": true
   },
   "outputs": [],
   "source": [
    "scr_df['№ партии']=scr_df['№ партии'].apply(lambda x: str(x))"
   ]
  },
  {
   "cell_type": "code",
   "execution_count": 212,
   "metadata": {},
   "outputs": [
    {
     "data": {
      "text/plain": [
       "(56127, 7)"
      ]
     },
     "execution_count": 212,
     "metadata": {},
     "output_type": "execute_result"
    }
   ],
   "source": [
    "scr_df.shape"
   ]
  },
  {
   "cell_type": "code",
   "execution_count": 213,
   "metadata": {},
   "outputs": [
    {
     "data": {
      "text/plain": [
       "(56127, 7)"
      ]
     },
     "execution_count": 213,
     "metadata": {},
     "output_type": "execute_result"
    }
   ],
   "source": [
    "scr_df.drop_duplicates(inplace = True)\n",
    "scr_df.shape"
   ]
  },
  {
   "cell_type": "code",
   "execution_count": 214,
   "metadata": {
    "collapsed": true
   },
   "outputs": [],
   "source": [
    "scr_df['Дата форм. цехом'] = scr_df['Дата форм. цехом'].apply(lambda x: datetime.strptime(x, \"%d.%m.%Y\"))\n",
    "# dt = datetime.strptime(\"01.02.2016\", \"%d.%m.%Y\")\n",
    "# dt"
   ]
  },
  {
   "cell_type": "code",
   "execution_count": 215,
   "metadata": {
    "collapsed": true
   },
   "outputs": [],
   "source": [
    "scr_df.reset_index(inplace=True,drop=True)"
   ]
  },
  {
   "cell_type": "code",
   "execution_count": 216,
   "metadata": {
    "collapsed": true
   },
   "outputs": [],
   "source": [
    "undupl = scr_df[~scr_df[['№ плавки', '№ партии']].duplicated(keep = False)]"
   ]
  },
  {
   "cell_type": "code",
   "execution_count": 217,
   "metadata": {
    "collapsed": true
   },
   "outputs": [],
   "source": [
    "dupl_need_to_mean = scr_df[scr_df[['№ плавки', '№ партии']].duplicated(keep = False)]\n",
    "# sort_values(['№ партии', 'Дата форм. цехом'])"
   ]
  },
  {
   "cell_type": "code",
   "execution_count": 218,
   "metadata": {},
   "outputs": [
    {
     "data": {
      "text/plain": [
       "((44626, 7), (11501, 7), 56127)"
      ]
     },
     "execution_count": 218,
     "metadata": {},
     "output_type": "execute_result"
    }
   ],
   "source": [
    "dupl_need_to_mean.shape, undupl.shape, dupl_need_to_mean.shape[0]+undupl.shape[0]"
   ]
  },
  {
   "cell_type": "code",
   "execution_count": 219,
   "metadata": {
    "collapsed": true
   },
   "outputs": [],
   "source": [
    "# d = {1:['11', '12'], 2:['21', '22']}\n",
    "# ttt = pd.DataFrame(d)\n",
    "# ttt\n",
    "# ttt[1].iloc[0]"
   ]
  },
  {
   "cell_type": "code",
   "execution_count": 220,
   "metadata": {
    "collapsed": true
   },
   "outputs": [],
   "source": [
    "def mean_func(x):\n",
    "    if min(x['Дата форм. цехом'])!=max(x['Дата форм. цехом']):\n",
    "        x = x[x['Дата форм. цехом']==max(x['Дата форм. цехом'])]\n",
    "        x['Врем. сопротивление'] = x['Врем. сопротивление'].mean()\n",
    "        x['Предел текучести'] = x['Предел текучести'].mean()\n",
    "#         x['Марка стали'] = x['Марка стали'].iloc[0]\n",
    "    else:\n",
    "        x['Врем. сопротивление'] = x['Врем. сопротивление'].mean()\n",
    "        x['Предел текучести'] = x['Предел текучести'].mean()\n",
    "#         x['Марка стали'] = x['Марка стали'].iloc[0]\n",
    "    return x.mean()"
   ]
  },
  {
   "cell_type": "code",
   "execution_count": 221,
   "metadata": {
    "collapsed": true
   },
   "outputs": [],
   "source": [
    "y = dupl_need_to_mean.groupby(['№ плавки', '№ партии'])['Дата форм. цехом',\n",
    "    'Марка стали',\n",
    "    'Тип предела текучести (1186)',\n",
    "    'Врем. сопротивление',\n",
    "    'Предел текучести'].apply(mean_func)"
   ]
  },
  {
   "cell_type": "code",
   "execution_count": 222,
   "metadata": {
    "collapsed": true
   },
   "outputs": [],
   "source": [
    "y.reset_index(inplace=True)\n",
    "# y.sort_values(['№ партии'])"
   ]
  },
  {
   "cell_type": "code",
   "execution_count": 223,
   "metadata": {},
   "outputs": [],
   "source": [
    "# dupl_need_to_mean.sort_values(['№ партии', 'Дата форм. цехом'])"
   ]
  },
  {
   "cell_type": "code",
   "execution_count": 224,
   "metadata": {
    "collapsed": true
   },
   "outputs": [],
   "source": [
    "# y[y[['№ плавки', '№ партии']].duplicated(keep = False)].sort_values(['№ партии'])"
   ]
  },
  {
   "cell_type": "code",
   "execution_count": 225,
   "metadata": {
    "collapsed": true
   },
   "outputs": [],
   "source": [
    "tmp = undupl[['№ плавки', '№ партии', 'Тип предела текучести (1186)',\n",
    "    'Врем. сопротивление',\n",
    "    'Предел текучести']]\n",
    "y = pd.concat([y, tmp])"
   ]
  },
  {
   "cell_type": "code",
   "execution_count": 228,
   "metadata": {},
   "outputs": [
    {
     "data": {
      "text/plain": [
       "(30332, 5)"
      ]
     },
     "execution_count": 228,
     "metadata": {},
     "output_type": "execute_result"
    }
   ],
   "source": [
    "y.shape"
   ]
  },
  {
   "cell_type": "code",
   "execution_count": 227,
   "metadata": {
    "collapsed": true
   },
   "outputs": [],
   "source": [
    "y.to_excel('table_stretching_17april.xlsx')"
   ]
  },
  {
   "cell_type": "code",
   "execution_count": 182,
   "metadata": {},
   "outputs": [
    {
     "data": {
      "text/plain": [
       "count    29818.000000\n",
       "mean         0.341440\n",
       "std          0.151549\n",
       "min          0.200000\n",
       "25%          0.200000\n",
       "50%          0.200000\n",
       "75%          0.500000\n",
       "max          0.600000\n",
       "Name: Тип предела текучести (1186), dtype: float64"
      ]
     },
     "execution_count": 182,
     "metadata": {},
     "output_type": "execute_result"
    }
   ],
   "source": [
    "y['Тип предела текучести (1186)'].describe()"
   ]
  },
  {
   "cell_type": "code",
   "execution_count": null,
   "metadata": {},
   "outputs": [],
   "source": [
    "# y"
   ]
  },
  {
   "cell_type": "code",
   "execution_count": null,
   "metadata": {
    "collapsed": true
   },
   "outputs": [],
   "source": []
  }
 ],
 "metadata": {
  "kernelspec": {
   "display_name": "Python 3",
   "language": "python",
   "name": "python3"
  },
  "language_info": {
   "codemirror_mode": {
    "name": "ipython",
    "version": 3
   },
   "file_extension": ".py",
   "mimetype": "text/x-python",
   "name": "python",
   "nbconvert_exporter": "python",
   "pygments_lexer": "ipython3",
   "version": "3.6.5"
  }
 },
 "nbformat": 4,
 "nbformat_minor": 2
}
