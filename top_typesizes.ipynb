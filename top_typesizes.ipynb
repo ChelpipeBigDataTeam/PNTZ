{
 "cells": [
  {
   "cell_type": "code",
   "execution_count": 3,
   "metadata": {},
   "outputs": [],
   "source": [
    "def conv2float(x):\n",
    "    try:\n",
    "        return float(x)\n",
    "    except:\n",
    "        return None\n",
    "    \n",
    "def rep_weight(x):\n",
    "    x = str(x)\n",
    "    x = x.replace('4,770', '4.77')\n",
    "    x = x.replace('-', '')\n",
    "    x = x.replace('73,02х5,51', '')\n",
    "    x = x.replace('3,900', '3.9')  \n",
    "    return x"
   ]
  },
  {
   "cell_type": "code",
   "execution_count": 5,
   "metadata": {},
   "outputs": [
    {
     "name": "stdout",
     "output_type": "stream",
     "text": [
      "importing Jupyter notebook from D:\\Repo\\PycharmProjects\\gitPNTZ\\PNTZ\\my_libs\\calc_features.ipynb\n",
      "importing Jupyter notebook from D:\\Repo\\PycharmProjects\\gitPNTZ\\PNTZ\\my_libs\\critical_temp_after_spryer.ipynb\n",
      "importing Jupyter notebook from D:\\Repo\\PycharmProjects\\gitPNTZ\\PNTZ\\my_libs\\data_paths.ipynb\n"
     ]
    }
   ],
   "source": [
    "from __future__ import division, print_function\n",
    "# отключим всякие предупреждения Anaconda\n",
    "import warnings\n",
    "# warnings.filterwarnings(\"ignore\")\n",
    "import sklearn\n",
    "import pandas as pd\n",
    "import numpy as np\n",
    "import os\n",
    "import import_ipynb\n",
    "from my_libs.calc_features import make_prepared\n",
    "pd.options.display.max_columns = 100\n",
    "pd.options.display.max_rows = 1000"
   ]
  },
  {
   "cell_type": "code",
   "execution_count": 6,
   "metadata": {},
   "outputs": [],
   "source": [
    "df = pd.read_excel('for_top_typesizes.xlsx')"
   ]
  },
  {
   "cell_type": "code",
   "execution_count": 7,
   "metadata": {},
   "outputs": [],
   "source": [
    "df['диаметр'] = df['диаметр'].astype(float)\n",
    "df['толщина стенки'] = df['толщина стенки'].astype(float)"
   ]
  },
  {
   "cell_type": "code",
   "execution_count": 8,
   "metadata": {},
   "outputs": [
    {
     "data": {
      "text/plain": [
       "(134982, 23)"
      ]
     },
     "execution_count": 8,
     "metadata": {},
     "output_type": "execute_result"
    }
   ],
   "source": [
    "df.shape"
   ]
  },
  {
   "cell_type": "code",
   "execution_count": 9,
   "metadata": {},
   "outputs": [
    {
     "data": {
      "text/plain": [
       "(7530, 23)"
      ]
     },
     "execution_count": 9,
     "metadata": {},
     "output_type": "execute_result"
    }
   ],
   "source": [
    "last_df = df[df['Дата термообработки'].apply(lambda x:x.year) == 2017].copy()\n",
    "last_df.shape\n",
    "\n",
    "df_2018 = df[df['Дата термообработки'].apply(lambda x:x.year) == 2018].copy()\n",
    "df_2018.shape"
   ]
  },
  {
   "cell_type": "code",
   "execution_count": 10,
   "metadata": {},
   "outputs": [],
   "source": [
    "last_df['масса\\nтн'] = last_df['масса\\nтн'].apply(rep_weight)\n",
    "last_df['масса\\nтн'] = last_df['масса\\nтн'].apply(conv2float)\n",
    "\n",
    "df_2018['масса\\nтн'] = df_2018['масса\\nтн'].apply(rep_weight)\n",
    "df_2018['масса\\nтн'] = df_2018['масса\\nтн'].apply(conv2float)"
   ]
  },
  {
   "cell_type": "code",
   "execution_count": 11,
   "metadata": {},
   "outputs": [],
   "source": [
    "tmp = pd.DataFrame()"
   ]
  },
  {
   "cell_type": "code",
   "execution_count": 360,
   "metadata": {},
   "outputs": [],
   "source": [
    "tmp = last_df.groupby(['марка стали', 'диаметр', 'толщина стенки'])['масса\\nтн'].sum().copy()\n",
    "tmp = tmp.reset_index()\n",
    "tmp.to_excel('top_typesizes_2017.xlsx')"
   ]
  },
  {
   "cell_type": "code",
   "execution_count": 12,
   "metadata": {},
   "outputs": [],
   "source": [
    "tmp = df_2018.groupby(['марка стали', 'диаметр', 'толщина стенки'])['масса\\nтн'].sum().copy()\n",
    "tmp = tmp.reset_index()\n",
    "tmp.to_excel('top_typesizes_2018.xlsx')"
   ]
  },
  {
   "cell_type": "code",
   "execution_count": 361,
   "metadata": {},
   "outputs": [],
   "source": [
    "# Странные попытки как-то сгруппировать толщину стенок по интервалам, дальше планировалось сгруппировать по марке стали, диаметру и новой толщине стенки(категориальный признак).\n",
    "bins =  np.arange(4,25,4)\n",
    "ind = np.digitize(tmp['толщина стенки'],bins)"
   ]
  },
  {
   "cell_type": "code",
   "execution_count": 362,
   "metadata": {},
   "outputs": [
    {
     "data": {
      "text/plain": [
       "array([ 4,  8, 12, 16, 20, 24])"
      ]
     },
     "execution_count": 362,
     "metadata": {},
     "output_type": "execute_result"
    }
   ],
   "source": [
    "bins"
   ]
  },
  {
   "cell_type": "code",
   "execution_count": 363,
   "metadata": {},
   "outputs": [
    {
     "data": {
      "text/plain": [
       "array([1, 1, 1, 2, 2, 2, 1, 2, 1, 1, 1, 1, 1, 2, 2, 2, 3, 4, 1, 2, 2, 3, 4,\n",
       "       2, 2, 1, 1, 3, 4, 1, 2, 1, 2, 2, 3, 2, 3, 4, 4, 1, 1, 1, 1, 3, 3, 3,\n",
       "       1, 1, 1, 1, 3, 3, 3, 3, 3, 2, 2, 2, 2, 2, 3, 1, 2, 2, 2, 1, 1, 1, 2,\n",
       "       1, 1, 1, 1, 2, 1, 2, 2, 2, 1, 1, 1, 1, 1, 1, 1, 1, 1, 1, 1, 1, 1, 2,\n",
       "       2, 2, 2, 2, 2, 2, 1, 1, 1, 1, 1, 3, 3, 3, 3, 4, 3, 3, 4, 4, 5, 5, 5,\n",
       "       5, 5, 4, 5, 6, 4, 5, 5, 4, 1, 1, 1, 1, 4, 4, 5, 2, 2, 3, 4, 5, 5, 4,\n",
       "       2, 5, 2, 3, 6, 2, 1, 1, 2, 2, 1, 1, 2, 2, 3, 1, 1, 3, 3, 3, 3, 2, 3,\n",
       "       3, 1, 3, 3, 4, 1, 1, 1, 1, 1, 1, 3, 3, 3, 4, 4, 3, 5, 3, 2, 4, 4, 5,\n",
       "       5, 2, 2, 2, 2, 2, 2, 2, 2, 2, 4, 4, 3, 3, 4, 1, 1, 1, 1, 1, 1, 1, 1,\n",
       "       1, 1, 1, 1, 1], dtype=int64)"
      ]
     },
     "execution_count": 363,
     "metadata": {},
     "output_type": "execute_result"
    }
   ],
   "source": [
    "ind"
   ]
  },
  {
   "cell_type": "code",
   "execution_count": 364,
   "metadata": {},
   "outputs": [],
   "source": [
    "tmp['толщина стенки'] = ind"
   ]
  },
  {
   "cell_type": "code",
   "execution_count": 365,
   "metadata": {},
   "outputs": [],
   "source": [
    "tmp = tmp.groupby(['марка стали', 'диаметр', 'толщина стенки'])['масса\\nтн'].sum()\n",
    "tmp = tmp.reset_index()"
   ]
  },
  {
   "cell_type": "code",
   "execution_count": 367,
   "metadata": {},
   "outputs": [],
   "source": [
    "tmp.to_excel('top_typesizes_2017_interval.xlsx')"
   ]
  },
  {
   "cell_type": "code",
   "execution_count": 386,
   "metadata": {},
   "outputs": [],
   "source": [
    "def find_mark_typesize(mark, d, s):\n",
    "    answ = df.copy()\n",
    "    if mark!=None:\n",
    "        answ = answ[answ['марка стали']==mark]\n",
    "#     print(answ.shape)\n",
    "    if d!=None:\n",
    "        answ = answ[answ['диаметр']==d]\n",
    "#     print(answ.shape)\n",
    "    if s!=None:\n",
    "        answ = answ[answ['толщина стенки']==s]\n",
    "#     print(answ.shape)\n",
    "    return answ"
   ]
  },
  {
   "cell_type": "code",
   "execution_count": 387,
   "metadata": {},
   "outputs": [],
   "source": [
    "def find_mark_typesize_2018(mark, d, s):\n",
    "    answ = df[df['Дата термообработки'].apply(lambda x: x.year == 2018)].copy()\n",
    "    if mark!=None:\n",
    "        answ = answ[answ['марка стали']==mark]\n",
    "#     print(answ.shape)\n",
    "    if d!=None:\n",
    "        answ = answ[answ['диаметр']==d]\n",
    "#     print(answ.shape)\n",
    "    if s!=None:\n",
    "        answ = answ[answ['толщина стенки']==s]\n",
    "#     print(answ.shape)\n",
    "    return answ"
   ]
  },
  {
   "cell_type": "code",
   "execution_count": 392,
   "metadata": {},
   "outputs": [],
   "source": [
    "top = pd.read_excel('top_typesizes_2017.xlsx')"
   ]
  },
  {
   "cell_type": "code",
   "execution_count": 393,
   "metadata": {},
   "outputs": [],
   "source": [
    "top=top.sort_values('масса\\nтн', ascending=False)"
   ]
  },
  {
   "cell_type": "code",
   "execution_count": 394,
   "metadata": {},
   "outputs": [],
   "source": [
    "top_ls = top.head(30).copy()"
   ]
  },
  {
   "cell_type": "code",
   "execution_count": 395,
   "metadata": {},
   "outputs": [
    {
     "data": {
      "text/html": [
       "<div>\n",
       "<style>\n",
       "    .dataframe thead tr:only-child th {\n",
       "        text-align: right;\n",
       "    }\n",
       "\n",
       "    .dataframe thead th {\n",
       "        text-align: left;\n",
       "    }\n",
       "\n",
       "    .dataframe tbody tr th {\n",
       "        vertical-align: top;\n",
       "    }\n",
       "</style>\n",
       "<table border=\"1\" class=\"dataframe\">\n",
       "  <thead>\n",
       "    <tr style=\"text-align: right;\">\n",
       "      <th></th>\n",
       "      <th>марка стали</th>\n",
       "      <th>диаметр</th>\n",
       "      <th>толщина стенки</th>\n",
       "      <th>масса\n",
       "тн</th>\n",
       "    </tr>\n",
       "  </thead>\n",
       "  <tbody>\n",
       "    <tr>\n",
       "      <th>0</th>\n",
       "      <td>30Г2</td>\n",
       "      <td>73.02</td>\n",
       "      <td>5.51</td>\n",
       "      <td>11970.149100</td>\n",
       "    </tr>\n",
       "    <tr>\n",
       "      <th>1</th>\n",
       "      <td>30Г2</td>\n",
       "      <td>177.80</td>\n",
       "      <td>9.20</td>\n",
       "      <td>10077.884038</td>\n",
       "    </tr>\n",
       "    <tr>\n",
       "      <th>2</th>\n",
       "      <td>30Г2</td>\n",
       "      <td>73.00</td>\n",
       "      <td>5.50</td>\n",
       "      <td>7731.340000</td>\n",
       "    </tr>\n",
       "    <tr>\n",
       "      <th>3</th>\n",
       "      <td>18ХМФБ</td>\n",
       "      <td>73.02</td>\n",
       "      <td>5.51</td>\n",
       "      <td>7616.750000</td>\n",
       "    </tr>\n",
       "    <tr>\n",
       "      <th>4</th>\n",
       "      <td>30Г2-8</td>\n",
       "      <td>73.02</td>\n",
       "      <td>5.51</td>\n",
       "      <td>4899.125000</td>\n",
       "    </tr>\n",
       "    <tr>\n",
       "      <th>5</th>\n",
       "      <td>30Г2</td>\n",
       "      <td>88.90</td>\n",
       "      <td>6.50</td>\n",
       "      <td>3185.250000</td>\n",
       "    </tr>\n",
       "    <tr>\n",
       "      <th>6</th>\n",
       "      <td>37Г2Ф</td>\n",
       "      <td>168.28</td>\n",
       "      <td>8.94</td>\n",
       "      <td>2975.130000</td>\n",
       "    </tr>\n",
       "    <tr>\n",
       "      <th>7</th>\n",
       "      <td>30Г2</td>\n",
       "      <td>88.90</td>\n",
       "      <td>6.45</td>\n",
       "      <td>2074.510000</td>\n",
       "    </tr>\n",
       "    <tr>\n",
       "      <th>8</th>\n",
       "      <td>37Г2Ф</td>\n",
       "      <td>177.80</td>\n",
       "      <td>9.20</td>\n",
       "      <td>2054.030000</td>\n",
       "    </tr>\n",
       "    <tr>\n",
       "      <th>9</th>\n",
       "      <td>30Г2</td>\n",
       "      <td>168.28</td>\n",
       "      <td>8.94</td>\n",
       "      <td>2029.170000</td>\n",
       "    </tr>\n",
       "    <tr>\n",
       "      <th>10</th>\n",
       "      <td>18ХМФБ</td>\n",
       "      <td>73.00</td>\n",
       "      <td>5.50</td>\n",
       "      <td>1898.620000</td>\n",
       "    </tr>\n",
       "    <tr>\n",
       "      <th>11</th>\n",
       "      <td>37Г2Ф</td>\n",
       "      <td>88.90</td>\n",
       "      <td>12.20</td>\n",
       "      <td>1464.680000</td>\n",
       "    </tr>\n",
       "    <tr>\n",
       "      <th>12</th>\n",
       "      <td>38Г2С</td>\n",
       "      <td>73.00</td>\n",
       "      <td>5.50</td>\n",
       "      <td>1328.270000</td>\n",
       "    </tr>\n",
       "    <tr>\n",
       "      <th>13</th>\n",
       "      <td>30Г2-8</td>\n",
       "      <td>73.00</td>\n",
       "      <td>5.50</td>\n",
       "      <td>1046.280000</td>\n",
       "    </tr>\n",
       "    <tr>\n",
       "      <th>14</th>\n",
       "      <td>37Г2Ф</td>\n",
       "      <td>73.00</td>\n",
       "      <td>5.50</td>\n",
       "      <td>941.650000</td>\n",
       "    </tr>\n",
       "    <tr>\n",
       "      <th>15</th>\n",
       "      <td>13ХФА</td>\n",
       "      <td>89.00</td>\n",
       "      <td>10.00</td>\n",
       "      <td>912.330000</td>\n",
       "    </tr>\n",
       "    <tr>\n",
       "      <th>16</th>\n",
       "      <td>38Г2С-9</td>\n",
       "      <td>73.00</td>\n",
       "      <td>5.50</td>\n",
       "      <td>829.250000</td>\n",
       "    </tr>\n",
       "    <tr>\n",
       "      <th>17</th>\n",
       "      <td>30ХГМА</td>\n",
       "      <td>194.50</td>\n",
       "      <td>19.70</td>\n",
       "      <td>783.270000</td>\n",
       "    </tr>\n",
       "    <tr>\n",
       "      <th>18</th>\n",
       "      <td>37Г2Ф</td>\n",
       "      <td>88.90</td>\n",
       "      <td>13.00</td>\n",
       "      <td>782.300000</td>\n",
       "    </tr>\n",
       "    <tr>\n",
       "      <th>19</th>\n",
       "      <td>13ХФА</td>\n",
       "      <td>219.00</td>\n",
       "      <td>18.00</td>\n",
       "      <td>726.960000</td>\n",
       "    </tr>\n",
       "    <tr>\n",
       "      <th>20</th>\n",
       "      <td>30ХГМА-4</td>\n",
       "      <td>88.90</td>\n",
       "      <td>7.34</td>\n",
       "      <td>715.970000</td>\n",
       "    </tr>\n",
       "    <tr>\n",
       "      <th>21</th>\n",
       "      <td>37Г2Ф</td>\n",
       "      <td>194.50</td>\n",
       "      <td>14.50</td>\n",
       "      <td>715.340000</td>\n",
       "    </tr>\n",
       "    <tr>\n",
       "      <th>22</th>\n",
       "      <td>13ХФА</td>\n",
       "      <td>219.00</td>\n",
       "      <td>14.00</td>\n",
       "      <td>636.570000</td>\n",
       "    </tr>\n",
       "    <tr>\n",
       "      <th>23</th>\n",
       "      <td>37Г2Ф</td>\n",
       "      <td>93.17</td>\n",
       "      <td>12.50</td>\n",
       "      <td>627.480000</td>\n",
       "    </tr>\n",
       "    <tr>\n",
       "      <th>24</th>\n",
       "      <td>38Г2С</td>\n",
       "      <td>73.02</td>\n",
       "      <td>5.51</td>\n",
       "      <td>619.520000</td>\n",
       "    </tr>\n",
       "    <tr>\n",
       "      <th>25</th>\n",
       "      <td>18ХМФБ</td>\n",
       "      <td>177.80</td>\n",
       "      <td>9.19</td>\n",
       "      <td>616.530000</td>\n",
       "    </tr>\n",
       "    <tr>\n",
       "      <th>26</th>\n",
       "      <td>30ХГМА</td>\n",
       "      <td>88.90</td>\n",
       "      <td>6.45</td>\n",
       "      <td>598.140000</td>\n",
       "    </tr>\n",
       "    <tr>\n",
       "      <th>27</th>\n",
       "      <td>30ХГМА-4</td>\n",
       "      <td>194.50</td>\n",
       "      <td>19.70</td>\n",
       "      <td>526.180000</td>\n",
       "    </tr>\n",
       "    <tr>\n",
       "      <th>28</th>\n",
       "      <td>37Г2Ф</td>\n",
       "      <td>114.30</td>\n",
       "      <td>6.40</td>\n",
       "      <td>504.530000</td>\n",
       "    </tr>\n",
       "    <tr>\n",
       "      <th>29</th>\n",
       "      <td>37Г2Ф</td>\n",
       "      <td>73.02</td>\n",
       "      <td>10.50</td>\n",
       "      <td>483.970000</td>\n",
       "    </tr>\n",
       "  </tbody>\n",
       "</table>\n",
       "</div>"
      ],
      "text/plain": [
       "   марка стали  диаметр  толщина стенки     масса\\nтн\n",
       "0         30Г2    73.02            5.51  11970.149100\n",
       "1         30Г2   177.80            9.20  10077.884038\n",
       "2         30Г2    73.00            5.50   7731.340000\n",
       "3       18ХМФБ    73.02            5.51   7616.750000\n",
       "4       30Г2-8    73.02            5.51   4899.125000\n",
       "5         30Г2    88.90            6.50   3185.250000\n",
       "6        37Г2Ф   168.28            8.94   2975.130000\n",
       "7         30Г2    88.90            6.45   2074.510000\n",
       "8        37Г2Ф   177.80            9.20   2054.030000\n",
       "9         30Г2   168.28            8.94   2029.170000\n",
       "10      18ХМФБ    73.00            5.50   1898.620000\n",
       "11       37Г2Ф    88.90           12.20   1464.680000\n",
       "12       38Г2С    73.00            5.50   1328.270000\n",
       "13      30Г2-8    73.00            5.50   1046.280000\n",
       "14       37Г2Ф    73.00            5.50    941.650000\n",
       "15       13ХФА    89.00           10.00    912.330000\n",
       "16     38Г2С-9    73.00            5.50    829.250000\n",
       "17      30ХГМА   194.50           19.70    783.270000\n",
       "18       37Г2Ф    88.90           13.00    782.300000\n",
       "19       13ХФА   219.00           18.00    726.960000\n",
       "20    30ХГМА-4    88.90            7.34    715.970000\n",
       "21       37Г2Ф   194.50           14.50    715.340000\n",
       "22       13ХФА   219.00           14.00    636.570000\n",
       "23       37Г2Ф    93.17           12.50    627.480000\n",
       "24       38Г2С    73.02            5.51    619.520000\n",
       "25      18ХМФБ   177.80            9.19    616.530000\n",
       "26      30ХГМА    88.90            6.45    598.140000\n",
       "27    30ХГМА-4   194.50           19.70    526.180000\n",
       "28       37Г2Ф   114.30            6.40    504.530000\n",
       "29       37Г2Ф    73.02           10.50    483.970000"
      ]
     },
     "execution_count": 395,
     "metadata": {},
     "output_type": "execute_result"
    }
   ],
   "source": [
    "top_ls.reset_index(inplace=True, drop=True)\n",
    "top_ls"
   ]
  },
  {
   "cell_type": "code",
   "execution_count": 397,
   "metadata": {},
   "outputs": [
    {
     "name": "stdout",
     "output_type": "stream",
     "text": [
      "(416, 23) \n",
      " марка стали          30Г2\n",
      "диаметр             73.02\n",
      "толщина стенки       5.51\n",
      "масса\\nтн         11970.1\n",
      "Name: 0, dtype: object\n",
      "(349, 23) \n",
      " марка стали          30Г2\n",
      "диаметр             177.8\n",
      "толщина стенки        9.2\n",
      "масса\\nтн         10077.9\n",
      "Name: 1, dtype: object\n",
      "(373, 23) \n",
      " марка стали          30Г2\n",
      "диаметр                73\n",
      "толщина стенки        5.5\n",
      "масса\\nтн         7731.34\n",
      "Name: 2, dtype: object\n",
      "(21, 23) \n",
      " марка стали        18ХМФБ\n",
      "диаметр             73.02\n",
      "толщина стенки       5.51\n",
      "масса\\nтн         7616.75\n",
      "Name: 3, dtype: object\n",
      "(122, 23) \n",
      " марка стали        30Г2-8\n",
      "диаметр             73.02\n",
      "толщина стенки       5.51\n",
      "масса\\nтн         4899.12\n",
      "Name: 4, dtype: object\n",
      "(256, 23) \n",
      " марка стали          30Г2\n",
      "диаметр              88.9\n",
      "толщина стенки        6.5\n",
      "масса\\nтн         3185.25\n",
      "Name: 5, dtype: object\n",
      "(0, 23) \n",
      " марка стали         37Г2Ф\n",
      "диаметр            168.28\n",
      "толщина стенки       8.94\n",
      "масса\\nтн         2975.13\n",
      "Name: 6, dtype: object\n",
      "(65, 23) \n",
      " марка стали          30Г2\n",
      "диаметр              88.9\n",
      "толщина стенки       6.45\n",
      "масса\\nтн         2074.51\n",
      "Name: 7, dtype: object\n",
      "(393, 23) \n",
      " марка стали         37Г2Ф\n",
      "диаметр             177.8\n",
      "толщина стенки        9.2\n",
      "масса\\nтн         2054.03\n",
      "Name: 8, dtype: object\n",
      "(63, 23) \n",
      " марка стали          30Г2\n",
      "диаметр            168.28\n",
      "толщина стенки       8.94\n",
      "масса\\nтн         2029.17\n",
      "Name: 9, dtype: object\n",
      "(0, 23) \n",
      " марка стали        18ХМФБ\n",
      "диаметр                73\n",
      "толщина стенки        5.5\n",
      "масса\\nтн         1898.62\n",
      "Name: 10, dtype: object\n",
      "(67, 23) \n",
      " марка стали         37Г2Ф\n",
      "диаметр              88.9\n",
      "толщина стенки       12.2\n",
      "масса\\nтн         1464.68\n",
      "Name: 11, dtype: object\n",
      "(4, 23) \n",
      " марка стали         38Г2С\n",
      "диаметр                73\n",
      "толщина стенки        5.5\n",
      "масса\\nтн         1328.27\n",
      "Name: 12, dtype: object\n",
      "(61, 23) \n",
      " марка стали        30Г2-8\n",
      "диаметр                73\n",
      "толщина стенки        5.5\n",
      "масса\\nтн         1046.28\n",
      "Name: 13, dtype: object\n",
      "(0, 23) \n",
      " марка стали        37Г2Ф\n",
      "диаметр               73\n",
      "толщина стенки       5.5\n",
      "масса\\nтн         941.65\n",
      "Name: 14, dtype: object\n",
      "(0, 23) \n",
      " марка стали        13ХФА\n",
      "диаметр               89\n",
      "толщина стенки        10\n",
      "масса\\nтн         912.33\n",
      "Name: 15, dtype: object\n",
      "(143, 23) \n",
      " марка стали       38Г2С-9\n",
      "диаметр                73\n",
      "толщина стенки        5.5\n",
      "масса\\nтн          829.25\n",
      "Name: 16, dtype: object\n",
      "(10, 23) \n",
      " марка стали       30ХГМА\n",
      "диаметр            194.5\n",
      "толщина стенки      19.7\n",
      "масса\\nтн         783.27\n",
      "Name: 17, dtype: object\n",
      "(0, 23) \n",
      " марка стали       37Г2Ф\n",
      "диаметр            88.9\n",
      "толщина стенки       13\n",
      "масса\\nтн         782.3\n",
      "Name: 18, dtype: object\n",
      "(0, 23) \n",
      " марка стали        13ХФА\n",
      "диаметр              219\n",
      "толщина стенки        18\n",
      "масса\\nтн         726.96\n",
      "Name: 19, dtype: object\n",
      "(0, 23) \n",
      " марка стали       30ХГМА-4\n",
      "диаметр               88.9\n",
      "толщина стенки        7.34\n",
      "масса\\nтн           715.97\n",
      "Name: 20, dtype: object\n",
      "(45, 23) \n",
      " марка стали        37Г2Ф\n",
      "диаметр            194.5\n",
      "толщина стенки      14.5\n",
      "масса\\nтн         715.34\n",
      "Name: 21, dtype: object\n",
      "(0, 23) \n",
      " марка стали        13ХФА\n",
      "диаметр              219\n",
      "толщина стенки        14\n",
      "масса\\nтн         636.57\n",
      "Name: 22, dtype: object\n",
      "(0, 23) \n",
      " марка стали        37Г2Ф\n",
      "диаметр            93.17\n",
      "толщина стенки      12.5\n",
      "масса\\nтн         627.48\n",
      "Name: 23, dtype: object\n",
      "(0, 23) \n",
      " марка стали        38Г2С\n",
      "диаметр            73.02\n",
      "толщина стенки      5.51\n",
      "масса\\nтн         619.52\n",
      "Name: 24, dtype: object\n",
      "(0, 23) \n",
      " марка стали       18ХМФБ\n",
      "диаметр            177.8\n",
      "толщина стенки      9.19\n",
      "масса\\nтн         616.53\n",
      "Name: 25, dtype: object\n",
      "(0, 23) \n",
      " марка стали       30ХГМА\n",
      "диаметр             88.9\n",
      "толщина стенки      6.45\n",
      "масса\\nтн         598.14\n",
      "Name: 26, dtype: object\n",
      "(0, 23) \n",
      " марка стали       30ХГМА-4\n",
      "диаметр              194.5\n",
      "толщина стенки        19.7\n",
      "масса\\nтн           526.18\n",
      "Name: 27, dtype: object\n",
      "(0, 23) \n",
      " марка стали        37Г2Ф\n",
      "диаметр            114.3\n",
      "толщина стенки       6.4\n",
      "масса\\nтн         504.53\n",
      "Name: 28, dtype: object\n",
      "(14, 23) \n",
      " марка стали        37Г2Ф\n",
      "диаметр            73.02\n",
      "толщина стенки      10.5\n",
      "масса\\nтн         483.97\n",
      "Name: 29, dtype: object\n"
     ]
    }
   ],
   "source": [
    "# поиск топовых типоразмеров в файлах за 2018г для валидации\n",
    "for i in range(0,len(top_ls)):\n",
    "    print(find_mark_typesize_2018(top_ls.iloc[i,:][0], top_ls.iloc[i,:][1], top_ls.iloc[i,:][2]).shape, '\\n', top_ls.iloc[i, :])"
   ]
  },
  {
   "cell_type": "code",
   "execution_count": 399,
   "metadata": {},
   "outputs": [
    {
     "data": {
      "text/plain": [
       "(343, 23)"
      ]
     },
     "execution_count": 399,
     "metadata": {},
     "output_type": "execute_result"
    }
   ],
   "source": [
    "answ.shape"
   ]
  },
  {
   "cell_type": "code",
   "execution_count": 402,
   "metadata": {},
   "outputs": [
    {
     "name": "stdout",
     "output_type": "stream",
     "text": [
      "24.0 24.0\n",
      "30.0 24.0\n",
      "24.0 24.0\n",
      "24.0 24.0\n",
      "24.0 24.0\n",
      "24.0 24.0\n",
      "30.0 30.0\n",
      "24.0 24.0\n",
      "30.0 30.0\n",
      "30.0 30.0\n",
      "24.0 24.0\n",
      "32.0 32.0\n",
      "24.0 24.0\n",
      "24.0 24.0\n",
      "24.0 24.0\n",
      "45.0 45.0\n",
      "24.0 24.0\n",
      "40.0 40.0\n",
      "36.0 36.0\n",
      "40.0 40.0\n",
      "24.0 26.0\n",
      "36.0 36.0\n",
      "45.0 45.0\n",
      "36.0 36.0\n",
      "24.0 24.0\n",
      "36.0 36.0\n",
      "27.0 27.0\n",
      "40.0 40.0\n",
      "31.0 31.0\n",
      "32.0 32.0\n"
     ]
    }
   ],
   "source": [
    "# якобы минимальные шаги топовых типоразмеров\n",
    "for i in range(0,len(top_ls)):\n",
    "    answ = find_mark_typesize(top_ls.iloc[i,:][0], top_ls.iloc[i,:][1], top_ls.iloc[i,:][2])\n",
    "    answ = answ[answ['шаг балок отпускная печь, сек'] >= 24]\n",
    "    answ = answ[answ['шаг балок закалочная печь, сек'] >= 24]\n",
    "    print(answ['шаг балок отпускная печь, сек'].min(), answ['шаг балок закалочная печь, сек'].min()) #value_counts для адекватного просмотра шагов\n",
    "#     print(i)\n",
    "#     print(top_ls.iloc[i,:])"
   ]
  }
 ],
 "metadata": {
  "kernelspec": {
   "display_name": "Python 3",
   "language": "python",
   "name": "python3"
  },
  "language_info": {
   "codemirror_mode": {
    "name": "ipython",
    "version": 3
   },
   "file_extension": ".py",
   "mimetype": "text/x-python",
   "name": "python",
   "nbconvert_exporter": "python",
   "pygments_lexer": "ipython3",
   "version": "3.6.4"
  }
 },
 "nbformat": 4,
 "nbformat_minor": 2
}
