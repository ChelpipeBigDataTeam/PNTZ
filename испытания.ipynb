{
 "cells": [
  {
   "cell_type": "code",
   "execution_count": 1,
   "metadata": {},
   "outputs": [],
   "source": [
    "import pandas as pd\n",
    "import numpy as np\n",
    "import warnings\n",
    "import re\n",
    "from collections import OrderedDict\n",
    "warnings.filterwarnings('default')"
   ]
  },
  {
   "cell_type": "code",
   "execution_count": 5,
   "metadata": {},
   "outputs": [],
   "source": [
    "# подгрузка всех файлов\n",
    "import os\n",
    "dr = 'DATA/source/exp'\n",
    "file_names = os.listdir(dr)"
   ]
  },
  {
   "cell_type": "code",
   "execution_count": 6,
   "metadata": {},
   "outputs": [],
   "source": [
    "file_names.remove('prepared')"
   ]
  },
  {
   "cell_type": "code",
   "execution_count": 8,
   "metadata": {
    "scrolled": true
   },
   "outputs": [
    {
     "name": "stdout",
     "output_type": "stream",
     "text": [
      "1квартал2017.xls\n",
      "2012 1 квартал (январь, февраль, март)испр.xls\n",
      "2012 2 квартал (апрель, май, июнь)испр..xls\n",
      "2012 3 квартал (июль, август, сентябрь)испр..xls\n",
      "2012 4 квартал (октябрь, ноябрь, декабрь)испр.xls\n",
      "2013 1 квартал (январь, февраль, март)испр.xls\n",
      "2013 2 квартал (апрель, май, июнь)испр..xls\n",
      "2013 3 квартал (июль, август, сентябрь)испр..xls\n",
      "2013 4 квартал (октябрь, ноябрь, декабрь)испр.xls\n",
      "2014 1 квартал (январь, февраль, март)испр.xls\n",
      "2014 2 квартал (апрель, май, июнь)испр.xls\n",
      "2014 3 квартал (июль, август, сентябрь)испр.xls\n",
      "2014 4 квартал (октябрь, ноябрь, декабрь)испр.xls\n",
      "2015 1 квартал (январь, февраль, март)испр.xls\n",
      "2015 2 квартал (апрель, май, июнь)испр.xls\n",
      "2015 3 квартал ( июль, август, сентябрь)испр.xls\n",
      "2015 4 квартал (октябрь, ноябрь, декабрь)испр.xls\n",
      "2016 1 квартал (январь,февраль,март)испр.xls\n",
      "2016 2 квартал (апрель, май, июнь)испр.xls\n",
      "2016 3 квартал (июль, август, сентябрь)испр.xls\n",
      "2016 4 квартал (октябрь, ноябрь, декабрь)испр.xls\n",
      "2квартал2017.xls\n",
      "2квартал2017_2.xlsx\n",
      "3 квартал 2017.xls\n",
      "4квартал2017.xlsx\n",
      "декабрь - задание и испытания.xlsx\n",
      "испытания апрель 2018.xls\n",
      "март 2018-испытания.xlsx\n",
      "февраль 2018-испытания.xlsx\n",
      "январь 2018 - с испытаниями.xlsx\n"
     ]
    }
   ],
   "source": [
    "\"\"\"файлы в список\"\"\"\n",
    "df_dicts = []\n",
    "for name in file_names:\n",
    "    df_dicts.append([name, pd.read_excel(dr+'\\\\'+name, None)])\n",
    "    print(name)"
   ]
  },
  {
   "cell_type": "code",
   "execution_count": 9,
   "metadata": {
    "slideshow": {
     "slide_type": "-"
    }
   },
   "outputs": [
    {
     "data": {
      "text/plain": [
       "30"
      ]
     },
     "execution_count": 9,
     "metadata": {},
     "output_type": "execute_result"
    }
   ],
   "source": [
    "# список всех таблиц из всех файлов\n",
    "sheetname_list = []\n",
    "for name, dict_ in df_dicts:    \n",
    "    tmp = dict_.keys()\n",
    "    tmp = list(tmp)\n",
    "    tmp = tmp[2:-3]\n",
    "    sheetname_list.append(tmp)\n",
    "len(sheetname_list)"
   ]
  },
  {
   "cell_type": "code",
   "execution_count": 10,
   "metadata": {
    "scrolled": true
   },
   "outputs": [
    {
     "name": "stdout",
     "output_type": "stream",
     "text": [
      "114\n"
     ]
    }
   ],
   "source": [
    "# dict_sheet_count - словарь всех вкладок(листов) из таблиц без дубликатов и их частоты\n",
    "# uniq_sheetname - множество всех вкладок(листов) из таблиц без дубликатов (не используется)\n",
    "\n",
    "dict_sheet_count = {}\n",
    "uniq_sheetname = set()\n",
    "for st in sheetname_list:\n",
    "    for ls in st:\n",
    "        uniq_sheetname.add(ls)\n",
    "\n",
    "\n",
    "uniq_sheetname = list(uniq_sheetname)\n",
    "uniq_sheetname.sort()\n",
    "print(len(uniq_sheetname))\n",
    "\n",
    "# добавление частот в словарь\n",
    "for st in sheetname_list:\n",
    "    for ls in st:\n",
    "        counts = dict_sheet_count.get(ls,0)\n",
    "        dict_sheet_count[ls] = counts + 1\n",
    "        \n",
    "        \n",
    "# df - для вывода словаря в excel            \n",
    "df = pd.DataFrame.from_dict(data = dict_sheet_count, orient='index')\n",
    "# df.to_excel('dict_sheet_count.xlsx')"
   ]
  },
  {
   "cell_type": "code",
   "execution_count": 11,
   "metadata": {},
   "outputs": [],
   "source": [
    "# переименование вкладок с одним смыслом в те, которые чаще появлялись\n",
    "\n",
    "def new_sheetname(ordDict, oldName, newName, fl=False):\n",
    "    tmp = OrderedDict((newName if k == oldName else k, v) for k, v in ordDict.items())\n",
    "    return tmp\n",
    "\n",
    "temp = []\n",
    "for name, df_l in df_dicts:\n",
    "    df_l = new_sheetname(df_l, u'Доля вязк. составл.(-20) Шарпи', u'Доля вязк. составл.КСV(-20).')\n",
    "    df_l = new_sheetname(df_l, u'Доля вязк. составл. КСV(-50).', u'Доля вязк. составл.КСV(-50).')\n",
    "    df_l = new_sheetname(df_l, u'Доля вязк. составл.(-50) Шарпи',u'Доля вязк. составл.КСV(-50).')\n",
    "    df_l = new_sheetname(df_l, u'Доля вязк. составл. КСV(-60)',u'Доля вязк. составл.(-60)Шарпи.')\n",
    "    df_l = new_sheetname(df_l, u'Доля вязк. составл.КСV(-60)',u'Доля вязк. составл.(-60)Шарпи.')\n",
    "    df_l = new_sheetname(df_l, u'Доля вязк. составл. на КV(0).',u'Доля вязк. составл.КV(0).')\n",
    "    df_l = new_sheetname(df_l, u'Доля вязк. составл.КСU(-60)',u'Доля вязк. составл.(-60)Менаже.')\n",
    "    df_l = new_sheetname(df_l, u'Доля вязк. составл.КV(-20).',u'Доля вязк. составл.КСV(-20).')\n",
    "    df_l = new_sheetname(df_l, u'Работа удара КV0 (ДЖ).',u'Работа удара КV(0) (ДЖ).')\n",
    "    df_l = new_sheetname(df_l, u'Твердость по Бринеллю НВ',u'Твердость по Бринеллю.')\n",
    "    df_l = new_sheetname(df_l, u'Твердость по Виккерсу HV.',u'Твердость по Виккерсу.')\n",
    "    df_l = new_sheetname(df_l, u'Твердость по Виккерсу НV',u'Твердость по Виккерсу.')\n",
    "    df_l = new_sheetname(df_l, u'Твердость по Роквеллу  HRB.',u'Твердость по Роквеллу HRB.')\n",
    "    df_l = new_sheetname(df_l, u'Твердость по Роквеллу НRС API.',u'Твердость по Роквеллу API HRC.')\n",
    "    temp.append([name, df_l])\n",
    "    \n",
    "df_dicts = temp     "
   ]
  },
  {
   "cell_type": "code",
   "execution_count": 14,
   "metadata": {},
   "outputs": [],
   "source": [
    "# найти файл по вкладке и вывести размер вкладки\n",
    "def findfile(sheetname):\n",
    "    row = 0\n",
    "    col = 0\n",
    "    for name, df_l in df_dicts:\n",
    "        try:\n",
    "            col = df_l[sheetname].shape[1]\n",
    "            df_l[sheetname]\n",
    "            print(name)\n",
    "        except:\n",
    "            continue\n",
    "        try:\n",
    "            row += df_l[sheetname].shape[0] \n",
    "            if (abs(col - col)<1):\n",
    "                   continue\n",
    "            else:\n",
    "                col += abs(df_l[sheetname].shape[1] - col)\n",
    "        except:\n",
    "            continue\n",
    "    print('rows = %d, col = %d' %(row, col))\n"
   ]
  },
  {
   "cell_type": "code",
   "execution_count": 15,
   "metadata": {},
   "outputs": [],
   "source": [
    "# перевод н, дж в кг\n",
    "ls_sheets_convert = [\n",
    "    u'Растяжение, н мм2 , Ksi.', \n",
    "    u'Растяжение, н мм2.',\n",
    "    u'Уд.вязк.(-60) Шарпи(ДЖ).',\n",
    "    u'Уд.вязк.(-40) Менаже(ДЖ).'\n",
    "    ]\n",
    "\n",
    "ls_columns_convert = [\n",
    "    u'Работа удара, Дж. (1173)',\n",
    "    u'Ударная вязкость, Дж/см2 (1174)',\n",
    "    u'Работа удара, Дж. (1123)',\n",
    "    u'Ударная вязкость, Дж/см2 (1125)'\n",
    "    ]\n",
    "\n",
    "def convert(ls_sheets, ls_columns, df):\n",
    "    for name, df_l in df:\n",
    "        for sheet in ls_sheets:\n",
    "            for col in ls_columns:\n",
    "                if sheet in df_l:\n",
    "                    if col in df_l[sheet]:\n",
    "                        df_l[sheet][col] = df_l[sheet][col]/9.80665\n",
    "                                                \n",
    "    return df\n",
    "\n",
    "ls_mb_convert = [\n",
    "    'Предел текучести (1141)',\n",
    "    'Предел текучести (1027)',\n",
    "    'Предел текучести (1027)',\n",
    "    'Предел текучести, Н/мм2 или МПа',\n",
    "    'Предел текучести , кгс/мм2',\n",
    "    'Предел текучести, кгс/мм2',\n",
    "    \n",
    "    \n",
    "    'Врем. сопротивление,  Н/мм2 или МПа',\n",
    "    'Врем. сопротивление (1140)',\n",
    "    'Врем. сопротивление (1042)',\n",
    "    'Врем. сопротивление , кгс/мм2',\n",
    "    'Врем. сопротивление, кгс/мм2'\n",
    "    \n",
    "]\n",
    "\n",
    "def convert_mb(ls_sheets, ls_columns, df):\n",
    "    for name, df_l in df:\n",
    "        for sheet in ls_sheets:\n",
    "            for col in ls_columns:\n",
    "                if sheet in df_l:\n",
    "                    if col in df_l[sheet]:\n",
    "                        df_l[sheet][col] =  df_l[sheet][col].apply(lambda x: x/9.80665\n",
    "                                                                   if (x > 200)\n",
    "                                                                   else x) \n",
    "    return df"
   ]
  },
  {
   "cell_type": "code",
   "execution_count": 16,
   "metadata": {},
   "outputs": [],
   "source": [
    "# конвертация\n",
    "df_dicts = convert(ls_sheets_convert, ls_columns_convert, df_dicts)\n",
    "df_dicts = convert_mb(ls_sheets_convert, ls_mb_convert, df_dicts)"
   ]
  },
  {
   "cell_type": "code",
   "execution_count": 17,
   "metadata": {},
   "outputs": [],
   "source": [
    "# очистка\n",
    "def rep(x):\n",
    "    x = str(x)\n",
    "    x = x.replace('..', '.')\n",
    "    x = x.replace(',', '.')\n",
    "    x = x.replace('. ', '.')\n",
    "    x = x.replace('>', '')\n",
    "    x = x.replace('.0.5', '0.5')\n",
    "    x = x.replace('.9.05', '9.05')\n",
    "    return x\n",
    "\n",
    "def spl(x):\n",
    "    fl = True\n",
    "    x = str(x)\n",
    "    tmpy = []\n",
    "    y =  x.split(';')\n",
    "    for i in y:\n",
    "        try:\n",
    "            tmpy.append(float(i))\n",
    "        except:\n",
    "            tmpy.append(i)\n",
    "            fl = False\n",
    "    if(fl):\n",
    "        y = tmpy   \n",
    "        x = np.mean(y)\n",
    "    return x"
   ]
  },
  {
   "cell_type": "code",
   "execution_count": 18,
   "metadata": {},
   "outputs": [],
   "source": [
    "# список вкладок важных испытаний\n",
    "sheet_important = [\n",
    "    u'Величина зерна.',\n",
    "    u'Доля вязк. составл.(0).',\n",
    "    u'Доля вязк. составл.(-20).',\n",
    "    u'Доля вязк. составл.(-50).',\n",
    "    u'Доля вязк. составл.(-60)Шарпи.',\n",
    "    u'Макроструктура (трубы).',\n",
    "    u'Микроструктура.',\n",
    "    u'Неметал. включения.',\n",
    "    u'Прокаливаемость HRC.',\n",
    "    u'Прокаливаемость для кл.N80 тип.',\n",
    "    u'Растяжение, кгс мм2.',\n",
    "    u'Растяжение, н мм2 , Ksi.',\n",
    "    u'Растяжение, н мм2.',\n",
    "    u'Сплющивание.',\n",
    "    u'Твердость по Бринеллю.',\n",
    "    u'Твердость по Роквеллу API.',\n",
    "    u'Твердость по Роквеллу HRB.',\n",
    "    u'Твердость по Роквеллу HRС.',\n",
    "    u'Уд.вязк(-20) Шарпи.(КГС М С).',\n",
    "    u'Уд.вязк.(-40) Менаже(ДЖ).',\n",
    "    u'Уд.вязк.(-40) Менаже(КГС М С).',\n",
    "    u'Уд.вязк.(-60) Шарпи(ДЖ).',\n",
    "    u'Уд.вязк.(-60) Шарпи(КГС М С).'\n",
    "    ]\n",
    "\n",
    "# список столбцов из важных вкладок, которые необходимо усреднить\n",
    "col_for_mean = [\n",
    "    u'Величина зерна (4006)',\n",
    "    u'% площади сдвига (вязк.сост.) (1138)',\n",
    "    u'% площади сдвига (вязк.сост.) (1208)',\n",
    "    u'% площади сдвига (вязк.сост.) (1210)',\n",
    "    u'% площади сдвига (вязк.сост.) (1212)',\n",
    "    u'max Единицы твердости (1071)',\n",
    "    u'Врем. сопротивление (1042)',\n",
    "    u'Врем. сопротивление (1140)',\n",
    "    u'Врем. сопротивление, Ksi (1146)',\n",
    "    u'Диам. отпечатка (8022)',\n",
    "    u'Диаметр образца (1225)',\n",
    "    u'Единицы твердости (1032)',\n",
    "    u'Единицы твердости (1060)',\n",
    "    u'Единицы твердости (1071)', \n",
    "    u'Макроструктура (4030)', # Значения \"Уд.\" и \"Дефекты отсутствуют\"\n",
    "    u'Нитриды (2010)',\n",
    "    u'ОС (оксиды строчечные) (2005)',\n",
    "    u'ОТ (оксиды точечные) (2004)',\n",
    "    u'Относительное сужение (1016)',\n",
    "    u'Относительное удлинение (1099)',\n",
    "    u'Отношение (1118)',\n",
    "    u'Полосчатость (4036)',\n",
    "    u'Предел  текучести, Ksi (1145)',\n",
    "    u'Предел текучести (1027)',\n",
    "    u'Предел текучести (1141)',\n",
    "    u'Работа удара (9051)',\n",
    "    u'Работа удара, Дж. (1123)',\n",
    "    u'Работа удара, Дж. (1173)',\n",
    "    u'С (сульфиды) (2008)',\n",
    "    u'Силикаты недеформированные (2009)',\n",
    "    u'Силикаты пластичные (2007)',\n",
    "    u'Силикаты хрупкие (2006)',\n",
    "    u'Сплющивание (1119)', # Значение \"Трещин нет\"\n",
    "    u'Толщина (1226)',\n",
    "    u'Ударная вязкость (1073)',\n",
    "    u'Ударная вязкость (1097)',\n",
    "    u'Ударная вязкость (1100)',\n",
    "    u'Ударная вязкость, Дж/см2 (1125)',\n",
    "    u'Ударная вязкость, Дж/см2 (1174)',\n",
    "    u'Число твердости на внутренней поверхности (1149)',\n",
    "    'Число твердости на середине поверхности (1148)',\n",
    "    u'Число твердости у наружной поверхности (1147)',\n",
    "    u'Предел текучести, кгс/мм2',\n",
    "    u'Врем. сопротивление, кгс/мм2',\n",
    "    u'Предел текучести, Н/мм2 или МПа',\n",
    "    u'Врем. сопротивление,  Н/мм2 или МПа',\n",
    "    'Тип предела текучести, Н/мм2 или МПа'\n",
    "    ]"
   ]
  },
  {
   "cell_type": "code",
   "execution_count": 19,
   "metadata": {},
   "outputs": [],
   "source": [
    "# очистка\n",
    "tmpdict = []\n",
    "for name, df_l in df_dicts:\n",
    "    for sheet in sheet_important:\n",
    "        for col in col_for_mean:\n",
    "            if sheet in df_l:\n",
    "                if col in df_l[sheet]:\n",
    "                    df_l[sheet][col] = df_l[sheet][col].map(rep)\n",
    "                    df_l[sheet][col] = df_l[sheet][col].map(spl)\n",
    "    tmpdict.append([name, df_l])  \n",
    "df_dicts = tmpdict"
   ]
  },
  {
   "cell_type": "code",
   "execution_count": 20,
   "metadata": {
    "scrolled": true
   },
   "outputs": [
    {
     "name": "stdout",
     "output_type": "stream",
     "text": [
      "1квартал2017.xls\n",
      "Макроструктура (4030)  do not averaged\n",
      "Сплющивание (1119)  do not averaged\n",
      "2012 1 квартал (январь, февраль, март)испр.xls\n",
      "Сплющивание (1119)  do not averaged\n",
      "Число твердости на внутренней поверхности (1149)  do not averaged\n",
      "Число твердости на середине поверхности (1148)  do not averaged\n",
      "Число твердости у наружной поверхности (1147)  do not averaged\n",
      "2012 2 квартал (апрель, май, июнь)испр..xls\n",
      "Макроструктура (4030)  do not averaged\n",
      "Сплющивание (1119)  do not averaged\n",
      "2012 3 квартал (июль, август, сентябрь)испр..xls\n",
      "Макроструктура (4030)  do not averaged\n",
      "Сплющивание (1119)  do not averaged\n",
      "2012 4 квартал (октябрь, ноябрь, декабрь)испр.xls\n",
      "Макроструктура (4030)  do not averaged\n",
      "Сплющивание (1119)  do not averaged\n",
      "2013 1 квартал (январь, февраль, март)испр.xls\n",
      "Макроструктура (4030)  do not averaged\n",
      "Сплющивание (1119)  do not averaged\n",
      "2013 2 квартал (апрель, май, июнь)испр..xls\n",
      "Макроструктура (4030)  do not averaged\n",
      "Сплющивание (1119)  do not averaged\n",
      "2013 3 квартал (июль, август, сентябрь)испр..xls\n",
      "Макроструктура (4030)  do not averaged\n",
      "Сплющивание (1119)  do not averaged\n",
      "2013 4 квартал (октябрь, ноябрь, декабрь)испр.xls\n",
      "Макроструктура (4030)  do not averaged\n",
      "Сплющивание (1119)  do not averaged\n",
      "2014 1 квартал (январь, февраль, март)испр.xls\n",
      "Сплющивание (1119)  do not averaged\n",
      "2014 2 квартал (апрель, май, июнь)испр.xls\n",
      "Сплющивание (1119)  do not averaged\n",
      "2014 3 квартал (июль, август, сентябрь)испр.xls\n",
      "Макроструктура (4030)  do not averaged\n",
      "Сплющивание (1119)  do not averaged\n",
      "2014 4 квартал (октябрь, ноябрь, декабрь)испр.xls\n",
      "Макроструктура (4030)  do not averaged\n",
      "Сплющивание (1119)  do not averaged\n",
      "2015 1 квартал (январь, февраль, март)испр.xls\n",
      "Макроструктура (4030)  do not averaged\n",
      "Сплющивание (1119)  do not averaged\n",
      "2015 2 квартал (апрель, май, июнь)испр.xls\n",
      "Макроструктура (4030)  do not averaged\n",
      "Сплющивание (1119)  do not averaged\n",
      "2015 3 квартал ( июль, август, сентябрь)испр.xls\n",
      "Макроструктура (4030)  do not averaged\n",
      "Сплющивание (1119)  do not averaged\n",
      "2015 4 квартал (октябрь, ноябрь, декабрь)испр.xls\n",
      "Макроструктура (4030)  do not averaged\n",
      "Сплющивание (1119)  do not averaged\n",
      "2016 1 квартал (январь,февраль,март)испр.xls\n",
      "Макроструктура (4030)  do not averaged\n",
      "Сплющивание (1119)  do not averaged\n",
      "2016 2 квартал (апрель, май, июнь)испр.xls\n",
      "Макроструктура (4030)  do not averaged\n",
      "Сплющивание (1119)  do not averaged\n",
      "2016 3 квартал (июль, август, сентябрь)испр.xls\n",
      "Макроструктура (4030)  do not averaged\n",
      "Сплющивание (1119)  do not averaged\n",
      "2016 4 квартал (октябрь, ноябрь, декабрь)испр.xls\n",
      "Макроструктура (4030)  do not averaged\n",
      "Сплющивание (1119)  do not averaged\n",
      "2квартал2017.xls\n",
      "Сплющивание (1119)  do not averaged\n",
      "2квартал2017_2.xlsx\n",
      "Макроструктура (4030)  do not averaged\n",
      "Сплющивание (1119)  do not averaged\n",
      "3 квартал 2017.xls\n",
      "Сплющивание (1119)  do not averaged\n",
      "4квартал2017.xlsx\n",
      "Сплющивание (1119)  do not averaged\n",
      "декабрь - задание и испытания.xlsx\n",
      "Макроструктура (4030)  do not averaged\n",
      "Сплющивание (1119)  do not averaged\n",
      "испытания апрель 2018.xls\n",
      "Макроструктура (4030)  do not averaged\n",
      "Сплющивание (1119)  do not averaged\n",
      "март 2018-испытания.xlsx\n",
      "Сплющивание (1119)  do not averaged\n",
      "февраль 2018-испытания.xlsx\n",
      "Макроструктура (4030)  do not averaged\n",
      "Сплющивание (1119)  do not averaged\n",
      "январь 2018 - с испытаниями.xlsx\n",
      "Сплющивание (1119)  do not averaged\n"
     ]
    }
   ],
   "source": [
    "# усреднение\n",
    "tmp = []\n",
    "for name, df_l in df_dicts:\n",
    "    print(name)\n",
    "    for ls in sheet_important:\n",
    "        if ls in df_l:\n",
    "            df_l[ls] = get_mean_stretch(df_l[ls], col_for_mean)\n",
    "            df_l[ls] = get_mean(df_l[ls], col_for_mean)\n",
    "    tmp.append([name, df_l])\n",
    "            \n",
    "df_dicts = tmp"
   ]
  },
  {
   "cell_type": "code",
   "execution_count": 21,
   "metadata": {
    "scrolled": false
   },
   "outputs": [],
   "source": [
    "# при усреднении Mr.Py ставит запятые в дробях, так что опять меняем зпт на тчк\n",
    "# бесполезный шаг, ведь дальше все равно будет куча запятых...\n",
    "tmpdict = []\n",
    "for name, df_l in df_dicts:\n",
    "    for sheet in sheet_important:\n",
    "        if sheet in df_l:\n",
    "            for col in df_l[sheet].columns:\n",
    "                df_l[sheet][col] = df_l[sheet][col].apply(lambda x: str(x).replace(',', '.'))\n",
    "    tmpdict.append([name, df_l])  \n",
    "df_dicts = tmpdict"
   ]
  },
  {
   "cell_type": "code",
   "execution_count": 22,
   "metadata": {
    "scrolled": true
   },
   "outputs": [],
   "source": [
    "# удаление пустого столбца\n",
    "for name, df_l in df_dicts:\n",
    "    for sheet in sheet_important:\n",
    "        if sheet in df_l:\n",
    "            if 'Unnamed: 10' in  df_l[sheet].columns:\n",
    "                df_l[sheet] = df_l[sheet].drop(['Unnamed: 10'], axis=1)\n",
    "\n",
    "\n",
    "# удаление нулевых столбцов\n",
    "for name, df_l in df_dicts:\n",
    "    for sheet in sheet_important:\n",
    "        if sheet in df_l:\n",
    "            for col in df_l[sheet].columns:\n",
    "                if df_l[sheet][col].max() == '0':\n",
    "                    df_l[sheet] = df_l[sheet].drop([col], axis = 1)"
   ]
  },
  {
   "cell_type": "code",
   "execution_count": 28,
   "metadata": {},
   "outputs": [
    {
     "data": {
      "text/plain": [
       "['Хим.анализ плавок',\n",
       " 'Химический состав.',\n",
       " 'Ударная вязкость (21 (ДЖ).',\n",
       " 'Ударная вязкость (10 (ДЖ).',\n",
       " 'Ударная вязкость (0) (ДЖ).',\n",
       " 'Ударная вязкость (-6 (КГС М С).',\n",
       " 'Ударная вязкость (-6 (ДЖ).',\n",
       " 'Ударная вязкость (-5 (КГС М С).',\n",
       " 'Ударная вязкость (-5 (ДЖ).',\n",
       " 'Ударная вязкость (-2 (ДЖ).',\n",
       " 'Уд.вязк.(-60) Шарпи(ДЖ).',\n",
       " 'Твердость по Роквеллу HRС.',\n",
       " 'Твердость по Роквеллу HRB.',\n",
       " 'Твердость по Роквеллу API(С90).',\n",
       " 'Твердость по Роквеллу API HRC.',\n",
       " 'Твердость по Роквеллу API HRB.',\n",
       " 'Твердость по Роквеллу API.',\n",
       " 'Сплющивание.',\n",
       " 'Растяжение, н мм2.',\n",
       " 'Растяжение, кгс мм2.',\n",
       " 'Прокаливаемость HRC.',\n",
       " 'Неметал. включения.',\n",
       " 'Микроструктура.',\n",
       " 'Макроструктура (трубы).',\n",
       " 'Доля вязк. составл.(0).',\n",
       " 'Доля вязк. составл.(-50).',\n",
       " 'Доля вязк. составл.(-20).',\n",
       " 'Величина зерна.',\n",
       " 'Заявки на испытания']"
      ]
     },
     "execution_count": 28,
     "metadata": {},
     "output_type": "execute_result"
    }
   ],
   "source": [
    "sheetname_list_valid = []\n",
    "for d in df_dicts[26][1]:\n",
    "    sheetname_list_valid.append(d)\n",
    "    \n",
    "sheetname_list_valid = sheetname_list_valid[:29]\n",
    "sheetname_list_valid"
   ]
  },
  {
   "cell_type": "code",
   "execution_count": 29,
   "metadata": {},
   "outputs": [],
   "source": [
    "# объединение таблиц с испытаниями\n",
    "def union_mode_table_valid(union_list, df_dicts, file_name):\n",
    "    if union_list[0] in sheetname_list_valid:\n",
    "        table_union = df_dicts[1][union_list[0]]\n",
    "    else:\n",
    "        table_union = []\n",
    "        print('0')\n",
    "        return table_union\n",
    "    for series_name in union_list:\n",
    "        if series_name in sheetname_list_valid:\n",
    "            table_union = pd.merge(table_union, df_dicts[1][series_name], how = 'outer')\n",
    "    table_union[u'№ плавки'] = table_union[u'№ плавки'].astype(str)\n",
    "    print(table_union.shape, file_name)\n",
    "    return table_union"
   ]
  },
  {
   "cell_type": "code",
   "execution_count": 30,
   "metadata": {},
   "outputs": [],
   "source": [
    "# объединение таблиц с испытаниями\n",
    "def union_mode_table(union_list, df_dicts, file_name):\n",
    "    table_union = df_dicts[0][1][union_list[0]]\n",
    "    for name, df_l in df_dicts:\n",
    "        for series_name in union_list:\n",
    "            if series_name in df_l:\n",
    "                table_union = pd.merge(table_union, df_l[series_name], how = 'outer')\n",
    "    table_union[u'№ плавки'] = table_union[u'№ плавки'].astype(str)\n",
    "    print(table_union.shape, file_name)\n",
    "    return table_union"
   ]
  },
  {
   "cell_type": "code",
   "execution_count": 93,
   "metadata": {},
   "outputs": [],
   "source": [
    "# сохранение объединенных таблиц\n",
    "def save_union(table_union, file_name):\n",
    "    table_union.to_excel('DATA/source/exp/prepared/'+file_name+'.xlsx')"
   ]
  },
  {
   "cell_type": "code",
   "execution_count": 36,
   "metadata": {
    "scrolled": false
   },
   "outputs": [
    {
     "name": "stdout",
     "output_type": "stream",
     "text": [
      "(5404, 15) table_hardness_hrb\n",
      "(2109, 11) table_hardness_hrc\n",
      "(6802, 13) table_hardness_api\n",
      "(15650, 11) table_flattening\n",
      "(28041, 17) table_nonmetall\n",
      "(1381, 11) table_macrostructure\n",
      "(10192, 13) table_microstructure\n",
      "(2058, 11) table_proportion_viscous_60\n",
      "(29553, 12) table_proportion_viscous_50\n",
      "(10089, 11) table_proportion_viscous_20\n",
      "(624, 11) table_proportion_viscous_0\n",
      "(1440, 13) table_hardness_hb\n",
      "(10822, 11) table_grain_size\n",
      "(758, 13) table_hardenability\n",
      "(1164, 13) table_resiliency_20\n",
      "(1359, 14) table_resiliency_40\n",
      "(34313, 55) table_stretching\n",
      "(3921, 14) table_resiliency_60\n"
     ]
    }
   ],
   "source": [
    "# таблица с растяжениями\n",
    "stretching_union_list = [\n",
    "    'Растяжение, кгс мм2.',\n",
    "    'Растяжение, н мм2.',\n",
    "    'Растяжение, н мм2 , Ksi.',\n",
    "]\n",
    "\n",
    "# таблица с Уд.вязк.(-60) Шарпи(КГС М С)\n",
    "resiliency_60_union_list = [\n",
    "    u'Уд.вязк.(-60) Шарпи(КГС М С).',\n",
    "    u'Уд.вязк.(-60) Шарпи(ДЖ).' \n",
    "]\n",
    "\n",
    "# таблица с  Уд.вязк.(-40) Менаже(КГС М С)\n",
    "resiliency_40_union_list =[\n",
    "    u'Уд.вязк.(-40) Менаже(КГС М С).',\n",
    "    u'Уд.вязк.(-40) Менаже(ДЖ).'\n",
    "]\n",
    "\n",
    "\n",
    "# таблица с Уд.вязк(-20) Шарпи.(КГС М С).\n",
    "resiliency_20_union_list = [\n",
    "    u'Уд.вязк(-20) Шарпи.(КГС М С).'   \n",
    "]\n",
    "\n",
    "# таблица с прокаливаемостью\n",
    "hardenability_union_list = [\n",
    "    u'Прокаливаемость HRC.',\n",
    "    u'Прокаливаемость для кл.N80 тип.'\n",
    "]\n",
    "\n",
    "\n",
    "# Величина зерна\n",
    "grain_size_union_list = [\n",
    "    u'Величина зерна.'\n",
    "]\n",
    "\n",
    "\n",
    "# таблица с твердостью по Бриннелю\n",
    "hardness_hb_union_list = [\n",
    "    u'Твердость по Бринеллю.',\n",
    "]\n",
    "\n",
    "# таблица с долей вязкой составляющей 0\n",
    "proportion_viscous_0_union_list = [\n",
    "    u'Доля вязк. составл.(0).'\n",
    "]\n",
    "\n",
    "# таблица с Доля вязк. составл.(-20)\n",
    "proportion_viscous_20_union_list = [\n",
    "    u'Доля вязк. составл.(-20).'\n",
    "]\n",
    "\n",
    "\n",
    "# таблица с Доля вязк. составл.(-50).\n",
    "proportion_viscous_50_union_list = [\n",
    "    u'Доля вязк. составл.(-50).'\n",
    "]\n",
    "\n",
    "\n",
    "# таблица с Доля вязк. составл.(-60)Шарпи.\n",
    "proportion_viscous_60_union_list = [\n",
    "    u'Доля вязк. составл.(-60)Шарпи.'\n",
    "]\n",
    "\n",
    "# таблица с u'Макроструктура (трубы).'\n",
    "macrostructure_union_list = [\n",
    "    u'Макроструктура (трубы).'\n",
    "]\n",
    "# таблица с микроструктурой\n",
    "microstructure_union_list = [\n",
    "    u'Микроструктура.'\n",
    "]\n",
    "\n",
    "# таблица с  u'Неметал. включения.',\n",
    "nonmetall_union_list = [\n",
    "     u'Неметал. включения.'\n",
    "]\n",
    "\n",
    "# таблица с u'Сплющивание.'\n",
    "flattening_union_list = [\n",
    "    u'Сплющивание.'\n",
    "]\n",
    "\n",
    "# таблица с u'Твердость по Роквеллу API.'\n",
    "hardness_api_union_list = [\n",
    "    u'Твердость по Роквеллу API.'\n",
    "]\n",
    "# таблица u'Твердость по Роквеллу HRС.'\n",
    "hardness_hrc_union_list = [\n",
    "    u'Твердость по Роквеллу HRС.'\n",
    "]\n",
    "# таблица с u'Твердость по Роквеллу HRB.',\n",
    "hardness_hrb_union_list = [\n",
    "    u'Твердость по Роквеллу HRB.'\n",
    "]\n",
    "\n",
    "\n",
    "table_hardness_hrb = union_mode_table(hardness_hrb_union_list, df_dicts, 'table_hardness_hrb')\n",
    "table_hardness_hrc = union_mode_table(hardness_hrc_union_list, df_dicts, 'table_hardness_hrc')\n",
    "table_hardness_api = union_mode_table(hardness_api_union_list, df_dicts, 'table_hardness_api')\n",
    "table_flattening = union_mode_table(flattening_union_list, df_dicts, 'table_flattening')\n",
    "table_nonmetall = union_mode_table(nonmetall_union_list, df_dicts, 'table_nonmetall')\n",
    "table_macrostructure = union_mode_table(macrostructure_union_list, df_dicts, 'table_macrostructure')\n",
    "table_microstructure = union_mode_table(microstructure_union_list, df_dicts, 'table_microstructure')\n",
    "table_proportion_viscous_60 = union_mode_table(proportion_viscous_60_union_list, df_dicts, 'table_proportion_viscous_60')\n",
    "table_proportion_viscous_50 = union_mode_table(proportion_viscous_50_union_list, df_dicts, 'table_proportion_viscous_50')\n",
    "table_proportion_viscous_20 = union_mode_table(proportion_viscous_20_union_list, df_dicts, 'table_proportion_viscous_20')\n",
    "table_proportion_viscous_0 = union_mode_table(proportion_viscous_0_union_list, df_dicts, 'table_proportion_viscous_0')\n",
    "table_hardness_hb = union_mode_table(hardness_hb_union_list, df_dicts, 'table_hardness_hb')\n",
    "table_grain_size = union_mode_table(grain_size_union_list, df_dicts, 'table_grain_size')    \n",
    "table_hardenability = union_mode_table(hardenability_union_list, df_dicts, 'table_hardenability')\n",
    "table_resiliency_20 = union_mode_table(resiliency_20_union_list, df_dicts, 'table_resiliency_20')\n",
    "table_resiliency_40 = union_mode_table(resiliency_40_union_list, df_dicts, 'table_resiliency_40')\n",
    "table_stretching = union_mode_table(stretching_union_list, df_dicts, 'table_stretching')\n",
    "table_resiliency_60 = union_mode_table(resiliency_60_union_list, df_dicts, 'table_resiliency_60')"
   ]
  },
  {
   "cell_type": "code",
   "execution_count": 37,
   "metadata": {
    "scrolled": true
   },
   "outputs": [],
   "source": [
    "# Отделение последнего Файла на валидацию, ныне буссмысленно - разделение происходит при последней чистке перед моделью  \n",
    "\n",
    "# table_hardness_hrb_valid = union_mode_table_valid(hardness_hrb_union_list, df_dicts[26], 'table_hardness_hrb_valid')\n",
    "# table_hardness_hrc_valid = union_mode_table_valid(hardness_hrc_union_list, df_dicts[26], 'table_hardness_hrc_valid')\n",
    "# table_hardness_api_valid = union_mode_table_valid(hardness_api_union_list, df_dicts[26], 'table_hardness_api_valid')\n",
    "# table_flattening_valid = union_mode_table_valid(flattening_union_list, df_dicts[26], 'table_flattening_valid')\n",
    "# table_nonmetall_valid = union_mode_table_valid(nonmetall_union_list, df_dicts[26], 'table_nonmetall_valid')\n",
    "# table_macrostructure_valid = union_mode_table_valid(macrostructure_union_list, df_dicts[26], 'table_macrostructure_valid')\n",
    "# table_microstructure_valid = union_mode_table_valid(microstructure_union_list, df_dicts[26], 'table_microstructure_valid')\n",
    "# table_proportion_viscous_60_valid = union_mode_table_valid(proportion_viscous_60_union_list, df_dicts[26], 'table_proportion_viscous_60_valid')\n",
    "# table_proportion_viscous_50_valid = union_mode_table_valid(proportion_viscous_50_union_list, df_dicts[26], 'table_proportion_viscous_50_valid')\n",
    "# table_proportion_viscous_20_valid = union_mode_table_valid(proportion_viscous_20_union_list, df_dicts[26], 'table_proportion_viscous_20_valid')\n",
    "# table_proportion_viscous_0_valid = union_mode_table_valid(proportion_viscous_0_union_list, df_dicts[26], 'table_proportion_viscous_0_valid')\n",
    "# table_hardness_hb_valid = union_mode_table_valid(hardness_hb_union_list, df_dicts[26], 'table_hardness_hb_valid')\n",
    "# table_grain_size_valid = union_mode_table_valid(grain_size_union_list, df_dicts[26], 'table_grain_size_valid')    \n",
    "# table_hardenability_valid = union_mode_table_valid(hardenability_union_list, df_dicts[26], 'table_hardenability_valid')\n",
    "# table_resiliency_20_valid = union_mode_table_valid(resiliency_20_union_list, df_dicts[26], 'table_resiliency_20_valid')\n",
    "# table_resiliency_40_valid = union_mode_table_valid(resiliency_40_union_list, df_dicts[26], 'table_resiliency_40_valid')\n",
    "# table_stretching_valid = union_mode_table_valid(stretching_union_list, df_dicts[26], 'table_stretching_valid')\n",
    "# table_resiliency_60_valid = union_mode_table_valid(resiliency_60_union_list, df_dicts[26], 'table_resiliency_60_valid')"
   ]
  },
  {
   "cell_type": "code",
   "execution_count": 38,
   "metadata": {},
   "outputs": [],
   "source": [
    "# список всех объединенных таблиц\n",
    "ls_table_ = [\n",
    "    table_hardness_hrb,\n",
    "    table_hardness_hrc,\n",
    "    table_hardness_api,\n",
    "    table_flattening,\n",
    "    table_nonmetall,\n",
    "    table_macrostructure,\n",
    "    table_microstructure,\n",
    "    table_proportion_viscous_60,\n",
    "    table_proportion_viscous_50,\n",
    "    table_proportion_viscous_20,\n",
    "    table_proportion_viscous_0,\n",
    "    table_hardness_hb,\n",
    "    table_grain_size,\n",
    "    table_hardenability,\n",
    "    table_resiliency_20,\n",
    "    table_resiliency_40,\n",
    "    table_stretching,\n",
    "    table_resiliency_60\n",
    "]\n",
    "\n",
    "# список имен объединенных таблиц\n",
    "ls_filename = [\n",
    "    'table_hardness_hrb',\n",
    "    'table_hardness_hrc',\n",
    "    'table_hardness_api',\n",
    "    'table_flattening',\n",
    "    'table_nonmetall',\n",
    "    'table_macrostructure',\n",
    "    'table_microstructure',\n",
    "    'table_proportion_viscous_60',\n",
    "    'table_proportion_viscous_50',\n",
    "    'table_proportion_viscous_20',\n",
    "    'table_proportion_viscous_0',\n",
    "    'table_hardness_hb',\n",
    "    'table_grain_size',\n",
    "    'table_hardenability',\n",
    "    'table_resiliency_20',\n",
    "    'table_resiliency_40',\n",
    "    'table_stretching',\n",
    "    'table_resiliency_60'\n",
    "]\n",
    "\n",
    "# ls_table_valid = [\n",
    "#     table_hardness_hrb_valid,\n",
    "#     table_hardness_hrc_valid,\n",
    "#     table_hardness_api_valid,\n",
    "#     table_flattening_valid,\n",
    "#     table_nonmetall_valid,\n",
    "#     table_microstructure_valid,\n",
    "#     table_proportion_viscous_60_valid,\n",
    "#     table_proportion_viscous_50_valid,\n",
    "#     table_proportion_viscous_20_valid,\n",
    "#     table_proportion_viscous_0_valid,\n",
    "#     table_grain_size_valid,\n",
    "#     table_hardenability_valid,\n",
    "#     table_resiliency_20_valid,\n",
    "#     table_resiliency_40_valid,\n",
    "#     table_stretching_valid\n",
    "# ]\n",
    "\n",
    "# # список имен объединенных таблиц\n",
    "# ls_filename_valid = [\n",
    "#     'table_hardness_hrb_valid',\n",
    "#     'table_hardness_hrc_valid',\n",
    "#     'table_hardness_api_valid',\n",
    "#     'table_flattening_valid',\n",
    "#     'table_nonmetall_valid',\n",
    "#     'table_microstructure_valid',\n",
    "#     'table_proportion_viscous_60_valid',\n",
    "#     'table_proportion_viscous_50_valid',\n",
    "#     'table_proportion_viscous_20_valid',\n",
    "#     'table_proportion_viscous_0_valid',\n",
    "#     'table_grain_size_valid',\n",
    "#     'table_hardenability_valid',\n",
    "#     'table_resiliency_20_valid',\n",
    "#     'table_resiliency_40_valid',\n",
    "#     'table_stretching_valid'\n",
    "# ]"
   ]
  },
  {
   "cell_type": "code",
   "execution_count": null,
   "metadata": {
    "collapsed": true,
    "scrolled": false
   },
   "outputs": [],
   "source": [
    "# # сохранить объединенные таблицы с дубликатами\n",
    "# for i in range(0, len(ls_table_testing)):\n",
    "#     save_union(ls_table_testing[i], 'with duplicates/'+ls_filename[i])\n",
    "#     print(ls_filename[i])"
   ]
  },
  {
   "cell_type": "code",
   "execution_count": 40,
   "metadata": {
    "scrolled": false
   },
   "outputs": [],
   "source": [
    "# ради одной строчки в table_proportion_viscous_60 (берем наименьшее значение 17.7, а не 100)\n",
    "# ls_table_[7] = get_mean_last(ls_table_[7], col_for_mean)"
   ]
  },
  {
   "cell_type": "code",
   "execution_count": 41,
   "metadata": {
    "scrolled": true
   },
   "outputs": [],
   "source": [
    "# приведение всех партии к нижнему регистру(для присоединения с режимами и химией)\n",
    "def low(ls):\n",
    "    tmp = []\n",
    "    for df_l in ls:\n",
    "        if '№ партии' in df_l:\n",
    "            df_l['№ партии'] = df_l['№ партии'].astype(str).str.lower()\n",
    "            tmp.append(df_l)    \n",
    "        print(df_l.shape[0])\n",
    "    return tmp"
   ]
  },
  {
   "cell_type": "code",
   "execution_count": 44,
   "metadata": {},
   "outputs": [
    {
     "name": "stdout",
     "output_type": "stream",
     "text": [
      "5404\n",
      "2109\n",
      "6802\n",
      "15650\n",
      "28041\n",
      "1381\n",
      "10192\n",
      "2058\n",
      "29553\n",
      "10089\n",
      "624\n",
      "1440\n",
      "10822\n",
      "758\n",
      "1164\n",
      "1359\n",
      "34313\n",
      "3921\n"
     ]
    }
   ],
   "source": [
    "ls_table_ = low(ls_table_)\n",
    "# print('\\ntables for validation:')\n",
    "# ls_table_valid = low(ls_table_valid)"
   ]
  },
  {
   "cell_type": "code",
   "execution_count": 80,
   "metadata": {},
   "outputs": [],
   "source": [
    "# среднее значение для вкладок, где несколько испытаний на 1 партию\n",
    "def get_mean(df_sheet, ls_col):\n",
    "    if '№ патрубка' in df_sheet:\n",
    "        df_sheet = df_sheet.drop(['№ патрубка'], axis=1)\n",
    "    if 'Тип предела текучести (1186)' in df_sheet:\n",
    "        print('Hello, stretching')\n",
    "        for col in ls_col:\n",
    "            if col in df_sheet:\n",
    "                df_sheet[col] = df_sheet[col].astype(float)\n",
    "                df_sheet = df_sheet.groupby(['Тип предела текучести (1186)','№ плавки', '№ партии', 'Гр. прочн.'])[col].mean()\n",
    "    else:\n",
    "        for col in ls_col:\n",
    "            if col in df_sheet:\n",
    "                try:\n",
    "                    df_sheet[col] = df_sheet[col].astype(float)\n",
    "                    df_sheet = df_sheet.groupby(['№ плавки', '№ партии', 'Гр. прочн.'])[col].mean()\n",
    "                except:\n",
    "                    print(col, ' do not averaged')\n",
    "    df_sheet =  pd.DataFrame(df_sheet)\n",
    "    df_sheet = df_sheet.reset_index()\n",
    "    return df_sheet"
   ]
  },
  {
   "cell_type": "code",
   "execution_count": 10,
   "metadata": {
    "collapsed": true
   },
   "outputs": [],
   "source": [
    "# # среднее значение для вкладок, где несколько испытаний на 1 партию, но берем последнюю строчку(наименьшее знач)\n",
    "# def get_mean_last(df_sheet, ls_col):\n",
    "#     if '№ патрубка' in df_sheet:\n",
    "#         df_sheet = df_sheet.drop(['№ патрубка'], axis=1)\n",
    "#     df_sheet = df_sheet.groupby(['№ плавки', '№ партии']).last()\n",
    "#     for col in ls_col:\n",
    "#         if col in df_sheet:\n",
    "#             try:\n",
    "#                 df_sheet[col] = df_sheet.groupby(['№ плавки', '№ партии'])[col].transform(lambda x: x.mean())\n",
    "#             except:\n",
    "#                 pass\n",
    "#     df_sheet = df_sheet.reset_index()\n",
    "#     return df_sheet"
   ]
  },
  {
   "cell_type": "code",
   "execution_count": 13,
   "metadata": {},
   "outputs": [],
   "source": [
    "# # среднее значение для вкладок растяжений\n",
    "# def get_mean_stretch(df_sheet, ls_col):\n",
    "#     if '№ патрубка' in df_sheet:\n",
    "#         df_sheet = df_sheet.drop([u'№ патрубка'], axis=1)\n",
    "#     if 'Тип предела текучести (1186)' in df_sheet:\n",
    "# #         df_sheet = df_sheet.groupby(['Тип предела текучести (1186)', '№ плавки', '№ партии']).mean()\n",
    "#         for col in ls_col:\n",
    "#             if col in df_sheet:\n",
    "#                 df_sheet = df_sheet.groupby(['Тип предела текучести (1186)','№ плавки', '№ партии'])[col].transform(lambda x: x.mean())\n",
    "#         df_sheet = df_sheet.reset_index()\n",
    "#     return df_sheet"
   ]
  },
  {
   "cell_type": "code",
   "execution_count": 55,
   "metadata": {
    "scrolled": true
   },
   "outputs": [],
   "source": [
    "# усреднение объединенных таблиц\n",
    "def mean_exp(ls_table):\n",
    "    tmp = []\n",
    "    for df_l in ls_table:\n",
    "        df_l = get_mean(df_l, col_for_mean)\n",
    "        tmp.append(df_l)    \n",
    "        print(df_l.shape[0])\n",
    "    return tmp"
   ]
  },
  {
   "cell_type": "code",
   "execution_count": 81,
   "metadata": {
    "scrolled": false
   },
   "outputs": [
    {
     "name": "stdout",
     "output_type": "stream",
     "text": [
      "2614\n",
      "924\n",
      "3161\n",
      "Сплющивание (1119)  do not averaged\n",
      "15650\n",
      "4879\n",
      "Макроструктура (4030)  do not averaged\n",
      "1381\n",
      "5136\n",
      "464\n",
      "4829\n",
      "3173\n",
      "181\n",
      "709\n",
      "5444\n",
      "644\n",
      "198\n",
      "232\n",
      "Hello, stretching\n",
      "0\n",
      "759\n"
     ]
    }
   ],
   "source": [
    "ls_table_ = mean_exp(ls_table_)\n",
    "# print('\\ntables for validation:')\n",
    "# ls_table_valid = mean_exp(ls_table_valid)"
   ]
  },
  {
   "cell_type": "code",
   "execution_count": 82,
   "metadata": {},
   "outputs": [
    {
     "name": "stdout",
     "output_type": "stream",
     "text": [
      "Врем. сопротивление (1140)\n",
      "Врем. сопротивление (1042)\n",
      "Врем. сопротивление,  Н/мм2 или МПа\n",
      "Врем. сопротивление , кгс/мм2\n",
      "Врем. сопротивление, кгс/мм2\n",
      "Предел текучести (1141)\n",
      "Предел текучести (1027)\n",
      "Предел текучести, Н/мм2 или МПа\n",
      "Предел текучести , кгс/мм2\n",
      "Предел текучести, кгс/мм2\n"
     ]
    }
   ],
   "source": [
    "col_fluidity = [\n",
    "    'Врем. сопротивление (1140)',\n",
    "    'Врем. сопротивление (1042)',\n",
    "    'Врем. сопротивление,  Н/мм2 или МПа',\n",
    "    'Врем. сопротивление , кгс/мм2',\n",
    "    'Врем. сопротивление, кгс/мм2',\n",
    "    'Предел текучести (1141)',\n",
    "    'Предел текучести (1027)',\n",
    "    'Предел текучести, Н/мм2 или МПа',\n",
    "    'Предел текучести , кгс/мм2',\n",
    "    'Предел текучести, кгс/мм2'\n",
    "]\n",
    "\n",
    "for col in col_fluidity:\n",
    "#     if col in table_stretching_valid:\n",
    "#         table_stretching_valid[col] = table_stretching_valid[col].apply(lambda x: str(x))\n",
    "#     else:\n",
    "    print(col)\n",
    "    table_stretching[col] = table_stretching[col].apply(lambda x: str(x))"
   ]
  },
  {
   "cell_type": "code",
   "execution_count": null,
   "metadata": {
    "collapsed": true
   },
   "outputs": [],
   "source": [
    "\"\"\"На всякий случай оставляю, если я где-нибудь накосячила..... \"\"\"\n",
    "\n",
    "#             elif ('Врем. сопротивление (1142)' in table):\n",
    "#                 if (table['Врем. сопротивление (1042)'][x] != 'nan'):\n",
    "#                     tmp.append(table['Врем. сопротивление (1042)'][x])\n",
    "#                 elif ('Врем. сопротивление,  Н/мм2 или МПа' in table):\n",
    "#                     if (table['Врем. сопротивление,  Н/мм2 или МПа'][x] != 'nan'):\n",
    "#                         tmp.append(table['Врем. сопротивление,  Н/мм2 или МПа'][x])\n",
    "#                     elif ('Врем. сопротивление , кгс/мм2' in table):\n",
    "#                         if (table['Врем. сопротивление , кгс/мм2'][x] != 'nan'):\n",
    "#                             tmp.append(table['Врем. сопротивление , кгс/мм2'][x])\n",
    "#                         elif ('Врем. сопротивление, кгс/мм2' in table):\n",
    "#                             if (table['Врем. сопротивление, кгс/мм2'][x] != 'nan'):\n",
    "#                                 tmp.append(table['Врем. сопротивление, кгс/мм2'][x])\n",
    "#                             else:\n",
    "#                                 tmp.append('')\n",
    "\n",
    "\n",
    "\n",
    "#     for x in range(0, table.shape[0]):\n",
    "#         if 'Предел текучести (1141)' in table:\n",
    "#             if (table['Предел текучести (1141)'][x] != 'nan'):\n",
    "#                 tmp.append(table['Предел текучести (1141)'][x])\n",
    "#             else:\n",
    "#                 if 'Предел текучести (1027)' in table:\n",
    "#                     if (table['Предел текучести (1027)'][x] != 'nan'):\n",
    "#                         tmp.append(table['Предел текучести (1027)'][x])\n",
    "#                     else:\n",
    "#                         if 'Предел текучести, Н/мм2 или МПа' in table:\n",
    "#                             if (table['Предел текучести, Н/мм2 или МПа'][x] != 'nan'):\n",
    "#                                 tmp.append(table['Предел текучести, Н/мм2 или МПа'][x])\n",
    "#                             else:\n",
    "#                                 if 'Предел текучести, Н/мм2 или МПа' in table:\n",
    "#                                     if (table['Предел текучести, Н/мм2 или МПа'][x] != 'nan'):\n",
    "#                                         tmp.append(table['Предел текучести, Н/мм2 или МПа'][x])\n",
    "#                                     else:\n",
    "#                                         if 'Предел текучести, кгс/мм2' in table:\n",
    "#                                             if (table['Предел текучести, кгс/мм2'][x] != 'nan'):\n",
    "#                                                 tmp.append(table['Предел текучести, кгс/мм2'][x])\n",
    "#                                             else:\n",
    "#                                                 tmp.append('')\n",
    " "
   ]
  },
  {
   "cell_type": "code",
   "execution_count": 83,
   "metadata": {
    "scrolled": true
   },
   "outputs": [],
   "source": [
    "# Схлопываем несколько столбцов с текучестью и прочность в один для каждого\n",
    "list_tr_col_names = [\n",
    "    'Врем. сопротивление',\n",
    "    'Врем. сопротивление (1140)',\n",
    "    'Врем. сопротивление (1042)',\n",
    "    'Врем. сопротивление,  Н/мм2 или МПа',\n",
    "    'Врем. сопротивление , кгс/мм2',\n",
    "    'Врем. сопротивление, кгс/мм2'\n",
    "]\n",
    "\n",
    "list_ys_col_names = [\n",
    "    'Предел текучести',\n",
    "    'Предел текучести (1141)',\n",
    "    'Предел текучести (1027)',\n",
    "    'Предел текучести, Н/мм2 или МПа',\n",
    "    'Предел текучести , кгс/мм2',\n",
    "    'Предел текучести, кгс/мм2'\n",
    "]\n",
    "\n",
    "\n",
    "def merge_col(table, list_col_names):\n",
    "    \"\"\"Схлопывание колонок.\n",
    "\n",
    "    Keyword arguments:\n",
    "    table -- датафрейм в котором будем сливать столбцы\n",
    "    list_col_names -- список названий колонок \n",
    "        (первым в списке должно идти имя столбца в который будет записан конечный результат)\n",
    "\n",
    "    Возвращает преобразованный датафрейм с добавленым столбцом\n",
    "    \"\"\"\n",
    "    tmp = []\n",
    "    for x in range(0, table.shape[0]):\n",
    "        fl = True\n",
    "        for col_name in list_col_names[1:]:\n",
    "            if fl & (col_name in table):\n",
    "                if (table[col_name][x] != 'nan'):\n",
    "                    tmp.append(table[col_name][x])\n",
    "                    fl = False\n",
    "        if fl:\n",
    "            tmp.append('')\n",
    "            \n",
    "    print(len(tmp), table.shape )\n",
    "    table[list_col_names[0]] = tmp\n",
    "    return table\n",
    "    \n",
    "    \n",
    "def col_merge(table):\n",
    "    \"\"\"Сливает столбцы текучести в один, сливает столбцы прочности в один\"\"\"\n",
    "    table = merge_col(table, list_tr_col_names)\n",
    "    table = merge_col(table, list_ys_col_names)\n",
    "    return table"
   ]
  },
  {
   "cell_type": "code",
   "execution_count": 84,
   "metadata": {},
   "outputs": [
    {
     "data": {
      "text/plain": [
       "(34313, 55)"
      ]
     },
     "execution_count": 84,
     "metadata": {},
     "output_type": "execute_result"
    }
   ],
   "source": [
    "table_stretching.shape"
   ]
  },
  {
   "cell_type": "code",
   "execution_count": 86,
   "metadata": {
    "scrolled": true
   },
   "outputs": [
    {
     "name": "stdout",
     "output_type": "stream",
     "text": [
      "34313 (34313, 57)\n",
      "34313 (34313, 57)\n"
     ]
    }
   ],
   "source": [
    "table_stretching = col_merge(table_stretching)\n",
    "# table_stretching_valid = col_merge(table_stretching_valid)"
   ]
  },
  {
   "cell_type": "code",
   "execution_count": 87,
   "metadata": {},
   "outputs": [],
   "source": [
    "table_stretching = table_stretching[table_stretching['Предел текучести'] != '']\n",
    "table_stretching = table_stretching[table_stretching['Врем. сопротивление'] != '']\n",
    "# table_stretching_valid = table_stretching_valid[table_stretching_valid['Предел текучести'] != '']\n",
    "# table_stretching_valid = table_stretching_valid[table_stretching_valid['Врем. сопротивление'] != '']"
   ]
  },
  {
   "cell_type": "code",
   "execution_count": 89,
   "metadata": {},
   "outputs": [],
   "source": [
    "for x in table_stretching['Врем. сопротивление']:\n",
    "    try:\n",
    "        x = float(x)\n",
    "    except:\n",
    "        print(x)\n",
    "        \n",
    "for x in table_stretching['Предел текучести']:\n",
    "    try:\n",
    "        x = float(x)\n",
    "    except:\n",
    "        print(x)\n",
    "table_stretching['Предел текучести'] = table_stretching['Предел текучести'].apply(lambda x: float(x))\n",
    "table_stretching['Врем. сопротивление'] = table_stretching['Врем. сопротивление'].apply(lambda x: float(x))\n",
    "# table_stretching_valid['Предел текучести'] = table_stretching_valid['Предел текучести'].apply(lambda x: float(x))\n",
    "# table_stretching_valid['Врем. сопротивление'] = table_stretching_valid['Врем. сопротивление'].apply(lambda x: float(x))"
   ]
  },
  {
   "cell_type": "code",
   "execution_count": 90,
   "metadata": {},
   "outputs": [],
   "source": [
    "table_stretching['Предел текучести'] = table_stretching['Предел текучести'].apply(lambda x: x/9.80665\n",
    "                                                                   if (x > 200)\n",
    "                                                                   else x)\n",
    "table_stretching['Врем. сопротивление'] = table_stretching['Врем. сопротивление'].apply(lambda x: x/9.80665\n",
    "                                                                   if (x > 200)\n",
    "                                                                   else x)\n",
    "# table_stretching_valid['Предел текучести'] = table_stretching_valid['Предел текучести'].apply(lambda x: x/9.80665\n",
    "#                                                                    if (x > 200)\n",
    "#                                                                    else x)\n",
    "# table_stretching_valid['Врем. сопротивление'] = table_stretching_valid['Врем. сопротивление'].apply(lambda x: x/9.80665\n",
    "#                                                                    if (x > 200)\n",
    "#                                                                    else x)"
   ]
  },
  {
   "cell_type": "code",
   "execution_count": 91,
   "metadata": {},
   "outputs": [],
   "source": [
    "ls_table_ = [\n",
    "    table_hardness_hrb,\n",
    "    table_hardness_hrc,\n",
    "    table_hardness_api,\n",
    "    table_flattening,\n",
    "    table_nonmetall,\n",
    "    table_macrostructure,\n",
    "    table_microstructure,\n",
    "    table_proportion_viscous_60,\n",
    "    table_proportion_viscous_50,\n",
    "    table_proportion_viscous_20,\n",
    "    table_proportion_viscous_0,\n",
    "    table_hardness_hb,\n",
    "    table_grain_size,\n",
    "    table_hardenability,\n",
    "    table_resiliency_20,\n",
    "    table_resiliency_40,\n",
    "    table_stretching,\n",
    "    table_resiliency_60\n",
    "]\n",
    "\n",
    "# ls_table_valid = [\n",
    "#     table_hardness_hrb_valid,\n",
    "#     table_hardness_hrc_valid,\n",
    "#     table_hardness_api_valid,\n",
    "#     table_flattening_valid,\n",
    "#     table_nonmetall_valid,\n",
    "#     table_microstructure_valid,\n",
    "#     table_proportion_viscous_60_valid,\n",
    "#     table_proportion_viscous_50_valid,\n",
    "#     table_proportion_viscous_20_valid,\n",
    "#     table_proportion_viscous_0_valid,\n",
    "#     table_grain_size_valid,\n",
    "#     table_hardenability_valid,\n",
    "#     table_resiliency_20_valid,\n",
    "#     table_resiliency_40_valid,\n",
    "#     table_stretching_valid\n",
    "# ]"
   ]
  },
  {
   "cell_type": "code",
   "execution_count": 94,
   "metadata": {
    "scrolled": false
   },
   "outputs": [
    {
     "name": "stdout",
     "output_type": "stream",
     "text": [
      "table_hardness_hrb\n",
      "table_hardness_hrc\n",
      "table_hardness_api\n",
      "table_flattening\n",
      "table_nonmetall\n",
      "table_macrostructure\n",
      "table_microstructure\n",
      "table_proportion_viscous_60\n",
      "table_proportion_viscous_50\n",
      "table_proportion_viscous_20\n",
      "table_proportion_viscous_0\n",
      "table_hardness_hb\n",
      "table_grain_size\n",
      "table_hardenability\n",
      "table_resiliency_20\n",
      "table_resiliency_40\n",
      "table_stretching\n",
      "table_resiliency_60\n"
     ]
    }
   ],
   "source": [
    "# сохранение усредненных объединенных таблиц\n",
    "for i in range(0, len(ls_table_)):\n",
    "    save_union(ls_table_[i], ls_filename[i])\n",
    "    print(ls_filename[i])"
   ]
  },
  {
   "cell_type": "code",
   "execution_count": 95,
   "metadata": {},
   "outputs": [
    {
     "name": "stdout",
     "output_type": "stream",
     "text": [
      "(5404, 15)\n",
      "(2109, 11)\n",
      "(6802, 13)\n",
      "(15650, 11)\n",
      "(28041, 17)\n",
      "(1381, 11)\n",
      "(10192, 13)\n",
      "(2058, 11)\n",
      "(29553, 12)\n",
      "(10089, 11)\n",
      "(624, 11)\n",
      "(1440, 13)\n",
      "(10822, 11)\n",
      "(758, 13)\n",
      "(1164, 13)\n",
      "(1359, 14)\n",
      "(34187, 57)\n",
      "(3921, 14)\n"
     ]
    }
   ],
   "source": [
    "for table in ls_table_:\n",
    "    print(table.shape)"
   ]
  },
  {
   "cell_type": "code",
   "execution_count": null,
   "metadata": {
    "collapsed": true,
    "scrolled": true
   },
   "outputs": [],
   "source": [
    "for i in range(0, len(ls_table_valid)):\n",
    "    save_union(ls_table_valid[i], ls_filename_valid[i])\n",
    "    print(ls_filename_valid[i])"
   ]
  },
  {
   "cell_type": "code",
   "execution_count": 96,
   "metadata": {},
   "outputs": [
    {
     "name": "stdout",
     "output_type": "stream",
     "text": [
      "count    34187.000000\n",
      "mean        66.051429\n",
      "std         12.683900\n",
      "min         25.500000\n",
      "25%         62.840012\n",
      "50%         67.199298\n",
      "75%         71.940979\n",
      "max        122.500000\n",
      "Name: Предел текучести, dtype: float64\n",
      "count    34187.000000\n",
      "mean        76.680958\n",
      "std         11.155676\n",
      "min         45.000000\n",
      "25%         73.572525\n",
      "50%         76.835617\n",
      "75%         82.000000\n",
      "max        130.000000\n",
      "Name: Врем. сопротивление, dtype: float64\n"
     ]
    }
   ],
   "source": [
    "print(table_stretching['Предел текучести'].describe())\n",
    "print(table_stretching['Врем. сопротивление'].describe())"
   ]
  },
  {
   "cell_type": "code",
   "execution_count": null,
   "metadata": {
    "collapsed": true,
    "scrolled": true
   },
   "outputs": [],
   "source": [
    "table_stretching.shape"
   ]
  },
  {
   "cell_type": "code",
   "execution_count": null,
   "metadata": {
    "collapsed": true,
    "scrolled": true
   },
   "outputs": [],
   "source": [
    "# df_sheet = []\n",
    "# k=-0\n",
    "unique_gr_pr = set()\n",
    "for name, df_l in df_dicts:\n",
    "    for key in df_l:\n",
    "        df_sheet = df_l[key]\n",
    "        try:\n",
    "            for i in df_sheet[u'Гр. прочн.'].values:\n",
    "                if i==u'К50/1': i=u'К50-1'\n",
    "                if i==u'К52/1': i=u'К52-1'\n",
    "                if i==u'L80 Тип 1': i=u'L80 тип 1'\n",
    "                unique_gr_pr.add(i)\n",
    "        except:\n",
    "            continue\n",
    "unique_gr_pr = [x for x in unique_gr_pr if x==x]\n",
    "for i in list(unique_gr_pr):\n",
    "    print( i)\n",
    "# print k"
   ]
  },
  {
   "cell_type": "code",
   "execution_count": null,
   "metadata": {
    "collapsed": true
   },
   "outputs": [],
   "source": []
  }
 ],
 "metadata": {
  "kernelspec": {
   "display_name": "Python 3",
   "language": "python",
   "name": "python3"
  },
  "language_info": {
   "codemirror_mode": {
    "name": "ipython",
    "version": 3
   },
   "file_extension": ".py",
   "mimetype": "text/x-python",
   "name": "python",
   "nbconvert_exporter": "python",
   "pygments_lexer": "ipython3",
   "version": "3.6.5"
  }
 },
 "nbformat": 4,
 "nbformat_minor": 2
}
