{
 "cells": [
  {
   "cell_type": "code",
   "execution_count": 1,
   "metadata": {
    "collapsed": true
   },
   "outputs": [],
   "source": [
    "import pandas as pd\n",
    "import numpy as np\n",
    "import warnings\n",
    "import re\n",
    "from collections import OrderedDict\n",
    "warnings.filterwarnings('default')"
   ]
  },
  {
   "cell_type": "code",
   "execution_count": 2,
   "metadata": {
    "collapsed": true
   },
   "outputs": [],
   "source": [
    "# подгрузка всех файлов\n",
    "import os\n",
    "dr = 'exp'\n",
    "file_names = os.listdir(dr)"
   ]
  },
  {
   "cell_type": "code",
   "execution_count": 3,
   "metadata": {
    "collapsed": true
   },
   "outputs": [],
   "source": [
    "file_names.remove('prepared')"
   ]
  },
  {
   "cell_type": "code",
   "execution_count": 4,
   "metadata": {
    "scrolled": true
   },
   "outputs": [
    {
     "name": "stdout",
     "output_type": "stream",
     "text": [
      "1квартал2017.xls\n",
      "2012 1 квартал (январь, февраль, март)испр.xls\n",
      "2012 2 квартал (апрель, май, июнь)испр..xls\n",
      "2012 3 квартал (июль, август, сентябрь)испр..xls\n",
      "2012 4 квартал (октябрь, ноябрь, декабрь)испр.xls\n",
      "2013 1 квартал (январь, февраль, март)испр.xls\n",
      "2013 2 квартал (апрель, май, июнь)испр..xls\n",
      "2013 3 квартал (июль, август, сентябрь)испр..xls\n",
      "2013 4 квартал (октябрь, ноябрь, декабрь)испр.xls\n",
      "2014 1 квартал (январь, февраль, март)испр.xls\n",
      "2014 2 квартал (апрель, май, июнь)испр.xls\n",
      "2014 3 квартал (июль, август, сентябрь)испр.xls\n",
      "2014 4 квартал (октябрь, ноябрь, декабрь)испр.xls\n",
      "2015 1 квартал (январь, февраль, март)испр.xls\n",
      "2015 2 квартал (апрель, май, июнь)испр.xls\n",
      "2015 3 квартал ( июль, август, сентябрь)испр.xls\n",
      "2015 4 квартал (октябрь, ноябрь, декабрь)испр.xls\n",
      "2016 1 квартал (январь,февраль,март)испр.xls\n",
      "2016 2 квартал (апрель, май, июнь)испр.xls\n",
      "2016 3 квартал (июль, август, сентябрь)испр.xls\n",
      "2016 4 квартал (октябрь, ноябрь, декабрь)испр.xls\n",
      "2квартал2017.xls\n",
      "2квартал2017_2.xlsx\n",
      "3 квартал 2017.xls\n",
      "4квартал2017.xlsx\n",
      "декабрь - задание и испытания.xlsx\n",
      "январь 2018 - с испытаниями.xlsx\n"
     ]
    }
   ],
   "source": [
    "# файлы в список\n",
    "df_dicts = []\n",
    "for name in file_names:\n",
    "    df_dicts.append([name, pd.read_excel(dr+'\\\\'+name, None)])\n",
    "    print(name)"
   ]
  },
  {
   "cell_type": "code",
   "execution_count": 5,
   "metadata": {},
   "outputs": [
    {
     "data": {
      "text/plain": [
       "27"
      ]
     },
     "execution_count": 5,
     "metadata": {},
     "output_type": "execute_result"
    }
   ],
   "source": [
    "# список всех таблиц из всех файлов\n",
    "sheetname_list = []\n",
    "for name, dict_ in df_dicts:    \n",
    "    tmp = dict_.keys()\n",
    "    tmp = list(tmp)\n",
    "    tmp = tmp[2:-3]\n",
    "    sheetname_list.append(tmp)\n",
    "len(sheetname_list)"
   ]
  },
  {
   "cell_type": "code",
   "execution_count": 6,
   "metadata": {
    "scrolled": true
   },
   "outputs": [
    {
     "name": "stdout",
     "output_type": "stream",
     "text": [
      "91\n"
     ]
    }
   ],
   "source": [
    "# dict_sheet_count - словарь всех вкладок(листов) из таблиц без дубликатов и их частоты\n",
    "# uniq_sheetname - множество всех вкладок(листов) из таблиц без дубликатов (не используется)\n",
    "\n",
    "dict_sheet_count = {}\n",
    "uniq_sheetname = set()\n",
    "for st in sheetname_list:\n",
    "    for ls in st:\n",
    "        uniq_sheetname.add(ls)\n",
    "\n",
    "\n",
    "uniq_sheetname = list(uniq_sheetname)\n",
    "uniq_sheetname.sort()\n",
    "print(len(uniq_sheetname))\n",
    "\n",
    "# добавление частот в словарь\n",
    "for st in sheetname_list:\n",
    "    for ls in st:\n",
    "        counts = dict_sheet_count.get(ls,0)\n",
    "        dict_sheet_count[ls] = counts + 1\n",
    "        \n",
    "        \n",
    "# df - для вывода словаря в excel            \n",
    "df = pd.DataFrame.from_dict(data = dict_sheet_count, orient='index')\n",
    "df.to_excel('dict_sheet_count.xlsx')"
   ]
  },
  {
   "cell_type": "code",
   "execution_count": 7,
   "metadata": {
    "collapsed": true
   },
   "outputs": [],
   "source": [
    "# переименование вкладок с одним смыслом в те, которые чаще появлялись\n",
    "\n",
    "def new_sheetname(ordDict, oldName, newName, fl=False):\n",
    "    tmp = OrderedDict((newName if k == oldName else k, v) for k, v in ordDict.items())\n",
    "    return tmp\n",
    "\n",
    "temp = []\n",
    "for name, df_l in df_dicts:\n",
    "    df_l = new_sheetname(df_l, u'Доля вязк. составл.(-20) Шарпи', u'Доля вязк. составл.КСV(-20).')\n",
    "    df_l = new_sheetname(df_l, u'Доля вязк. составл. КСV(-50).', u'Доля вязк. составл.КСV(-50).')\n",
    "    df_l = new_sheetname(df_l, u'Доля вязк. составл.(-50) Шарпи',u'Доля вязк. составл.КСV(-50).')\n",
    "    df_l = new_sheetname(df_l, u'Доля вязк. составл. КСV(-60)',u'Доля вязк. составл.(-60)Шарпи.')\n",
    "    df_l = new_sheetname(df_l, u'Доля вязк. составл.КСV(-60)',u'Доля вязк. составл.(-60)Шарпи.')\n",
    "    df_l = new_sheetname(df_l, u'Доля вязк. составл. на КV(0).',u'Доля вязк. составл.КV(0).')\n",
    "    df_l = new_sheetname(df_l, u'Доля вязк. составл.КСU(-60)',u'Доля вязк. составл.(-60)Менаже.')\n",
    "    df_l = new_sheetname(df_l, u'Доля вязк. составл.КV(-20).',u'Доля вязк. составл.КСV(-20).')\n",
    "    df_l = new_sheetname(df_l, u'Работа удара КV0 (ДЖ).',u'Работа удара КV(0) (ДЖ).')\n",
    "    df_l = new_sheetname(df_l, u'Твердость по Бринеллю НВ',u'Твердость по Бринеллю.')\n",
    "    df_l = new_sheetname(df_l, u'Твердость по Виккерсу HV.',u'Твердость по Виккерсу.')\n",
    "    df_l = new_sheetname(df_l, u'Твердость по Виккерсу НV',u'Твердость по Виккерсу.')\n",
    "    df_l = new_sheetname(df_l, u'Твердость по Роквеллу  HRB.',u'Твердость по Роквеллу HRB.')\n",
    "    df_l = new_sheetname(df_l, u'Твердость по Роквеллу НRС API.',u'Твердость по Роквеллу API HRC.')\n",
    "    temp.append([name, df_l])\n",
    "    \n",
    "df_dicts = temp     "
   ]
  },
  {
   "cell_type": "code",
   "execution_count": 8,
   "metadata": {
    "collapsed": true
   },
   "outputs": [],
   "source": [
    "# среднее значение для вкладок, где несколько испытаний на 1 партию\n",
    "def get_mean(df_sheet, ls_col):\n",
    "    if '№ патрубка' in df_sheet:\n",
    "        df_sheet = df_sheet.drop(['№ патрубка'], axis=1)\n",
    "    df_sheet = df_sheet.groupby(['№ плавки', '№ партии']).first()\n",
    "    for col in ls_col:\n",
    "        if col in df_sheet:\n",
    "            try:\n",
    "                df_sheet[col] = df_sheet.groupby(['№ плавки', '№ партии'])[col].transform(lambda x: x.mean())\n",
    "            except:\n",
    "                pass\n",
    "    df_sheet = df_sheet.reset_index()\n",
    "    return df_sheet"
   ]
  },
  {
   "cell_type": "code",
   "execution_count": 9,
   "metadata": {
    "collapsed": true
   },
   "outputs": [],
   "source": [
    "# среднее значение для вкладок, где несколько испытаний на 1 партию, но берем последнюю строчку(наименьшее знач)\n",
    "def get_mean_last(df_sheet, ls_col):\n",
    "    if '№ патрубка' in df_sheet:\n",
    "        df_sheet = df_sheet.drop(['№ патрубка'], axis=1)\n",
    "    df_sheet = df_sheet.groupby(['№ плавки', '№ партии']).last()\n",
    "    for col in ls_col:\n",
    "        if col in df_sheet:\n",
    "            try:\n",
    "                df_sheet[col] = df_sheet.groupby(['№ плавки', '№ партии'])[col].transform(lambda x: x.mean())\n",
    "            except:\n",
    "                pass\n",
    "    df_sheet = df_sheet.reset_index()\n",
    "    return df_sheet"
   ]
  },
  {
   "cell_type": "code",
   "execution_count": 10,
   "metadata": {
    "collapsed": true
   },
   "outputs": [],
   "source": [
    "# среднее значение для вкладок растяжений\n",
    "def get_mean_stretch(df_sheet, ls_col):\n",
    "    if '№ патрубка' in df_sheet:\n",
    "        df_sheet = df_sheet.drop([u'№ патрубка'], axis=1)\n",
    "    if 'Тип предела текучести (1186)' in df_sheet:\n",
    "        df_sheet = df_sheet.groupby(['Тип предела текучести (1186)', '№ партии']).first()\n",
    "        for col in ls_col:\n",
    "            if col in df_sheet:\n",
    "                df_sheet[col] = df_sheet.groupby(['Тип предела текучести (1186)', '№ партии'])[col].transform(lambda x: x.mean())\n",
    "        df_sheet = df_sheet.reset_index()\n",
    "    return df_sheet"
   ]
  },
  {
   "cell_type": "code",
   "execution_count": 11,
   "metadata": {
    "collapsed": true
   },
   "outputs": [],
   "source": [
    "# найти файл по вкладке и вывести размер вкладки\n",
    "def findfile(sheetname):\n",
    "    row = 0\n",
    "    col = 0\n",
    "    for name, df_l in df_dicts:\n",
    "        try:\n",
    "            col = df_l[sheetname].shape[1]\n",
    "            df_l[sheetname]\n",
    "            print(name)\n",
    "        except:\n",
    "            continue\n",
    "        try:\n",
    "            row += df_l[sheetname].shape[0] \n",
    "            if (abs(col - col)<1):\n",
    "                   continue\n",
    "            else:\n",
    "                col += abs(df_l[sheetname].shape[1] - col)\n",
    "        except:\n",
    "            continue\n",
    "    print('rows = %d, col = %d' %(row, col))\n"
   ]
  },
  {
   "cell_type": "code",
   "execution_count": 12,
   "metadata": {
    "collapsed": true
   },
   "outputs": [],
   "source": [
    "# перевод н, дж в кг\n",
    "ls_sheets_convert = [\n",
    "    u'Растяжение, н мм2 , Ksi.', \n",
    "    u'Растяжение, н мм2.',\n",
    "    u'Уд.вязк.(-60) Шарпи(ДЖ).',\n",
    "    u'Уд.вязк.(-40) Менаже(ДЖ).'\n",
    "    ]\n",
    "\n",
    "ls_columns_convert = [\n",
    "    u'Работа удара, Дж. (1173)',\n",
    "    u'Ударная вязкость, Дж/см2 (1174)',\n",
    "    u'Работа удара, Дж. (1123)',\n",
    "    u'Ударная вязкость, Дж/см2 (1125)'\n",
    "    ]\n",
    "\n",
    "def convert(ls_sheets, ls_columns, df):\n",
    "    for name, df_l in df:\n",
    "        for sheet in ls_sheets:\n",
    "            for col in ls_columns:\n",
    "                if sheet in df_l:\n",
    "                    if col in df_l[sheet]:\n",
    "                        df_l[sheet][col] = df_l[sheet][col]/9.80665\n",
    "                                                \n",
    "    return df\n",
    "\n",
    "ls_mb_convert = [\n",
    "    'Предел текучести (1141)',\n",
    "    'Предел текучести (1027)',\n",
    "    'Предел текучести (1027)',\n",
    "    'Предел текучести, Н/мм2 или МПа',\n",
    "    'Предел текучести , кгс/мм2',\n",
    "    'Предел текучести, кгс/мм2',\n",
    "    \n",
    "    \n",
    "    'Врем. сопротивление,  Н/мм2 или МПа',\n",
    "    'Врем. сопротивление (1140)',\n",
    "    'Врем. сопротивление (1042)',\n",
    "    'Врем. сопротивление , кгс/мм2',\n",
    "    'Врем. сопротивление, кгс/мм2'\n",
    "    \n",
    "]\n",
    "\n",
    "def convert_mb(ls_sheets, ls_columns, df):\n",
    "    for name, df_l in df:\n",
    "        for sheet in ls_sheets:\n",
    "            for col in ls_columns:\n",
    "                if sheet in df_l:\n",
    "                    if col in df_l[sheet]:\n",
    "                        df_l[sheet][col] =  df_l[sheet][col].apply(lambda x: x/9.80665\n",
    "                                                                   if (x > 200)\n",
    "                                                                   else x) \n",
    "    return df"
   ]
  },
  {
   "cell_type": "code",
   "execution_count": 13,
   "metadata": {
    "collapsed": true
   },
   "outputs": [],
   "source": [
    "# конвертация\n",
    "df_dicts = convert(ls_sheets_convert, ls_columns_convert, df_dicts)\n",
    "df_dicts = convert_mb(ls_sheets_convert, ls_mb_convert, df_dicts)"
   ]
  },
  {
   "cell_type": "code",
   "execution_count": 14,
   "metadata": {
    "collapsed": true
   },
   "outputs": [],
   "source": [
    "# очистка\n",
    "def rep(x):\n",
    "    x = str(x)\n",
    "    x = x.replace('..', '.')\n",
    "    x = x.replace(',', '.')\n",
    "    x = x.replace('. ', '.')\n",
    "    x = x.replace('>', '')\n",
    "    x = x.replace('.0.5', '0.5')\n",
    "    x = x.replace('.9.05', '9.05')\n",
    "    return x\n",
    "\n",
    "def spl(x):\n",
    "    fl = True\n",
    "    x = str(x)\n",
    "    tmpy = []\n",
    "    y =  x.split(';')\n",
    "    for i in y:\n",
    "        try:\n",
    "            tmpy.append(float(i))\n",
    "        except:\n",
    "            tmpy.append(i)\n",
    "            fl = False\n",
    "    if(fl):\n",
    "        y = tmpy   \n",
    "        x = np.mean(y)\n",
    "    return x"
   ]
  },
  {
   "cell_type": "code",
   "execution_count": 15,
   "metadata": {
    "collapsed": true
   },
   "outputs": [],
   "source": [
    "# список вкладок важных испытаний\n",
    "sheet_important = [\n",
    "    u'Величина зерна.',\n",
    "    u'Доля вязк. составл.(0).',\n",
    "    u'Доля вязк. составл.(-20).',\n",
    "    u'Доля вязк. составл.(-50).',\n",
    "    u'Доля вязк. составл.(-60)Шарпи.',\n",
    "    u'Макроструктура (трубы).',\n",
    "    u'Микроструктура.',\n",
    "    u'Неметал. включения.',\n",
    "    u'Прокаливаемость HRC.',\n",
    "    u'Прокаливаемость для кл.N80 тип.',\n",
    "    u'Растяжение, кгс мм2.',\n",
    "    u'Растяжение, н мм2 , Ksi.',\n",
    "    u'Растяжение, н мм2.',\n",
    "    u'Сплющивание.',\n",
    "    u'Твердость по Бринеллю.',\n",
    "    u'Твердость по Роквеллу API.',\n",
    "    u'Твердость по Роквеллу HRB.',\n",
    "    u'Твердость по Роквеллу HRС.',\n",
    "    u'Уд.вязк(-20) Шарпи.(КГС М С).',\n",
    "    u'Уд.вязк.(-40) Менаже(ДЖ).',\n",
    "    u'Уд.вязк.(-40) Менаже(КГС М С).',\n",
    "    u'Уд.вязк.(-60) Шарпи(ДЖ).',\n",
    "    u'Уд.вязк.(-60) Шарпи(КГС М С).'\n",
    "    ]\n",
    "\n",
    "# список столбцов из важных вкладок, которые необходимо усреднить\n",
    "col_for_mean = [\n",
    "    u'Величина зерна (4006)',\n",
    "    u'% площади сдвига (вязк.сост.) (1138)',\n",
    "    u'% площади сдвига (вязк.сост.) (1208)',\n",
    "    u'% площади сдвига (вязк.сост.) (1210)',\n",
    "    u'% площади сдвига (вязк.сост.) (1212)',\n",
    "    u'max Единицы твердости (1071)',\n",
    "    u'Врем. сопротивление (1042)',\n",
    "    u'Врем. сопротивление (1140)',\n",
    "    u'Врем. сопротивление, Ksi (1146)',\n",
    "    u'Диам. отпечатка (8022)',\n",
    "    u'Диаметр образца (1225)',\n",
    "    u'Единицы твердости (1032)',\n",
    "    u'Единицы твердости (1060)',\n",
    "    u'Единицы твердости (1071)', \n",
    "    u'Макроструктура (4030)', # Значения \"Уд.\" и \"Дефекты отсутствуют\"\n",
    "    u'Нитриды (2010)',\n",
    "    u'ОС (оксиды строчечные) (2005)',\n",
    "    u'ОТ (оксиды точечные) (2004)',\n",
    "    u'Относительное сужение (1016)',\n",
    "    u'Относительное удлинение (1099)',\n",
    "    u'Отношение (1118)',\n",
    "    u'Полосчатость (4036)',\n",
    "    u'Предел  текучести, Ksi (1145)',\n",
    "    u'Предел текучести (1027)',\n",
    "    u'Предел текучести (1141)',\n",
    "    u'Работа удара (9051)',\n",
    "    u'Работа удара, Дж. (1123)',\n",
    "    u'Работа удара, Дж. (1173)',\n",
    "    u'С (сульфиды) (2008)',\n",
    "    u'Силикаты недеформированные (2009)',\n",
    "    u'Силикаты пластичные (2007)',\n",
    "    u'Силикаты хрупкие (2006)',\n",
    "    u'Сплющивание (1119)', # Значение \"Трещин нет\"\n",
    "    u'Толщина (1226)',\n",
    "    u'Ударная вязкость (1073)',\n",
    "    u'Ударная вязкость (1097)',\n",
    "    u'Ударная вязкость (1100)',\n",
    "    u'Ударная вязкость, Дж/см2 (1125)',\n",
    "    u'Ударная вязкость, Дж/см2 (1174)',\n",
    "    u'Число твердости на внутренней поверхности (1149)',\n",
    "    'Число твердости на середине поверхности (1148)',\n",
    "    u'Число твердости у наружной поверхности (1147)',\n",
    "    u'Предел текучести, кгс/мм2',\n",
    "    u'Врем. сопротивление, кгс/мм2',\n",
    "    u'Предел текучести, Н/мм2 или МПа',\n",
    "    u'Врем. сопротивление,  Н/мм2 или МПа',\n",
    "    'Тип предела текучести, Н/мм2 или МПа'\n",
    "    ]"
   ]
  },
  {
   "cell_type": "code",
   "execution_count": 16,
   "metadata": {
    "collapsed": true
   },
   "outputs": [],
   "source": [
    "# очистка\n",
    "tmpdict = []\n",
    "for name, df_l in df_dicts:\n",
    "    for sheet in sheet_important:\n",
    "        for col in col_for_mean:\n",
    "            if sheet in df_l:\n",
    "                if col in df_l[sheet]:\n",
    "                    df_l[sheet][col] = df_l[sheet][col].map(rep)\n",
    "                    df_l[sheet][col] = df_l[sheet][col].map(spl)\n",
    "    tmpdict.append([name, df_l])  \n",
    "df_dicts = tmpdict"
   ]
  },
  {
   "cell_type": "code",
   "execution_count": 17,
   "metadata": {
    "scrolled": true
   },
   "outputs": [
    {
     "name": "stdout",
     "output_type": "stream",
     "text": [
      "1квартал2017.xls\n",
      "2012 1 квартал (январь, февраль, март)испр.xls\n",
      "2012 2 квартал (апрель, май, июнь)испр..xls\n",
      "2012 3 квартал (июль, август, сентябрь)испр..xls\n",
      "2012 4 квартал (октябрь, ноябрь, декабрь)испр.xls\n",
      "2013 1 квартал (январь, февраль, март)испр.xls\n",
      "2013 2 квартал (апрель, май, июнь)испр..xls\n",
      "2013 3 квартал (июль, август, сентябрь)испр..xls\n",
      "2013 4 квартал (октябрь, ноябрь, декабрь)испр.xls\n",
      "2014 1 квартал (январь, февраль, март)испр.xls\n",
      "2014 2 квартал (апрель, май, июнь)испр.xls\n",
      "2014 3 квартал (июль, август, сентябрь)испр.xls\n",
      "2014 4 квартал (октябрь, ноябрь, декабрь)испр.xls\n",
      "2015 1 квартал (январь, февраль, март)испр.xls\n",
      "2015 2 квартал (апрель, май, июнь)испр.xls\n",
      "2015 3 квартал ( июль, август, сентябрь)испр.xls\n",
      "2015 4 квартал (октябрь, ноябрь, декабрь)испр.xls\n",
      "2016 1 квартал (январь,февраль,март)испр.xls\n",
      "2016 2 квартал (апрель, май, июнь)испр.xls\n",
      "2016 3 квартал (июль, август, сентябрь)испр.xls\n",
      "2016 4 квартал (октябрь, ноябрь, декабрь)испр.xls\n",
      "2квартал2017.xls\n",
      "2квартал2017_2.xlsx\n",
      "3 квартал 2017.xls\n",
      "4квартал2017.xlsx\n",
      "декабрь - задание и испытания.xlsx\n",
      "январь 2018 - с испытаниями.xlsx\n"
     ]
    }
   ],
   "source": [
    "# усреднение\n",
    "tmp = []\n",
    "for name, df_l in df_dicts:\n",
    "    print(name)\n",
    "    for ls in sheet_important:\n",
    "        if ls in df_l:\n",
    "            df_l[ls] = get_mean_stretch(df_l[ls], col_for_mean)\n",
    "            df_l[ls] = get_mean(df_l[ls], col_for_mean)\n",
    "    tmp.append([name, df_l])\n",
    "            \n",
    "df_dicts = tmp"
   ]
  },
  {
   "cell_type": "code",
   "execution_count": 18,
   "metadata": {
    "collapsed": true,
    "scrolled": false
   },
   "outputs": [],
   "source": [
    "# при усреднении Mr.Py ставит запятые в дробях, так что опять меняем зпт на тчк\n",
    "# бесполезный шаг, ведь дальше все равно будет куча запятых...\n",
    "tmpdict = []\n",
    "for name, df_l in df_dicts:\n",
    "    for sheet in sheet_important:\n",
    "        if sheet in df_l:\n",
    "            for col in df_l[sheet].columns:\n",
    "                df_l[sheet][col] = df_l[sheet][col].apply(lambda x: str(x).replace(',', '.'))\n",
    "    tmpdict.append([name, df_l])  \n",
    "df_dicts = tmpdict"
   ]
  },
  {
   "cell_type": "code",
   "execution_count": 19,
   "metadata": {
    "collapsed": true,
    "scrolled": true
   },
   "outputs": [],
   "source": [
    "# удаление пустого столбца\n",
    "for name, df_l in df_dicts:\n",
    "    for sheet in sheet_important:\n",
    "        if sheet in df_l:\n",
    "            if 'Unnamed: 10' in  df_l[sheet].columns:\n",
    "                df_l[sheet] = df_l[sheet].drop(['Unnamed: 10'], axis=1)\n",
    "\n",
    "\n",
    "# удаление нулевых столбцов\n",
    "for name, df_l in df_dicts:\n",
    "    for sheet in sheet_important:\n",
    "        if sheet in df_l:\n",
    "            for col in df_l[sheet].columns:\n",
    "                if df_l[sheet][col].max() == '0':\n",
    "                    df_l[sheet] = df_l[sheet].drop([col], axis = 1)"
   ]
  },
  {
   "cell_type": "code",
   "execution_count": 24,
   "metadata": {
    "collapsed": true
   },
   "outputs": [],
   "source": [
    "# объединение таблиц с испытаниями\n",
    "def union_mode_table_valid(union_list, df_dicts, file_name):\n",
    "    if union_list[0] in sheetname_list_valid:\n",
    "        table_union = df_dicts[1][union_list[0]]\n",
    "    else:\n",
    "        table_union = []\n",
    "        print('0')\n",
    "        return table_union\n",
    "    for series_name in union_list:\n",
    "        if series_name in sheetname_list_valid:\n",
    "            table_union = pd.merge(table_union, df_dicts[1][series_name], how = 'outer')\n",
    "    table_union[u'№ плавки'] = table_union[u'№ плавки'].astype(str)\n",
    "    print(table_union.shape, file_name)\n",
    "    return table_union"
   ]
  },
  {
   "cell_type": "code",
   "execution_count": 25,
   "metadata": {
    "collapsed": true
   },
   "outputs": [],
   "source": [
    "# объединение таблиц с испытаниями\n",
    "def union_mode_table(union_list, df_dicts, file_name):\n",
    "    table_union = df_dicts[0][1][union_list[0]]\n",
    "    for name, df_l in df_dicts:\n",
    "        for series_name in union_list:\n",
    "            if series_name in df_l:\n",
    "                table_union = pd.merge(table_union, df_l[series_name], how = 'outer')\n",
    "    table_union[u'№ плавки'] = table_union[u'№ плавки'].astype(str)\n",
    "    print(table_union.shape, file_name)\n",
    "    return table_union"
   ]
  },
  {
   "cell_type": "code",
   "execution_count": 26,
   "metadata": {
    "collapsed": true
   },
   "outputs": [],
   "source": [
    "# сохранение объединенных таблиц\n",
    "def save_union(table_union, file_name):\n",
    "    table_union.to_excel('exp/prepared/'+file_name+'.xlsx')"
   ]
  },
  {
   "cell_type": "code",
   "execution_count": 27,
   "metadata": {
    "scrolled": false
   },
   "outputs": [
    {
     "name": "stdout",
     "output_type": "stream",
     "text": [
      "(2543, 14) table_hardness_hrb\n",
      "(894, 10) table_hardness_hrc\n",
      "(3090, 12) table_hardness_api\n",
      "(10248, 10) table_flattening\n",
      "(4776, 16) table_nonmetall\n",
      "(343, 10) table_macrostructure\n",
      "(4976, 12) table_microstructure\n",
      "(419, 10) table_proportion_viscous_60\n",
      "(4720, 11) table_proportion_viscous_50\n",
      "(2783, 10) table_proportion_viscous_20\n",
      "(158, 10) table_proportion_viscous_0\n",
      "(709, 12) table_hardness_hb\n",
      "(5249, 10) table_grain_size\n",
      "(590, 12) table_hardenability\n",
      "(175, 12) table_resiliency_20\n",
      "(211, 13) table_resiliency_40\n",
      "(31132, 34) table_stretching\n",
      "(700, 13) table_resiliency_60\n"
     ]
    }
   ],
   "source": [
    "# таблица с растяжениями\n",
    "stretching_union_list = [\n",
    "    'Растяжение, кгс мм2.',\n",
    "    'Растяжение, н мм2.',\n",
    "    'Растяжение, н мм2 , Ksi.',\n",
    "]\n",
    "\n",
    "# таблица с Уд.вязк.(-60) Шарпи(КГС М С)\n",
    "resiliency_60_union_list = [\n",
    "    u'Уд.вязк.(-60) Шарпи(КГС М С).',\n",
    "    u'Уд.вязк.(-60) Шарпи(ДЖ).' \n",
    "]\n",
    "\n",
    "# таблица с  Уд.вязк.(-40) Менаже(КГС М С)\n",
    "resiliency_40_union_list =[\n",
    "    u'Уд.вязк.(-40) Менаже(КГС М С).',\n",
    "    u'Уд.вязк.(-40) Менаже(ДЖ).'\n",
    "]\n",
    "\n",
    "\n",
    "# таблица с Уд.вязк(-20) Шарпи.(КГС М С).\n",
    "resiliency_20_union_list = [\n",
    "    u'Уд.вязк(-20) Шарпи.(КГС М С).'   \n",
    "]\n",
    "\n",
    "# таблица с прокаливаемостью\n",
    "hardenability_union_list = [\n",
    "    u'Прокаливаемость HRC.',\n",
    "    u'Прокаливаемость для кл.N80 тип.'\n",
    "]\n",
    "\n",
    "\n",
    "# Величина зерна\n",
    "grain_size_union_list = [\n",
    "    u'Величина зерна.'\n",
    "]\n",
    "\n",
    "\n",
    "# таблица с твердостью по Бриннелю\n",
    "hardness_hb_union_list = [\n",
    "    u'Твердость по Бринеллю.',\n",
    "]\n",
    "\n",
    "# таблица с долей вязкой составляющей 0\n",
    "proportion_viscous_0_union_list = [\n",
    "    u'Доля вязк. составл.(0).'\n",
    "]\n",
    "\n",
    "# таблица с Доля вязк. составл.(-20)\n",
    "proportion_viscous_20_union_list = [\n",
    "    u'Доля вязк. составл.(-20).'\n",
    "]\n",
    "\n",
    "\n",
    "# таблица с Доля вязк. составл.(-50).\n",
    "proportion_viscous_50_union_list = [\n",
    "    u'Доля вязк. составл.(-50).'\n",
    "]\n",
    "\n",
    "\n",
    "# таблица с Доля вязк. составл.(-60)Шарпи.\n",
    "proportion_viscous_60_union_list = [\n",
    "    u'Доля вязк. составл.(-60)Шарпи.'\n",
    "]\n",
    "\n",
    "# таблица с u'Макроструктура (трубы).'\n",
    "macrostructure_union_list = [\n",
    "    u'Макроструктура (трубы).'\n",
    "]\n",
    "# таблица с микроструктурой\n",
    "microstructure_union_list = [\n",
    "    u'Микроструктура.'\n",
    "]\n",
    "\n",
    "# таблица с  u'Неметал. включения.',\n",
    "nonmetall_union_list = [\n",
    "     u'Неметал. включения.'\n",
    "]\n",
    "\n",
    "# таблица с u'Сплющивание.'\n",
    "flattening_union_list = [\n",
    "    u'Сплющивание.'\n",
    "]\n",
    "\n",
    "# таблица с u'Твердость по Роквеллу API.'\n",
    "hardness_api_union_list = [\n",
    "    u'Твердость по Роквеллу API.'\n",
    "]\n",
    "# таблица u'Твердость по Роквеллу HRС.'\n",
    "hardness_hrc_union_list = [\n",
    "    u'Твердость по Роквеллу HRС.'\n",
    "]\n",
    "# таблица с u'Твердость по Роквеллу HRB.',\n",
    "hardness_hrb_union_list = [\n",
    "    u'Твердость по Роквеллу HRB.'\n",
    "]\n",
    "\n",
    "\n",
    "table_hardness_hrb = union_mode_table(hardness_hrb_union_list, df_dicts[:25], 'table_hardness_hrb')\n",
    "table_hardness_hrc = union_mode_table(hardness_hrc_union_list, df_dicts[:25], 'table_hardness_hrc')\n",
    "table_hardness_api = union_mode_table(hardness_api_union_list, df_dicts[:25], 'table_hardness_api')\n",
    "table_flattening = union_mode_table(flattening_union_list, df_dicts[:25], 'table_flattening')\n",
    "table_nonmetall = union_mode_table(nonmetall_union_list, df_dicts[:25], 'table_nonmetall')\n",
    "table_macrostructure = union_mode_table(macrostructure_union_list, df_dicts[:25], 'table_macrostructure')\n",
    "table_microstructure = union_mode_table(microstructure_union_list, df_dicts[:25], 'table_microstructure')\n",
    "table_proportion_viscous_60 = union_mode_table(proportion_viscous_60_union_list, df_dicts[:25], 'table_proportion_viscous_60')\n",
    "table_proportion_viscous_50 = union_mode_table(proportion_viscous_50_union_list, df_dicts[:25], 'table_proportion_viscous_50')\n",
    "table_proportion_viscous_20 = union_mode_table(proportion_viscous_20_union_list, df_dicts[:25], 'table_proportion_viscous_20')\n",
    "table_proportion_viscous_0 = union_mode_table(proportion_viscous_0_union_list, df_dicts[:25], 'table_proportion_viscous_0')\n",
    "table_hardness_hb = union_mode_table(hardness_hb_union_list, df_dicts[:25], 'table_hardness_hb')\n",
    "table_grain_size = union_mode_table(grain_size_union_list, df_dicts[:25], 'table_grain_size')    \n",
    "table_hardenability = union_mode_table(hardenability_union_list, df_dicts[:25], 'table_hardenability')\n",
    "table_resiliency_20 = union_mode_table(resiliency_20_union_list, df_dicts[:25], 'table_resiliency_20')\n",
    "table_resiliency_40 = union_mode_table(resiliency_40_union_list, df_dicts[:25], 'table_resiliency_40')\n",
    "table_stretching = union_mode_table(stretching_union_list, df_dicts[:25], 'table_stretching')\n",
    "table_resiliency_60 = union_mode_table(resiliency_60_union_list, df_dicts[:25], 'table_resiliency_60')"
   ]
  },
  {
   "cell_type": "code",
   "execution_count": 28,
   "metadata": {
    "scrolled": true
   },
   "outputs": [
    {
     "name": "stdout",
     "output_type": "stream",
     "text": [
      "(1, 11) table_hardness_hrb_valid\n",
      "(3, 10) table_hardness_hrc_valid\n",
      "(9, 12) table_hardness_api_valid\n",
      "(207, 10) table_flattening_valid\n",
      "(34, 16) table_nonmetall_valid\n",
      "0\n",
      "(25, 10) table_microstructure_valid\n",
      "(9, 10) table_proportion_viscous_60_valid\n",
      "(16, 11) table_proportion_viscous_50_valid\n",
      "(127, 10) table_proportion_viscous_20_valid\n",
      "(6, 10) table_proportion_viscous_0_valid\n",
      "0\n",
      "(26, 10) table_grain_size_valid\n",
      "(1, 12) table_hardenability_valid\n",
      "(23, 12) table_resiliency_20_valid\n",
      "(21, 11) table_resiliency_40_valid\n",
      "(629, 22) table_stretching_valid\n",
      "0\n"
     ]
    }
   ],
   "source": [
    "table_hardness_hrb_valid = union_mode_table_valid(hardness_hrb_union_list, df_dicts[26], 'table_hardness_hrb_valid')\n",
    "table_hardness_hrc_valid = union_mode_table_valid(hardness_hrc_union_list, df_dicts[26], 'table_hardness_hrc_valid')\n",
    "table_hardness_api_valid = union_mode_table_valid(hardness_api_union_list, df_dicts[26], 'table_hardness_api_valid')\n",
    "table_flattening_valid = union_mode_table_valid(flattening_union_list, df_dicts[26], 'table_flattening_valid')\n",
    "table_nonmetall_valid = union_mode_table_valid(nonmetall_union_list, df_dicts[26], 'table_nonmetall_valid')\n",
    "table_macrostructure_valid = union_mode_table_valid(macrostructure_union_list, df_dicts[26], 'table_macrostructure_valid')\n",
    "table_microstructure_valid = union_mode_table_valid(microstructure_union_list, df_dicts[26], 'table_microstructure_valid')\n",
    "table_proportion_viscous_60_valid = union_mode_table_valid(proportion_viscous_60_union_list, df_dicts[26], 'table_proportion_viscous_60_valid')\n",
    "table_proportion_viscous_50_valid = union_mode_table_valid(proportion_viscous_50_union_list, df_dicts[26], 'table_proportion_viscous_50_valid')\n",
    "table_proportion_viscous_20_valid = union_mode_table_valid(proportion_viscous_20_union_list, df_dicts[26], 'table_proportion_viscous_20_valid')\n",
    "table_proportion_viscous_0_valid = union_mode_table_valid(proportion_viscous_0_union_list, df_dicts[26], 'table_proportion_viscous_0_valid')\n",
    "table_hardness_hb_valid = union_mode_table_valid(hardness_hb_union_list, df_dicts[26], 'table_hardness_hb_valid')\n",
    "table_grain_size_valid = union_mode_table_valid(grain_size_union_list, df_dicts[26], 'table_grain_size_valid')    \n",
    "table_hardenability_valid = union_mode_table_valid(hardenability_union_list, df_dicts[26], 'table_hardenability_valid')\n",
    "table_resiliency_20_valid = union_mode_table_valid(resiliency_20_union_list, df_dicts[26], 'table_resiliency_20_valid')\n",
    "table_resiliency_40_valid = union_mode_table_valid(resiliency_40_union_list, df_dicts[26], 'table_resiliency_40_valid')\n",
    "table_stretching_valid = union_mode_table_valid(stretching_union_list, df_dicts[26], 'table_stretching_valid')\n",
    "table_resiliency_60_valid = union_mode_table_valid(resiliency_60_union_list, df_dicts[26], 'table_resiliency_60_valid')"
   ]
  },
  {
   "cell_type": "code",
   "execution_count": 29,
   "metadata": {
    "collapsed": true
   },
   "outputs": [],
   "source": [
    "# список всех объединенных таблиц\n",
    "ls_table_ = [\n",
    "    table_hardness_hrb,\n",
    "    table_hardness_hrc,\n",
    "    table_hardness_api,\n",
    "    table_flattening,\n",
    "    table_nonmetall,\n",
    "    table_macrostructure,\n",
    "    table_microstructure,\n",
    "    table_proportion_viscous_60,\n",
    "    table_proportion_viscous_50,\n",
    "    table_proportion_viscous_20,\n",
    "    table_proportion_viscous_0,\n",
    "    table_hardness_hb,\n",
    "    table_grain_size,\n",
    "    table_hardenability,\n",
    "    table_resiliency_20,\n",
    "    table_resiliency_40,\n",
    "    table_stretching,\n",
    "    table_resiliency_60\n",
    "]\n",
    "\n",
    "# список имен объединенных таблиц\n",
    "ls_filename = [\n",
    "    'table_hardness_hrb',\n",
    "    'table_hardness_hrc',\n",
    "    'table_hardness_api',\n",
    "    'table_flattening',\n",
    "    'table_nonmetall',\n",
    "    'table_macrostructure',\n",
    "    'table_microstructure',\n",
    "    'table_proportion_viscous_60',\n",
    "    'table_proportion_viscous_50',\n",
    "    'table_proportion_viscous_20',\n",
    "    'table_proportion_viscous_0',\n",
    "    'table_hardness_hb',\n",
    "    'table_grain_size',\n",
    "    'table_hardenability',\n",
    "    'table_resiliency_20',\n",
    "    'table_resiliency_40',\n",
    "    'table_stretching',\n",
    "    'table_resiliency_60'\n",
    "]\n",
    "\n",
    "ls_table_valid = [\n",
    "    table_hardness_hrb_valid,\n",
    "    table_hardness_hrc_valid,\n",
    "    table_hardness_api_valid,\n",
    "    table_flattening_valid,\n",
    "    table_nonmetall_valid,\n",
    "    table_microstructure_valid,\n",
    "    table_proportion_viscous_60_valid,\n",
    "    table_proportion_viscous_50_valid,\n",
    "    table_proportion_viscous_20_valid,\n",
    "    table_proportion_viscous_0_valid,\n",
    "    table_grain_size_valid,\n",
    "    table_hardenability_valid,\n",
    "    table_resiliency_20_valid,\n",
    "    table_resiliency_40_valid,\n",
    "    table_stretching_valid\n",
    "]\n",
    "\n",
    "# список имен объединенных таблиц\n",
    "ls_filename_valid = [\n",
    "    'table_hardness_hrb_valid',\n",
    "    'table_hardness_hrc_valid',\n",
    "    'table_hardness_api_valid',\n",
    "    'table_flattening_valid',\n",
    "    'table_nonmetall_valid',\n",
    "    'table_microstructure_valid',\n",
    "    'table_proportion_viscous_60_valid',\n",
    "    'table_proportion_viscous_50_valid',\n",
    "    'table_proportion_viscous_20_valid',\n",
    "    'table_proportion_viscous_0_valid',\n",
    "    'table_grain_size_valid',\n",
    "    'table_hardenability_valid',\n",
    "    'table_resiliency_20_valid',\n",
    "    'table_resiliency_40_valid',\n",
    "    'table_stretching_valid'\n",
    "]"
   ]
  },
  {
   "cell_type": "code",
   "execution_count": 30,
   "metadata": {
    "collapsed": true,
    "scrolled": false
   },
   "outputs": [],
   "source": [
    "# # сохранить объединенные таблицы с дубликатами\n",
    "# for i in range(0, len(ls_table_testing)):\n",
    "#     save_union(ls_table_testing[i], 'with duplicates/'+ls_filename[i])\n",
    "#     print(ls_filename[i])"
   ]
  },
  {
   "cell_type": "code",
   "execution_count": 31,
   "metadata": {
    "collapsed": true,
    "scrolled": true
   },
   "outputs": [],
   "source": [
    "# ради одной строчки в table_proportion_viscous_60 (берем наименьшее значение 17.7, а не 100)\n",
    "ls_table_[7] = get_mean_last(ls_table_[7], col_for_mean)"
   ]
  },
  {
   "cell_type": "code",
   "execution_count": 32,
   "metadata": {
    "collapsed": true,
    "scrolled": true
   },
   "outputs": [],
   "source": [
    "# приведение всех партии к нижнему регистру(для присоединения с режимами и химией)\n",
    "def low(ls):\n",
    "    tmp = []\n",
    "    for df_l in ls:\n",
    "        if '№ партии' in df_l:\n",
    "            df_l['№ партии'] = df_l['№ партии'].astype(str).str.lower()\n",
    "            tmp.append(df_l)    \n",
    "        print(df_l.shape[0])\n",
    "    return tmp"
   ]
  },
  {
   "cell_type": "code",
   "execution_count": 33,
   "metadata": {},
   "outputs": [
    {
     "name": "stdout",
     "output_type": "stream",
     "text": [
      "2543\n",
      "894\n",
      "3090\n",
      "10248\n",
      "4776\n",
      "343\n",
      "4976\n",
      "418\n",
      "4720\n",
      "2783\n",
      "158\n",
      "709\n",
      "5249\n",
      "590\n",
      "175\n",
      "211\n",
      "31132\n",
      "700\n",
      "\n",
      "tables for validation:\n",
      "1\n",
      "3\n",
      "9\n",
      "207\n",
      "34\n",
      "25\n",
      "9\n",
      "16\n",
      "127\n",
      "6\n",
      "26\n",
      "1\n",
      "23\n",
      "21\n",
      "629\n"
     ]
    }
   ],
   "source": [
    "ls_table_ = low(ls_table_)\n",
    "print('\\ntables for validation:')\n",
    "ls_table_valid = low(ls_table_valid)"
   ]
  },
  {
   "cell_type": "code",
   "execution_count": 34,
   "metadata": {
    "collapsed": true,
    "scrolled": true
   },
   "outputs": [],
   "source": [
    "# усреднение объединенных таблиц\n",
    "def mean_exp(ls_table):\n",
    "    tmp = []\n",
    "    for df_l in ls_table:\n",
    "        df_l = get_mean_stretch(df_l, col_for_mean)\n",
    "        df_l = get_mean(df_l, col_for_mean)\n",
    "        tmp.append(df_l)    \n",
    "        print(df_l.shape[0])\n",
    "    return tmp"
   ]
  },
  {
   "cell_type": "code",
   "execution_count": 35,
   "metadata": {},
   "outputs": [
    {
     "name": "stdout",
     "output_type": "stream",
     "text": [
      "2541\n",
      "870\n",
      "3089\n",
      "10200\n",
      "4772\n",
      "343\n",
      "4945\n",
      "418\n",
      "4710\n",
      "2780\n",
      "158\n",
      "709\n",
      "5218\n",
      "582\n",
      "175\n",
      "211\n",
      "28908\n",
      "697\n",
      "\n",
      "tables for validation:\n",
      "1\n",
      "3\n",
      "9\n",
      "207\n",
      "34\n",
      "25\n",
      "9\n",
      "16\n",
      "127\n",
      "6\n",
      "26\n",
      "1\n",
      "23\n",
      "21\n",
      "576\n"
     ]
    }
   ],
   "source": [
    "ls_table_ = mean_exp(ls_table_)\n",
    "print('\\ntables for validation:')\n",
    "ls_table_valid = mean_exp(ls_table_valid)"
   ]
  },
  {
   "cell_type": "code",
   "execution_count": 36,
   "metadata": {},
   "outputs": [
    {
     "name": "stdout",
     "output_type": "stream",
     "text": [
      "Врем. сопротивление,  Н/мм2 или МПа\n",
      "Врем. сопротивление , кгс/мм2\n",
      "Врем. сопротивление, кгс/мм2\n",
      "Предел текучести, Н/мм2 или МПа\n",
      "Предел текучести , кгс/мм2\n",
      "Предел текучести, кгс/мм2\n"
     ]
    }
   ],
   "source": [
    "col_fluidity = [\n",
    "    'Врем. сопротивление (1140)',\n",
    "    'Врем. сопротивление (1042)',\n",
    "    'Врем. сопротивление,  Н/мм2 или МПа',\n",
    "    'Врем. сопротивление , кгс/мм2',\n",
    "    'Врем. сопротивление, кгс/мм2',\n",
    "    'Предел текучести (1141)',\n",
    "    'Предел текучести (1027)',\n",
    "    'Предел текучести, Н/мм2 или МПа',\n",
    "    'Предел текучести , кгс/мм2',\n",
    "    'Предел текучести, кгс/мм2'\n",
    "]\n",
    "\n",
    "for col in col_fluidity:\n",
    "    if col in table_stretching_valid:\n",
    "        table_stretching_valid[col] = table_stretching_valid[col].apply(lambda x: str(x))\n",
    "    else:\n",
    "        print(col)\n",
    "    table_stretching[col] = table_stretching[col].apply(lambda x: str(x))"
   ]
  },
  {
   "cell_type": "code",
   "execution_count": 37,
   "metadata": {},
   "outputs": [
    {
     "data": {
      "text/plain": [
       "'На всякий случай оставляю, если я где-нибудь накосячила..... '"
      ]
     },
     "execution_count": 37,
     "metadata": {},
     "output_type": "execute_result"
    }
   ],
   "source": [
    "\"\"\"На всякий случай оставляю, если я где-нибудь накосячила..... \"\"\"\n",
    "\n",
    "#             elif ('Врем. сопротивление (1142)' in table):\n",
    "#                 if (table['Врем. сопротивление (1042)'][x] != 'nan'):\n",
    "#                     tmp.append(table['Врем. сопротивление (1042)'][x])\n",
    "#                 elif ('Врем. сопротивление,  Н/мм2 или МПа' in table):\n",
    "#                     if (table['Врем. сопротивление,  Н/мм2 или МПа'][x] != 'nan'):\n",
    "#                         tmp.append(table['Врем. сопротивление,  Н/мм2 или МПа'][x])\n",
    "#                     elif ('Врем. сопротивление , кгс/мм2' in table):\n",
    "#                         if (table['Врем. сопротивление , кгс/мм2'][x] != 'nan'):\n",
    "#                             tmp.append(table['Врем. сопротивление , кгс/мм2'][x])\n",
    "#                         elif ('Врем. сопротивление, кгс/мм2' in table):\n",
    "#                             if (table['Врем. сопротивление, кгс/мм2'][x] != 'nan'):\n",
    "#                                 tmp.append(table['Врем. сопротивление, кгс/мм2'][x])\n",
    "#                             else:\n",
    "#                                 tmp.append('')\n",
    "\n",
    "\n",
    "\n",
    "#     for x in range(0, table.shape[0]):\n",
    "#         if 'Предел текучести (1141)' in table:\n",
    "#             if (table['Предел текучести (1141)'][x] != 'nan'):\n",
    "#                 tmp.append(table['Предел текучести (1141)'][x])\n",
    "#             else:\n",
    "#                 if 'Предел текучести (1027)' in table:\n",
    "#                     if (table['Предел текучести (1027)'][x] != 'nan'):\n",
    "#                         tmp.append(table['Предел текучести (1027)'][x])\n",
    "#                     else:\n",
    "#                         if 'Предел текучести, Н/мм2 или МПа' in table:\n",
    "#                             if (table['Предел текучести, Н/мм2 или МПа'][x] != 'nan'):\n",
    "#                                 tmp.append(table['Предел текучести, Н/мм2 или МПа'][x])\n",
    "#                             else:\n",
    "#                                 if 'Предел текучести, Н/мм2 или МПа' in table:\n",
    "#                                     if (table['Предел текучести, Н/мм2 или МПа'][x] != 'nan'):\n",
    "#                                         tmp.append(table['Предел текучести, Н/мм2 или МПа'][x])\n",
    "#                                     else:\n",
    "#                                         if 'Предел текучести, кгс/мм2' in table:\n",
    "#                                             if (table['Предел текучести, кгс/мм2'][x] != 'nan'):\n",
    "#                                                 tmp.append(table['Предел текучести, кгс/мм2'][x])\n",
    "#                                             else:\n",
    "#                                                 tmp.append('')\n",
    " "
   ]
  },
  {
   "cell_type": "code",
   "execution_count": 49,
   "metadata": {
    "collapsed": true,
    "scrolled": true
   },
   "outputs": [],
   "source": [
    "# Схлопываем несколько столбцов с текучестью и прочность в один для каждого\n",
    "list_tr_col_names = [\n",
    "    'Врем. сопротивление',\n",
    "    'Врем. сопротивление (1140)',\n",
    "    'Врем. сопротивление (1042)',\n",
    "    'Врем. сопротивление,  Н/мм2 или МПа',\n",
    "    'Врем. сопротивление , кгс/мм2',\n",
    "    'Врем. сопротивление, кгс/мм2'\n",
    "]\n",
    "\n",
    "list_ys_col_names = [\n",
    "    'Предел текучести',\n",
    "    'Предел текучести (1141)',\n",
    "    'Предел текучести (1027)',\n",
    "    'Предел текучести, Н/мм2 или МПа',\n",
    "    'Предел текучести , кгс/мм2',\n",
    "    'Предел текучести, кгс/мм2'\n",
    "]\n",
    "\n",
    "\n",
    "def merge_col(table, list_col_names):\n",
    "    \"\"\"Схлопывание колонок.\n",
    "\n",
    "    Keyword arguments:\n",
    "    table -- датафрейм в котором будем сливать столбцы\n",
    "    list_col_names -- список названий колонок \n",
    "        (первым в списке должно идти имя столбца в который будет записан конечный результат)\n",
    "\n",
    "    Возвращает преобразованный датафрейм с добавленым столбцом\n",
    "    \"\"\"\n",
    "    tmp = []\n",
    "    for x in range(0, table.shape[0]):\n",
    "        fl = True\n",
    "        for col_name in list_col_names[1:]:\n",
    "            if fl & (col_name in table):\n",
    "                if (table[col_name][x] != 'nan'):\n",
    "                    tmp.append(table[col_name][x])\n",
    "                    fl = False\n",
    "        if fl:\n",
    "            tmp.append('')\n",
    "            \n",
    "    print(len(tmp), table.shape )\n",
    "    table[list_col_names[0]] = tmp\n",
    "    return table\n",
    "    \n",
    "    \n",
    "def col_merge(table):\n",
    "    \"\"\"Сливает столбцы текучести в один, сливает столбцы прочности в один\"\"\"\n",
    "    table = merge_col(table, list_tr_col_names)\n",
    "    table = merge_col(table, list_ys_col_names)\n",
    "    return table"
   ]
  },
  {
   "cell_type": "code",
   "execution_count": 50,
   "metadata": {},
   "outputs": [
    {
     "data": {
      "text/plain": [
       "(31132, 35)"
      ]
     },
     "execution_count": 50,
     "metadata": {},
     "output_type": "execute_result"
    }
   ],
   "source": [
    "table_stretching.shape"
   ]
  },
  {
   "cell_type": "code",
   "execution_count": 51,
   "metadata": {
    "scrolled": true
   },
   "outputs": [
    {
     "name": "stdout",
     "output_type": "stream",
     "text": [
      "31132 (31132, 35)\n",
      "31132 (31132, 35)\n",
      "629 (629, 23)\n",
      "629 (629, 23)\n"
     ]
    }
   ],
   "source": [
    "table_stretching = col_merge(table_stretching)\n",
    "table_stretching_valid = col_merge(table_stretching_valid)"
   ]
  },
  {
   "cell_type": "code",
   "execution_count": 53,
   "metadata": {},
   "outputs": [],
   "source": [
    "table_stretching = table_stretching[table_stretching['Предел текучести'] != '']\n",
    "table_stretching = table_stretching[table_stretching['Врем. сопротивление'] != '']\n",
    "table_stretching_valid = table_stretching_valid[table_stretching_valid['Предел текучести'] != '']\n",
    "table_stretching_valid = table_stretching_valid[table_stretching_valid['Врем. сопротивление'] != '']"
   ]
  },
  {
   "cell_type": "code",
   "execution_count": 54,
   "metadata": {
    "collapsed": true
   },
   "outputs": [],
   "source": [
    "for x in table_stretching['Врем. сопротивление']:\n",
    "    try:\n",
    "        x = float(x)\n",
    "    except:\n",
    "        print(x)\n",
    "        \n",
    "for x in table_stretching['Предел текучести']:\n",
    "    try:\n",
    "        x = float(x)\n",
    "    except:\n",
    "        print(x)\n",
    "table_stretching['Предел текучести'] = table_stretching['Предел текучести'].apply(lambda x: float(x))\n",
    "table_stretching['Врем. сопротивление'] = table_stretching['Врем. сопротивление'].apply(lambda x: float(x))\n",
    "table_stretching_valid['Предел текучести'] = table_stretching_valid['Предел текучести'].apply(lambda x: float(x))\n",
    "table_stretching_valid['Врем. сопротивление'] = table_stretching_valid['Врем. сопротивление'].apply(lambda x: float(x))"
   ]
  },
  {
   "cell_type": "code",
   "execution_count": 55,
   "metadata": {
    "collapsed": true
   },
   "outputs": [],
   "source": [
    "table_stretching['Предел текучести'] = table_stretching['Предел текучести'].apply(lambda x: x/9.80665\n",
    "                                                                   if (x > 200)\n",
    "                                                                   else x)\n",
    "table_stretching['Врем. сопротивление'] = table_stretching['Врем. сопротивление'].apply(lambda x: x/9.80665\n",
    "                                                                   if (x > 200)\n",
    "                                                                   else x)\n",
    "table_stretching_valid['Предел текучести'] = table_stretching_valid['Предел текучести'].apply(lambda x: x/9.80665\n",
    "                                                                   if (x > 200)\n",
    "                                                                   else x)\n",
    "table_stretching_valid['Врем. сопротивление'] = table_stretching_valid['Врем. сопротивление'].apply(lambda x: x/9.80665\n",
    "                                                                   if (x > 200)\n",
    "                                                                   else x)"
   ]
  },
  {
   "cell_type": "code",
   "execution_count": 66,
   "metadata": {
    "collapsed": true
   },
   "outputs": [],
   "source": [
    "ls_table_ = [\n",
    "    table_hardness_hrb,\n",
    "    table_hardness_hrc,\n",
    "    table_hardness_api,\n",
    "    table_flattening,\n",
    "    table_nonmetall,\n",
    "    table_macrostructure,\n",
    "    table_microstructure,\n",
    "    table_proportion_viscous_60,\n",
    "    table_proportion_viscous_50,\n",
    "    table_proportion_viscous_20,\n",
    "    table_proportion_viscous_0,\n",
    "    table_hardness_hb,\n",
    "    table_grain_size,\n",
    "    table_hardenability,\n",
    "    table_resiliency_20,\n",
    "    table_resiliency_40,\n",
    "    table_stretching,\n",
    "    table_resiliency_60\n",
    "]\n",
    "\n",
    "ls_table_valid = [\n",
    "    table_hardness_hrb_valid,\n",
    "    table_hardness_hrc_valid,\n",
    "    table_hardness_api_valid,\n",
    "    table_flattening_valid,\n",
    "    table_nonmetall_valid,\n",
    "    table_microstructure_valid,\n",
    "    table_proportion_viscous_60_valid,\n",
    "    table_proportion_viscous_50_valid,\n",
    "    table_proportion_viscous_20_valid,\n",
    "    table_proportion_viscous_0_valid,\n",
    "    table_grain_size_valid,\n",
    "    table_hardenability_valid,\n",
    "    table_resiliency_20_valid,\n",
    "    table_resiliency_40_valid,\n",
    "    table_stretching_valid\n",
    "]"
   ]
  },
  {
   "cell_type": "code",
   "execution_count": 67,
   "metadata": {
    "scrolled": true
   },
   "outputs": [
    {
     "name": "stdout",
     "output_type": "stream",
     "text": [
      "table_hardness_hrb\n",
      "table_hardness_hrc\n",
      "table_hardness_api\n",
      "table_flattening\n",
      "table_nonmetall\n",
      "table_macrostructure\n",
      "table_microstructure\n",
      "table_proportion_viscous_60\n",
      "table_proportion_viscous_50\n",
      "table_proportion_viscous_20\n",
      "table_proportion_viscous_0\n",
      "table_hardness_hb\n",
      "table_grain_size\n",
      "table_hardenability\n",
      "table_resiliency_20\n",
      "table_resiliency_40\n",
      "table_stretching\n",
      "table_resiliency_60\n"
     ]
    }
   ],
   "source": [
    "# сохранение усредненных объединенных таблиц\n",
    "for i in range(0, len(ls_table_)):\n",
    "    save_union(ls_table_[i], ls_filename[i])\n",
    "    print(ls_filename[i])"
   ]
  },
  {
   "cell_type": "code",
   "execution_count": 69,
   "metadata": {
    "scrolled": true
   },
   "outputs": [
    {
     "name": "stdout",
     "output_type": "stream",
     "text": [
      "table_hardness_hrb_valid\n",
      "table_hardness_hrc_valid\n",
      "table_hardness_api_valid\n",
      "table_flattening_valid\n",
      "table_nonmetall_valid\n",
      "table_microstructure_valid\n",
      "table_proportion_viscous_60_valid\n",
      "table_proportion_viscous_50_valid\n",
      "table_proportion_viscous_20_valid\n",
      "table_proportion_viscous_0_valid\n",
      "table_grain_size_valid\n",
      "table_hardenability_valid\n",
      "table_resiliency_20_valid\n",
      "table_resiliency_40_valid\n",
      "table_stretching_valid\n"
     ]
    }
   ],
   "source": [
    "for i in range(0, len(ls_table_valid)):\n",
    "    save_union(ls_table_valid[i], ls_filename_valid[i])\n",
    "    print(ls_filename_valid[i])"
   ]
  },
  {
   "cell_type": "code",
   "execution_count": 68,
   "metadata": {},
   "outputs": [
    {
     "name": "stdout",
     "output_type": "stream",
     "text": [
      "count    31091.000000\n",
      "mean        65.940136\n",
      "std         12.723426\n",
      "min         23.500000\n",
      "25%         62.508604\n",
      "50%         67.148313\n",
      "75%         71.889993\n",
      "max        139.000000\n",
      "Name: Предел текучести, dtype: float64\n",
      "count    31091.000000\n",
      "mean        76.481911\n",
      "std         11.189533\n",
      "min         38.500000\n",
      "25%         73.419567\n",
      "50%         76.733645\n",
      "75%         82.000000\n",
      "max        130.000000\n",
      "Name: Врем. сопротивление, dtype: float64\n"
     ]
    }
   ],
   "source": [
    "print(table_stretching['Предел текучести'].describe())\n",
    "print(table_stretching['Врем. сопротивление'].describe())"
   ]
  },
  {
   "cell_type": "code",
   "execution_count": 60,
   "metadata": {
    "scrolled": true
   },
   "outputs": [
    {
     "data": {
      "text/plain": [
       "(31091, 36)"
      ]
     },
     "execution_count": 60,
     "metadata": {},
     "output_type": "execute_result"
    }
   ],
   "source": [
    "table_stretching.shape"
   ]
  },
  {
   "cell_type": "code",
   "execution_count": 93,
   "metadata": {
    "scrolled": true
   },
   "outputs": [
    {
     "name": "stdout",
     "output_type": "stream",
     "text": [
      "X42QS\n",
      "J55\n",
      "К60-3\n",
      "L80SS\n",
      "К52-1\n",
      "C90 \n",
      "Т\n",
      "P110\n",
      "C 95 \n",
      "Д\n",
      "К50-1\n",
      "K55\n",
      "Е\n",
      "Кс\n",
      "К52\n",
      "К54-3\n",
      "N80 тип Q\n",
      "М\n",
      "P110 т13Cr\n",
      "К\n",
      "Лх\n",
      "К55-3\n",
      "Ехл\n",
      "К48/3\n",
      "К48\n",
      "N80 тип 1\n",
      "nan\n",
      "L80тип13Cr\n",
      "L80 тип 1\n",
      "Л\n",
      "L415\n",
      "Р\n",
      "C90 тип 1\n",
      "К72\n",
      "Т95 тип1  \n",
      "R95 \n",
      "К42/3\n",
      "L290Q\n"
     ]
    }
   ],
   "source": [
    "# df_sheet = []\n",
    "# k=-0\n",
    "unique_gr_pr = set()\n",
    "for name, df_l in df_dicts:\n",
    "    for key in df_l:\n",
    "        df_sheet = df_l[key]\n",
    "        try:\n",
    "            for i in df_sheet[u'Гр. прочн.'].values:\n",
    "                if i==u'К50/1': i=u'К50-1'\n",
    "                if i==u'К52/1': i=u'К52-1'\n",
    "                if i==u'L80 Тип 1': i=u'L80 тип 1'\n",
    "                unique_gr_pr.add(i)\n",
    "        except:\n",
    "            continue\n",
    "unique_gr_pr = [x for x in unique_gr_pr if x==x]\n",
    "for i in list(unique_gr_pr):\n",
    "    print( i)\n",
    "# print k"
   ]
  }
 ],
 "metadata": {
  "kernelspec": {
   "display_name": "Python 3",
   "language": "python",
   "name": "python3"
  },
  "language_info": {
   "codemirror_mode": {
    "name": "ipython",
    "version": 3
   },
   "file_extension": ".py",
   "mimetype": "text/x-python",
   "name": "python",
   "nbconvert_exporter": "python",
   "pygments_lexer": "ipython3",
   "version": "3.6.3"
  }
 },
 "nbformat": 4,
 "nbformat_minor": 2
}
