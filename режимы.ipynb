{
 "cells": [
  {
   "cell_type": "code",
   "execution_count": null,
   "metadata": {
    "collapsed": true
   },
   "outputs": [],
   "source": [
    "import pandas as pd\n",
    "import numpy as np\n",
    "import warnings\n",
    "import re\n",
    "import os\n",
    "warnings.filterwarnings(\"ignore\")\n",
    "pd.options.display.max_columns = 50\n",
    "pd.options.display.max_rows = 1000"
   ]
  },
  {
   "cell_type": "code",
   "execution_count": null,
   "metadata": {},
   "outputs": [],
   "source": [
    "# подгрузка всех файлов без modes2017\n",
    "dr = 'modes'\n",
    "file_names = os.listdir(dr)\n",
    "\n",
    "# файлы для валидации в словарь (пока что один файл)\n",
    "valid_files = dict()\n",
    "valid_files[file_names[0]] = pd.read_excel(dr+'\\\\'+file_names[0],skiprows=1)\n",
    "print('validation:', file_names[0])\n",
    "\n",
    "# файлы для обучения в словарь \n",
    "print('train:')\n",
    "mode_files = dict()\n",
    "for name in file_names[1:]:\n",
    "    mode_files[name] = pd.read_excel(dr+'\\\\'+name,skiprows=1)\n",
    "    print(name)"
   ]
  },
  {
   "cell_type": "code",
   "execution_count": null,
   "metadata": {
    "collapsed": true,
    "scrolled": true
   },
   "outputs": [],
   "source": [
    "# Удаление лишнего столбца с комментариями из файла\n",
    "del mode_files['сводная 2014_v2.xls']['Unnamed: 42']"
   ]
  },
  {
   "cell_type": "code",
   "execution_count": null,
   "metadata": {
    "scrolled": true
   },
   "outputs": [],
   "source": [
    "# Сохраняем столбец с номером партии в переменную batch_number_list \n",
    "def rep_part(ls):\n",
    "    \"\"\"Удаляет .0 в номере партии и возвращает список без него\"\"\"\n",
    "    for x in ls:\n",
    "        x = str(x)\n",
    "        x = x.replace('.0', '')\n",
    "    return ls\n",
    "\n",
    "\n",
    "def gen_batch_number_list(files_dict):\n",
    "    \"\"\"Создает список номеров партий из правой части таблицы\n",
    "\n",
    "    Keyword arguments:\n",
    "    files_dict -- словарь датафреймов, из которых брать номера партий (ключ в словаре - нназвание файла)\n",
    "    \n",
    "    Возвращает: list номеров партий\n",
    "    \"\"\"\n",
    "    batch_number_list = []\n",
    "    for mode in files_dict.values():\n",
    "        for x in mode['№ партии.1']:\n",
    "            batch_number_list.append(str(x).replace('.0', ''))\n",
    "\n",
    "    batch_number_list = rep_part(batch_number_list)\n",
    "    print(len(batch_number_list))\n",
    "    return batch_number_list\n",
    "     \n",
    "batch_number_list = gen_batch_number_list(mode_files)\n",
    "valid_batch_number_list = gen_batch_number_list(valid_files)"
   ]
  },
  {
   "cell_type": "code",
   "execution_count": null,
   "metadata": {
    "scrolled": false
   },
   "outputs": [],
   "source": [
    "# выводим размерности всех файлов\n",
    "print('train:')\n",
    "for i in mode_files.values():\n",
    "    print(i.shape)\n",
    "print('validation:')\n",
    "for i in valid_files.values():\n",
    "    print(i.shape)"
   ]
  },
  {
   "cell_type": "code",
   "execution_count": null,
   "metadata": {
    "collapsed": true,
    "scrolled": true
   },
   "outputs": [],
   "source": [
    "# Сохраняем заголовки\n",
    "header = mode_files['сводка 1 и 2 квартал 2017_v2.xls'].columns\n",
    "val_header = valid_files['Копия сводка январь 2018.xls'].columns\n",
    "\n",
    "def clean_dict(files_dict):\n",
    "    \"\"\"Убирает заголовки у датафреймов из словаря, удаляет лишние столбцы\n",
    "\n",
    "    Keyword arguments:\n",
    "    files_dict -- словарь файлов (ключ в словаре - нназвание файла)\n",
    "    \n",
    "    Возвращает: list номеров партий\n",
    "    \"\"\"\n",
    "    # убираем заголовки\n",
    "    tmp = dict()\n",
    "    for name, mode in zip(files_dict.keys(), files_dict.values()):\n",
    "        mode.columns = range(mode.shape[1])\n",
    "        tmp[name] = mode\n",
    "    files_dict = tmp\n",
    "    # убираем последние пять столбцов из всех таблиц\n",
    "    for mode in files_dict.values():\n",
    "        mode.drop(mode.columns[-5:], axis=1, inplace=True)\n",
    "    return files_dict\n",
    "    \n",
    "mode_files = clean_dict(mode_files)\n",
    "valid_files = clean_dict(valid_files)"
   ]
  },
  {
   "cell_type": "code",
   "execution_count": null,
   "metadata": {
    "scrolled": false
   },
   "outputs": [],
   "source": [
    "df_modes = pd.DataFrame()\n",
    "# слияние всех режимов\n",
    "for df in mode_files.values():\n",
    "    df_modes = pd.concat([df_modes,df])\n",
    "# Сбрасываем индекс, чтобы не было повторяющихся\n",
    "df_modes.reset_index(drop=True, inplace=True)\n",
    "print(df_modes.shape)\n",
    "\n",
    "df_valid = valid_files['Копия сводка январь 2018.xls']\n",
    "df_valid.shape"
   ]
  },
  {
   "cell_type": "code",
   "execution_count": null,
   "metadata": {},
   "outputs": [],
   "source": [
    "# Возвращаем заголовки и номера партий, удаляем партии без номеров\n",
    "def return_headers(df, headers_list, batch_list):\n",
    "    df.columns = headers_list[:len(df.columns)]\n",
    "    df['№ партии'] = batch_list\n",
    "    df = df[df['№ партии'] != 'nan']\n",
    "    print(df.shape)\n",
    "    return df\n",
    "\n",
    "df_modes = return_headers(df_modes, header, batch_number_list)\n",
    "df_valid = return_headers(df_valid, val_header, valid_batch_number_list)"
   ]
  },
  {
   "cell_type": "code",
   "execution_count": null,
   "metadata": {
    "collapsed": true,
    "scrolled": true
   },
   "outputs": [],
   "source": [
    "# исходная таблица без пакетов\n",
    "df_modes = df_modes.drop(['№ пакета'], axis=1)\n",
    "df_valid = df_valid.drop(['№ пакета'], axis=1)"
   ]
  },
  {
   "cell_type": "code",
   "execution_count": null,
   "metadata": {},
   "outputs": [],
   "source": [
    "# Удаляем партии без номера плавки\n",
    "df_modes = df_modes[df_modes['плавка'] != 'nan']\n",
    "print(df_modes.shape)\n",
    "df_valid = df_valid[df_valid['плавка'] != 'nan']\n",
    "df_valid.shape"
   ]
  },
  {
   "cell_type": "code",
   "execution_count": null,
   "metadata": {},
   "outputs": [],
   "source": [
    "# Удаляем строки со сбитым заполнением \n",
    "str_to_del = [3.75, 4.7, 4.18, 4.85, 4.78, 4.56, 3.71, 4.7, 4.63, 4.65, 4.52, 1.57, 3.87, 3.89, 2.5, 1.91, 2.98, \n",
    "                  4.6, 4.71, 2.36, 4.39, 4.68, 1.82, 2.74, 2.81, 3.61]\n",
    "\n",
    "for i in str_to_del:\n",
    "    df_modes = df_modes[df_modes['НД (гост, ту)'] != i]\n",
    "\n",
    "df_modes.shape"
   ]
  },
  {
   "cell_type": "code",
   "execution_count": null,
   "metadata": {},
   "outputs": [],
   "source": [
    "# Разносим шаг на закалочной и отпускной печах в разные столбцы и очищаем их\n",
    "def clean_steps(x):\n",
    "    x = str(x)\n",
    "    x = x.replace(u'X', '/')\n",
    "    x = x.replace(u'x', '/')\n",
    "    x = x.replace(u'Х', '/')\n",
    "    x = x.replace(u'х', '/')\n",
    "    x = x.replace(',', '.')\n",
    "    x = x.replace('\\\\', '/')\n",
    "    x = x.replace('/-', '/0')\n",
    "    x = x.replace('-/', '0/')\n",
    "    x = x.replace('***', '0')\n",
    "    x = x.replace('*', '0')\n",
    "    x = x.replace('-', '/')\n",
    "    x = x.replace('nan', '')\n",
    "    return x\n",
    "\n",
    "def convert_step0(x):\n",
    "    return clean_steps(x).split('/')[0]\n",
    "   \n",
    "def convert_step1(x):\n",
    "    try:\n",
    "        return clean_steps(x).split('/')[1]\n",
    "    except:\n",
    "        return x\n",
    "\n",
    "# df_modes = df_modes[df_modes[u'шаг балок закалочная/отпускная печи, сек']!='***']\n",
    "df_modes[u'шаг балок закалочная печь, сек'] = df_modes[u'шаг балок закалочная/отпускная печи, сек'].apply(convert_step0)\n",
    "df_modes[u'шаг балок отпускная печь, сек'] = df_modes[u'шаг балок закалочная/отпускная печи, сек'].apply(convert_step1)\n",
    "\n",
    "df_valid[u'шаг балок закалочная печь, сек'] = df_valid[u'шаг балок закалочная/отпускная печи, сек'].apply(convert_step0)\n",
    "df_valid[u'шаг балок отпускная печь, сек'] = df_valid[u'шаг балок закалочная/отпускная печи, сек'].apply(convert_step1)\n",
    "print(df_modes.shape, df_valid.shape)"
   ]
  },
  {
   "cell_type": "code",
   "execution_count": null,
   "metadata": {
    "collapsed": true,
    "scrolled": true
   },
   "outputs": [],
   "source": [
    "# Разделяем диаметр и толщину стенки и чистим их\n",
    "def split_d(x):\n",
    "    x = str(x)\n",
    "    x = x.replace(',', '.')\n",
    "    return re.split('х|Х|x|X', x)[0]\n",
    "\n",
    "def split_s(x):\n",
    "    x = str(x)\n",
    "    x = x.replace(',', '.')\n",
    "    try:\n",
    "        return re.split('х|Х|x|X', x)[1]\n",
    "    except:\n",
    "        return x\n",
    "    \n",
    "def clean_d_s(x):\n",
    "    x = str(x)\n",
    "    x = x.replace('п', '')\n",
    "    x = x.replace('П', '')\n",
    "    x = x.replace('nan', '')\n",
    "    x = x.replace(',', '.')\n",
    "    return x\n",
    "\n",
    "df_modes['диаметр'] = df_modes[u'D/S'].apply(split_d)\n",
    "df_modes['толщина стенки'] = df_modes[u'D/S'].apply(split_s)\n",
    "df_modes['толщина стенки'] = df_modes['толщина стенки'].apply(clean_d_s)\n",
    "df_modes['толщина стенки'] = df_modes['толщина стенки'].apply(lambda x: x.replace('107.95', ''))\n",
    "df_modes['диаметр'] = df_modes['диаметр'].apply(clean_d_s)\n",
    "\n",
    "df_valid['диаметр'] = df_valid[u'D/S'].apply(split_d)\n",
    "df_valid['толщина стенки'] = df_valid[u'D/S'].apply(split_s)\n",
    "df_valid['толщина стенки'] = df_valid['толщина стенки'].apply(clean_d_s)\n",
    "df_valid['толщина стенки'] = df_valid['толщина стенки'].apply(lambda x: x.replace('107.95', ''))\n",
    "df_valid['диаметр'] = df_valid['диаметр'].apply(clean_d_s)"
   ]
  },
  {
   "cell_type": "code",
   "execution_count": null,
   "metadata": {},
   "outputs": [],
   "source": [
    "# Чистим Скорость прохождения трубы через спрейер, м/с\n",
    "def clean_u_sp(x):\n",
    "    x = str(x)\n",
    "    x = x.replace(u'сек', '')\n",
    "    x = x.replace(u'ек', '')\n",
    "    x = x.replace(u'\\мс', '')\n",
    "    x = x.replace(u'm/c', '')\n",
    "    x = x.replace(u'М/С', '')\n",
    "    x = x.replace(u'М\\С', '')\n",
    "    x = x.replace(u'nan', '')\n",
    "    x = x.replace(u'м/с', '')\n",
    "    x = x.replace(u'м\\с', '')\n",
    "    x = x.replace(u',', u'.')\n",
    "    x = x.replace(u'м\\\\', '')\n",
    "    x = x.replace(u'м/', '')\n",
    "    x = x.replace(u'*****', u'')\n",
    "    x = x.replace(u'****', u'')\n",
    "    x = x.replace(u'***', u'')\n",
    "    x = x.replace(u'29.03.2017', u'')\n",
    "    x = x.replace(',','.')\n",
    "    x = x.replace('041','0.41')\n",
    "    x = x.replace('НЕТ','')\n",
    "    x = x.replace('нет','')  \n",
    "    x = x.replace('м','')\n",
    "    x = x.replace('021', '0.21')\n",
    "    x = x.replace('1.8', '0.18')\n",
    "    x = x.replace('2.0', '0.2')\n",
    "    x = x.replace('012', '0.12')\n",
    "    if x == '45':\n",
    "        return '0.45'\n",
    "    if x == '064':\n",
    "        return '0.64'\n",
    "    x = x.replace(u'0.7.', '0.7')\n",
    "    try:\n",
    "        y = x.split('-')\n",
    "        x = (float(y[0])+float(y[1]))/2\n",
    "    except:\n",
    "        pass\n",
    "    return x\n",
    "    \n",
    "col = 'Скорость прохождения трубы через спрейер, м/с' \n",
    "df_modes[col] = df_modes[col].apply(clean_u_sp)\n",
    "df_valid[col] = df_valid[col].apply(clean_u_sp)\n",
    "print(df_modes.shape, df_valid.shape)"
   ]
  },
  {
   "cell_type": "code",
   "execution_count": null,
   "metadata": {
    "collapsed": true
   },
   "outputs": [],
   "source": [
    "# Чистим время выдержки в закалочной ванне, сек.\n",
    "def clean_time_bath(x):\n",
    "    x = str(x)\n",
    "    x = x.replace(u'сек', '')\n",
    "    x = x.replace(u' ', '')\n",
    "    x = x.replace(u'.', '')\n",
    "    return x\n",
    "col = u'время выдержки в закалочной ванне, сек.'\n",
    "df_modes[col] = df_modes[col].apply(clean_time_bath)\n",
    "df_valid[col] = df_valid[col].apply(clean_time_bath)"
   ]
  },
  {
   "cell_type": "code",
   "execution_count": null,
   "metadata": {},
   "outputs": [],
   "source": [
    "# Удаляем лишнии столбцы из датафрейма\n",
    "l2del_modes = [\n",
    "    'Дата термообработки', u'время начала т/о',u'D/S',u'шаг балок закалочная/отпускная печи, сек', u'плавка',\n",
    "      '2 зона уставка закалка', '2 зона фактическая температура закалка', '2 зона фактическая температура отпуск', \n",
    "      '4 зона фактическая температура отпуск', 'кол-во, шт.'\n",
    "]\n",
    "\n",
    "l2del_valid =[\n",
    "    'Дата термообработки', u'время начала т/о',u'D/S',u'шаг балок закалочная/отпускная печи, сек', u'плавка', 'кол-во, шт.', \n",
    "    'масса\\nтн']\n",
    "\n",
    "def del_cols_df(df, l2del):\n",
    "    df[u'№ плавки'] = df[u'плавка']\n",
    "    df = df.drop(l2del, axis = 1)\n",
    "    return df\n",
    "\n",
    "df_modes = del_cols_df(df_modes, l2del_modes)\n",
    "df_valid = del_cols_df(df_valid, l2del_valid)\n",
    "print(df_modes.shape, df_valid.shape)"
   ]
  },
  {
   "cell_type": "code",
   "execution_count": null,
   "metadata": {
    "collapsed": true
   },
   "outputs": [],
   "source": [
    "# Объединение марок стали\n",
    "def rep_steel(x):\n",
    "    x = str(x)\n",
    "    x = x.replace('092ГС','09Г2С')\n",
    "    x = x.replace('13 ХФА','13ХФА')\n",
    "    x = x.replace('13хфа','13ХФА')\n",
    "    x = x.replace('13ХФА ','13ХФА')\n",
    "    x = x.replace('13хфа-3','13ХФА-3')\n",
    "    x = x.replace('15Х13H2MБ','15Х13H2МБ')\n",
    "    x = x.replace('15х5мфбч','15Х5МФБЧ')\n",
    "    x = x.replace('18х3мфб','18Х3МФБ')\n",
    "    x = x.replace('18Х3МФБ ','18Х3МФБ')\n",
    "    x = x.replace('18х3ХМФБ','18Х3МФБ')\n",
    "    x = x.replace('18хзмфб','18Х3МФБ')\n",
    "    x = x.replace('18хмфб','18ХМФБ')\n",
    "    x = x.replace('18ХМФБ ','18ХМФБ')\n",
    "    x = x.replace('20А простая','20А-пр')\n",
    "    x = x.replace('20А-ПР','20А-пр')\n",
    "    x = x.replace('20 А','20А')    \n",
    "    x = x.replace('20A','20А') \n",
    "    x = x.replace('20А ','20А')\n",
    "    x = x.replace('20 АУ','20А-У')\n",
    "    x = x.replace('20АУ','20А-У')\n",
    "    x = x.replace('30Г2 ','30Г2')\n",
    "    x = x.replace('30Г2.','30Г2')\n",
    "    x = x.replace('30г2-2','30Г2-2')\n",
    "    x = x.replace('30г2ф','30Г2Ф')\n",
    "    x = x.replace('30г2','30Г2')\n",
    "    x = x.replace('30хгма','30ХГМА')\n",
    "    x = x.replace('30ХГМА1','30ХГМА-1')\n",
    "    x = x.replace('30хма','30ХМА')\n",
    "    x = x.replace('32г1','32Г1')\n",
    "    x = x.replace('32г2','32Г2')\n",
    "    x = x.replace('32х1мф-1','32Х1МФ-1')\n",
    "    x = x.replace('32ха','32ХА')\n",
    "    x = x.replace('37г2ф','37Г2Ф')\n",
    "    x = x.replace('37г2Ф','37Г2Ф')\n",
    "    x = x.replace('37Г2ф','37Г2Ф')\n",
    "    x = x.replace('37Г2Ф ','37Г2Ф')\n",
    "    x = x.replace('38Г2С ','38Г2С')\n",
    "    x = x.replace('38г2с-4','38Г2С-4')\n",
    "    x = x.replace('38Г2-С-9','38Г2С-9')\n",
    "    x = x.replace('30Г2 ', '30Г2')\n",
    "    return x\n",
    "\n",
    "df_modes['марка стали'] = df_modes['марка стали'].apply(rep_steel)\n",
    "df_valid['марка стали'] = df_valid['марка стали'].apply(rep_steel)"
   ]
  },
  {
   "cell_type": "code",
   "execution_count": null,
   "metadata": {
    "collapsed": true
   },
   "outputs": [],
   "source": [
    "ls_vtr = [\n",
    "    '1 зона по ВТР закалка',\n",
    "    '2 зона по ВТР закалка',\n",
    "    '3 зона по ВТР закалка',\n",
    "    '1 зона ВТР и уставка отпуск',\n",
    "    '2 зона ВТР и уставка отпуск',\n",
    "    '4 зона ВТР и уставка отпуск'\n",
    "]\n",
    "# Очистка всех столбцов с температурами по втр \n",
    "def clean_vtr(x):\n",
    "    x = str(x)\n",
    "    x = x.replace('*****','')\n",
    "    x = x.replace('****','')\n",
    "    x = x.replace('***','')\n",
    "    x = x.replace('-','')\n",
    "    x = x.replace('50/*','')\n",
    "    x = x.replace('нет','')\n",
    "    x = x.replace('НЕТ','')\n",
    "    x = x.replace('н/д','')\n",
    "    return x\n",
    "\n",
    "\n",
    "def clean_all(df, ls, apply_f):\n",
    "    \"\"\"Применяет к столбцам из списка ls датафрейма df метод apply_f\"\"\"\n",
    "    for col in ls:\n",
    "        df[col] = df[col].apply(apply_f)\n",
    "    return df\n",
    "\n",
    "df_modes = clean_all(df_modes, ls_vtr, clean_vtr)\n",
    "df_valid = clean_all(df_valid, ls_vtr, clean_vtr)\n",
    "# df_modes['1 зона по ВТР закалка'] = df_modes['1 зона по ВТР закалка'].apply(clean_vtr)\n",
    "# df_modes['2 зона по ВТР закалка'] = df_modes['2 зона по ВТР закалка'].apply(clean_vtr)\n",
    "# df_modes['3 зона по ВТР закалка'] = df_modes['3 зона по ВТР закалка'].apply(clean_vtr)\n",
    "# df_modes['1 зона ВТР и уставка отпуск'] = df_modes['1 зона ВТР и уставка отпуск'].apply(clean_vtr)\n",
    "# df_modes['2 зона ВТР и уставка отпуск'] = df_modes['2 зона ВТР и уставка отпуск'].apply(clean_vtr)\n",
    "# df_modes['4 зона ВТР и уставка отпуск'] = df_modes['4 зона ВТР и уставка отпуск'].apply(clean_vtr)"
   ]
  },
  {
   "cell_type": "code",
   "execution_count": null,
   "metadata": {
    "collapsed": true
   },
   "outputs": [],
   "source": [
    "ls_nd = [\n",
    "    '3 зона ВТР и уставка отпуск',\n",
    "    '5 зона ВТР и уставка отпуск',\n",
    "    '1 зона уставка закалка',\n",
    "    '1 зона фактическая температура закалка',\n",
    "    '3 зона уставка закалка',\n",
    "    '3 зона фактическая температура закалка',\n",
    "    'Температура трубы на выгрузке из печи закалки',\n",
    "    'Расход воды на закалочный спрейер, м3',\n",
    "    't˚ C воды в закалочной ванне',\n",
    "    '1 зона фактическая температура отпуск',\n",
    "    '3 зона фактическая температура отпуск',\n",
    "    '5 зона фактическая температура отпуск',\n",
    "    'Температура трубы на выгрузке из печи отпуска'\n",
    "]\n",
    "# Чистим столбцы от н/д\n",
    "def rep_nd(x):\n",
    "    x = str(x)\n",
    "    x = x.replace('н/д','')\n",
    "    x = x.replace('.0', '')\n",
    "    x = x.replace('НЕТ', '')\n",
    "    x = x.replace('***', '')\n",
    "#     x = x.replace('охлаждение','')\n",
    "    return x\n",
    "\n",
    "df_modes = clean_all(df_modes, ls_nd, rep_nd)\n",
    "df_valid = clean_all(df_valid, ls_nd[:-11], rep_nd)\n",
    "# df_modes['1 зона уставка закалка'] = df_modes['1 зона уставка закалка'].apply(rep_nd)\n",
    "# df_modes['1 зона фактическая температура закалка'] = df_modes['1 зона фактическая температура закалка'].apply(rep_nd)\n",
    "# df_modes['3 зона уставка закалка'] = df_modes['3 зона уставка закалка'].apply(rep_nd)\n",
    "# df_modes['3 зона фактическая температура закалка'] = df_modes['3 зона фактическая температура закалка'].apply(rep_nd)\n",
    "# df_modes['Температура трубы на выгрузке из печи закалки'] = df_modes['Температура трубы на выгрузке из печи закалки'].apply(rep_nd)\n",
    "# df_modes['Расход воды на закалочный спрейер, м3'] = df_modes['Расход воды на закалочный спрейер, м3'].apply(rep_nd)\n",
    "# df_modes['t˚ C воды в закалочной ванне'] = df_modes['t˚ C воды в закалочной ванне'].apply(rep_nd)\n",
    "# df_modes['1 зона фактическая температура отпуск'] = df_modes['1 зона фактическая температура отпуск'].apply(rep_nd)\n",
    "# df_modes['3 зона ВТР и уставка отпуск'] = df_modes['3 зона ВТР и уставка отпуск'].apply(rep_nd)\n",
    "# df_modes['3 зона фактическая температура отпуск'] = df_modes['3 зона фактическая температура отпуск'].apply(rep_nd)\n",
    "# df_modes['5 зона ВТР и уставка отпуск'] = df_modes['5 зона ВТР и уставка отпуск'].apply(rep_nd)\n",
    "# df_modes['5 зона фактическая температура отпуск'] = df_modes['5 зона фактическая температура отпуск'].apply(rep_nd)\n",
    "# df_modes['Температура трубы на выгрузке из печи отпуска'] = df_modes['Температура трубы на выгрузке из печи отпуска'].apply(rep_nd)"
   ]
  },
  {
   "cell_type": "code",
   "execution_count": null,
   "metadata": {
    "collapsed": true
   },
   "outputs": [],
   "source": [
    "# Чистим время выдержки в закалочной ванне, сек.\n",
    "def rep_time(x):\n",
    "    x = str(x)\n",
    "    x = x.replace('nan','')\n",
    "    x = x.replace('НЕТ','')\n",
    "    x = x.replace('нет','')\n",
    "    x = x.replace('НОРМ','')\n",
    "    x = x.replace('****','')\n",
    "    x = x.replace('***','')\n",
    "    x = x.replace('40-50','45')\n",
    "    x = x.replace('сек','')\n",
    "    x = x.replace('с','')\n",
    "    x = x.replace(',','.')\n",
    "    x = x.replace('11cек', '')\n",
    "    return x\n",
    "\n",
    "\n",
    "col ='время выдержки в закалочной ванне, сек.'\n",
    "df_modes[col] = df_modes[col].apply(rep_time)\n",
    "df_valid[col] = df_valid[col].apply(rep_time)"
   ]
  },
  {
   "cell_type": "code",
   "execution_count": null,
   "metadata": {
    "collapsed": true
   },
   "outputs": [],
   "source": [
    "def rep_tempr(x):\n",
    "    x = str(x)\n",
    "    x = x.replace('******','')\n",
    "    x = x.replace('*****','')\n",
    "    x = x.replace('****','')\n",
    "    x = x.replace('***','')\n",
    "    x = x.replace('НОРМ-ИЯ', '')\n",
    "    x = x.replace('норм-ция', '')\n",
    "    x = x.replace('\\\\','/')\n",
    "    x = x.replace('-','/')\n",
    "    x = x.replace('<', '')\n",
    "    x = x.replace('>', '')\n",
    "    x = x.replace('Доотпуск', 'доотпуск')\n",
    "    x = x.replace('до', '')\n",
    "    x = x.replace('Бизнес Тренд', '')\n",
    "    x = x.replace('БизнесТренд', '')\n",
    "    x = x.replace('ВОЗДУХ', '')\n",
    "    x = x.replace('Воздух', '')\n",
    "    x = x.replace('воэдух', '')\n",
    "    x = x.replace('высадка', '')\n",
    "    x = x.replace('закалка', '')\n",
    "    x = x.replace('НЕТ', '')\n",
    "    x = x.replace('нет', '')\n",
    "    x = x.replace('НЕТ', '') \n",
    "    x = x.replace('нет', '')\n",
    "    x = x.replace('НОРМ', '')\n",
    "    x = x.replace('нормализ.', '')\n",
    "    x = x.replace('нормализация', '')\n",
    "    x = x.replace('воздух', '')\n",
    "    x = x.replace('61702', '')\n",
    "    x = x.replace('опытные.','')\n",
    "    x = x.replace('на е','')\n",
    "    x = x.replace('норм/ия','')\n",
    "    x = x.replace(',','.')\n",
    "    y = x.split('/')\n",
    "    if len(y)==1:\n",
    "        return x\n",
    "    fl = True\n",
    "    tmpy= []\n",
    "    for i in y:\n",
    "        if len(i) == 4:\n",
    "            y.append(i[0:2])\n",
    "            y.append(i[2:4])\n",
    "            y.remove(i)\n",
    "    for i in y:\n",
    "        try:\n",
    "            tmpy.append(float(i))\n",
    "        except:\n",
    "            tmpy.append(i)\n",
    "            fl = False\n",
    "    if(fl):\n",
    "        y = tmpy   \n",
    "        x = np.mean(y)\n",
    "    if x=='0':\n",
    "        x=''\n",
    "    return x\n",
    "\n",
    "\n",
    "def clean_and_tofloat(df, ls, apply_f_ls):\n",
    "    for col, apply_f in zip(ls,apply_f_ls):\n",
    "        df[col] = df[col].apply(apply_f)\n",
    "    df.drop(df[df[col]=='отпуск'].index, inplace = True, axis = 0)\n",
    "    df[col] = df[col].apply(\n",
    "                lambda y: str(y) if (y!='nan')&(y!='')&(y!=None)&(y!=' ') else None).astype(float)\n",
    "    return df\n",
    "\n",
    "col = 't˚ C трубы после спреера'\n",
    "df_modes = clean_and_tofloat(df_modes, [col], [rep_tempr])\n",
    "df_valid = clean_and_tofloat(df_valid, [col], [rep_tempr])\n",
    "# df_modes[col] = df_modes[col].apply(rep_tempr)\n",
    "# df_modes.drop(df_modes[df_modes[col]=='отпуск'].index, inplace = True, axis = 0)\n",
    "# df_modes[col] = df_modes[col].apply(\n",
    "#                 lambda y: str(y) if (y!='nan')&(y!='')&(y!=None)&(y!=' ') else None).astype(float)"
   ]
  },
  {
   "cell_type": "code",
   "execution_count": null,
   "metadata": {
    "collapsed": true
   },
   "outputs": [],
   "source": [
    "def rep_tempr_bath(x):\n",
    "    x = str(x)\n",
    "    x = x.replace('Бизнес Тренд', '')\n",
    "    x = x.replace('бизнес тренд', '')\n",
    "    x = x.replace('высадка.', '')\n",
    "    x = x.replace('высадка', '')\n",
    "    x = x.replace('ВЫСАДКА', '')\n",
    "    x = x.replace('Высадка', '')\n",
    "    x = x.replace('высадка', '') \n",
    "    x = x.replace('доотпуск.', 'отпуск')\n",
    "    x = x.replace('доотпуск', 'отпуск')\n",
    "    x = x.replace('Доотпуск', 'отпуск')\n",
    "    x = x.replace('отпуск.', 'отпуск')\n",
    "    x = x.replace('на отпуск', 'отпуск')\n",
    "    x = x.replace('в малахи', '')\n",
    "    x = x.replace('ДООТПУСК', 'отпуск')\n",
    "    x = x.replace('НЕТ', '')\n",
    "    x = x.replace('нет', '')\n",
    "    x = x.replace('НЕТ', '') \n",
    "    x = x.replace('НК 8500', '')\n",
    "    x = x.replace('НК 9000', '')\n",
    "    x = x.replace('нормализ.', '')\n",
    "    x = x.replace('нормализация', '')\n",
    "    x = x.replace('нормал-ция', '')\n",
    "    x = x.replace('НОРМ-ИЯ', '')\n",
    "    x = x.replace('норм-ция.', '')\n",
    "    x = x.replace('норм-ция', '')\n",
    "    x = x.replace('нор-ция', '')\n",
    "    x = x.replace('нор/ция', '')\n",
    "    x = x.replace('опытные.', '')\n",
    "    x = x.replace('ОПЫТНЫЕ', '')\n",
    "    x = x.replace('повторная', '')\n",
    "    x = x.replace('повтор', '')\n",
    "    x = x.replace('ПОВТОР', '')\n",
    "    x = x.replace('Самара', '')\n",
    "    x = x.replace('СИТЦ', '')\n",
    "    x = x.replace('Трэнд', '')\n",
    "    x = x.replace('ЧПТЗ', '')\n",
    "    x = x.replace('ЧТПЗ', '')\n",
    "    x = x.replace('30 СЕК.', '30')\n",
    "    x = x.replace('2/я зак/ка', '')\n",
    "    x = x.replace('ТРЕНД', '')\n",
    "    x = x.replace('ПЛ.Р. Ц42/№10','')\n",
    "    x = x.replace('Челябинск','')\n",
    "    x = x.replace('нормал/ция', '')\n",
    "    if x=='0':\n",
    "        x=''\n",
    "    if x=='.':\n",
    "        x=''\n",
    "    return x\n",
    "\n",
    "col = 't˚ C трубы после ванны'\n",
    "df_modes = clean_and_tofloat(df_modes, [col, col], [rep_tempr, rep_tempr_bath])\n",
    "df_valid = clean_and_tofloat(df_valid, [col, col], [rep_tempr, rep_tempr_bath])\n",
    "# df_modes[col] = df_modes[col].apply(rep_tempr)\n",
    "# df_modes[col] = df_modes[col].apply(rep_tempr_bath)\n",
    "# df_modes.drop(df_modes[df_modes[col]=='отпуск'].index, inplace = True, axis = 0)\n",
    "# df_modes[col] = df_modes[col].apply(\n",
    "#                 lambda y: str(y) if (y!='nan')&(y!='')&(y!=None)&(y!=' ') else None).astype(float)\n",
    "# df_modes[col].to_excel('check_col.xlsx')"
   ]
  },
  {
   "cell_type": "code",
   "execution_count": null,
   "metadata": {},
   "outputs": [],
   "source": [
    "print(df_modes.shape, df_valid.shape)"
   ]
  },
  {
   "cell_type": "code",
   "execution_count": null,
   "metadata": {},
   "outputs": [],
   "source": [
    "df_modes.drop(df_modes[df_modes['шаг балок закалочная печь, сек'] == '0'].index, inplace=True, axis=0)\n",
    "df_modes.drop(df_modes[df_modes['шаг балок отпускная печь, сек'] == '0'].index, inplace=True, axis=0)\n",
    "df_valid.drop(df_valid[df_valid['шаг балок закалочная печь, сек'] == '0'].index, inplace=True, axis=0)\n",
    "df_valid.drop(df_valid[df_valid['шаг балок отпускная печь, сек'] == '0'].index, inplace=True, axis=0)\n",
    "print(df_modes.shape, df_valid.shape)"
   ]
  },
  {
   "cell_type": "code",
   "execution_count": null,
   "metadata": {
    "collapsed": true
   },
   "outputs": [],
   "source": [
    "ls_mean_modes = df_modes.columns[3:-3]\n",
    "ls_mean_valid = df_valid.columns[3:-3]\n",
    "\n",
    "def get_mean(df, ls_mean):\n",
    "    \"\"\"Усредняет по [номеру плавки, партиям] и возвращает полученный датафрейм \"\"\"\n",
    "    for col in ls_mean:\n",
    "        if col in df:\n",
    "            df[col] = df.groupby(['№ плавки', '№ партии'])[col].transform(\n",
    "                lambda x: x.apply(\n",
    "                lambda y: str(y) if (y!='nan')&(y!='')&(y!=None)&(y!=' ') else None).astype(float).mean())\n",
    "    return df"
   ]
  },
  {
   "cell_type": "code",
   "execution_count": null,
   "metadata": {
    "collapsed": true
   },
   "outputs": [],
   "source": [
    "df_modes['№ партии'] = df_modes['№ партии'].astype(str).str.lower()\n",
    "df_modes['№ плавки'] = df_modes['№ плавки'].astype(str).str.lower()\n",
    "df_valid['№ партии'] = df_valid['№ партии'].astype(str).str.lower()\n",
    "df_valid['№ плавки'] = df_valid['№ плавки'].astype(str).str.lower()"
   ]
  },
  {
   "cell_type": "code",
   "execution_count": null,
   "metadata": {},
   "outputs": [],
   "source": [
    "print(df_modes.shape, df_valid.shape)\n",
    "print(df_modes['№ партии'].describe()[1])#количество уникальных значений по партии, итоговое должно быть чуть больше\n",
    "print(df_valid['№ партии'].describe()[1])#количество уникальных значений по партии, итоговое должно быть чуть больше"
   ]
  },
  {
   "cell_type": "code",
   "execution_count": null,
   "metadata": {
    "scrolled": true
   },
   "outputs": [],
   "source": [
    "# Усреднение по номеру плавки, партиям работает долго, ждем и пьем чаёк..\n",
    "tmp_modes = get_mean(df_modes, ls_mean_modes)\n",
    "tmp_modes.shape"
   ]
  },
  {
   "cell_type": "code",
   "execution_count": null,
   "metadata": {},
   "outputs": [],
   "source": [
    "# Усреднение по номеру плавки, партиям работает долго, ждем и пьем чаёк..\n",
    "tmp_valid = get_mean(df_valid, ls_mean_valid)\n",
    "tmp_valid.shape"
   ]
  },
  {
   "cell_type": "code",
   "execution_count": null,
   "metadata": {
    "collapsed": true
   },
   "outputs": [],
   "source": [
    "full_ls_modes = list(df_modes.columns)\n",
    "full_ls_modes = full_ls_modes[-1:]+full_ls_modes[0:-1]\n",
    "\n",
    "full_ls_valid = list(df_valid.columns)\n",
    "full_ls_valid = full_ls_valid[-1:]+full_ls_valid[0:-1]"
   ]
  },
  {
   "cell_type": "code",
   "execution_count": null,
   "metadata": {
    "scrolled": false
   },
   "outputs": [],
   "source": [
    "tmp_modes = tmp_modes[full_ls_modes]\n",
    "tmp_modes = tmp_modes.drop_duplicates()\n",
    "\n",
    "tmp_valid = tmp_valid[full_ls_valid]\n",
    "tmp_valid = tmp_valid.drop_duplicates()\n",
    "print(tmp_modes.shape, tmp_valid.shape)"
   ]
  },
  {
   "cell_type": "code",
   "execution_count": null,
   "metadata": {},
   "outputs": [],
   "source": [
    "tmp_modes['2 зона по ВТР закалка'] = tmp_modes['2 зона по ВТР закалка'].apply(lambda x: x*10 if x<100 else x)\n",
    "tmp_modes.shape"
   ]
  },
  {
   "cell_type": "code",
   "execution_count": null,
   "metadata": {},
   "outputs": [],
   "source": [
    "tmp_modes.to_excel('all_modes_clean_2.xlsx')\n",
    "tmp_valid.to_excel('valid_modes_clean.xlsx')"
   ]
  },
  {
   "cell_type": "code",
   "execution_count": null,
   "metadata": {},
   "outputs": [],
   "source": [
    "tmp_valid.shape"
   ]
  },
  {
   "cell_type": "code",
   "execution_count": null,
   "metadata": {},
   "outputs": [],
   "source": [
    "diff_header = list(set(tmp_modes.columns)-set(tmp_valid.columns))"
   ]
  },
  {
   "cell_type": "code",
   "execution_count": null,
   "metadata": {},
   "outputs": [],
   "source": [
    "def save_df_width_col(df, file_name, width=80):\n",
    "    \"\"\"Сохраняет датафрейм с широкой первой ячейкой \"\"\"\n",
    "    writer = pd.ExcelWriter(file_name, engine='xlsxwriter')\n",
    "    df.to_excel(writer)\n",
    "    sh = writer.sheets['Sheet1']\n",
    "    sh.set_column(1, 1,width)\n",
    "    writer.close()\n",
    "    \n",
    "save_df_width_col(pd.DataFrame({'columns': diff_header}), 'does_nt_exist_in_2018_cols.xlsx', 50)"
   ]
  }
 ],
 "metadata": {
  "kernelspec": {
   "display_name": "Python 3",
   "language": "python",
   "name": "python3"
  },
  "language_info": {
   "codemirror_mode": {
    "name": "ipython",
    "version": 3
   },
   "file_extension": ".py",
   "mimetype": "text/x-python",
   "name": "python",
   "nbconvert_exporter": "python",
   "pygments_lexer": "ipython3",
   "version": "3.6.4"
  }
 },
 "nbformat": 4,
 "nbformat_minor": 2
}
