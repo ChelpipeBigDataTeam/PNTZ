{
 "cells": [
  {
   "cell_type": "code",
   "execution_count": 29,
   "metadata": {
    "collapsed": true
   },
   "outputs": [],
   "source": [
    "import pandas as pd\n",
    "import numpy as np\n",
    "import re\n",
    "import os\n",
    "pd.options.display.max_columns = 50\n",
    "pd.options.display.max_rows = 1000"
   ]
  },
  {
   "cell_type": "code",
   "execution_count": 30,
   "metadata": {
    "collapsed": true
   },
   "outputs": [],
   "source": [
    "def get_dicts_of_mode_files(dir_name):\n",
    "    \"\"\"Возвращает словари файлов с режимами для обучения и для валидации\n",
    "\n",
    "    Keyword arguments:\n",
    "    dir_name -- путь к папке в которой лежат файлы с режимами\n",
    "    \n",
    "    Возвращает: два словаря датафреймов\n",
    "    \"\"\"\n",
    "    file_names_42 = os.listdir(dir_name+'/42')\n",
    "    file_names_28 = os.listdir(dir_name+'/28')\n",
    "    # файлы для валидации в словарь \n",
    "    valid_files = dict()\n",
    "    for name in file_names_28:\n",
    "        valid_files[name] = pd.read_excel(dir_name+'/28'+'\\\\'+name,skiprows=1)\n",
    "        \n",
    "    # файлы для обучения в словарь \n",
    "    mode_files = dict()\n",
    "    for name in file_names_42:\n",
    "        mode_files[name] = pd.read_excel(dir_name+'/42'+'\\\\'+name,skiprows=1)\n",
    "    # Удаление лишнего столбца с комментариями из файла\n",
    "    del mode_files['2014.xls']['Unnamed: 42']\n",
    "    return [mode_files, valid_files]"
   ]
  },
  {
   "cell_type": "code",
   "execution_count": 31,
   "metadata": {
    "collapsed": true
   },
   "outputs": [],
   "source": [
    "def rep_part(ls):\n",
    "    \"\"\"Удаляет .0 в номере партии и возвращает список без него\"\"\"\n",
    "    for x in ls:\n",
    "        x = str(x)\n",
    "        x = x.replace('.0', '')\n",
    "    return ls"
   ]
  },
  {
   "cell_type": "code",
   "execution_count": 32,
   "metadata": {
    "collapsed": true
   },
   "outputs": [],
   "source": [
    "def gen_batch_number_list(files_dict):\n",
    "    \"\"\"Создает список номеров партий из правой части таблицы\n",
    "\n",
    "    Keyword arguments:\n",
    "    files_dict -- словарь датафреймов, из которых брать номера партий (ключ в словаре - нназвание файла)\n",
    "    \n",
    "    Возвращает: list номеров партий\n",
    "    \"\"\"\n",
    "    batch_number_list = []\n",
    "    for mode in files_dict.values():\n",
    "        for x in mode['№ партии.1']:\n",
    "            batch_number_list.append(str(x).replace('.0', ''))\n",
    "\n",
    "    batch_number_list = rep_part(batch_number_list)\n",
    "    print(len(batch_number_list))\n",
    "    return batch_number_list"
   ]
  },
  {
   "cell_type": "code",
   "execution_count": 33,
   "metadata": {
    "collapsed": true
   },
   "outputs": [],
   "source": [
    "def print_file_sizes(mode_files, valid_files):\n",
    "    # выводим размерности всех файлов\n",
    "    print('train:')\n",
    "    for i in mode_files.values():\n",
    "        print(i.shape)\n",
    "    print('validation:')\n",
    "    for i in valid_files.values():\n",
    "        print(i.shape)"
   ]
  },
  {
   "cell_type": "code",
   "execution_count": 34,
   "metadata": {
    "collapsed": true
   },
   "outputs": [],
   "source": [
    "mode_files, valid_files = get_dicts_of_mode_files('DATA/source/modes')"
   ]
  },
  {
   "cell_type": "code",
   "execution_count": 35,
   "metadata": {
    "collapsed": true
   },
   "outputs": [],
   "source": [
    "# mode_files.shape, valid_files.shape"
   ]
  },
  {
   "cell_type": "code",
   "execution_count": 36,
   "metadata": {
    "collapsed": true
   },
   "outputs": [],
   "source": [
    "def clean_dict(files_dict):\n",
    "    \"\"\"Убирает заголовки у датафреймов из словаря, удаляет лишние столбцы\n",
    "\n",
    "    Keyword arguments:\n",
    "    files_dict -- словарь файлов (ключ в словаре - нназвание файла)\n",
    "    \n",
    "    Возвращает: list номеров партий\n",
    "    \"\"\"\n",
    "    # убираем заголовки\n",
    "    tmp = dict()\n",
    "    for name, mode in zip(files_dict.keys(), files_dict.values()):\n",
    "        tmp[name] = mode.copy()\n",
    "        tmp[name].columns = range(mode.shape[1])       \n",
    "   \n",
    "    return tmp"
   ]
  },
  {
   "cell_type": "code",
   "execution_count": 37,
   "metadata": {
    "collapsed": true
   },
   "outputs": [],
   "source": [
    "def return_headers(df, headers_list, batch_list):\n",
    "    \"\"\"Возвращаем заголовки и номера партий, удаляем партии без номеров\"\"\"\n",
    "    df.columns = headers_list[:len(df.columns)]\n",
    "    df['№ партии'] = batch_list\n",
    "    df = df[df['№ партии'] != 'nan']\n",
    "    print(df.shape)\n",
    "    return df"
   ]
  },
  {
   "cell_type": "code",
   "execution_count": 38,
   "metadata": {
    "collapsed": true
   },
   "outputs": [],
   "source": [
    "def get_df_modes(dict_modes, headers_file_name):\n",
    "    # Сохраняем столбец с номером партии в переменную batch_number_list \n",
    "    batch_number_list = gen_batch_number_list(dict_modes)\n",
    "    \n",
    "     # убираем последние пять столбцов из всех таблиц\n",
    "    for mode in dict_modes.values():\n",
    "        mode.drop(list(mode.columns[-5:-2])+[mode.columns[-1]], axis=1, inplace=True)\n",
    "    \n",
    "    # Сохраняем заголовки\n",
    "    header = dict_modes[headers_file_name].columns\n",
    "    # удаляем заголовки и лишние столбцы\n",
    "    dict_modes_tmp_copy = clean_dict(dict_modes)\n",
    "    df_modes = pd.DataFrame()\n",
    "    # слияние всех режимов\n",
    "    for df in dict_modes_tmp_copy.values():\n",
    "        df_modes = pd.concat([df_modes,df])\n",
    "    # Сбрасываем индекс, чтобы не было повторяющихся\n",
    "    df_modes.reset_index(drop=True, inplace=True)\n",
    "#     print(df_modes.shape)\n",
    "    # Возвращаем заголовки и номера партий, удаляем партии без номеров\n",
    "    df_modes = return_headers(df_modes, header, batch_number_list)\n",
    "#     print(df_modes.shape)\n",
    "    return df_modes"
   ]
  },
  {
   "cell_type": "code",
   "execution_count": 39,
   "metadata": {},
   "outputs": [
    {
     "name": "stdout",
     "output_type": "stream",
     "text": [
      "129559\n",
      "(129086, 38)\n",
      "8989\n",
      "(8958, 24)\n"
     ]
    }
   ],
   "source": [
    "headers_for_42_col_files = '2017_1и2кварталы.xls'\n",
    "df_modes = get_df_modes(mode_files, headers_for_42_col_files)\n",
    "\n",
    "headers_for_28_col_files = '2018_01.xls'\n",
    "df_valid = get_df_modes(valid_files, headers_for_28_col_files)"
   ]
  },
  {
   "cell_type": "code",
   "execution_count": 40,
   "metadata": {
    "collapsed": true
   },
   "outputs": [],
   "source": [
    "# df_modes.shape, df_valid.shape"
   ]
  },
  {
   "cell_type": "code",
   "execution_count": 41,
   "metadata": {
    "collapsed": true
   },
   "outputs": [],
   "source": [
    "# df_modes.columns, df_valid.columns"
   ]
  },
  {
   "cell_type": "code",
   "execution_count": 42,
   "metadata": {
    "collapsed": true,
    "scrolled": true
   },
   "outputs": [],
   "source": [
    "# исходная таблица без пакетов\n",
    "df_modes = df_modes.drop(['№ пакета'], axis=1)\n",
    "df_valid = df_valid.drop(['№ пакета'], axis=1)"
   ]
  },
  {
   "cell_type": "code",
   "execution_count": 43,
   "metadata": {},
   "outputs": [
    {
     "name": "stdout",
     "output_type": "stream",
     "text": [
      "(129086, 37)\n"
     ]
    },
    {
     "data": {
      "text/plain": [
       "(8958, 23)"
      ]
     },
     "execution_count": 43,
     "metadata": {},
     "output_type": "execute_result"
    }
   ],
   "source": [
    "# Удаляем партии без номера плавки\n",
    "df_modes = df_modes[df_modes['плавка'] != 'nan']\n",
    "print(df_modes.shape)\n",
    "df_valid = df_valid[df_valid['плавка'] != 'nan']\n",
    "df_valid.shape"
   ]
  },
  {
   "cell_type": "code",
   "execution_count": 44,
   "metadata": {},
   "outputs": [
    {
     "data": {
      "text/plain": [
       "(129047, 37)"
      ]
     },
     "execution_count": 44,
     "metadata": {},
     "output_type": "execute_result"
    }
   ],
   "source": [
    "# Удаляем строки со сбитым заполнением \n",
    "str_to_del = [3.75, 4.7, 4.18, 4.85, 4.78, 4.56, 3.71, 4.7, 4.63, 4.65, 4.52, 1.57, 3.87, 3.89, 2.5, 1.91, 2.98, \n",
    "                  4.6, 4.71, 2.36, 4.39, 4.68, 1.82, 2.74, 2.81, 3.61]\n",
    "\n",
    "\n",
    "for i in str_to_del:\n",
    "    df_modes = df_modes[df_modes['НД (гост, ту)'] != i]\n",
    "\n",
    "df_modes.shape"
   ]
  },
  {
   "cell_type": "code",
   "execution_count": 45,
   "metadata": {},
   "outputs": [
    {
     "name": "stdout",
     "output_type": "stream",
     "text": [
      "(129047, 39) (8958, 25)\n"
     ]
    }
   ],
   "source": [
    "# Разносим шаг на закалочной и отпускной печах в разные столбцы и очищаем их\n",
    "def clean_steps(x):\n",
    "    x = str(x)\n",
    "    x = x.replace(u'X', '/')\n",
    "    x = x.replace(u'x', '/')\n",
    "    x = x.replace(u'Х', '/')\n",
    "    x = x.replace(u'х', '/')\n",
    "    x = x.replace(',', '.')\n",
    "    x = x.replace('\\\\', '/')\n",
    "    x = x.replace('/-', '/0')\n",
    "    x = x.replace('-/', '0/')\n",
    "    x = x.replace('***', '0')\n",
    "    x = x.replace('*', '0')\n",
    "    x = x.replace('-', '/')\n",
    "    x = x.replace('nan', '')\n",
    "    return x\n",
    "\n",
    "def convert_step0(x):\n",
    "    return clean_steps(x).split('/')[0]\n",
    "   \n",
    "def convert_step1(x):\n",
    "    try:\n",
    "        return clean_steps(x).split('/')[1]\n",
    "    except:\n",
    "        return x\n",
    "\n",
    "# df_modes = df_modes[df_modes[u'шаг балок закалочная/отпускная печи, сек']!='***']\n",
    "df_modes[u'шаг балок закалочная печь, сек'] = df_modes[u'шаг балок закалочная/отпускная печи, сек'].apply(convert_step0)\n",
    "df_modes[u'шаг балок отпускная печь, сек'] = df_modes[u'шаг балок закалочная/отпускная печи, сек'].apply(convert_step1)\n",
    "\n",
    "df_valid[u'шаг балок закалочная печь, сек'] = df_valid[u'шаг балок закалочная/отпускная печи, сек'].apply(convert_step0)\n",
    "df_valid[u'шаг балок отпускная печь, сек'] = df_valid[u'шаг балок закалочная/отпускная печи, сек'].apply(convert_step1)\n",
    "print(df_modes.shape, df_valid.shape)"
   ]
  },
  {
   "cell_type": "code",
   "execution_count": 46,
   "metadata": {
    "collapsed": true,
    "scrolled": true
   },
   "outputs": [],
   "source": [
    "# Разделяем диаметр и толщину стенки и чистим их\n",
    "def split_d(x):\n",
    "    x = str(x)\n",
    "    x = x.replace(',', '.')\n",
    "    return re.split('х|Х|x|X', x)[0]\n",
    "\n",
    "def split_s(x):\n",
    "    x = str(x)\n",
    "    x = x.replace(',', '.')\n",
    "    try:\n",
    "        return re.split('х|Х|x|X', x)[1]\n",
    "    except:\n",
    "        return x\n",
    "    \n",
    "def clean_d_s(x):\n",
    "    x = str(x)\n",
    "    x = x.replace('п', '')\n",
    "    x = x.replace('П', '')\n",
    "    x = x.replace('nan', '')\n",
    "    x = x.replace(',', '.')\n",
    "    return x\n",
    "\n",
    "df_modes['диаметр'] = df_modes[u'D/S'].apply(split_d)\n",
    "df_modes['толщина стенки'] = df_modes[u'D/S'].apply(split_s)\n",
    "df_modes['толщина стенки'] = df_modes['толщина стенки'].apply(clean_d_s)\n",
    "df_modes['толщина стенки'] = df_modes['толщина стенки'].apply(lambda x: x.replace('107.95', ''))\n",
    "df_modes['диаметр'] = df_modes['диаметр'].apply(clean_d_s)\n",
    "\n",
    "df_valid['диаметр'] = df_valid[u'D/S'].apply(split_d)\n",
    "df_valid['толщина стенки'] = df_valid[u'D/S'].apply(split_s)\n",
    "df_valid['толщина стенки'] = df_valid['толщина стенки'].apply(clean_d_s)\n",
    "df_valid['толщина стенки'] = df_valid['толщина стенки'].apply(lambda x: x.replace('107.95', ''))\n",
    "df_valid['диаметр'] = df_valid['диаметр'].apply(clean_d_s)"
   ]
  },
  {
   "cell_type": "code",
   "execution_count": 47,
   "metadata": {},
   "outputs": [
    {
     "name": "stdout",
     "output_type": "stream",
     "text": [
      "(129047, 41) (8958, 27)\n"
     ]
    }
   ],
   "source": [
    "# Чистим Скорость прохождения трубы через спрейер, м/с\n",
    "def clean_u_sp(x):\n",
    "    x = str(x)\n",
    "    x = x.replace(u'сек', '')\n",
    "    x = x.replace(u'ек', '')\n",
    "    x = x.replace(u'\\мс', '')\n",
    "    x = x.replace(u'm/c', '')\n",
    "    x = x.replace(u'М/С', '')\n",
    "    x = x.replace(u'М\\С', '')\n",
    "    x = x.replace(u'nan', '')\n",
    "    x = x.replace(u'м/с', '')\n",
    "    x = x.replace(u'м\\с', '')\n",
    "    x = x.replace(u',', u'.')\n",
    "    x = x.replace(u'м\\\\', '')\n",
    "    x = x.replace(u'м/', '')\n",
    "    x = x.replace(u'*****', u'')\n",
    "    x = x.replace(u'****', u'')\n",
    "    x = x.replace(u'***', u'')\n",
    "    x = x.replace(u'29.03.2017', u'')\n",
    "    x = x.replace(',','.')\n",
    "    x = x.replace('041','0.41')\n",
    "    x = x.replace('НЕТ','')\n",
    "    x = x.replace('нет','')  \n",
    "    x = x.replace('м','')\n",
    "    x = x.replace('021', '0.21')\n",
    "    x = x.replace('1.8', '0.18')\n",
    "    x = x.replace('2.0', '0.2')\n",
    "    x = x.replace('012', '0.12')\n",
    "    if x == '45':\n",
    "        return '0.45'\n",
    "    if x == '064':\n",
    "        return '0.64'\n",
    "    x = x.replace(u'0.7.', '0.7')\n",
    "    try:\n",
    "        y = x.split('-')\n",
    "        x = (float(y[0])+float(y[1]))/2\n",
    "    except:\n",
    "        pass\n",
    "    return x\n",
    "    \n",
    "col = 'Скорость прохождения трубы через спрейер, м/с' \n",
    "df_modes[col] = df_modes[col].apply(clean_u_sp)\n",
    "df_valid[col] = df_valid[col].apply(clean_u_sp)\n",
    "print(df_modes.shape, df_valid.shape)"
   ]
  },
  {
   "cell_type": "code",
   "execution_count": 48,
   "metadata": {
    "collapsed": true
   },
   "outputs": [],
   "source": [
    "# Чистим время выдержки в закалочной ванне, сек.\n",
    "def clean_time_bath(x):\n",
    "    x = str(x)\n",
    "    x = x.replace(u'сек', '')\n",
    "    x = x.replace(u' ', '')\n",
    "    x = x.replace(u'.', '')\n",
    "    x = x.replace(u'J55', '')\n",
    "    return x\n",
    "col = u'время выдержки в закалочной ванне, сек.'\n",
    "df_modes[col] = df_modes[col].apply(clean_time_bath)\n",
    "df_valid[col] = df_valid[col].apply(clean_time_bath)"
   ]
  },
  {
   "cell_type": "code",
   "execution_count": 49,
   "metadata": {},
   "outputs": [
    {
     "name": "stdout",
     "output_type": "stream",
     "text": [
      "(129047, 33) (8958, 22)\n"
     ]
    }
   ],
   "source": [
    "# Удаляем лишнии столбцы из датафрейма\n",
    "l2del_modes = [\n",
    "#     'Дата термообработки', \n",
    "    u'время начала т/о',u'D/S',u'шаг балок закалочная/отпускная печи, сек', u'плавка',\n",
    "      '2 зона уставка закалка', '2 зона фактическая температура закалка', '2 зона фактическая температура отпуск', \n",
    "      '4 зона фактическая температура отпуск', 'кол-во, шт.'\n",
    "]\n",
    "\n",
    "l2del_valid =[\n",
    "#     'Дата термообработки', \n",
    "    u'время начала т/о',u'D/S',u'шаг балок закалочная/отпускная печи, сек', u'плавка', 'кол-во, шт.', \n",
    "    'масса\\nтн']\n",
    "\n",
    "def del_cols_df(df, l2del):\n",
    "    df[u'№ плавки'] = df[u'плавка']\n",
    "    df = df.drop(l2del, axis = 1)\n",
    "    return df\n",
    "\n",
    "df_modes = del_cols_df(df_modes, l2del_modes)\n",
    "df_valid = del_cols_df(df_valid, l2del_valid)\n",
    "print(df_modes.shape, df_valid.shape)"
   ]
  },
  {
   "cell_type": "code",
   "execution_count": null,
   "metadata": {
    "collapsed": true
   },
   "outputs": [],
   "source": []
  },
  {
   "cell_type": "code",
   "execution_count": 50,
   "metadata": {
    "collapsed": true
   },
   "outputs": [],
   "source": [
    "# Объединение марок стали\n",
    "def rep_steel(x):\n",
    "    x = str(x)\n",
    "    x = x.replace('092ГС','09Г2С')\n",
    "    x = x.replace('13 ХФА','13ХФА')\n",
    "    x = x.replace('13хфа','13ХФА')\n",
    "    x = x.replace('13ХФА ','13ХФА')\n",
    "    x = x.replace('13хфа-3','13ХФА-3')\n",
    "    x = x.replace('15Х13H2MБ','15Х13H2МБ')\n",
    "    x = x.replace('15х5мфбч','15Х5МФБЧ')\n",
    "    x = x.replace('18х3мфб','18Х3МФБ')\n",
    "    x = x.replace('18Х3МФБ ','18Х3МФБ')\n",
    "    x = x.replace('18х3ХМФБ','18Х3МФБ')\n",
    "    x = x.replace('18хзмфб','18Х3МФБ')\n",
    "    x = x.replace('18хмфб','18ХМФБ')\n",
    "    x = x.replace('18ХМФБ ','18ХМФБ')\n",
    "    x = x.replace('20А простая','20А-пр')\n",
    "    x = x.replace('20А-ПР','20А-пр')\n",
    "    x = x.replace('20 А','20А')    \n",
    "    x = x.replace('20A','20А') \n",
    "    x = x.replace('20А ','20А')\n",
    "    x = x.replace('20 АУ','20А-У')\n",
    "    x = x.replace('20АУ','20А-У')\n",
    "    x = x.replace('30Г2 ','30Г2')\n",
    "    x = x.replace('30Г2.','30Г2')\n",
    "    x = x.replace('30г2-2','30Г2-2')\n",
    "    x = x.replace('30г2ф','30Г2Ф')\n",
    "    x = x.replace('30г2','30Г2')\n",
    "    x = x.replace('30хгма','30ХГМА')\n",
    "    x = x.replace('30ХГМА1','30ХГМА-1')\n",
    "    x = x.replace('30хма','30ХМА')\n",
    "    x = x.replace('32г1','32Г1')\n",
    "    x = x.replace('32г2','32Г2')\n",
    "    x = x.replace('32х1мф-1','32Х1МФ-1')\n",
    "    x = x.replace('32ха','32ХА')\n",
    "    x = x.replace('37г2ф','37Г2Ф')\n",
    "    x = x.replace('37г2Ф','37Г2Ф')\n",
    "    x = x.replace('37Г2ф','37Г2Ф')\n",
    "    x = x.replace('37Г2Ф ','37Г2Ф')\n",
    "    x = x.replace('38Г2С ','38Г2С')\n",
    "    x = x.replace('38г2с-4','38Г2С-4')\n",
    "    x = x.replace('38Г2-С-9','38Г2С-9')\n",
    "    x = x.replace('30Г2 ', '30Г2')\n",
    "    return x\n",
    "\n",
    "df_modes['марка стали'] = df_modes['марка стали'].apply(rep_steel)\n",
    "df_valid['марка стали'] = df_valid['марка стали'].apply(rep_steel)"
   ]
  },
  {
   "cell_type": "code",
   "execution_count": 51,
   "metadata": {
    "collapsed": true
   },
   "outputs": [],
   "source": [
    "ls_vtr = [\n",
    "    '1 зона по ВТР закалка',\n",
    "    '2 зона по ВТР закалка',\n",
    "    '3 зона по ВТР закалка',\n",
    "    '1 зона ВТР и уставка отпуск',\n",
    "    '2 зона ВТР и уставка отпуск',\n",
    "    '4 зона ВТР и уставка отпуск'\n",
    "]\n",
    "# Очистка всех столбцов с температурами по втр \n",
    "def clean_vtr(x):\n",
    "    x = str(x)\n",
    "    x = x.replace('*****','')\n",
    "    x = x.replace('****','')\n",
    "    x = x.replace('***','')\n",
    "    x = x.replace('-','')\n",
    "    x = x.replace('50/*','')\n",
    "    x = x.replace('нет','')\n",
    "    x = x.replace('НЕТ','')\n",
    "    x = x.replace('н/д','')\n",
    "    return x\n",
    "\n",
    "\n",
    "def clean_all(df, ls, apply_f):\n",
    "    \"\"\"Применяет к столбцам из списка ls датафрейма df метод apply_f\"\"\"\n",
    "    for col in ls:\n",
    "        df[col] = df[col].apply(apply_f)\n",
    "    return df\n",
    "\n",
    "df_modes = clean_all(df_modes, ls_vtr, clean_vtr)\n",
    "df_valid = clean_all(df_valid, ls_vtr, clean_vtr)"
   ]
  },
  {
   "cell_type": "code",
   "execution_count": 52,
   "metadata": {
    "collapsed": true
   },
   "outputs": [],
   "source": [
    "ls_nd = [\n",
    "    '3 зона ВТР и уставка отпуск',\n",
    "    '5 зона ВТР и уставка отпуск',\n",
    "    '1 зона уставка закалка',\n",
    "    '1 зона фактическая температура закалка',\n",
    "    '3 зона уставка закалка',\n",
    "    '3 зона фактическая температура закалка',\n",
    "    'Температура трубы на выгрузке из печи закалки',\n",
    "    'Расход воды на закалочный спрейер, м3',\n",
    "    't˚ C воды в закалочной ванне',\n",
    "    '1 зона фактическая температура отпуск',\n",
    "    '3 зона фактическая температура отпуск',\n",
    "    '5 зона фактическая температура отпуск',\n",
    "    'Температура трубы на выгрузке из печи отпуска'\n",
    "]\n",
    "# Чистим столбцы от н/д\n",
    "def rep_nd(x):\n",
    "    x = str(x)\n",
    "    x = x.replace('н/д','')\n",
    "    x = x.replace('.0', '')\n",
    "    x = x.replace('НЕТ', '')\n",
    "    x = x.replace('***', '')\n",
    "#     x = x.replace('охлаждение','')\n",
    "    return x\n",
    "\n",
    "df_modes = clean_all(df_modes, ls_nd, rep_nd)\n",
    "df_valid = clean_all(df_valid, ls_nd[:-11], rep_nd)"
   ]
  },
  {
   "cell_type": "code",
   "execution_count": 53,
   "metadata": {
    "collapsed": true
   },
   "outputs": [],
   "source": [
    "# Чистим время выдержки в закалочной ванне, сек.\n",
    "def rep_time(x):\n",
    "    x = str(x)\n",
    "    x = x.replace('nan','')\n",
    "    x = x.replace('НЕТ','')\n",
    "    x = x.replace('нет','')\n",
    "    x = x.replace('НОРМ','')\n",
    "    x = x.replace('****','')\n",
    "    x = x.replace('***','')\n",
    "    x = x.replace('40-50','45')\n",
    "    x = x.replace('сек','')\n",
    "    x = x.replace('с','')\n",
    "    x = x.replace(',','.')\n",
    "    x = x.replace('11cек', '')\n",
    "    x = x.replace('HET', '')\n",
    "    return x\n",
    "\n",
    "\n",
    "col ='время выдержки в закалочной ванне, сек.'\n",
    "df_modes[col] = df_modes[col].apply(rep_time)\n",
    "df_valid[col] = df_valid[col].apply(rep_time)"
   ]
  },
  {
   "cell_type": "code",
   "execution_count": 54,
   "metadata": {
    "collapsed": true
   },
   "outputs": [],
   "source": [
    "def rep_tempr(x):\n",
    "    x = str(x)\n",
    "    x = x.replace('******','')\n",
    "    x = x.replace('*****','')\n",
    "    x = x.replace('****','')\n",
    "    x = x.replace('***','')\n",
    "    x = x.replace('*','')\n",
    "    x = x.replace('НОРМ-ИЯ', '')\n",
    "    x = x.replace('норм-ция', '')\n",
    "    x = x.replace('\\\\','/')\n",
    "    x = x.replace('-','/')\n",
    "    x = x.replace('<', '')\n",
    "    x = x.replace('>', '')\n",
    "    x = x.replace('Доотпуск', 'доотпуск')\n",
    "    x = x.replace('до', '')\n",
    "    x = x.replace('Бизнес Тренд', '')\n",
    "    x = x.replace('БизнесТренд', '')\n",
    "    x = x.replace('ВОЗДУХ', '')\n",
    "    x = x.replace('Воздух', '')\n",
    "    x = x.replace('воэдух', '')\n",
    "    x = x.replace('высадка', '')\n",
    "    x = x.replace('закалка', '')\n",
    "    x = x.replace('НЕТ', '')\n",
    "    x = x.replace('нет', '')\n",
    "    x = x.replace('НЕТ', '') \n",
    "    x = x.replace('нет', '')\n",
    "    x = x.replace('НОРМ', '')\n",
    "    x = x.replace('нормализ.', '')\n",
    "    x = x.replace('нормализация', '')\n",
    "    x = x.replace('воздух', '')\n",
    "    x = x.replace('61702', '')\n",
    "    x = x.replace('опытные.','')\n",
    "    x = x.replace('на е','')\n",
    "    x = x.replace('норм/ия','')\n",
    "    x = x.replace('нормал/ция','')\n",
    "    x = x.replace('АЛ/ЦИЯ','')\n",
    "    x = x.replace(',','.')\n",
    "    y = x.split('/')\n",
    "    if len(y)==1:\n",
    "        return x\n",
    "    fl = True\n",
    "    tmpy= []\n",
    "    for i in y:\n",
    "        if len(i) == 4:\n",
    "            y.append(i[0:2])\n",
    "            y.append(i[2:4])\n",
    "            y.remove(i)\n",
    "    for i in y:\n",
    "        try:\n",
    "            tmpy.append(float(i))\n",
    "        except:\n",
    "            tmpy.append(i)\n",
    "            fl = False\n",
    "    if(fl):\n",
    "        y = tmpy   \n",
    "        x = np.mean(y)\n",
    "    if x=='0':\n",
    "        x=''\n",
    "    return x\n",
    "\n",
    "\n",
    "def clean_and_tofloat(df, ls, apply_f_ls):\n",
    "    \n",
    "    for col, apply_f in zip(ls,apply_f_ls):\n",
    "        df[col] = df[col].apply(apply_f)\n",
    "    df.drop(df[df[col]=='отпуск'].index, inplace = True, axis = 0)\n",
    "    df[col] = df[col].apply(\n",
    "                lambda y: str(y) if (y!='nan')&(y!='')&(y!=None)&(y!=' ') else None).astype(float)\n",
    "    return df\n",
    "\n",
    "col = 't˚ C трубы после спреера'\n",
    "df_modes = clean_and_tofloat(df_modes, [col], [rep_tempr])\n",
    "df_valid = clean_and_tofloat(df_valid, [col], [rep_tempr])\n",
    "# df_modes[col] = df_modes[col].apply(rep_tempr)\n",
    "# df_modes.drop(df_modes[df_modes[col]=='отпуск'].index, inplace = True, axis = 0)\n",
    "# df_modes[col] = df_modes[col].apply(\n",
    "#                 lambda y: str(y) if (y!='nan')&(y!='')&(y!=None)&(y!=' ') else None).astype(float)"
   ]
  },
  {
   "cell_type": "code",
   "execution_count": null,
   "metadata": {
    "collapsed": true
   },
   "outputs": [],
   "source": []
  },
  {
   "cell_type": "code",
   "execution_count": 55,
   "metadata": {},
   "outputs": [],
   "source": [
    "col = 'масса\\nтн'\n",
    "df_valid = df_valid.rename(columns={'масса\\nтн.1': col})\n",
    "df_valid = clean_and_tofloat(df_valid, [col], [rep_mass])\n",
    "# df_valid['масса\\nтн'].value_counts().sort_index()"
   ]
  },
  {
   "cell_type": "code",
   "execution_count": 57,
   "metadata": {},
   "outputs": [],
   "source": [
    "def rep_mass(x):\n",
    "    x = str(x)\n",
    "    x = x.replace('-','')\n",
    "    x = x.replace(',','.')\n",
    "    x = x.replace('/','')\n",
    "    x = x.replace('73.02х5.51','')\n",
    "    x = x.replace('4,,640','')\n",
    "    x = x.replace('3.000.','3.0')\n",
    "    x = x.replace('.1.440','1.44')\n",
    "    x = x.replace('01б','0.16')\n",
    "    return x\n",
    "\n",
    "col = 'масса\\nтн'\n",
    "df_modes = clean_and_tofloat(df_modes, [col], [rep_mass])"
   ]
  },
  {
   "cell_type": "code",
   "execution_count": 58,
   "metadata": {
    "collapsed": true
   },
   "outputs": [],
   "source": [
    "def rep_tempr_bath(x):\n",
    "    x = str(x)\n",
    "    x = x.replace('Бизнес Тренд', '')\n",
    "    x = x.replace('бизнес тренд', '')\n",
    "    x = x.replace('высадка.', '')\n",
    "    x = x.replace('высадка', '')\n",
    "    x = x.replace('ВЫСАДКА', '')\n",
    "    x = x.replace('Высадка', '')\n",
    "    x = x.replace('высадка', '') \n",
    "    x = x.replace('доотпуск.', 'отпуск')\n",
    "    x = x.replace('доотпуск', 'отпуск')\n",
    "    x = x.replace('Доотпуск', 'отпуск')\n",
    "    x = x.replace('отпуск.', 'отпуск')\n",
    "    x = x.replace('на отпуск', 'отпуск')\n",
    "    x = x.replace('в малахи', '')\n",
    "    x = x.replace('ДООТПУСК', 'отпуск')\n",
    "    x = x.replace('НЕТ', '')\n",
    "    x = x.replace('нет', '')\n",
    "    x = x.replace('НЕТ', '') \n",
    "    x = x.replace('НК 8500', '')\n",
    "    x = x.replace('НК 9000', '')\n",
    "    x = x.replace('нормализ.', '')\n",
    "    x = x.replace('нормализация', '')\n",
    "    x = x.replace('нормал-ция', '')\n",
    "    x = x.replace('НОРМ-ИЯ', '')\n",
    "    x = x.replace('норм-ция.', '')\n",
    "    x = x.replace('норм-ция', '')\n",
    "    x = x.replace('нор-ция', '')\n",
    "    x = x.replace('нор/ция', '')\n",
    "    x = x.replace('опытные.', '')\n",
    "    x = x.replace('ОПЫТНЫЕ', '')\n",
    "    x = x.replace('повторная', '')\n",
    "    x = x.replace('повтор', '')\n",
    "    x = x.replace('ПОВТОР', '')\n",
    "    x = x.replace('Самара', '')\n",
    "    x = x.replace('СИТЦ', '')\n",
    "    x = x.replace('Трэнд', '')\n",
    "    x = x.replace('ЧПТЗ', '')\n",
    "    x = x.replace('ЧТПЗ', '')\n",
    "    x = x.replace('30 СЕК.', '30')\n",
    "    x = x.replace('2/я зак/ка', '')\n",
    "    x = x.replace('ТРЕНД', '')\n",
    "    x = x.replace('ПЛ.Р. Ц42/№10','')\n",
    "    x = x.replace('Челябинск','')\n",
    "    x = x.replace('нормал/ция', '')\n",
    "    x = x.replace('HET', '')\n",
    "    x = x.replace('J55', '')\n",
    "    x = x.replace('/', '')\n",
    "    if x=='0':\n",
    "        x=''\n",
    "    if x=='.':\n",
    "        x=''\n",
    "    return x\n",
    "\n",
    "col = 't˚ C трубы после ванны'\n",
    "df_modes = clean_and_tofloat(df_modes, [col, col], [rep_tempr, rep_tempr_bath])\n",
    "df_valid = clean_and_tofloat(df_valid, [col, col], [rep_tempr, rep_tempr_bath])\n",
    "# df_modes[col] = df_modes[col].apply(rep_tempr)\n",
    "# df_modes[col] = df_modes[col].apply(rep_tempr_bath)\n",
    "# df_modes.drop(df_modes[df_modes[col]=='отпуск'].index, inplace = True, axis = 0)\n",
    "# df_modes[col] = df_modes[col].apply(\n",
    "#                 lambda y: str(y) if (y!='nan')&(y!='')&(y!=None)&(y!=' ') else None).astype(float)\n",
    "# df_modes[col].to_excel('check_col.xlsx')"
   ]
  },
  {
   "cell_type": "code",
   "execution_count": 59,
   "metadata": {},
   "outputs": [
    {
     "name": "stdout",
     "output_type": "stream",
     "text": [
      "(128537, 33) (8958, 22)\n"
     ]
    }
   ],
   "source": [
    "print(df_modes.shape, df_valid.shape)"
   ]
  },
  {
   "cell_type": "code",
   "execution_count": 60,
   "metadata": {},
   "outputs": [
    {
     "name": "stdout",
     "output_type": "stream",
     "text": [
      "(126113, 33) (8849, 22)\n"
     ]
    }
   ],
   "source": [
    "df_modes.drop(df_modes[df_modes['шаг балок закалочная печь, сек'] == '0'].index, inplace=True, axis=0)\n",
    "df_modes.drop(df_modes[df_modes['шаг балок отпускная печь, сек'] == '0'].index, inplace=True, axis=0)\n",
    "df_valid.drop(df_valid[df_valid['шаг балок закалочная печь, сек'] == '0'].index, inplace=True, axis=0)\n",
    "df_valid.drop(df_valid[df_valid['шаг балок отпускная печь, сек'] == '0'].index, inplace=True, axis=0)\n",
    "print(df_modes.shape, df_valid.shape)"
   ]
  },
  {
   "cell_type": "code",
   "execution_count": 61,
   "metadata": {
    "collapsed": true
   },
   "outputs": [],
   "source": [
    "ls_mean_modes = df_modes.columns[3:-3]\n",
    "ls_mean_valid = df_valid.columns[3:-3]\n",
    "\n",
    "def get_mean(df, ls_mean):\n",
    "    \"\"\"Усредняет по [номеру плавки, партиям] и возвращает полученный датафрейм \"\"\"\n",
    "    for col in ls_mean:\n",
    "        if col in df:\n",
    "            try:\n",
    "                df[col] = df.groupby(['№ плавки', '№ партии'])[col].transform(\n",
    "                    lambda x: x.apply(\n",
    "                    lambda y: str(y) if (y!='nan')&(y!='')&(y!=None)&(y!=' ') else None).astype(float).mean())\n",
    "            except:\n",
    "                print(col)\n",
    "    return df"
   ]
  },
  {
   "cell_type": "code",
   "execution_count": 62,
   "metadata": {
    "collapsed": true
   },
   "outputs": [],
   "source": [
    "df_modes['№ партии'] = df_modes['№ партии'].astype(str).str.lower()\n",
    "df_modes['№ плавки'] = df_modes['№ плавки'].astype(str).str.lower()\n",
    "df_valid['№ партии'] = df_valid['№ партии'].astype(str).str.lower()\n",
    "df_valid['№ плавки'] = df_valid['№ плавки'].astype(str).str.lower()"
   ]
  },
  {
   "cell_type": "code",
   "execution_count": 63,
   "metadata": {},
   "outputs": [
    {
     "name": "stdout",
     "output_type": "stream",
     "text": [
      "(126113, 33) (8849, 22)\n",
      "28600\n",
      "1700\n"
     ]
    }
   ],
   "source": [
    "print(df_modes.shape, df_valid.shape)\n",
    "print(df_modes['№ партии'].describe()[1])#количество уникальных значений по партии, итоговое должно быть чуть больше\n",
    "print(df_valid['№ партии'].describe()[1])#количество уникальных значений по партии, итоговое должно быть чуть больше"
   ]
  },
  {
   "cell_type": "code",
   "execution_count": 64,
   "metadata": {},
   "outputs": [
    {
     "data": {
      "text/plain": [
       "      8376\n",
       "25     264\n",
       "20     133\n",
       "30      63\n",
       "40      12\n",
       "10       1\n",
       "Name: время выдержки в закалочной ванне, сек., dtype: int64"
      ]
     },
     "execution_count": 64,
     "metadata": {},
     "output_type": "execute_result"
    }
   ],
   "source": [
    "col = 'время выдержки в закалочной ванне, сек.'\n",
    "df_valid[col].value_counts()"
   ]
  },
  {
   "cell_type": "code",
   "execution_count": 65,
   "metadata": {
    "scrolled": true
   },
   "outputs": [
    {
     "name": "stdout",
     "output_type": "stream",
     "text": [
      "Дата термообработки\n"
     ]
    },
    {
     "data": {
      "text/plain": [
       "(126113, 33)"
      ]
     },
     "execution_count": 65,
     "metadata": {},
     "output_type": "execute_result"
    }
   ],
   "source": [
    "# Усреднение по номеру плавки, партиям работает долго, ждем и пьем чаёк..\n",
    "tmp_modes = get_mean(df_modes, ls_mean_modes)\n",
    "tmp_modes.shape"
   ]
  },
  {
   "cell_type": "code",
   "execution_count": 66,
   "metadata": {},
   "outputs": [
    {
     "name": "stdout",
     "output_type": "stream",
     "text": [
      "Дата термообработки\n"
     ]
    },
    {
     "data": {
      "text/plain": [
       "(8849, 22)"
      ]
     },
     "execution_count": 66,
     "metadata": {},
     "output_type": "execute_result"
    }
   ],
   "source": [
    "tmp_valid = get_mean(df_valid, ls_mean_valid)\n",
    "tmp_valid.shape"
   ]
  },
  {
   "cell_type": "code",
   "execution_count": 67,
   "metadata": {
    "collapsed": true
   },
   "outputs": [],
   "source": [
    "full_ls_modes = list(df_modes.columns)\n",
    "full_ls_modes = full_ls_modes[-1:]+full_ls_modes[0:-1]\n",
    "\n",
    "full_ls_valid = list(df_valid.columns)\n",
    "full_ls_valid = full_ls_valid[-1:]+full_ls_valid[0:-1]"
   ]
  },
  {
   "cell_type": "code",
   "execution_count": 68,
   "metadata": {
    "scrolled": false
   },
   "outputs": [
    {
     "name": "stdout",
     "output_type": "stream",
     "text": [
      "(33174, 33) (2046, 22)\n"
     ]
    }
   ],
   "source": [
    "tmp_modes = tmp_modes[full_ls_modes]\n",
    "tmp_modes = tmp_modes.drop_duplicates()\n",
    "\n",
    "tmp_valid = tmp_valid[full_ls_valid]\n",
    "tmp_valid = tmp_valid.drop_duplicates()\n",
    "print(tmp_modes.shape, tmp_valid.shape)"
   ]
  },
  {
   "cell_type": "code",
   "execution_count": 69,
   "metadata": {},
   "outputs": [
    {
     "data": {
      "text/plain": [
       "(33174, 33)"
      ]
     },
     "execution_count": 69,
     "metadata": {},
     "output_type": "execute_result"
    }
   ],
   "source": [
    "tmp_modes['2 зона по ВТР закалка'] = tmp_modes['2 зона по ВТР закалка'].apply(lambda x: x*10 if x<100 else x)\n",
    "tmp_modes.shape"
   ]
  },
  {
   "cell_type": "code",
   "execution_count": 70,
   "metadata": {
    "collapsed": true
   },
   "outputs": [],
   "source": [
    "def th2f(x):\n",
    "    if x=='73.02*5.51':\n",
    "        return 5.51\n",
    "    if (x==' ') | (x==''):\n",
    "        return None\n",
    "    return float(x)\n",
    "# tmp_modes[tmp_modes[['№ плавки', '№ партии']].duplicated(keep = False)].sort_values('№ партии')\n",
    "tmp_modes['толщина стенки'] = tmp_modes['толщина стенки'].apply(th2f)\n",
    "tmp_valid['толщина стенки'] = tmp_valid['толщина стенки'].apply(th2f)"
   ]
  },
  {
   "cell_type": "code",
   "execution_count": 71,
   "metadata": {},
   "outputs": [
    {
     "data": {
      "text/plain": [
       "(2046, 22)"
      ]
     },
     "execution_count": 71,
     "metadata": {},
     "output_type": "execute_result"
    }
   ],
   "source": [
    "tmp_valid.shape"
   ]
  },
  {
   "cell_type": "code",
   "execution_count": 72,
   "metadata": {},
   "outputs": [
    {
     "name": "stdout",
     "output_type": "stream",
     "text": [
      "(29255, 33)\n"
     ]
    }
   ],
   "source": [
    "tmp_modes = tmp_modes.groupby(['№ плавки', '№ партии']).first()\n",
    "tmp_modes = tmp_modes.reset_index()\n",
    "print(tmp_modes.shape)"
   ]
  },
  {
   "cell_type": "code",
   "execution_count": 73,
   "metadata": {},
   "outputs": [
    {
     "name": "stdout",
     "output_type": "stream",
     "text": [
      "(1722, 22)\n"
     ]
    }
   ],
   "source": [
    "tmp_valid = tmp_valid.groupby(['№ плавки', '№ партии']).first()\n",
    "tmp_valid = tmp_valid.reset_index()\n",
    "print(tmp_valid.shape)"
   ]
  },
  {
   "cell_type": "code",
   "execution_count": 74,
   "metadata": {
    "collapsed": true
   },
   "outputs": [],
   "source": [
    "tmp_modes.to_excel('all_modes_clean.xlsx')\n",
    "tmp_valid.to_excel('valid_modes_clean.xlsx')"
   ]
  },
  {
   "cell_type": "code",
   "execution_count": 75,
   "metadata": {
    "scrolled": true
   },
   "outputs": [
    {
     "data": {
      "text/html": [
       "<div>\n",
       "<style scoped>\n",
       "    .dataframe tbody tr th:only-of-type {\n",
       "        vertical-align: middle;\n",
       "    }\n",
       "\n",
       "    .dataframe tbody tr th {\n",
       "        vertical-align: top;\n",
       "    }\n",
       "\n",
       "    .dataframe thead th {\n",
       "        text-align: right;\n",
       "    }\n",
       "</style>\n",
       "<table border=\"1\" class=\"dataframe\">\n",
       "  <thead>\n",
       "    <tr style=\"text-align: right;\">\n",
       "      <th></th>\n",
       "      <th>№ плавки</th>\n",
       "      <th>№ партии</th>\n",
       "      <th>НД (гост, ту)</th>\n",
       "      <th>марка стали</th>\n",
       "      <th>Дата термообработки</th>\n",
       "      <th>1 зона по ВТР закалка</th>\n",
       "      <th>1 зона уставка закалка</th>\n",
       "      <th>1 зона фактическая температура закалка</th>\n",
       "      <th>2 зона по ВТР закалка</th>\n",
       "      <th>3 зона по ВТР закалка</th>\n",
       "      <th>3 зона уставка закалка</th>\n",
       "      <th>3 зона фактическая температура закалка</th>\n",
       "      <th>Температура трубы на выгрузке из печи закалки</th>\n",
       "      <th>Скорость прохождения трубы через спрейер, м/с</th>\n",
       "      <th>t˚ C трубы после спреера</th>\n",
       "      <th>Расход воды на закалочный спрейер, м3</th>\n",
       "      <th>время выдержки в закалочной ванне, сек.</th>\n",
       "      <th>t˚ C воды в закалочной ванне</th>\n",
       "      <th>t˚ C трубы после ванны</th>\n",
       "      <th>1 зона ВТР и уставка отпуск</th>\n",
       "      <th>1 зона фактическая температура отпуск</th>\n",
       "      <th>2 зона ВТР и уставка отпуск</th>\n",
       "      <th>3 зона ВТР и уставка отпуск</th>\n",
       "      <th>3 зона фактическая температура отпуск</th>\n",
       "      <th>4 зона ВТР и уставка отпуск</th>\n",
       "      <th>5 зона ВТР и уставка отпуск</th>\n",
       "      <th>5 зона фактическая температура отпуск</th>\n",
       "      <th>Температура трубы на выгрузке из печи отпуска</th>\n",
       "      <th>масса\n",
       "тн</th>\n",
       "      <th>шаг балок закалочная печь, сек</th>\n",
       "      <th>шаг балок отпускная печь, сек</th>\n",
       "      <th>диаметр</th>\n",
       "      <th>толщина стенки</th>\n",
       "    </tr>\n",
       "  </thead>\n",
       "  <tbody>\n",
       "    <tr>\n",
       "      <th>0</th>\n",
       "      <td>0039</td>\n",
       "      <td>701354</td>\n",
       "      <td>ТУ 20</td>\n",
       "      <td>09Г2С</td>\n",
       "      <td>25.01.2017</td>\n",
       "      <td>900.0</td>\n",
       "      <td>900.0</td>\n",
       "      <td>899.666667</td>\n",
       "      <td>900.0</td>\n",
       "      <td>910.0</td>\n",
       "      <td>900.000000</td>\n",
       "      <td>900.166667</td>\n",
       "      <td>897.666667</td>\n",
       "      <td>0.46</td>\n",
       "      <td>47.5</td>\n",
       "      <td>1617.833333</td>\n",
       "      <td>NaN</td>\n",
       "      <td>20.0</td>\n",
       "      <td>NaN</td>\n",
       "      <td>682.500000</td>\n",
       "      <td>681.500000</td>\n",
       "      <td>680.0</td>\n",
       "      <td>673.0</td>\n",
       "      <td>673.333333</td>\n",
       "      <td>668.0</td>\n",
       "      <td>656.000000</td>\n",
       "      <td>655.833333</td>\n",
       "      <td>646.666667</td>\n",
       "      <td>3.910000</td>\n",
       "      <td>30.0</td>\n",
       "      <td>30.0</td>\n",
       "      <td>114</td>\n",
       "      <td>6.0</td>\n",
       "    </tr>\n",
       "    <tr>\n",
       "      <th>1</th>\n",
       "      <td>0043</td>\n",
       "      <td>701351</td>\n",
       "      <td>ТУ 20</td>\n",
       "      <td>09Г2С</td>\n",
       "      <td>25.01.2017</td>\n",
       "      <td>900.0</td>\n",
       "      <td>900.0</td>\n",
       "      <td>899.166667</td>\n",
       "      <td>900.0</td>\n",
       "      <td>910.0</td>\n",
       "      <td>902.666667</td>\n",
       "      <td>901.833333</td>\n",
       "      <td>897.333333</td>\n",
       "      <td>0.46</td>\n",
       "      <td>47.5</td>\n",
       "      <td>1625.666667</td>\n",
       "      <td>NaN</td>\n",
       "      <td>20.0</td>\n",
       "      <td>NaN</td>\n",
       "      <td>688.333333</td>\n",
       "      <td>688.166667</td>\n",
       "      <td>685.0</td>\n",
       "      <td>679.0</td>\n",
       "      <td>678.833333</td>\n",
       "      <td>673.0</td>\n",
       "      <td>662.666667</td>\n",
       "      <td>662.500000</td>\n",
       "      <td>649.666667</td>\n",
       "      <td>4.513333</td>\n",
       "      <td>30.0</td>\n",
       "      <td>30.0</td>\n",
       "      <td>114</td>\n",
       "      <td>6.0</td>\n",
       "    </tr>\n",
       "    <tr>\n",
       "      <th>2</th>\n",
       "      <td>0043</td>\n",
       "      <td>701353</td>\n",
       "      <td>ТУ 20</td>\n",
       "      <td>09Г2С</td>\n",
       "      <td>25.01.2017</td>\n",
       "      <td>900.0</td>\n",
       "      <td>900.0</td>\n",
       "      <td>898.500000</td>\n",
       "      <td>900.0</td>\n",
       "      <td>910.0</td>\n",
       "      <td>900.000000</td>\n",
       "      <td>899.750000</td>\n",
       "      <td>895.500000</td>\n",
       "      <td>0.46</td>\n",
       "      <td>47.5</td>\n",
       "      <td>1639.750000</td>\n",
       "      <td>NaN</td>\n",
       "      <td>20.0</td>\n",
       "      <td>NaN</td>\n",
       "      <td>685.000000</td>\n",
       "      <td>686.250000</td>\n",
       "      <td>685.0</td>\n",
       "      <td>673.0</td>\n",
       "      <td>672.250000</td>\n",
       "      <td>673.0</td>\n",
       "      <td>656.000000</td>\n",
       "      <td>656.000000</td>\n",
       "      <td>650.250000</td>\n",
       "      <td>3.817500</td>\n",
       "      <td>30.0</td>\n",
       "      <td>30.0</td>\n",
       "      <td>114</td>\n",
       "      <td>6.0</td>\n",
       "    </tr>\n",
       "    <tr>\n",
       "      <th>3</th>\n",
       "      <td>013495</td>\n",
       "      <td>206349</td>\n",
       "      <td>ТУ 3</td>\n",
       "      <td>30Г2</td>\n",
       "      <td>23.06.2012</td>\n",
       "      <td>850.0</td>\n",
       "      <td>850.0</td>\n",
       "      <td>848.800000</td>\n",
       "      <td>850.0</td>\n",
       "      <td>860.0</td>\n",
       "      <td>848.000000</td>\n",
       "      <td>847.800000</td>\n",
       "      <td>849.000000</td>\n",
       "      <td>0.54</td>\n",
       "      <td>54.4</td>\n",
       "      <td>2066.000000</td>\n",
       "      <td>NaN</td>\n",
       "      <td>27.0</td>\n",
       "      <td>NaN</td>\n",
       "      <td>560.000000</td>\n",
       "      <td>561.400000</td>\n",
       "      <td>560.0</td>\n",
       "      <td>555.0</td>\n",
       "      <td>556.000000</td>\n",
       "      <td>555.0</td>\n",
       "      <td>547.000000</td>\n",
       "      <td>546.800000</td>\n",
       "      <td>561.200000</td>\n",
       "      <td>3.607800</td>\n",
       "      <td>28.0</td>\n",
       "      <td>27.0</td>\n",
       "      <td>88.9</td>\n",
       "      <td>6.5</td>\n",
       "    </tr>\n",
       "    <tr>\n",
       "      <th>4</th>\n",
       "      <td>013495</td>\n",
       "      <td>208207</td>\n",
       "      <td>ТУ 3</td>\n",
       "      <td>30Г2</td>\n",
       "      <td>14.08.2012</td>\n",
       "      <td>850.0</td>\n",
       "      <td>850.0</td>\n",
       "      <td>846.000000</td>\n",
       "      <td>850.0</td>\n",
       "      <td>860.0</td>\n",
       "      <td>845.000000</td>\n",
       "      <td>849.000000</td>\n",
       "      <td>NaN</td>\n",
       "      <td>0.51</td>\n",
       "      <td>55.0</td>\n",
       "      <td>NaN</td>\n",
       "      <td>NaN</td>\n",
       "      <td>26.0</td>\n",
       "      <td>NaN</td>\n",
       "      <td>560.000000</td>\n",
       "      <td>559.000000</td>\n",
       "      <td>560.0</td>\n",
       "      <td>555.0</td>\n",
       "      <td>553.000000</td>\n",
       "      <td>555.0</td>\n",
       "      <td>547.000000</td>\n",
       "      <td>547.000000</td>\n",
       "      <td>NaN</td>\n",
       "      <td>0.500000</td>\n",
       "      <td>29.0</td>\n",
       "      <td>27.0</td>\n",
       "      <td>88.9</td>\n",
       "      <td>6.5</td>\n",
       "    </tr>\n",
       "  </tbody>\n",
       "</table>\n",
       "</div>"
      ],
      "text/plain": [
       "  № плавки № партии НД (гост, ту) марка стали Дата термообработки  \\\n",
       "0     0039   701354         ТУ 20       09Г2С          25.01.2017   \n",
       "1     0043   701351         ТУ 20       09Г2С          25.01.2017   \n",
       "2     0043   701353         ТУ 20       09Г2С          25.01.2017   \n",
       "3   013495   206349          ТУ 3        30Г2          23.06.2012   \n",
       "4   013495   208207          ТУ 3        30Г2          14.08.2012   \n",
       "\n",
       "   1 зона по ВТР закалка  1 зона уставка закалка  \\\n",
       "0                  900.0                   900.0   \n",
       "1                  900.0                   900.0   \n",
       "2                  900.0                   900.0   \n",
       "3                  850.0                   850.0   \n",
       "4                  850.0                   850.0   \n",
       "\n",
       "   1 зона фактическая температура закалка  2 зона по ВТР закалка  \\\n",
       "0                              899.666667                  900.0   \n",
       "1                              899.166667                  900.0   \n",
       "2                              898.500000                  900.0   \n",
       "3                              848.800000                  850.0   \n",
       "4                              846.000000                  850.0   \n",
       "\n",
       "   3 зона по ВТР закалка  3 зона уставка закалка  \\\n",
       "0                  910.0              900.000000   \n",
       "1                  910.0              902.666667   \n",
       "2                  910.0              900.000000   \n",
       "3                  860.0              848.000000   \n",
       "4                  860.0              845.000000   \n",
       "\n",
       "   3 зона фактическая температура закалка  \\\n",
       "0                              900.166667   \n",
       "1                              901.833333   \n",
       "2                              899.750000   \n",
       "3                              847.800000   \n",
       "4                              849.000000   \n",
       "\n",
       "   Температура трубы на выгрузке из печи закалки  \\\n",
       "0                                     897.666667   \n",
       "1                                     897.333333   \n",
       "2                                     895.500000   \n",
       "3                                     849.000000   \n",
       "4                                            NaN   \n",
       "\n",
       "   Скорость прохождения трубы через спрейер, м/с  t˚ C трубы после спреера  \\\n",
       "0                                           0.46                      47.5   \n",
       "1                                           0.46                      47.5   \n",
       "2                                           0.46                      47.5   \n",
       "3                                           0.54                      54.4   \n",
       "4                                           0.51                      55.0   \n",
       "\n",
       "   Расход воды на закалочный спрейер, м3  \\\n",
       "0                            1617.833333   \n",
       "1                            1625.666667   \n",
       "2                            1639.750000   \n",
       "3                            2066.000000   \n",
       "4                                    NaN   \n",
       "\n",
       "   время выдержки в закалочной ванне, сек.  t˚ C воды в закалочной ванне  \\\n",
       "0                                      NaN                          20.0   \n",
       "1                                      NaN                          20.0   \n",
       "2                                      NaN                          20.0   \n",
       "3                                      NaN                          27.0   \n",
       "4                                      NaN                          26.0   \n",
       "\n",
       "   t˚ C трубы после ванны  1 зона ВТР и уставка отпуск  \\\n",
       "0                     NaN                   682.500000   \n",
       "1                     NaN                   688.333333   \n",
       "2                     NaN                   685.000000   \n",
       "3                     NaN                   560.000000   \n",
       "4                     NaN                   560.000000   \n",
       "\n",
       "   1 зона фактическая температура отпуск  2 зона ВТР и уставка отпуск  \\\n",
       "0                             681.500000                        680.0   \n",
       "1                             688.166667                        685.0   \n",
       "2                             686.250000                        685.0   \n",
       "3                             561.400000                        560.0   \n",
       "4                             559.000000                        560.0   \n",
       "\n",
       "   3 зона ВТР и уставка отпуск  3 зона фактическая температура отпуск  \\\n",
       "0                        673.0                             673.333333   \n",
       "1                        679.0                             678.833333   \n",
       "2                        673.0                             672.250000   \n",
       "3                        555.0                             556.000000   \n",
       "4                        555.0                             553.000000   \n",
       "\n",
       "   4 зона ВТР и уставка отпуск  5 зона ВТР и уставка отпуск  \\\n",
       "0                        668.0                   656.000000   \n",
       "1                        673.0                   662.666667   \n",
       "2                        673.0                   656.000000   \n",
       "3                        555.0                   547.000000   \n",
       "4                        555.0                   547.000000   \n",
       "\n",
       "   5 зона фактическая температура отпуск  \\\n",
       "0                             655.833333   \n",
       "1                             662.500000   \n",
       "2                             656.000000   \n",
       "3                             546.800000   \n",
       "4                             547.000000   \n",
       "\n",
       "   Температура трубы на выгрузке из печи отпуска  масса\\nтн  \\\n",
       "0                                     646.666667   3.910000   \n",
       "1                                     649.666667   4.513333   \n",
       "2                                     650.250000   3.817500   \n",
       "3                                     561.200000   3.607800   \n",
       "4                                            NaN   0.500000   \n",
       "\n",
       "   шаг балок закалочная печь, сек  шаг балок отпускная печь, сек диаметр  \\\n",
       "0                            30.0                           30.0     114   \n",
       "1                            30.0                           30.0     114   \n",
       "2                            30.0                           30.0     114   \n",
       "3                            28.0                           27.0    88.9   \n",
       "4                            29.0                           27.0    88.9   \n",
       "\n",
       "   толщина стенки  \n",
       "0             6.0  \n",
       "1             6.0  \n",
       "2             6.0  \n",
       "3             6.5  \n",
       "4             6.5  "
      ]
     },
     "execution_count": 75,
     "metadata": {},
     "output_type": "execute_result"
    }
   ],
   "source": [
    "tmp_modes.head()"
   ]
  },
  {
   "cell_type": "code",
   "execution_count": null,
   "metadata": {
    "collapsed": true
   },
   "outputs": [],
   "source": []
  }
 ],
 "metadata": {
  "kernelspec": {
   "display_name": "Python 3",
   "language": "python",
   "name": "python3"
  },
  "language_info": {
   "codemirror_mode": {
    "name": "ipython",
    "version": 3
   },
   "file_extension": ".py",
   "mimetype": "text/x-python",
   "name": "python",
   "nbconvert_exporter": "python",
   "pygments_lexer": "ipython3",
   "version": "3.6.4"
  }
 },
 "nbformat": 4,
 "nbformat_minor": 2
}
