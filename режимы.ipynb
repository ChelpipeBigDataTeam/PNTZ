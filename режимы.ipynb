{
 "cells": [
  {
   "cell_type": "code",
   "execution_count": null,
   "metadata": {
    "collapsed": true
   },
   "outputs": [],
   "source": [
    "import pandas as pd\n",
    "import numpy as np\n",
    "import warnings\n",
    "import re\n",
    "import os\n",
    "warnings.filterwarnings(\"ignore\")\n",
    "pd.options.display.max_columns = 50\n",
    "pd.options.display.max_rows = 1000"
   ]
  },
  {
   "cell_type": "code",
   "execution_count": null,
   "metadata": {
    "collapsed": true
   },
   "outputs": [],
   "source": [
    "# подгрузка всех файлов без modes2017\n",
    "dr = 'modes'\n",
    "file_names = os.listdir(dr)"
   ]
  },
  {
   "cell_type": "code",
   "execution_count": null,
   "metadata": {
    "scrolled": true
   },
   "outputs": [],
   "source": [
    "# файлы в список\n",
    "mode_files = []\n",
    "for name in file_names[1:]:\n",
    "    mode_files.append(pd.read_excel(dr+'\\\\'+name,skiprows=1))\n",
    "    print(name)"
   ]
  },
  {
   "cell_type": "code",
   "execution_count": null,
   "metadata": {},
   "outputs": [],
   "source": [
    "for df in mode_files:\n",
    "#     for col in df:\n",
    "#         print(col)\n",
    "    if 603395 in df['№ партии.1']:\n",
    "        print(df.shape)"
   ]
  },
  {
   "cell_type": "code",
   "execution_count": null,
   "metadata": {
    "collapsed": true
   },
   "outputs": [],
   "source": [
    "del mode_files[7]['Unnamed: 42']"
   ]
  },
  {
   "cell_type": "code",
   "execution_count": null,
   "metadata": {
    "collapsed": true,
    "scrolled": true
   },
   "outputs": [],
   "source": [
    "def rep_part(ls):\n",
    "    for x in ls:\n",
    "        x = str(x)\n",
    "        x = x.replace('.0', '')\n",
    "    return ls\n",
    "\n",
    "# for mode in mode_files:\n",
    "#     mode['№ партии'] = mode['№ партии.1'].apply(rep_part)\n",
    "#     mode = mode[mode['№ партии'] != 'nan']\n",
    "#     print(mode['№ партии']);"
   ]
  },
  {
   "cell_type": "code",
   "execution_count": null,
   "metadata": {
    "collapsed": true
   },
   "outputs": [],
   "source": [
    "df_part = []\n",
    "for mode in mode_files:\n",
    "    for x in mode['№ партии.1']:\n",
    "        for ch in ['.0']:\n",
    "            df_part.append(str(x).replace(ch, ''))\n",
    "\n",
    "df_part = rep_part(df_part)\n",
    "\n",
    "# df_part.to_excel('df_part.xlsx')"
   ]
  },
  {
   "cell_type": "code",
   "execution_count": null,
   "metadata": {
    "scrolled": true
   },
   "outputs": [],
   "source": [
    "len(df_part)"
   ]
  },
  {
   "cell_type": "code",
   "execution_count": null,
   "metadata": {
    "collapsed": true
   },
   "outputs": [],
   "source": [
    "# for x in df_part:\n",
    "#     print(x)\n"
   ]
  },
  {
   "cell_type": "code",
   "execution_count": null,
   "metadata": {
    "collapsed": true,
    "scrolled": true
   },
   "outputs": [],
   "source": [
    "header = mode_files[0].columns"
   ]
  },
  {
   "cell_type": "code",
   "execution_count": null,
   "metadata": {
    "scrolled": true
   },
   "outputs": [],
   "source": [
    "# убираем заголовки\n",
    "tmp = []\n",
    "for mode in mode_files:\n",
    "    mode.columns = range(mode.shape[1])\n",
    "    tmp.append(mode)\n",
    "mode_files = tmp\n",
    "\n",
    "# убираем последние пять столбцов из всех таблиц\n",
    "for mode in mode_files:\n",
    "    mode.drop(mode.columns[37:43], axis=1, inplace=True)\n",
    "    \n",
    "mode_files[5].shape[1]"
   ]
  },
  {
   "cell_type": "code",
   "execution_count": null,
   "metadata": {
    "scrolled": false
   },
   "outputs": [],
   "source": [
    "for i in mode_files:\n",
    "    print(i.shape)"
   ]
  },
  {
   "cell_type": "code",
   "execution_count": null,
   "metadata": {
    "scrolled": false
   },
   "outputs": [],
   "source": [
    "df_modes = pd.DataFrame()\n",
    "# слияние всех режимов\n",
    "for df in mode_files:\n",
    "    df_modes = pd.concat([df_modes,df])\n",
    "\n",
    "df_modes.shape"
   ]
  },
  {
   "cell_type": "code",
   "execution_count": null,
   "metadata": {},
   "outputs": [],
   "source": [
    "df_modes.shape"
   ]
  },
  {
   "cell_type": "code",
   "execution_count": null,
   "metadata": {},
   "outputs": [],
   "source": [
    "len(header)"
   ]
  },
  {
   "cell_type": "code",
   "execution_count": null,
   "metadata": {},
   "outputs": [],
   "source": [
    "df_modes.columns"
   ]
  },
  {
   "cell_type": "code",
   "execution_count": null,
   "metadata": {
    "collapsed": true,
    "scrolled": false
   },
   "outputs": [],
   "source": [
    "df_modes.columns = header[:37]"
   ]
  },
  {
   "cell_type": "code",
   "execution_count": null,
   "metadata": {
    "collapsed": true,
    "scrolled": true
   },
   "outputs": [],
   "source": [
    "df_modes['№ партии'] = df_part"
   ]
  },
  {
   "cell_type": "code",
   "execution_count": null,
   "metadata": {
    "scrolled": true
   },
   "outputs": [],
   "source": [
    "df_modes = df_modes[df_modes['№ партии'] != 'nan']\n",
    "df_modes.shape"
   ]
  },
  {
   "cell_type": "code",
   "execution_count": null,
   "metadata": {
    "collapsed": true
   },
   "outputs": [],
   "source": [
    "df_modes.reset_index(drop=True, inplace=True)"
   ]
  },
  {
   "cell_type": "code",
   "execution_count": null,
   "metadata": {
    "scrolled": false
   },
   "outputs": [],
   "source": [
    "df_modes.columns\n",
    "full_ls = list(df_modes.columns)\n",
    "full_ls = full_ls[1:]\n",
    "full_ls"
   ]
  },
  {
   "cell_type": "code",
   "execution_count": null,
   "metadata": {},
   "outputs": [],
   "source": [
    "df_modes = df_modes.dropna(subset = ['№ партии'])\n",
    "df_modes.shape"
   ]
  },
  {
   "cell_type": "code",
   "execution_count": null,
   "metadata": {},
   "outputs": [],
   "source": [
    "df_modes[df_modes['№ партии'] ==  '-[026.xls]лист1!$m$18']"
   ]
  },
  {
   "cell_type": "code",
   "execution_count": null,
   "metadata": {
    "scrolled": true
   },
   "outputs": [],
   "source": [
    "df_modes.head()"
   ]
  },
  {
   "cell_type": "code",
   "execution_count": null,
   "metadata": {
    "collapsed": true
   },
   "outputs": [],
   "source": [
    "# df_modes[df_modes['№ партии'] == '127569']"
   ]
  },
  {
   "cell_type": "code",
   "execution_count": null,
   "metadata": {
    "collapsed": true
   },
   "outputs": [],
   "source": [
    "# df_part[df_part['№ партии.1'] == 612387]"
   ]
  },
  {
   "cell_type": "code",
   "execution_count": null,
   "metadata": {},
   "outputs": [],
   "source": [
    "# dict_part = df_part.to_dict('records')\n",
    "# dict_part\n",
    "df_copy_for_test = df_modes.dropna(subset = ['№ партии'])\n",
    "df_modes = df_copy_for_test\n",
    "df_copy_for_test.shape"
   ]
  },
  {
   "cell_type": "code",
   "execution_count": null,
   "metadata": {
    "collapsed": true
   },
   "outputs": [],
   "source": [
    "#список усредняемых столбцов\n",
    "l1 = [u'1 зона фактическая температура закалка',\n",
    "        u'3 зона фактическая температура закалка',\n",
    "        u'1 зона фактическая температура отпуск',\n",
    "        u'3 зона фактическая температура отпуск',\n",
    "        u'5 зона фактическая температура отпуск']"
   ]
  },
  {
   "cell_type": "code",
   "execution_count": null,
   "metadata": {},
   "outputs": [],
   "source": [
    "# try:\n",
    "#     df_modes[l1] = df_modes[l1].astype(float)\n",
    "#     df_modes = df_modes.groupby('№ партии')[l1].apply(lambda x: x.mean())\n",
    "# except:\n",
    "#     print('err')\n",
    "#     df_modes = df_modes.drop_duplicates('№ партии', keep = 'first')\n",
    "# df_modes.shape"
   ]
  },
  {
   "cell_type": "code",
   "execution_count": null,
   "metadata": {
    "collapsed": true,
    "scrolled": true
   },
   "outputs": [],
   "source": [
    "#df1 - исходная таблица без пакетов\n",
    "df_modes = df_modes.drop(['№ пакета'], axis=1)"
   ]
  },
  {
   "cell_type": "code",
   "execution_count": null,
   "metadata": {
    "scrolled": true
   },
   "outputs": [],
   "source": [
    "df_modes.index = df_modes['№ партии']\n",
    "df_modes.head()"
   ]
  },
  {
   "cell_type": "code",
   "execution_count": null,
   "metadata": {},
   "outputs": [],
   "source": [
    "df_modes = df_modes[df_modes['плавка'] != 'nan']\n",
    "df_modes.shape"
   ]
  },
  {
   "cell_type": "code",
   "execution_count": null,
   "metadata": {},
   "outputs": [],
   "source": [
    "# df_modes.to_excel('16022018.xlsx')"
   ]
  },
  {
   "cell_type": "code",
   "execution_count": null,
   "metadata": {
    "collapsed": true
   },
   "outputs": [],
   "source": [
    "df_modes.reset_index(drop=True, inplace=True)"
   ]
  },
  {
   "cell_type": "code",
   "execution_count": null,
   "metadata": {},
   "outputs": [],
   "source": [
    "df_modes[df_modes['№ партии'] ==  '-[026.xls]лист1!$m$18']"
   ]
  },
  {
   "cell_type": "code",
   "execution_count": null,
   "metadata": {
    "collapsed": true,
    "scrolled": false
   },
   "outputs": [],
   "source": [
    "def replace_all(x):\n",
    "    x = str(x)\n",
    "    x = x.replace(u'X', '/')\n",
    "    x = x.replace(u'x', '/')\n",
    "    x = x.replace(u'Х', '/')\n",
    "    x = x.replace(u'х', '/')\n",
    "    x = x.replace(',', '.')\n",
    "    x = x.replace('\\\\', '/')\n",
    "    x = x.replace('/-', '/0')\n",
    "    x = x.replace('-/', '0/')\n",
    "    x = x.replace('***', '0')\n",
    "    x = x.replace('*', '0')\n",
    "    x = x.replace('-', '/')\n",
    "    x = x.replace('nan', '')\n",
    "    return x\n",
    "\n",
    "def convert_step0(x):\n",
    "    return replace_all(x).split('/')[0]\n",
    "   \n",
    "def convert_step1(x):\n",
    "    try:\n",
    "        return replace_all(x).split('/')[1]\n",
    "    except:\n",
    "        return x\n",
    "\n",
    "df_modes = df_modes[df_modes[u'шаг балок закалочная/отпускная печи, сек']!='***']\n",
    "df_modes[u'шаг балок закалочная печь, сек'] = df_modes[u'шаг балок закалочная/отпускная печи, сек'].apply(convert_step0)\n",
    "# df_modes[u'шаг балок закалочная печь, сек'].to_excel('check.xlsx') \n",
    "df_modes[u'шаг балок отпускная печь, сек'] = df_modes[u'шаг балок закалочная/отпускная печи, сек'].apply(convert_step1)\n",
    "#del  df_modes2[u'шаг балок закалочная/отпускная печи, сек']"
   ]
  },
  {
   "cell_type": "code",
   "execution_count": null,
   "metadata": {},
   "outputs": [],
   "source": [
    "df_modes[u'D/S'].head()"
   ]
  },
  {
   "cell_type": "code",
   "execution_count": null,
   "metadata": {
    "collapsed": true,
    "scrolled": true
   },
   "outputs": [],
   "source": [
    "def split_d(x):\n",
    "    x = str(x)\n",
    "    x = x.replace(',', '.')\n",
    "    return re.split('х|Х|x|X', x)[0]\n",
    "\n",
    "def split_s(x):\n",
    "    x = str(x)\n",
    "    x = x.replace(',', '.')\n",
    "    try:\n",
    "        return re.split('х|Х|x|X', x)[1]\n",
    "    except:\n",
    "        return x"
   ]
  },
  {
   "cell_type": "code",
   "execution_count": null,
   "metadata": {
    "collapsed": true,
    "scrolled": true
   },
   "outputs": [],
   "source": [
    "def rep_ds(x):\n",
    "    x = str(x)\n",
    "    x = x.replace('п', '')\n",
    "    x = x.replace('П', '')\n",
    "    x = x.replace('nan', '')\n",
    "    x = x.replace(',', '.')\n",
    "    \n",
    "    return x\n",
    "\n",
    "df_modes['диаметр'] = df_modes[u'D/S'].apply(split_d)\n",
    "df_modes['толщина стенки'] = df_modes[u'D/S'].apply(split_s)\n",
    "df_modes['толщина стенки'] = df_modes['толщина стенки'].apply(rep_ds)\n",
    "df_modes['толщина стенки'] = df_modes['толщина стенки'].apply(lambda x: x.replace('107.95', ''))\n",
    "df_modes['диаметр'] = df_modes['диаметр'].apply(rep_ds)"
   ]
  },
  {
   "cell_type": "code",
   "execution_count": null,
   "metadata": {},
   "outputs": [],
   "source": [
    "def rep_u_sp(x):\n",
    "    x = str(x)\n",
    "    x = x.replace(u'сек', '')\n",
    "    x = x.replace(u'ек', '')\n",
    "    x = x.replace(u'\\мс', '')\n",
    "    x = x.replace(u'm/c', '')\n",
    "    x = x.replace(u'М/С', '')\n",
    "    x = x.replace(u'М\\С', '')\n",
    "    x = x.replace(u'nan', '')\n",
    "    x = x.replace(u'м/с', '')\n",
    "    x = x.replace(u'м\\с', '')\n",
    "    x = x.replace(u',', u'.')\n",
    "    x = x.replace(u'м\\\\', '')\n",
    "    x = x.replace(u'м/', '')\n",
    "    x = x.replace(u'*****', u'')\n",
    "    x = x.replace(u'****', u'')\n",
    "    x = x.replace(u'***', u'')\n",
    "    x = x.replace(u'29.03.2017', u'')\n",
    "    x = x.replace(',','.')\n",
    "    x = x.replace('041','0.41')\n",
    "    x = x.replace('НЕТ','')\n",
    "    x = x.replace('нет','')  \n",
    "    x = x.replace('м','')\n",
    "    x = x.replace('021', '0.21')\n",
    "    x = x.replace('1.8', '0.18')\n",
    "    x = x.replace('2.0', '0.2')\n",
    "    x = x.replace('012', '0.12')\n",
    "    if x == '45':\n",
    "        return '0.45'\n",
    "    if x == '064':\n",
    "        return '0.64'\n",
    "    x = x.replace(u'0.7.', '0.7')\n",
    "    try:\n",
    "        y = x.split('-')\n",
    "        x = (float(y[0])+float(y[1]))/2\n",
    "    except:\n",
    "        pass\n",
    "    return x\n",
    "    \n",
    "col = 'Скорость прохождения трубы через спрейер, м/с' \n",
    "df_modes[col] = df_modes[col].apply(rep_u_sp)\n",
    "# df_modes[u'Скорость прохождения трубы через спрейер, м/с'].to_excel('check_u.xlsx')"
   ]
  },
  {
   "cell_type": "code",
   "execution_count": null,
   "metadata": {
    "collapsed": true
   },
   "outputs": [],
   "source": [
    "def rep_s(x):\n",
    "    x = str(x)\n",
    "    x = x.replace(u'сек', '')\n",
    "    x = x.replace(u' ', '')\n",
    "    x = x.replace(u'.', '')\n",
    "    return x\n",
    "\n",
    "df_modes[u'время выдержки в закалочной ванне, сек.'] = df_modes[u'время выдержки в закалочной ванне, сек.'].apply(rep_s)\n",
    "# df_modes[u'время выдержки в закалочной ванне, сек.'].to_excel('check_t.xlsx')"
   ]
  },
  {
   "cell_type": "code",
   "execution_count": null,
   "metadata": {
    "scrolled": true
   },
   "outputs": [],
   "source": [
    "df_modes.shape"
   ]
  },
  {
   "cell_type": "code",
   "execution_count": null,
   "metadata": {},
   "outputs": [],
   "source": [
    "df_modes[u'№ плавки'] = df_modes[u'плавка']\n",
    "l2 = [\n",
    "    'Дата термообработки', u'время начала т/о',u'D/S',u'шаг балок закалочная/отпускная печи, сек', u'плавка',\n",
    "      '2 зона уставка закалка', '2 зона фактическая температура закалка', '2 зона фактическая температура отпуск', \n",
    "      '4 зона фактическая температура отпуск']\n",
    "df_modes = df_modes.drop(l2, axis = 1)\n",
    "df_modes.shape\n"
   ]
  },
  {
   "cell_type": "code",
   "execution_count": null,
   "metadata": {
    "scrolled": false
   },
   "outputs": [],
   "source": [
    "df_modes.shape"
   ]
  },
  {
   "cell_type": "code",
   "execution_count": null,
   "metadata": {
    "collapsed": true
   },
   "outputs": [],
   "source": [
    "str_to_del = [\n",
    "    3.75,\n",
    "    4.7,\n",
    "    4.18,\n",
    "    4.85,\n",
    "    4.78,\n",
    "    4.56,\n",
    "    3.71,\n",
    "    4.7,\n",
    "    4.63,\n",
    "    4.65,\n",
    "    4.52,\n",
    "    1.57,\n",
    "    3.87,\n",
    "    3.89,\n",
    "    2.5,\n",
    "    1.91,\n",
    "    2.98,\n",
    "    4.6,\n",
    "    4.71,\n",
    "    2.36,\n",
    "    4.39,\n",
    "    4.68,\n",
    "    1.82,\n",
    "    2.74,\n",
    "    2.81,\n",
    "    3.61\n",
    "    ]\n",
    "\n",
    "for i in str_to_del:\n",
    "    df_modes.drop(df_modes[df_modes['НД (гост, ту)'] == i].index, inplace=True, axis = 0)"
   ]
  },
  {
   "cell_type": "code",
   "execution_count": null,
   "metadata": {},
   "outputs": [],
   "source": [
    "df_modes.shape"
   ]
  },
  {
   "cell_type": "code",
   "execution_count": null,
   "metadata": {},
   "outputs": [],
   "source": [
    "df_modes.head()"
   ]
  },
  {
   "cell_type": "code",
   "execution_count": null,
   "metadata": {
    "collapsed": true,
    "scrolled": false
   },
   "outputs": [],
   "source": [
    "df_modes.drop(df_modes[df_modes['№ партии'].isnull()].index, inplace=True, axis = 0)"
   ]
  },
  {
   "cell_type": "code",
   "execution_count": null,
   "metadata": {},
   "outputs": [],
   "source": [
    "df_modes.shape"
   ]
  },
  {
   "cell_type": "code",
   "execution_count": null,
   "metadata": {
    "collapsed": true
   },
   "outputs": [],
   "source": [
    "def rep_steel(x):\n",
    "    x = str(x)\n",
    "    x = x.replace('092ГС','09Г2С')\n",
    "    x = x.replace('13 ХФА','13ХФА')\n",
    "    x = x.replace('13хфа','13ХФА')\n",
    "    x = x.replace('13ХФА ','13ХФА')\n",
    "    x = x.replace('13хфа-3','13ХФА-3')\n",
    "    x = x.replace('15Х13H2MБ','15Х13H2МБ')\n",
    "    x = x.replace('15х5мфбч','15Х5МФБЧ')\n",
    "    x = x.replace('18х3мфб','18Х3МФБ')\n",
    "    x = x.replace('18Х3МФБ ','18Х3МФБ')\n",
    "    x = x.replace('18х3ХМФБ','18Х3МФБ')\n",
    "    x = x.replace('18хзмфб','18Х3МФБ')\n",
    "    x = x.replace('18хмфб','18ХМФБ')\n",
    "    x = x.replace('18ХМФБ ','18ХМФБ')\n",
    "    x = x.replace('20А простая','20А-пр')\n",
    "    x = x.replace('20А-ПР','20А-пр')\n",
    "    x = x.replace('20 А','20А')    \n",
    "    x = x.replace('20A','20А') \n",
    "    x = x.replace('20А ','20А')\n",
    "    x = x.replace('20 АУ','20А-У')\n",
    "    x = x.replace('20АУ','20А-У')\n",
    "    x = x.replace('30Г2 ','30Г2')\n",
    "    x = x.replace('30Г2.','30Г2')\n",
    "    x = x.replace('30г2-2','30Г2-2')\n",
    "    x = x.replace('30г2ф','30Г2Ф')\n",
    "    x = x.replace('30г2','30Г2')\n",
    "    x = x.replace('30хгма','30ХГМА')\n",
    "    x = x.replace('30ХГМА1','30ХГМА-1')\n",
    "    x = x.replace('30хма','30ХМА')\n",
    "    x = x.replace('32г1','32Г1')\n",
    "    x = x.replace('32г2','32Г2')\n",
    "    x = x.replace('32х1мф-1','32Х1МФ-1')\n",
    "    x = x.replace('32ха','32ХА')\n",
    "    x = x.replace('37г2ф','37Г2Ф')\n",
    "    x = x.replace('37г2Ф','37Г2Ф')\n",
    "    x = x.replace('37Г2ф','37Г2Ф')\n",
    "    x = x.replace('37Г2Ф ','37Г2Ф')\n",
    "    x = x.replace('38Г2С ','38Г2С')\n",
    "    x = x.replace('38г2с-4','38Г2С-4')\n",
    "    x = x.replace('38Г2-С-9','38Г2С-9')\n",
    "    x = x.replace('30Г2 ', '30Г2')\n",
    "    return x\n",
    "\n",
    "df_modes['марка стали'] = df_modes['марка стали'].apply(rep_steel)"
   ]
  },
  {
   "cell_type": "code",
   "execution_count": null,
   "metadata": {
    "collapsed": true
   },
   "outputs": [],
   "source": [
    "def rep_vtr(x):\n",
    "    x = str(x)\n",
    "    x = x.replace('*****','')\n",
    "    x = x.replace('****','')\n",
    "    x = x.replace('***','')\n",
    "    x = x.replace('-','')\n",
    "    x = x.replace('50/*','')\n",
    "    x = x.replace('нет','')\n",
    "    x = x.replace('НЕТ','')\n",
    "    return x\n",
    "\n",
    "df_modes['1 зона по ВТР закалка'] = df_modes['1 зона по ВТР закалка'].apply(rep_vtr)\n",
    "df_modes['2 зона по ВТР закалка'] = df_modes['2 зона по ВТР закалка'].apply(rep_vtr)\n",
    "df_modes['3 зона по ВТР закалка'] = df_modes['3 зона по ВТР закалка'].apply(rep_vtr)\n"
   ]
  },
  {
   "cell_type": "code",
   "execution_count": null,
   "metadata": {
    "collapsed": true
   },
   "outputs": [],
   "source": [
    "def rep_nd(x):\n",
    "    x = str(x)\n",
    "    x = x.replace('н/д','')\n",
    "    x = x.replace('.0', '')\n",
    "    x = x.replace('НЕТ', '')\n",
    "    x = x.replace('***', '')\n",
    "    return x\n",
    "\n",
    "df_modes['1 зона уставка закалка'] = df_modes['1 зона уставка закалка'].apply(rep_nd)\n",
    "df_modes['1 зона фактическая температура закалка'] = df_modes['1 зона фактическая температура закалка'].apply(rep_nd)\n",
    "df_modes['3 зона уставка закалка'] = df_modes['3 зона уставка закалка'].apply(rep_nd)\n",
    "df_modes['3 зона фактическая температура закалка'] = df_modes['3 зона фактическая температура закалка'].apply(rep_nd)\n",
    "df_modes['Температура трубы на выгрузке из печи закалки'] = df_modes['Температура трубы на выгрузке из печи закалки'].apply(rep_nd)\n",
    "df_modes['Расход воды на закалочный спрейер, м3'] = df_modes['Расход воды на закалочный спрейер, м3'].apply(rep_nd)\n",
    "df_modes['t˚ C воды в закалочной ванне'] = df_modes['t˚ C воды в закалочной ванне'].apply(rep_nd)\n",
    "df_modes['1 зона фактическая температура отпуск'] = df_modes['1 зона фактическая температура отпуск'].apply(rep_nd)\n",
    "df_modes['3 зона ВТР и уставка отпуск'] = df_modes['3 зона ВТР и уставка отпуск'].apply(rep_nd)\n",
    "df_modes['3 зона фактическая температура отпуск'] = df_modes['3 зона фактическая температура отпуск'].apply(rep_nd)\n",
    "df_modes['5 зона ВТР и уставка отпуск'] = df_modes['5 зона ВТР и уставка отпуск'].apply(rep_nd)\n",
    "df_modes['5 зона фактическая температура отпуск'] = df_modes['5 зона фактическая температура отпуск'].apply(rep_nd)\n",
    "df_modes['Температура трубы на выгрузке из печи отпуска'] = df_modes['Температура трубы на выгрузке из печи отпуска'].apply(rep_nd)"
   ]
  },
  {
   "cell_type": "code",
   "execution_count": null,
   "metadata": {
    "collapsed": true
   },
   "outputs": [],
   "source": [
    "def rep_time(x):\n",
    "    x = str(x)\n",
    "    x = x.replace('nan','')\n",
    "    x = x.replace('НЕТ','')\n",
    "    x = x.replace('нет','')\n",
    "    x = x.replace('НОРМ','')\n",
    "    x = x.replace('****','')\n",
    "    x = x.replace('***','')\n",
    "    x = x.replace('40-50','45')\n",
    "    x = x.replace('сек','')\n",
    "    x = x.replace('с','')\n",
    "    x = x.replace(',','.')\n",
    "    x = x.replace('11cек', '')\n",
    "    return x\n",
    "\n",
    "\n",
    "col ='время выдержки в закалочной ванне, сек.'\n",
    "df_modes[col] = df_modes[col].apply(rep_time)"
   ]
  },
  {
   "cell_type": "code",
   "execution_count": null,
   "metadata": {},
   "outputs": [],
   "source": [
    "def rep_tempr(x):\n",
    "    x = str(x)\n",
    "    x = x.replace('******','')\n",
    "    x = x.replace('*****','')\n",
    "    x = x.replace('****','')\n",
    "    x = x.replace('***','')\n",
    "    x = x.replace('НОРМ-ИЯ', '')\n",
    "    x = x.replace('норм-ция', '')\n",
    "    x = x.replace('\\\\','/')\n",
    "    x = x.replace('-','/')\n",
    "    x = x.replace('<', '')\n",
    "    x = x.replace('>', '')\n",
    "    x = x.replace('Доотпуск', 'доотпуск')\n",
    "    x = x.replace('до', '')\n",
    "    x = x.replace('Бизнес Тренд', '')\n",
    "    x = x.replace('БизнесТренд', '')\n",
    "    x = x.replace('ВОЗДУХ', '')\n",
    "    x = x.replace('Воздух', '')\n",
    "    x = x.replace('воэдух', '')\n",
    "    x = x.replace('высадка', '')\n",
    "    x = x.replace('закалка', '')\n",
    "    x = x.replace('НЕТ', '')\n",
    "    x = x.replace('нет', '')\n",
    "    x = x.replace('НЕТ', '') \n",
    "    x = x.replace('нет', '')\n",
    "    x = x.replace('НОРМ', '')\n",
    "    x = x.replace('нормализ.', '')\n",
    "    x = x.replace('нормализация', '')\n",
    "    x = x.replace('воздух', '')\n",
    "    x = x.replace('61702', '')\n",
    "    x = x.replace('опытные.','')\n",
    "    x = x.replace('на е','')\n",
    "    x = x.replace('норм/ия','')\n",
    "    x = x.replace(',','.')\n",
    "    y = x.split('/')\n",
    "    if len(y)==1:\n",
    "        return x\n",
    "    fl = True\n",
    "    tmpy= []\n",
    "    for i in y:\n",
    "        if len(i) == 4:\n",
    "            y.append(i[0:2])\n",
    "            y.append(i[2:4])\n",
    "            y.remove(i)\n",
    "    for i in y:\n",
    "        try:\n",
    "            tmpy.append(float(i))\n",
    "        except:\n",
    "            tmpy.append(i)\n",
    "            fl = False\n",
    "    if(fl):\n",
    "        y = tmpy   \n",
    "        x = np.mean(y)\n",
    "    if x=='0':\n",
    "        x=''\n",
    "    return x\n",
    "\n",
    "col = 't˚ C трубы после спреера'\n",
    "# df_modes[col].to_excel('check_col_before.xlsx')\n",
    "df_modes[col] = df_modes[col].apply(rep_tempr)\n",
    "df_modes.drop(df_modes[df_modes[col]=='отпуск'].index, inplace = True, axis = 0)\n",
    "df_modes[col] = df_modes[col].apply(\n",
    "                lambda y: str(y) if (y!='nan')&(y!='')&(y!=None)&(y!=' ') else None).astype(float)\n",
    "# df_modes[col].to_excel('check_col.xlsx')"
   ]
  },
  {
   "cell_type": "code",
   "execution_count": null,
   "metadata": {},
   "outputs": [],
   "source": [
    "def rep_tempr_bath(x):\n",
    "    x = str(x)\n",
    "    x = x.replace('Бизнес Тренд', '')\n",
    "    x = x.replace('бизнес тренд', '')\n",
    "    x = x.replace('высадка.', '')\n",
    "    x = x.replace('высадка', '')\n",
    "    x = x.replace('ВЫСАДКА', '')\n",
    "    x = x.replace('Высадка', '')\n",
    "    x = x.replace('высадка', '') \n",
    "    x = x.replace('доотпуск.', 'отпуск')\n",
    "    x = x.replace('доотпуск', 'отпуск')\n",
    "    x = x.replace('Доотпуск', 'отпуск')\n",
    "    x = x.replace('отпуск.', 'отпуск')\n",
    "    x = x.replace('на отпуск', 'отпуск')\n",
    "    x = x.replace('в малахи', '')\n",
    "    x = x.replace('ДООТПУСК', 'отпуск')\n",
    "    x = x.replace('НЕТ', '')\n",
    "    x = x.replace('нет', '')\n",
    "    x = x.replace('НЕТ', '') \n",
    "    x = x.replace('НК 8500', '')\n",
    "    x = x.replace('НК 9000', '')\n",
    "    x = x.replace('нормализ.', '')\n",
    "    x = x.replace('нормализация', '')\n",
    "    x = x.replace('нормал-ция', '')\n",
    "    x = x.replace('НОРМ-ИЯ', '')\n",
    "    x = x.replace('норм-ция.', '')\n",
    "    x = x.replace('норм-ция', '')\n",
    "    x = x.replace('нор-ция', '')\n",
    "    x = x.replace('нор/ция', '')\n",
    "    x = x.replace('опытные.', '')\n",
    "    x = x.replace('ОПЫТНЫЕ', '')\n",
    "    x = x.replace('повторная', '')\n",
    "    x = x.replace('повтор', '')\n",
    "    x = x.replace('ПОВТОР', '')\n",
    "    x = x.replace('Самара', '')\n",
    "    x = x.replace('СИТЦ', '')\n",
    "    x = x.replace('Трэнд', '')\n",
    "    x = x.replace('ЧПТЗ', '')\n",
    "    x = x.replace('ЧТПЗ', '')\n",
    "    x = x.replace('30 СЕК.', '30')\n",
    "    x = x.replace('2/я зак/ка', '')\n",
    "    x = x.replace('ТРЕНД', '')\n",
    "    x = x.replace('ПЛ.Р. Ц42/№10','')\n",
    "    x = x.replace('Челябинск','')\n",
    "    x = x.replace('нормал/ция', '')\n",
    "    if x=='0':\n",
    "        x=''\n",
    "    if x=='.':\n",
    "        x=''\n",
    "    return x\n",
    "col = 't˚ C трубы после ванны'\n",
    "# df_modes[col].to_excel('check_col_before.xlsx')\n",
    "df_modes[col] = df_modes[col].apply(rep_tempr)\n",
    "df_modes[col] = df_modes[col].apply(rep_tempr_bath)\n",
    "df_modes.drop(df_modes[df_modes['t˚ C трубы после ванны']=='отпуск'].index, inplace = True, axis = 0)\n",
    "df_modes[col] = df_modes[col].apply(\n",
    "                lambda y: str(y) if (y!='nan')&(y!='')&(y!=None)&(y!=' ') else None).astype(float)\n",
    "# df_modes[col].to_excel('check_col.xlsx')"
   ]
  },
  {
   "cell_type": "code",
   "execution_count": null,
   "metadata": {},
   "outputs": [],
   "source": [
    "# df_modes[df_modes['t˚ C трубы после ванны'] == 'ПЛ.Р. Ц42/№10']"
   ]
  },
  {
   "cell_type": "code",
   "execution_count": null,
   "metadata": {
    "collapsed": true
   },
   "outputs": [],
   "source": [
    "def rep_vtr(x):\n",
    "    x = str(x)\n",
    "    x = x.replace('н/д','')\n",
    "    x = x.replace('***','')\n",
    "    return x\n",
    "\n",
    "\n",
    "df_modes['1 зона ВТР и уставка отпуск'] = df_modes['1 зона ВТР и уставка отпуск'].apply(rep_vtr)"
   ]
  },
  {
   "cell_type": "code",
   "execution_count": null,
   "metadata": {
    "collapsed": true
   },
   "outputs": [],
   "source": [
    "def rep_vtr2(x):\n",
    "    x = str(x)\n",
    "    x = x.replace('***', '')\n",
    "    x = x.replace('****', '')\n",
    "    x = x.replace('НЕТ', '') \n",
    "    x = x.replace('нет', '')\n",
    "    if x == '67':\n",
    "        return '670'\n",
    "    if x == '69':\n",
    "        return '690'\n",
    "    return x\n",
    "\n",
    "df_modes['2 зона ВТР и уставка отпуск'] = df_modes['2 зона ВТР и уставка отпуск'].apply(rep_vtr2)\n",
    "df_modes['4 зона ВТР и уставка отпуск'] = df_modes['4 зона ВТР и уставка отпуск'].apply(rep_vtr2)"
   ]
  },
  {
   "cell_type": "code",
   "execution_count": null,
   "metadata": {},
   "outputs": [],
   "source": [
    "df_modes.shape"
   ]
  },
  {
   "cell_type": "code",
   "execution_count": null,
   "metadata": {
    "collapsed": true
   },
   "outputs": [],
   "source": [
    "#186\n",
    "df_modes.drop(df_modes[df_modes['шаг балок закалочная печь, сек'] == '0'].index, inplace=True, axis=0)\n",
    "#204\n",
    "df_modes.drop(df_modes[df_modes['шаг балок отпускная печь, сек'] == '0'].index, inplace=True, axis=0)"
   ]
  },
  {
   "cell_type": "code",
   "execution_count": null,
   "metadata": {
    "scrolled": true
   },
   "outputs": [],
   "source": [
    "df_modes.shape"
   ]
  },
  {
   "cell_type": "code",
   "execution_count": null,
   "metadata": {
    "scrolled": false
   },
   "outputs": [],
   "source": [
    "ls_mean = df_modes.columns[4:-3]\n",
    "list(ls_mean)"
   ]
  },
  {
   "cell_type": "code",
   "execution_count": null,
   "metadata": {},
   "outputs": [],
   "source": [
    "def get_mean(df):\n",
    "#     df = df.groupby(['№ плавки', '№ партии']).first()\n",
    "#     print(df.head())\n",
    "    for col in ls_mean:\n",
    "        if col in df:\n",
    "            print(col)\n",
    "#             try:\n",
    "            df[col] = df.groupby(['№ плавки', '№ партии'])[col].transform(\n",
    "                lambda x: x.apply(\n",
    "                lambda y: str(y) if (y!='nan')&(y!='')&(y!=None)&(y!=' ') else None).astype(float).mean())\n",
    "#             except:\n",
    "#                 print(col)\n",
    "#                 pass\n",
    "#             df[col] = df[col].apply(lambda x: str(x) if (x!='nan')&(x!='')&(x!=None)&(x!=' ') else None).astype(float)\n",
    "            \n",
    "#     df = df.reset_index()\n",
    "    return df"
   ]
  },
  {
   "cell_type": "code",
   "execution_count": null,
   "metadata": {
    "collapsed": true
   },
   "outputs": [],
   "source": [
    "df_modes['№ партии'] = df_modes['№ партии'].astype(str).str.lower()\n",
    "df_modes['№ плавки'] = df_modes['№ плавки'].astype(str).str.lower()"
   ]
  },
  {
   "cell_type": "code",
   "execution_count": null,
   "metadata": {},
   "outputs": [],
   "source": [
    "df_modes.shape"
   ]
  },
  {
   "cell_type": "code",
   "execution_count": null,
   "metadata": {
    "scrolled": true
   },
   "outputs": [],
   "source": [
    "tmp = get_mean(df_modes)\n",
    "# tmp.groupby('№ партии').shape\n",
    "tmp.shape"
   ]
  },
  {
   "cell_type": "code",
   "execution_count": null,
   "metadata": {
    "collapsed": true
   },
   "outputs": [],
   "source": [
    "# tmp.to_excel('check_gr.xlsx')"
   ]
  },
  {
   "cell_type": "code",
   "execution_count": null,
   "metadata": {
    "collapsed": true
   },
   "outputs": [],
   "source": [
    "# tmp = pd.read_excel('check_gr.xlsx')"
   ]
  },
  {
   "cell_type": "code",
   "execution_count": null,
   "metadata": {},
   "outputs": [],
   "source": [
    "full_ls = list(df_modes.columns)\n",
    "# print(len(full_ls))\n",
    "full_ls = full_ls[-1:]+full_ls[0:-1]\n",
    "# print(len(full_ls))\n",
    "full_ls.remove('кол-во, шт.') \n",
    "# full_ls"
   ]
  },
  {
   "cell_type": "code",
   "execution_count": null,
   "metadata": {
    "scrolled": false
   },
   "outputs": [],
   "source": [
    "# tmp[tmp['№ партии'].duplicated()]\n",
    "tmp = tmp[full_ls]\n",
    "tmp = tmp.drop_duplicates()\n",
    "tmp.to_excel('for_comparision.xlsx')\n",
    "tmp.shape"
   ]
  },
  {
   "cell_type": "code",
   "execution_count": null,
   "metadata": {},
   "outputs": [],
   "source": [
    "tmp['2 зона по ВТР закалка'] = tmp['2 зона по ВТР закалка'].apply(lambda x: x*10 if x<100 else x)\n",
    "tmp.shape"
   ]
  },
  {
   "cell_type": "code",
   "execution_count": null,
   "metadata": {},
   "outputs": [],
   "source": [
    "tmp.to_excel('all_modes_clean_2.xlsx')"
   ]
  },
  {
   "cell_type": "code",
   "execution_count": null,
   "metadata": {
    "collapsed": true
   },
   "outputs": [],
   "source": []
  }
 ],
 "metadata": {
  "kernelspec": {
   "display_name": "Python 3",
   "language": "python",
   "name": "python3"
  },
  "language_info": {
   "codemirror_mode": {
    "name": "ipython",
    "version": 3
   },
   "file_extension": ".py",
   "mimetype": "text/x-python",
   "name": "python",
   "nbconvert_exporter": "python",
   "pygments_lexer": "ipython3",
   "version": "3.6.4"
  }
 },
 "nbformat": 4,
 "nbformat_minor": 2
}
