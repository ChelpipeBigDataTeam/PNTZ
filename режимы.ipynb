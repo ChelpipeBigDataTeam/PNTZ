{
 "cells": [
  {
   "cell_type": "code",
   "execution_count": 8,
   "metadata": {
    "collapsed": true
   },
   "outputs": [],
   "source": [
    "import pandas as pd\n",
    "import numpy as np\n",
    "import warnings\n",
    "import re\n",
    "warnings.filterwarnings(\"ignore\")"
   ]
  },
  {
   "cell_type": "code",
   "execution_count": 9,
   "metadata": {
    "collapsed": true
   },
   "outputs": [],
   "source": [
    "pd.options.display.max_columns = 50"
   ]
  },
  {
   "cell_type": "code",
   "execution_count": 10,
   "metadata": {
    "collapsed": true
   },
   "outputs": [],
   "source": [
    "pd.options.display.max_rows = 1000"
   ]
  },
  {
   "cell_type": "code",
   "execution_count": 11,
   "metadata": {
    "collapsed": true
   },
   "outputs": [],
   "source": [
    "# подгрузка всех файлов без modes2017\n",
    "import os\n",
    "dr = 'modes'\n",
    "file_names = os.listdir(dr)"
   ]
  },
  {
   "cell_type": "code",
   "execution_count": 34,
   "metadata": {
    "scrolled": true
   },
   "outputs": [
    {
     "name": "stdout",
     "output_type": "stream",
     "text": [
      "сводка 1 и 2 квартал 2017_v2.xls\n",
      "сводка 3 квартал 2017.xls\n",
      "сводка декабрь 2017_v2.xls\n",
      "сводка ноябрь 2017_v2.xls\n",
      "сводка октябрь 2017_v2.xls\n",
      "сводная 2012_v2.xls\n",
      "сводная 2013_v2.xls\n",
      "сводная 2014_v2.xls\n",
      "сводная 2015_v2.xls\n",
      "сводная 2016_v2.xls\n"
     ]
    }
   ],
   "source": [
    "# файлы в список\n",
    "mode_files = []\n",
    "for name in file_names[1:]:\n",
    "    mode_files.append(pd.read_excel(dr+'\\\\'+name,skiprows=1))\n",
    "    print(name)"
   ]
  },
  {
   "cell_type": "code",
   "execution_count": 35,
   "metadata": {},
   "outputs": [],
   "source": [
    "for df in mode_files:\n",
    "#     for col in df:\n",
    "#         print(col)\n",
    "    if 603395 in df['№ партии.1']:\n",
    "        print(df.shape)"
   ]
  },
  {
   "cell_type": "code",
   "execution_count": 36,
   "metadata": {},
   "outputs": [],
   "source": [
    "del mode_files[7]['Unnamed: 42']"
   ]
  },
  {
   "cell_type": "code",
   "execution_count": 19,
   "metadata": {
    "collapsed": true,
    "scrolled": true
   },
   "outputs": [],
   "source": [
    "def rep_part(ls):\n",
    "    for x in ls:\n",
    "        x = str(x)\n",
    "        x = x.replace('.0', '')\n",
    "    return ls\n",
    "\n",
    "# for mode in mode_files:\n",
    "#     mode['№ партии'] = mode['№ партии.1'].apply(rep_part)\n",
    "#     mode = mode[mode['№ партии'] != 'nan']\n",
    "#     print(mode['№ партии']);"
   ]
  },
  {
   "cell_type": "code",
   "execution_count": 37,
   "metadata": {},
   "outputs": [],
   "source": [
    "df_part = []\n",
    "for mode in mode_files:\n",
    "    for x in mode['№ партии.1']:\n",
    "        for ch in ['.0']:\n",
    "            df_part.append(str(x).replace(ch, ''))\n",
    "\n",
    "df_part = rep_part(df_part)\n",
    "\n",
    "# df_part.to_excel('df_part.xlsx')"
   ]
  },
  {
   "cell_type": "code",
   "execution_count": 38,
   "metadata": {
    "scrolled": true
   },
   "outputs": [
    {
     "data": {
      "text/plain": [
       "129559"
      ]
     },
     "execution_count": 38,
     "metadata": {},
     "output_type": "execute_result"
    }
   ],
   "source": [
    "len(df_part)"
   ]
  },
  {
   "cell_type": "code",
   "execution_count": 39,
   "metadata": {
    "collapsed": true
   },
   "outputs": [],
   "source": [
    "# for x in df_part:\n",
    "#     print(x)"
   ]
  },
  {
   "cell_type": "code",
   "execution_count": 40,
   "metadata": {
    "collapsed": true,
    "scrolled": true
   },
   "outputs": [],
   "source": [
    "header = mode_files[0].columns"
   ]
  },
  {
   "cell_type": "code",
   "execution_count": 41,
   "metadata": {
    "scrolled": true
   },
   "outputs": [
    {
     "data": {
      "text/plain": [
       "37"
      ]
     },
     "execution_count": 41,
     "metadata": {},
     "output_type": "execute_result"
    }
   ],
   "source": [
    "# убираем заголовки\n",
    "tmp = []\n",
    "for mode in mode_files:\n",
    "    mode.columns = range(mode.shape[1])\n",
    "    tmp.append(mode)\n",
    "mode_files = tmp\n",
    "\n",
    "# убираем последние пять столбцов из всех таблиц\n",
    "for mode in mode_files:\n",
    "    mode.drop(mode.columns[37:43], axis=1, inplace=True)\n",
    "    \n",
    "mode_files[5].shape[1]"
   ]
  },
  {
   "cell_type": "code",
   "execution_count": 42,
   "metadata": {
    "scrolled": false
   },
   "outputs": [
    {
     "name": "stdout",
     "output_type": "stream",
     "text": [
      "(9682, 37)\n",
      "(5436, 37)\n",
      "(2437, 37)\n",
      "(2170, 37)\n",
      "(2101, 37)\n",
      "(19689, 37)\n",
      "(19991, 37)\n",
      "(18277, 37)\n",
      "(25074, 37)\n",
      "(24702, 37)\n"
     ]
    }
   ],
   "source": [
    "for i in mode_files:\n",
    "    print(i.shape)"
   ]
  },
  {
   "cell_type": "code",
   "execution_count": 43,
   "metadata": {
    "scrolled": false
   },
   "outputs": [
    {
     "data": {
      "text/plain": [
       "(129559, 37)"
      ]
     },
     "execution_count": 43,
     "metadata": {},
     "output_type": "execute_result"
    }
   ],
   "source": [
    "df_modes = pd.DataFrame()\n",
    "# слияние всех режимов\n",
    "for df in mode_files:\n",
    "    df_modes = pd.concat([df_modes,df])\n",
    "\n",
    "df_modes.shape"
   ]
  },
  {
   "cell_type": "code",
   "execution_count": 44,
   "metadata": {},
   "outputs": [
    {
     "data": {
      "text/plain": [
       "(129559, 37)"
      ]
     },
     "execution_count": 44,
     "metadata": {},
     "output_type": "execute_result"
    }
   ],
   "source": [
    "df_modes.shape"
   ]
  },
  {
   "cell_type": "code",
   "execution_count": 45,
   "metadata": {},
   "outputs": [
    {
     "data": {
      "text/plain": [
       "42"
      ]
     },
     "execution_count": 45,
     "metadata": {},
     "output_type": "execute_result"
    }
   ],
   "source": [
    "len(header)"
   ]
  },
  {
   "cell_type": "code",
   "execution_count": 46,
   "metadata": {},
   "outputs": [
    {
     "data": {
      "text/plain": [
       "Int64Index([ 0,  1,  2,  3,  4,  5,  6,  7,  8,  9, 10, 11, 12, 13, 14, 15, 16,\n",
       "            17, 18, 19, 20, 21, 22, 23, 24, 25, 26, 27, 28, 29, 30, 31, 32, 33,\n",
       "            34, 35, 36],\n",
       "           dtype='int64')"
      ]
     },
     "execution_count": 46,
     "metadata": {},
     "output_type": "execute_result"
    }
   ],
   "source": [
    "df_modes.columns"
   ]
  },
  {
   "cell_type": "code",
   "execution_count": 47,
   "metadata": {
    "scrolled": false
   },
   "outputs": [],
   "source": [
    "df_modes.columns = header[:37]"
   ]
  },
  {
   "cell_type": "code",
   "execution_count": 48,
   "metadata": {
    "collapsed": true,
    "scrolled": true
   },
   "outputs": [],
   "source": [
    "df_modes['№ партии'] = df_part"
   ]
  },
  {
   "cell_type": "code",
   "execution_count": 49,
   "metadata": {
    "scrolled": true
   },
   "outputs": [
    {
     "data": {
      "text/plain": [
       "(129086, 37)"
      ]
     },
     "execution_count": 49,
     "metadata": {},
     "output_type": "execute_result"
    }
   ],
   "source": [
    "df_modes = df_modes[df_modes['№ партии'] != 'nan']\n",
    "df_modes.shape"
   ]
  },
  {
   "cell_type": "code",
   "execution_count": 50,
   "metadata": {
    "collapsed": true
   },
   "outputs": [],
   "source": [
    "df_modes.reset_index(drop=True, inplace=True)"
   ]
  },
  {
   "cell_type": "code",
   "execution_count": 51,
   "metadata": {
    "scrolled": false
   },
   "outputs": [
    {
     "data": {
      "text/plain": [
       "Index(['№ пакета', '№ партии', 'плавка', 'НД (гост, ту)', 'марка стали',\n",
       "       'кол-во, шт.', 'D/S', 'Дата термообработки', 'время начала т/о',\n",
       "       'шаг балок закалочная/отпускная печи, сек', '1 зона по ВТР закалка',\n",
       "       '1 зона уставка закалка', '1 зона фактическая температура закалка',\n",
       "       '2 зона по ВТР закалка', '2 зона уставка закалка',\n",
       "       '2 зона фактическая температура закалка', '3 зона по ВТР закалка',\n",
       "       '3 зона уставка закалка', '3 зона фактическая температура закалка',\n",
       "       'Температура трубы на выгрузке из печи закалки',\n",
       "       'Скорость прохождения трубы через спрейер, м/с',\n",
       "       't˚ C трубы после спреера', 'Расход воды на закалочный спрейер, м3',\n",
       "       'время выдержки в закалочной ванне, сек.',\n",
       "       't˚ C воды в закалочной ванне', 't˚ C трубы после ванны',\n",
       "       '1 зона ВТР и уставка отпуск', '1 зона фактическая температура отпуск',\n",
       "       '2 зона ВТР и уставка отпуск', '2 зона фактическая температура отпуск',\n",
       "       '3 зона ВТР и уставка отпуск', '3 зона фактическая температура отпуск',\n",
       "       '4 зона ВТР и уставка отпуск', '4 зона фактическая температура отпуск',\n",
       "       '5 зона ВТР и уставка отпуск', '5 зона фактическая температура отпуск',\n",
       "       'Температура трубы на выгрузке из печи отпуска'],\n",
       "      dtype='object')"
      ]
     },
     "execution_count": 51,
     "metadata": {},
     "output_type": "execute_result"
    }
   ],
   "source": [
    "df_modes.columns"
   ]
  },
  {
   "cell_type": "code",
   "execution_count": 52,
   "metadata": {
    "collapsed": true
   },
   "outputs": [],
   "source": [
    "df_modes = df_modes.dropna(subset = ['№ партии'])"
   ]
  },
  {
   "cell_type": "code",
   "execution_count": 53,
   "metadata": {},
   "outputs": [
    {
     "data": {
      "text/html": [
       "<div>\n",
       "<style>\n",
       "    .dataframe thead tr:only-child th {\n",
       "        text-align: right;\n",
       "    }\n",
       "\n",
       "    .dataframe thead th {\n",
       "        text-align: left;\n",
       "    }\n",
       "\n",
       "    .dataframe tbody tr th {\n",
       "        vertical-align: top;\n",
       "    }\n",
       "</style>\n",
       "<table border=\"1\" class=\"dataframe\">\n",
       "  <thead>\n",
       "    <tr style=\"text-align: right;\">\n",
       "      <th></th>\n",
       "      <th>№ пакета</th>\n",
       "      <th>№ партии</th>\n",
       "      <th>плавка</th>\n",
       "      <th>НД (гост, ту)</th>\n",
       "      <th>марка стали</th>\n",
       "      <th>кол-во, шт.</th>\n",
       "      <th>D/S</th>\n",
       "      <th>Дата термообработки</th>\n",
       "      <th>время начала т/о</th>\n",
       "      <th>шаг балок закалочная/отпускная печи, сек</th>\n",
       "      <th>1 зона по ВТР закалка</th>\n",
       "      <th>1 зона уставка закалка</th>\n",
       "      <th>1 зона фактическая температура закалка</th>\n",
       "      <th>2 зона по ВТР закалка</th>\n",
       "      <th>2 зона уставка закалка</th>\n",
       "      <th>2 зона фактическая температура закалка</th>\n",
       "      <th>3 зона по ВТР закалка</th>\n",
       "      <th>3 зона уставка закалка</th>\n",
       "      <th>3 зона фактическая температура закалка</th>\n",
       "      <th>Температура трубы на выгрузке из печи закалки</th>\n",
       "      <th>Скорость прохождения трубы через спрейер, м/с</th>\n",
       "      <th>t˚ C трубы после спреера</th>\n",
       "      <th>Расход воды на закалочный спрейер, м3</th>\n",
       "      <th>время выдержки в закалочной ванне, сек.</th>\n",
       "      <th>t˚ C воды в закалочной ванне</th>\n",
       "      <th>t˚ C трубы после ванны</th>\n",
       "      <th>1 зона ВТР и уставка отпуск</th>\n",
       "      <th>1 зона фактическая температура отпуск</th>\n",
       "      <th>2 зона ВТР и уставка отпуск</th>\n",
       "      <th>2 зона фактическая температура отпуск</th>\n",
       "      <th>3 зона ВТР и уставка отпуск</th>\n",
       "      <th>3 зона фактическая температура отпуск</th>\n",
       "      <th>4 зона ВТР и уставка отпуск</th>\n",
       "      <th>4 зона фактическая температура отпуск</th>\n",
       "      <th>5 зона ВТР и уставка отпуск</th>\n",
       "      <th>5 зона фактическая температура отпуск</th>\n",
       "      <th>Температура трубы на выгрузке из печи отпуска</th>\n",
       "    </tr>\n",
       "  </thead>\n",
       "  <tbody>\n",
       "  </tbody>\n",
       "</table>\n",
       "</div>"
      ],
      "text/plain": [
       "Empty DataFrame\n",
       "Columns: [№ пакета, № партии, плавка, НД (гост, ту), марка стали, кол-во, шт., D/S, Дата термообработки, время начала т/о, шаг балок закалочная/отпускная печи, сек, 1 зона по ВТР закалка, 1 зона уставка закалка, 1 зона фактическая температура закалка, 2 зона по ВТР закалка, 2 зона уставка закалка, 2 зона фактическая температура закалка, 3 зона по ВТР закалка, 3 зона уставка закалка, 3 зона фактическая температура закалка, Температура трубы на выгрузке из печи закалки, Скорость прохождения трубы через спрейер, м/с, t˚ C трубы после спреера, Расход воды на закалочный спрейер, м3, время выдержки в закалочной ванне, сек., t˚ C воды в закалочной ванне, t˚ C трубы после ванны, 1 зона ВТР и уставка отпуск, 1 зона фактическая температура отпуск, 2 зона ВТР и уставка отпуск, 2 зона фактическая температура отпуск, 3 зона ВТР и уставка отпуск, 3 зона фактическая температура отпуск, 4 зона ВТР и уставка отпуск, 4 зона фактическая температура отпуск, 5 зона ВТР и уставка отпуск, 5 зона фактическая температура отпуск, Температура трубы на выгрузке из печи отпуска]\n",
       "Index: []"
      ]
     },
     "execution_count": 53,
     "metadata": {},
     "output_type": "execute_result"
    }
   ],
   "source": [
    "df_modes[df_modes['№ партии'] ==  '-[026.xls]лист1!$m$18']"
   ]
  },
  {
   "cell_type": "code",
   "execution_count": 54,
   "metadata": {
    "scrolled": true
   },
   "outputs": [
    {
     "data": {
      "text/html": [
       "<div>\n",
       "<style>\n",
       "    .dataframe thead tr:only-child th {\n",
       "        text-align: right;\n",
       "    }\n",
       "\n",
       "    .dataframe thead th {\n",
       "        text-align: left;\n",
       "    }\n",
       "\n",
       "    .dataframe tbody tr th {\n",
       "        vertical-align: top;\n",
       "    }\n",
       "</style>\n",
       "<table border=\"1\" class=\"dataframe\">\n",
       "  <thead>\n",
       "    <tr style=\"text-align: right;\">\n",
       "      <th></th>\n",
       "      <th>№ пакета</th>\n",
       "      <th>№ партии</th>\n",
       "      <th>плавка</th>\n",
       "      <th>НД (гост, ту)</th>\n",
       "      <th>марка стали</th>\n",
       "      <th>кол-во, шт.</th>\n",
       "      <th>D/S</th>\n",
       "      <th>Дата термообработки</th>\n",
       "      <th>время начала т/о</th>\n",
       "      <th>шаг балок закалочная/отпускная печи, сек</th>\n",
       "      <th>1 зона по ВТР закалка</th>\n",
       "      <th>1 зона уставка закалка</th>\n",
       "      <th>1 зона фактическая температура закалка</th>\n",
       "      <th>2 зона по ВТР закалка</th>\n",
       "      <th>2 зона уставка закалка</th>\n",
       "      <th>2 зона фактическая температура закалка</th>\n",
       "      <th>3 зона по ВТР закалка</th>\n",
       "      <th>3 зона уставка закалка</th>\n",
       "      <th>3 зона фактическая температура закалка</th>\n",
       "      <th>Температура трубы на выгрузке из печи закалки</th>\n",
       "      <th>Скорость прохождения трубы через спрейер, м/с</th>\n",
       "      <th>t˚ C трубы после спреера</th>\n",
       "      <th>Расход воды на закалочный спрейер, м3</th>\n",
       "      <th>время выдержки в закалочной ванне, сек.</th>\n",
       "      <th>t˚ C воды в закалочной ванне</th>\n",
       "      <th>t˚ C трубы после ванны</th>\n",
       "      <th>1 зона ВТР и уставка отпуск</th>\n",
       "      <th>1 зона фактическая температура отпуск</th>\n",
       "      <th>2 зона ВТР и уставка отпуск</th>\n",
       "      <th>2 зона фактическая температура отпуск</th>\n",
       "      <th>3 зона ВТР и уставка отпуск</th>\n",
       "      <th>3 зона фактическая температура отпуск</th>\n",
       "      <th>4 зона ВТР и уставка отпуск</th>\n",
       "      <th>4 зона фактическая температура отпуск</th>\n",
       "      <th>5 зона ВТР и уставка отпуск</th>\n",
       "      <th>5 зона фактическая температура отпуск</th>\n",
       "      <th>Температура трубы на выгрузке из печи отпуска</th>\n",
       "    </tr>\n",
       "  </thead>\n",
       "  <tbody>\n",
       "    <tr>\n",
       "      <th>0</th>\n",
       "      <td>402826400</td>\n",
       "      <td>612387</td>\n",
       "      <td>40600</td>\n",
       "      <td>ТУ3</td>\n",
       "      <td>38Г2С</td>\n",
       "      <td>50</td>\n",
       "      <td>73х5,5</td>\n",
       "      <td>01.01.2017</td>\n",
       "      <td>20-20</td>\n",
       "      <td>24/24</td>\n",
       "      <td>850</td>\n",
       "      <td>850</td>\n",
       "      <td>853</td>\n",
       "      <td>850</td>\n",
       "      <td>NaN</td>\n",
       "      <td>NaN</td>\n",
       "      <td>860</td>\n",
       "      <td>849</td>\n",
       "      <td>849</td>\n",
       "      <td>848</td>\n",
       "      <td>1м/с</td>\n",
       "      <td>воздух</td>\n",
       "      <td>1693</td>\n",
       "      <td>НЕТ</td>\n",
       "      <td>22</td>\n",
       "      <td>НЕТ</td>\n",
       "      <td>640</td>\n",
       "      <td>640</td>\n",
       "      <td>575</td>\n",
       "      <td>NaN</td>\n",
       "      <td>630</td>\n",
       "      <td>631</td>\n",
       "      <td>569</td>\n",
       "      <td>NaN</td>\n",
       "      <td>614</td>\n",
       "      <td>614</td>\n",
       "      <td>621</td>\n",
       "    </tr>\n",
       "    <tr>\n",
       "      <th>1</th>\n",
       "      <td>402804863</td>\n",
       "      <td>612387</td>\n",
       "      <td>6F8132</td>\n",
       "      <td>ТУ 21</td>\n",
       "      <td>30Г2</td>\n",
       "      <td>50</td>\n",
       "      <td>73,02Х5,51</td>\n",
       "      <td>01.01.2017</td>\n",
       "      <td>22-30</td>\n",
       "      <td>24/24</td>\n",
       "      <td>850</td>\n",
       "      <td>850</td>\n",
       "      <td>848</td>\n",
       "      <td>850</td>\n",
       "      <td>NaN</td>\n",
       "      <td>NaN</td>\n",
       "      <td>860</td>\n",
       "      <td>847</td>\n",
       "      <td>845</td>\n",
       "      <td>847</td>\n",
       "      <td>0,63</td>\n",
       "      <td>75-85</td>\n",
       "      <td>1712</td>\n",
       "      <td>НЕТ</td>\n",
       "      <td>22</td>\n",
       "      <td>НЕТ</td>\n",
       "      <td>640</td>\n",
       "      <td>641</td>\n",
       "      <td>640</td>\n",
       "      <td>NaN</td>\n",
       "      <td>630</td>\n",
       "      <td>631</td>\n",
       "      <td>630</td>\n",
       "      <td>NaN</td>\n",
       "      <td>614</td>\n",
       "      <td>614</td>\n",
       "      <td>621</td>\n",
       "    </tr>\n",
       "    <tr>\n",
       "      <th>2</th>\n",
       "      <td>402806423</td>\n",
       "      <td>701002</td>\n",
       "      <td>6F8132</td>\n",
       "      <td>ТУ 21</td>\n",
       "      <td>30Г2</td>\n",
       "      <td>50</td>\n",
       "      <td>73,02Х5,51</td>\n",
       "      <td>01.01.2017</td>\n",
       "      <td>22-50</td>\n",
       "      <td>24/24</td>\n",
       "      <td>850</td>\n",
       "      <td>850</td>\n",
       "      <td>853</td>\n",
       "      <td>850</td>\n",
       "      <td>NaN</td>\n",
       "      <td>NaN</td>\n",
       "      <td>860</td>\n",
       "      <td>847</td>\n",
       "      <td>847</td>\n",
       "      <td>847</td>\n",
       "      <td>0,63</td>\n",
       "      <td>75-85</td>\n",
       "      <td>1719</td>\n",
       "      <td>НЕТ</td>\n",
       "      <td>22</td>\n",
       "      <td>НЕТ</td>\n",
       "      <td>640</td>\n",
       "      <td>642</td>\n",
       "      <td>640</td>\n",
       "      <td>NaN</td>\n",
       "      <td>630</td>\n",
       "      <td>631</td>\n",
       "      <td>630</td>\n",
       "      <td>NaN</td>\n",
       "      <td>614</td>\n",
       "      <td>615</td>\n",
       "      <td>621</td>\n",
       "    </tr>\n",
       "    <tr>\n",
       "      <th>3</th>\n",
       "      <td>402806443</td>\n",
       "      <td>701002</td>\n",
       "      <td>6F8132</td>\n",
       "      <td>ТУ 21</td>\n",
       "      <td>30Г2</td>\n",
       "      <td>50</td>\n",
       "      <td>73,02Х5,51</td>\n",
       "      <td>01.01.2017</td>\n",
       "      <td>23-10</td>\n",
       "      <td>24/24</td>\n",
       "      <td>850</td>\n",
       "      <td>850</td>\n",
       "      <td>849</td>\n",
       "      <td>850</td>\n",
       "      <td>NaN</td>\n",
       "      <td>NaN</td>\n",
       "      <td>860</td>\n",
       "      <td>847</td>\n",
       "      <td>848</td>\n",
       "      <td>848</td>\n",
       "      <td>0,63</td>\n",
       "      <td>75-85</td>\n",
       "      <td>1722</td>\n",
       "      <td>НЕТ</td>\n",
       "      <td>22</td>\n",
       "      <td>НЕТ</td>\n",
       "      <td>640</td>\n",
       "      <td>640</td>\n",
       "      <td>640</td>\n",
       "      <td>NaN</td>\n",
       "      <td>630</td>\n",
       "      <td>630</td>\n",
       "      <td>630</td>\n",
       "      <td>NaN</td>\n",
       "      <td>614</td>\n",
       "      <td>613</td>\n",
       "      <td>621</td>\n",
       "    </tr>\n",
       "    <tr>\n",
       "      <th>4</th>\n",
       "      <td>402806356</td>\n",
       "      <td>701002</td>\n",
       "      <td>6F8132</td>\n",
       "      <td>ТУ 21</td>\n",
       "      <td>30Г2</td>\n",
       "      <td>50</td>\n",
       "      <td>73,02Х5,51</td>\n",
       "      <td>01.01.2017</td>\n",
       "      <td>23-30</td>\n",
       "      <td>24/24</td>\n",
       "      <td>850</td>\n",
       "      <td>850</td>\n",
       "      <td>847</td>\n",
       "      <td>850</td>\n",
       "      <td>NaN</td>\n",
       "      <td>NaN</td>\n",
       "      <td>860</td>\n",
       "      <td>847</td>\n",
       "      <td>845</td>\n",
       "      <td>н/д</td>\n",
       "      <td>0,63</td>\n",
       "      <td>75-85</td>\n",
       "      <td>н/д</td>\n",
       "      <td>НЕТ</td>\n",
       "      <td>22</td>\n",
       "      <td>НЕТ</td>\n",
       "      <td>640</td>\n",
       "      <td>642</td>\n",
       "      <td>640</td>\n",
       "      <td>NaN</td>\n",
       "      <td>630</td>\n",
       "      <td>631</td>\n",
       "      <td>630</td>\n",
       "      <td>NaN</td>\n",
       "      <td>614</td>\n",
       "      <td>614</td>\n",
       "      <td>н/д</td>\n",
       "    </tr>\n",
       "  </tbody>\n",
       "</table>\n",
       "</div>"
      ],
      "text/plain": [
       "    № пакета № партии  плавка НД (гост, ту) марка стали кол-во, шт.  \\\n",
       "0  402826400   612387   40600           ТУ3       38Г2С          50   \n",
       "1  402804863   612387  6F8132         ТУ 21        30Г2          50   \n",
       "2  402806423   701002  6F8132         ТУ 21        30Г2          50   \n",
       "3  402806443   701002  6F8132         ТУ 21        30Г2          50   \n",
       "4  402806356   701002  6F8132         ТУ 21        30Г2          50   \n",
       "\n",
       "          D/S Дата термообработки время начала т/о  \\\n",
       "0      73х5,5          01.01.2017            20-20   \n",
       "1  73,02Х5,51          01.01.2017            22-30   \n",
       "2  73,02Х5,51          01.01.2017            22-50   \n",
       "3  73,02Х5,51          01.01.2017            23-10   \n",
       "4  73,02Х5,51          01.01.2017            23-30   \n",
       "\n",
       "  шаг балок закалочная/отпускная печи, сек 1 зона по ВТР закалка  \\\n",
       "0                                    24/24                   850   \n",
       "1                                    24/24                   850   \n",
       "2                                    24/24                   850   \n",
       "3                                    24/24                   850   \n",
       "4                                    24/24                   850   \n",
       "\n",
       "  1 зона уставка закалка 1 зона фактическая температура закалка  \\\n",
       "0                    850                                    853   \n",
       "1                    850                                    848   \n",
       "2                    850                                    853   \n",
       "3                    850                                    849   \n",
       "4                    850                                    847   \n",
       "\n",
       "  2 зона по ВТР закалка  2 зона уставка закалка  \\\n",
       "0                   850                     NaN   \n",
       "1                   850                     NaN   \n",
       "2                   850                     NaN   \n",
       "3                   850                     NaN   \n",
       "4                   850                     NaN   \n",
       "\n",
       "   2 зона фактическая температура закалка 3 зона по ВТР закалка  \\\n",
       "0                                     NaN                   860   \n",
       "1                                     NaN                   860   \n",
       "2                                     NaN                   860   \n",
       "3                                     NaN                   860   \n",
       "4                                     NaN                   860   \n",
       "\n",
       "  3 зона уставка закалка 3 зона фактическая температура закалка  \\\n",
       "0                    849                                    849   \n",
       "1                    847                                    845   \n",
       "2                    847                                    847   \n",
       "3                    847                                    848   \n",
       "4                    847                                    845   \n",
       "\n",
       "  Температура трубы на выгрузке из печи закалки  \\\n",
       "0                                           848   \n",
       "1                                           847   \n",
       "2                                           847   \n",
       "3                                           848   \n",
       "4                                           н/д   \n",
       "\n",
       "  Скорость прохождения трубы через спрейер, м/с t˚ C трубы после спреера  \\\n",
       "0                                          1м/с                   воздух   \n",
       "1                                          0,63                    75-85   \n",
       "2                                          0,63                    75-85   \n",
       "3                                          0,63                    75-85   \n",
       "4                                          0,63                    75-85   \n",
       "\n",
       "  Расход воды на закалочный спрейер, м3  \\\n",
       "0                                  1693   \n",
       "1                                  1712   \n",
       "2                                  1719   \n",
       "3                                  1722   \n",
       "4                                   н/д   \n",
       "\n",
       "  время выдержки в закалочной ванне, сек. t˚ C воды в закалочной ванне  \\\n",
       "0                                     НЕТ                           22   \n",
       "1                                     НЕТ                           22   \n",
       "2                                     НЕТ                           22   \n",
       "3                                     НЕТ                           22   \n",
       "4                                     НЕТ                           22   \n",
       "\n",
       "  t˚ C трубы после ванны 1 зона ВТР и уставка отпуск  \\\n",
       "0                    НЕТ                         640   \n",
       "1                    НЕТ                         640   \n",
       "2                    НЕТ                         640   \n",
       "3                    НЕТ                         640   \n",
       "4                    НЕТ                         640   \n",
       "\n",
       "  1 зона фактическая температура отпуск 2 зона ВТР и уставка отпуск  \\\n",
       "0                                   640                         575   \n",
       "1                                   641                         640   \n",
       "2                                   642                         640   \n",
       "3                                   640                         640   \n",
       "4                                   642                         640   \n",
       "\n",
       "   2 зона фактическая температура отпуск 3 зона ВТР и уставка отпуск  \\\n",
       "0                                    NaN                         630   \n",
       "1                                    NaN                         630   \n",
       "2                                    NaN                         630   \n",
       "3                                    NaN                         630   \n",
       "4                                    NaN                         630   \n",
       "\n",
       "  3 зона фактическая температура отпуск 4 зона ВТР и уставка отпуск  \\\n",
       "0                                   631                         569   \n",
       "1                                   631                         630   \n",
       "2                                   631                         630   \n",
       "3                                   630                         630   \n",
       "4                                   631                         630   \n",
       "\n",
       "   4 зона фактическая температура отпуск 5 зона ВТР и уставка отпуск  \\\n",
       "0                                    NaN                         614   \n",
       "1                                    NaN                         614   \n",
       "2                                    NaN                         614   \n",
       "3                                    NaN                         614   \n",
       "4                                    NaN                         614   \n",
       "\n",
       "  5 зона фактическая температура отпуск  \\\n",
       "0                                   614   \n",
       "1                                   614   \n",
       "2                                   615   \n",
       "3                                   613   \n",
       "4                                   614   \n",
       "\n",
       "  Температура трубы на выгрузке из печи отпуска  \n",
       "0                                           621  \n",
       "1                                           621  \n",
       "2                                           621  \n",
       "3                                           621  \n",
       "4                                           н/д  "
      ]
     },
     "execution_count": 54,
     "metadata": {},
     "output_type": "execute_result"
    }
   ],
   "source": [
    "df_modes.head()"
   ]
  },
  {
   "cell_type": "code",
   "execution_count": 55,
   "metadata": {
    "collapsed": true
   },
   "outputs": [],
   "source": [
    "# df_modes[df_modes['№ партии'] == '127569']"
   ]
  },
  {
   "cell_type": "code",
   "execution_count": 56,
   "metadata": {
    "collapsed": true
   },
   "outputs": [],
   "source": [
    "# df_part[df_part['№ партии.1'] == 612387]"
   ]
  },
  {
   "cell_type": "code",
   "execution_count": 57,
   "metadata": {
    "collapsed": true
   },
   "outputs": [],
   "source": [
    "# dict_part = df_part.to_dict('records')\n",
    "# dict_part"
   ]
  },
  {
   "cell_type": "code",
   "execution_count": 58,
   "metadata": {
    "collapsed": true
   },
   "outputs": [],
   "source": [
    "#список усредняемых столбцов\n",
    "l1 = [u'1 зона фактическая температура закалка',\n",
    "        u'3 зона фактическая температура закалка',\n",
    "        u'1 зона фактическая температура отпуск',\n",
    "        u'3 зона фактическая температура отпуск',\n",
    "        u'5 зона фактическая температура отпуск']"
   ]
  },
  {
   "cell_type": "code",
   "execution_count": 59,
   "metadata": {
    "collapsed": true
   },
   "outputs": [],
   "source": [
    "try:\n",
    "    df_modes[l1] = df_modes[l1].astype(float)\n",
    "    df_modes = df_modes.groupby('№ партии')[l1].apply(lambda x: x.mean())\n",
    "except:\n",
    "    df_modes = df_modes.drop_duplicates('№ партии', keep = 'first')"
   ]
  },
  {
   "cell_type": "code",
   "execution_count": 60,
   "metadata": {
    "collapsed": true,
    "scrolled": true
   },
   "outputs": [],
   "source": [
    "#df1 - исходная таблица без пакетов\n",
    "df_modes = df_modes.drop(['№ пакета'], axis=1)"
   ]
  },
  {
   "cell_type": "code",
   "execution_count": 61,
   "metadata": {
    "scrolled": true
   },
   "outputs": [
    {
     "data": {
      "text/html": [
       "<div>\n",
       "<style>\n",
       "    .dataframe thead tr:only-child th {\n",
       "        text-align: right;\n",
       "    }\n",
       "\n",
       "    .dataframe thead th {\n",
       "        text-align: left;\n",
       "    }\n",
       "\n",
       "    .dataframe tbody tr th {\n",
       "        vertical-align: top;\n",
       "    }\n",
       "</style>\n",
       "<table border=\"1\" class=\"dataframe\">\n",
       "  <thead>\n",
       "    <tr style=\"text-align: right;\">\n",
       "      <th></th>\n",
       "      <th>№ партии</th>\n",
       "      <th>плавка</th>\n",
       "      <th>НД (гост, ту)</th>\n",
       "      <th>марка стали</th>\n",
       "      <th>кол-во, шт.</th>\n",
       "      <th>D/S</th>\n",
       "      <th>Дата термообработки</th>\n",
       "      <th>время начала т/о</th>\n",
       "      <th>шаг балок закалочная/отпускная печи, сек</th>\n",
       "      <th>1 зона по ВТР закалка</th>\n",
       "      <th>1 зона уставка закалка</th>\n",
       "      <th>1 зона фактическая температура закалка</th>\n",
       "      <th>2 зона по ВТР закалка</th>\n",
       "      <th>2 зона уставка закалка</th>\n",
       "      <th>2 зона фактическая температура закалка</th>\n",
       "      <th>3 зона по ВТР закалка</th>\n",
       "      <th>3 зона уставка закалка</th>\n",
       "      <th>3 зона фактическая температура закалка</th>\n",
       "      <th>Температура трубы на выгрузке из печи закалки</th>\n",
       "      <th>Скорость прохождения трубы через спрейер, м/с</th>\n",
       "      <th>t˚ C трубы после спреера</th>\n",
       "      <th>Расход воды на закалочный спрейер, м3</th>\n",
       "      <th>время выдержки в закалочной ванне, сек.</th>\n",
       "      <th>t˚ C воды в закалочной ванне</th>\n",
       "      <th>t˚ C трубы после ванны</th>\n",
       "      <th>1 зона ВТР и уставка отпуск</th>\n",
       "      <th>1 зона фактическая температура отпуск</th>\n",
       "      <th>2 зона ВТР и уставка отпуск</th>\n",
       "      <th>2 зона фактическая температура отпуск</th>\n",
       "      <th>3 зона ВТР и уставка отпуск</th>\n",
       "      <th>3 зона фактическая температура отпуск</th>\n",
       "      <th>4 зона ВТР и уставка отпуск</th>\n",
       "      <th>4 зона фактическая температура отпуск</th>\n",
       "      <th>5 зона ВТР и уставка отпуск</th>\n",
       "      <th>5 зона фактическая температура отпуск</th>\n",
       "      <th>Температура трубы на выгрузке из печи отпуска</th>\n",
       "    </tr>\n",
       "    <tr>\n",
       "      <th>№ партии</th>\n",
       "      <th></th>\n",
       "      <th></th>\n",
       "      <th></th>\n",
       "      <th></th>\n",
       "      <th></th>\n",
       "      <th></th>\n",
       "      <th></th>\n",
       "      <th></th>\n",
       "      <th></th>\n",
       "      <th></th>\n",
       "      <th></th>\n",
       "      <th></th>\n",
       "      <th></th>\n",
       "      <th></th>\n",
       "      <th></th>\n",
       "      <th></th>\n",
       "      <th></th>\n",
       "      <th></th>\n",
       "      <th></th>\n",
       "      <th></th>\n",
       "      <th></th>\n",
       "      <th></th>\n",
       "      <th></th>\n",
       "      <th></th>\n",
       "      <th></th>\n",
       "      <th></th>\n",
       "      <th></th>\n",
       "      <th></th>\n",
       "      <th></th>\n",
       "      <th></th>\n",
       "      <th></th>\n",
       "      <th></th>\n",
       "      <th></th>\n",
       "      <th></th>\n",
       "      <th></th>\n",
       "      <th></th>\n",
       "    </tr>\n",
       "  </thead>\n",
       "  <tbody>\n",
       "    <tr>\n",
       "      <th>612387</th>\n",
       "      <td>612387</td>\n",
       "      <td>40600</td>\n",
       "      <td>ТУ3</td>\n",
       "      <td>38Г2С</td>\n",
       "      <td>50</td>\n",
       "      <td>73х5,5</td>\n",
       "      <td>01.01.2017</td>\n",
       "      <td>20-20</td>\n",
       "      <td>24/24</td>\n",
       "      <td>850</td>\n",
       "      <td>850</td>\n",
       "      <td>853</td>\n",
       "      <td>850</td>\n",
       "      <td>NaN</td>\n",
       "      <td>NaN</td>\n",
       "      <td>860</td>\n",
       "      <td>849</td>\n",
       "      <td>849</td>\n",
       "      <td>848</td>\n",
       "      <td>1м/с</td>\n",
       "      <td>воздух</td>\n",
       "      <td>1693</td>\n",
       "      <td>НЕТ</td>\n",
       "      <td>22</td>\n",
       "      <td>НЕТ</td>\n",
       "      <td>640</td>\n",
       "      <td>640</td>\n",
       "      <td>575</td>\n",
       "      <td>NaN</td>\n",
       "      <td>630</td>\n",
       "      <td>631</td>\n",
       "      <td>569</td>\n",
       "      <td>NaN</td>\n",
       "      <td>614</td>\n",
       "      <td>614</td>\n",
       "      <td>621</td>\n",
       "    </tr>\n",
       "    <tr>\n",
       "      <th>701002</th>\n",
       "      <td>701002</td>\n",
       "      <td>6F8132</td>\n",
       "      <td>ТУ 21</td>\n",
       "      <td>30Г2</td>\n",
       "      <td>50</td>\n",
       "      <td>73,02Х5,51</td>\n",
       "      <td>01.01.2017</td>\n",
       "      <td>22-50</td>\n",
       "      <td>24/24</td>\n",
       "      <td>850</td>\n",
       "      <td>850</td>\n",
       "      <td>853</td>\n",
       "      <td>850</td>\n",
       "      <td>NaN</td>\n",
       "      <td>NaN</td>\n",
       "      <td>860</td>\n",
       "      <td>847</td>\n",
       "      <td>847</td>\n",
       "      <td>847</td>\n",
       "      <td>0,63</td>\n",
       "      <td>75-85</td>\n",
       "      <td>1719</td>\n",
       "      <td>НЕТ</td>\n",
       "      <td>22</td>\n",
       "      <td>НЕТ</td>\n",
       "      <td>640</td>\n",
       "      <td>642</td>\n",
       "      <td>640</td>\n",
       "      <td>NaN</td>\n",
       "      <td>630</td>\n",
       "      <td>631</td>\n",
       "      <td>630</td>\n",
       "      <td>NaN</td>\n",
       "      <td>614</td>\n",
       "      <td>615</td>\n",
       "      <td>621</td>\n",
       "    </tr>\n",
       "    <tr>\n",
       "      <th>701003</th>\n",
       "      <td>701003</td>\n",
       "      <td>6F8354</td>\n",
       "      <td>ТУ3</td>\n",
       "      <td>38Г2С</td>\n",
       "      <td>32</td>\n",
       "      <td>73х5,5</td>\n",
       "      <td>01.01.2017</td>\n",
       "      <td>02-00</td>\n",
       "      <td>24/24</td>\n",
       "      <td>850</td>\n",
       "      <td>850</td>\n",
       "      <td>847</td>\n",
       "      <td>850</td>\n",
       "      <td>NaN</td>\n",
       "      <td>NaN</td>\n",
       "      <td>860</td>\n",
       "      <td>847</td>\n",
       "      <td>845</td>\n",
       "      <td>851</td>\n",
       "      <td>1м/с</td>\n",
       "      <td>воздух</td>\n",
       "      <td>66</td>\n",
       "      <td>НЕТ</td>\n",
       "      <td>22</td>\n",
       "      <td>НЕТ</td>\n",
       "      <td>640</td>\n",
       "      <td>642</td>\n",
       "      <td>575</td>\n",
       "      <td>NaN</td>\n",
       "      <td>630</td>\n",
       "      <td>631</td>\n",
       "      <td>569</td>\n",
       "      <td>NaN</td>\n",
       "      <td>614</td>\n",
       "      <td>614</td>\n",
       "      <td>560</td>\n",
       "    </tr>\n",
       "    <tr>\n",
       "      <th>701004</th>\n",
       "      <td>701004</td>\n",
       "      <td>6F8354</td>\n",
       "      <td>ТУ3</td>\n",
       "      <td>38Г2С</td>\n",
       "      <td>50</td>\n",
       "      <td>73х5,5</td>\n",
       "      <td>01.01.2017</td>\n",
       "      <td>02-40</td>\n",
       "      <td>24/24</td>\n",
       "      <td>850</td>\n",
       "      <td>850</td>\n",
       "      <td>847</td>\n",
       "      <td>850</td>\n",
       "      <td>NaN</td>\n",
       "      <td>NaN</td>\n",
       "      <td>860</td>\n",
       "      <td>847</td>\n",
       "      <td>845</td>\n",
       "      <td>848</td>\n",
       "      <td>1м/с</td>\n",
       "      <td>воздух</td>\n",
       "      <td>67</td>\n",
       "      <td>НЕТ</td>\n",
       "      <td>22</td>\n",
       "      <td>НЕТ</td>\n",
       "      <td>640</td>\n",
       "      <td>642</td>\n",
       "      <td>575</td>\n",
       "      <td>NaN</td>\n",
       "      <td>630</td>\n",
       "      <td>631</td>\n",
       "      <td>569</td>\n",
       "      <td>NaN</td>\n",
       "      <td>614</td>\n",
       "      <td>614</td>\n",
       "      <td>560</td>\n",
       "    </tr>\n",
       "    <tr>\n",
       "      <th>701005</th>\n",
       "      <td>701005</td>\n",
       "      <td>6F8357</td>\n",
       "      <td>ТУ3</td>\n",
       "      <td>38Г2С</td>\n",
       "      <td>50</td>\n",
       "      <td>73х5,5</td>\n",
       "      <td>01.01.2017</td>\n",
       "      <td>05-00</td>\n",
       "      <td>24/24</td>\n",
       "      <td>850</td>\n",
       "      <td>850</td>\n",
       "      <td>847</td>\n",
       "      <td>850</td>\n",
       "      <td>NaN</td>\n",
       "      <td>NaN</td>\n",
       "      <td>860</td>\n",
       "      <td>847</td>\n",
       "      <td>845</td>\n",
       "      <td>852</td>\n",
       "      <td>1м/с</td>\n",
       "      <td>воздух</td>\n",
       "      <td>69</td>\n",
       "      <td>НЕТ</td>\n",
       "      <td>22</td>\n",
       "      <td>НЕТ</td>\n",
       "      <td>640</td>\n",
       "      <td>642</td>\n",
       "      <td>575</td>\n",
       "      <td>NaN</td>\n",
       "      <td>630</td>\n",
       "      <td>631</td>\n",
       "      <td>569</td>\n",
       "      <td>NaN</td>\n",
       "      <td>614</td>\n",
       "      <td>614</td>\n",
       "      <td>560</td>\n",
       "    </tr>\n",
       "  </tbody>\n",
       "</table>\n",
       "</div>"
      ],
      "text/plain": [
       "         № партии  плавка НД (гост, ту) марка стали кол-во, шт.         D/S  \\\n",
       "№ партии                                                                      \n",
       "612387     612387   40600           ТУ3       38Г2С          50      73х5,5   \n",
       "701002     701002  6F8132         ТУ 21        30Г2          50  73,02Х5,51   \n",
       "701003     701003  6F8354           ТУ3       38Г2С          32      73х5,5   \n",
       "701004     701004  6F8354           ТУ3       38Г2С          50      73х5,5   \n",
       "701005     701005  6F8357           ТУ3       38Г2С          50      73х5,5   \n",
       "\n",
       "         Дата термообработки время начала т/о  \\\n",
       "№ партии                                        \n",
       "612387            01.01.2017            20-20   \n",
       "701002            01.01.2017            22-50   \n",
       "701003            01.01.2017            02-00   \n",
       "701004            01.01.2017            02-40   \n",
       "701005            01.01.2017            05-00   \n",
       "\n",
       "         шаг балок закалочная/отпускная печи, сек 1 зона по ВТР закалка  \\\n",
       "№ партии                                                                  \n",
       "612387                                      24/24                   850   \n",
       "701002                                      24/24                   850   \n",
       "701003                                      24/24                   850   \n",
       "701004                                      24/24                   850   \n",
       "701005                                      24/24                   850   \n",
       "\n",
       "         1 зона уставка закалка 1 зона фактическая температура закалка  \\\n",
       "№ партии                                                                 \n",
       "612387                      850                                    853   \n",
       "701002                      850                                    853   \n",
       "701003                      850                                    847   \n",
       "701004                      850                                    847   \n",
       "701005                      850                                    847   \n",
       "\n",
       "         2 зона по ВТР закалка  2 зона уставка закалка  \\\n",
       "№ партии                                                 \n",
       "612387                     850                     NaN   \n",
       "701002                     850                     NaN   \n",
       "701003                     850                     NaN   \n",
       "701004                     850                     NaN   \n",
       "701005                     850                     NaN   \n",
       "\n",
       "          2 зона фактическая температура закалка 3 зона по ВТР закалка  \\\n",
       "№ партии                                                                 \n",
       "612387                                       NaN                   860   \n",
       "701002                                       NaN                   860   \n",
       "701003                                       NaN                   860   \n",
       "701004                                       NaN                   860   \n",
       "701005                                       NaN                   860   \n",
       "\n",
       "         3 зона уставка закалка 3 зона фактическая температура закалка  \\\n",
       "№ партии                                                                 \n",
       "612387                      849                                    849   \n",
       "701002                      847                                    847   \n",
       "701003                      847                                    845   \n",
       "701004                      847                                    845   \n",
       "701005                      847                                    845   \n",
       "\n",
       "         Температура трубы на выгрузке из печи закалки  \\\n",
       "№ партии                                                 \n",
       "612387                                             848   \n",
       "701002                                             847   \n",
       "701003                                             851   \n",
       "701004                                             848   \n",
       "701005                                             852   \n",
       "\n",
       "         Скорость прохождения трубы через спрейер, м/с  \\\n",
       "№ партии                                                 \n",
       "612387                                            1м/с   \n",
       "701002                                            0,63   \n",
       "701003                                            1м/с   \n",
       "701004                                            1м/с   \n",
       "701005                                            1м/с   \n",
       "\n",
       "         t˚ C трубы после спреера Расход воды на закалочный спрейер, м3  \\\n",
       "№ партии                                                                  \n",
       "612387                     воздух                                  1693   \n",
       "701002                      75-85                                  1719   \n",
       "701003                     воздух                                    66   \n",
       "701004                     воздух                                    67   \n",
       "701005                     воздух                                    69   \n",
       "\n",
       "         время выдержки в закалочной ванне, сек. t˚ C воды в закалочной ванне  \\\n",
       "№ партии                                                                        \n",
       "612387                                       НЕТ                           22   \n",
       "701002                                       НЕТ                           22   \n",
       "701003                                       НЕТ                           22   \n",
       "701004                                       НЕТ                           22   \n",
       "701005                                       НЕТ                           22   \n",
       "\n",
       "         t˚ C трубы после ванны 1 зона ВТР и уставка отпуск  \\\n",
       "№ партии                                                      \n",
       "612387                      НЕТ                         640   \n",
       "701002                      НЕТ                         640   \n",
       "701003                      НЕТ                         640   \n",
       "701004                      НЕТ                         640   \n",
       "701005                      НЕТ                         640   \n",
       "\n",
       "         1 зона фактическая температура отпуск 2 зона ВТР и уставка отпуск  \\\n",
       "№ партии                                                                     \n",
       "612387                                     640                         575   \n",
       "701002                                     642                         640   \n",
       "701003                                     642                         575   \n",
       "701004                                     642                         575   \n",
       "701005                                     642                         575   \n",
       "\n",
       "          2 зона фактическая температура отпуск 3 зона ВТР и уставка отпуск  \\\n",
       "№ партии                                                                      \n",
       "612387                                      NaN                         630   \n",
       "701002                                      NaN                         630   \n",
       "701003                                      NaN                         630   \n",
       "701004                                      NaN                         630   \n",
       "701005                                      NaN                         630   \n",
       "\n",
       "         3 зона фактическая температура отпуск 4 зона ВТР и уставка отпуск  \\\n",
       "№ партии                                                                     \n",
       "612387                                     631                         569   \n",
       "701002                                     631                         630   \n",
       "701003                                     631                         569   \n",
       "701004                                     631                         569   \n",
       "701005                                     631                         569   \n",
       "\n",
       "          4 зона фактическая температура отпуск 5 зона ВТР и уставка отпуск  \\\n",
       "№ партии                                                                      \n",
       "612387                                      NaN                         614   \n",
       "701002                                      NaN                         614   \n",
       "701003                                      NaN                         614   \n",
       "701004                                      NaN                         614   \n",
       "701005                                      NaN                         614   \n",
       "\n",
       "         5 зона фактическая температура отпуск  \\\n",
       "№ партии                                         \n",
       "612387                                     614   \n",
       "701002                                     615   \n",
       "701003                                     614   \n",
       "701004                                     614   \n",
       "701005                                     614   \n",
       "\n",
       "         Температура трубы на выгрузке из печи отпуска  \n",
       "№ партии                                                \n",
       "612387                                             621  \n",
       "701002                                             621  \n",
       "701003                                             560  \n",
       "701004                                             560  \n",
       "701005                                             560  "
      ]
     },
     "execution_count": 61,
     "metadata": {},
     "output_type": "execute_result"
    }
   ],
   "source": [
    "df_modes.index = df_modes['№ партии']\n",
    "df_modes.head()"
   ]
  },
  {
   "cell_type": "code",
   "execution_count": 62,
   "metadata": {},
   "outputs": [
    {
     "data": {
      "text/plain": [
       "(29263, 36)"
      ]
     },
     "execution_count": 62,
     "metadata": {},
     "output_type": "execute_result"
    }
   ],
   "source": [
    "df_modes = df_modes[df_modes['плавка'] != 'nan']\n",
    "df_modes.shape"
   ]
  },
  {
   "cell_type": "code",
   "execution_count": 63,
   "metadata": {
    "collapsed": true
   },
   "outputs": [],
   "source": [
    "df_modes.to_excel('16022018.xlsx')"
   ]
  },
  {
   "cell_type": "code",
   "execution_count": 64,
   "metadata": {
    "collapsed": true
   },
   "outputs": [],
   "source": [
    "df_modes.reset_index(drop=True, inplace=True)"
   ]
  },
  {
   "cell_type": "code",
   "execution_count": 65,
   "metadata": {},
   "outputs": [
    {
     "data": {
      "text/html": [
       "<div>\n",
       "<style>\n",
       "    .dataframe thead tr:only-child th {\n",
       "        text-align: right;\n",
       "    }\n",
       "\n",
       "    .dataframe thead th {\n",
       "        text-align: left;\n",
       "    }\n",
       "\n",
       "    .dataframe tbody tr th {\n",
       "        vertical-align: top;\n",
       "    }\n",
       "</style>\n",
       "<table border=\"1\" class=\"dataframe\">\n",
       "  <thead>\n",
       "    <tr style=\"text-align: right;\">\n",
       "      <th></th>\n",
       "      <th>№ партии</th>\n",
       "      <th>плавка</th>\n",
       "      <th>НД (гост, ту)</th>\n",
       "      <th>марка стали</th>\n",
       "      <th>кол-во, шт.</th>\n",
       "      <th>D/S</th>\n",
       "      <th>Дата термообработки</th>\n",
       "      <th>время начала т/о</th>\n",
       "      <th>шаг балок закалочная/отпускная печи, сек</th>\n",
       "      <th>1 зона по ВТР закалка</th>\n",
       "      <th>1 зона уставка закалка</th>\n",
       "      <th>1 зона фактическая температура закалка</th>\n",
       "      <th>2 зона по ВТР закалка</th>\n",
       "      <th>2 зона уставка закалка</th>\n",
       "      <th>2 зона фактическая температура закалка</th>\n",
       "      <th>3 зона по ВТР закалка</th>\n",
       "      <th>3 зона уставка закалка</th>\n",
       "      <th>3 зона фактическая температура закалка</th>\n",
       "      <th>Температура трубы на выгрузке из печи закалки</th>\n",
       "      <th>Скорость прохождения трубы через спрейер, м/с</th>\n",
       "      <th>t˚ C трубы после спреера</th>\n",
       "      <th>Расход воды на закалочный спрейер, м3</th>\n",
       "      <th>время выдержки в закалочной ванне, сек.</th>\n",
       "      <th>t˚ C воды в закалочной ванне</th>\n",
       "      <th>t˚ C трубы после ванны</th>\n",
       "      <th>1 зона ВТР и уставка отпуск</th>\n",
       "      <th>1 зона фактическая температура отпуск</th>\n",
       "      <th>2 зона ВТР и уставка отпуск</th>\n",
       "      <th>2 зона фактическая температура отпуск</th>\n",
       "      <th>3 зона ВТР и уставка отпуск</th>\n",
       "      <th>3 зона фактическая температура отпуск</th>\n",
       "      <th>4 зона ВТР и уставка отпуск</th>\n",
       "      <th>4 зона фактическая температура отпуск</th>\n",
       "      <th>5 зона ВТР и уставка отпуск</th>\n",
       "      <th>5 зона фактическая температура отпуск</th>\n",
       "      <th>Температура трубы на выгрузке из печи отпуска</th>\n",
       "    </tr>\n",
       "  </thead>\n",
       "  <tbody>\n",
       "  </tbody>\n",
       "</table>\n",
       "</div>"
      ],
      "text/plain": [
       "Empty DataFrame\n",
       "Columns: [№ партии, плавка, НД (гост, ту), марка стали, кол-во, шт., D/S, Дата термообработки, время начала т/о, шаг балок закалочная/отпускная печи, сек, 1 зона по ВТР закалка, 1 зона уставка закалка, 1 зона фактическая температура закалка, 2 зона по ВТР закалка, 2 зона уставка закалка, 2 зона фактическая температура закалка, 3 зона по ВТР закалка, 3 зона уставка закалка, 3 зона фактическая температура закалка, Температура трубы на выгрузке из печи закалки, Скорость прохождения трубы через спрейер, м/с, t˚ C трубы после спреера, Расход воды на закалочный спрейер, м3, время выдержки в закалочной ванне, сек., t˚ C воды в закалочной ванне, t˚ C трубы после ванны, 1 зона ВТР и уставка отпуск, 1 зона фактическая температура отпуск, 2 зона ВТР и уставка отпуск, 2 зона фактическая температура отпуск, 3 зона ВТР и уставка отпуск, 3 зона фактическая температура отпуск, 4 зона ВТР и уставка отпуск, 4 зона фактическая температура отпуск, 5 зона ВТР и уставка отпуск, 5 зона фактическая температура отпуск, Температура трубы на выгрузке из печи отпуска]\n",
       "Index: []"
      ]
     },
     "execution_count": 65,
     "metadata": {},
     "output_type": "execute_result"
    }
   ],
   "source": [
    "df_modes[df_modes['№ партии'] ==  '-[026.xls]лист1!$m$18']"
   ]
  },
  {
   "cell_type": "code",
   "execution_count": 66,
   "metadata": {
    "collapsed": true,
    "scrolled": false
   },
   "outputs": [],
   "source": [
    "def replace_all(x):\n",
    "    x = str(x)\n",
    "    x = x.replace(u'X', '/')\n",
    "    x = x.replace(u'x', '/')\n",
    "    x = x.replace(u'Х', '/')\n",
    "    x = x.replace(u'х', '/')\n",
    "    x = x.replace(',', '.')\n",
    "    x = x.replace('\\\\', '/')\n",
    "    x = x.replace('/-', '/0')\n",
    "    x = x.replace('-/', '0/')\n",
    "    x = x.replace('***', '0')\n",
    "    x = x.replace('*', '0')\n",
    "    x = x.replace('-', '/')\n",
    "    x = x.replace('nan', '')\n",
    "    return x\n",
    "\n",
    "def convert_step0(x):\n",
    "    return replace_all(x).split('/')[0]\n",
    "   \n",
    "def convert_step1(x):\n",
    "    try:\n",
    "        return replace_all(x).split('/')[1]\n",
    "    except:\n",
    "        return x\n",
    "\n",
    "df_modes = df_modes[df_modes[u'шаг балок закалочная/отпускная печи, сек']!='***']\n",
    "df_modes[u'шаг балок закалочная печь, сек'] = df_modes[u'шаг балок закалочная/отпускная печи, сек'].apply(convert_step0)\n",
    "# df_modes[u'шаг балок закалочная печь, сек'].to_excel('check.xlsx') \n",
    "df_modes[u'шаг балок отпускная печь, сек'] = df_modes[u'шаг балок закалочная/отпускная печи, сек'].apply(convert_step1)\n",
    "#del  df_modes2[u'шаг балок закалочная/отпускная печи, сек']"
   ]
  },
  {
   "cell_type": "code",
   "execution_count": 67,
   "metadata": {},
   "outputs": [
    {
     "data": {
      "text/plain": [
       "0        73х5,5\n",
       "1    73,02Х5,51\n",
       "2        73х5,5\n",
       "3        73х5,5\n",
       "4        73х5,5\n",
       "Name: D/S, dtype: object"
      ]
     },
     "execution_count": 67,
     "metadata": {},
     "output_type": "execute_result"
    }
   ],
   "source": [
    "df_modes[u'D/S'].head()"
   ]
  },
  {
   "cell_type": "code",
   "execution_count": 68,
   "metadata": {
    "collapsed": true,
    "scrolled": true
   },
   "outputs": [],
   "source": [
    "def split_d(x):\n",
    "    x = str(x)\n",
    "    x = x.replace(',', '.')\n",
    "    return re.split('х|Х|x|X', x)[0]\n",
    "\n",
    "def split_s(x):\n",
    "    x = str(x)\n",
    "    x = x.replace(',', '.')\n",
    "    try:\n",
    "        return re.split('х|Х|x|X', x)[1]\n",
    "    except:\n",
    "        return x"
   ]
  },
  {
   "cell_type": "code",
   "execution_count": 69,
   "metadata": {
    "collapsed": true,
    "scrolled": true
   },
   "outputs": [],
   "source": [
    "def rep_ds(x):\n",
    "    x = str(x)\n",
    "    x = x.replace('п', '')\n",
    "    x = x.replace('П', '')\n",
    "    x = x.replace('nan', '')\n",
    "    x = x.replace(',', '.')\n",
    "    \n",
    "    return x\n",
    "\n",
    "df_modes['диаметр'] = df_modes[u'D/S'].apply(split_d)\n",
    "df_modes['толщина стенки'] = df_modes[u'D/S'].apply(split_s)\n",
    "df_modes['толщина стенки'] = df_modes['толщина стенки'].apply(rep_ds)\n",
    "df_modes['толщина стенки'] = df_modes['толщина стенки'].apply(lambda x: x.replace('107.95', ''))\n",
    "df_modes['диаметр'] = df_modes['диаметр'].apply(rep_ds)"
   ]
  },
  {
   "cell_type": "code",
   "execution_count": 70,
   "metadata": {
    "collapsed": true
   },
   "outputs": [],
   "source": [
    "def rep(x):\n",
    "    x = str(x)\n",
    "    x = x.replace(u'сек', '')\n",
    "    x = x.replace(u'ек', '')\n",
    "    x = x.replace(u'\\мс', '')\n",
    "    x = x.replace(u'm/c', '')\n",
    "    x = x.replace(u'М/С', '')\n",
    "    x = x.replace(u'М\\С', '')\n",
    "    x = x.replace(u'nan', '')\n",
    "    x = x.replace(u'м/с', '')\n",
    "    x = x.replace(u'м\\с', '')\n",
    "    x = x.replace(u',', u'.')\n",
    "    x = x.replace(u'м\\\\', '')\n",
    "    x = x.replace(u'м/', '')\n",
    "    x = x.replace(u'*****', u'')\n",
    "    x = x.replace(u'****', u'')\n",
    "    x = x.replace(u'***', u'')\n",
    "    x = x.replace(u'29.03.2017', u'')\n",
    "    try:\n",
    "        y = x.split('-')\n",
    "        x = (float(y[0])+float(y[1]))/2\n",
    "    except:\n",
    "        pass\n",
    "    return x\n",
    "    \n",
    "    \n",
    "df_modes[u'Скорость прохождения трубы через спрейер, м/с'] = df_modes[u'Скорость прохождения трубы через спрейер, м/с'].apply(rep)\n",
    "# df_modes[u'Скорость прохождения трубы через спрейер, м/с'].to_excel('check_u.xlsx')"
   ]
  },
  {
   "cell_type": "code",
   "execution_count": 71,
   "metadata": {
    "collapsed": true
   },
   "outputs": [],
   "source": [
    "def rep_s(x):\n",
    "    x = str(x)\n",
    "    x = x.replace(u'сек', '')\n",
    "    x = x.replace(u' ', '')\n",
    "    x = x.replace(u'.', '')\n",
    "    return x\n",
    "\n",
    "df_modes[u'время выдержки в закалочной ванне, сек.'] = df_modes[u'время выдержки в закалочной ванне, сек.'].apply(rep_s)\n",
    "# df_modes[u'время выдержки в закалочной ванне, сек.'].to_excel('check_t.xlsx')"
   ]
  },
  {
   "cell_type": "code",
   "execution_count": 72,
   "metadata": {
    "scrolled": true
   },
   "outputs": [
    {
     "data": {
      "text/plain": [
       "(29262, 40)"
      ]
     },
     "execution_count": 72,
     "metadata": {},
     "output_type": "execute_result"
    }
   ],
   "source": [
    "df_modes.shape"
   ]
  },
  {
   "cell_type": "code",
   "execution_count": 73,
   "metadata": {},
   "outputs": [
    {
     "data": {
      "text/plain": [
       "(29262, 32)"
      ]
     },
     "execution_count": 73,
     "metadata": {},
     "output_type": "execute_result"
    }
   ],
   "source": [
    "df_modes[u'№ плавки'] = df_modes[u'плавка']\n",
    "l2 = [\n",
    "    'Дата термообработки', u'время начала т/о',u'D/S',u'шаг балок закалочная/отпускная печи, сек', u'плавка',\n",
    "      '2 зона уставка закалка', '2 зона фактическая температура закалка', '2 зона фактическая температура отпуск', \n",
    "      '4 зона фактическая температура отпуск']\n",
    "df_modes = df_modes.drop(l2, axis = 1)\n",
    "df_modes.shape\n"
   ]
  },
  {
   "cell_type": "code",
   "execution_count": 74,
   "metadata": {
    "scrolled": false
   },
   "outputs": [
    {
     "data": {
      "text/plain": [
       "(29262, 32)"
      ]
     },
     "execution_count": 74,
     "metadata": {},
     "output_type": "execute_result"
    }
   ],
   "source": [
    "df_modes.shape"
   ]
  },
  {
   "cell_type": "code",
   "execution_count": 75,
   "metadata": {
    "collapsed": true
   },
   "outputs": [],
   "source": [
    "str_to_del = [\n",
    "    3.75,\n",
    "    4.7,\n",
    "    4.18,\n",
    "    4.85,\n",
    "    4.78,\n",
    "    4.56,\n",
    "    3.71,\n",
    "    4.7,\n",
    "    4.63,\n",
    "    4.65,\n",
    "    4.52,\n",
    "    1.57,\n",
    "    3.87,\n",
    "    3.89,\n",
    "    2.5,\n",
    "    1.91,\n",
    "    2.98,\n",
    "    4.6,\n",
    "    4.71,\n",
    "    2.36,\n",
    "    4.39,\n",
    "    4.68,\n",
    "    1.82,\n",
    "    2.74,\n",
    "    2.81,\n",
    "    3.61\n",
    "    ]\n",
    "\n",
    "for i in str_to_del:\n",
    "    df_modes.drop(df_modes[df_modes['НД (гост, ту)'] == i].index, inplace=True, axis = 0)"
   ]
  },
  {
   "cell_type": "code",
   "execution_count": 76,
   "metadata": {},
   "outputs": [
    {
     "data": {
      "text/plain": [
       "(29248, 32)"
      ]
     },
     "execution_count": 76,
     "metadata": {},
     "output_type": "execute_result"
    }
   ],
   "source": [
    "df_modes.shape"
   ]
  },
  {
   "cell_type": "code",
   "execution_count": 77,
   "metadata": {},
   "outputs": [
    {
     "data": {
      "text/html": [
       "<div>\n",
       "<style>\n",
       "    .dataframe thead tr:only-child th {\n",
       "        text-align: right;\n",
       "    }\n",
       "\n",
       "    .dataframe thead th {\n",
       "        text-align: left;\n",
       "    }\n",
       "\n",
       "    .dataframe tbody tr th {\n",
       "        vertical-align: top;\n",
       "    }\n",
       "</style>\n",
       "<table border=\"1\" class=\"dataframe\">\n",
       "  <thead>\n",
       "    <tr style=\"text-align: right;\">\n",
       "      <th></th>\n",
       "      <th>№ партии</th>\n",
       "      <th>НД (гост, ту)</th>\n",
       "      <th>марка стали</th>\n",
       "      <th>кол-во, шт.</th>\n",
       "      <th>1 зона по ВТР закалка</th>\n",
       "      <th>1 зона уставка закалка</th>\n",
       "      <th>1 зона фактическая температура закалка</th>\n",
       "      <th>2 зона по ВТР закалка</th>\n",
       "      <th>3 зона по ВТР закалка</th>\n",
       "      <th>3 зона уставка закалка</th>\n",
       "      <th>3 зона фактическая температура закалка</th>\n",
       "      <th>Температура трубы на выгрузке из печи закалки</th>\n",
       "      <th>Скорость прохождения трубы через спрейер, м/с</th>\n",
       "      <th>t˚ C трубы после спреера</th>\n",
       "      <th>Расход воды на закалочный спрейер, м3</th>\n",
       "      <th>время выдержки в закалочной ванне, сек.</th>\n",
       "      <th>t˚ C воды в закалочной ванне</th>\n",
       "      <th>t˚ C трубы после ванны</th>\n",
       "      <th>1 зона ВТР и уставка отпуск</th>\n",
       "      <th>1 зона фактическая температура отпуск</th>\n",
       "      <th>2 зона ВТР и уставка отпуск</th>\n",
       "      <th>3 зона ВТР и уставка отпуск</th>\n",
       "      <th>3 зона фактическая температура отпуск</th>\n",
       "      <th>4 зона ВТР и уставка отпуск</th>\n",
       "      <th>5 зона ВТР и уставка отпуск</th>\n",
       "      <th>5 зона фактическая температура отпуск</th>\n",
       "      <th>Температура трубы на выгрузке из печи отпуска</th>\n",
       "      <th>шаг балок закалочная печь, сек</th>\n",
       "      <th>шаг балок отпускная печь, сек</th>\n",
       "      <th>диаметр</th>\n",
       "      <th>толщина стенки</th>\n",
       "      <th>№ плавки</th>\n",
       "    </tr>\n",
       "  </thead>\n",
       "  <tbody>\n",
       "    <tr>\n",
       "      <th>0</th>\n",
       "      <td>612387</td>\n",
       "      <td>ТУ3</td>\n",
       "      <td>38Г2С</td>\n",
       "      <td>50</td>\n",
       "      <td>850</td>\n",
       "      <td>850</td>\n",
       "      <td>853</td>\n",
       "      <td>850</td>\n",
       "      <td>860</td>\n",
       "      <td>849</td>\n",
       "      <td>849</td>\n",
       "      <td>848</td>\n",
       "      <td>1</td>\n",
       "      <td>воздух</td>\n",
       "      <td>1693</td>\n",
       "      <td>НЕТ</td>\n",
       "      <td>22</td>\n",
       "      <td>НЕТ</td>\n",
       "      <td>640</td>\n",
       "      <td>640</td>\n",
       "      <td>575</td>\n",
       "      <td>630</td>\n",
       "      <td>631</td>\n",
       "      <td>569</td>\n",
       "      <td>614</td>\n",
       "      <td>614</td>\n",
       "      <td>621</td>\n",
       "      <td>24</td>\n",
       "      <td>24</td>\n",
       "      <td>73</td>\n",
       "      <td>5.5</td>\n",
       "      <td>40600</td>\n",
       "    </tr>\n",
       "    <tr>\n",
       "      <th>1</th>\n",
       "      <td>701002</td>\n",
       "      <td>ТУ 21</td>\n",
       "      <td>30Г2</td>\n",
       "      <td>50</td>\n",
       "      <td>850</td>\n",
       "      <td>850</td>\n",
       "      <td>853</td>\n",
       "      <td>850</td>\n",
       "      <td>860</td>\n",
       "      <td>847</td>\n",
       "      <td>847</td>\n",
       "      <td>847</td>\n",
       "      <td>0.63</td>\n",
       "      <td>75-85</td>\n",
       "      <td>1719</td>\n",
       "      <td>НЕТ</td>\n",
       "      <td>22</td>\n",
       "      <td>НЕТ</td>\n",
       "      <td>640</td>\n",
       "      <td>642</td>\n",
       "      <td>640</td>\n",
       "      <td>630</td>\n",
       "      <td>631</td>\n",
       "      <td>630</td>\n",
       "      <td>614</td>\n",
       "      <td>615</td>\n",
       "      <td>621</td>\n",
       "      <td>24</td>\n",
       "      <td>24</td>\n",
       "      <td>73.02</td>\n",
       "      <td>5.51</td>\n",
       "      <td>6F8132</td>\n",
       "    </tr>\n",
       "    <tr>\n",
       "      <th>2</th>\n",
       "      <td>701003</td>\n",
       "      <td>ТУ3</td>\n",
       "      <td>38Г2С</td>\n",
       "      <td>32</td>\n",
       "      <td>850</td>\n",
       "      <td>850</td>\n",
       "      <td>847</td>\n",
       "      <td>850</td>\n",
       "      <td>860</td>\n",
       "      <td>847</td>\n",
       "      <td>845</td>\n",
       "      <td>851</td>\n",
       "      <td>1</td>\n",
       "      <td>воздух</td>\n",
       "      <td>66</td>\n",
       "      <td>НЕТ</td>\n",
       "      <td>22</td>\n",
       "      <td>НЕТ</td>\n",
       "      <td>640</td>\n",
       "      <td>642</td>\n",
       "      <td>575</td>\n",
       "      <td>630</td>\n",
       "      <td>631</td>\n",
       "      <td>569</td>\n",
       "      <td>614</td>\n",
       "      <td>614</td>\n",
       "      <td>560</td>\n",
       "      <td>24</td>\n",
       "      <td>24</td>\n",
       "      <td>73</td>\n",
       "      <td>5.5</td>\n",
       "      <td>6F8354</td>\n",
       "    </tr>\n",
       "    <tr>\n",
       "      <th>3</th>\n",
       "      <td>701004</td>\n",
       "      <td>ТУ3</td>\n",
       "      <td>38Г2С</td>\n",
       "      <td>50</td>\n",
       "      <td>850</td>\n",
       "      <td>850</td>\n",
       "      <td>847</td>\n",
       "      <td>850</td>\n",
       "      <td>860</td>\n",
       "      <td>847</td>\n",
       "      <td>845</td>\n",
       "      <td>848</td>\n",
       "      <td>1</td>\n",
       "      <td>воздух</td>\n",
       "      <td>67</td>\n",
       "      <td>НЕТ</td>\n",
       "      <td>22</td>\n",
       "      <td>НЕТ</td>\n",
       "      <td>640</td>\n",
       "      <td>642</td>\n",
       "      <td>575</td>\n",
       "      <td>630</td>\n",
       "      <td>631</td>\n",
       "      <td>569</td>\n",
       "      <td>614</td>\n",
       "      <td>614</td>\n",
       "      <td>560</td>\n",
       "      <td>24</td>\n",
       "      <td>24</td>\n",
       "      <td>73</td>\n",
       "      <td>5.5</td>\n",
       "      <td>6F8354</td>\n",
       "    </tr>\n",
       "    <tr>\n",
       "      <th>4</th>\n",
       "      <td>701005</td>\n",
       "      <td>ТУ3</td>\n",
       "      <td>38Г2С</td>\n",
       "      <td>50</td>\n",
       "      <td>850</td>\n",
       "      <td>850</td>\n",
       "      <td>847</td>\n",
       "      <td>850</td>\n",
       "      <td>860</td>\n",
       "      <td>847</td>\n",
       "      <td>845</td>\n",
       "      <td>852</td>\n",
       "      <td>1</td>\n",
       "      <td>воздух</td>\n",
       "      <td>69</td>\n",
       "      <td>НЕТ</td>\n",
       "      <td>22</td>\n",
       "      <td>НЕТ</td>\n",
       "      <td>640</td>\n",
       "      <td>642</td>\n",
       "      <td>575</td>\n",
       "      <td>630</td>\n",
       "      <td>631</td>\n",
       "      <td>569</td>\n",
       "      <td>614</td>\n",
       "      <td>614</td>\n",
       "      <td>560</td>\n",
       "      <td>24</td>\n",
       "      <td>24</td>\n",
       "      <td>73</td>\n",
       "      <td>5.5</td>\n",
       "      <td>6F8357</td>\n",
       "    </tr>\n",
       "  </tbody>\n",
       "</table>\n",
       "</div>"
      ],
      "text/plain": [
       "  № партии НД (гост, ту) марка стали кол-во, шт. 1 зона по ВТР закалка  \\\n",
       "0   612387           ТУ3       38Г2С          50                   850   \n",
       "1   701002         ТУ 21        30Г2          50                   850   \n",
       "2   701003           ТУ3       38Г2С          32                   850   \n",
       "3   701004           ТУ3       38Г2С          50                   850   \n",
       "4   701005           ТУ3       38Г2С          50                   850   \n",
       "\n",
       "  1 зона уставка закалка 1 зона фактическая температура закалка  \\\n",
       "0                    850                                    853   \n",
       "1                    850                                    853   \n",
       "2                    850                                    847   \n",
       "3                    850                                    847   \n",
       "4                    850                                    847   \n",
       "\n",
       "  2 зона по ВТР закалка 3 зона по ВТР закалка 3 зона уставка закалка  \\\n",
       "0                   850                   860                    849   \n",
       "1                   850                   860                    847   \n",
       "2                   850                   860                    847   \n",
       "3                   850                   860                    847   \n",
       "4                   850                   860                    847   \n",
       "\n",
       "  3 зона фактическая температура закалка  \\\n",
       "0                                    849   \n",
       "1                                    847   \n",
       "2                                    845   \n",
       "3                                    845   \n",
       "4                                    845   \n",
       "\n",
       "  Температура трубы на выгрузке из печи закалки  \\\n",
       "0                                           848   \n",
       "1                                           847   \n",
       "2                                           851   \n",
       "3                                           848   \n",
       "4                                           852   \n",
       "\n",
       "  Скорость прохождения трубы через спрейер, м/с t˚ C трубы после спреера  \\\n",
       "0                                             1                   воздух   \n",
       "1                                          0.63                    75-85   \n",
       "2                                             1                   воздух   \n",
       "3                                             1                   воздух   \n",
       "4                                             1                   воздух   \n",
       "\n",
       "  Расход воды на закалочный спрейер, м3  \\\n",
       "0                                  1693   \n",
       "1                                  1719   \n",
       "2                                    66   \n",
       "3                                    67   \n",
       "4                                    69   \n",
       "\n",
       "  время выдержки в закалочной ванне, сек. t˚ C воды в закалочной ванне  \\\n",
       "0                                     НЕТ                           22   \n",
       "1                                     НЕТ                           22   \n",
       "2                                     НЕТ                           22   \n",
       "3                                     НЕТ                           22   \n",
       "4                                     НЕТ                           22   \n",
       "\n",
       "  t˚ C трубы после ванны 1 зона ВТР и уставка отпуск  \\\n",
       "0                    НЕТ                         640   \n",
       "1                    НЕТ                         640   \n",
       "2                    НЕТ                         640   \n",
       "3                    НЕТ                         640   \n",
       "4                    НЕТ                         640   \n",
       "\n",
       "  1 зона фактическая температура отпуск 2 зона ВТР и уставка отпуск  \\\n",
       "0                                   640                         575   \n",
       "1                                   642                         640   \n",
       "2                                   642                         575   \n",
       "3                                   642                         575   \n",
       "4                                   642                         575   \n",
       "\n",
       "  3 зона ВТР и уставка отпуск 3 зона фактическая температура отпуск  \\\n",
       "0                         630                                   631   \n",
       "1                         630                                   631   \n",
       "2                         630                                   631   \n",
       "3                         630                                   631   \n",
       "4                         630                                   631   \n",
       "\n",
       "  4 зона ВТР и уставка отпуск 5 зона ВТР и уставка отпуск  \\\n",
       "0                         569                         614   \n",
       "1                         630                         614   \n",
       "2                         569                         614   \n",
       "3                         569                         614   \n",
       "4                         569                         614   \n",
       "\n",
       "  5 зона фактическая температура отпуск  \\\n",
       "0                                   614   \n",
       "1                                   615   \n",
       "2                                   614   \n",
       "3                                   614   \n",
       "4                                   614   \n",
       "\n",
       "  Температура трубы на выгрузке из печи отпуска  \\\n",
       "0                                           621   \n",
       "1                                           621   \n",
       "2                                           560   \n",
       "3                                           560   \n",
       "4                                           560   \n",
       "\n",
       "  шаг балок закалочная печь, сек шаг балок отпускная печь, сек диаметр  \\\n",
       "0                             24                            24      73   \n",
       "1                             24                            24   73.02   \n",
       "2                             24                            24      73   \n",
       "3                             24                            24      73   \n",
       "4                             24                            24      73   \n",
       "\n",
       "  толщина стенки № плавки  \n",
       "0            5.5    40600  \n",
       "1           5.51   6F8132  \n",
       "2            5.5   6F8354  \n",
       "3            5.5   6F8354  \n",
       "4            5.5   6F8357  "
      ]
     },
     "execution_count": 77,
     "metadata": {},
     "output_type": "execute_result"
    }
   ],
   "source": [
    "df_modes.head()"
   ]
  },
  {
   "cell_type": "code",
   "execution_count": 78,
   "metadata": {
    "collapsed": true,
    "scrolled": false
   },
   "outputs": [],
   "source": [
    "df_modes.drop(df_modes[df_modes['№ партии'].isnull()].index, inplace=True, axis = 0)"
   ]
  },
  {
   "cell_type": "code",
   "execution_count": 79,
   "metadata": {},
   "outputs": [
    {
     "data": {
      "text/plain": [
       "(29248, 32)"
      ]
     },
     "execution_count": 79,
     "metadata": {},
     "output_type": "execute_result"
    }
   ],
   "source": [
    "df_modes.shape"
   ]
  },
  {
   "cell_type": "code",
   "execution_count": 80,
   "metadata": {
    "collapsed": true
   },
   "outputs": [],
   "source": [
    "def rep_steel(x):\n",
    "    x = str(x)\n",
    "    x = x.replace('092ГС','09Г2С')\n",
    "    x = x.replace('13 ХФА','13ХФА')\n",
    "    x = x.replace('13хфа','13ХФА')\n",
    "    x = x.replace('13ХФА ','13ХФА')\n",
    "    x = x.replace('13хфа-3','13ХФА-3')\n",
    "    x = x.replace('15Х13H2MБ','15Х13H2МБ')\n",
    "    x = x.replace('15х5мфбч','15Х5МФБЧ')\n",
    "    x = x.replace('18х3мфб','18Х3МФБ')\n",
    "    x = x.replace('18Х3МФБ ','18Х3МФБ')\n",
    "    x = x.replace('18х3ХМФБ','18Х3МФБ')\n",
    "    x = x.replace('18хзмфб','18Х3МФБ')\n",
    "    x = x.replace('18хмфб','18ХМФБ')\n",
    "    x = x.replace('18ХМФБ ','18ХМФБ')\n",
    "    x = x.replace('20А простая','20А-пр')\n",
    "    x = x.replace('20А-ПР','20А-пр')\n",
    "    x = x.replace('20 А','20А')    \n",
    "    x = x.replace('20A','20А') \n",
    "    x = x.replace('20А ','20А')\n",
    "    x = x.replace('20 АУ','20А-У')\n",
    "    x = x.replace('20АУ','20А-У')\n",
    "    x = x.replace('30Г2 ','30Г2')\n",
    "    x = x.replace('30Г2.','30Г2')\n",
    "    x = x.replace('30г2-2','30Г2-2')\n",
    "    x = x.replace('30г2ф','30Г2Ф')\n",
    "    x = x.replace('30г2','30Г2')\n",
    "    x = x.replace('30хгма','30ХГМА')\n",
    "    x = x.replace('30ХГМА1','30ХГМА-1')\n",
    "    x = x.replace('30хма','30ХМА')\n",
    "    x = x.replace('32г1','32Г1')\n",
    "    x = x.replace('32г2','32Г2')\n",
    "    x = x.replace('32х1мф-1','32Х1МФ-1')\n",
    "    x = x.replace('32ха','32ХА')\n",
    "    x = x.replace('37г2ф','37Г2Ф')\n",
    "    x = x.replace('37г2Ф','37Г2Ф')\n",
    "    x = x.replace('37Г2ф','37Г2Ф')\n",
    "    x = x.replace('37Г2Ф ','37Г2Ф')\n",
    "    x = x.replace('38Г2С ','38Г2С')\n",
    "    x = x.replace('38г2с-4','38Г2С-4')\n",
    "    x = x.replace('38Г2-С-9','38Г2С-9')\n",
    "    x = x.replace('30Г2 ', '30Г2')\n",
    "    return x\n",
    "\n",
    "df_modes['марка стали'] = df_modes['марка стали'].apply(rep_steel)"
   ]
  },
  {
   "cell_type": "code",
   "execution_count": 81,
   "metadata": {
    "collapsed": true
   },
   "outputs": [],
   "source": [
    "def rep_vtr(x):\n",
    "    x = str(x)\n",
    "    x = x.replace('*****','')\n",
    "    x = x.replace('****','')\n",
    "    x = x.replace('***','')\n",
    "    x = x.replace('-','')\n",
    "    x = x.replace('50/*','')\n",
    "    x = x.replace('нет','')\n",
    "    x = x.replace('НЕТ','')\n",
    "    return x\n",
    "\n",
    "df_modes['1 зона по ВТР закалка'] = df_modes['1 зона по ВТР закалка'].apply(rep_vtr)\n",
    "df_modes['2 зона по ВТР закалка'] = df_modes['2 зона по ВТР закалка'].apply(rep_vtr)\n",
    "df_modes['3 зона по ВТР закалка'] = df_modes['3 зона по ВТР закалка'].apply(rep_vtr)\n"
   ]
  },
  {
   "cell_type": "code",
   "execution_count": 82,
   "metadata": {
    "collapsed": true
   },
   "outputs": [],
   "source": [
    "def rep_nd(x):\n",
    "    x = str(x)\n",
    "    x = x.replace('н/д','')\n",
    "    x = x.replace('.0', '')\n",
    "    x = x.replace('НЕТ', '')\n",
    "    x = x.replace('***', '')\n",
    "    return x\n",
    "\n",
    "df_modes['1 зона уставка закалка'] = df_modes['1 зона уставка закалка'].apply(rep_nd)\n",
    "df_modes['1 зона фактическая температура закалка'] = df_modes['1 зона фактическая температура закалка'].apply(rep_nd)\n",
    "df_modes['3 зона уставка закалка'] = df_modes['3 зона уставка закалка'].apply(rep_nd)\n",
    "df_modes['3 зона фактическая температура закалка'] = df_modes['3 зона фактическая температура закалка'].apply(rep_nd)\n",
    "df_modes['Температура трубы на выгрузке из печи закалки'] = df_modes['Температура трубы на выгрузке из печи закалки'].apply(rep_nd)\n",
    "df_modes['Расход воды на закалочный спрейер, м3'] = df_modes['Расход воды на закалочный спрейер, м3'].apply(rep_nd)\n",
    "df_modes['t˚ C воды в закалочной ванне'] = df_modes['t˚ C воды в закалочной ванне'].apply(rep_nd)\n",
    "df_modes['1 зона фактическая температура отпуск'] = df_modes['1 зона фактическая температура отпуск'].apply(rep_nd)\n",
    "df_modes['3 зона ВТР и уставка отпуск'] = df_modes['3 зона ВТР и уставка отпуск'].apply(rep_nd)\n",
    "df_modes['3 зона фактическая температура отпуск'] = df_modes['3 зона фактическая температура отпуск'].apply(rep_nd)\n",
    "df_modes['5 зона ВТР и уставка отпуск'] = df_modes['5 зона ВТР и уставка отпуск'].apply(rep_nd)\n",
    "df_modes['5 зона фактическая температура отпуск'] = df_modes['5 зона фактическая температура отпуск'].apply(rep_nd)\n",
    "df_modes['Температура трубы на выгрузке из печи отпуска'] = df_modes['Температура трубы на выгрузке из печи отпуска'].apply(rep_nd)"
   ]
  },
  {
   "cell_type": "code",
   "execution_count": 83,
   "metadata": {
    "collapsed": true
   },
   "outputs": [],
   "source": [
    "def rep_u_sp(x):\n",
    "    x = str(x)\n",
    "    x = x.replace(',','.')\n",
    "    x = x.replace('041','0.41')\n",
    "    x = x.replace('НЕТ','')\n",
    "    x = x.replace('нет','')  \n",
    "    x = x.replace('м','')\n",
    "    x = x.replace('021', '0.21')\n",
    "    x = x.replace('1.8', '0.18')\n",
    "    x = x.replace('2.0', '0.2')\n",
    "    x = x.replace('012', '0.12')\n",
    "    if x == '45':\n",
    "        return '0.45'\n",
    "    return x\n",
    "\n",
    "col = 'Скорость прохождения трубы через спрейер, м/с' \n",
    "df_modes[col] = df_modes[col].apply(rep_u_sp)"
   ]
  },
  {
   "cell_type": "code",
   "execution_count": 84,
   "metadata": {
    "collapsed": true
   },
   "outputs": [],
   "source": [
    "def rep_time(x):\n",
    "    x = str(x)\n",
    "    x = x.replace('nan','')\n",
    "    x = x.replace('НЕТ','')\n",
    "    x = x.replace('нет','')\n",
    "    x = x.replace('НОРМ','')\n",
    "    x = x.replace('****','')\n",
    "    x = x.replace('***','')\n",
    "    x = x.replace('40-50','45')\n",
    "    x = x.replace('сек','')\n",
    "    x = x.replace('с','')\n",
    "    x = x.replace(',','.')\n",
    "    x = x.replace('11cек', '')\n",
    "    return x\n",
    "\n",
    "\n",
    "col ='время выдержки в закалочной ванне, сек.'\n",
    "df_modes[col] = df_modes[col].apply(rep_time)"
   ]
  },
  {
   "cell_type": "code",
   "execution_count": 85,
   "metadata": {
    "collapsed": true
   },
   "outputs": [],
   "source": [
    "def rep_tempr(x):\n",
    "    x = str(x)\n",
    "    x = x.replace('******','')\n",
    "    x = x.replace('*****','')\n",
    "    x = x.replace('****','')\n",
    "    x = x.replace('***','')\n",
    "    x = x.replace('НОРМ-ИЯ', '')\n",
    "    x = x.replace('норм-ция', '')\n",
    "    x = x.replace('\\\\','/')\n",
    "    x = x.replace('-','/')\n",
    "    x = x.replace('<', '')\n",
    "    x = x.replace('>', '')\n",
    "    x = x.replace('Доотпуск', 'доотпуск')\n",
    "    x = x.replace('до', '')\n",
    "    x = x.replace('Бизнес Тренд', '')\n",
    "    x = x.replace('БизнесТренд', '')\n",
    "    x = x.replace('ВОЗДУХ', '')\n",
    "    x = x.replace('Воздух', '')\n",
    "    x = x.replace('воэдух', '')\n",
    "    x = x.replace('высадка', '')\n",
    "    x = x.replace('закалка', '')\n",
    "    x = x.replace('НЕТ', '')\n",
    "    x = x.replace('нет', '')\n",
    "    x = x.replace('НЕТ', '') \n",
    "    x = x.replace('нет', '')\n",
    "    x = x.replace('НОРМ', '')\n",
    "    x = x.replace('нормализ.', '')\n",
    "    x = x.replace('нормализация', '')\n",
    "    x = x.replace('воздух', '')\n",
    "    x = x.replace('61702', '')\n",
    "    x = x.replace('опытные.','')\n",
    "    x = x.replace(',','.')\n",
    "    y = x.split('/')\n",
    "    fl = True\n",
    "    tmpy= []\n",
    "    for i in y:\n",
    "        if len(i) == 4:\n",
    "            y.append(i[0:2])\n",
    "            y.append(i[2:4])\n",
    "            y.remove(i)\n",
    "    for i in y:\n",
    "        try:\n",
    "            tmpy.append(float(i))\n",
    "        except:\n",
    "            tmpy.append(i)\n",
    "            fl = False\n",
    "    if(fl):\n",
    "        y = tmpy   \n",
    "        x = np.mean(y)\n",
    "    if x=='0':\n",
    "        x=''\n",
    "    return x\n",
    "\n",
    "\n",
    "col = 't˚ C трубы после спреера'\n",
    "df_modes[col] = df_modes[col].apply(rep_tempr)\n",
    "df_modes.drop(df_modes[df_modes[col]=='отпуск'].index, inplace = True, axis = 0)"
   ]
  },
  {
   "cell_type": "code",
   "execution_count": 86,
   "metadata": {
    "collapsed": true
   },
   "outputs": [],
   "source": [
    "def rep_tempr_bath(x):\n",
    "    x = str(x)\n",
    "    x = x.replace('Бизнес Тренд', '')\n",
    "    x = x.replace('бизнес тренд', '')\n",
    "    x = x.replace('высадка.', '')\n",
    "    x = x.replace('высадка', '')\n",
    "    x = x.replace('ВЫСАДКА', '')\n",
    "    x = x.replace('Высадка', '')\n",
    "    x = x.replace('высадка', '') \n",
    "    x = x.replace('доотпуск.', 'доотпуск')\n",
    "    x = x.replace('доотпуск', 'доотпуск')\n",
    "    x = x.replace('Доотпуск', 'доотпуск')\n",
    "    x = x.replace('ДООТПУСК', 'доотпуск')\n",
    "    x = x.replace('НЕТ', '')\n",
    "    x = x.replace('нет', '')\n",
    "    x = x.replace('НЕТ', '') \n",
    "    x = x.replace('НК 8500', '')\n",
    "    x = x.replace('нормализ.', '')\n",
    "    x = x.replace('нормализация', '')\n",
    "    x = x.replace('нормал-ция', '')\n",
    "    x = x.replace('НОРМ-ИЯ', '')\n",
    "    x = x.replace('норм-ция.', '')\n",
    "    x = x.replace('норм-ция', '')\n",
    "    x = x.replace('нор-ция', '')\n",
    "    x = x.replace('опытные.', '')\n",
    "    x = x.replace('ОПЫТНЫЕ', '')\n",
    "    x = x.replace('повторная', '')\n",
    "    x = x.replace('повтор', '')\n",
    "    x = x.replace('ПОВТОР', '')\n",
    "    x = x.replace('Самара', '')\n",
    "    x = x.replace('СИТЦ', '')\n",
    "    x = x.replace('Трэнд', '')\n",
    "    x = x.replace('ЧПТЗ', '')\n",
    "    x = x.replace('ЧТПЗ', '')\n",
    "    x = x.replace('30 СЕК.', '30')\n",
    "    x = x.replace('2/я зак/ка', '')\n",
    "    x = x.replace('ТРЕНД', '')\n",
    "    x = x.replace('ПЛ.Р. Ц42/№10','')\n",
    "    x = x.replace('Челябинск','')\n",
    "    if x=='0':\n",
    "        x=''\n",
    "    if x=='.':\n",
    "        x=''\n",
    "    return x\n",
    "\n",
    "\n",
    "df_modes['t˚ C трубы после ванны'] = df_modes['t˚ C трубы после ванны'].apply(rep_tempr)\n",
    "df_modes['t˚ C трубы после ванны'] = df_modes['t˚ C трубы после ванны'].apply(rep_tempr_bath)\n",
    "df_modes.drop(df_modes[df_modes['t˚ C трубы после ванны']=='отпуск'].index, inplace = True, axis = 0)"
   ]
  },
  {
   "cell_type": "code",
   "execution_count": 87,
   "metadata": {},
   "outputs": [
    {
     "data": {
      "text/html": [
       "<div>\n",
       "<style>\n",
       "    .dataframe thead tr:only-child th {\n",
       "        text-align: right;\n",
       "    }\n",
       "\n",
       "    .dataframe thead th {\n",
       "        text-align: left;\n",
       "    }\n",
       "\n",
       "    .dataframe tbody tr th {\n",
       "        vertical-align: top;\n",
       "    }\n",
       "</style>\n",
       "<table border=\"1\" class=\"dataframe\">\n",
       "  <thead>\n",
       "    <tr style=\"text-align: right;\">\n",
       "      <th></th>\n",
       "      <th>№ партии</th>\n",
       "      <th>НД (гост, ту)</th>\n",
       "      <th>марка стали</th>\n",
       "      <th>кол-во, шт.</th>\n",
       "      <th>1 зона по ВТР закалка</th>\n",
       "      <th>1 зона уставка закалка</th>\n",
       "      <th>1 зона фактическая температура закалка</th>\n",
       "      <th>2 зона по ВТР закалка</th>\n",
       "      <th>3 зона по ВТР закалка</th>\n",
       "      <th>3 зона уставка закалка</th>\n",
       "      <th>3 зона фактическая температура закалка</th>\n",
       "      <th>Температура трубы на выгрузке из печи закалки</th>\n",
       "      <th>Скорость прохождения трубы через спрейер, м/с</th>\n",
       "      <th>t˚ C трубы после спреера</th>\n",
       "      <th>Расход воды на закалочный спрейер, м3</th>\n",
       "      <th>время выдержки в закалочной ванне, сек.</th>\n",
       "      <th>t˚ C воды в закалочной ванне</th>\n",
       "      <th>t˚ C трубы после ванны</th>\n",
       "      <th>1 зона ВТР и уставка отпуск</th>\n",
       "      <th>1 зона фактическая температура отпуск</th>\n",
       "      <th>2 зона ВТР и уставка отпуск</th>\n",
       "      <th>3 зона ВТР и уставка отпуск</th>\n",
       "      <th>3 зона фактическая температура отпуск</th>\n",
       "      <th>4 зона ВТР и уставка отпуск</th>\n",
       "      <th>5 зона ВТР и уставка отпуск</th>\n",
       "      <th>5 зона фактическая температура отпуск</th>\n",
       "      <th>Температура трубы на выгрузке из печи отпуска</th>\n",
       "      <th>шаг балок закалочная печь, сек</th>\n",
       "      <th>шаг балок отпускная печь, сек</th>\n",
       "      <th>диаметр</th>\n",
       "      <th>толщина стенки</th>\n",
       "      <th>№ плавки</th>\n",
       "    </tr>\n",
       "  </thead>\n",
       "  <tbody>\n",
       "  </tbody>\n",
       "</table>\n",
       "</div>"
      ],
      "text/plain": [
       "Empty DataFrame\n",
       "Columns: [№ партии, НД (гост, ту), марка стали, кол-во, шт., 1 зона по ВТР закалка, 1 зона уставка закалка, 1 зона фактическая температура закалка, 2 зона по ВТР закалка, 3 зона по ВТР закалка, 3 зона уставка закалка, 3 зона фактическая температура закалка, Температура трубы на выгрузке из печи закалки, Скорость прохождения трубы через спрейер, м/с, t˚ C трубы после спреера, Расход воды на закалочный спрейер, м3, время выдержки в закалочной ванне, сек., t˚ C воды в закалочной ванне, t˚ C трубы после ванны, 1 зона ВТР и уставка отпуск, 1 зона фактическая температура отпуск, 2 зона ВТР и уставка отпуск, 3 зона ВТР и уставка отпуск, 3 зона фактическая температура отпуск, 4 зона ВТР и уставка отпуск, 5 зона ВТР и уставка отпуск, 5 зона фактическая температура отпуск, Температура трубы на выгрузке из печи отпуска, шаг балок закалочная печь, сек, шаг балок отпускная печь, сек, диаметр, толщина стенки, № плавки]\n",
       "Index: []"
      ]
     },
     "execution_count": 87,
     "metadata": {},
     "output_type": "execute_result"
    }
   ],
   "source": [
    "df_modes[df_modes['t˚ C трубы после ванны'] == 'ПЛ.Р. Ц42/№10']"
   ]
  },
  {
   "cell_type": "code",
   "execution_count": 88,
   "metadata": {
    "collapsed": true
   },
   "outputs": [],
   "source": [
    "def rep_vtr(x):\n",
    "    x = str(x)\n",
    "    x = x.replace('н/д','')\n",
    "    x = x.replace('***','')\n",
    "    return x\n",
    "\n",
    "\n",
    "df_modes['1 зона ВТР и уставка отпуск'] = df_modes['1 зона ВТР и уставка отпуск'].apply(rep_vtr)"
   ]
  },
  {
   "cell_type": "code",
   "execution_count": 89,
   "metadata": {
    "collapsed": true
   },
   "outputs": [],
   "source": [
    "def rep_vtr2(x):\n",
    "    x = str(x)\n",
    "    x = x.replace('***', '')\n",
    "    x = x.replace('****', '')\n",
    "    x = x.replace('НЕТ', '') \n",
    "    x = x.replace('нет', '')\n",
    "    if x == '67':\n",
    "        return '670'\n",
    "    if x == '69':\n",
    "        return '690'\n",
    "    return x\n",
    "\n",
    "df_modes['2 зона ВТР и уставка отпуск'] = df_modes['2 зона ВТР и уставка отпуск'].apply(rep_vtr2)\n",
    "df_modes['4 зона ВТР и уставка отпуск'] = df_modes['4 зона ВТР и уставка отпуск'].apply(rep_vtr2)"
   ]
  },
  {
   "cell_type": "code",
   "execution_count": 90,
   "metadata": {},
   "outputs": [
    {
     "data": {
      "text/plain": [
       "(29163, 32)"
      ]
     },
     "execution_count": 90,
     "metadata": {},
     "output_type": "execute_result"
    }
   ],
   "source": [
    "df_modes.shape"
   ]
  },
  {
   "cell_type": "code",
   "execution_count": 91,
   "metadata": {
    "collapsed": true
   },
   "outputs": [],
   "source": [
    "#186\n",
    "df_modes.drop(df_modes[df_modes['шаг балок закалочная печь, сек'] == '0'].index, inplace=True, axis=0)\n",
    "#204\n",
    "df_modes.drop(df_modes[df_modes['шаг балок отпускная печь, сек'] == '0'].index, inplace=True, axis=0)"
   ]
  },
  {
   "cell_type": "code",
   "execution_count": 92,
   "metadata": {
    "scrolled": true
   },
   "outputs": [
    {
     "data": {
      "text/plain": [
       "(28574, 32)"
      ]
     },
     "execution_count": 92,
     "metadata": {},
     "output_type": "execute_result"
    }
   ],
   "source": [
    "df_modes.shape"
   ]
  },
  {
   "cell_type": "code",
   "execution_count": 93,
   "metadata": {
    "scrolled": true
   },
   "outputs": [
    {
     "data": {
      "text/plain": [
       "Index(['1 зона по ВТР закалка', '1 зона уставка закалка',\n",
       "       '1 зона фактическая температура закалка', '2 зона по ВТР закалка',\n",
       "       '3 зона по ВТР закалка', '3 зона уставка закалка',\n",
       "       '3 зона фактическая температура закалка',\n",
       "       'Температура трубы на выгрузке из печи закалки',\n",
       "       'Скорость прохождения трубы через спрейер, м/с',\n",
       "       't˚ C трубы после спреера', 'Расход воды на закалочный спрейер, м3',\n",
       "       'время выдержки в закалочной ванне, сек.',\n",
       "       't˚ C воды в закалочной ванне', 't˚ C трубы после ванны',\n",
       "       '1 зона ВТР и уставка отпуск', '1 зона фактическая температура отпуск',\n",
       "       '2 зона ВТР и уставка отпуск', '3 зона ВТР и уставка отпуск',\n",
       "       '3 зона фактическая температура отпуск', '4 зона ВТР и уставка отпуск',\n",
       "       '5 зона ВТР и уставка отпуск', '5 зона фактическая температура отпуск',\n",
       "       'Температура трубы на выгрузке из печи отпуска',\n",
       "       'шаг балок закалочная печь, сек', 'шаг балок отпускная печь, сек'],\n",
       "      dtype='object')"
      ]
     },
     "execution_count": 93,
     "metadata": {},
     "output_type": "execute_result"
    }
   ],
   "source": [
    "ls_mean = df_modes.columns[4:-3]\n",
    "ls_mean"
   ]
  },
  {
   "cell_type": "code",
   "execution_count": 94,
   "metadata": {
    "collapsed": true
   },
   "outputs": [],
   "source": [
    "def get_mean(df):\n",
    "    df = df.groupby(['№ плавки', '№ партии']).first()\n",
    "    for col in ls_mean:\n",
    "        if col in df:\n",
    "            try:\n",
    "                df[col] = df.groupby(['№ плавки', '№ партии'])[col].transform(lambda x: x.mean())\n",
    "            except:\n",
    "                pass\n",
    "    df = df.reset_index()\n",
    "    return df"
   ]
  },
  {
   "cell_type": "code",
   "execution_count": 95,
   "metadata": {
    "collapsed": true
   },
   "outputs": [],
   "source": [
    "df_modes['№ партии'] = df_modes['№ партии'].astype(str).str.lower()\n",
    "df_modes['№ плавки'] = df_modes['№ плавки'].astype(str).str.lower()"
   ]
  },
  {
   "cell_type": "code",
   "execution_count": 96,
   "metadata": {},
   "outputs": [
    {
     "data": {
      "text/plain": [
       "(28574, 32)"
      ]
     },
     "execution_count": 96,
     "metadata": {},
     "output_type": "execute_result"
    }
   ],
   "source": [
    "df_modes.shape"
   ]
  },
  {
   "cell_type": "code",
   "execution_count": 97,
   "metadata": {
    "scrolled": true
   },
   "outputs": [
    {
     "data": {
      "text/plain": [
       "(28574, 32)"
      ]
     },
     "execution_count": 97,
     "metadata": {},
     "output_type": "execute_result"
    }
   ],
   "source": [
    "tmp = get_mean(df_modes)\n",
    "# tmp.groupby('№ партии').shape\n",
    "tmp.shape"
   ]
  },
  {
   "cell_type": "code",
   "execution_count": 98,
   "metadata": {
    "scrolled": false
   },
   "outputs": [
    {
     "data": {
      "text/html": [
       "<div>\n",
       "<style>\n",
       "    .dataframe thead tr:only-child th {\n",
       "        text-align: right;\n",
       "    }\n",
       "\n",
       "    .dataframe thead th {\n",
       "        text-align: left;\n",
       "    }\n",
       "\n",
       "    .dataframe tbody tr th {\n",
       "        vertical-align: top;\n",
       "    }\n",
       "</style>\n",
       "<table border=\"1\" class=\"dataframe\">\n",
       "  <thead>\n",
       "    <tr style=\"text-align: right;\">\n",
       "      <th></th>\n",
       "      <th>№ плавки</th>\n",
       "      <th>№ партии</th>\n",
       "      <th>НД (гост, ту)</th>\n",
       "      <th>марка стали</th>\n",
       "      <th>кол-во, шт.</th>\n",
       "      <th>1 зона по ВТР закалка</th>\n",
       "      <th>1 зона уставка закалка</th>\n",
       "      <th>1 зона фактическая температура закалка</th>\n",
       "      <th>2 зона по ВТР закалка</th>\n",
       "      <th>3 зона по ВТР закалка</th>\n",
       "      <th>3 зона уставка закалка</th>\n",
       "      <th>3 зона фактическая температура закалка</th>\n",
       "      <th>Температура трубы на выгрузке из печи закалки</th>\n",
       "      <th>Скорость прохождения трубы через спрейер, м/с</th>\n",
       "      <th>t˚ C трубы после спреера</th>\n",
       "      <th>Расход воды на закалочный спрейер, м3</th>\n",
       "      <th>время выдержки в закалочной ванне, сек.</th>\n",
       "      <th>t˚ C воды в закалочной ванне</th>\n",
       "      <th>t˚ C трубы после ванны</th>\n",
       "      <th>1 зона ВТР и уставка отпуск</th>\n",
       "      <th>1 зона фактическая температура отпуск</th>\n",
       "      <th>2 зона ВТР и уставка отпуск</th>\n",
       "      <th>3 зона ВТР и уставка отпуск</th>\n",
       "      <th>3 зона фактическая температура отпуск</th>\n",
       "      <th>4 зона ВТР и уставка отпуск</th>\n",
       "      <th>5 зона ВТР и уставка отпуск</th>\n",
       "      <th>5 зона фактическая температура отпуск</th>\n",
       "      <th>Температура трубы на выгрузке из печи отпуска</th>\n",
       "      <th>шаг балок закалочная печь, сек</th>\n",
       "      <th>шаг балок отпускная печь, сек</th>\n",
       "      <th>диаметр</th>\n",
       "      <th>толщина стенки</th>\n",
       "    </tr>\n",
       "  </thead>\n",
       "  <tbody>\n",
       "  </tbody>\n",
       "</table>\n",
       "</div>"
      ],
      "text/plain": [
       "Empty DataFrame\n",
       "Columns: [№ плавки, № партии, НД (гост, ту), марка стали, кол-во, шт., 1 зона по ВТР закалка, 1 зона уставка закалка, 1 зона фактическая температура закалка, 2 зона по ВТР закалка, 3 зона по ВТР закалка, 3 зона уставка закалка, 3 зона фактическая температура закалка, Температура трубы на выгрузке из печи закалки, Скорость прохождения трубы через спрейер, м/с, t˚ C трубы после спреера, Расход воды на закалочный спрейер, м3, время выдержки в закалочной ванне, сек., t˚ C воды в закалочной ванне, t˚ C трубы после ванны, 1 зона ВТР и уставка отпуск, 1 зона фактическая температура отпуск, 2 зона ВТР и уставка отпуск, 3 зона ВТР и уставка отпуск, 3 зона фактическая температура отпуск, 4 зона ВТР и уставка отпуск, 5 зона ВТР и уставка отпуск, 5 зона фактическая температура отпуск, Температура трубы на выгрузке из печи отпуска, шаг балок закалочная печь, сек, шаг балок отпускная печь, сек, диаметр, толщина стенки]\n",
       "Index: []"
      ]
     },
     "execution_count": 98,
     "metadata": {},
     "output_type": "execute_result"
    }
   ],
   "source": [
    "tmp[tmp['№ партии'].duplicated()]"
   ]
  },
  {
   "cell_type": "code",
   "execution_count": 99,
   "metadata": {
    "collapsed": true
   },
   "outputs": [],
   "source": [
    "tmp.to_excel('all_modes_clean_2.xlsx')"
   ]
  }
 ],
 "metadata": {
  "kernelspec": {
   "display_name": "Python 3",
   "language": "python",
   "name": "python3"
  },
  "language_info": {
   "codemirror_mode": {
    "name": "ipython",
    "version": 3
   },
   "file_extension": ".py",
   "mimetype": "text/x-python",
   "name": "python",
   "nbconvert_exporter": "python",
   "pygments_lexer": "ipython3",
   "version": "3.6.3"
  }
 },
 "nbformat": 4,
 "nbformat_minor": 2
}
