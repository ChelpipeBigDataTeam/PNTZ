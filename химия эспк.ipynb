{
 "cells": [
  {
   "cell_type": "code",
   "execution_count": 11,
   "metadata": {
    "collapsed": true
   },
   "outputs": [],
   "source": [
    "import pandas as pd\n",
    "import numpy as np\n",
    "import warnings\n",
    "import re\n",
    "import math\n",
    "warnings.filterwarnings(\"ignore\")"
   ]
  },
  {
   "cell_type": "code",
   "execution_count": 22,
   "metadata": {
    "collapsed": true
   },
   "outputs": [],
   "source": [
    "chem_list = [\n",
    "    u'C',\n",
    "    u'Mn',\n",
    "    u'Si',\n",
    "    u'P',\n",
    "    u'S',\n",
    "    u'Cr',\n",
    "    u'Ni',\n",
    "    u'Cu',\n",
    "    u'Al',\n",
    "    u'V',\n",
    "    u'Ti',\n",
    "    u'Nb',\n",
    "    u'Mo',\n",
    "    u'N',\n",
    "    u'B'\n",
    "]"
   ]
  },
  {
   "cell_type": "code",
   "execution_count": 24,
   "metadata": {
    "collapsed": true
   },
   "outputs": [],
   "source": [
    "def ch2f(x):\n",
    "    if (type(x)==float) | (type(x)==int):\n",
    "        x = str(x)\n",
    "    if u'г' in x:\n",
    "        print(x)\n",
    "        x = x.replace(u'г.п.', '')\n",
    "        x = x.replace(u'гп', '')\n",
    "        x = str(x)\n",
    "    if u'0.012. 0.014. 0.013' in str(x):\n",
    "        x = x.replace(u'0.012. 0.014. 0.013', u'0.013')\n",
    "    if x[-4:-2]=='e-':\n",
    "        return float(x)\n",
    "    elif '-' in str(x): \n",
    "#         print(x)\n",
    "        x = x.replace(' ', '')\n",
    "        x = str(x) + '0'\n",
    "        tmp_map = list(map(float, str(x).replace(',', '.').split('-')))\n",
    "        if (abs(tmp_map[-1]-tmp_map[-2])>0.05) | (tmp_map[-1]==0):\n",
    "            return np.mean(tmp_map[:-1])\n",
    "        else:\n",
    "            return np.mean(tmp_map)\n",
    "    else:\n",
    "        return float(str(x).replace(',', '.'))\n"
   ]
  },
  {
   "cell_type": "code",
   "execution_count": 12,
   "metadata": {
    "collapsed": true
   },
   "outputs": [],
   "source": [
    "# подгрузка всех файлов испытаний\n",
    "import os\n",
    "dr = 'exp'\n",
    "file_names = os.listdir(dr)"
   ]
  },
  {
   "cell_type": "code",
   "execution_count": 13,
   "metadata": {
    "collapsed": true
   },
   "outputs": [],
   "source": [
    "del file_names[-3]"
   ]
  },
  {
   "cell_type": "code",
   "execution_count": 14,
   "metadata": {},
   "outputs": [],
   "source": [
    "# файлы в словарь доступ по имени файла ({имя файла: словарь датафреймов файла} )\n",
    "exp_files = {}\n",
    "for name in file_names:\n",
    "    exp_files[name] = pd.read_excel(dr+'\\\\'+name, None)\n",
    "#     print(name)"
   ]
  },
  {
   "cell_type": "code",
   "execution_count": 15,
   "metadata": {
    "collapsed": true
   },
   "outputs": [],
   "source": [
    "# номера плавок приводим к единому регистру (нижнему)\n",
    "tmp = {}\n",
    "for name in exp_files:\n",
    "    for l in exp_files[name]:\n",
    "        if '№ плавки' in exp_files[name][l]:\n",
    "            exp_files[name][l]['№ плавки'] = exp_files[name][l]['№ плавки'].astype(str).str.lower()\n",
    "        if '№ партии' in exp_files[name][l]:\n",
    "            exp_files[name][l]['№ партии'] = exp_files[name][l]['№ партии'].astype(str).str.lower()\n",
    "    tmp[name] = exp_files[name]\n",
    "exp_files = tmp"
   ]
  },
  {
   "cell_type": "code",
   "execution_count": 16,
   "metadata": {},
   "outputs": [
    {
     "name": "stdout",
     "output_type": "stream",
     "text": [
      "16057\n",
      "(12306, 17)\n"
     ]
    }
   ],
   "source": [
    "# создаем единую таблицу с химией\n",
    "chemistry = []\n",
    "chemistry = exp_files['1квартал2017.xls'][u'Хим.анализ плавок (заготовка)']\n",
    "\n",
    "chemistry_list_names = [\n",
    "    'Хим.анализ плавок (заготовка)',\n",
    "    'Хим.анализ плавок(заготовка)',\n",
    "    'Хим.анализ плавок (Заготовка)',\n",
    "    'Хим.анализ плавок (заготовки)' \n",
    "]\n",
    "\n",
    "s = 0\n",
    "for name, exp_file in zip(exp_files, exp_files.values()):\n",
    "    for list_chem in chemistry_list_names:\n",
    "        if list_chem in exp_file:\n",
    "            chemistry = pd.merge(chemistry, exp_file[list_chem], how = 'outer')\n",
    "            s += exp_file[list_chem].shape[0]\n",
    "            break\n",
    "\n",
    "chemistry[u'№ плавки'] = chemistry[u'№ плавки'].astype(str)\n",
    "chemistry.to_excel('chemistry.xlsx')\n",
    "\n",
    "print(s)\n",
    "print(chemistry.shape)"
   ]
  },
  {
   "cell_type": "code",
   "execution_count": 17,
   "metadata": {},
   "outputs": [
    {
     "name": "stdout",
     "output_type": "stream",
     "text": [
      "(8091, 17)\n"
     ]
    }
   ],
   "source": [
    "chemistry = chemistry[chemistry['Поставщик']=='ЭСПК']\n",
    "print(chemistry.shape)"
   ]
  },
  {
   "cell_type": "code",
   "execution_count": 25,
   "metadata": {},
   "outputs": [],
   "source": [
    "for el in chem_list:\n",
    "    chemistry[el]=chemistry[el].apply(ch2f)"
   ]
  },
  {
   "cell_type": "code",
   "execution_count": 53,
   "metadata": {},
   "outputs": [],
   "source": [
    "def get_more_chem(x):\n",
    "    for el in x:\n",
    "        for i in x[el]:\n",
    "            if i!=None:\n",
    "                x[el] = i\n",
    "    return x\n",
    "                \n",
    "chemistry = chemistry.groupby('№ плавки').apply(get_more_chem)"
   ]
  },
  {
   "cell_type": "code",
   "execution_count": 55,
   "metadata": {},
   "outputs": [
    {
     "data": {
      "text/plain": [
       "(7608, 17)"
      ]
     },
     "execution_count": 55,
     "metadata": {},
     "output_type": "execute_result"
    }
   ],
   "source": [
    "chemistry.drop_duplicates(inplace=True)\n",
    "chemistry.shape"
   ]
  },
  {
   "cell_type": "code",
   "execution_count": 58,
   "metadata": {},
   "outputs": [],
   "source": [
    "# chemistry[chemistry[['№ плавки']].duplicated(keep = False)].sort_values(['№ плавки'])"
   ]
  },
  {
   "cell_type": "code",
   "execution_count": 59,
   "metadata": {},
   "outputs": [
    {
     "data": {
      "text/plain": [
       "(29255, 31)"
      ]
     },
     "execution_count": 59,
     "metadata": {},
     "output_type": "execute_result"
    }
   ],
   "source": [
    "# подгружаем режимы\n",
    "mode = pd.read_excel('all_modes_clean_2.xlsx')\n",
    "mode.shape\n",
    "mode[u'№ плавки'] = mode[u'№ плавки'].astype(str)\n",
    "mode.shape"
   ]
  },
  {
   "cell_type": "code",
   "execution_count": 60,
   "metadata": {},
   "outputs": [
    {
     "name": "stdout",
     "output_type": "stream",
     "text": [
      "(29255, 47)\n"
     ]
    }
   ],
   "source": [
    "merge_table = pd.merge(mode, chemistry, how ='left', on=['№ плавки'])\n",
    "print(merge_table.shape)"
   ]
  },
  {
   "cell_type": "code",
   "execution_count": 61,
   "metadata": {
    "collapsed": true
   },
   "outputs": [],
   "source": [
    "mean_chem_steel = pd.read_excel('mean_chem_steel.xlsx')"
   ]
  },
  {
   "cell_type": "code",
   "execution_count": 62,
   "metadata": {},
   "outputs": [
    {
     "data": {
      "text/plain": [
       "((29255, 47), (64, 16))"
      ]
     },
     "execution_count": 62,
     "metadata": {},
     "output_type": "execute_result"
    }
   ],
   "source": [
    "merge_table.shape, mean_chem_steel.shape"
   ]
  },
  {
   "cell_type": "code",
   "execution_count": 63,
   "metadata": {},
   "outputs": [
    {
     "name": "stdout",
     "output_type": "stream",
     "text": [
      "(7660, 47)\n"
     ]
    },
    {
     "data": {
      "text/plain": [
       "(7660, 32)"
      ]
     },
     "execution_count": 63,
     "metadata": {},
     "output_type": "execute_result"
    }
   ],
   "source": [
    "ls = merge_table.columns[:-15]\n",
    "merge_without_chem = merge_table[merge_table['C'].isnull()]\n",
    "print(merge_without_chem.shape)\n",
    "merge_without_chem = merge_without_chem[ls]\n",
    "merge_without_chem.shape"
   ]
  },
  {
   "cell_type": "code",
   "execution_count": 64,
   "metadata": {},
   "outputs": [
    {
     "data": {
      "text/plain": [
       "(21595, 47)"
      ]
     },
     "execution_count": 64,
     "metadata": {},
     "output_type": "execute_result"
    }
   ],
   "source": [
    "merge_table = merge_table[merge_table['C'].notnull()]\n",
    "merge_table.shape"
   ]
  },
  {
   "cell_type": "code",
   "execution_count": 65,
   "metadata": {
    "collapsed": true
   },
   "outputs": [],
   "source": [
    "merge_mean_chem = pd.merge(merge_without_chem, mean_chem_steel, how='left', on='марка стали')"
   ]
  },
  {
   "cell_type": "code",
   "execution_count": 66,
   "metadata": {},
   "outputs": [
    {
     "data": {
      "text/plain": [
       "(7660, 47)"
      ]
     },
     "execution_count": 66,
     "metadata": {},
     "output_type": "execute_result"
    }
   ],
   "source": [
    "merge_mean_chem.shape"
   ]
  },
  {
   "cell_type": "code",
   "execution_count": 67,
   "metadata": {},
   "outputs": [
    {
     "data": {
      "text/plain": [
       "(29255, 47)"
      ]
     },
     "execution_count": 67,
     "metadata": {},
     "output_type": "execute_result"
    }
   ],
   "source": [
    "merge_table = pd.merge(merge_table, merge_mean_chem, how ='outer')\n",
    "merge_table.shape"
   ]
  },
  {
   "cell_type": "code",
   "execution_count": 70,
   "metadata": {},
   "outputs": [],
   "source": [
    "merge_table.to_excel('merge_table_mean_chem.xlsx')"
   ]
  },
  {
   "cell_type": "code",
   "execution_count": null,
   "metadata": {
    "collapsed": true
   },
   "outputs": [],
   "source": []
  }
 ],
 "metadata": {
  "kernelspec": {
   "display_name": "Python 3",
   "language": "python",
   "name": "python3"
  },
  "language_info": {
   "codemirror_mode": {
    "name": "ipython",
    "version": 3
   },
   "file_extension": ".py",
   "mimetype": "text/x-python",
   "name": "python",
   "nbconvert_exporter": "python",
   "pygments_lexer": "ipython3",
   "version": "3.6.4"
  }
 },
 "nbformat": 4,
 "nbformat_minor": 2
}
