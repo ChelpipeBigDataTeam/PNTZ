{
 "cells": [
  {
   "cell_type": "code",
   "execution_count": 1,
   "metadata": {
    "collapsed": true
   },
   "outputs": [],
   "source": [
    "import pandas as pd\n",
    "import numpy as np\n",
    "import warnings\n",
    "import re\n",
    "import math\n",
    "# warnings.filterwarnings(\"ignore\")\n",
    "pd.options.display.max_columns = 100\n",
    "pd.options.display.max_rows = 1000"
   ]
  },
  {
   "cell_type": "code",
   "execution_count": 2,
   "metadata": {
    "collapsed": true
   },
   "outputs": [],
   "source": [
    "chem_list = [\n",
    "    u'C',\n",
    "    u'Mn',\n",
    "    u'Si',\n",
    "    u'P',\n",
    "    u'S',\n",
    "    u'Cr',\n",
    "    u'Ni',\n",
    "    u'Cu',\n",
    "    u'Al',\n",
    "    u'V',\n",
    "    u'Ti',\n",
    "    u'Nb',\n",
    "    u'Mo',\n",
    "    u'N',\n",
    "    u'B'\n",
    "]"
   ]
  },
  {
   "cell_type": "code",
   "execution_count": 3,
   "metadata": {
    "collapsed": true
   },
   "outputs": [],
   "source": [
    "def ch2f(x):\n",
    "    if (type(x)==float) | (type(x)==int):\n",
    "        x = str(x)\n",
    "    if u'г' in x:\n",
    "        print(x)\n",
    "        x = x.replace(u'г.п.', '')\n",
    "        x = x.replace(u'гп', '')\n",
    "        x = str(x)\n",
    "    if u'0.012. 0.014. 0.013' in str(x):\n",
    "        x = x.replace(u'0.012. 0.014. 0.013', u'0.013')\n",
    "    if x[-4:-2]=='e-':\n",
    "        return float(x)\n",
    "    elif '-' in str(x): \n",
    "#         print(x)\n",
    "        x = x.replace(' ', '')\n",
    "        x = str(x) + '0'\n",
    "        tmp_map = list(map(float, str(x).replace(',', '.').split('-')))\n",
    "        if (abs(tmp_map[-1]-tmp_map[-2])>0.05) | (tmp_map[-1]==0):\n",
    "            return np.mean(tmp_map[:-1])\n",
    "        else:\n",
    "            return np.mean(tmp_map)\n",
    "    else:\n",
    "        return float(str(x).replace(',', '.'))\n"
   ]
  },
  {
   "cell_type": "code",
   "execution_count": 4,
   "metadata": {
    "collapsed": true
   },
   "outputs": [],
   "source": [
    "# подгрузка всех файлов испытаний\n",
    "import os\n",
    "dr = 'DATA/source/exp'\n",
    "file_names = os.listdir(dr)"
   ]
  },
  {
   "cell_type": "code",
   "execution_count": 5,
   "metadata": {
    "collapsed": true
   },
   "outputs": [],
   "source": [
    "file_names.remove('prepared')"
   ]
  },
  {
   "cell_type": "code",
   "execution_count": 6,
   "metadata": {},
   "outputs": [
    {
     "data": {
      "text/plain": [
       "['1квартал2017.xls',\n",
       " '2012 1 квартал (январь, февраль, март)испр.xls',\n",
       " '2012 2 квартал (апрель, май, июнь)испр..xls',\n",
       " '2012 3 квартал (июль, август, сентябрь)испр..xls',\n",
       " '2012 4 квартал (октябрь, ноябрь, декабрь)испр.xls',\n",
       " '2013 1 квартал (январь, февраль, март)испр.xls',\n",
       " '2013 2 квартал (апрель, май, июнь)испр..xls',\n",
       " '2013 3 квартал (июль, август, сентябрь)испр..xls',\n",
       " '2013 4 квартал (октябрь, ноябрь, декабрь)испр.xls',\n",
       " '2014 1 квартал (январь, февраль, март)испр.xls',\n",
       " '2014 2 квартал (апрель, май, июнь)испр.xls',\n",
       " '2014 3 квартал (июль, август, сентябрь)испр.xls',\n",
       " '2014 4 квартал (октябрь, ноябрь, декабрь)испр.xls',\n",
       " '2015 1 квартал (январь, февраль, март)испр.xls',\n",
       " '2015 2 квартал (апрель, май, июнь)испр.xls',\n",
       " '2015 3 квартал ( июль, август, сентябрь)испр.xls',\n",
       " '2015 4 квартал (октябрь, ноябрь, декабрь)испр.xls',\n",
       " '2016 1 квартал (январь,февраль,март)испр.xls',\n",
       " '2016 2 квартал (апрель, май, июнь)испр.xls',\n",
       " '2016 3 квартал (июль, август, сентябрь)испр.xls',\n",
       " '2016 4 квартал (октябрь, ноябрь, декабрь)испр.xls',\n",
       " '2квартал2017.xls',\n",
       " '2квартал2017_2.xlsx',\n",
       " '3 квартал 2017.xls',\n",
       " '4квартал2017.xlsx',\n",
       " 'декабрь - задание и испытания.xlsx',\n",
       " 'испытания апрель 2018.xls',\n",
       " 'март 2018-испытания.xlsx',\n",
       " 'февраль 2018-испытания.xlsx',\n",
       " 'январь 2018 - с испытаниями.xlsx']"
      ]
     },
     "execution_count": 6,
     "metadata": {},
     "output_type": "execute_result"
    }
   ],
   "source": [
    "file_names"
   ]
  },
  {
   "cell_type": "code",
   "execution_count": 7,
   "metadata": {
    "collapsed": true
   },
   "outputs": [],
   "source": [
    "# файлы в словарь доступ по имени файла ({имя файла: словарь датафреймов файла} )\n",
    "exp_files = {}\n",
    "for name in file_names:\n",
    "    exp_files[name] = pd.read_excel(dr+'\\\\'+name, None)\n",
    "#     print(name)"
   ]
  },
  {
   "cell_type": "code",
   "execution_count": 8,
   "metadata": {
    "collapsed": true
   },
   "outputs": [],
   "source": [
    "# номера плавок приводим к единому регистру (нижнему)\n",
    "tmp = {}\n",
    "for name in exp_files:\n",
    "    for l in exp_files[name]:\n",
    "        if '№ плавки' in exp_files[name][l]:\n",
    "            exp_files[name][l]['№ плавки'] = exp_files[name][l]['№ плавки'].astype(str).str.lower()\n",
    "        if '№ партии' in exp_files[name][l]:\n",
    "            exp_files[name][l]['№ партии'] = exp_files[name][l]['№ партии'].astype(str).str.lower()\n",
    "    tmp[name] = exp_files[name]\n",
    "exp_files = tmp"
   ]
  },
  {
   "cell_type": "code",
   "execution_count": 9,
   "metadata": {},
   "outputs": [
    {
     "name": "stdout",
     "output_type": "stream",
     "text": [
      "17182\n",
      "(12998, 163)\n"
     ]
    }
   ],
   "source": [
    "# создаем единую таблицу с химией\n",
    "chemistry = []\n",
    "chemistry = exp_files['1квартал2017.xls'][u'Хим.анализ плавок (заготовка)']\n",
    "\n",
    "# TODO : убрать этот список эта вкладка всегда первая!!!!!!!!!!!\n",
    "\"\"\"TODO : убрать этот список эта вкладка всегда первая!!!!!!!!!!!\"\"\"\n",
    "# TODO : убрать этот список эта вкладка всегда первая!!!!!!!!!!!\n",
    "# TODO : убрать этот список эта вкладка всегда первая!!!!!!!!!!!\n",
    "\n",
    "chemistry_list_names = [\n",
    "    'Хим.анализ (заготовка)',\n",
    "    'Хим.анализ плавок (заготовка)',\n",
    "    'Хим.анализ плавок(заготовка)',\n",
    "    'Хим.анализ плавок (Заготовка)',\n",
    "    'Хим.анализ плавок (заготовки)',\n",
    "    'Хим.анализ-заготовка',\n",
    "    'Хим.анализ плавок'\n",
    "]\n",
    "\n",
    "s = 0\n",
    "for name, exp_file in zip(exp_files, exp_files.values()):\n",
    "    for list_chem in chemistry_list_names:\n",
    "        if list_chem in exp_file:\n",
    "            chemistry = pd.merge(chemistry, exp_file[list_chem], how = 'outer')\n",
    "            s += exp_file[list_chem].shape[0]\n",
    "            break\n",
    "\n",
    "chemistry[u'№ плавки'] = chemistry[u'№ плавки'].astype(str)\n",
    "chemistry.to_excel('chemistry.xlsx')\n",
    "\n",
    "print(s)\n",
    "print(chemistry.shape)"
   ]
  },
  {
   "cell_type": "code",
   "execution_count": 10,
   "metadata": {},
   "outputs": [
    {
     "name": "stdout",
     "output_type": "stream",
     "text": [
      "(12998, 163)\n"
     ]
    }
   ],
   "source": [
    "# chemistry = chemistry[chemistry['Поставщик']=='ЭСПК']\n",
    "print(chemistry.shape)"
   ]
  },
  {
   "cell_type": "code",
   "execution_count": 11,
   "metadata": {},
   "outputs": [
    {
     "name": "stdout",
     "output_type": "stream",
     "text": [
      "0.18 г.п.\n",
      "0.22 гп\n",
      "0.21 г.п.\n"
     ]
    }
   ],
   "source": [
    "for el in chem_list:\n",
    "    chemistry[el]=chemistry[el].apply(ch2f)"
   ]
  },
  {
   "cell_type": "code",
   "execution_count": 12,
   "metadata": {
    "collapsed": true
   },
   "outputs": [],
   "source": [
    "def get_more_chem(x):\n",
    "    for el in x:\n",
    "        for i in x[el]:\n",
    "            if i!=None:\n",
    "                x[el] = i\n",
    "    return x\n",
    "                \n",
    "chemistry = chemistry.groupby('№ плавки').apply(get_more_chem)"
   ]
  },
  {
   "cell_type": "code",
   "execution_count": 13,
   "metadata": {},
   "outputs": [
    {
     "data": {
      "text/plain": [
       "(10746, 163)"
      ]
     },
     "execution_count": 13,
     "metadata": {},
     "output_type": "execute_result"
    }
   ],
   "source": [
    "chemistry.drop_duplicates(inplace=True)\n",
    "chemistry.shape"
   ]
  },
  {
   "cell_type": "code",
   "execution_count": 14,
   "metadata": {
    "collapsed": true
   },
   "outputs": [],
   "source": [
    "# chemistry[chemistry[['№ плавки']].duplicated(keep = False)].sort_values(['№ плавки'])"
   ]
  },
  {
   "cell_type": "code",
   "execution_count": 14,
   "metadata": {},
   "outputs": [
    {
     "data": {
      "text/plain": [
       "(29255, 33)"
      ]
     },
     "execution_count": 14,
     "metadata": {},
     "output_type": "execute_result"
    }
   ],
   "source": [
    "# подгружаем режимы\n",
    "mode = pd.read_excel('all_modes_clean.xlsx')\n",
    "mode.shape\n",
    "mode[u'№ плавки'] = mode[u'№ плавки'].astype(str)\n",
    "mode.shape"
   ]
  },
  {
   "cell_type": "code",
   "execution_count": 15,
   "metadata": {},
   "outputs": [
    {
     "data": {
      "text/plain": [
       "(1722, 22)"
      ]
     },
     "execution_count": 15,
     "metadata": {},
     "output_type": "execute_result"
    }
   ],
   "source": [
    "# подгружаем режимы valid\n",
    "mode_valid = pd.read_excel('valid_modes_clean.xlsx')\n",
    "mode_valid[u'№ плавки'] = mode_valid[u'№ плавки'].astype(str)\n",
    "mode_valid.shape"
   ]
  },
  {
   "cell_type": "code",
   "execution_count": 17,
   "metadata": {
    "collapsed": true
   },
   "outputs": [],
   "source": [
    "# TODO:  очищаем дубликаты по номеру партии (скорее всего какие-то косяки есть)\n",
    "# mode[mode[['№ плавки', '№ партии']].duplicated(keep = False)].sort_values(['№ партии'])"
   ]
  },
  {
   "cell_type": "code",
   "execution_count": 16,
   "metadata": {},
   "outputs": [
    {
     "name": "stdout",
     "output_type": "stream",
     "text": [
      "(29255, 195)\n",
      "(1722, 184)\n"
     ]
    }
   ],
   "source": [
    "merge_table = pd.merge(mode, chemistry, how ='left', on=['№ плавки'])\n",
    "print(merge_table.shape)\n",
    "merge_table_valid = pd.merge(mode_valid, chemistry, how ='left', on=['№ плавки'])\n",
    "print(merge_table_valid.shape)"
   ]
  },
  {
   "cell_type": "code",
   "execution_count": 17,
   "metadata": {
    "collapsed": true
   },
   "outputs": [],
   "source": [
    "# Среднюю химию подгружаем \n",
    "# mean_chem_steel = pd.read_excel('mean_chem_steel.xlsx')"
   ]
  },
  {
   "cell_type": "code",
   "execution_count": 18,
   "metadata": {},
   "outputs": [
    {
     "data": {
      "text/plain": [
       "24"
      ]
     },
     "execution_count": 18,
     "metadata": {},
     "output_type": "execute_result"
    }
   ],
   "source": [
    "# merge_table.shape\n",
    "# , mean_chem_steel.shape\n",
    "1722 - 1698"
   ]
  },
  {
   "cell_type": "code",
   "execution_count": 21,
   "metadata": {
    "collapsed": true
   },
   "outputs": [],
   "source": [
    "# ls = merge_table.columns[:-15]\n",
    "# merge_without_chem = merge_table[merge_table['C'].isnull()]\n",
    "# print(merge_without_chem.shape)\n",
    "# merge_without_chem = merge_without_chem[ls]\n",
    "# merge_without_chem.shape"
   ]
  },
  {
   "cell_type": "code",
   "execution_count": 19,
   "metadata": {},
   "outputs": [
    {
     "name": "stdout",
     "output_type": "stream",
     "text": [
      "(28352, 195)\n",
      "(1698, 184)\n"
     ]
    }
   ],
   "source": [
    "merge_table = merge_table[merge_table['C'].notnull()]\n",
    "print(merge_table.shape)\n",
    "merge_table_valid = merge_table_valid[merge_table_valid['C'].notnull()]\n",
    "print(merge_table_valid.shape)"
   ]
  },
  {
   "cell_type": "code",
   "execution_count": 23,
   "metadata": {
    "collapsed": true
   },
   "outputs": [],
   "source": [
    "# merge_mean_chem = pd.merge(merge_without_chem, mean_chem_steel, how='left', on='марка стали')"
   ]
  },
  {
   "cell_type": "code",
   "execution_count": 24,
   "metadata": {
    "collapsed": true
   },
   "outputs": [],
   "source": [
    "# merge_mean_chem.shape"
   ]
  },
  {
   "cell_type": "code",
   "execution_count": 25,
   "metadata": {
    "collapsed": true
   },
   "outputs": [],
   "source": [
    "# merge_table = pd.merge(merge_table, merge_mean_chem, how ='outer')\n",
    "# merge_table.shape"
   ]
  },
  {
   "cell_type": "code",
   "execution_count": 20,
   "metadata": {},
   "outputs": [
    {
     "data": {
      "text/plain": [
       "((28352, 195), (1698, 184))"
      ]
     },
     "execution_count": 20,
     "metadata": {},
     "output_type": "execute_result"
    }
   ],
   "source": [
    "copy_merge_table = merge_table.copy()\n",
    "copy_merge_table_valid = merge_table_valid.copy()\n",
    "copy_merge_table.shape, copy_merge_table_valid.shape"
   ]
  },
  {
   "cell_type": "code",
   "execution_count": 21,
   "metadata": {},
   "outputs": [
    {
     "data": {
      "text/plain": [
       "((28352, 195), (1698, 184))"
      ]
     },
     "execution_count": 21,
     "metadata": {},
     "output_type": "execute_result"
    }
   ],
   "source": [
    "merge_table = copy_merge_table.copy()\n",
    "merge_table_valid = copy_merge_table_valid.copy()\n",
    "merge_table.shape, merge_table_valid.shape"
   ]
  },
  {
   "cell_type": "code",
   "execution_count": 22,
   "metadata": {
    "collapsed": true
   },
   "outputs": [],
   "source": [
    "def clean_by_chem(df, mark, el, right_b, left_b=None):\n",
    "    tmp = df.shape[0]\n",
    "    if left_b==None:\n",
    "        df = df[((df['марка стали']==mark) & ((df[el]<=right_b)|(pd.isnull(df[el]))))| (df['марка стали']!=mark)]\n",
    "    else:\n",
    "        df = df[((df['марка стали']==mark) & ((df[el]<=right_b)|(pd.isnull(df[el]))) & ((df[el]>=left_b)|(pd.isnull(df[el])))) | (df['марка стали']!=mark)]\n",
    "#     print(df.shape)\n",
    "    if (df.shape[0]-tmp!=0):\n",
    "        print('удалено строк:', np.abs(df.shape[0]-tmp), 'причина', el, mark)\n",
    "    return df"
   ]
  },
  {
   "cell_type": "code",
   "execution_count": 23,
   "metadata": {
    "collapsed": true
   },
   "outputs": [],
   "source": [
    "def clean_all_mark_chem(merge_table):\n",
    "    # чистим 09Г2C\n",
    "    merge_table = clean_by_chem(merge_table, '09Г2С', 'C', 0.14, 0.03)\n",
    "    merge_table = clean_by_chem(merge_table, '09Г2С', 'Mn', 1.8, 1)\n",
    "    merge_table = clean_by_chem(merge_table, '09Г2С', 'Si', 0.75, 0.45)\n",
    "    merge_table = clean_by_chem(merge_table, '09Г2С', 'S', 0.05)\n",
    "    merge_table = clean_by_chem(merge_table, '09Г2С', 'P', 0.05)\n",
    "    merge_table = clean_by_chem(merge_table, '09Г2С', 'Al', 0.06, 0.015)\n",
    "    merge_table = clean_by_chem(merge_table, '09Г2С', 'Ti', 0.035)\n",
    "    merge_table = clean_by_chem(merge_table, '09Г2С', 'Ni', 0.3)\n",
    "    merge_table = clean_by_chem(merge_table, '09Г2С', 'Cr', 0.3)\n",
    "    merge_table = clean_by_chem(merge_table, '09Г2С', 'Cu', 0.3)\n",
    "    # чистим 13ХФА\n",
    "    merge_table = clean_by_chem(merge_table, '13ХФА', 'C', 0.19, 0.1)\n",
    "    merge_table = clean_by_chem(merge_table, '13ХФА', 'Mn', 0.7, 0.3)\n",
    "    merge_table = clean_by_chem(merge_table, '13ХФА', 'Si', 0.4, 0.13)\n",
    "    merge_table = clean_by_chem(merge_table, '13ХФА', 'Cr', 0.8, 0.4)\n",
    "    merge_table = clean_by_chem(merge_table, '13ХФА', 'V', 0.08, 0.02)\n",
    "    # чистим 30Г2\n",
    "    merge_table = clean_by_chem(merge_table, '30Г2', 'C', 0.35, 0.25)\n",
    "    merge_table = clean_by_chem(merge_table, '30Г2', 'Mn', 1.6, 0.7)\n",
    "    merge_table = clean_by_chem(merge_table, '30Г2', 'Si', 0.5, 0.13)\n",
    "    # чистим 18ХМФБ\n",
    "    merge_table = clean_by_chem(merge_table, '18ХМФБ', 'C', 0.25, 0.12)\n",
    "    merge_table = clean_by_chem(merge_table, '18ХМФБ', 'Mn', 0.7, 0.3)\n",
    "    merge_table = clean_by_chem(merge_table, '18ХМФБ', 'Si', 0.5, 0.13)\n",
    "    merge_table = clean_by_chem(merge_table, '18ХМФБ', 'Cr', 1.2, 0.45)\n",
    "    merge_table = clean_by_chem(merge_table, '18ХМФБ', 'Mo', 0.4, 0.1)\n",
    "    merge_table = clean_by_chem(merge_table, '18ХМФБ', 'V', 0.12, 0.02)\n",
    "    merge_table = clean_by_chem(merge_table, '18ХМФБ', 'Nb', 0.08, 0.015)\n",
    "    # чистим 37Г2Ф\n",
    "    merge_table = clean_by_chem(merge_table, '37Г2Ф', 'C', 0.45, 0.35)\n",
    "    merge_table = clean_by_chem(merge_table, '37Г2Ф', 'Mn', 1.8, 0.7)\n",
    "    merge_table = clean_by_chem(merge_table, '37Г2Ф', 'Si', 0.5, 0.13)\n",
    "    merge_table = clean_by_chem(merge_table, '37Г2Ф', 'V', 0.12, 0.02)\n",
    "    return merge_table"
   ]
  },
  {
   "cell_type": "code",
   "execution_count": 30,
   "metadata": {
    "collapsed": true
   },
   "outputs": [],
   "source": [
    "# merge_table[merge_table['№ партии']==203010]"
   ]
  },
  {
   "cell_type": "code",
   "execution_count": 24,
   "metadata": {},
   "outputs": [
    {
     "name": "stdout",
     "output_type": "stream",
     "text": [
      "удалено строк: 21 причина C 09Г2С\n",
      "удалено строк: 1 причина Mn 09Г2С\n",
      "удалено строк: 1 причина Si 09Г2С\n",
      "удалено строк: 27 причина Al 09Г2С\n",
      "удалено строк: 4 причина Ti 09Г2С\n",
      "удалено строк: 28 причина C 13ХФА\n",
      "удалено строк: 1 причина Cr 13ХФА\n",
      "удалено строк: 73 причина C 30Г2\n",
      "удалено строк: 7 причина C 18ХМФБ\n",
      "удалено строк: 38 причина Mn 18ХМФБ\n",
      "удалено строк: 3 причина Cr 18ХМФБ\n",
      "удалено строк: 362 причина C 37Г2Ф\n",
      "удалено строк: 15 причина Mn 37Г2Ф\n",
      "удалено строк: 5 причина Si 37Г2Ф\n",
      "удалено строк: 13 причина V 37Г2Ф\n"
     ]
    },
    {
     "data": {
      "text/plain": [
       "(27753, 195)"
      ]
     },
     "execution_count": 24,
     "metadata": {},
     "output_type": "execute_result"
    }
   ],
   "source": [
    "merge_table = clean_all_mark_chem(merge_table)\n",
    "merge_table.shape"
   ]
  },
  {
   "cell_type": "code",
   "execution_count": 25,
   "metadata": {},
   "outputs": [
    {
     "name": "stdout",
     "output_type": "stream",
     "text": [
      "удалено строк: 6 причина C 37Г2Ф\n"
     ]
    },
    {
     "data": {
      "text/plain": [
       "(1692, 184)"
      ]
     },
     "execution_count": 25,
     "metadata": {},
     "output_type": "execute_result"
    }
   ],
   "source": [
    "merge_table_valid = clean_all_mark_chem(merge_table_valid)\n",
    "merge_table_valid.shape"
   ]
  },
  {
   "cell_type": "code",
   "execution_count": 26,
   "metadata": {},
   "outputs": [
    {
     "data": {
      "text/plain": [
       "(1692, 184)"
      ]
     },
     "execution_count": 26,
     "metadata": {},
     "output_type": "execute_result"
    }
   ],
   "source": [
    "merge_table_valid.shape"
   ]
  },
  {
   "cell_type": "code",
   "execution_count": null,
   "metadata": {
    "collapsed": true
   },
   "outputs": [],
   "source": [
    "# merge_table[merge_table['№ партии']==203010]"
   ]
  },
  {
   "cell_type": "code",
   "execution_count": 27,
   "metadata": {
    "collapsed": true
   },
   "outputs": [],
   "source": [
    "merge_table.to_excel('DATA/prepared/merge_table_mean_chem.xlsx')"
   ]
  },
  {
   "cell_type": "code",
   "execution_count": 28,
   "metadata": {
    "collapsed": true
   },
   "outputs": [],
   "source": [
    "merge_table_valid.to_excel('DATA/prepared/valid_table_mean_chem.xlsx')"
   ]
  },
  {
   "cell_type": "code",
   "execution_count": 44,
   "metadata": {
    "collapsed": true
   },
   "outputs": [
    {
     "data": {
      "text/plain": [
       "(27753, 194)"
      ]
     },
     "execution_count": 44,
     "metadata": {},
     "output_type": "execute_result"
    }
   ],
   "source": [
    "merge_table.shape"
   ]
  },
  {
   "cell_type": "code",
   "execution_count": 43,
   "metadata": {
    "collapsed": true
   },
   "outputs": [],
   "source": [
    "merge_table_valid.to_excel('DATA/prepared/valid_table_mean_chem.xlsx')"
   ]
  },
  {
   "cell_type": "code",
   "execution_count": 45,
   "metadata": {
    "collapsed": true
   },
   "outputs": [],
   "source": [
    "merge_table.to_excel('DATA/prepared/merge_table_mean_chem.xlsx')"
   ]
  },
  {
   "cell_type": "code",
   "execution_count": null,
   "metadata": {
    "collapsed": true
   },
   "outputs": [],
   "source": []
  }
 ],
 "metadata": {
  "kernelspec": {
   "display_name": "Python 3",
   "language": "python",
   "name": "python3"
  },
  "language_info": {
   "codemirror_mode": {
    "name": "ipython",
    "version": 3
   },
   "file_extension": ".py",
   "mimetype": "text/x-python",
   "name": "python",
   "nbconvert_exporter": "python",
   "pygments_lexer": "ipython3",
   "version": "3.6.4"
  }
 },
 "nbformat": 4,
 "nbformat_minor": 2
}
