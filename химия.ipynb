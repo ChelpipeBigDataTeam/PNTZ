{
 "cells": [
  {
   "cell_type": "code",
   "execution_count": null,
   "metadata": {},
   "outputs": [],
   "source": [
    "import pandas as pd\n",
    "import numpy as np\n",
    "import warnings\n",
    "import re\n",
    "import math\n",
    "warnings.filterwarnings(\"ignore\")"
   ]
  },
  {
   "cell_type": "code",
   "execution_count": null,
   "metadata": {
    "collapsed": true
   },
   "outputs": [],
   "source": [
    "# подгрузка всех файлов испытаний\n",
    "import os\n",
    "dr = 'exp'\n",
    "file_names = os.listdir(dr)"
   ]
  },
  {
   "cell_type": "code",
   "execution_count": null,
   "metadata": {
    "collapsed": true
   },
   "outputs": [],
   "source": [
    "del file_names[-3]"
   ]
  },
  {
   "cell_type": "code",
   "execution_count": null,
   "metadata": {
    "scrolled": true
   },
   "outputs": [],
   "source": [
    "# файлы в словарь доступ по имени файла ({имя файла: словарь датафреймов файла} )\n",
    "exp_files = {}\n",
    "for name in file_names:\n",
    "    exp_files[name] = pd.read_excel(dr+'\\\\'+name, None)\n",
    "    print(name)"
   ]
  },
  {
   "cell_type": "code",
   "execution_count": null,
   "metadata": {
    "collapsed": true
   },
   "outputs": [],
   "source": [
    "tmp = {}\n",
    "for name in exp_files:\n",
    "    for l in exp_files[name]:\n",
    "        if '№ плавки' in exp_files[name][l]:\n",
    "            exp_files[name][l]['№ плавки'] = exp_files[name][l]['№ плавки'].astype(str).str.lower()\n",
    "        if '№ партии' in exp_files[name][l]:\n",
    "            exp_files[name][l]['№ партии'] = exp_files[name][l]['№ партии'].astype(str).str.lower()\n",
    "    tmp[name] = exp_files[name]\n",
    "exp_files = tmp"
   ]
  },
  {
   "cell_type": "code",
   "execution_count": null,
   "metadata": {
    "collapsed": true
   },
   "outputs": [],
   "source": [
    "ls_mean = [\n",
    "        'кремний (8)', 'углерод (4)', 'азот (5)', 'сера (10)', 'ванадий (13)',\n",
    "        'хром (14)', 'марганец (15)', 'алюминий (7)', 'никель (18)',\n",
    "        'медь (19)', 'молибден (25)', 'титан (12)', 'фосфор (9)', 'ниобий (24)',\n",
    "        'бор (3)', 'водород (36)', 'кислород (37)' \n",
    "]"
   ]
  },
  {
   "cell_type": "code",
   "execution_count": null,
   "metadata": {
    "scrolled": true
   },
   "outputs": [],
   "source": [
    "# создаем единую таблицу с химией\n",
    "chemistry = []\n",
    "chemistry = exp_files['1квартал2017.xls'][u'Хим.анализ плавок (заготовка)']\n",
    "# print(chemistry)\n",
    "chemistry['имя файла'] = '1квартал2017.xls'\n",
    "chemistry_list_names = [\n",
    "    'Хим.анализ плавок (заготовка)',\n",
    "    'Хим.анализ плавок(заготовка)',\n",
    "    'Хим.анализ плавок (Заготовка)',\n",
    "    'Хим.анализ плавок (заготовки)' \n",
    "]\n",
    "\n",
    "\n",
    "s = 0\n",
    "for name, exp_file in zip(exp_files, exp_files.values()):\n",
    "    for list_chem in chemistry_list_names:\n",
    "        if list_chem in exp_file:\n",
    "            tmp = exp_file[list_chem].copy()\n",
    "            tmp['имя файла'] = name\n",
    "            chemistry = pd.merge(chemistry, tmp, how = 'outer')\n",
    "            s += exp_file[list_chem].shape[0]\n",
    "            break\n",
    "\n",
    "chemistry[u'№ плавки'] = chemistry[u'№ плавки'].astype(str)\n",
    "chemistry.to_excel('chemistry.xlsx')\n",
    "\n",
    "print(s)\n",
    "print(chemistry.shape)"
   ]
  },
  {
   "cell_type": "code",
   "execution_count": null,
   "metadata": {},
   "outputs": [],
   "source": [
    "chem_list_without_filename = list(chemistry.columns)\n",
    "chem_list_without_filename.remove('имя файла')\n",
    "chemistry.drop_duplicates(chem_list_without_filename, inplace=True)\n",
    "chemistry.shape"
   ]
  },
  {
   "cell_type": "code",
   "execution_count": null,
   "metadata": {},
   "outputs": [],
   "source": [
    "chemistry = chemistry[chemistry['Поставщик']=='ЭСПК']\n",
    "# chemistry.columns\n"
   ]
  },
  {
   "cell_type": "code",
   "execution_count": null,
   "metadata": {},
   "outputs": [],
   "source": [
    "chemistry[chemistry[['№ плавки']].duplicated(keep = False)].sort_values(['№ плавки'])"
   ]
  },
  {
   "cell_type": "code",
   "execution_count": null,
   "metadata": {
    "collapsed": true
   },
   "outputs": [],
   "source": [
    "def ch2f(x):\n",
    "    if (type(x)==float) | (type(x)==int):\n",
    "        x = str(x)\n",
    "    if u'г' in x:\n",
    "        print(x)\n",
    "        x = x.replace(u'г.п.', '')\n",
    "        x = x.replace(u'гп', '')\n",
    "        x = str(x)\n",
    "    if u'0.012. 0.014. 0.013' in str(x):\n",
    "        x = x.replace(u'0.012. 0.014. 0.013', u'0.013')\n",
    "    if x[-4:-2]=='e-':\n",
    "        return float(x)\n",
    "    elif '-' in str(x): \n",
    "#         print(x)\n",
    "        x = x.replace(' ', '')\n",
    "        x = str(x) + '0'\n",
    "        tmp_map = list(map(float, str(x).replace(',', '.').split('-')))\n",
    "        if (abs(tmp_map[-1]-tmp_map[-2])>0.05) | (tmp_map[-1]==0):\n",
    "            return np.mean(tmp_map[:-1])\n",
    "        else:\n",
    "            return np.mean(tmp_map)\n",
    "    else:\n",
    "        return float(str(x).replace(',', '.'))\n",
    "\n",
    "    \n",
    "chem_list = [\n",
    "    u'C',\n",
    "    u'Mn',\n",
    "    u'Si',\n",
    "    u'P',\n",
    "    u'S',\n",
    "    u'Cr',\n",
    "    u'Ni',\n",
    "    u'Cu',\n",
    "    u'Al',\n",
    "    u'V',\n",
    "    u'Ti',\n",
    "    u'Nb',\n",
    "    u'Mo',\n",
    "    u'N',\n",
    "    u'B'\n",
    "]"
   ]
  },
  {
   "cell_type": "code",
   "execution_count": null,
   "metadata": {},
   "outputs": [],
   "source": [
    "err_chem_df = exp_files['1квартал2017.xls'][u'Хим.анализ плавок (заготовка)'][\n",
    "    exp_files['1квартал2017.xls'][u'Хим.анализ плавок (заготовка)']['Al'].apply(ch2f)>0.06]\n",
    "err_chem_df['имя файла'] ='1квартал2017.xls'\n",
    "# err_chem_df['problem'] = 'Al'\n",
    "\n",
    "\n",
    "def add_borders(err_chem_df, el, border):\n",
    "    count = 0 \n",
    "    for name, exp_file in zip(exp_files, exp_files.values()):\n",
    "        for chem in chemistry_list_names:\n",
    "            if chem in exp_file:\n",
    "                if el in exp_file[chem]:\n",
    "                    tmp = exp_file[chem][exp_file[chem][el].apply(ch2f)<border]\n",
    "                    if tmp.shape[0]>0:\n",
    "#                         tmp['problem'] = el\n",
    "                        tmp['имя файла'] = name\n",
    "                        err_chem_df = pd.merge(err_chem_df, tmp, how='outer')\n",
    "                        count += tmp.shape[0]\n",
    "    print(count)\n",
    "    return err_chem_df\n",
    "\n",
    "\n",
    "err_chem_df = add_borders(err_chem_df, 'Al', 0.06)\n",
    "err_chem_df = add_borders(err_chem_df, 'V', 0.13) \n",
    "err_chem_df = add_borders(err_chem_df, 'Nb', 0.09)\n",
    "err_chem_df = add_borders(err_chem_df, 'Mo', 0.25)\n",
    "err_chem_df = add_borders(err_chem_df, 'N', 0.015)\n",
    "err_chem_df = add_borders(err_chem_df, 'B', 0.001)\n",
    "\n",
    "\n",
    "def save_df_width_col(df, file_name, width=80):\n",
    "    \"\"\"Сохраняет датафрейм с широкой первой ячейкой \"\"\"\n",
    "    writer = pd.ExcelWriter(file_name, engine='xlsxwriter')\n",
    "    df.to_excel(writer)\n",
    "    sh = writer.sheets['Sheet1']\n",
    "    sh.set_column(1, 1,width)\n",
    "    writer.close()\n",
    "\n",
    "    \n",
    "columns_list = list(err_chem_df.columns)  \n",
    "columns_list[0], columns_list[-2] = columns_list[-2], columns_list[0]\n",
    "columns_list[-3], columns_list[-2], columns_list[-1]  = columns_list[-2], columns_list[-1], columns_list[-3]\n",
    "err_chem_df = err_chem_df[columns_list]"
   ]
  },
  {
   "cell_type": "code",
   "execution_count": null,
   "metadata": {},
   "outputs": [],
   "source": [
    "chemistry.drop_duplicates(chem_list_without_filename, inplace=True)\n",
    "\n",
    "chemistry = chemistry[err_chem_df['Поставщик']=='ЭСПК']\n",
    "chemistry.shape"
   ]
  },
  {
   "cell_type": "code",
   "execution_count": null,
   "metadata": {},
   "outputs": [],
   "source": [
    "list_err_numbers = list(err_chem_df['№ плавки'].value_counts().index)\n"
   ]
  },
  {
   "cell_type": "code",
   "execution_count": null,
   "metadata": {
    "collapsed": true
   },
   "outputs": [],
   "source": [
    "def add_steel_mark(df):\n",
    "    for i in range(0, df.shape[0]):\n",
    "        fl = False\n",
    "        exp_file = exp_files[df['имя файла'][i]]\n",
    "        for list_name in exp_file.keys():\n",
    "            if 'Марка стали' in exp_file[list_name]:\n",
    "                for j in range(0, exp_file[list_name].shape[0]):\n",
    "                    if exp_file[list_name]['№ плавки'][j]==df['№ плавки'][i]:\n",
    "                        df.loc[i, 'Марка стали'] = exp_file[list_name]['Марка стали'][j]\n",
    "                        fl = True\n",
    "                    if fl:\n",
    "                        break\n",
    "            if fl:\n",
    "                break\n",
    "    return df"
   ]
  },
  {
   "cell_type": "code",
   "execution_count": null,
   "metadata": {},
   "outputs": [],
   "source": [
    "err_chem_df = add_steel_mark(err_chem_df)    \n",
    "# err_chem_df.reset_index(drop=True, inplace=True)"
   ]
  },
  {
   "cell_type": "code",
   "execution_count": null,
   "metadata": {},
   "outputs": [],
   "source": [
    "err_chem_df.to_excel('chem_mark_file.xlsx')"
   ]
  },
  {
   "cell_type": "code",
   "execution_count": null,
   "metadata": {},
   "outputs": [],
   "source": [
    "save_df_width_col(err_chem_df.sort_values('№ плавки'), 'chem_errors_sort_by_number.xlsx')\n",
    "save_df_width_col(err_chem_df.sort_values('имя файла'), 'chem_errors_sort_by_file_name.xlsx')"
   ]
  },
  {
   "cell_type": "code",
   "execution_count": null,
   "metadata": {
    "collapsed": true
   },
   "outputs": [],
   "source": []
  },
  {
   "cell_type": "code",
   "execution_count": null,
   "metadata": {},
   "outputs": [],
   "source": [
    "for element in chem_list:\n",
    "    chemistry[element] = chemistry[element].apply(ch2f)\n",
    "chemistry.shape"
   ]
  },
  {
   "cell_type": "code",
   "execution_count": null,
   "metadata": {
    "scrolled": true
   },
   "outputs": [],
   "source": [
    "print(chemistry.shape)\n",
    "chemistry = chemistry.drop_duplicates()\n",
    "print(chemistry.shape)"
   ]
  },
  {
   "cell_type": "code",
   "execution_count": null,
   "metadata": {},
   "outputs": [],
   "source": [
    "# chemistry = get_mean(chemistry)\n",
    "chemistry.shape"
   ]
  },
  {
   "cell_type": "code",
   "execution_count": null,
   "metadata": {},
   "outputs": [],
   "source": [
    "# Партии-дубликаты с близкими значениями по углероду\n",
    "dupl_df = chemistry[chemistry['№ плавки'].duplicated(keep = False)].sort_values(['№ плавки'])\n",
    "def c_dif(x):\n",
    "    fl = False\n",
    "    for i in x['C']:\n",
    "        for j in x['C']:\n",
    "            if (abs(i-j)<0.1) & (abs(i-j)>0):\n",
    "                fl = True\n",
    "    x['C_dif<0.1']= fl\n",
    "#     print(x)\n",
    "    return x\n",
    "dupl_df.reset_index(drop=True, inplace=True)    \n",
    "dupl_df['C_dif<0.1']=None\n",
    "dupl_df = dupl_df.groupby('№ плавки').apply(c_dif)\n",
    "dupl_df.reset_index(drop=True, inplace=True)\n",
    "dupl_df[dupl_df['C_dif<0.1']==True].shape\n",
    "# dupl_df[dupl_df['C_dif<0.1']==True].to_excel('check_dubl_c_dif_01.xlsx')"
   ]
  },
  {
   "cell_type": "code",
   "execution_count": null,
   "metadata": {
    "scrolled": true
   },
   "outputs": [],
   "source": [
    "mode = pd.read_excel('all_modes_clean_2.xlsx')\n",
    "mode.shape\n",
    "mode[u'№ плавки'] = mode[u'№ плавки'].astype(str)\n",
    "mode.shape"
   ]
  },
  {
   "cell_type": "code",
   "execution_count": null,
   "metadata": {},
   "outputs": [],
   "source": [
    "# mode.shape\n",
    "# mode[mode[['№ плавки', '№ партии']].duplicated(keep = False)].sort_values('№ партии')"
   ]
  },
  {
   "cell_type": "code",
   "execution_count": null,
   "metadata": {
    "scrolled": true
   },
   "outputs": [],
   "source": [
    "merge_table = pd.merge(mode, chemistry, how ='left', on=['№ плавки'])\n",
    "print(merge_table.shape)"
   ]
  },
  {
   "cell_type": "code",
   "execution_count": null,
   "metadata": {
    "scrolled": false
   },
   "outputs": [],
   "source": [
    "# merge_table.columns"
   ]
  },
  {
   "cell_type": "code",
   "execution_count": null,
   "metadata": {},
   "outputs": [],
   "source": [
    "for name, f in zip(exp_files, exp_files.values()):\n",
    "    for l in chemistry_list_names:\n",
    "        if l in f:\n",
    "            if '№ плавки' in f[l]:\n",
    "                for i in f[l]['№ плавки']:\n",
    "                    if i  == 'v20694':\n",
    "                        print(l, name)"
   ]
  },
  {
   "cell_type": "code",
   "execution_count": null,
   "metadata": {
    "collapsed": true
   },
   "outputs": [],
   "source": [
    "merge_table.to_excel('merge_table_new.xlsx')"
   ]
  },
  {
   "cell_type": "code",
   "execution_count": null,
   "metadata": {
    "collapsed": true
   },
   "outputs": [],
   "source": [
    "mean_chem_steel = pd.read_excel('mean_chem_steel.xlsx')"
   ]
  },
  {
   "cell_type": "code",
   "execution_count": null,
   "metadata": {
    "collapsed": true
   },
   "outputs": [],
   "source": [
    "merge_table = pd.read_excel('merge_table_new.xlsx')"
   ]
  },
  {
   "cell_type": "code",
   "execution_count": null,
   "metadata": {
    "scrolled": true
   },
   "outputs": [],
   "source": [
    "merge_table.shape, mean_chem_steel.shape"
   ]
  },
  {
   "cell_type": "code",
   "execution_count": null,
   "metadata": {},
   "outputs": [],
   "source": [
    "merge_table[merge_table['C'].isnull()].shape"
   ]
  },
  {
   "cell_type": "code",
   "execution_count": null,
   "metadata": {},
   "outputs": [],
   "source": [
    "ls = merge_table.columns[:-15]\n",
    "merge_without_chem = merge_table[merge_table['C'].isnull()]\n",
    "print(merge_without_chem.shape)\n",
    "merge_without_chem = merge_without_chem[ls]\n",
    "merge_without_chem.shape"
   ]
  },
  {
   "cell_type": "code",
   "execution_count": null,
   "metadata": {},
   "outputs": [],
   "source": [
    "merge_table = merge_table[merge_table['C'].notnull()]\n",
    "merge_table.shape"
   ]
  },
  {
   "cell_type": "code",
   "execution_count": null,
   "metadata": {
    "collapsed": true
   },
   "outputs": [],
   "source": [
    "merge_mean_chem = pd.merge(merge_without_chem, mean_chem_steel, how='left', on='марка стали')"
   ]
  },
  {
   "cell_type": "code",
   "execution_count": null,
   "metadata": {
    "scrolled": false
   },
   "outputs": [],
   "source": [
    "merge_mean_chem.shape\n",
    "# merge_mean_chem"
   ]
  },
  {
   "cell_type": "code",
   "execution_count": null,
   "metadata": {
    "scrolled": false
   },
   "outputs": [],
   "source": [
    "merge_table = pd.merge(merge_table, merge_mean_chem, how ='outer')\n",
    "merge_table.shape"
   ]
  },
  {
   "cell_type": "code",
   "execution_count": null,
   "metadata": {
    "collapsed": true
   },
   "outputs": [],
   "source": [
    "\"\"\"\n",
    "Усредняем близкие по химии плавки, и оставляем одну из двух \n",
    "(пока первую, потом по марке можно будет прикрутить) для далеких (если разница между любыми хим элементами больше 0.01)\n",
    "\"\"\"\n",
    "def get_need_chem_list(mark_list):\n",
    "    c_need_list = []\n",
    "    for i in mark_list:\n",
    "        if (i=='Д')|(i=='ДБ'):\n",
    "            c_need_list.append(float('0.45'))\n",
    "        elif (type(i)!=float) & (i!='ГОСТ Р53366 \"N80 Q\"') & (i!='ТУ 1319-369'):\n",
    "            c_need = float(str(i)[0:2])/100\n",
    "            c_need_list.append(c_need)\n",
    "        else:\n",
    "            c_need_list.append(float('nan'))\n",
    "    return c_need_list\n",
    "\n",
    "\n",
    "def to_mean_or_not_to_mean(x):\n",
    "    c_need_list = get_need_chem_list(x['Марка стали'])\n",
    "    \n",
    "    is_different = False\n",
    "    for ch in chem_list:\n",
    "        list_ch = []\n",
    "        for i in x[ch]:\n",
    "            list_ch.append(i)\n",
    "        for i in x[ch]:\n",
    "            for j in x[ch]:\n",
    "                if (abs(i-j)>0.01)|(is_different):\n",
    "                    is_different = True\n",
    "    \n",
    "    if is_different:\n",
    "        list_C = []\n",
    "        for c in x['C']:\n",
    "            list_C.append(c)\n",
    "        index = -1\n",
    "        min_dif = 0.04\n",
    "        for i in range(0,len(list_C)):\n",
    "            for c_n in c_need_list:\n",
    "                if abs(c_n-list_C[i])<min_dif:\n",
    "                    min_dif=abs(c_n-list_C[i])\n",
    "                    index = i\n",
    "        for ch in chem_list:\n",
    "            list_ch = []\n",
    "            for i in x[ch]:\n",
    "                list_ch.append(i)\n",
    "            for i in x[ch]:\n",
    "                for j in x[ch]:\n",
    "                    if (abs(i-j)>0.01)|(is_different):\n",
    "                        is_different = True\n",
    "                        x[ch] = list_ch[index]\n",
    "            x[ch] = x[ch].mean()\n",
    "    else:\n",
    "        x[ch] = x[ch].mean()\n",
    "    return x\n",
    "\n",
    "\n",
    "def get_mean(df):\n",
    "    df = df.groupby('№ плавки').apply(to_mean_or_not_to_mean)\n",
    "    df.reset_index(drop=True, inplace=True)\n",
    "    return df"
   ]
  },
  {
   "cell_type": "code",
   "execution_count": null,
   "metadata": {},
   "outputs": [],
   "source": [
    "merge_table['C'] .describe()"
   ]
  },
  {
   "cell_type": "code",
   "execution_count": null,
   "metadata": {},
   "outputs": [],
   "source": [
    "def switch_c_mn(x):\n",
    "    if x['C']>=0.9:\n",
    "        tmp = x['C']\n",
    "        x['C']= x['Mn']\n",
    "        x['Mn'] = tmp\n",
    "        print(x['C'], x['Mn'])\n",
    "    return x\n",
    "merge_table = merge_table.apply(switch_c_mn, axis =1)"
   ]
  },
  {
   "cell_type": "code",
   "execution_count": null,
   "metadata": {},
   "outputs": [],
   "source": [
    "merge_table['C'].describe()"
   ]
  },
  {
   "cell_type": "code",
   "execution_count": null,
   "metadata": {
    "scrolled": false
   },
   "outputs": [],
   "source": [
    "print(merge_table.shape)\n",
    "merge_table = get_mean(merge_table)\n",
    "print(merge_table.shape)"
   ]
  },
  {
   "cell_type": "code",
   "execution_count": null,
   "metadata": {
    "scrolled": true
   },
   "outputs": [],
   "source": [
    "merge_table.drop_duplicates(chem_list+['№ плавки', '№ партии'], inplace=True)\n",
    "merge_table.shape"
   ]
  },
  {
   "cell_type": "code",
   "execution_count": null,
   "metadata": {},
   "outputs": [],
   "source": [
    "err_chem_df[err_chem_df[['№ плавки']].duplicated(keep = False)].sort_values(['№ плавки'])\n",
    "# .to_excel('check_dupl.xlsx')"
   ]
  },
  {
   "cell_type": "code",
   "execution_count": null,
   "metadata": {},
   "outputs": [],
   "source": [
    "merge_table.shape"
   ]
  },
  {
   "cell_type": "code",
   "execution_count": null,
   "metadata": {},
   "outputs": [],
   "source": [
    "merge_table.drop_duplicates(['№ плавки', '№ партии'], inplace=True)\n",
    "merge_table.shape"
   ]
  },
  {
   "cell_type": "code",
   "execution_count": null,
   "metadata": {
    "collapsed": true
   },
   "outputs": [],
   "source": [
    "# merge_table = pd.read_excel('merge_table_mean_chem.xlsx')"
   ]
  },
  {
   "cell_type": "code",
   "execution_count": null,
   "metadata": {
    "collapsed": true
   },
   "outputs": [],
   "source": [
    "copy = merge_table[['марка стали']+chem_list+['№ плавки', '№ партии']]"
   ]
  },
  {
   "cell_type": "code",
   "execution_count": null,
   "metadata": {
    "collapsed": true
   },
   "outputs": [],
   "source": [
    "merge_table.shape"
   ]
  },
  {
   "cell_type": "code",
   "execution_count": null,
   "metadata": {
    "collapsed": true,
    "scrolled": true
   },
   "outputs": [],
   "source": [
    "merge_table = pd.concat([merge_table[merge_table['Al']<0.08], merge_table[merge_table['Al'].isnull()]])\n",
    "merge_table.reset_index(drop=True, inplace=True)"
   ]
  },
  {
   "cell_type": "code",
   "execution_count": null,
   "metadata": {
    "collapsed": true
   },
   "outputs": [],
   "source": [
    "copy[copy['№ плавки']=='434396']"
   ]
  },
  {
   "cell_type": "code",
   "execution_count": null,
   "metadata": {
    "collapsed": true
   },
   "outputs": [],
   "source": [
    "copy = copy[copy['B']>0.0005]\n",
    "print(copy.shape)\n",
    "copy['марка стали'].unique()\n",
    "# copy"
   ]
  },
  {
   "cell_type": "code",
   "execution_count": null,
   "metadata": {
    "collapsed": true,
    "scrolled": true
   },
   "outputs": [],
   "source": [
    "merge_table.shape"
   ]
  },
  {
   "cell_type": "code",
   "execution_count": null,
   "metadata": {
    "collapsed": true
   },
   "outputs": [],
   "source": [
    "merge_table.to_excel('merge_table_mean_chem.xlsx')"
   ]
  },
  {
   "cell_type": "code",
   "execution_count": null,
   "metadata": {
    "collapsed": true
   },
   "outputs": [],
   "source": [
    "copy.to_excel('check_chem.xlsx')"
   ]
  },
  {
   "cell_type": "code",
   "execution_count": null,
   "metadata": {
    "collapsed": true
   },
   "outputs": [],
   "source": []
  }
 ],
 "metadata": {
  "kernelspec": {
   "display_name": "Python 3",
   "language": "python",
   "name": "python3"
  },
  "language_info": {
   "codemirror_mode": {
    "name": "ipython",
    "version": 3
   },
   "file_extension": ".py",
   "mimetype": "text/x-python",
   "name": "python",
   "nbconvert_exporter": "python",
   "pygments_lexer": "ipython3",
   "version": "3.6.4"
  }
 },
 "nbformat": 4,
 "nbformat_minor": 2
}
