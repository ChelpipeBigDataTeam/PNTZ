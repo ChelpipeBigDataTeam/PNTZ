{
 "cells": [
  {
   "cell_type": "code",
   "execution_count": 1,
   "metadata": {},
   "outputs": [],
   "source": [
    "col_chem = [\n",
    "     'C', \n",
    "    'Mn', \n",
    "    'Si', \n",
    "    'P', \n",
    "    'S',\n",
    "    'Cr', \n",
    "    'Ni', \n",
    "    'Cu', \n",
    "    'Al', \n",
    "    'V', \n",
    "    'Ti', \n",
    "    'Nb', \n",
    "    'Mo', \n",
    "    'N', \n",
    "    'B'\n",
    "]"
   ]
  },
  {
   "cell_type": "code",
   "execution_count": 12,
   "metadata": {},
   "outputs": [],
   "source": [
    "import pandas as pd\n",
    "import numpy as np\n",
    "from matplotlib import pyplot as plt\n",
    "from sklearn.metrics import r2_score, explained_variance_score, mean_squared_error, median_absolute_error, mean_absolute_error\n",
    "from datetime import datetime"
   ]
  },
  {
   "cell_type": "code",
   "execution_count": 13,
   "metadata": {},
   "outputs": [],
   "source": [
    "import import_ipynb\n",
    "from my_libs.create_prepared_data import create_prepared_data"
   ]
  },
  {
   "cell_type": "code",
   "execution_count": 10,
   "metadata": {},
   "outputs": [
    {
     "ename": "FileNotFoundError",
     "evalue": "[Errno 2] No such file or directory: 'DATA/prepared/table_stretching_05_jule_gruppa_prochnost.xlsx'",
     "output_type": "error",
     "traceback": [
      "\u001b[1;31m---------------------------------------------------------------------------\u001b[0m",
      "\u001b[1;31mFileNotFoundError\u001b[0m                         Traceback (most recent call last)",
      "\u001b[1;32m<ipython-input-10-4a1ca83b7a51>\u001b[0m in \u001b[0;36m<module>\u001b[1;34m()\u001b[0m\n\u001b[1;32m----> 1\u001b[1;33m \u001b[0mdf\u001b[0m\u001b[1;33m,\u001b[0m \u001b[0m_\u001b[0m \u001b[1;33m=\u001b[0m \u001b[0mcreate_prepared_data\u001b[0m\u001b[1;33m(\u001b[0m\u001b[1;33m)\u001b[0m\u001b[1;33m\u001b[0m\u001b[0m\n\u001b[0m",
      "\u001b[1;32m~\\Desktop\\gitPNTZtoyuk_1\\gitPNTZ\\PNTZ\\my_libs\\create_prepared_data.ipynb\u001b[0m in \u001b[0;36mcreate_prepared_data\u001b[1;34m(general_modes_chem_filename, valid_modes_chem_filename, exp_filename, prepared_general_filename, prepared_valid_filename, ys_type)\u001b[0m\n",
      "\u001b[1;32mC:\\ProgramData\\Anaconda3\\lib\\site-packages\\pandas\\util\\_decorators.py\u001b[0m in \u001b[0;36mwrapper\u001b[1;34m(*args, **kwargs)\u001b[0m\n\u001b[0;32m    175\u001b[0m                 \u001b[1;32melse\u001b[0m\u001b[1;33m:\u001b[0m\u001b[1;33m\u001b[0m\u001b[0m\n\u001b[0;32m    176\u001b[0m                     \u001b[0mkwargs\u001b[0m\u001b[1;33m[\u001b[0m\u001b[0mnew_arg_name\u001b[0m\u001b[1;33m]\u001b[0m \u001b[1;33m=\u001b[0m \u001b[0mnew_arg_value\u001b[0m\u001b[1;33m\u001b[0m\u001b[0m\n\u001b[1;32m--> 177\u001b[1;33m             \u001b[1;32mreturn\u001b[0m \u001b[0mfunc\u001b[0m\u001b[1;33m(\u001b[0m\u001b[1;33m*\u001b[0m\u001b[0margs\u001b[0m\u001b[1;33m,\u001b[0m \u001b[1;33m**\u001b[0m\u001b[0mkwargs\u001b[0m\u001b[1;33m)\u001b[0m\u001b[1;33m\u001b[0m\u001b[0m\n\u001b[0m\u001b[0;32m    178\u001b[0m         \u001b[1;32mreturn\u001b[0m \u001b[0mwrapper\u001b[0m\u001b[1;33m\u001b[0m\u001b[0m\n\u001b[0;32m    179\u001b[0m     \u001b[1;32mreturn\u001b[0m \u001b[0m_deprecate_kwarg\u001b[0m\u001b[1;33m\u001b[0m\u001b[0m\n",
      "\u001b[1;32mC:\\ProgramData\\Anaconda3\\lib\\site-packages\\pandas\\util\\_decorators.py\u001b[0m in \u001b[0;36mwrapper\u001b[1;34m(*args, **kwargs)\u001b[0m\n\u001b[0;32m    175\u001b[0m                 \u001b[1;32melse\u001b[0m\u001b[1;33m:\u001b[0m\u001b[1;33m\u001b[0m\u001b[0m\n\u001b[0;32m    176\u001b[0m                     \u001b[0mkwargs\u001b[0m\u001b[1;33m[\u001b[0m\u001b[0mnew_arg_name\u001b[0m\u001b[1;33m]\u001b[0m \u001b[1;33m=\u001b[0m \u001b[0mnew_arg_value\u001b[0m\u001b[1;33m\u001b[0m\u001b[0m\n\u001b[1;32m--> 177\u001b[1;33m             \u001b[1;32mreturn\u001b[0m \u001b[0mfunc\u001b[0m\u001b[1;33m(\u001b[0m\u001b[1;33m*\u001b[0m\u001b[0margs\u001b[0m\u001b[1;33m,\u001b[0m \u001b[1;33m**\u001b[0m\u001b[0mkwargs\u001b[0m\u001b[1;33m)\u001b[0m\u001b[1;33m\u001b[0m\u001b[0m\n\u001b[0m\u001b[0;32m    178\u001b[0m         \u001b[1;32mreturn\u001b[0m \u001b[0mwrapper\u001b[0m\u001b[1;33m\u001b[0m\u001b[0m\n\u001b[0;32m    179\u001b[0m     \u001b[1;32mreturn\u001b[0m \u001b[0m_deprecate_kwarg\u001b[0m\u001b[1;33m\u001b[0m\u001b[0m\n",
      "\u001b[1;32mC:\\ProgramData\\Anaconda3\\lib\\site-packages\\pandas\\io\\excel.py\u001b[0m in \u001b[0;36mread_excel\u001b[1;34m(io, sheet_name, header, names, index_col, usecols, squeeze, dtype, engine, converters, true_values, false_values, skiprows, nrows, na_values, parse_dates, date_parser, thousands, comment, skipfooter, convert_float, **kwds)\u001b[0m\n\u001b[0;32m    305\u001b[0m \u001b[1;33m\u001b[0m\u001b[0m\n\u001b[0;32m    306\u001b[0m     \u001b[1;32mif\u001b[0m \u001b[1;32mnot\u001b[0m \u001b[0misinstance\u001b[0m\u001b[1;33m(\u001b[0m\u001b[0mio\u001b[0m\u001b[1;33m,\u001b[0m \u001b[0mExcelFile\u001b[0m\u001b[1;33m)\u001b[0m\u001b[1;33m:\u001b[0m\u001b[1;33m\u001b[0m\u001b[0m\n\u001b[1;32m--> 307\u001b[1;33m         \u001b[0mio\u001b[0m \u001b[1;33m=\u001b[0m \u001b[0mExcelFile\u001b[0m\u001b[1;33m(\u001b[0m\u001b[0mio\u001b[0m\u001b[1;33m,\u001b[0m \u001b[0mengine\u001b[0m\u001b[1;33m=\u001b[0m\u001b[0mengine\u001b[0m\u001b[1;33m)\u001b[0m\u001b[1;33m\u001b[0m\u001b[0m\n\u001b[0m\u001b[0;32m    308\u001b[0m \u001b[1;33m\u001b[0m\u001b[0m\n\u001b[0;32m    309\u001b[0m     return io.parse(\n",
      "\u001b[1;32mC:\\ProgramData\\Anaconda3\\lib\\site-packages\\pandas\\io\\excel.py\u001b[0m in \u001b[0;36m__init__\u001b[1;34m(self, io, **kwds)\u001b[0m\n\u001b[0;32m    392\u001b[0m             \u001b[0mself\u001b[0m\u001b[1;33m.\u001b[0m\u001b[0mbook\u001b[0m \u001b[1;33m=\u001b[0m \u001b[0mxlrd\u001b[0m\u001b[1;33m.\u001b[0m\u001b[0mopen_workbook\u001b[0m\u001b[1;33m(\u001b[0m\u001b[0mfile_contents\u001b[0m\u001b[1;33m=\u001b[0m\u001b[0mdata\u001b[0m\u001b[1;33m)\u001b[0m\u001b[1;33m\u001b[0m\u001b[0m\n\u001b[0;32m    393\u001b[0m         \u001b[1;32melif\u001b[0m \u001b[0misinstance\u001b[0m\u001b[1;33m(\u001b[0m\u001b[0mself\u001b[0m\u001b[1;33m.\u001b[0m\u001b[0m_io\u001b[0m\u001b[1;33m,\u001b[0m \u001b[0mcompat\u001b[0m\u001b[1;33m.\u001b[0m\u001b[0mstring_types\u001b[0m\u001b[1;33m)\u001b[0m\u001b[1;33m:\u001b[0m\u001b[1;33m\u001b[0m\u001b[0m\n\u001b[1;32m--> 394\u001b[1;33m             \u001b[0mself\u001b[0m\u001b[1;33m.\u001b[0m\u001b[0mbook\u001b[0m \u001b[1;33m=\u001b[0m \u001b[0mxlrd\u001b[0m\u001b[1;33m.\u001b[0m\u001b[0mopen_workbook\u001b[0m\u001b[1;33m(\u001b[0m\u001b[0mself\u001b[0m\u001b[1;33m.\u001b[0m\u001b[0m_io\u001b[0m\u001b[1;33m)\u001b[0m\u001b[1;33m\u001b[0m\u001b[0m\n\u001b[0m\u001b[0;32m    395\u001b[0m         \u001b[1;32melse\u001b[0m\u001b[1;33m:\u001b[0m\u001b[1;33m\u001b[0m\u001b[0m\n\u001b[0;32m    396\u001b[0m             raise ValueError('Must explicitly set engine if not passing in'\n",
      "\u001b[1;32mC:\\ProgramData\\Anaconda3\\lib\\site-packages\\xlrd\\__init__.py\u001b[0m in \u001b[0;36mopen_workbook\u001b[1;34m(filename, logfile, verbosity, use_mmap, file_contents, encoding_override, formatting_info, on_demand, ragged_rows)\u001b[0m\n\u001b[0;32m    114\u001b[0m         \u001b[0mpeek\u001b[0m \u001b[1;33m=\u001b[0m \u001b[0mfile_contents\u001b[0m\u001b[1;33m[\u001b[0m\u001b[1;33m:\u001b[0m\u001b[0mpeeksz\u001b[0m\u001b[1;33m]\u001b[0m\u001b[1;33m\u001b[0m\u001b[0m\n\u001b[0;32m    115\u001b[0m     \u001b[1;32melse\u001b[0m\u001b[1;33m:\u001b[0m\u001b[1;33m\u001b[0m\u001b[0m\n\u001b[1;32m--> 116\u001b[1;33m         \u001b[1;32mwith\u001b[0m \u001b[0mopen\u001b[0m\u001b[1;33m(\u001b[0m\u001b[0mfilename\u001b[0m\u001b[1;33m,\u001b[0m \u001b[1;34m\"rb\"\u001b[0m\u001b[1;33m)\u001b[0m \u001b[1;32mas\u001b[0m \u001b[0mf\u001b[0m\u001b[1;33m:\u001b[0m\u001b[1;33m\u001b[0m\u001b[0m\n\u001b[0m\u001b[0;32m    117\u001b[0m             \u001b[0mpeek\u001b[0m \u001b[1;33m=\u001b[0m \u001b[0mf\u001b[0m\u001b[1;33m.\u001b[0m\u001b[0mread\u001b[0m\u001b[1;33m(\u001b[0m\u001b[0mpeeksz\u001b[0m\u001b[1;33m)\u001b[0m\u001b[1;33m\u001b[0m\u001b[0m\n\u001b[0;32m    118\u001b[0m     \u001b[1;32mif\u001b[0m \u001b[0mpeek\u001b[0m \u001b[1;33m==\u001b[0m \u001b[1;34mb\"PK\\x03\\x04\"\u001b[0m\u001b[1;33m:\u001b[0m \u001b[1;31m# a ZIP file\u001b[0m\u001b[1;33m\u001b[0m\u001b[0m\n",
      "\u001b[1;31mFileNotFoundError\u001b[0m: [Errno 2] No such file or directory: 'DATA/prepared/table_stretching_05_jule_gruppa_prochnost.xlsx'"
     ]
    }
   ],
   "source": [
    "df, _ = create_prepared_data()"
   ]
  },
  {
   "cell_type": "code",
   "execution_count": 13,
   "metadata": {},
   "outputs": [
    {
     "name": "stdout",
     "output_type": "stream",
     "text": [
      "excel  0:00:21.693241\n"
     ]
    },
    {
     "name": "stderr",
     "output_type": "stream",
     "text": [
      "D:\\Repo\\Anaconda2\\envs\\myenv\\lib\\site-packages\\IPython\\core\\interactiveshell.py:2728: DtypeWarning: Columns (2,53,54,55,58,59,60,62,63,64,67,68,69,71,72,73,76,77,78,80,81,84,85,86,88,89,92,93,94,96,99,100,101,103,106,107,109,112,113,115,118,119,121,124,125,127,130,131,133,136,137,139,142,143,145,148,149,164,167,168,176,177,178,180,181,182,183,184,186,187,188,194,195,196) have mixed types. Specify dtype option on import or set low_memory=False.\n",
      "  interactivity=interactivity, compiler=compiler, result=result)\n"
     ]
    },
    {
     "name": "stdout",
     "output_type": "stream",
     "text": [
      "csv  0:00:00.977056\n",
      "json  0:00:04.370250\n",
      "pickle  0:00:00.252014\n"
     ]
    }
   ],
   "source": [
    "t = datetime.now()\n",
    "df = pd.read_excel('DATA/prepared/prepared_hard.xlsx')\n",
    "print('excel ', datetime.now() - t)\n",
    "t = datetime.now()\n",
    "df = pd.read_csv('DATA/prepared/prepared_hard.csv')\n",
    "print('csv ', datetime.now() - t)\n",
    "t = datetime.now()\n",
    "df = pd.read_json('DATA/prepared/prepared_hard.json')\n",
    "print('json ', datetime.now() - t)\n",
    "t = datetime.now()\n",
    "df = pd.read_pickle('DATA/prepared/prepared_hard.pickle')\n",
    "print('pickle ', datetime.now() - t)"
   ]
  },
  {
   "cell_type": "code",
   "execution_count": 10,
   "metadata": {
    "collapsed": true
   },
   "outputs": [],
   "source": [
    "df.to_csv('DATA/prepared/prepared_hard.csv')\n",
    "df.to_json('DATA/prepared/prepared_hard.json')\n",
    "df.to_pickle('DATA/prepared/prepared_hard.pickle')"
   ]
  },
  {
   "cell_type": "code",
   "execution_count": 45,
   "metadata": {
    "collapsed": true
   },
   "outputs": [],
   "source": [
    "# base.to_csv('D:\\Repo\\PycharmProjects\\RELEASE\\PNTZ_64\\DATA\\prepared_to_saw.csv')\n",
    "chem.to_csv('D:\\Repo\\PycharmProjects\\RELEASE\\PNTZ_64\\DATA\\mean_chem_steel.csv')\n",
    "chem.to_excel('DATA\\prepared\\mean_chem_steel.xlsx')\n",
    "chem.to_csv('DATA\\prepared\\mean_chem_steel.csv')"
   ]
  },
  {
   "cell_type": "code",
   "execution_count": 43,
   "metadata": {
    "collapsed": true
   },
   "outputs": [],
   "source": [
    "chem = pd.read_excel('mean_chem_steel.xlsx')"
   ]
  },
  {
   "cell_type": "code",
   "execution_count": 278,
   "metadata": {
    "collapsed": true
   },
   "outputs": [],
   "source": [
    "# base = pd.read_excel('D:\\Repo\\PycharmProjects\\RELEASE\\PNTZ_64\\DATA\\prepared_to_saw.xlsx')\n",
    "df = pd.read_excel('D:\\Repo\\PycharmProjects\\RELEASE\\PNTZ_64\\input\\input___________.xlsx')"
   ]
  },
  {
   "cell_type": "code",
   "execution_count": 219,
   "metadata": {},
   "outputs": [
    {
     "data": {
      "text/plain": [
       "(5, 53)"
      ]
     },
     "execution_count": 219,
     "metadata": {},
     "output_type": "execute_result"
    }
   ],
   "source": [
    "df.shape"
   ]
  },
  {
   "cell_type": "code",
   "execution_count": 279,
   "metadata": {
    "collapsed": true
   },
   "outputs": [],
   "source": [
    "ls_mark = list(chem['марка стали'])\n",
    "\n",
    "\n",
    "for mark in ls_mark:\n",
    "    if df[df['марка стали']==mark].shape[0]>0:\n",
    "        tmp2 = chem.loc[chem['марка стали']==mark, col_chem].to_dict()\n",
    "        d = {i:list(tmp2[i].values())[0] for i in tmp2}\n",
    "        tmp = df.loc[df['марка стали']==mark, col_chem].fillna(d)\n",
    "        df.loc[df['марка стали']==mark, col_chem] = tmp"
   ]
  },
  {
   "cell_type": "code",
   "execution_count": 193,
   "metadata": {
    "collapsed": true
   },
   "outputs": [],
   "source": [
    "df.loc[df['марка стали']=='30Г2', col_chem] = fill_df(df).copy()"
   ]
  },
  {
   "cell_type": "code",
   "execution_count": 268,
   "metadata": {
    "collapsed": true
   },
   "outputs": [],
   "source": [
    "for i in d:\n",
    "    d[i]=list(d[i].values())[0]"
   ]
  },
  {
   "cell_type": "code",
   "execution_count": 272,
   "metadata": {
    "collapsed": true
   },
   "outputs": [],
   "source": [
    "tmp2 = chem.loc[chem['марка стали']==mark, col_chem].to_dict()\n",
    "d = {i:list(tmp2[i].values())[0] for i in tmp2}"
   ]
  },
  {
   "cell_type": "code",
   "execution_count": 280,
   "metadata": {},
   "outputs": [
    {
     "data": {
      "text/html": [
       "<div>\n",
       "<style scoped>\n",
       "    .dataframe tbody tr th:only-of-type {\n",
       "        vertical-align: middle;\n",
       "    }\n",
       "\n",
       "    .dataframe tbody tr th {\n",
       "        vertical-align: top;\n",
       "    }\n",
       "\n",
       "    .dataframe thead th {\n",
       "        text-align: right;\n",
       "    }\n",
       "</style>\n",
       "<table border=\"1\" class=\"dataframe\">\n",
       "  <thead>\n",
       "    <tr style=\"text-align: right;\">\n",
       "      <th></th>\n",
       "      <th>№ плавки</th>\n",
       "      <th>№ партии</th>\n",
       "      <th>Дата форм. цехом</th>\n",
       "      <th>Тип предела текучести (1186)</th>\n",
       "      <th>Врем. сопротивление</th>\n",
       "      <th>Предел текучести</th>\n",
       "      <th>НД (гост, ту)</th>\n",
       "      <th>марка стали</th>\n",
       "      <th>диаметр</th>\n",
       "      <th>толщина стенки</th>\n",
       "      <th>1 зона по ВТР закалка</th>\n",
       "      <th>2 зона по ВТР закалка</th>\n",
       "      <th>3 зона по ВТР закалка</th>\n",
       "      <th>Скорость прохождения трубы через спрейер, м/с</th>\n",
       "      <th>t˚ C трубы после спреера</th>\n",
       "      <th>время выдержки в закалочной ванне, сек.</th>\n",
       "      <th>t˚ C трубы после ванны</th>\n",
       "      <th>1 зона ВТР и уставка отпуск</th>\n",
       "      <th>2 зона ВТР и уставка отпуск</th>\n",
       "      <th>3 зона ВТР и уставка отпуск</th>\n",
       "      <th>4 зона ВТР и уставка отпуск</th>\n",
       "      <th>5 зона ВТР и уставка отпуск</th>\n",
       "      <th>масса\n",
       "тн</th>\n",
       "      <th>шаг балок закалочная печь, сек</th>\n",
       "      <th>шаг балок отпускная печь, сек</th>\n",
       "      <th>Поставщик</th>\n",
       "      <th>C</th>\n",
       "      <th>Mn</th>\n",
       "      <th>Si</th>\n",
       "      <th>P</th>\n",
       "      <th>S</th>\n",
       "      <th>Cr</th>\n",
       "      <th>Ni</th>\n",
       "      <th>Cu</th>\n",
       "      <th>Al</th>\n",
       "      <th>V</th>\n",
       "      <th>Ti</th>\n",
       "      <th>Nb</th>\n",
       "      <th>Mo</th>\n",
       "      <th>N</th>\n",
       "      <th>B</th>\n",
       "      <th>ICD</th>\n",
       "      <th>C-coef</th>\n",
       "      <th>Параметр закалка</th>\n",
       "      <th>Параметр отпуск</th>\n",
       "      <th>Параметр отпуск новый</th>\n",
       "      <th>Параметр отпуск новый 2</th>\n",
       "      <th>Параметр отпуск новый V</th>\n",
       "      <th>Отношение</th>\n",
       "      <th>T</th>\n",
       "      <th>sum_piXi</th>\n",
       "      <th>sum_qiXi</th>\n",
       "      <th>Величина зерна</th>\n",
       "    </tr>\n",
       "  </thead>\n",
       "  <tbody>\n",
       "    <tr>\n",
       "      <th>0</th>\n",
       "      <td>8f4022</td>\n",
       "      <td>806169.0</td>\n",
       "      <td>13.06.2018</td>\n",
       "      <td>0.5</td>\n",
       "      <td>68.72449</td>\n",
       "      <td>51.020408</td>\n",
       "      <td>ТУ 21</td>\n",
       "      <td>30Г2</td>\n",
       "      <td>73.02</td>\n",
       "      <td>5.51</td>\n",
       "      <td>900</td>\n",
       "      <td>850</td>\n",
       "      <td>860</td>\n",
       "      <td>1</td>\n",
       "      <td>0</td>\n",
       "      <td>NaN</td>\n",
       "      <td>NaN</td>\n",
       "      <td>515</td>\n",
       "      <td>515</td>\n",
       "      <td>513</td>\n",
       "      <td>513</td>\n",
       "      <td>514</td>\n",
       "      <td>4.511429</td>\n",
       "      <td>24</td>\n",
       "      <td>24</td>\n",
       "      <td>ЭСПК</td>\n",
       "      <td>0.32000</td>\n",
       "      <td>1.26000</td>\n",
       "      <td>0.34000</td>\n",
       "      <td>0.02000</td>\n",
       "      <td>0.00900</td>\n",
       "      <td>0.15000</td>\n",
       "      <td>0.12000</td>\n",
       "      <td>0.19000</td>\n",
       "      <td>0.03000</td>\n",
       "      <td>0.00500</td>\n",
       "      <td>0.01000</td>\n",
       "      <td>0.00300</td>\n",
       "      <td>0.02000</td>\n",
       "      <td>0.01100</td>\n",
       "      <td>0.00000</td>\n",
       "      <td>1.793095</td>\n",
       "      <td>0.585667</td>\n",
       "      <td>839.520002</td>\n",
       "      <td>15.359181</td>\n",
       "      <td>49.510676</td>\n",
       "      <td>8.889781</td>\n",
       "      <td>9.151371</td>\n",
       "      <td>0.74239</td>\n",
       "      <td>855.0</td>\n",
       "      <td>-5.336921</td>\n",
       "      <td>-47628.302</td>\n",
       "      <td>14.834143</td>\n",
       "    </tr>\n",
       "    <tr>\n",
       "      <th>1</th>\n",
       "      <td>NaN</td>\n",
       "      <td>NaN</td>\n",
       "      <td>NaN</td>\n",
       "      <td>0.5</td>\n",
       "      <td>NaN</td>\n",
       "      <td>NaN</td>\n",
       "      <td>NaN</td>\n",
       "      <td>30Г2</td>\n",
       "      <td>73.02</td>\n",
       "      <td>5.51</td>\n",
       "      <td>900</td>\n",
       "      <td>850</td>\n",
       "      <td>860</td>\n",
       "      <td>1</td>\n",
       "      <td>0</td>\n",
       "      <td>NaN</td>\n",
       "      <td>NaN</td>\n",
       "      <td>515</td>\n",
       "      <td>515</td>\n",
       "      <td>513</td>\n",
       "      <td>513</td>\n",
       "      <td>514</td>\n",
       "      <td>NaN</td>\n",
       "      <td>24</td>\n",
       "      <td>24</td>\n",
       "      <td>NaN</td>\n",
       "      <td>0.28432</td>\n",
       "      <td>1.33433</td>\n",
       "      <td>0.25830</td>\n",
       "      <td>0.00960</td>\n",
       "      <td>0.00714</td>\n",
       "      <td>0.10216</td>\n",
       "      <td>0.12498</td>\n",
       "      <td>0.19266</td>\n",
       "      <td>0.02702</td>\n",
       "      <td>0.00456</td>\n",
       "      <td>0.00714</td>\n",
       "      <td>0.00553</td>\n",
       "      <td>0.01562</td>\n",
       "      <td>0.00892</td>\n",
       "      <td>0.00050</td>\n",
       "      <td>NaN</td>\n",
       "      <td>NaN</td>\n",
       "      <td>NaN</td>\n",
       "      <td>NaN</td>\n",
       "      <td>NaN</td>\n",
       "      <td>NaN</td>\n",
       "      <td>NaN</td>\n",
       "      <td>NaN</td>\n",
       "      <td>NaN</td>\n",
       "      <td>NaN</td>\n",
       "      <td>NaN</td>\n",
       "      <td>NaN</td>\n",
       "    </tr>\n",
       "    <tr>\n",
       "      <th>2</th>\n",
       "      <td>NaN</td>\n",
       "      <td>NaN</td>\n",
       "      <td>NaN</td>\n",
       "      <td>0.5</td>\n",
       "      <td>NaN</td>\n",
       "      <td>NaN</td>\n",
       "      <td>NaN</td>\n",
       "      <td>18ХМФБ</td>\n",
       "      <td>73.02</td>\n",
       "      <td>5.51</td>\n",
       "      <td>900</td>\n",
       "      <td>850</td>\n",
       "      <td>860</td>\n",
       "      <td>1</td>\n",
       "      <td>0</td>\n",
       "      <td>NaN</td>\n",
       "      <td>NaN</td>\n",
       "      <td>515</td>\n",
       "      <td>515</td>\n",
       "      <td>513</td>\n",
       "      <td>513</td>\n",
       "      <td>514</td>\n",
       "      <td>NaN</td>\n",
       "      <td>24</td>\n",
       "      <td>24</td>\n",
       "      <td>NaN</td>\n",
       "      <td>0.17656</td>\n",
       "      <td>0.57057</td>\n",
       "      <td>0.27012</td>\n",
       "      <td>0.00848</td>\n",
       "      <td>0.00582</td>\n",
       "      <td>0.99551</td>\n",
       "      <td>0.12524</td>\n",
       "      <td>0.17330</td>\n",
       "      <td>0.03268</td>\n",
       "      <td>0.07311</td>\n",
       "      <td>0.01323</td>\n",
       "      <td>0.04006</td>\n",
       "      <td>0.14019</td>\n",
       "      <td>0.00834</td>\n",
       "      <td>NaN</td>\n",
       "      <td>NaN</td>\n",
       "      <td>NaN</td>\n",
       "      <td>NaN</td>\n",
       "      <td>NaN</td>\n",
       "      <td>NaN</td>\n",
       "      <td>NaN</td>\n",
       "      <td>NaN</td>\n",
       "      <td>NaN</td>\n",
       "      <td>NaN</td>\n",
       "      <td>NaN</td>\n",
       "      <td>NaN</td>\n",
       "      <td>NaN</td>\n",
       "    </tr>\n",
       "    <tr>\n",
       "      <th>3</th>\n",
       "      <td>NaN</td>\n",
       "      <td>NaN</td>\n",
       "      <td>NaN</td>\n",
       "      <td>0.5</td>\n",
       "      <td>NaN</td>\n",
       "      <td>NaN</td>\n",
       "      <td>NaN</td>\n",
       "      <td>18ХМФБ</td>\n",
       "      <td>73.02</td>\n",
       "      <td>5.51</td>\n",
       "      <td>900</td>\n",
       "      <td>850</td>\n",
       "      <td>860</td>\n",
       "      <td>1</td>\n",
       "      <td>0</td>\n",
       "      <td>NaN</td>\n",
       "      <td>NaN</td>\n",
       "      <td>515</td>\n",
       "      <td>515</td>\n",
       "      <td>513</td>\n",
       "      <td>513</td>\n",
       "      <td>514</td>\n",
       "      <td>NaN</td>\n",
       "      <td>24</td>\n",
       "      <td>24</td>\n",
       "      <td>NaN</td>\n",
       "      <td>0.17656</td>\n",
       "      <td>0.57057</td>\n",
       "      <td>0.27012</td>\n",
       "      <td>0.00848</td>\n",
       "      <td>0.00582</td>\n",
       "      <td>0.99551</td>\n",
       "      <td>0.12524</td>\n",
       "      <td>0.17330</td>\n",
       "      <td>0.03268</td>\n",
       "      <td>0.07311</td>\n",
       "      <td>0.01323</td>\n",
       "      <td>0.04006</td>\n",
       "      <td>0.14019</td>\n",
       "      <td>0.00834</td>\n",
       "      <td>NaN</td>\n",
       "      <td>NaN</td>\n",
       "      <td>NaN</td>\n",
       "      <td>NaN</td>\n",
       "      <td>NaN</td>\n",
       "      <td>NaN</td>\n",
       "      <td>NaN</td>\n",
       "      <td>NaN</td>\n",
       "      <td>NaN</td>\n",
       "      <td>NaN</td>\n",
       "      <td>NaN</td>\n",
       "      <td>NaN</td>\n",
       "      <td>NaN</td>\n",
       "    </tr>\n",
       "    <tr>\n",
       "      <th>4</th>\n",
       "      <td>NaN</td>\n",
       "      <td>NaN</td>\n",
       "      <td>NaN</td>\n",
       "      <td>0.5</td>\n",
       "      <td>NaN</td>\n",
       "      <td>NaN</td>\n",
       "      <td>NaN</td>\n",
       "      <td>13ХФА</td>\n",
       "      <td>73.02</td>\n",
       "      <td>5.51</td>\n",
       "      <td>900</td>\n",
       "      <td>850</td>\n",
       "      <td>860</td>\n",
       "      <td>1</td>\n",
       "      <td>0</td>\n",
       "      <td>NaN</td>\n",
       "      <td>NaN</td>\n",
       "      <td>515</td>\n",
       "      <td>515</td>\n",
       "      <td>513</td>\n",
       "      <td>513</td>\n",
       "      <td>514</td>\n",
       "      <td>NaN</td>\n",
       "      <td>24</td>\n",
       "      <td>24</td>\n",
       "      <td>NaN</td>\n",
       "      <td>0.14293</td>\n",
       "      <td>0.53463</td>\n",
       "      <td>0.27399</td>\n",
       "      <td>0.00827</td>\n",
       "      <td>0.00402</td>\n",
       "      <td>0.55438</td>\n",
       "      <td>0.08593</td>\n",
       "      <td>0.11121</td>\n",
       "      <td>0.03223</td>\n",
       "      <td>0.05289</td>\n",
       "      <td>0.00170</td>\n",
       "      <td>0.00355</td>\n",
       "      <td>0.00700</td>\n",
       "      <td>0.00620</td>\n",
       "      <td>0.00094</td>\n",
       "      <td>NaN</td>\n",
       "      <td>NaN</td>\n",
       "      <td>NaN</td>\n",
       "      <td>NaN</td>\n",
       "      <td>NaN</td>\n",
       "      <td>NaN</td>\n",
       "      <td>NaN</td>\n",
       "      <td>NaN</td>\n",
       "      <td>NaN</td>\n",
       "      <td>NaN</td>\n",
       "      <td>NaN</td>\n",
       "      <td>NaN</td>\n",
       "    </tr>\n",
       "  </tbody>\n",
       "</table>\n",
       "</div>"
      ],
      "text/plain": [
       "  № плавки  № партии Дата форм. цехом  Тип предела текучести (1186)  \\\n",
       "0   8f4022  806169.0       13.06.2018                           0.5   \n",
       "1      NaN       NaN              NaN                           0.5   \n",
       "2      NaN       NaN              NaN                           0.5   \n",
       "3      NaN       NaN              NaN                           0.5   \n",
       "4      NaN       NaN              NaN                           0.5   \n",
       "\n",
       "   Врем. сопротивление  Предел текучести НД (гост, ту) марка стали  диаметр  \\\n",
       "0             68.72449         51.020408         ТУ 21        30Г2    73.02   \n",
       "1                  NaN               NaN           NaN        30Г2    73.02   \n",
       "2                  NaN               NaN           NaN      18ХМФБ    73.02   \n",
       "3                  NaN               NaN           NaN      18ХМФБ    73.02   \n",
       "4                  NaN               NaN           NaN       13ХФА    73.02   \n",
       "\n",
       "   толщина стенки  1 зона по ВТР закалка  2 зона по ВТР закалка  \\\n",
       "0            5.51                    900                    850   \n",
       "1            5.51                    900                    850   \n",
       "2            5.51                    900                    850   \n",
       "3            5.51                    900                    850   \n",
       "4            5.51                    900                    850   \n",
       "\n",
       "   3 зона по ВТР закалка  Скорость прохождения трубы через спрейер, м/с  \\\n",
       "0                    860                                              1   \n",
       "1                    860                                              1   \n",
       "2                    860                                              1   \n",
       "3                    860                                              1   \n",
       "4                    860                                              1   \n",
       "\n",
       "   t˚ C трубы после спреера  время выдержки в закалочной ванне, сек.  \\\n",
       "0                         0                                      NaN   \n",
       "1                         0                                      NaN   \n",
       "2                         0                                      NaN   \n",
       "3                         0                                      NaN   \n",
       "4                         0                                      NaN   \n",
       "\n",
       "   t˚ C трубы после ванны  1 зона ВТР и уставка отпуск  \\\n",
       "0                     NaN                          515   \n",
       "1                     NaN                          515   \n",
       "2                     NaN                          515   \n",
       "3                     NaN                          515   \n",
       "4                     NaN                          515   \n",
       "\n",
       "   2 зона ВТР и уставка отпуск  3 зона ВТР и уставка отпуск  \\\n",
       "0                          515                          513   \n",
       "1                          515                          513   \n",
       "2                          515                          513   \n",
       "3                          515                          513   \n",
       "4                          515                          513   \n",
       "\n",
       "   4 зона ВТР и уставка отпуск  5 зона ВТР и уставка отпуск  масса\\nтн  \\\n",
       "0                          513                          514   4.511429   \n",
       "1                          513                          514        NaN   \n",
       "2                          513                          514        NaN   \n",
       "3                          513                          514        NaN   \n",
       "4                          513                          514        NaN   \n",
       "\n",
       "   шаг балок закалочная печь, сек  шаг балок отпускная печь, сек Поставщик  \\\n",
       "0                              24                             24      ЭСПК   \n",
       "1                              24                             24       NaN   \n",
       "2                              24                             24       NaN   \n",
       "3                              24                             24       NaN   \n",
       "4                              24                             24       NaN   \n",
       "\n",
       "         C       Mn       Si        P        S       Cr       Ni       Cu  \\\n",
       "0  0.32000  1.26000  0.34000  0.02000  0.00900  0.15000  0.12000  0.19000   \n",
       "1  0.28432  1.33433  0.25830  0.00960  0.00714  0.10216  0.12498  0.19266   \n",
       "2  0.17656  0.57057  0.27012  0.00848  0.00582  0.99551  0.12524  0.17330   \n",
       "3  0.17656  0.57057  0.27012  0.00848  0.00582  0.99551  0.12524  0.17330   \n",
       "4  0.14293  0.53463  0.27399  0.00827  0.00402  0.55438  0.08593  0.11121   \n",
       "\n",
       "        Al        V       Ti       Nb       Mo        N        B       ICD  \\\n",
       "0  0.03000  0.00500  0.01000  0.00300  0.02000  0.01100  0.00000  1.793095   \n",
       "1  0.02702  0.00456  0.00714  0.00553  0.01562  0.00892  0.00050       NaN   \n",
       "2  0.03268  0.07311  0.01323  0.04006  0.14019  0.00834      NaN       NaN   \n",
       "3  0.03268  0.07311  0.01323  0.04006  0.14019  0.00834      NaN       NaN   \n",
       "4  0.03223  0.05289  0.00170  0.00355  0.00700  0.00620  0.00094       NaN   \n",
       "\n",
       "     C-coef  Параметр закалка  Параметр отпуск  Параметр отпуск новый  \\\n",
       "0  0.585667        839.520002        15.359181              49.510676   \n",
       "1       NaN               NaN              NaN                    NaN   \n",
       "2       NaN               NaN              NaN                    NaN   \n",
       "3       NaN               NaN              NaN                    NaN   \n",
       "4       NaN               NaN              NaN                    NaN   \n",
       "\n",
       "   Параметр отпуск новый 2  Параметр отпуск новый V  Отношение      T  \\\n",
       "0                 8.889781                 9.151371    0.74239  855.0   \n",
       "1                      NaN                      NaN        NaN    NaN   \n",
       "2                      NaN                      NaN        NaN    NaN   \n",
       "3                      NaN                      NaN        NaN    NaN   \n",
       "4                      NaN                      NaN        NaN    NaN   \n",
       "\n",
       "   sum_piXi   sum_qiXi  Величина зерна  \n",
       "0 -5.336921 -47628.302       14.834143  \n",
       "1       NaN        NaN             NaN  \n",
       "2       NaN        NaN             NaN  \n",
       "3       NaN        NaN             NaN  \n",
       "4       NaN        NaN             NaN  "
      ]
     },
     "execution_count": 280,
     "metadata": {},
     "output_type": "execute_result"
    }
   ],
   "source": [
    "df"
   ]
  },
  {
   "cell_type": "code",
   "execution_count": 242,
   "metadata": {},
   "outputs": [
    {
     "data": {
      "text/plain": [
       "{'Al': {1: 0.02702},\n",
       " 'B': {1: 0.0005},\n",
       " 'C': {1: 0.28431999999999996},\n",
       " 'Cr': {1: 0.10216},\n",
       " 'Cu': {1: 0.19266},\n",
       " 'Mn': {1: 1.33433},\n",
       " 'Mo': {1: 0.015619999999999998},\n",
       " 'N': {1: 0.00892},\n",
       " 'Nb': {1: 0.005529999999999999},\n",
       " 'Ni': {1: 0.12498},\n",
       " 'P': {1: 0.0096},\n",
       " 'S': {1: 0.0071400000000000005},\n",
       " 'Si': {1: 0.2583},\n",
       " 'Ti': {1: 0.0071400000000000005},\n",
       " 'V': {1: 0.00456}}"
      ]
     },
     "execution_count": 242,
     "metadata": {},
     "output_type": "execute_result"
    }
   ],
   "source": [
    "chem.loc[chem['марка стали']==mark, col_chem].to_dict()"
   ]
  },
  {
   "cell_type": "code",
   "execution_count": 249,
   "metadata": {},
   "outputs": [
    {
     "data": {
      "text/html": [
       "<div>\n",
       "<style scoped>\n",
       "    .dataframe tbody tr th:only-of-type {\n",
       "        vertical-align: middle;\n",
       "    }\n",
       "\n",
       "    .dataframe tbody tr th {\n",
       "        vertical-align: top;\n",
       "    }\n",
       "\n",
       "    .dataframe thead th {\n",
       "        text-align: right;\n",
       "    }\n",
       "</style>\n",
       "<table border=\"1\" class=\"dataframe\">\n",
       "  <thead>\n",
       "    <tr style=\"text-align: right;\">\n",
       "      <th></th>\n",
       "      <th>C</th>\n",
       "      <th>Mn</th>\n",
       "      <th>Si</th>\n",
       "      <th>P</th>\n",
       "      <th>S</th>\n",
       "      <th>Cr</th>\n",
       "      <th>Ni</th>\n",
       "      <th>Cu</th>\n",
       "      <th>Al</th>\n",
       "      <th>V</th>\n",
       "      <th>Ti</th>\n",
       "      <th>Nb</th>\n",
       "      <th>Mo</th>\n",
       "      <th>N</th>\n",
       "      <th>B</th>\n",
       "    </tr>\n",
       "  </thead>\n",
       "  <tbody>\n",
       "    <tr>\n",
       "      <th>2</th>\n",
       "      <td>NaN</td>\n",
       "      <td>NaN</td>\n",
       "      <td>NaN</td>\n",
       "      <td>NaN</td>\n",
       "      <td>NaN</td>\n",
       "      <td>NaN</td>\n",
       "      <td>NaN</td>\n",
       "      <td>NaN</td>\n",
       "      <td>NaN</td>\n",
       "      <td>NaN</td>\n",
       "      <td>NaN</td>\n",
       "      <td>NaN</td>\n",
       "      <td>NaN</td>\n",
       "      <td>NaN</td>\n",
       "      <td>NaN</td>\n",
       "    </tr>\n",
       "    <tr>\n",
       "      <th>3</th>\n",
       "      <td>0.17656</td>\n",
       "      <td>0.57057</td>\n",
       "      <td>0.27012</td>\n",
       "      <td>0.00848</td>\n",
       "      <td>0.00582</td>\n",
       "      <td>0.99551</td>\n",
       "      <td>0.12524</td>\n",
       "      <td>0.1733</td>\n",
       "      <td>0.03268</td>\n",
       "      <td>0.07311</td>\n",
       "      <td>0.01323</td>\n",
       "      <td>0.04006</td>\n",
       "      <td>0.14019</td>\n",
       "      <td>0.00834</td>\n",
       "      <td>NaN</td>\n",
       "    </tr>\n",
       "  </tbody>\n",
       "</table>\n",
       "</div>"
      ],
      "text/plain": [
       "         C       Mn       Si        P        S       Cr       Ni      Cu  \\\n",
       "2      NaN      NaN      NaN      NaN      NaN      NaN      NaN     NaN   \n",
       "3  0.17656  0.57057  0.27012  0.00848  0.00582  0.99551  0.12524  0.1733   \n",
       "\n",
       "        Al        V       Ti       Nb       Mo        N   B  \n",
       "2      NaN      NaN      NaN      NaN      NaN      NaN NaN  \n",
       "3  0.03268  0.07311  0.01323  0.04006  0.14019  0.00834 NaN  "
      ]
     },
     "execution_count": 249,
     "metadata": {},
     "output_type": "execute_result"
    }
   ],
   "source": [
    "df.loc[df['марка стали']=='18ХМФБ', col_chem].fillna(chem.loc[chem['марка стали']=='18ХМФБ', col_chem].to_dict())"
   ]
  },
  {
   "cell_type": "code",
   "execution_count": 113,
   "metadata": {
    "scrolled": true
   },
   "outputs": [
    {
     "data": {
      "text/plain": [
       "(72, 17)"
      ]
     },
     "execution_count": 113,
     "metadata": {},
     "output_type": "execute_result"
    }
   ],
   "source": [
    "chem.shape"
   ]
  },
  {
   "cell_type": "code",
   "execution_count": 41,
   "metadata": {},
   "outputs": [
    {
     "data": {
      "text/plain": [
       "'8f4022'"
      ]
     },
     "execution_count": 41,
     "metadata": {},
     "output_type": "execute_result"
    }
   ],
   "source": [
    "chem.iloc[0,0]"
   ]
  },
  {
   "cell_type": "code",
   "execution_count": 69,
   "metadata": {
    "collapsed": true
   },
   "outputs": [],
   "source": [
    "def mean_chem(df):\n",
    "    mean = pd.read_csv('DATA/prepared/mean_chem_steel.csv')\n",
    "    for i in range(len(df.index)):\n",
    "        for j in range(len(mean.index)):\n",
    "            if (df.iloc[i, :]['марка стали'] == mean.iloc[j, :]['марка стали']):\n",
    "                df.loc[i, ls_chem] = mean.loc[j, ls_chem]\n",
    "    return df"
   ]
  },
  {
   "cell_type": "code",
   "execution_count": 93,
   "metadata": {
    "collapsed": true,
    "scrolled": true
   },
   "outputs": [],
   "source": [
    "arr = []\n",
    "for i, j in zip(range(chem.shape[0]), ls_chem):\n",
    "    if pd.isnull(chem.loc[i,j]):\n",
    "        arr.append(i)"
   ]
  },
  {
   "cell_type": "code",
   "execution_count": 96,
   "metadata": {
    "scrolled": true
   },
   "outputs": [
    {
     "ename": "KeyError",
     "evalue": "\"Int64Index([1], dtype='int64') not in index\"",
     "output_type": "error",
     "traceback": [
      "\u001b[1;31m---------------------------------------------------------------------------\u001b[0m",
      "\u001b[1;31mKeyError\u001b[0m                                  Traceback (most recent call last)",
      "\u001b[1;32m<ipython-input-96-6483508f71b2>\u001b[0m in \u001b[0;36m<module>\u001b[1;34m()\u001b[0m\n\u001b[1;32m----> 1\u001b[1;33m \u001b[0mchem\u001b[0m\u001b[1;33m[\u001b[0m\u001b[0mchem\u001b[0m\u001b[1;33m.\u001b[0m\u001b[0mindex\u001b[0m\u001b[1;33m[\u001b[0m\u001b[0marr\u001b[0m\u001b[1;33m]\u001b[0m\u001b[1;33m]\u001b[0m\u001b[1;33m\u001b[0m\u001b[0m\n\u001b[0m",
      "\u001b[1;32mD:\\Repo\\Anaconda2\\envs\\myenv\\lib\\site-packages\\pandas\\core\\frame.py\u001b[0m in \u001b[0;36m__getitem__\u001b[1;34m(self, key)\u001b[0m\n\u001b[0;32m   2131\u001b[0m         \u001b[1;32mif\u001b[0m \u001b[0misinstance\u001b[0m\u001b[1;33m(\u001b[0m\u001b[0mkey\u001b[0m\u001b[1;33m,\u001b[0m \u001b[1;33m(\u001b[0m\u001b[0mSeries\u001b[0m\u001b[1;33m,\u001b[0m \u001b[0mnp\u001b[0m\u001b[1;33m.\u001b[0m\u001b[0mndarray\u001b[0m\u001b[1;33m,\u001b[0m \u001b[0mIndex\u001b[0m\u001b[1;33m,\u001b[0m \u001b[0mlist\u001b[0m\u001b[1;33m)\u001b[0m\u001b[1;33m)\u001b[0m\u001b[1;33m:\u001b[0m\u001b[1;33m\u001b[0m\u001b[0m\n\u001b[0;32m   2132\u001b[0m             \u001b[1;31m# either boolean or fancy integer index\u001b[0m\u001b[1;33m\u001b[0m\u001b[1;33m\u001b[0m\u001b[0m\n\u001b[1;32m-> 2133\u001b[1;33m             \u001b[1;32mreturn\u001b[0m \u001b[0mself\u001b[0m\u001b[1;33m.\u001b[0m\u001b[0m_getitem_array\u001b[0m\u001b[1;33m(\u001b[0m\u001b[0mkey\u001b[0m\u001b[1;33m)\u001b[0m\u001b[1;33m\u001b[0m\u001b[0m\n\u001b[0m\u001b[0;32m   2134\u001b[0m         \u001b[1;32melif\u001b[0m \u001b[0misinstance\u001b[0m\u001b[1;33m(\u001b[0m\u001b[0mkey\u001b[0m\u001b[1;33m,\u001b[0m \u001b[0mDataFrame\u001b[0m\u001b[1;33m)\u001b[0m\u001b[1;33m:\u001b[0m\u001b[1;33m\u001b[0m\u001b[0m\n\u001b[0;32m   2135\u001b[0m             \u001b[1;32mreturn\u001b[0m \u001b[0mself\u001b[0m\u001b[1;33m.\u001b[0m\u001b[0m_getitem_frame\u001b[0m\u001b[1;33m(\u001b[0m\u001b[0mkey\u001b[0m\u001b[1;33m)\u001b[0m\u001b[1;33m\u001b[0m\u001b[0m\n",
      "\u001b[1;32mD:\\Repo\\Anaconda2\\envs\\myenv\\lib\\site-packages\\pandas\\core\\frame.py\u001b[0m in \u001b[0;36m_getitem_array\u001b[1;34m(self, key)\u001b[0m\n\u001b[0;32m   2175\u001b[0m             \u001b[1;32mreturn\u001b[0m \u001b[0mself\u001b[0m\u001b[1;33m.\u001b[0m\u001b[0m_take\u001b[0m\u001b[1;33m(\u001b[0m\u001b[0mindexer\u001b[0m\u001b[1;33m,\u001b[0m \u001b[0maxis\u001b[0m\u001b[1;33m=\u001b[0m\u001b[1;36m0\u001b[0m\u001b[1;33m,\u001b[0m \u001b[0mconvert\u001b[0m\u001b[1;33m=\u001b[0m\u001b[1;32mFalse\u001b[0m\u001b[1;33m)\u001b[0m\u001b[1;33m\u001b[0m\u001b[0m\n\u001b[0;32m   2176\u001b[0m         \u001b[1;32melse\u001b[0m\u001b[1;33m:\u001b[0m\u001b[1;33m\u001b[0m\u001b[0m\n\u001b[1;32m-> 2177\u001b[1;33m             \u001b[0mindexer\u001b[0m \u001b[1;33m=\u001b[0m \u001b[0mself\u001b[0m\u001b[1;33m.\u001b[0m\u001b[0mloc\u001b[0m\u001b[1;33m.\u001b[0m\u001b[0m_convert_to_indexer\u001b[0m\u001b[1;33m(\u001b[0m\u001b[0mkey\u001b[0m\u001b[1;33m,\u001b[0m \u001b[0maxis\u001b[0m\u001b[1;33m=\u001b[0m\u001b[1;36m1\u001b[0m\u001b[1;33m)\u001b[0m\u001b[1;33m\u001b[0m\u001b[0m\n\u001b[0m\u001b[0;32m   2178\u001b[0m             \u001b[1;32mreturn\u001b[0m \u001b[0mself\u001b[0m\u001b[1;33m.\u001b[0m\u001b[0m_take\u001b[0m\u001b[1;33m(\u001b[0m\u001b[0mindexer\u001b[0m\u001b[1;33m,\u001b[0m \u001b[0maxis\u001b[0m\u001b[1;33m=\u001b[0m\u001b[1;36m1\u001b[0m\u001b[1;33m,\u001b[0m \u001b[0mconvert\u001b[0m\u001b[1;33m=\u001b[0m\u001b[1;32mTrue\u001b[0m\u001b[1;33m)\u001b[0m\u001b[1;33m\u001b[0m\u001b[0m\n\u001b[0;32m   2179\u001b[0m \u001b[1;33m\u001b[0m\u001b[0m\n",
      "\u001b[1;32mD:\\Repo\\Anaconda2\\envs\\myenv\\lib\\site-packages\\pandas\\core\\indexing.py\u001b[0m in \u001b[0;36m_convert_to_indexer\u001b[1;34m(self, obj, axis, is_setter)\u001b[0m\n\u001b[0;32m   1267\u001b[0m                 \u001b[1;32mif\u001b[0m \u001b[0mmask\u001b[0m\u001b[1;33m.\u001b[0m\u001b[0many\u001b[0m\u001b[1;33m(\u001b[0m\u001b[1;33m)\u001b[0m\u001b[1;33m:\u001b[0m\u001b[1;33m\u001b[0m\u001b[0m\n\u001b[0;32m   1268\u001b[0m                     raise KeyError('{mask} not in index'\n\u001b[1;32m-> 1269\u001b[1;33m                                    .format(mask=objarr[mask]))\n\u001b[0m\u001b[0;32m   1270\u001b[0m \u001b[1;33m\u001b[0m\u001b[0m\n\u001b[0;32m   1271\u001b[0m                 \u001b[1;32mreturn\u001b[0m \u001b[0m_values_from_object\u001b[0m\u001b[1;33m(\u001b[0m\u001b[0mindexer\u001b[0m\u001b[1;33m)\u001b[0m\u001b[1;33m\u001b[0m\u001b[0m\n",
      "\u001b[1;31mKeyError\u001b[0m: \"Int64Index([1], dtype='int64') not in index\""
     ]
    }
   ],
   "source": [
    "chem[chem.index[arr]]"
   ]
  },
  {
   "cell_type": "code",
   "execution_count": 87,
   "metadata": {},
   "outputs": [
    {
     "name": "stdout",
     "output_type": "stream",
     "text": [
      "0\n",
      "1\n",
      "2\n",
      "3\n",
      "4\n",
      "5\n",
      "6\n",
      "7\n",
      "8\n",
      "9\n",
      "10\n",
      "11\n",
      "12\n",
      "13\n",
      "14\n",
      "15\n",
      "16\n",
      "17\n",
      "18\n",
      "19\n",
      "20\n",
      "21\n",
      "22\n",
      "23\n",
      "24\n",
      "25\n",
      "26\n",
      "27\n",
      "28\n",
      "29\n",
      "30\n",
      "31\n",
      "32\n",
      "33\n",
      "34\n",
      "35\n",
      "36\n",
      "37\n",
      "38\n",
      "39\n",
      "40\n",
      "41\n",
      "42\n",
      "43\n",
      "44\n",
      "45\n",
      "46\n",
      "47\n",
      "48\n",
      "49\n",
      "50\n",
      "51\n",
      "52\n",
      "53\n",
      "54\n",
      "55\n",
      "56\n",
      "57\n",
      "58\n",
      "59\n",
      "60\n",
      "61\n",
      "62\n",
      "63\n",
      "64\n",
      "65\n",
      "66\n",
      "67\n",
      "68\n",
      "69\n",
      "70\n",
      "71\n",
      "72\n",
      "73\n",
      "74\n",
      "75\n",
      "76\n",
      "77\n",
      "78\n",
      "79\n",
      "80\n",
      "81\n",
      "82\n",
      "83\n",
      "84\n",
      "85\n",
      "86\n",
      "87\n",
      "88\n",
      "89\n",
      "90\n",
      "91\n",
      "92\n",
      "93\n",
      "94\n",
      "95\n",
      "96\n",
      "97\n",
      "98\n",
      "99\n",
      "100\n",
      "101\n",
      "102\n",
      "103\n",
      "104\n",
      "105\n"
     ]
    }
   ],
   "source": [
    "for i in range(len(a.values)):\n",
    "    print(i)\n",
    "#         for j in range(len(mean.index)):\n",
    "#             if (df.iloc[i, :]['марка стали'] == mean.iloc[j, :]['марка стали']):\n",
    "#                 df.loc[i, ls_chem] = mean.loc[j, ls_chem]"
   ]
  },
  {
   "cell_type": "code",
   "execution_count": 2,
   "metadata": {
    "scrolled": false
   },
   "outputs": [
    {
     "name": "stdout",
     "output_type": "stream",
     "text": [
      "importing Jupyter notebook from D:\\Repo\\PycharmProjects\\gitPNTZ\\PNTZ\\my_libs\\create_prepared_data.ipynb\n",
      "importing Jupyter notebook from D:\\Repo\\PycharmProjects\\gitPNTZ\\PNTZ\\my_libs\\df_converter.ipynb\n",
      "importing Jupyter notebook from D:\\Repo\\PycharmProjects\\gitPNTZ\\PNTZ\\my_libs\\calc_features.ipynb\n",
      "importing Jupyter notebook from D:\\Repo\\PycharmProjects\\gitPNTZ\\PNTZ\\my_libs\\data_paths.ipynb\n"
     ]
    }
   ],
   "source": [
    "import import_ipynb\n",
    "from my_libs.create_prepared_data import *\n",
    "from my_libs.calc_features import *"
   ]
  },
  {
   "cell_type": "code",
   "execution_count": 16,
   "metadata": {
    "scrolled": false
   },
   "outputs": [
    {
     "name": "stdout",
     "output_type": "stream",
     "text": [
      "объединяем испытания с режимами и химией (28272, 200)\n",
      "заполняем пустую химию средней (или нулями) (28272, 200)\n",
      "удаляем строки без химии (22775, 200)\n",
      "cчитаем все признаки (22775, 211)\n",
      "Сr>10 del  (22775, 211)\n",
      "(22775, 211)\n",
      "объединяем испытания с режимами и химией (28272, 189)\n",
      "заполняем пустую химию средней (или нулями) (28272, 189)\n",
      "удаляем строки без химии (1728, 189)\n",
      "cчитаем все признаки (1728, 200)\n",
      "Сr>10 del  (1728, 200)\n",
      "(1728, 200)\n"
     ]
    },
    {
     "name": "stderr",
     "output_type": "stream",
     "text": [
      "D:\\Repo\\PycharmProjects\\gitPNTZ\\PNTZ\\my_libs\\calc_features.ipynb:111: RuntimeWarning: divide by zero encountered in log10\n",
      "  \"    print(df.shape)\\n\",\n",
      "IOPub data rate exceeded.\n",
      "The notebook server will temporarily stop sending output\n",
      "to the client in order to avoid crashing it.\n",
      "To change this limit, set the config variable\n",
      "`--NotebookApp.iopub_data_rate_limit`.\n"
     ]
    }
   ],
   "source": [
    "create_prepared_data()"
   ]
  },
  {
   "cell_type": "code",
   "execution_count": 17,
   "metadata": {
    "collapsed": true
   },
   "outputs": [],
   "source": [
    "df = pd.read_excel('DATA/prepared/prepared_hard.xlsx')"
   ]
  },
  {
   "cell_type": "code",
   "execution_count": 36,
   "metadata": {
    "collapsed": true
   },
   "outputs": [],
   "source": [
    "df_v = pd.read_excel('DATA/prepared/prepared_hard_valid.xlsx') "
   ]
  },
  {
   "cell_type": "code",
   "execution_count": 37,
   "metadata": {
    "collapsed": true
   },
   "outputs": [],
   "source": [
    "def rep_gp(x):\n",
    "    x = str(x)\n",
    "    x = x.replace('L80 Тип 1', 'L80 тип 1')\n",
    "    x = x.replace('К52-1', 'К52/1') \n",
    "    x = x.replace('К50-1', 'К50/1')\n",
    "    x = x.replace('Т95 тип1', 'Т95 тип 1')\n",
    "    x = x.replace('К54-3', 'К54/3')  \n",
    "    x = x.replace('К60-3', 'К60/3') \n",
    "    x = x.replace('C 95', 'C95') \n",
    "    return x"
   ]
  },
  {
   "cell_type": "code",
   "execution_count": 40,
   "metadata": {},
   "outputs": [],
   "source": [
    "df['Гр. прочн.'] = df['Гр. прочн.'].apply(rep_gp)\n",
    "df_v['Гр. прочн.'] = df_v['Гр. прочн.'].apply(rep_gp)"
   ]
  },
  {
   "cell_type": "code",
   "execution_count": null,
   "metadata": {
    "collapsed": true
   },
   "outputs": [],
   "source": [
    "df.to_excel('DATA/prepared/prepared_hard.xlsx')"
   ]
  },
  {
   "cell_type": "code",
   "execution_count": 42,
   "metadata": {
    "collapsed": true
   },
   "outputs": [],
   "source": [
    "df_v.to_excel('DATA/prepared/prepared_hard_valid.xlsx')"
   ]
  },
  {
   "cell_type": "code",
   "execution_count": null,
   "metadata": {
    "collapsed": true
   },
   "outputs": [],
   "source": []
  },
  {
   "cell_type": "code",
   "execution_count": 41,
   "metadata": {},
   "outputs": [
    {
     "data": {
      "text/plain": [
       "N80 тип Q    410\n",
       "Л            336\n",
       "Е            210\n",
       "R95          177\n",
       "J55           94\n",
       "К72           94\n",
       "L80 тип 1     81\n",
       "К52           53\n",
       "К             52\n",
       "Р             49\n",
       "К48           39\n",
       "P110          38\n",
       "К50/1         20\n",
       "L80SS         18\n",
       "К48/3         16\n",
       "Д             15\n",
       "М             12\n",
       "C90 тип 1     10\n",
       "К52/1          2\n",
       "nan            2\n",
       "Name: Гр. прочн., dtype: int64"
      ]
     },
     "execution_count": 41,
     "metadata": {},
     "output_type": "execute_result"
    }
   ],
   "source": [
    "df_v['Гр. прочн.'].value_counts()"
   ]
  },
  {
   "cell_type": "code",
   "execution_count": 22,
   "metadata": {},
   "outputs": [],
   "source": [
    "from my_libs.calc_features import *"
   ]
  },
  {
   "cell_type": "code",
   "execution_count": 16,
   "metadata": {},
   "outputs": [
    {
     "name": "stderr",
     "output_type": "stream",
     "text": [
      "C:\\ProgramData\\Anaconda3\\lib\\site-packages\\IPython\\core\\interactiveshell.py:2785: DtypeWarning: Columns (2) have mixed types. Specify dtype option on import or set low_memory=False.\n",
      "  interactivity=interactivity, compiler=compiler, result=result)\n"
     ]
    }
   ],
   "source": [
    "df = pd.read_csv('prepared_to_saw.csv')"
   ]
  },
  {
   "cell_type": "code",
   "execution_count": 23,
   "metadata": {},
   "outputs": [
    {
     "name": "stderr",
     "output_type": "stream",
     "text": [
      "C:\\Users\\kseniya.yuldasheva\\Desktop\\gitPNTZtoyuk_1\\gitPNTZ\\PNTZ\\my_libs\\calc_features.ipynb:41: SettingWithCopyWarning: \n",
      "A value is trying to be set on a copy of a slice from a DataFrame\n",
      "\n",
      "See the caveats in the documentation: http://pandas.pydata.org/pandas-docs/stable/indexing.html#indexing-view-versus-copy\n",
      "  \"def mean_chem(df):\\n\",\n",
      "C:\\Users\\kseniya.yuldasheva\\Desktop\\gitPNTZtoyuk_1\\gitPNTZ\\PNTZ\\my_libs\\calc_features.ipynb:38: SettingWithCopyWarning: \n",
      "A value is trying to be set on a copy of a slice from a DataFrame\n",
      "\n",
      "See the caveats in the documentation: http://pandas.pydata.org/pandas-docs/stable/indexing.html#indexing-view-versus-copy\n",
      "  \"                f.write('Строка ' + str(i+1) + ' удалена из-за пустых столбцов: ' + str(arr_col) + '\\\\n')\\n\",\n",
      "C:\\ProgramData\\Anaconda3\\lib\\site-packages\\pandas\\core\\indexing.py:189: SettingWithCopyWarning: \n",
      "A value is trying to be set on a copy of a slice from a DataFrame\n",
      "\n",
      "See the caveats in the documentation: http://pandas.pydata.org/pandas-docs/stable/indexing.html#indexing-view-versus-copy\n",
      "  self._setitem_with_indexer(indexer, value)\n"
     ]
    }
   ],
   "source": [
    "df = len_pipe(df)"
   ]
  },
  {
   "cell_type": "code",
   "execution_count": 24,
   "metadata": {},
   "outputs": [
    {
     "data": {
      "text/plain": [
       "(28262, 66)"
      ]
     },
     "execution_count": 24,
     "metadata": {},
     "output_type": "execute_result"
    }
   ],
   "source": [
    "df.shape"
   ]
  },
  {
   "cell_type": "code",
   "execution_count": 25,
   "metadata": {},
   "outputs": [
    {
     "data": {
      "text/plain": [
       "Index(['Unnamed: 0', 'Врем. сопротивление', 'ГОСТ, ТУ', 'Предел текучести',\n",
       "       'Тип предела текучести (1186)', '№ партии', '№ плавки',\n",
       "       '1 зона ВТР и уставка отпуск', '1 зона по ВТР закалка',\n",
       "       '1 зона уставка закалка', '1 зона фактическая температура закалка',\n",
       "       '1 зона фактическая температура отпуск', '2 зона ВТР и уставка отпуск',\n",
       "       '2 зона по ВТР закалка', '3 зона ВТР и уставка отпуск',\n",
       "       '3 зона по ВТР закалка', '3 зона уставка закалка',\n",
       "       '3 зона фактическая температура закалка',\n",
       "       '3 зона фактическая температура отпуск', '4 зона ВТР и уставка отпуск',\n",
       "       '5 зона ВТР и уставка отпуск', '5 зона фактическая температура отпуск',\n",
       "       't˚ C воды в закалочной ванне', 't˚ C трубы после ванны',\n",
       "       't˚ C трубы после спреера', 'Дата термообработки', 'НД (гост, ту)',\n",
       "       'Расход воды на закалочный спрейер, м3',\n",
       "       'Скорость прохождения трубы через спрейер, м/с',\n",
       "       'Температура трубы на выгрузке из печи закалки',\n",
       "       'Температура трубы на выгрузке из печи отпуска',\n",
       "       'время выдержки в закалочной ванне, сек.', 'диаметр', 'марка стали',\n",
       "       'масса\\r\\nтн', 'толщина стенки', 'шаг балок закалочная печь, сек',\n",
       "       'шаг балок отпускная печь, сек', 'Поставщик', 'C', 'Mn', 'Si', 'P', 'S',\n",
       "       'Cr', 'Ni', 'Cu', 'Al', 'V', 'Ti', 'Nb', 'Mo', 'N', 'B', 'ICD',\n",
       "       'C-coef', 'Параметр закалка', 'Параметр отпуск',\n",
       "       'Параметр отпуск новый', 'Параметр отпуск новый 2',\n",
       "       'Параметр отпуск новый V', 'T', 'sum_piXi', 'sum_qiXi',\n",
       "       'Величина зерна', 'длина трубы'],\n",
       "      dtype='object')"
      ]
     },
     "execution_count": 25,
     "metadata": {},
     "output_type": "execute_result"
    }
   ],
   "source": [
    "df.columns"
   ]
  },
  {
   "cell_type": "code",
   "execution_count": 28,
   "metadata": {},
   "outputs": [],
   "source": [
    "bath = df[~df['время выдержки в закалочной ванне, сек.'].isnull()].copy()"
   ]
  },
  {
   "cell_type": "code",
   "execution_count": 29,
   "metadata": {},
   "outputs": [
    {
     "data": {
      "image/png": "[encoded data removed]",
      "text/plain": [
       "<Figure size 432x288 with 2 Axes>"
      ]
     },
     "metadata": {},
     "output_type": "display_data"
    }
   ],
   "source": [
    "import seaborn as sns\n",
    "df = pd.DataFrame(np.random.random((5,5)), columns=[\"a\",\"b\",\"c\",\"d\",\"e\"])\n",
    " \n",
    "# Default heatmap: just a visualization of this square matrix\n",
    "p1 = sns.heatmap(df)"
   ]
  }
 ],
 "metadata": {
  "kernelspec": {
   "display_name": "Python 3",
   "language": "python",
   "name": "python3"
  },
  "language_info": {
   "codemirror_mode": {
    "name": "ipython",
    "version": 3
   },
   "file_extension": ".py",
   "mimetype": "text/x-python",
   "name": "python",
   "nbconvert_exporter": "python",
   "pygments_lexer": "ipython3",
   "version": "3.6.5"
  }
 },
 "nbformat": 4,
 "nbformat_minor": 2
}
